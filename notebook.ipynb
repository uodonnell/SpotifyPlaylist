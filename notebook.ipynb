{
 "cells": [
  {
   "cell_type": "markdown",
   "source": "## Spotify Playlist Generator",
   "metadata": {
    "formattedRanges": [],
    "cell_id": "f1ed3df4388a4308a6bcbc6198e3b868",
    "tags": [],
    "is_collapsed": false,
    "deepnote_cell_type": "text-cell-h2"
   }
  },
  {
   "cell_type": "markdown",
   "source": "Import/download necessary libraries",
   "metadata": {
    "formattedRanges": [],
    "cell_id": "0c1d907afe3f4bf4806397dbb07984d8",
    "tags": [],
    "is_collapsed": false,
    "deepnote_cell_type": "text-cell-p"
   }
  },
  {
   "cell_type": "code",
   "metadata": {
    "cell_id": "a0cbdbdf90634ecf8e09700bdbfd7677",
    "tags": [],
    "deepnote_to_be_reexecuted": false,
    "source_hash": "2f59421c",
    "execution_start": 1655837290783,
    "execution_millis": 3611,
    "deepnote_cell_type": "code",
    "deepnote_cell_height": 701
   },
   "source": "pip install -r requirements.txt",
   "execution_count": 1,
   "outputs": [
    {
     "name": "stdout",
     "text": "Requirement already satisfied: pandas in /shared-libs/python3.7/py/lib/python3.7/site-packages (from -r requirements.txt (line 1)) (1.2.5)\nRequirement already satisfied: matplotlib in /shared-libs/python3.7/py/lib/python3.7/site-packages (from -r requirements.txt (line 2)) (3.5.2)\nRequirement already satisfied: bs4 in /usr/local/lib/python3.7/site-packages (from -r requirements.txt (line 3)) (0.0.1)\nRequirement already satisfied: requests in /shared-libs/python3.7/py/lib/python3.7/site-packages (from -r requirements.txt (line 4)) (2.27.1)\nRequirement already satisfied: scipy in /shared-libs/python3.7/py/lib/python3.7/site-packages (from -r requirements.txt (line 5)) (1.7.3)\nRequirement already satisfied: spotipy in /usr/local/lib/python3.7/site-packages (from -r requirements.txt (line 6)) (2.20.0)\nRequirement already satisfied: lyricsgenius in /usr/local/lib/python3.7/site-packages (from -r requirements.txt (line 7)) (3.0.1)\nRequirement already satisfied: pathlib in /usr/local/lib/python3.7/site-packages (from -r requirements.txt (line 8)) (1.0.1)\nRequirement already satisfied: nltk in /shared-libs/python3.7/py/lib/python3.7/site-packages (from -r requirements.txt (line 9)) (3.7)\nRequirement already satisfied: numpy>=1.16.5 in /shared-libs/python3.7/py/lib/python3.7/site-packages (from pandas->-r requirements.txt (line 1)) (1.21.6)\nRequirement already satisfied: pytz>=2017.3 in /shared-libs/python3.7/py/lib/python3.7/site-packages (from pandas->-r requirements.txt (line 1)) (2022.1)\nRequirement already satisfied: python-dateutil>=2.7.3 in /shared-libs/python3.7/py-core/lib/python3.7/site-packages (from pandas->-r requirements.txt (line 1)) (2.8.2)\nRequirement already satisfied: kiwisolver>=1.0.1 in /shared-libs/python3.7/py/lib/python3.7/site-packages (from matplotlib->-r requirements.txt (line 2)) (1.4.2)\nRequirement already satisfied: pillow>=6.2.0 in /shared-libs/python3.7/py/lib/python3.7/site-packages (from matplotlib->-r requirements.txt (line 2)) (9.1.1)\nRequirement already satisfied: packaging>=20.0 in /shared-libs/python3.7/py/lib/python3.7/site-packages (from matplotlib->-r requirements.txt (line 2)) (21.3)\nRequirement already satisfied: pyparsing>=2.2.1 in /shared-libs/python3.7/py/lib/python3.7/site-packages (from matplotlib->-r requirements.txt (line 2)) (3.0.9)\nRequirement already satisfied: fonttools>=4.22.0 in /shared-libs/python3.7/py/lib/python3.7/site-packages (from matplotlib->-r requirements.txt (line 2)) (4.33.3)\nRequirement already satisfied: cycler>=0.10 in /shared-libs/python3.7/py/lib/python3.7/site-packages (from matplotlib->-r requirements.txt (line 2)) (0.11.0)\nRequirement already satisfied: beautifulsoup4 in /usr/local/lib/python3.7/site-packages (from bs4->-r requirements.txt (line 3)) (4.11.1)\nRequirement already satisfied: certifi>=2017.4.17 in /shared-libs/python3.7/py/lib/python3.7/site-packages (from requests->-r requirements.txt (line 4)) (2022.5.18.1)\nRequirement already satisfied: charset-normalizer~=2.0.0 in /shared-libs/python3.7/py-core/lib/python3.7/site-packages (from requests->-r requirements.txt (line 4)) (2.0.12)\nRequirement already satisfied: idna<4,>=2.5 in /shared-libs/python3.7/py-core/lib/python3.7/site-packages (from requests->-r requirements.txt (line 4)) (3.3)\nRequirement already satisfied: urllib3<1.27,>=1.21.1 in /shared-libs/python3.7/py/lib/python3.7/site-packages (from requests->-r requirements.txt (line 4)) (1.26.9)\nRequirement already satisfied: six>=1.15.0 in /shared-libs/python3.7/py-core/lib/python3.7/site-packages (from spotipy->-r requirements.txt (line 6)) (1.16.0)\nRequirement already satisfied: redis>=3.5.3 in /usr/local/lib/python3.7/site-packages (from spotipy->-r requirements.txt (line 6)) (4.3.3)\nRequirement already satisfied: click in /shared-libs/python3.7/py/lib/python3.7/site-packages (from nltk->-r requirements.txt (line 9)) (8.1.3)\nRequirement already satisfied: tqdm in /shared-libs/python3.7/py/lib/python3.7/site-packages (from nltk->-r requirements.txt (line 9)) (4.64.0)\nRequirement already satisfied: joblib in /shared-libs/python3.7/py/lib/python3.7/site-packages (from nltk->-r requirements.txt (line 9)) (1.1.0)\nRequirement already satisfied: regex>=2021.8.3 in /shared-libs/python3.7/py/lib/python3.7/site-packages (from nltk->-r requirements.txt (line 9)) (2022.6.2)\nRequirement already satisfied: soupsieve>1.2 in /usr/local/lib/python3.7/site-packages (from beautifulsoup4->bs4->-r requirements.txt (line 3)) (2.3.2.post1)\nRequirement already satisfied: typing-extensions in /shared-libs/python3.7/py-core/lib/python3.7/site-packages (from kiwisolver>=1.0.1->matplotlib->-r requirements.txt (line 2)) (4.2.0)\nRequirement already satisfied: importlib-metadata>=1.0 in /shared-libs/python3.7/py-core/lib/python3.7/site-packages (from redis>=3.5.3->spotipy->-r requirements.txt (line 6)) (4.11.4)\nRequirement already satisfied: deprecated>=1.2.3 in /usr/local/lib/python3.7/site-packages (from redis>=3.5.3->spotipy->-r requirements.txt (line 6)) (1.2.13)\nRequirement already satisfied: async-timeout>=4.0.2 in /shared-libs/python3.7/py-core/lib/python3.7/site-packages (from redis>=3.5.3->spotipy->-r requirements.txt (line 6)) (4.0.2)\nRequirement already satisfied: wrapt<2,>=1.10 in /shared-libs/python3.7/py/lib/python3.7/site-packages (from deprecated>=1.2.3->redis>=3.5.3->spotipy->-r requirements.txt (line 6)) (1.14.1)\nRequirement already satisfied: zipp>=0.5 in /shared-libs/python3.7/py-core/lib/python3.7/site-packages (from importlib-metadata>=1.0->redis>=3.5.3->spotipy->-r requirements.txt (line 6)) (3.8.0)\n\u001b[33mWARNING: Running pip as the 'root' user can result in broken permissions and conflicting behaviour with the system package manager. It is recommended to use a virtual environment instead: https://pip.pypa.io/warnings/venv\u001b[0m\u001b[33m\n\u001b[0m\u001b[33mWARNING: You are using pip version 22.0.4; however, version 22.1.2 is available.\nYou should consider upgrading via the '/usr/local/bin/python -m pip install --upgrade pip' command.\u001b[0m\u001b[33m\n\u001b[0mNote: you may need to restart the kernel to use updated packages.\n",
     "output_type": "stream"
    }
   ]
  },
  {
   "cell_type": "code",
   "metadata": {
    "cell_id": "86f2b86c7c544016990a4db3f1aea3c4",
    "tags": [],
    "deepnote_to_be_reexecuted": false,
    "source_hash": "8f75642c",
    "execution_start": 1655846492100,
    "execution_millis": 71,
    "owner_user_id": "f4dc0182-7c34-4962-a1d6-446635695a61",
    "deepnote_cell_type": "code",
    "deepnote_cell_height": 530.6875,
    "deepnote_output_heights": [
     155.5
    ]
   },
   "source": "import pandas as pd\nimport numpy as np\nimport spotipy\n#from spotipy.oauth2 import SpotifyClientCredentials\nfrom bs4 import BeautifulSoup\nimport requests\nimport sys\nimport os\nimport re\nfrom track_info import inject_song_id, search_for_song, initialize_client\nfrom spotify import make_playlist, initialize_auth\nfrom add_song import add_new_songs, update_df\n",
   "execution_count": 82,
   "outputs": [
    {
     "output_type": "error",
     "ename": "ImportError",
     "evalue": "cannot import name 'add_new_songs' from 'add_song' (/root/work/SpotifyPlaylist/add_song.py)",
     "traceback": [
      "\u001b[0;31m---------------------------------------------------------------------------\u001b[0m",
      "\u001b[0;31mImportError\u001b[0m                               Traceback (most recent call last)",
      "\u001b[0;32m<ipython-input-82-d4294d70ccc6>\u001b[0m in \u001b[0;36m<module>\u001b[0;34m\u001b[0m\n\u001b[1;32m     10\u001b[0m \u001b[0;32mfrom\u001b[0m \u001b[0mtrack_info\u001b[0m \u001b[0;32mimport\u001b[0m \u001b[0minject_song_id\u001b[0m\u001b[0;34m,\u001b[0m \u001b[0msearch_for_song\u001b[0m\u001b[0;34m,\u001b[0m \u001b[0minitialize_client\u001b[0m\u001b[0;34m\u001b[0m\u001b[0;34m\u001b[0m\u001b[0m\n\u001b[1;32m     11\u001b[0m \u001b[0;32mfrom\u001b[0m \u001b[0mspotify\u001b[0m \u001b[0;32mimport\u001b[0m \u001b[0mmake_playlist\u001b[0m\u001b[0;34m,\u001b[0m \u001b[0minitialize_auth\u001b[0m\u001b[0;34m\u001b[0m\u001b[0;34m\u001b[0m\u001b[0m\n\u001b[0;32m---> 12\u001b[0;31m \u001b[0;32mfrom\u001b[0m \u001b[0madd_song\u001b[0m \u001b[0;32mimport\u001b[0m \u001b[0madd_new_songs\u001b[0m\u001b[0;34m,\u001b[0m \u001b[0mupdate_df\u001b[0m\u001b[0;34m\u001b[0m\u001b[0;34m\u001b[0m\u001b[0m\n\u001b[0m",
      "\u001b[0;31mImportError\u001b[0m: cannot import name 'add_new_songs' from 'add_song' (/root/work/SpotifyPlaylist/add_song.py)"
     ]
    }
   ]
  },
  {
   "cell_type": "markdown",
   "source": "## Generate data frame to use",
   "metadata": {
    "formattedRanges": [],
    "cell_id": "eb6e6dd14d534ef99fd5678f9534f05d",
    "tags": [],
    "is_collapsed": false,
    "deepnote_cell_type": "text-cell-h2"
   }
  },
  {
   "cell_type": "markdown",
   "source": "The data is in a folder named \"lyrics/\" where there are about 5 songs from the top 500 artists ( you can view the collection process in 'lyric_collector.py'. The name of each file is the artist name, followed by a number, ranging from 1-5 corresponding to their 1st to 5th most popular songs. Each file contains both the song title on the first line, then the song lyrics on the remaining lines.",
   "metadata": {
    "formattedRanges": [],
    "cell_id": "e64ac21c845d44e59aa2d99f8817c56b",
    "tags": [],
    "is_collapsed": false,
    "deepnote_cell_type": "text-cell-p"
   }
  },
  {
   "cell_type": "markdown",
   "source": "The goal is to extract this information into a data frame with columns corresponding to artist name, song name, and lyrics.",
   "metadata": {
    "formattedRanges": [],
    "cell_id": "a2b4ec076344408d89556f406a394406",
    "tags": [],
    "is_collapsed": false,
    "deepnote_cell_type": "text-cell-p"
   }
  },
  {
   "cell_type": "code",
   "metadata": {
    "cell_id": "5c02da3c0bf2431ca501a719c8d50d02",
    "tags": [],
    "deepnote_to_be_reexecuted": false,
    "source_hash": "1f21d38",
    "execution_start": 1655837294570,
    "execution_millis": 45,
    "deepnote_cell_type": "code",
    "deepnote_cell_height": 351
   },
   "source": "def extract_info(text, doc_name, details):\n    # The format for Happy by Pharrell for example would be :\n    # Happy Lyrics\n    # {Song Lyrics}\n    # Hence, we plit on 'Lyrics'\n    try:\n        song_name, lyrics = text.split('Lyrics', maxsplit= 1)\n        #print(song_name)\n    except Exception as e:\n        #print(e)\n        print(f\"{doc_name} has no lyrics or had an error\")\n        return\n    artist, _ = doc_name.rsplit('_', maxsplit = 1)\n    details[\"artist\"].append(artist)\n    details[\"song_name\"].append(song_name)\n    details[\"lyrics\"].append(lyrics)",
   "execution_count": 3,
   "outputs": []
  },
  {
   "cell_type": "code",
   "metadata": {
    "cell_id": "61aa07fe0de942a4939aee70b76c4312",
    "tags": [],
    "deepnote_to_be_reexecuted": false,
    "source_hash": "59d6297f",
    "execution_start": 1655837294615,
    "execution_millis": 1,
    "deepnote_cell_type": "code",
    "deepnote_cell_height": 333
   },
   "source": "def read_docs(input_dir):\n    details = {\n        \"artist\": [],\n        \"song_name\": [],\n        \"lyrics\": []\n    }\n    docs = os.listdir(input_dir)\n    for doc in docs:\n        #print(f\"{input_dir}{doc}\")\n        with open(f\"{input_dir}/{doc}\") as f:\n            doc_text = f.read()\n            extract_info(doc_text, doc, details)\n    df = pd.DataFrame(details)\n    return df\n",
   "execution_count": 4,
   "outputs": []
  },
  {
   "cell_type": "code",
   "metadata": {
    "cell_id": "33996d94fbf94073ba91122d20447632",
    "tags": [],
    "deepnote_to_be_reexecuted": false,
    "source_hash": "b0bd2414",
    "execution_start": 1655837294616,
    "execution_millis": 2120,
    "deepnote_cell_type": "code",
    "deepnote_cell_height": 81
   },
   "source": "df = read_docs('lyrics/')",
   "execution_count": 5,
   "outputs": []
  },
  {
   "cell_type": "code",
   "metadata": {
    "cell_id": "3bce4b4c848a44699fbfdc66d7e2edb8",
    "tags": [],
    "deepnote_to_be_reexecuted": false,
    "source_hash": "783f8567",
    "execution_start": 1655837296762,
    "execution_millis": 17,
    "deepnote_cell_type": "code",
    "deepnote_cell_height": 413
   },
   "source": "df[\"id\"] = df.index\ndf.head()",
   "execution_count": 6,
   "outputs": [
    {
     "output_type": "execute_result",
     "execution_count": 6,
     "data": {
      "application/vnd.deepnote.dataframe.v3+json": {
       "column_count": 4,
       "row_count": 5,
       "columns": [
        {
         "name": "artist",
         "dtype": "object",
         "stats": {
          "unique_count": 5,
          "nan_count": 0,
          "categories": [
           {
            "name": "MGMT",
            "count": 1
           },
           {
            "name": "AFI",
            "count": 1
           },
           {
            "name": "3 others",
            "count": 3
           }
          ]
         }
        },
        {
         "name": "song_name",
         "dtype": "object",
         "stats": {
          "unique_count": 5,
          "nan_count": 0,
          "categories": [
           {
            "name": "Electric Feel ",
            "count": 1
           },
           {
            "name": "The Days of the Phoenix ",
            "count": 1
           },
           {
            "name": "3 others",
            "count": 3
           }
          ]
         }
        },
        {
         "name": "lyrics",
         "dtype": "object",
         "stats": {
          "unique_count": 5,
          "nan_count": 0,
          "categories": [
           {
            "name": "\nAll along the Western front\nPeople line up to receive\nShe got the power in her hand\nTo shock you like you won't believe\nSaw her in the Amazon\nWith the voltage running through her skin\nI was standing there with nothing on\nShe gonna teach me how to swim\n\nI said, \"Ooh, girl!\nShock me like an electric eel\nBaby girl\nTurn me on with your electric feel\"\nI said, \"Ooh, girl!\nShock me like an electric eel\nBaby girl\nTurn me on with your electric feel\"\n\nAll along the Eastern shore\nPut your circuits in the sea\nThis is what the world is for\nMaking electricity\nYou can feel it in your mind\nOh, you can do it all the time\nPlug it in, change the world\nYou are my electric girl\nI said, \"Ooh, girl!\nShock me like an electric eel\nBaby girl\nTurn me on with your electric feel\"\nI said, \"Ooh, girl!\nShock me like an electric eel\nBaby girl\nTurn me on with your electric feel\"\n\nDo what you feel now!\nElectric feel now\nDo what you feel now!\nElectric feel now\nDo what you feel now!\nElectric feel now\nDo what you feel now!\nElectric feel now\nDo what you feel now!64Embed",
            "count": 1
           },
           {
            "name": "I remember when I was told of story of\nCrushed velvet, candle wax, and dried up flowers\nThe figure on the bed all dressed up in roses, calling\nBeckoning to sleep, offering a dream\nWords were as mystical as purring animals\nThe circle of rage, the ghosts on the stage appeared\nThe time was so tangible, I'll never let it go\nGhost stories handed down reached secret tunnels below\nNo one could see me\nI fell into yesterday\nOur dreams seemed not far away\nI want to, I want to, I want to stay\nI fell into fantasy\nWords were as mystical as purring animals\nThe circle of rage, the ghosts on the stage appeared\nThe time was so tangible, I'll never let it go\nGhost stories handed down reached secret tunnels below\nNo one could see me\nI fell into yesterday\nOur dreams seemed not far away\nI want to, I want to, I want to stay\nI fell into fantasy\nThe girl on the wall always waited for me\nAnd she was always smiling\nThe teenage death boys, the teenage death girls\nAnd everyone was dancing\nNothing could touch us then, no one could change us then\nEveryone was dancing\nNothing could hurt us then, no one could see us then\nEveryone was dancing\nNo one could see me\nI fell into yesterday\nOur dreams seemed not far away\nI want to, I want to, I want to stay\nI fell into fantasy\nOur dreams seemed not far away\nI fell into fantasy1Embed",
            "count": 1
           },
           {
            "name": "3 others",
            "count": 3
           }
          ]
         }
        },
        {
         "name": "id",
         "dtype": "int64",
         "stats": {
          "unique_count": 5,
          "nan_count": 0,
          "min": "0",
          "max": "4",
          "histogram": [
           {
            "bin_start": 0,
            "bin_end": 0.4,
            "count": 1
           },
           {
            "bin_start": 0.4,
            "bin_end": 0.8,
            "count": 0
           },
           {
            "bin_start": 0.8,
            "bin_end": 1.2000000000000002,
            "count": 1
           },
           {
            "bin_start": 1.2000000000000002,
            "bin_end": 1.6,
            "count": 0
           },
           {
            "bin_start": 1.6,
            "bin_end": 2,
            "count": 0
           },
           {
            "bin_start": 2,
            "bin_end": 2.4000000000000004,
            "count": 1
           },
           {
            "bin_start": 2.4000000000000004,
            "bin_end": 2.8000000000000003,
            "count": 0
           },
           {
            "bin_start": 2.8000000000000003,
            "bin_end": 3.2,
            "count": 1
           },
           {
            "bin_start": 3.2,
            "bin_end": 3.6,
            "count": 0
           },
           {
            "bin_start": 3.6,
            "bin_end": 4,
            "count": 1
           }
          ]
         }
        },
        {
         "name": "_deepnote_index_column",
         "dtype": "int64"
        }
       ],
       "rows": [
        {
         "artist": "MGMT",
         "song_name": "Electric Feel ",
         "lyrics": "\nAll along the Western front\nPeople line up to receive\nShe got the power in her hand\nTo shock you like you won't believe\nSaw her in the Amazon\nWith the voltage running through her skin\nI was standing there with nothing on\nShe gonna teach me how to swim\n\nI said, \"Ooh, girl!\nShock me like an electric eel\nBaby girl\nTurn me on with your electric feel\"\nI said, \"Ooh, girl!\nShock me like an electric eel\nBaby girl\nTurn me on with your electric feel\"\n\nAll along the Eastern shore\nPut your circuits in the sea\nThis is what the world is for\nMaking electricity\nYou can feel it in your mind\nOh, you can do it all the time\nPlug it in, change the world\nYou are my electric girl\nI said, \"Ooh, girl!\nShock me like an electric eel\nBaby girl\nTurn me on with your electric feel\"\nI said, \"Ooh, girl!\nShock me like an electric eel\nBaby girl\nTurn me on with your electric feel\"\n\nDo what you feel now!\nElectric feel now\nDo what you feel now!\nElectric feel now\nDo what you feel now!\nElectric feel now\nDo what you feel no…",
         "id": 0,
         "_deepnote_index_column": 0
        },
        {
         "artist": "AFI",
         "song_name": "The Days of the Phoenix ",
         "lyrics": "I remember when I was told of story of\nCrushed velvet, candle wax, and dried up flowers\nThe figure on the bed all dressed up in roses, calling\nBeckoning to sleep, offering a dream\nWords were as mystical as purring animals\nThe circle of rage, the ghosts on the stage appeared\nThe time was so tangible, I'll never let it go\nGhost stories handed down reached secret tunnels below\nNo one could see me\nI fell into yesterday\nOur dreams seemed not far away\nI want to, I want to, I want to stay\nI fell into fantasy\nWords were as mystical as purring animals\nThe circle of rage, the ghosts on the stage appeared\nThe time was so tangible, I'll never let it go\nGhost stories handed down reached secret tunnels below\nNo one could see me\nI fell into yesterday\nOur dreams seemed not far away\nI want to, I want to, I want to stay\nI fell into fantasy\nThe girl on the wall always waited for me\nAnd she was always smiling\nThe teenage death boys, the teenage death girls\nAnd everyone was dancing\nNothing could touch us …",
         "id": 1,
         "_deepnote_index_column": 1
        },
        {
         "artist": "TVontheRadio",
         "song_name": "DLZ ",
         "lyrics": "\nCongratulations on the mess you made of things\nI'm trying to reconstruct the air and all that brings\nAnd oxidation is the compromise you own\nBut this is beginning to feel like the dog wants her bones, say\n\nLa, la, la, la, la, la, la, la\nLa, la, la, la, la, la, la, la, la\nLa, la, la, la, la, la, la, la\nLa, la, la, la, la, la, la, la, la\n\nYou force your fire and then you falsify your deeds\nYour methods dot the disconnect from all your creeds\nAnd fortune strives to fill the vacuum that it feeds\nBut this is beginning to feel like the dog's lost her lead, say\n\nLa, la, la, la, la, la, la, la\nLa, la, la, la, la, la, la, la, la\nLa, la, la, la, la, la, la, la\nLa, la, la, la, la, la, la, la, la\n\nThis is beginning to feel\nLike the long winded blues of the never\nThis is beginning to feel\nLike it's curling up slowly and finding a throat to choke\nThis is beginning to feel\nLike the long winded blues of the never\nBarely controlled locomotive consuming the picture\nAnd blowing the crows to smoke\n\nThis…",
         "id": 2,
         "_deepnote_index_column": 2
        },
        {
         "artist": "SonicYouth",
         "song_name": "Schizophrenia ",
         "lyrics": "\nI went away to see an old friend of mine\nHis sister came over, she was out of her mind\nShe said Jesus had a twin who knew nothing about sin\nShe was laughing like crazy at the trouble I'm in\nHer light eyes were dancing, she is insane\nHer brother says she's just a bitch with a golden chain\nShe keeps coming closer saying, \"I can feel it in my bones\nSchizophrenia is taking me home\"\n\nMy future is static\nIt's already had it\nI could tuck you in\nAnd we can talk about it\nI had a dream\nAnd it split the scene\nBut I got a hunch\nIt's coming back to me9Embed",
         "id": 3,
         "_deepnote_index_column": 3
        },
        {
         "artist": "NickCave&TheBadSeeds",
         "song_name": "O Children ",
         "lyrics": "Pass me that lovely little gun\nMy dear, my darling one\nThe cleaners are coming one by one\nYou don't even want to let them start\nThey are knocking now upon your door\nThey measure the room, they know the score\nThey're mopping up the butcher's floor\nOf your broken little hearts\nOh-Oh-O Children\nForgive us now for what we've done\nIt started out as a bit of fun\nHere, take these before we run away\nThe keys to the gulag\n\nO Children\nLift up your voice, lift up your voice\nChildren\nRejoice, rejoice\nCome on, come on, come on, come on\nHere comes Frank and poor old Jim\nThey're gathering round with all my friends\nWe're older now, the light is dim\nAnd you are only just beginning\nOh-Oh-O Children\nWe have the answer to all your fears\nIt's short, it's simple, it's crystal clear\nIt's round about and it's somewhere here\nLost amongst our winnings\n\nO Children\nLift up your voice, lift up your voice\nChildren\nRejoice, rejoice\nThe cleaners have done their job on you\nThey're hip to it, man, they're in the groov…",
         "id": 4,
         "_deepnote_index_column": 4
        }
       ]
      },
      "text/plain": "                 artist                 song_name  \\\n0                  MGMT            Electric Feel    \n1                   AFI  The Days of the Phoenix    \n2          TVontheRadio                      DLZ    \n3            SonicYouth            Schizophrenia    \n4  NickCave&TheBadSeeds               O Children    \n\n                                              lyrics  id  \n0  \\nAll along the Western front\\nPeople line up ...   0  \n1  I remember when I was told of story of\\nCrushe...   1  \n2  \\nCongratulations on the mess you made of thin...   2  \n3  \\nI went away to see an old friend of mine\\nHi...   3  \n4  Pass me that lovely little gun\\nMy dear, my da...   4  ",
      "text/html": "<div>\n<style scoped>\n    .dataframe tbody tr th:only-of-type {\n        vertical-align: middle;\n    }\n\n    .dataframe tbody tr th {\n        vertical-align: top;\n    }\n\n    .dataframe thead th {\n        text-align: right;\n    }\n</style>\n<table border=\"1\" class=\"dataframe\">\n  <thead>\n    <tr style=\"text-align: right;\">\n      <th></th>\n      <th>artist</th>\n      <th>song_name</th>\n      <th>lyrics</th>\n      <th>id</th>\n    </tr>\n  </thead>\n  <tbody>\n    <tr>\n      <th>0</th>\n      <td>MGMT</td>\n      <td>Electric Feel</td>\n      <td>\\nAll along the Western front\\nPeople line up ...</td>\n      <td>0</td>\n    </tr>\n    <tr>\n      <th>1</th>\n      <td>AFI</td>\n      <td>The Days of the Phoenix</td>\n      <td>I remember when I was told of story of\\nCrushe...</td>\n      <td>1</td>\n    </tr>\n    <tr>\n      <th>2</th>\n      <td>TVontheRadio</td>\n      <td>DLZ</td>\n      <td>\\nCongratulations on the mess you made of thin...</td>\n      <td>2</td>\n    </tr>\n    <tr>\n      <th>3</th>\n      <td>SonicYouth</td>\n      <td>Schizophrenia</td>\n      <td>\\nI went away to see an old friend of mine\\nHi...</td>\n      <td>3</td>\n    </tr>\n    <tr>\n      <th>4</th>\n      <td>NickCave&amp;TheBadSeeds</td>\n      <td>O Children</td>\n      <td>Pass me that lovely little gun\\nMy dear, my da...</td>\n      <td>4</td>\n    </tr>\n  </tbody>\n</table>\n</div>"
     },
     "metadata": {}
    }
   ]
  },
  {
   "cell_type": "markdown",
   "source": "### Remove Stop words and Tokenize",
   "metadata": {
    "formattedRanges": [],
    "cell_id": "41f177e7c37b49d09e454f50393db866",
    "tags": [],
    "is_collapsed": false,
    "deepnote_cell_type": "text-cell-h3"
   }
  },
  {
   "cell_type": "code",
   "metadata": {
    "cell_id": "473c081d36e744e3b3e7460506822758",
    "tags": [],
    "deepnote_to_be_reexecuted": false,
    "source_hash": "62379a35",
    "execution_start": 1655837296782,
    "execution_millis": 175,
    "deepnote_cell_type": "code",
    "deepnote_cell_height": 171
   },
   "source": "stop = set()\nwith open('data/stopwords.txt', 'r') as f:\n    for line in f:\n        stop.add(line.rstrip())\n\ndf['lyrics_nostop'] = df['lyrics'].apply(lambda x: ' '.join([word.lower() for word in x.split() if word not in (stop)]))",
   "execution_count": 7,
   "outputs": []
  },
  {
   "cell_type": "code",
   "metadata": {
    "cell_id": "a3cc421bcec24b1abaeaef233de26b4e",
    "tags": [],
    "deepnote_to_be_reexecuted": false,
    "source_hash": "c085b6ba",
    "execution_start": 1655837296962,
    "execution_millis": 23,
    "deepnote_cell_type": "code",
    "deepnote_cell_height": 395
   },
   "source": "df.head()",
   "execution_count": 8,
   "outputs": [
    {
     "output_type": "execute_result",
     "execution_count": 8,
     "data": {
      "application/vnd.deepnote.dataframe.v3+json": {
       "column_count": 5,
       "row_count": 5,
       "columns": [
        {
         "name": "artist",
         "dtype": "object",
         "stats": {
          "unique_count": 5,
          "nan_count": 0,
          "categories": [
           {
            "name": "MGMT",
            "count": 1
           },
           {
            "name": "AFI",
            "count": 1
           },
           {
            "name": "3 others",
            "count": 3
           }
          ]
         }
        },
        {
         "name": "song_name",
         "dtype": "object",
         "stats": {
          "unique_count": 5,
          "nan_count": 0,
          "categories": [
           {
            "name": "Electric Feel ",
            "count": 1
           },
           {
            "name": "The Days of the Phoenix ",
            "count": 1
           },
           {
            "name": "3 others",
            "count": 3
           }
          ]
         }
        },
        {
         "name": "lyrics",
         "dtype": "object",
         "stats": {
          "unique_count": 5,
          "nan_count": 0,
          "categories": [
           {
            "name": "\nAll along the Western front\nPeople line up to receive\nShe got the power in her hand\nTo shock you like you won't believe\nSaw her in the Amazon\nWith the voltage running through her skin\nI was standing there with nothing on\nShe gonna teach me how to swim\n\nI said, \"Ooh, girl!\nShock me like an electric eel\nBaby girl\nTurn me on with your electric feel\"\nI said, \"Ooh, girl!\nShock me like an electric eel\nBaby girl\nTurn me on with your electric feel\"\n\nAll along the Eastern shore\nPut your circuits in the sea\nThis is what the world is for\nMaking electricity\nYou can feel it in your mind\nOh, you can do it all the time\nPlug it in, change the world\nYou are my electric girl\nI said, \"Ooh, girl!\nShock me like an electric eel\nBaby girl\nTurn me on with your electric feel\"\nI said, \"Ooh, girl!\nShock me like an electric eel\nBaby girl\nTurn me on with your electric feel\"\n\nDo what you feel now!\nElectric feel now\nDo what you feel now!\nElectric feel now\nDo what you feel now!\nElectric feel now\nDo what you feel now!\nElectric feel now\nDo what you feel now!64Embed",
            "count": 1
           },
           {
            "name": "I remember when I was told of story of\nCrushed velvet, candle wax, and dried up flowers\nThe figure on the bed all dressed up in roses, calling\nBeckoning to sleep, offering a dream\nWords were as mystical as purring animals\nThe circle of rage, the ghosts on the stage appeared\nThe time was so tangible, I'll never let it go\nGhost stories handed down reached secret tunnels below\nNo one could see me\nI fell into yesterday\nOur dreams seemed not far away\nI want to, I want to, I want to stay\nI fell into fantasy\nWords were as mystical as purring animals\nThe circle of rage, the ghosts on the stage appeared\nThe time was so tangible, I'll never let it go\nGhost stories handed down reached secret tunnels below\nNo one could see me\nI fell into yesterday\nOur dreams seemed not far away\nI want to, I want to, I want to stay\nI fell into fantasy\nThe girl on the wall always waited for me\nAnd she was always smiling\nThe teenage death boys, the teenage death girls\nAnd everyone was dancing\nNothing could touch us then, no one could change us then\nEveryone was dancing\nNothing could hurt us then, no one could see us then\nEveryone was dancing\nNo one could see me\nI fell into yesterday\nOur dreams seemed not far away\nI want to, I want to, I want to stay\nI fell into fantasy\nOur dreams seemed not far away\nI fell into fantasy1Embed",
            "count": 1
           },
           {
            "name": "3 others",
            "count": 3
           }
          ]
         }
        },
        {
         "name": "id",
         "dtype": "int64",
         "stats": {
          "unique_count": 5,
          "nan_count": 0,
          "min": "0",
          "max": "4",
          "histogram": [
           {
            "bin_start": 0,
            "bin_end": 0.4,
            "count": 1
           },
           {
            "bin_start": 0.4,
            "bin_end": 0.8,
            "count": 0
           },
           {
            "bin_start": 0.8,
            "bin_end": 1.2000000000000002,
            "count": 1
           },
           {
            "bin_start": 1.2000000000000002,
            "bin_end": 1.6,
            "count": 0
           },
           {
            "bin_start": 1.6,
            "bin_end": 2,
            "count": 0
           },
           {
            "bin_start": 2,
            "bin_end": 2.4000000000000004,
            "count": 1
           },
           {
            "bin_start": 2.4000000000000004,
            "bin_end": 2.8000000000000003,
            "count": 0
           },
           {
            "bin_start": 2.8000000000000003,
            "bin_end": 3.2,
            "count": 1
           },
           {
            "bin_start": 3.2,
            "bin_end": 3.6,
            "count": 0
           },
           {
            "bin_start": 3.6,
            "bin_end": 4,
            "count": 1
           }
          ]
         }
        },
        {
         "name": "lyrics_nostop",
         "dtype": "object",
         "stats": {
          "unique_count": 5,
          "nan_count": 0,
          "categories": [
           {
            "name": "all along western front people line up receive she got power hand to shock like won't believe saw amazon with voltage running through skin i standing nothing she gonna teach swim i said, \"ooh, girl! shock like electric eel baby girl turn electric feel\" i said, \"ooh, girl! shock like electric eel baby girl turn electric feel\" all along eastern shore put circuits sea this world making electricity you can feel mind oh, can do time plug in, change world you electric girl i said, \"ooh, girl! shock like electric eel baby girl turn electric feel\" i said, \"ooh, girl! shock like electric eel baby girl turn electric feel\" do feel now! electric feel now do feel now! electric feel now do feel now! electric feel now do feel now! electric feel now do feel now!64embed",
            "count": 1
           },
           {
            "name": "i remember i told story crushed velvet, candle wax, dried up flowers the figure bed dressed up roses, calling beckoning sleep, offering dream words were mystical purring animals the circle rage, ghosts stage appeared the time so tangible, i'll never let go ghost stories handed down reached secret tunnels below no one could see i fell into yesterday our dreams seemed not far away i want to, i want to, i want stay i fell into fantasy words were mystical purring animals the circle rage, ghosts stage appeared the time so tangible, i'll never let go ghost stories handed down reached secret tunnels below no one could see i fell into yesterday our dreams seemed not far away i want to, i want to, i want stay i fell into fantasy the girl wall always waited and always smiling the teenage death boys, teenage death girls and everyone dancing nothing could touch then, no one could change then everyone dancing nothing could hurt then, no one could see then everyone dancing no one could see i fell into yesterday our dreams seemed not far away i want to, i want to, i want stay i fell into fantasy our dreams seemed not far away i fell into fantasy1embed",
            "count": 1
           },
           {
            "name": "3 others",
            "count": 3
           }
          ]
         }
        },
        {
         "name": "_deepnote_index_column",
         "dtype": "int64"
        }
       ],
       "rows": [
        {
         "artist": "MGMT",
         "song_name": "Electric Feel ",
         "lyrics": "\nAll along the Western front\nPeople line up to receive\nShe got the power in her hand\nTo shock you like you won't believe\nSaw her in the Amazon\nWith the voltage running through her skin\nI was standing there with nothing on\nShe gonna teach me how to swim\n\nI said, \"Ooh, girl!\nShock me like an electric eel\nBaby girl\nTurn me on with your electric feel\"\nI said, \"Ooh, girl!\nShock me like an electric eel\nBaby girl\nTurn me on with your electric feel\"\n\nAll along the Eastern shore\nPut your circuits in the sea\nThis is what the world is for\nMaking electricity\nYou can feel it in your mind\nOh, you can do it all the time\nPlug it in, change the world\nYou are my electric girl\nI said, \"Ooh, girl!\nShock me like an electric eel\nBaby girl\nTurn me on with your electric feel\"\nI said, \"Ooh, girl!\nShock me like an electric eel\nBaby girl\nTurn me on with your electric feel\"\n\nDo what you feel now!\nElectric feel now\nDo what you feel now!\nElectric feel now\nDo what you feel now!\nElectric feel now\nDo what you feel no…",
         "id": 0,
         "lyrics_nostop": "all along western front people line up receive she got power hand to shock like won't believe saw amazon with voltage running through skin i standing nothing she gonna teach swim i said, \"ooh, girl! shock like electric eel baby girl turn electric feel\" i said, \"ooh, girl! shock like electric eel baby girl turn electric feel\" all along eastern shore put circuits sea this world making electricity you can feel mind oh, can do time plug in, change world you electric girl i said, \"ooh, girl! shock like electric eel baby girl turn electric feel\" i said, \"ooh, girl! shock like electric eel baby girl turn electric feel\" do feel now! electric feel now do feel now! electric feel now do feel now! electric feel now do feel now! electric feel now do feel now!64embed",
         "_deepnote_index_column": 0
        },
        {
         "artist": "AFI",
         "song_name": "The Days of the Phoenix ",
         "lyrics": "I remember when I was told of story of\nCrushed velvet, candle wax, and dried up flowers\nThe figure on the bed all dressed up in roses, calling\nBeckoning to sleep, offering a dream\nWords were as mystical as purring animals\nThe circle of rage, the ghosts on the stage appeared\nThe time was so tangible, I'll never let it go\nGhost stories handed down reached secret tunnels below\nNo one could see me\nI fell into yesterday\nOur dreams seemed not far away\nI want to, I want to, I want to stay\nI fell into fantasy\nWords were as mystical as purring animals\nThe circle of rage, the ghosts on the stage appeared\nThe time was so tangible, I'll never let it go\nGhost stories handed down reached secret tunnels below\nNo one could see me\nI fell into yesterday\nOur dreams seemed not far away\nI want to, I want to, I want to stay\nI fell into fantasy\nThe girl on the wall always waited for me\nAnd she was always smiling\nThe teenage death boys, the teenage death girls\nAnd everyone was dancing\nNothing could touch us …",
         "id": 1,
         "lyrics_nostop": "i remember i told story crushed velvet, candle wax, dried up flowers the figure bed dressed up roses, calling beckoning sleep, offering dream words were mystical purring animals the circle rage, ghosts stage appeared the time so tangible, i'll never let go ghost stories handed down reached secret tunnels below no one could see i fell into yesterday our dreams seemed not far away i want to, i want to, i want stay i fell into fantasy words were mystical purring animals the circle rage, ghosts stage appeared the time so tangible, i'll never let go ghost stories handed down reached secret tunnels below no one could see i fell into yesterday our dreams seemed not far away i want to, i want to, i want stay i fell into fantasy the girl wall always waited and always smiling the teenage death boys, teenage death girls and everyone dancing nothing could touch then, no one could change then everyone dancing nothing could hurt then, no one could see then everyone dancing no one could see i fell i…",
         "_deepnote_index_column": 1
        },
        {
         "artist": "TVontheRadio",
         "song_name": "DLZ ",
         "lyrics": "\nCongratulations on the mess you made of things\nI'm trying to reconstruct the air and all that brings\nAnd oxidation is the compromise you own\nBut this is beginning to feel like the dog wants her bones, say\n\nLa, la, la, la, la, la, la, la\nLa, la, la, la, la, la, la, la, la\nLa, la, la, la, la, la, la, la\nLa, la, la, la, la, la, la, la, la\n\nYou force your fire and then you falsify your deeds\nYour methods dot the disconnect from all your creeds\nAnd fortune strives to fill the vacuum that it feeds\nBut this is beginning to feel like the dog's lost her lead, say\n\nLa, la, la, la, la, la, la, la\nLa, la, la, la, la, la, la, la, la\nLa, la, la, la, la, la, la, la\nLa, la, la, la, la, la, la, la, la\n\nThis is beginning to feel\nLike the long winded blues of the never\nThis is beginning to feel\nLike it's curling up slowly and finding a throat to choke\nThis is beginning to feel\nLike the long winded blues of the never\nBarely controlled locomotive consuming the picture\nAnd blowing the crows to smoke\n\nThis…",
         "id": 2,
         "lyrics_nostop": "congratulations mess made things i'm trying reconstruct air brings and oxidation compromise own but beginning feel like dog wants bones, say la, la, la, la, la, la, la, la la, la, la, la, la, la, la, la, la la, la, la, la, la, la, la, la la, la, la, la, la, la, la, la, la you force fire then falsify deeds your methods dot disconnect creeds and fortune strives fill vacuum feeds but beginning feel like dog's lost lead, say la, la, la, la, la, la, la, la la, la, la, la, la, la, la, la, la la, la, la, la, la, la, la, la la, la, la, la, la, la, la, la, la this beginning feel like long winded blues never this beginning feel like it's curling up slowly finding throat choke this beginning feel like long winded blues never barely controlled locomotive consuming picture and blowing crows smoke this beginning feel like long winded blues never static explosion devoted crushing broken and shoving souls ghost eternalized, objectified you set sights so high but beginning feel like bolt busted loose …",
         "_deepnote_index_column": 2
        },
        {
         "artist": "SonicYouth",
         "song_name": "Schizophrenia ",
         "lyrics": "\nI went away to see an old friend of mine\nHis sister came over, she was out of her mind\nShe said Jesus had a twin who knew nothing about sin\nShe was laughing like crazy at the trouble I'm in\nHer light eyes were dancing, she is insane\nHer brother says she's just a bitch with a golden chain\nShe keeps coming closer saying, \"I can feel it in my bones\nSchizophrenia is taking me home\"\n\nMy future is static\nIt's already had it\nI could tuck you in\nAnd we can talk about it\nI had a dream\nAnd it split the scene\nBut I got a hunch\nIt's coming back to me9Embed",
         "id": 3,
         "lyrics_nostop": "i went away see old friend mine his sister came over, out mind she said jesus had twin knew nothing about sin she laughing like crazy trouble i'm her light eyes were dancing, insane her brother says she's just bitch golden chain she keeps coming closer saying, \"i can feel bones schizophrenia taking home\" my future static it's already had i could tuck and we can talk about i had dream and split scene but i got hunch it's coming back me9embed",
         "_deepnote_index_column": 3
        },
        {
         "artist": "NickCave&TheBadSeeds",
         "song_name": "O Children ",
         "lyrics": "Pass me that lovely little gun\nMy dear, my darling one\nThe cleaners are coming one by one\nYou don't even want to let them start\nThey are knocking now upon your door\nThey measure the room, they know the score\nThey're mopping up the butcher's floor\nOf your broken little hearts\nOh-Oh-O Children\nForgive us now for what we've done\nIt started out as a bit of fun\nHere, take these before we run away\nThe keys to the gulag\n\nO Children\nLift up your voice, lift up your voice\nChildren\nRejoice, rejoice\nCome on, come on, come on, come on\nHere comes Frank and poor old Jim\nThey're gathering round with all my friends\nWe're older now, the light is dim\nAnd you are only just beginning\nOh-Oh-O Children\nWe have the answer to all your fears\nIt's short, it's simple, it's crystal clear\nIt's round about and it's somewhere here\nLost amongst our winnings\n\nO Children\nLift up your voice, lift up your voice\nChildren\nRejoice, rejoice\nThe cleaners have done their job on you\nThey're hip to it, man, they're in the groov…",
         "id": 4,
         "lyrics_nostop": "pass lovely little gun my dear, darling one the cleaners coming one one you don't even want let start they knocking now upon door they measure room, know score they're mopping up butcher's floor of broken little hearts oh-oh-o children forgive now we've done it started out bit fun here, take these before we run away the keys gulag o children lift up voice, lift up voice children rejoice, rejoice come on, come on, come on, come here comes frank poor old jim they're gathering round friends we're older now, light dim and only just beginning oh-oh-o children we answer fears it's short, it's simple, it's crystal clear it's round about it's somewhere lost amongst winnings o children lift up voice, lift up voice children rejoice, rejoice the cleaners done job they're hip it, man, they're groove they've hosed down, you're good new and they're lining up inspect oh-oh-o children poor old jim's white ghost he's found answer we lost we're weeping now, weeping because there ain't nothing we can do…",
         "_deepnote_index_column": 4
        }
       ]
      },
      "text/plain": "                 artist                 song_name  \\\n0                  MGMT            Electric Feel    \n1                   AFI  The Days of the Phoenix    \n2          TVontheRadio                      DLZ    \n3            SonicYouth            Schizophrenia    \n4  NickCave&TheBadSeeds               O Children    \n\n                                              lyrics  id  \\\n0  \\nAll along the Western front\\nPeople line up ...   0   \n1  I remember when I was told of story of\\nCrushe...   1   \n2  \\nCongratulations on the mess you made of thin...   2   \n3  \\nI went away to see an old friend of mine\\nHi...   3   \n4  Pass me that lovely little gun\\nMy dear, my da...   4   \n\n                                       lyrics_nostop  \n0  all along western front people line up receive...  \n1  i remember i told story crushed velvet, candle...  \n2  congratulations mess made things i'm trying re...  \n3  i went away see old friend mine his sister cam...  \n4  pass lovely little gun my dear, darling one th...  ",
      "text/html": "<div>\n<style scoped>\n    .dataframe tbody tr th:only-of-type {\n        vertical-align: middle;\n    }\n\n    .dataframe tbody tr th {\n        vertical-align: top;\n    }\n\n    .dataframe thead th {\n        text-align: right;\n    }\n</style>\n<table border=\"1\" class=\"dataframe\">\n  <thead>\n    <tr style=\"text-align: right;\">\n      <th></th>\n      <th>artist</th>\n      <th>song_name</th>\n      <th>lyrics</th>\n      <th>id</th>\n      <th>lyrics_nostop</th>\n    </tr>\n  </thead>\n  <tbody>\n    <tr>\n      <th>0</th>\n      <td>MGMT</td>\n      <td>Electric Feel</td>\n      <td>\\nAll along the Western front\\nPeople line up ...</td>\n      <td>0</td>\n      <td>all along western front people line up receive...</td>\n    </tr>\n    <tr>\n      <th>1</th>\n      <td>AFI</td>\n      <td>The Days of the Phoenix</td>\n      <td>I remember when I was told of story of\\nCrushe...</td>\n      <td>1</td>\n      <td>i remember i told story crushed velvet, candle...</td>\n    </tr>\n    <tr>\n      <th>2</th>\n      <td>TVontheRadio</td>\n      <td>DLZ</td>\n      <td>\\nCongratulations on the mess you made of thin...</td>\n      <td>2</td>\n      <td>congratulations mess made things i'm trying re...</td>\n    </tr>\n    <tr>\n      <th>3</th>\n      <td>SonicYouth</td>\n      <td>Schizophrenia</td>\n      <td>\\nI went away to see an old friend of mine\\nHi...</td>\n      <td>3</td>\n      <td>i went away see old friend mine his sister cam...</td>\n    </tr>\n    <tr>\n      <th>4</th>\n      <td>NickCave&amp;TheBadSeeds</td>\n      <td>O Children</td>\n      <td>Pass me that lovely little gun\\nMy dear, my da...</td>\n      <td>4</td>\n      <td>pass lovely little gun my dear, darling one th...</td>\n    </tr>\n  </tbody>\n</table>\n</div>"
     },
     "metadata": {}
    }
   ]
  },
  {
   "cell_type": "code",
   "metadata": {
    "cell_id": "8fd33c62e09f46629f708cf5f5e70dd1",
    "tags": [],
    "deepnote_to_be_reexecuted": false,
    "source_hash": "ff0e68a8",
    "execution_start": 1655837296990,
    "execution_millis": 820,
    "deepnote_cell_type": "code",
    "deepnote_cell_height": 99
   },
   "source": "from sklearn.feature_extraction.text import TfidfVectorizer\nfrom sklearn.metrics.pairwise import cosine_similarity",
   "execution_count": 9,
   "outputs": []
  },
  {
   "cell_type": "code",
   "metadata": {
    "cell_id": "f138e70ffe0b4f14b990f975c1859ffd",
    "tags": [],
    "deepnote_to_be_reexecuted": false,
    "source_hash": "b921a15e",
    "execution_start": 1655837297815,
    "execution_millis": 262,
    "deepnote_cell_type": "code",
    "deepnote_cell_height": 99
   },
   "source": "analyze = TfidfVectorizer().build_analyzer()\ndf['tokens'] = df['lyrics_nostop'].apply(analyze)",
   "execution_count": 10,
   "outputs": []
  },
  {
   "cell_type": "markdown",
   "source": "Now would be an appropriate time to get rid of some redundant columns",
   "metadata": {
    "formattedRanges": [],
    "cell_id": "3e5efd636a35410e807e7521d097908d",
    "tags": [],
    "is_collapsed": false,
    "deepnote_cell_type": "text-cell-p"
   }
  },
  {
   "cell_type": "code",
   "metadata": {
    "cell_id": "5393d146bb764035baaca685e2603c55",
    "tags": [],
    "deepnote_to_be_reexecuted": false,
    "source_hash": "45dbc950",
    "execution_start": 1655837298109,
    "execution_millis": 12,
    "deepnote_cell_type": "code",
    "deepnote_cell_height": 413
   },
   "source": "df = df.drop(['lyrics'], axis=1)\ndf.head()",
   "execution_count": 11,
   "outputs": [
    {
     "output_type": "execute_result",
     "execution_count": 11,
     "data": {
      "application/vnd.deepnote.dataframe.v3+json": {
       "column_count": 5,
       "row_count": 5,
       "columns": [
        {
         "name": "artist",
         "dtype": "object",
         "stats": {
          "unique_count": 5,
          "nan_count": 0,
          "categories": [
           {
            "name": "MGMT",
            "count": 1
           },
           {
            "name": "AFI",
            "count": 1
           },
           {
            "name": "3 others",
            "count": 3
           }
          ]
         }
        },
        {
         "name": "song_name",
         "dtype": "object",
         "stats": {
          "unique_count": 5,
          "nan_count": 0,
          "categories": [
           {
            "name": "Electric Feel ",
            "count": 1
           },
           {
            "name": "The Days of the Phoenix ",
            "count": 1
           },
           {
            "name": "3 others",
            "count": 3
           }
          ]
         }
        },
        {
         "name": "id",
         "dtype": "int64",
         "stats": {
          "unique_count": 5,
          "nan_count": 0,
          "min": "0",
          "max": "4",
          "histogram": [
           {
            "bin_start": 0,
            "bin_end": 0.4,
            "count": 1
           },
           {
            "bin_start": 0.4,
            "bin_end": 0.8,
            "count": 0
           },
           {
            "bin_start": 0.8,
            "bin_end": 1.2000000000000002,
            "count": 1
           },
           {
            "bin_start": 1.2000000000000002,
            "bin_end": 1.6,
            "count": 0
           },
           {
            "bin_start": 1.6,
            "bin_end": 2,
            "count": 0
           },
           {
            "bin_start": 2,
            "bin_end": 2.4000000000000004,
            "count": 1
           },
           {
            "bin_start": 2.4000000000000004,
            "bin_end": 2.8000000000000003,
            "count": 0
           },
           {
            "bin_start": 2.8000000000000003,
            "bin_end": 3.2,
            "count": 1
           },
           {
            "bin_start": 3.2,
            "bin_end": 3.6,
            "count": 0
           },
           {
            "bin_start": 3.6,
            "bin_end": 4,
            "count": 1
           }
          ]
         }
        },
        {
         "name": "lyrics_nostop",
         "dtype": "object",
         "stats": {
          "unique_count": 5,
          "nan_count": 0,
          "categories": [
           {
            "name": "all along western front people line up receive she got power hand to shock like won't believe saw amazon with voltage running through skin i standing nothing she gonna teach swim i said, \"ooh, girl! shock like electric eel baby girl turn electric feel\" i said, \"ooh, girl! shock like electric eel baby girl turn electric feel\" all along eastern shore put circuits sea this world making electricity you can feel mind oh, can do time plug in, change world you electric girl i said, \"ooh, girl! shock like electric eel baby girl turn electric feel\" i said, \"ooh, girl! shock like electric eel baby girl turn electric feel\" do feel now! electric feel now do feel now! electric feel now do feel now! electric feel now do feel now! electric feel now do feel now!64embed",
            "count": 1
           },
           {
            "name": "i remember i told story crushed velvet, candle wax, dried up flowers the figure bed dressed up roses, calling beckoning sleep, offering dream words were mystical purring animals the circle rage, ghosts stage appeared the time so tangible, i'll never let go ghost stories handed down reached secret tunnels below no one could see i fell into yesterday our dreams seemed not far away i want to, i want to, i want stay i fell into fantasy words were mystical purring animals the circle rage, ghosts stage appeared the time so tangible, i'll never let go ghost stories handed down reached secret tunnels below no one could see i fell into yesterday our dreams seemed not far away i want to, i want to, i want stay i fell into fantasy the girl wall always waited and always smiling the teenage death boys, teenage death girls and everyone dancing nothing could touch then, no one could change then everyone dancing nothing could hurt then, no one could see then everyone dancing no one could see i fell into yesterday our dreams seemed not far away i want to, i want to, i want stay i fell into fantasy our dreams seemed not far away i fell into fantasy1embed",
            "count": 1
           },
           {
            "name": "3 others",
            "count": 3
           }
          ]
         }
        },
        {
         "name": "tokens",
         "dtype": "object",
         "stats": {
          "unique_count": 5,
          "nan_count": 0,
          "categories": [
           {
            "name": "['all', 'along', 'western', 'front', 'people', 'line', 'up', 'receive', 'she', 'got', 'power', 'hand', 'to', 'shock', 'like', 'won', 'believe', 'saw', 'amazon', 'with', 'voltage', 'running', 'through', 'skin', 'standing', 'nothing', 'she', 'gonna', 'teach', 'swim', 'said', 'ooh', 'girl', 'shock', 'like', 'electric', 'eel', 'baby', 'girl', 'turn', 'electric', 'feel', 'said', 'ooh', 'girl', 'shock', 'like', 'electric', 'eel', 'baby', 'girl', 'turn', 'electric', 'feel', 'all', 'along', 'eastern', 'shore', 'put', 'circuits', 'sea', 'this', 'world', 'making', 'electricity', 'you', 'can', 'feel', 'mind', 'oh', 'can', 'do', 'time', 'plug', 'in', 'change', 'world', 'you', 'electric', 'girl', 'said', 'ooh', 'girl', 'shock', 'like', 'electric', 'eel', 'baby', 'girl', 'turn', 'electric', 'feel', 'said', 'ooh', 'girl', 'shock', 'like', 'electric', 'eel', 'baby', 'girl', 'turn', 'electric', 'feel', 'do', 'feel', 'now', 'electric', 'feel', 'now', 'do', 'feel', 'now', 'electric', 'feel', 'now', 'do', 'feel', 'now', 'electric', 'feel', 'now', 'do', 'feel', 'now', 'electric', 'feel', 'now', 'do', 'feel', 'now', '64embed']",
            "count": 1
           },
           {
            "name": "['remember', 'told', 'story', 'crushed', 'velvet', 'candle', 'wax', 'dried', 'up', 'flowers', 'the', 'figure', 'bed', 'dressed', 'up', 'roses', 'calling', 'beckoning', 'sleep', 'offering', 'dream', 'words', 'were', 'mystical', 'purring', 'animals', 'the', 'circle', 'rage', 'ghosts', 'stage', 'appeared', 'the', 'time', 'so', 'tangible', 'll', 'never', 'let', 'go', 'ghost', 'stories', 'handed', 'down', 'reached', 'secret', 'tunnels', 'below', 'no', 'one', 'could', 'see', 'fell', 'into', 'yesterday', 'our', 'dreams', 'seemed', 'not', 'far', 'away', 'want', 'to', 'want', 'to', 'want', 'stay', 'fell', 'into', 'fantasy', 'words', 'were', 'mystical', 'purring', 'animals', 'the', 'circle', 'rage', 'ghosts', 'stage', 'appeared', 'the', 'time', 'so', 'tangible', 'll', 'never', 'let', 'go', 'ghost', 'stories', 'handed', 'down', 'reached', 'secret', 'tunnels', 'below', 'no', 'one', 'could', 'see', 'fell', 'into', 'yesterday', 'our', 'dreams', 'seemed', 'not', 'far', 'away', 'want', 'to', 'want', 'to', 'want', 'stay', 'fell', 'into', 'fantasy', 'the', 'girl', 'wall', 'always', 'waited', 'and', 'always', 'smiling', 'the', 'teenage', 'death', 'boys', 'teenage', 'death', 'girls', 'and', 'everyone', 'dancing', 'nothing', 'could', 'touch', 'then', 'no', 'one', 'could', 'change', 'then', 'everyone', 'dancing', 'nothing', 'could', 'hurt', 'then', 'no', 'one', 'could', 'see', 'then', 'everyone', 'dancing', 'no', 'one', 'could', 'see', 'fell', 'into', 'yesterday', 'our', 'dreams', 'seemed', 'not', 'far', 'away', 'want', 'to', 'want', 'to', 'want', 'stay', 'fell', 'into', 'fantasy', 'our', 'dreams', 'seemed', 'not', 'far', 'away', 'fell', 'into', 'fantasy1embed']",
            "count": 1
           },
           {
            "name": "3 others",
            "count": 3
           }
          ]
         }
        },
        {
         "name": "_deepnote_index_column",
         "dtype": "int64"
        }
       ],
       "rows": [
        {
         "artist": "MGMT",
         "song_name": "Electric Feel ",
         "id": 0,
         "lyrics_nostop": "all along western front people line up receive she got power hand to shock like won't believe saw amazon with voltage running through skin i standing nothing she gonna teach swim i said, \"ooh, girl! shock like electric eel baby girl turn electric feel\" i said, \"ooh, girl! shock like electric eel baby girl turn electric feel\" all along eastern shore put circuits sea this world making electricity you can feel mind oh, can do time plug in, change world you electric girl i said, \"ooh, girl! shock like electric eel baby girl turn electric feel\" i said, \"ooh, girl! shock like electric eel baby girl turn electric feel\" do feel now! electric feel now do feel now! electric feel now do feel now! electric feel now do feel now! electric feel now do feel now!64embed",
         "tokens": "['all', 'along', 'western', 'front', 'people', 'line', 'up', 'receive', 'she', 'got', 'power', 'hand', 'to', 'shock', 'like', 'won', 'believe', 'saw', 'amazon', 'with', 'voltage', 'running', 'through', 'skin', 'standing', 'nothing', 'she', 'gonna', 'teach', 'swim', 'said', 'ooh', 'girl', 'shock', 'like', 'electric', 'eel', 'baby', 'girl', 'turn', 'electric', 'feel', 'said', 'ooh', 'girl', 'shock', 'like', 'electric', 'eel', 'baby', 'girl', 'turn', 'electric', 'feel', 'all', 'along', 'eastern', 'shore', 'put', 'circuits', 'sea', 'this', 'world', 'making', 'electricity', 'you', 'can', 'feel', 'mind', 'oh', 'can', 'do', 'time', 'plug', 'in', 'change', 'world', 'you', 'electric', 'girl', 'said', 'ooh', 'girl', 'shock', 'like', 'electric', 'eel', 'baby', 'girl', 'turn', 'electric', 'feel', 'said', 'ooh', 'girl', 'shock', 'like', 'electric', 'eel', 'baby', 'girl', 'turn', 'electric', 'feel', 'do', 'feel', 'now', 'electric', 'feel', 'now', 'do', 'feel', 'now', 'electric', 'feel', 'now', 'do'…",
         "_deepnote_index_column": 0
        },
        {
         "artist": "AFI",
         "song_name": "The Days of the Phoenix ",
         "id": 1,
         "lyrics_nostop": "i remember i told story crushed velvet, candle wax, dried up flowers the figure bed dressed up roses, calling beckoning sleep, offering dream words were mystical purring animals the circle rage, ghosts stage appeared the time so tangible, i'll never let go ghost stories handed down reached secret tunnels below no one could see i fell into yesterday our dreams seemed not far away i want to, i want to, i want stay i fell into fantasy words were mystical purring animals the circle rage, ghosts stage appeared the time so tangible, i'll never let go ghost stories handed down reached secret tunnels below no one could see i fell into yesterday our dreams seemed not far away i want to, i want to, i want stay i fell into fantasy the girl wall always waited and always smiling the teenage death boys, teenage death girls and everyone dancing nothing could touch then, no one could change then everyone dancing nothing could hurt then, no one could see then everyone dancing no one could see i fell i…",
         "tokens": "['remember', 'told', 'story', 'crushed', 'velvet', 'candle', 'wax', 'dried', 'up', 'flowers', 'the', 'figure', 'bed', 'dressed', 'up', 'roses', 'calling', 'beckoning', 'sleep', 'offering', 'dream', 'words', 'were', 'mystical', 'purring', 'animals', 'the', 'circle', 'rage', 'ghosts', 'stage', 'appeared', 'the', 'time', 'so', 'tangible', 'll', 'never', 'let', 'go', 'ghost', 'stories', 'handed', 'down', 'reached', 'secret', 'tunnels', 'below', 'no', 'one', 'could', 'see', 'fell', 'into', 'yesterday', 'our', 'dreams', 'seemed', 'not', 'far', 'away', 'want', 'to', 'want', 'to', 'want', 'stay', 'fell', 'into', 'fantasy', 'words', 'were', 'mystical', 'purring', 'animals', 'the', 'circle', 'rage', 'ghosts', 'stage', 'appeared', 'the', 'time', 'so', 'tangible', 'll', 'never', 'let', 'go', 'ghost', 'stories', 'handed', 'down', 'reached', 'secret', 'tunnels', 'below', 'no', 'one', 'could', 'see', 'fell', 'into', 'yesterday', 'our', 'dreams', 'seemed', 'not', 'far', 'away', 'want', 'to', 'want', …",
         "_deepnote_index_column": 1
        },
        {
         "artist": "TVontheRadio",
         "song_name": "DLZ ",
         "id": 2,
         "lyrics_nostop": "congratulations mess made things i'm trying reconstruct air brings and oxidation compromise own but beginning feel like dog wants bones, say la, la, la, la, la, la, la, la la, la, la, la, la, la, la, la, la la, la, la, la, la, la, la, la la, la, la, la, la, la, la, la, la you force fire then falsify deeds your methods dot disconnect creeds and fortune strives fill vacuum feeds but beginning feel like dog's lost lead, say la, la, la, la, la, la, la, la la, la, la, la, la, la, la, la, la la, la, la, la, la, la, la, la la, la, la, la, la, la, la, la, la this beginning feel like long winded blues never this beginning feel like it's curling up slowly finding throat choke this beginning feel like long winded blues never barely controlled locomotive consuming picture and blowing crows smoke this beginning feel like long winded blues never static explosion devoted crushing broken and shoving souls ghost eternalized, objectified you set sights so high but beginning feel like bolt busted loose …",
         "tokens": "['congratulations', 'mess', 'made', 'things', 'trying', 'reconstruct', 'air', 'brings', 'and', 'oxidation', 'compromise', 'own', 'but', 'beginning', 'feel', 'like', 'dog', 'wants', 'bones', 'say', 'la', 'la', 'la', 'la', 'la', 'la', 'la', 'la', 'la', 'la', 'la', 'la', 'la', 'la', 'la', 'la', 'la', 'la', 'la', 'la', 'la', 'la', 'la', 'la', 'la', 'la', 'la', 'la', 'la', 'la', 'la', 'la', 'la', 'la', 'you', 'force', 'fire', 'then', 'falsify', 'deeds', 'your', 'methods', 'dot', 'disconnect', 'creeds', 'and', 'fortune', 'strives', 'fill', 'vacuum', 'feeds', 'but', 'beginning', 'feel', 'like', 'dog', 'lost', 'lead', 'say', 'la', 'la', 'la', 'la', 'la', 'la', 'la', 'la', 'la', 'la', 'la', 'la', 'la', 'la', 'la', 'la', 'la', 'la', 'la', 'la', 'la', 'la', 'la', 'la', 'la', 'la', 'la', 'la', 'la', 'la', 'la', 'la', 'la', 'la', 'this', 'beginning', 'feel', 'like', 'long', 'winded', 'blues', 'never', 'this', 'beginning', 'feel', 'like', 'it', 'curling', 'up', 'slowly', 'finding', 'throat', 'choke…",
         "_deepnote_index_column": 2
        },
        {
         "artist": "SonicYouth",
         "song_name": "Schizophrenia ",
         "id": 3,
         "lyrics_nostop": "i went away see old friend mine his sister came over, out mind she said jesus had twin knew nothing about sin she laughing like crazy trouble i'm her light eyes were dancing, insane her brother says she's just bitch golden chain she keeps coming closer saying, \"i can feel bones schizophrenia taking home\" my future static it's already had i could tuck and we can talk about i had dream and split scene but i got hunch it's coming back me9embed",
         "tokens": "['went', 'away', 'see', 'old', 'friend', 'mine', 'his', 'sister', 'came', 'over', 'out', 'mind', 'she', 'said', 'jesus', 'had', 'twin', 'knew', 'nothing', 'about', 'sin', 'she', 'laughing', 'like', 'crazy', 'trouble', 'her', 'light', 'eyes', 'were', 'dancing', 'insane', 'her', 'brother', 'says', 'she', 'just', 'bitch', 'golden', 'chain', 'she', 'keeps', 'coming', 'closer', 'saying', 'can', 'feel', 'bones', 'schizophrenia', 'taking', 'home', 'my', 'future', 'static', 'it', 'already', 'had', 'could', 'tuck', 'and', 'we', 'can', 'talk', 'about', 'had', 'dream', 'and', 'split', 'scene', 'but', 'got', 'hunch', 'it', 'coming', 'back', 'me9embed']",
         "_deepnote_index_column": 3
        },
        {
         "artist": "NickCave&TheBadSeeds",
         "song_name": "O Children ",
         "id": 4,
         "lyrics_nostop": "pass lovely little gun my dear, darling one the cleaners coming one one you don't even want let start they knocking now upon door they measure room, know score they're mopping up butcher's floor of broken little hearts oh-oh-o children forgive now we've done it started out bit fun here, take these before we run away the keys gulag o children lift up voice, lift up voice children rejoice, rejoice come on, come on, come on, come here comes frank poor old jim they're gathering round friends we're older now, light dim and only just beginning oh-oh-o children we answer fears it's short, it's simple, it's crystal clear it's round about it's somewhere lost amongst winnings o children lift up voice, lift up voice children rejoice, rejoice the cleaners done job they're hip it, man, they're groove they've hosed down, you're good new and they're lining up inspect oh-oh-o children poor old jim's white ghost he's found answer we lost we're weeping now, weeping because there ain't nothing we can do…",
         "tokens": "['pass', 'lovely', 'little', 'gun', 'my', 'dear', 'darling', 'one', 'the', 'cleaners', 'coming', 'one', 'one', 'you', 'don', 'even', 'want', 'let', 'start', 'they', 'knocking', 'now', 'upon', 'door', 'they', 'measure', 'room', 'know', 'score', 'they', 're', 'mopping', 'up', 'butcher', 'floor', 'of', 'broken', 'little', 'hearts', 'oh', 'oh', 'children', 'forgive', 'now', 'we', 've', 'done', 'it', 'started', 'out', 'bit', 'fun', 'here', 'take', 'these', 'before', 'we', 'run', 'away', 'the', 'keys', 'gulag', 'children', 'lift', 'up', 'voice', 'lift', 'up', 'voice', 'children', 'rejoice', 'rejoice', 'come', 'on', 'come', 'on', 'come', 'on', 'come', 'here', 'comes', 'frank', 'poor', 'old', 'jim', 'they', 're', 'gathering', 'round', 'friends', 'we', 're', 'older', 'now', 'light', 'dim', 'and', 'only', 'just', 'beginning', 'oh', 'oh', 'children', 'we', 'answer', 'fears', 'it', 'short', 'it', 'simple', 'it', 'crystal', 'clear', 'it', 'round', 'about', 'it', 'somewhere', 'lost', 'amongst', 'wi…",
         "_deepnote_index_column": 4
        }
       ]
      },
      "text/plain": "                 artist                 song_name  id  \\\n0                  MGMT            Electric Feel    0   \n1                   AFI  The Days of the Phoenix    1   \n2          TVontheRadio                      DLZ    2   \n3            SonicYouth            Schizophrenia    3   \n4  NickCave&TheBadSeeds               O Children    4   \n\n                                       lyrics_nostop  \\\n0  all along western front people line up receive...   \n1  i remember i told story crushed velvet, candle...   \n2  congratulations mess made things i'm trying re...   \n3  i went away see old friend mine his sister cam...   \n4  pass lovely little gun my dear, darling one th...   \n\n                                              tokens  \n0  [all, along, western, front, people, line, up,...  \n1  [remember, told, story, crushed, velvet, candl...  \n2  [congratulations, mess, made, things, trying, ...  \n3  [went, away, see, old, friend, mine, his, sist...  \n4  [pass, lovely, little, gun, my, dear, darling,...  ",
      "text/html": "<div>\n<style scoped>\n    .dataframe tbody tr th:only-of-type {\n        vertical-align: middle;\n    }\n\n    .dataframe tbody tr th {\n        vertical-align: top;\n    }\n\n    .dataframe thead th {\n        text-align: right;\n    }\n</style>\n<table border=\"1\" class=\"dataframe\">\n  <thead>\n    <tr style=\"text-align: right;\">\n      <th></th>\n      <th>artist</th>\n      <th>song_name</th>\n      <th>id</th>\n      <th>lyrics_nostop</th>\n      <th>tokens</th>\n    </tr>\n  </thead>\n  <tbody>\n    <tr>\n      <th>0</th>\n      <td>MGMT</td>\n      <td>Electric Feel</td>\n      <td>0</td>\n      <td>all along western front people line up receive...</td>\n      <td>[all, along, western, front, people, line, up,...</td>\n    </tr>\n    <tr>\n      <th>1</th>\n      <td>AFI</td>\n      <td>The Days of the Phoenix</td>\n      <td>1</td>\n      <td>i remember i told story crushed velvet, candle...</td>\n      <td>[remember, told, story, crushed, velvet, candl...</td>\n    </tr>\n    <tr>\n      <th>2</th>\n      <td>TVontheRadio</td>\n      <td>DLZ</td>\n      <td>2</td>\n      <td>congratulations mess made things i'm trying re...</td>\n      <td>[congratulations, mess, made, things, trying, ...</td>\n    </tr>\n    <tr>\n      <th>3</th>\n      <td>SonicYouth</td>\n      <td>Schizophrenia</td>\n      <td>3</td>\n      <td>i went away see old friend mine his sister cam...</td>\n      <td>[went, away, see, old, friend, mine, his, sist...</td>\n    </tr>\n    <tr>\n      <th>4</th>\n      <td>NickCave&amp;TheBadSeeds</td>\n      <td>O Children</td>\n      <td>4</td>\n      <td>pass lovely little gun my dear, darling one th...</td>\n      <td>[pass, lovely, little, gun, my, dear, darling,...</td>\n    </tr>\n  </tbody>\n</table>\n</div>"
     },
     "metadata": {}
    }
   ]
  },
  {
   "cell_type": "markdown",
   "source": "## Find similarities between songs and queries",
   "metadata": {
    "formattedRanges": [],
    "cell_id": "ccb8b27bef304cce8b395e096fa3ad63",
    "tags": [],
    "is_collapsed": false,
    "deepnote_cell_type": "text-cell-h2"
   }
  },
  {
   "cell_type": "markdown",
   "source": "### General cosine similarity based on lyric similarity",
   "metadata": {
    "formattedRanges": [],
    "cell_id": "1e0bfbbdf4974525968266a416f897f1",
    "tags": [],
    "is_collapsed": false,
    "deepnote_cell_type": "text-cell-h3"
   }
  },
  {
   "cell_type": "code",
   "metadata": {
    "cell_id": "1c87e48520ee4771994d41ebfc95edb3",
    "tags": [],
    "deepnote_to_be_reexecuted": false,
    "source_hash": "ec062114",
    "execution_start": 1655837298137,
    "execution_millis": 537,
    "deepnote_cell_type": "code",
    "deepnote_cell_height": 772.375
   },
   "source": "query = \"I am very happy, give me happy\"\n\nq_ser = pd.Series([query])\nl_ser = pd.Series(df['lyrics_nostop'])\n\nq_lyrics = q_ser.append(l_ser)\n\n# the linear kernel is the dot product\ntf_idf = TfidfVectorizer().fit_transform(q_lyrics)\n# the query is the first item in the series, so compare it to the other items\ncosine_sim = cosine_similarity(tf_idf[0:1], tf_idf[1:]).flatten()\ntop_songs_indices = cosine_sim.argsort()[:-7:-1]\nprint(top_songs_indices)\nprint(cosine_sim[top_songs_indices])\n\ndf.iloc[top_songs_indices]",
   "execution_count": 12,
   "outputs": [
    {
     "name": "stdout",
     "text": "[1286 2174  449 1174   94 2227]\n[0.40734742 0.38548732 0.37506168 0.3115518  0.28000354 0.23671946]\n",
     "output_type": "stream"
    },
    {
     "output_type": "execute_result",
     "execution_count": 12,
     "data": {
      "application/vnd.deepnote.dataframe.v3+json": {
       "column_count": 5,
       "row_count": 6,
       "columns": [
        {
         "name": "artist",
         "dtype": "object",
         "stats": {
          "unique_count": 6,
          "nan_count": 0,
          "categories": [
           {
            "name": "DemiLovato",
            "count": 1
           },
           {
            "name": "TheKooks",
            "count": 1
           },
           {
            "name": "4 others",
            "count": 4
           }
          ]
         }
        },
        {
         "name": "song_name",
         "dtype": "object",
         "stats": {
          "unique_count": 6,
          "nan_count": 0,
          "categories": [
           {
            "name": "Stone Cold ",
            "count": 1
           },
           {
            "name": "Junk of the Heart (Happy) ",
            "count": 1
           },
           {
            "name": "4 others",
            "count": 4
           }
          ]
         }
        },
        {
         "name": "id",
         "dtype": "int64",
         "stats": {
          "unique_count": 6,
          "nan_count": 0,
          "min": "94",
          "max": "2227",
          "histogram": [
           {
            "bin_start": 94,
            "bin_end": 307.3,
            "count": 1
           },
           {
            "bin_start": 307.3,
            "bin_end": 520.6,
            "count": 1
           },
           {
            "bin_start": 520.6,
            "bin_end": 733.9000000000001,
            "count": 0
           },
           {
            "bin_start": 733.9000000000001,
            "bin_end": 947.2,
            "count": 0
           },
           {
            "bin_start": 947.2,
            "bin_end": 1160.5,
            "count": 0
           },
           {
            "bin_start": 1160.5,
            "bin_end": 1373.8000000000002,
            "count": 2
           },
           {
            "bin_start": 1373.8000000000002,
            "bin_end": 1587.1000000000001,
            "count": 0
           },
           {
            "bin_start": 1587.1000000000001,
            "bin_end": 1800.4,
            "count": 0
           },
           {
            "bin_start": 1800.4,
            "bin_end": 2013.7,
            "count": 0
           },
           {
            "bin_start": 2013.7,
            "bin_end": 2227,
            "count": 2
           }
          ]
         }
        },
        {
         "name": "lyrics_nostop",
         "dtype": "object",
         "stats": {
          "unique_count": 6,
          "nan_count": 0,
          "categories": [
           {
            "name": "stone cold, stone cold you see standing, i'm dying floor stone cold, stone cold maybe if i don't cry, i won't feel anymore stone cold, baby god knows i try feel happy know i am, even if i can't understand i'll take pain give truth me heart, we'll make through if happy her, i'm happy hmmm, stone cold, stone cold you're dancing her, while i'm staring phone stone cold, stone cold i amber, now she's shade gold stone cold, baby god knows i try feel happy know i am, even if i can't understand i'll take pain give truth me heart, we'll make through if happy her, i'm happy don't wanna stone cold, stone i wish i could mend this, here's goodbye oh, i'm happy know i am, even if i can't understand if happy if happy i'm happy you33embed",
            "count": 1
           },
           {
            "name": "junk heart junk mind so hard leave alone we get so drunk we can hardly see what use me, baby? see, i notice nothing makes shatter, no, no you're lover wild joker heart but mine? i wanna make happy i wanna make feel alive let make happy i wanna make feel alive night i wanna make happy are good girl through night? we sink sunk, life no race when i'm not happy, i'm disgrace so i spend time a-guessing you, oh you're lover wild joker heart but mine? i wanna make happy i wanna make feel alive let make happy i wanna make feel alive night i wanna make happy are good girl through night? yeah still i notice nothing makes shatter no, no you're lover wild joker heart but mine? i wanna make happy i wanna make feel alive let make happy i wanna make feel alive night i wanna make happy are good girl through night?14embed",
            "count": 1
           },
           {
            "name": "4 others",
            "count": 4
           }
          ]
         }
        },
        {
         "name": "tokens",
         "dtype": "object",
         "stats": {
          "unique_count": 6,
          "nan_count": 0,
          "categories": [
           {
            "name": "['stone', 'cold', 'stone', 'cold', 'you', 'see', 'standing', 'dying', 'floor', 'stone', 'cold', 'stone', 'cold', 'maybe', 'if', 'don', 'cry', 'won', 'feel', 'anymore', 'stone', 'cold', 'baby', 'god', 'knows', 'try', 'feel', 'happy', 'know', 'am', 'even', 'if', 'can', 'understand', 'll', 'take', 'pain', 'give', 'truth', 'me', 'heart', 'we', 'll', 'make', 'through', 'if', 'happy', 'her', 'happy', 'hmmm', 'stone', 'cold', 'stone', 'cold', 'you', 're', 'dancing', 'her', 'while', 'staring', 'phone', 'stone', 'cold', 'stone', 'cold', 'amber', 'now', 'she', 'shade', 'gold', 'stone', 'cold', 'baby', 'god', 'knows', 'try', 'feel', 'happy', 'know', 'am', 'even', 'if', 'can', 'understand', 'll', 'take', 'pain', 'give', 'truth', 'me', 'heart', 'we', 'll', 'make', 'through', 'if', 'happy', 'her', 'happy', 'don', 'wanna', 'stone', 'cold', 'stone', 'wish', 'could', 'mend', 'this', 'here', 'goodbye', 'oh', 'happy', 'know', 'am', 'even', 'if', 'can', 'understand', 'if', 'happy', 'if', 'happy', 'happy', 'you33embed']",
            "count": 1
           },
           {
            "name": "['junk', 'heart', 'junk', 'mind', 'so', 'hard', 'leave', 'alone', 'we', 'get', 'so', 'drunk', 'we', 'can', 'hardly', 'see', 'what', 'use', 'me', 'baby', 'see', 'notice', 'nothing', 'makes', 'shatter', 'no', 'no', 'you', 're', 'lover', 'wild', 'joker', 'heart', 'but', 'mine', 'wanna', 'make', 'happy', 'wanna', 'make', 'feel', 'alive', 'let', 'make', 'happy', 'wanna', 'make', 'feel', 'alive', 'night', 'wanna', 'make', 'happy', 'are', 'good', 'girl', 'through', 'night', 'we', 'sink', 'sunk', 'life', 'no', 'race', 'when', 'not', 'happy', 'disgrace', 'so', 'spend', 'time', 'guessing', 'you', 'oh', 'you', 're', 'lover', 'wild', 'joker', 'heart', 'but', 'mine', 'wanna', 'make', 'happy', 'wanna', 'make', 'feel', 'alive', 'let', 'make', 'happy', 'wanna', 'make', 'feel', 'alive', 'night', 'wanna', 'make', 'happy', 'are', 'good', 'girl', 'through', 'night', 'yeah', 'still', 'notice', 'nothing', 'makes', 'shatter', 'no', 'no', 'you', 're', 'lover', 'wild', 'joker', 'heart', 'but', 'mine', 'wanna', 'make', 'happy', 'wanna', 'make', 'feel', 'alive', 'let', 'make', 'happy', 'wanna', 'make', 'feel', 'alive', 'night', 'wanna', 'make', 'happy', 'are', 'good', 'girl', 'through', 'night', '14embed']",
            "count": 1
           },
           {
            "name": "4 others",
            "count": 4
           }
          ]
         }
        },
        {
         "name": "_deepnote_index_column",
         "dtype": "int64"
        }
       ],
       "rows": [
        {
         "artist": "DemiLovato",
         "song_name": "Stone Cold ",
         "id": 1286,
         "lyrics_nostop": "stone cold, stone cold you see standing, i'm dying floor stone cold, stone cold maybe if i don't cry, i won't feel anymore stone cold, baby god knows i try feel happy know i am, even if i can't understand i'll take pain give truth me heart, we'll make through if happy her, i'm happy hmmm, stone cold, stone cold you're dancing her, while i'm staring phone stone cold, stone cold i amber, now she's shade gold stone cold, baby god knows i try feel happy know i am, even if i can't understand i'll take pain give truth me heart, we'll make through if happy her, i'm happy don't wanna stone cold, stone i wish i could mend this, here's goodbye oh, i'm happy know i am, even if i can't understand if happy if happy i'm happy you33embed",
         "tokens": "['stone', 'cold', 'stone', 'cold', 'you', 'see', 'standing', 'dying', 'floor', 'stone', 'cold', 'stone', 'cold', 'maybe', 'if', 'don', 'cry', 'won', 'feel', 'anymore', 'stone', 'cold', 'baby', 'god', 'knows', 'try', 'feel', 'happy', 'know', 'am', 'even', 'if', 'can', 'understand', 'll', 'take', 'pain', 'give', 'truth', 'me', 'heart', 'we', 'll', 'make', 'through', 'if', 'happy', 'her', 'happy', 'hmmm', 'stone', 'cold', 'stone', 'cold', 'you', 're', 'dancing', 'her', 'while', 'staring', 'phone', 'stone', 'cold', 'stone', 'cold', 'amber', 'now', 'she', 'shade', 'gold', 'stone', 'cold', 'baby', 'god', 'knows', 'try', 'feel', 'happy', 'know', 'am', 'even', 'if', 'can', 'understand', 'll', 'take', 'pain', 'give', 'truth', 'me', 'heart', 'we', 'll', 'make', 'through', 'if', 'happy', 'her', 'happy', 'don', 'wanna', 'stone', 'cold', 'stone', 'wish', 'could', 'mend', 'this', 'here', 'goodbye', 'oh', 'happy', 'know', 'am', 'even', 'if', 'can', 'understand', 'if', 'happy', 'if', 'happy', 'happy'…",
         "_deepnote_index_column": 1286
        },
        {
         "artist": "TheKooks",
         "song_name": "Junk of the Heart (Happy) ",
         "id": 2174,
         "lyrics_nostop": "junk heart junk mind so hard leave alone we get so drunk we can hardly see what use me, baby? see, i notice nothing makes shatter, no, no you're lover wild joker heart but mine? i wanna make happy i wanna make feel alive let make happy i wanna make feel alive night i wanna make happy are good girl through night? we sink sunk, life no race when i'm not happy, i'm disgrace so i spend time a-guessing you, oh you're lover wild joker heart but mine? i wanna make happy i wanna make feel alive let make happy i wanna make feel alive night i wanna make happy are good girl through night? yeah still i notice nothing makes shatter no, no you're lover wild joker heart but mine? i wanna make happy i wanna make feel alive let make happy i wanna make feel alive night i wanna make happy are good girl through night?14embed",
         "tokens": "['junk', 'heart', 'junk', 'mind', 'so', 'hard', 'leave', 'alone', 'we', 'get', 'so', 'drunk', 'we', 'can', 'hardly', 'see', 'what', 'use', 'me', 'baby', 'see', 'notice', 'nothing', 'makes', 'shatter', 'no', 'no', 'you', 're', 'lover', 'wild', 'joker', 'heart', 'but', 'mine', 'wanna', 'make', 'happy', 'wanna', 'make', 'feel', 'alive', 'let', 'make', 'happy', 'wanna', 'make', 'feel', 'alive', 'night', 'wanna', 'make', 'happy', 'are', 'good', 'girl', 'through', 'night', 'we', 'sink', 'sunk', 'life', 'no', 'race', 'when', 'not', 'happy', 'disgrace', 'so', 'spend', 'time', 'guessing', 'you', 'oh', 'you', 're', 'lover', 'wild', 'joker', 'heart', 'but', 'mine', 'wanna', 'make', 'happy', 'wanna', 'make', 'feel', 'alive', 'let', 'make', 'happy', 'wanna', 'make', 'feel', 'alive', 'night', 'wanna', 'make', 'happy', 'are', 'good', 'girl', 'through', 'night', 'yeah', 'still', 'notice', 'nothing', 'makes', 'shatter', 'no', 'no', 'you', 're', 'lover', 'wild', 'joker', 'heart', 'but', 'mine', 'wanna'…",
         "_deepnote_index_column": 2174
        },
        {
         "artist": "SherylCrow",
         "song_name": "If It Makes You Happy ",
         "id": 449,
         "lyrics_nostop": "i've long, long way put poncho, played mosquitoes and drank 'til i thirsty again we went searching through thrift store jungles found geronimo's rifle, marilyn's shampoo and benny goodman's corset pen well, okay, i made up i promised i'd never give up if makes happy it can't bad if makes happy then hell so sad? you get down, real low down you listen coltrane, derail own train well, hasn't before? i come 'round, around hard way bring comics bed, scrape mold off bread and serve french toast again well, okay, i still get stoned i'm not kind girl you'd take home if makes happy it can't bad if makes happy then hell so sad? if makes happy it can't bad if makes happy then hell so sad? we've far, far away put poncho, played mosquitoes and everywhere between well, okay, we get along so if right now everything's wrong? if makes happy it can't bad if makes happy then hell so sad? if makes happy it can't bad if makes happy then hell so sad?9embed",
         "tokens": "['ve', 'long', 'long', 'way', 'put', 'poncho', 'played', 'mosquitoes', 'and', 'drank', 'til', 'thirsty', 'again', 'we', 'went', 'searching', 'through', 'thrift', 'store', 'jungles', 'found', 'geronimo', 'rifle', 'marilyn', 'shampoo', 'and', 'benny', 'goodman', 'corset', 'pen', 'well', 'okay', 'made', 'up', 'promised', 'never', 'give', 'up', 'if', 'makes', 'happy', 'it', 'can', 'bad', 'if', 'makes', 'happy', 'then', 'hell', 'so', 'sad', 'you', 'get', 'down', 'real', 'low', 'down', 'you', 'listen', 'coltrane', 'derail', 'own', 'train', 'well', 'hasn', 'before', 'come', 'round', 'around', 'hard', 'way', 'bring', 'comics', 'bed', 'scrape', 'mold', 'off', 'bread', 'and', 'serve', 'french', 'toast', 'again', 'well', 'okay', 'still', 'get', 'stoned', 'not', 'kind', 'girl', 'you', 'take', 'home', 'if', 'makes', 'happy', 'it', 'can', 'bad', 'if', 'makes', 'happy', 'then', 'hell', 'so', 'sad', 'if', 'makes', 'happy', 'it', 'can', 'bad', 'if', 'makes', 'happy', 'then', 'hell', 'so', 'sad', 'we',…",
         "_deepnote_index_column": 449
        },
        {
         "artist": "PharrellWilliams",
         "song_name": "Happy ",
         "id": 1174,
         "lyrics_nostop": "it might seem crazy i'm 'bout say sunshine she's here, can take break i'm hot air balloon could go space with air, like i don't care, baby, way (because i'm happy) clap along if feel like room without roof (because i'm happy) clap along if feel like happiness truth (because i'm happy) clap along if know happiness (because i'm happy) clap along if feel like that's wanna do here come bad news, talking (yeah!) well, give got, don't hold back (yeah!) well, i should probably warn ya, i'll just fine (yeah!) no offense you, don’t waste time, here's (because i'm happy) clap along if feel like room without roof (because i'm happy) clap along if feel like happiness truth (because i'm happy) clap along if know happiness (because i'm happy) clap along if feel like that's wanna do bring down can't nothing bring down my level's too high bring down can't nothing bring down, i said bring down can't nothing bring down my level's too high bring down can't nothing bring down, i said (because i'm happy) …",
         "tokens": "['it', 'might', 'seem', 'crazy', 'bout', 'say', 'sunshine', 'she', 'here', 'can', 'take', 'break', 'hot', 'air', 'balloon', 'could', 'go', 'space', 'with', 'air', 'like', 'don', 'care', 'baby', 'way', 'because', 'happy', 'clap', 'along', 'if', 'feel', 'like', 'room', 'without', 'roof', 'because', 'happy', 'clap', 'along', 'if', 'feel', 'like', 'happiness', 'truth', 'because', 'happy', 'clap', 'along', 'if', 'know', 'happiness', 'because', 'happy', 'clap', 'along', 'if', 'feel', 'like', 'that', 'wanna', 'do', 'here', 'come', 'bad', 'news', 'talking', 'yeah', 'well', 'give', 'got', 'don', 'hold', 'back', 'yeah', 'well', 'should', 'probably', 'warn', 'ya', 'll', 'just', 'fine', 'yeah', 'no', 'offense', 'you', 'don', 'waste', 'time', 'here', 'because', 'happy', 'clap', 'along', 'if', 'feel', 'like', 'room', 'without', 'roof', 'because', 'happy', 'clap', 'along', 'if', 'feel', 'like', 'happiness', 'truth', 'because', 'happy', 'clap', 'along', 'if', 'know', 'happiness', 'because', 'happy', …",
         "_deepnote_index_column": 1174
        },
        {
         "artist": "TheWombats",
         "song_name": "Let’s Dance to Joy Division ",
         "id": 94,
         "lyrics_nostop": "i'm back liverpool everything seems same but i worked something out last night that changed little boy's brain a small piece advice took twenty-two years make and i break now; please learn mistakes please learn mistakes let's dance joy division celebrate irony everything going wrong, we're so happy let's dance joy division raise glass ceiling 'cause could go so wrong, we're so happy yeah, we're so happy... so if you're ever feeling down, grab purse take taxi to darker side town; that's we'll and we wait lead through dance floor up dj booth, know ask you know ask for... go ask joy division celebrate irony everything going wrong, we're so happy let's dance joy division raise glass ceiling 'cause could go so wrong, we're so happy yeah, we're so happy... let love tear apart; i've found cure broken heart let tear apart let love tear apart; i've found cure broken heart let tear apart (let tear apart) so let love tear apart; i've found cure broken heart let tear apart (let tear apart) so let…",
         "tokens": "['back', 'liverpool', 'everything', 'seems', 'same', 'but', 'worked', 'something', 'out', 'last', 'night', 'that', 'changed', 'little', 'boy', 'brain', 'small', 'piece', 'advice', 'took', 'twenty', 'two', 'years', 'make', 'and', 'break', 'now', 'please', 'learn', 'mistakes', 'please', 'learn', 'mistakes', 'let', 'dance', 'joy', 'division', 'celebrate', 'irony', 'everything', 'going', 'wrong', 'we', 're', 'so', 'happy', 'let', 'dance', 'joy', 'division', 'raise', 'glass', 'ceiling', 'cause', 'could', 'go', 'so', 'wrong', 'we', 're', 'so', 'happy', 'yeah', 'we', 're', 'so', 'happy', 'so', 'if', 'you', 're', 'ever', 'feeling', 'down', 'grab', 'purse', 'take', 'taxi', 'to', 'darker', 'side', 'town', 'that', 'we', 'll', 'and', 'we', 'wait', 'lead', 'through', 'dance', 'floor', 'up', 'dj', 'booth', 'know', 'ask', 'you', 'know', 'ask', 'for', 'go', 'ask', 'joy', 'division', 'celebrate', 'irony', 'everything', 'going', 'wrong', 'we', 're', 'so', 'happy', 'let', 'dance', 'joy', 'division', 'ra…",
         "_deepnote_index_column": 94
        },
        {
         "artist": "CatStevens",
         "song_name": "Tea for the Tillerman ",
         "id": 2227,
         "lyrics_nostop": "bring tea tillerman steak sun wine woman made rain come seagulls sing hearts away ’cause while sinners sin the children play oh lord, play play for happy day for happy dayembed",
         "tokens": "['bring', 'tea', 'tillerman', 'steak', 'sun', 'wine', 'woman', 'made', 'rain', 'come', 'seagulls', 'sing', 'hearts', 'away', 'cause', 'while', 'sinners', 'sin', 'the', 'children', 'play', 'oh', 'lord', 'play', 'play', 'for', 'happy', 'day', 'for', 'happy', 'dayembed']",
         "_deepnote_index_column": 2227
        }
       ]
      },
      "text/plain": "                artist                     song_name    id  \\\n1286        DemiLovato                   Stone Cold   1286   \n2174          TheKooks    Junk of the Heart (Happy)   2174   \n449         SherylCrow        If It Makes You Happy    449   \n1174  PharrellWilliams                        Happy   1174   \n94          TheWombats  Let’s Dance to Joy Division     94   \n2227        CatStevens        Tea for the Tillerman   2227   \n\n                                          lyrics_nostop  \\\n1286  stone cold, stone cold you see standing, i'm d...   \n2174  junk heart junk mind so hard leave alone we ge...   \n449   i've long, long way put poncho, played mosquit...   \n1174  it might seem crazy i'm 'bout say sunshine she...   \n94    i'm back liverpool everything seems same but i...   \n2227  bring tea tillerman steak sun wine woman made ...   \n\n                                                 tokens  \n1286  [stone, cold, stone, cold, you, see, standing,...  \n2174  [junk, heart, junk, mind, so, hard, leave, alo...  \n449   [ve, long, long, way, put, poncho, played, mos...  \n1174  [it, might, seem, crazy, bout, say, sunshine, ...  \n94    [back, liverpool, everything, seems, same, but...  \n2227  [bring, tea, tillerman, steak, sun, wine, woma...  ",
      "text/html": "<div>\n<style scoped>\n    .dataframe tbody tr th:only-of-type {\n        vertical-align: middle;\n    }\n\n    .dataframe tbody tr th {\n        vertical-align: top;\n    }\n\n    .dataframe thead th {\n        text-align: right;\n    }\n</style>\n<table border=\"1\" class=\"dataframe\">\n  <thead>\n    <tr style=\"text-align: right;\">\n      <th></th>\n      <th>artist</th>\n      <th>song_name</th>\n      <th>id</th>\n      <th>lyrics_nostop</th>\n      <th>tokens</th>\n    </tr>\n  </thead>\n  <tbody>\n    <tr>\n      <th>1286</th>\n      <td>DemiLovato</td>\n      <td>Stone Cold</td>\n      <td>1286</td>\n      <td>stone cold, stone cold you see standing, i'm d...</td>\n      <td>[stone, cold, stone, cold, you, see, standing,...</td>\n    </tr>\n    <tr>\n      <th>2174</th>\n      <td>TheKooks</td>\n      <td>Junk of the Heart (Happy)</td>\n      <td>2174</td>\n      <td>junk heart junk mind so hard leave alone we ge...</td>\n      <td>[junk, heart, junk, mind, so, hard, leave, alo...</td>\n    </tr>\n    <tr>\n      <th>449</th>\n      <td>SherylCrow</td>\n      <td>If It Makes You Happy</td>\n      <td>449</td>\n      <td>i've long, long way put poncho, played mosquit...</td>\n      <td>[ve, long, long, way, put, poncho, played, mos...</td>\n    </tr>\n    <tr>\n      <th>1174</th>\n      <td>PharrellWilliams</td>\n      <td>Happy</td>\n      <td>1174</td>\n      <td>it might seem crazy i'm 'bout say sunshine she...</td>\n      <td>[it, might, seem, crazy, bout, say, sunshine, ...</td>\n    </tr>\n    <tr>\n      <th>94</th>\n      <td>TheWombats</td>\n      <td>Let’s Dance to Joy Division</td>\n      <td>94</td>\n      <td>i'm back liverpool everything seems same but i...</td>\n      <td>[back, liverpool, everything, seems, same, but...</td>\n    </tr>\n    <tr>\n      <th>2227</th>\n      <td>CatStevens</td>\n      <td>Tea for the Tillerman</td>\n      <td>2227</td>\n      <td>bring tea tillerman steak sun wine woman made ...</td>\n      <td>[bring, tea, tillerman, steak, sun, wine, woma...</td>\n    </tr>\n  </tbody>\n</table>\n</div>"
     },
     "metadata": {}
    }
   ]
  },
  {
   "cell_type": "markdown",
   "source": "If you look at the lyrics, key words like \"happy\" and \"give\" show up a lot, but the query is only stop words and those two words, and there are no stop words in the lyrics! So we need to look at some other methods, first lets make this a function.",
   "metadata": {
    "formattedRanges": [],
    "cell_id": "06bd8f2499bf456c9900e029222eac4a",
    "tags": [],
    "is_collapsed": false,
    "deepnote_cell_type": "text-cell-p"
   }
  },
  {
   "cell_type": "code",
   "metadata": {
    "cell_id": "adb95112c4394feb96699e2182803ac4",
    "tags": [],
    "deepnote_to_be_reexecuted": false,
    "source_hash": "e0cc0860",
    "execution_start": 1655837298722,
    "execution_millis": 1,
    "deepnote_cell_type": "code",
    "deepnote_cell_height": 297
   },
   "source": "def get_songs_from_lyrics(query, df, amnt):\n    q_ser = pd.Series([query])\n    l_ser = pd.Series(df['lyrics_nostop'])\n\n    q_lyrics = q_ser.append(l_ser)\n\n    # the linear kernel is the dot product\n    tf_idf = TfidfVectorizer().fit_transform(q_lyrics)\n    # the query is the first item in the series, so compare it to the other items\n    cosine_sim = cosine_similarity(tf_idf[0:1], tf_idf[1:]).flatten()\n    top_songs_indices = cosine_sim.argsort()[:-amnt:-1]\n\n    df.iloc[top_songs_indices]",
   "execution_count": 13,
   "outputs": []
  },
  {
   "cell_type": "markdown",
   "source": "My idea is to incorporate some data from spotify, as they have some nice metrics such as 'danceability', 'energy', 'loudness' etc. If we create a vector for each song, we can use a similar method to the one above, where we measure the 'closeness' of each vector. The query in this case would have to be a song, so we can extract the same metrics and measure closeness.",
   "metadata": {
    "formattedRanges": [],
    "cell_id": "22c4d77534594d72aabb58d06ac89e6c",
    "tags": [],
    "is_collapsed": false,
    "deepnote_cell_type": "text-cell-p"
   }
  },
  {
   "cell_type": "markdown",
   "source": "## Connecting to Spotify",
   "metadata": {
    "formattedRanges": [],
    "cell_id": "d5bd4e3dbdd94b0891aa1de04c2dd0ff",
    "tags": [],
    "is_collapsed": false,
    "deepnote_cell_type": "text-cell-h2"
   }
  },
  {
   "cell_type": "markdown",
   "source": "",
   "metadata": {
    "formattedRanges": [],
    "cell_id": "557ae66015c346338686d15e8eb6bada",
    "tags": [],
    "is_collapsed": false,
    "deepnote_cell_type": "text-cell-p"
   }
  },
  {
   "cell_type": "code",
   "metadata": {
    "cell_id": "f78e73b55da444fdb8547888b0cd1b4f",
    "tags": [],
    "deepnote_to_be_reexecuted": false,
    "source_hash": "375f3a51",
    "execution_start": 1655837298723,
    "execution_millis": 0,
    "deepnote_cell_type": "code",
    "deepnote_cell_height": 135
   },
   "source": "cid = '1d668be1930e487eaacd284df4fa7601'\nsecret = '08ac712c04ba4bffaeb232efe98a7a54'\n\nsp = initialize_client(cid,secret)",
   "execution_count": 14,
   "outputs": []
  },
  {
   "cell_type": "code",
   "metadata": {
    "cell_id": "826a7727f37f495b88dd493904a1284f",
    "tags": [],
    "deepnote_to_be_reexecuted": false,
    "source_hash": "c9f2bdfe",
    "execution_start": 1655837298724,
    "execution_millis": 63,
    "deepnote_cell_type": "code",
    "deepnote_cell_height": 148.1875
   },
   "source": "# test functionality\nsong = search_for_song(sp, \"Pharrell Williams\", \"Happy\")\nprint(song)",
   "execution_count": 15,
   "outputs": [
    {
     "name": "stdout",
     "text": "60nZcImufyMA1MKQY3dcCH\n",
     "output_type": "stream"
    }
   ]
  },
  {
   "cell_type": "code",
   "metadata": {
    "cell_id": "2e569fd6416f4275b8cfa0a6898741b5",
    "tags": [],
    "deepnote_to_be_reexecuted": false,
    "source_hash": "456917e7",
    "execution_start": 1655837298835,
    "execution_millis": 51,
    "deepnote_cell_type": "code",
    "deepnote_cell_height": 148.1875
   },
   "source": "# pretty sure this isn't a song\nsong = search_for_song(sp, \"Beep Boop\", \"Bop\")\nprint(song)",
   "execution_count": 16,
   "outputs": [
    {
     "name": "stdout",
     "text": "nan\n",
     "output_type": "stream"
    }
   ]
  },
  {
   "cell_type": "markdown",
   "source": "We can now use this id to extract certain information, but we want this information for all of the songs in our dataset.",
   "metadata": {
    "formattedRanges": [],
    "cell_id": "4387e8b55b3a4f49a422d26526811463",
    "tags": [],
    "is_collapsed": false,
    "deepnote_cell_type": "text-cell-p"
   }
  },
  {
   "cell_type": "code",
   "metadata": {
    "cell_id": "483330a39b5c413cb51b84358c4c8e47",
    "tags": [],
    "deepnote_to_be_reexecuted": false,
    "source_hash": "395fc612",
    "execution_start": 1655837298880,
    "execution_millis": 33,
    "deepnote_cell_type": "code",
    "deepnote_cell_height": 81
   },
   "source": "df[\"artist_tokens\"] = df[\"artist\"].apply(lambda x: re.findall('([A-Z.!,$\\'][a-z]*)', x))",
   "execution_count": 17,
   "outputs": []
  },
  {
   "cell_type": "code",
   "metadata": {
    "cell_id": "ea7738e9c15d4816add5dda3ef6fe7d8",
    "tags": [],
    "deepnote_to_be_reexecuted": false,
    "source_hash": "c085b6ba",
    "execution_start": 1655837298914,
    "execution_millis": 5,
    "deepnote_cell_type": "code",
    "deepnote_cell_height": 395
   },
   "source": "df.head()",
   "execution_count": 18,
   "outputs": [
    {
     "output_type": "execute_result",
     "execution_count": 18,
     "data": {
      "application/vnd.deepnote.dataframe.v3+json": {
       "column_count": 6,
       "row_count": 5,
       "columns": [
        {
         "name": "artist",
         "dtype": "object",
         "stats": {
          "unique_count": 5,
          "nan_count": 0,
          "categories": [
           {
            "name": "MGMT",
            "count": 1
           },
           {
            "name": "AFI",
            "count": 1
           },
           {
            "name": "3 others",
            "count": 3
           }
          ]
         }
        },
        {
         "name": "song_name",
         "dtype": "object",
         "stats": {
          "unique_count": 5,
          "nan_count": 0,
          "categories": [
           {
            "name": "Electric Feel ",
            "count": 1
           },
           {
            "name": "The Days of the Phoenix ",
            "count": 1
           },
           {
            "name": "3 others",
            "count": 3
           }
          ]
         }
        },
        {
         "name": "id",
         "dtype": "int64",
         "stats": {
          "unique_count": 5,
          "nan_count": 0,
          "min": "0",
          "max": "4",
          "histogram": [
           {
            "bin_start": 0,
            "bin_end": 0.4,
            "count": 1
           },
           {
            "bin_start": 0.4,
            "bin_end": 0.8,
            "count": 0
           },
           {
            "bin_start": 0.8,
            "bin_end": 1.2000000000000002,
            "count": 1
           },
           {
            "bin_start": 1.2000000000000002,
            "bin_end": 1.6,
            "count": 0
           },
           {
            "bin_start": 1.6,
            "bin_end": 2,
            "count": 0
           },
           {
            "bin_start": 2,
            "bin_end": 2.4000000000000004,
            "count": 1
           },
           {
            "bin_start": 2.4000000000000004,
            "bin_end": 2.8000000000000003,
            "count": 0
           },
           {
            "bin_start": 2.8000000000000003,
            "bin_end": 3.2,
            "count": 1
           },
           {
            "bin_start": 3.2,
            "bin_end": 3.6,
            "count": 0
           },
           {
            "bin_start": 3.6,
            "bin_end": 4,
            "count": 1
           }
          ]
         }
        },
        {
         "name": "lyrics_nostop",
         "dtype": "object",
         "stats": {
          "unique_count": 5,
          "nan_count": 0,
          "categories": [
           {
            "name": "all along western front people line up receive she got power hand to shock like won't believe saw amazon with voltage running through skin i standing nothing she gonna teach swim i said, \"ooh, girl! shock like electric eel baby girl turn electric feel\" i said, \"ooh, girl! shock like electric eel baby girl turn electric feel\" all along eastern shore put circuits sea this world making electricity you can feel mind oh, can do time plug in, change world you electric girl i said, \"ooh, girl! shock like electric eel baby girl turn electric feel\" i said, \"ooh, girl! shock like electric eel baby girl turn electric feel\" do feel now! electric feel now do feel now! electric feel now do feel now! electric feel now do feel now! electric feel now do feel now!64embed",
            "count": 1
           },
           {
            "name": "i remember i told story crushed velvet, candle wax, dried up flowers the figure bed dressed up roses, calling beckoning sleep, offering dream words were mystical purring animals the circle rage, ghosts stage appeared the time so tangible, i'll never let go ghost stories handed down reached secret tunnels below no one could see i fell into yesterday our dreams seemed not far away i want to, i want to, i want stay i fell into fantasy words were mystical purring animals the circle rage, ghosts stage appeared the time so tangible, i'll never let go ghost stories handed down reached secret tunnels below no one could see i fell into yesterday our dreams seemed not far away i want to, i want to, i want stay i fell into fantasy the girl wall always waited and always smiling the teenage death boys, teenage death girls and everyone dancing nothing could touch then, no one could change then everyone dancing nothing could hurt then, no one could see then everyone dancing no one could see i fell into yesterday our dreams seemed not far away i want to, i want to, i want stay i fell into fantasy our dreams seemed not far away i fell into fantasy1embed",
            "count": 1
           },
           {
            "name": "3 others",
            "count": 3
           }
          ]
         }
        },
        {
         "name": "tokens",
         "dtype": "object",
         "stats": {
          "unique_count": 5,
          "nan_count": 0,
          "categories": [
           {
            "name": "['all', 'along', 'western', 'front', 'people', 'line', 'up', 'receive', 'she', 'got', 'power', 'hand', 'to', 'shock', 'like', 'won', 'believe', 'saw', 'amazon', 'with', 'voltage', 'running', 'through', 'skin', 'standing', 'nothing', 'she', 'gonna', 'teach', 'swim', 'said', 'ooh', 'girl', 'shock', 'like', 'electric', 'eel', 'baby', 'girl', 'turn', 'electric', 'feel', 'said', 'ooh', 'girl', 'shock', 'like', 'electric', 'eel', 'baby', 'girl', 'turn', 'electric', 'feel', 'all', 'along', 'eastern', 'shore', 'put', 'circuits', 'sea', 'this', 'world', 'making', 'electricity', 'you', 'can', 'feel', 'mind', 'oh', 'can', 'do', 'time', 'plug', 'in', 'change', 'world', 'you', 'electric', 'girl', 'said', 'ooh', 'girl', 'shock', 'like', 'electric', 'eel', 'baby', 'girl', 'turn', 'electric', 'feel', 'said', 'ooh', 'girl', 'shock', 'like', 'electric', 'eel', 'baby', 'girl', 'turn', 'electric', 'feel', 'do', 'feel', 'now', 'electric', 'feel', 'now', 'do', 'feel', 'now', 'electric', 'feel', 'now', 'do', 'feel', 'now', 'electric', 'feel', 'now', 'do', 'feel', 'now', 'electric', 'feel', 'now', 'do', 'feel', 'now', '64embed']",
            "count": 1
           },
           {
            "name": "['remember', 'told', 'story', 'crushed', 'velvet', 'candle', 'wax', 'dried', 'up', 'flowers', 'the', 'figure', 'bed', 'dressed', 'up', 'roses', 'calling', 'beckoning', 'sleep', 'offering', 'dream', 'words', 'were', 'mystical', 'purring', 'animals', 'the', 'circle', 'rage', 'ghosts', 'stage', 'appeared', 'the', 'time', 'so', 'tangible', 'll', 'never', 'let', 'go', 'ghost', 'stories', 'handed', 'down', 'reached', 'secret', 'tunnels', 'below', 'no', 'one', 'could', 'see', 'fell', 'into', 'yesterday', 'our', 'dreams', 'seemed', 'not', 'far', 'away', 'want', 'to', 'want', 'to', 'want', 'stay', 'fell', 'into', 'fantasy', 'words', 'were', 'mystical', 'purring', 'animals', 'the', 'circle', 'rage', 'ghosts', 'stage', 'appeared', 'the', 'time', 'so', 'tangible', 'll', 'never', 'let', 'go', 'ghost', 'stories', 'handed', 'down', 'reached', 'secret', 'tunnels', 'below', 'no', 'one', 'could', 'see', 'fell', 'into', 'yesterday', 'our', 'dreams', 'seemed', 'not', 'far', 'away', 'want', 'to', 'want', 'to', 'want', 'stay', 'fell', 'into', 'fantasy', 'the', 'girl', 'wall', 'always', 'waited', 'and', 'always', 'smiling', 'the', 'teenage', 'death', 'boys', 'teenage', 'death', 'girls', 'and', 'everyone', 'dancing', 'nothing', 'could', 'touch', 'then', 'no', 'one', 'could', 'change', 'then', 'everyone', 'dancing', 'nothing', 'could', 'hurt', 'then', 'no', 'one', 'could', 'see', 'then', 'everyone', 'dancing', 'no', 'one', 'could', 'see', 'fell', 'into', 'yesterday', 'our', 'dreams', 'seemed', 'not', 'far', 'away', 'want', 'to', 'want', 'to', 'want', 'stay', 'fell', 'into', 'fantasy', 'our', 'dreams', 'seemed', 'not', 'far', 'away', 'fell', 'into', 'fantasy1embed']",
            "count": 1
           },
           {
            "name": "3 others",
            "count": 3
           }
          ]
         }
        },
        {
         "name": "artist_tokens",
         "dtype": "object",
         "stats": {
          "unique_count": 5,
          "nan_count": 0,
          "categories": [
           {
            "name": "['M', 'G', 'M', 'T']",
            "count": 1
           },
           {
            "name": "['A', 'F', 'I']",
            "count": 1
           },
           {
            "name": "3 others",
            "count": 3
           }
          ]
         }
        },
        {
         "name": "_deepnote_index_column",
         "dtype": "int64"
        }
       ],
       "rows": [
        {
         "artist": "MGMT",
         "song_name": "Electric Feel ",
         "id": 0,
         "lyrics_nostop": "all along western front people line up receive she got power hand to shock like won't believe saw amazon with voltage running through skin i standing nothing she gonna teach swim i said, \"ooh, girl! shock like electric eel baby girl turn electric feel\" i said, \"ooh, girl! shock like electric eel baby girl turn electric feel\" all along eastern shore put circuits sea this world making electricity you can feel mind oh, can do time plug in, change world you electric girl i said, \"ooh, girl! shock like electric eel baby girl turn electric feel\" i said, \"ooh, girl! shock like electric eel baby girl turn electric feel\" do feel now! electric feel now do feel now! electric feel now do feel now! electric feel now do feel now! electric feel now do feel now!64embed",
         "tokens": "['all', 'along', 'western', 'front', 'people', 'line', 'up', 'receive', 'she', 'got', 'power', 'hand', 'to', 'shock', 'like', 'won', 'believe', 'saw', 'amazon', 'with', 'voltage', 'running', 'through', 'skin', 'standing', 'nothing', 'she', 'gonna', 'teach', 'swim', 'said', 'ooh', 'girl', 'shock', 'like', 'electric', 'eel', 'baby', 'girl', 'turn', 'electric', 'feel', 'said', 'ooh', 'girl', 'shock', 'like', 'electric', 'eel', 'baby', 'girl', 'turn', 'electric', 'feel', 'all', 'along', 'eastern', 'shore', 'put', 'circuits', 'sea', 'this', 'world', 'making', 'electricity', 'you', 'can', 'feel', 'mind', 'oh', 'can', 'do', 'time', 'plug', 'in', 'change', 'world', 'you', 'electric', 'girl', 'said', 'ooh', 'girl', 'shock', 'like', 'electric', 'eel', 'baby', 'girl', 'turn', 'electric', 'feel', 'said', 'ooh', 'girl', 'shock', 'like', 'electric', 'eel', 'baby', 'girl', 'turn', 'electric', 'feel', 'do', 'feel', 'now', 'electric', 'feel', 'now', 'do', 'feel', 'now', 'electric', 'feel', 'now', 'do'…",
         "artist_tokens": "['M', 'G', 'M', 'T']",
         "_deepnote_index_column": 0
        },
        {
         "artist": "AFI",
         "song_name": "The Days of the Phoenix ",
         "id": 1,
         "lyrics_nostop": "i remember i told story crushed velvet, candle wax, dried up flowers the figure bed dressed up roses, calling beckoning sleep, offering dream words were mystical purring animals the circle rage, ghosts stage appeared the time so tangible, i'll never let go ghost stories handed down reached secret tunnels below no one could see i fell into yesterday our dreams seemed not far away i want to, i want to, i want stay i fell into fantasy words were mystical purring animals the circle rage, ghosts stage appeared the time so tangible, i'll never let go ghost stories handed down reached secret tunnels below no one could see i fell into yesterday our dreams seemed not far away i want to, i want to, i want stay i fell into fantasy the girl wall always waited and always smiling the teenage death boys, teenage death girls and everyone dancing nothing could touch then, no one could change then everyone dancing nothing could hurt then, no one could see then everyone dancing no one could see i fell i…",
         "tokens": "['remember', 'told', 'story', 'crushed', 'velvet', 'candle', 'wax', 'dried', 'up', 'flowers', 'the', 'figure', 'bed', 'dressed', 'up', 'roses', 'calling', 'beckoning', 'sleep', 'offering', 'dream', 'words', 'were', 'mystical', 'purring', 'animals', 'the', 'circle', 'rage', 'ghosts', 'stage', 'appeared', 'the', 'time', 'so', 'tangible', 'll', 'never', 'let', 'go', 'ghost', 'stories', 'handed', 'down', 'reached', 'secret', 'tunnels', 'below', 'no', 'one', 'could', 'see', 'fell', 'into', 'yesterday', 'our', 'dreams', 'seemed', 'not', 'far', 'away', 'want', 'to', 'want', 'to', 'want', 'stay', 'fell', 'into', 'fantasy', 'words', 'were', 'mystical', 'purring', 'animals', 'the', 'circle', 'rage', 'ghosts', 'stage', 'appeared', 'the', 'time', 'so', 'tangible', 'll', 'never', 'let', 'go', 'ghost', 'stories', 'handed', 'down', 'reached', 'secret', 'tunnels', 'below', 'no', 'one', 'could', 'see', 'fell', 'into', 'yesterday', 'our', 'dreams', 'seemed', 'not', 'far', 'away', 'want', 'to', 'want', …",
         "artist_tokens": "['A', 'F', 'I']",
         "_deepnote_index_column": 1
        },
        {
         "artist": "TVontheRadio",
         "song_name": "DLZ ",
         "id": 2,
         "lyrics_nostop": "congratulations mess made things i'm trying reconstruct air brings and oxidation compromise own but beginning feel like dog wants bones, say la, la, la, la, la, la, la, la la, la, la, la, la, la, la, la, la la, la, la, la, la, la, la, la la, la, la, la, la, la, la, la, la you force fire then falsify deeds your methods dot disconnect creeds and fortune strives fill vacuum feeds but beginning feel like dog's lost lead, say la, la, la, la, la, la, la, la la, la, la, la, la, la, la, la, la la, la, la, la, la, la, la, la la, la, la, la, la, la, la, la, la this beginning feel like long winded blues never this beginning feel like it's curling up slowly finding throat choke this beginning feel like long winded blues never barely controlled locomotive consuming picture and blowing crows smoke this beginning feel like long winded blues never static explosion devoted crushing broken and shoving souls ghost eternalized, objectified you set sights so high but beginning feel like bolt busted loose …",
         "tokens": "['congratulations', 'mess', 'made', 'things', 'trying', 'reconstruct', 'air', 'brings', 'and', 'oxidation', 'compromise', 'own', 'but', 'beginning', 'feel', 'like', 'dog', 'wants', 'bones', 'say', 'la', 'la', 'la', 'la', 'la', 'la', 'la', 'la', 'la', 'la', 'la', 'la', 'la', 'la', 'la', 'la', 'la', 'la', 'la', 'la', 'la', 'la', 'la', 'la', 'la', 'la', 'la', 'la', 'la', 'la', 'la', 'la', 'la', 'la', 'you', 'force', 'fire', 'then', 'falsify', 'deeds', 'your', 'methods', 'dot', 'disconnect', 'creeds', 'and', 'fortune', 'strives', 'fill', 'vacuum', 'feeds', 'but', 'beginning', 'feel', 'like', 'dog', 'lost', 'lead', 'say', 'la', 'la', 'la', 'la', 'la', 'la', 'la', 'la', 'la', 'la', 'la', 'la', 'la', 'la', 'la', 'la', 'la', 'la', 'la', 'la', 'la', 'la', 'la', 'la', 'la', 'la', 'la', 'la', 'la', 'la', 'la', 'la', 'la', 'la', 'this', 'beginning', 'feel', 'like', 'long', 'winded', 'blues', 'never', 'this', 'beginning', 'feel', 'like', 'it', 'curling', 'up', 'slowly', 'finding', 'throat', 'choke…",
         "artist_tokens": "['T', 'Vonthe', 'Radio']",
         "_deepnote_index_column": 2
        },
        {
         "artist": "SonicYouth",
         "song_name": "Schizophrenia ",
         "id": 3,
         "lyrics_nostop": "i went away see old friend mine his sister came over, out mind she said jesus had twin knew nothing about sin she laughing like crazy trouble i'm her light eyes were dancing, insane her brother says she's just bitch golden chain she keeps coming closer saying, \"i can feel bones schizophrenia taking home\" my future static it's already had i could tuck and we can talk about i had dream and split scene but i got hunch it's coming back me9embed",
         "tokens": "['went', 'away', 'see', 'old', 'friend', 'mine', 'his', 'sister', 'came', 'over', 'out', 'mind', 'she', 'said', 'jesus', 'had', 'twin', 'knew', 'nothing', 'about', 'sin', 'she', 'laughing', 'like', 'crazy', 'trouble', 'her', 'light', 'eyes', 'were', 'dancing', 'insane', 'her', 'brother', 'says', 'she', 'just', 'bitch', 'golden', 'chain', 'she', 'keeps', 'coming', 'closer', 'saying', 'can', 'feel', 'bones', 'schizophrenia', 'taking', 'home', 'my', 'future', 'static', 'it', 'already', 'had', 'could', 'tuck', 'and', 'we', 'can', 'talk', 'about', 'had', 'dream', 'and', 'split', 'scene', 'but', 'got', 'hunch', 'it', 'coming', 'back', 'me9embed']",
         "artist_tokens": "['Sonic', 'Youth']",
         "_deepnote_index_column": 3
        },
        {
         "artist": "NickCave&TheBadSeeds",
         "song_name": "O Children ",
         "id": 4,
         "lyrics_nostop": "pass lovely little gun my dear, darling one the cleaners coming one one you don't even want let start they knocking now upon door they measure room, know score they're mopping up butcher's floor of broken little hearts oh-oh-o children forgive now we've done it started out bit fun here, take these before we run away the keys gulag o children lift up voice, lift up voice children rejoice, rejoice come on, come on, come on, come here comes frank poor old jim they're gathering round friends we're older now, light dim and only just beginning oh-oh-o children we answer fears it's short, it's simple, it's crystal clear it's round about it's somewhere lost amongst winnings o children lift up voice, lift up voice children rejoice, rejoice the cleaners done job they're hip it, man, they're groove they've hosed down, you're good new and they're lining up inspect oh-oh-o children poor old jim's white ghost he's found answer we lost we're weeping now, weeping because there ain't nothing we can do…",
         "tokens": "['pass', 'lovely', 'little', 'gun', 'my', 'dear', 'darling', 'one', 'the', 'cleaners', 'coming', 'one', 'one', 'you', 'don', 'even', 'want', 'let', 'start', 'they', 'knocking', 'now', 'upon', 'door', 'they', 'measure', 'room', 'know', 'score', 'they', 're', 'mopping', 'up', 'butcher', 'floor', 'of', 'broken', 'little', 'hearts', 'oh', 'oh', 'children', 'forgive', 'now', 'we', 've', 'done', 'it', 'started', 'out', 'bit', 'fun', 'here', 'take', 'these', 'before', 'we', 'run', 'away', 'the', 'keys', 'gulag', 'children', 'lift', 'up', 'voice', 'lift', 'up', 'voice', 'children', 'rejoice', 'rejoice', 'come', 'on', 'come', 'on', 'come', 'on', 'come', 'here', 'comes', 'frank', 'poor', 'old', 'jim', 'they', 're', 'gathering', 'round', 'friends', 'we', 're', 'older', 'now', 'light', 'dim', 'and', 'only', 'just', 'beginning', 'oh', 'oh', 'children', 'we', 'answer', 'fears', 'it', 'short', 'it', 'simple', 'it', 'crystal', 'clear', 'it', 'round', 'about', 'it', 'somewhere', 'lost', 'amongst', 'wi…",
         "artist_tokens": "['Nick', 'Cave', 'The', 'Bad', 'Seeds']",
         "_deepnote_index_column": 4
        }
       ]
      },
      "text/plain": "                 artist                 song_name  id  \\\n0                  MGMT            Electric Feel    0   \n1                   AFI  The Days of the Phoenix    1   \n2          TVontheRadio                      DLZ    2   \n3            SonicYouth            Schizophrenia    3   \n4  NickCave&TheBadSeeds               O Children    4   \n\n                                       lyrics_nostop  \\\n0  all along western front people line up receive...   \n1  i remember i told story crushed velvet, candle...   \n2  congratulations mess made things i'm trying re...   \n3  i went away see old friend mine his sister cam...   \n4  pass lovely little gun my dear, darling one th...   \n\n                                              tokens  \\\n0  [all, along, western, front, people, line, up,...   \n1  [remember, told, story, crushed, velvet, candl...   \n2  [congratulations, mess, made, things, trying, ...   \n3  [went, away, see, old, friend, mine, his, sist...   \n4  [pass, lovely, little, gun, my, dear, darling,...   \n\n                   artist_tokens  \n0                   [M, G, M, T]  \n1                      [A, F, I]  \n2             [T, Vonthe, Radio]  \n3                 [Sonic, Youth]  \n4  [Nick, Cave, The, Bad, Seeds]  ",
      "text/html": "<div>\n<style scoped>\n    .dataframe tbody tr th:only-of-type {\n        vertical-align: middle;\n    }\n\n    .dataframe tbody tr th {\n        vertical-align: top;\n    }\n\n    .dataframe thead th {\n        text-align: right;\n    }\n</style>\n<table border=\"1\" class=\"dataframe\">\n  <thead>\n    <tr style=\"text-align: right;\">\n      <th></th>\n      <th>artist</th>\n      <th>song_name</th>\n      <th>id</th>\n      <th>lyrics_nostop</th>\n      <th>tokens</th>\n      <th>artist_tokens</th>\n    </tr>\n  </thead>\n  <tbody>\n    <tr>\n      <th>0</th>\n      <td>MGMT</td>\n      <td>Electric Feel</td>\n      <td>0</td>\n      <td>all along western front people line up receive...</td>\n      <td>[all, along, western, front, people, line, up,...</td>\n      <td>[M, G, M, T]</td>\n    </tr>\n    <tr>\n      <th>1</th>\n      <td>AFI</td>\n      <td>The Days of the Phoenix</td>\n      <td>1</td>\n      <td>i remember i told story crushed velvet, candle...</td>\n      <td>[remember, told, story, crushed, velvet, candl...</td>\n      <td>[A, F, I]</td>\n    </tr>\n    <tr>\n      <th>2</th>\n      <td>TVontheRadio</td>\n      <td>DLZ</td>\n      <td>2</td>\n      <td>congratulations mess made things i'm trying re...</td>\n      <td>[congratulations, mess, made, things, trying, ...</td>\n      <td>[T, Vonthe, Radio]</td>\n    </tr>\n    <tr>\n      <th>3</th>\n      <td>SonicYouth</td>\n      <td>Schizophrenia</td>\n      <td>3</td>\n      <td>i went away see old friend mine his sister cam...</td>\n      <td>[went, away, see, old, friend, mine, his, sist...</td>\n      <td>[Sonic, Youth]</td>\n    </tr>\n    <tr>\n      <th>4</th>\n      <td>NickCave&amp;TheBadSeeds</td>\n      <td>O Children</td>\n      <td>4</td>\n      <td>pass lovely little gun my dear, darling one th...</td>\n      <td>[pass, lovely, little, gun, my, dear, darling,...</td>\n      <td>[Nick, Cave, The, Bad, Seeds]</td>\n    </tr>\n  </tbody>\n</table>\n</div>"
     },
     "metadata": {}
    }
   ]
  },
  {
   "cell_type": "markdown",
   "source": "### Cleaning and preprocessing",
   "metadata": {
    "formattedRanges": [],
    "cell_id": "0d3ab16b01c34c80afa6864c26d432c2",
    "tags": [],
    "is_collapsed": false,
    "deepnote_cell_type": "text-cell-h3"
   }
  },
  {
   "cell_type": "markdown",
   "source": "The naming scheme produces some problems, SonicYouth wont turn up any results, but Sonic Youth will, so we need to split somehow, but doing it by capital letters isn't good because bands like MGMT with be M G M T which another problem. So we can get the original name by merging on the same transformation.",
   "metadata": {
    "formattedRanges": [],
    "cell_id": "f88fbc5330d4450e95ed4b4f10e4d1e4",
    "tags": [],
    "is_collapsed": false,
    "deepnote_cell_type": "text-cell-p"
   }
  },
  {
   "cell_type": "code",
   "metadata": {
    "cell_id": "9fe404316ee84d3e8b1faf366de3fa90",
    "tags": [],
    "deepnote_to_be_reexecuted": false,
    "source_hash": "55021ada",
    "execution_start": 1655837298920,
    "execution_millis": 705,
    "deepnote_cell_type": "code",
    "deepnote_cell_height": 431
   },
   "source": "artists = pd.read_csv(\"data/top_artists.csv\")\nartists = artists[0:600]\nartists.head()",
   "execution_count": 19,
   "outputs": [
    {
     "output_type": "execute_result",
     "execution_count": 19,
     "data": {
      "application/vnd.deepnote.dataframe.v3+json": {
       "column_count": 3,
       "row_count": 5,
       "columns": [
        {
         "name": "Unnamed: 0",
         "dtype": "int64",
         "stats": {
          "unique_count": 5,
          "nan_count": 0,
          "min": "0",
          "max": "4",
          "histogram": [
           {
            "bin_start": 0,
            "bin_end": 0.4,
            "count": 1
           },
           {
            "bin_start": 0.4,
            "bin_end": 0.8,
            "count": 0
           },
           {
            "bin_start": 0.8,
            "bin_end": 1.2000000000000002,
            "count": 1
           },
           {
            "bin_start": 1.2000000000000002,
            "bin_end": 1.6,
            "count": 0
           },
           {
            "bin_start": 1.6,
            "bin_end": 2,
            "count": 0
           },
           {
            "bin_start": 2,
            "bin_end": 2.4000000000000004,
            "count": 1
           },
           {
            "bin_start": 2.4000000000000004,
            "bin_end": 2.8000000000000003,
            "count": 0
           },
           {
            "bin_start": 2.8000000000000003,
            "bin_end": 3.2,
            "count": 1
           },
           {
            "bin_start": 3.2,
            "bin_end": 3.6,
            "count": 0
           },
           {
            "bin_start": 3.6,
            "bin_end": 4,
            "count": 1
           }
          ]
         }
        },
        {
         "name": "artist_mb",
         "dtype": "object",
         "stats": {
          "unique_count": 5,
          "nan_count": 0,
          "categories": [
           {
            "name": "Coldplay",
            "count": 1
           },
           {
            "name": "Radiohead",
            "count": 1
           },
           {
            "name": "3 others",
            "count": 3
           }
          ]
         }
        },
        {
         "name": "listeners_lastfm",
         "dtype": "float64",
         "stats": {
          "unique_count": 5,
          "nan_count": 0,
          "min": "4517997.0",
          "max": "5381567.0",
          "histogram": [
           {
            "bin_start": 4517997,
            "bin_end": 4604354,
            "count": 2
           },
           {
            "bin_start": 4604354,
            "bin_end": 4690711,
            "count": 1
           },
           {
            "bin_start": 4690711,
            "bin_end": 4777068,
            "count": 1
           },
           {
            "bin_start": 4777068,
            "bin_end": 4863425,
            "count": 0
           },
           {
            "bin_start": 4863425,
            "bin_end": 4949782,
            "count": 0
           },
           {
            "bin_start": 4949782,
            "bin_end": 5036139,
            "count": 0
           },
           {
            "bin_start": 5036139,
            "bin_end": 5122496,
            "count": 0
           },
           {
            "bin_start": 5122496,
            "bin_end": 5208853,
            "count": 0
           },
           {
            "bin_start": 5208853,
            "bin_end": 5295210,
            "count": 0
           },
           {
            "bin_start": 5295210,
            "bin_end": 5381567,
            "count": 1
           }
          ]
         }
        },
        {
         "name": "_deepnote_index_column",
         "dtype": "int64"
        }
       ],
       "rows": [
        {
         "Unnamed: 0": 0,
         "artist_mb": "Coldplay",
         "listeners_lastfm": 5381567,
         "_deepnote_index_column": 0
        },
        {
         "Unnamed: 0": 1,
         "artist_mb": "Radiohead",
         "listeners_lastfm": 4732528,
         "_deepnote_index_column": 1
        },
        {
         "Unnamed: 0": 2,
         "artist_mb": "Red Hot Chili Peppers",
         "listeners_lastfm": 4620835,
         "_deepnote_index_column": 2
        },
        {
         "Unnamed: 0": 3,
         "artist_mb": "Rihanna",
         "listeners_lastfm": 4558193,
         "_deepnote_index_column": 3
        },
        {
         "Unnamed: 0": 4,
         "artist_mb": "Eminem",
         "listeners_lastfm": 4517997,
         "_deepnote_index_column": 4
        }
       ]
      },
      "text/plain": "   Unnamed: 0              artist_mb  listeners_lastfm\n0           0               Coldplay         5381567.0\n1           1              Radiohead         4732528.0\n2           2  Red Hot Chili Peppers         4620835.0\n3           3                Rihanna         4558193.0\n4           4                 Eminem         4517997.0",
      "text/html": "<div>\n<style scoped>\n    .dataframe tbody tr th:only-of-type {\n        vertical-align: middle;\n    }\n\n    .dataframe tbody tr th {\n        vertical-align: top;\n    }\n\n    .dataframe thead th {\n        text-align: right;\n    }\n</style>\n<table border=\"1\" class=\"dataframe\">\n  <thead>\n    <tr style=\"text-align: right;\">\n      <th></th>\n      <th>Unnamed: 0</th>\n      <th>artist_mb</th>\n      <th>listeners_lastfm</th>\n    </tr>\n  </thead>\n  <tbody>\n    <tr>\n      <th>0</th>\n      <td>0</td>\n      <td>Coldplay</td>\n      <td>5381567.0</td>\n    </tr>\n    <tr>\n      <th>1</th>\n      <td>1</td>\n      <td>Radiohead</td>\n      <td>4732528.0</td>\n    </tr>\n    <tr>\n      <th>2</th>\n      <td>2</td>\n      <td>Red Hot Chili Peppers</td>\n      <td>4620835.0</td>\n    </tr>\n    <tr>\n      <th>3</th>\n      <td>3</td>\n      <td>Rihanna</td>\n      <td>4558193.0</td>\n    </tr>\n    <tr>\n      <th>4</th>\n      <td>4</td>\n      <td>Eminem</td>\n      <td>4517997.0</td>\n    </tr>\n  </tbody>\n</table>\n</div>"
     },
     "metadata": {}
    }
   ]
  },
  {
   "cell_type": "code",
   "metadata": {
    "cell_id": "2a8ff802cca54750a3dbe3628df4676e",
    "tags": [],
    "deepnote_to_be_reexecuted": false,
    "source_hash": "c102313",
    "execution_start": 1655837299632,
    "execution_millis": 439859,
    "deepnote_cell_type": "code",
    "deepnote_cell_height": 99
   },
   "source": "# peform same transformation that filenaming used to merge onto other data set\nartists[\"artist\"] = artists[\"artist_mb\"].apply(lambda x: x.replace(' ',''))",
   "execution_count": 20,
   "outputs": []
  },
  {
   "cell_type": "code",
   "metadata": {
    "cell_id": "48be61a832a84968a94b20bc245288c1",
    "tags": [],
    "deepnote_to_be_reexecuted": false,
    "source_hash": "cec7f524",
    "execution_start": 1655837299666,
    "execution_millis": 2,
    "deepnote_cell_type": "code",
    "deepnote_cell_height": 395
   },
   "source": "artists.head()",
   "execution_count": 21,
   "outputs": [
    {
     "output_type": "execute_result",
     "execution_count": 21,
     "data": {
      "application/vnd.deepnote.dataframe.v3+json": {
       "column_count": 4,
       "row_count": 5,
       "columns": [
        {
         "name": "Unnamed: 0",
         "dtype": "int64",
         "stats": {
          "unique_count": 5,
          "nan_count": 0,
          "min": "0",
          "max": "4",
          "histogram": [
           {
            "bin_start": 0,
            "bin_end": 0.4,
            "count": 1
           },
           {
            "bin_start": 0.4,
            "bin_end": 0.8,
            "count": 0
           },
           {
            "bin_start": 0.8,
            "bin_end": 1.2000000000000002,
            "count": 1
           },
           {
            "bin_start": 1.2000000000000002,
            "bin_end": 1.6,
            "count": 0
           },
           {
            "bin_start": 1.6,
            "bin_end": 2,
            "count": 0
           },
           {
            "bin_start": 2,
            "bin_end": 2.4000000000000004,
            "count": 1
           },
           {
            "bin_start": 2.4000000000000004,
            "bin_end": 2.8000000000000003,
            "count": 0
           },
           {
            "bin_start": 2.8000000000000003,
            "bin_end": 3.2,
            "count": 1
           },
           {
            "bin_start": 3.2,
            "bin_end": 3.6,
            "count": 0
           },
           {
            "bin_start": 3.6,
            "bin_end": 4,
            "count": 1
           }
          ]
         }
        },
        {
         "name": "artist_mb",
         "dtype": "object",
         "stats": {
          "unique_count": 5,
          "nan_count": 0,
          "categories": [
           {
            "name": "Coldplay",
            "count": 1
           },
           {
            "name": "Radiohead",
            "count": 1
           },
           {
            "name": "3 others",
            "count": 3
           }
          ]
         }
        },
        {
         "name": "listeners_lastfm",
         "dtype": "float64",
         "stats": {
          "unique_count": 5,
          "nan_count": 0,
          "min": "4517997.0",
          "max": "5381567.0",
          "histogram": [
           {
            "bin_start": 4517997,
            "bin_end": 4604354,
            "count": 2
           },
           {
            "bin_start": 4604354,
            "bin_end": 4690711,
            "count": 1
           },
           {
            "bin_start": 4690711,
            "bin_end": 4777068,
            "count": 1
           },
           {
            "bin_start": 4777068,
            "bin_end": 4863425,
            "count": 0
           },
           {
            "bin_start": 4863425,
            "bin_end": 4949782,
            "count": 0
           },
           {
            "bin_start": 4949782,
            "bin_end": 5036139,
            "count": 0
           },
           {
            "bin_start": 5036139,
            "bin_end": 5122496,
            "count": 0
           },
           {
            "bin_start": 5122496,
            "bin_end": 5208853,
            "count": 0
           },
           {
            "bin_start": 5208853,
            "bin_end": 5295210,
            "count": 0
           },
           {
            "bin_start": 5295210,
            "bin_end": 5381567,
            "count": 1
           }
          ]
         }
        },
        {
         "name": "artist",
         "dtype": "object",
         "stats": {
          "unique_count": 5,
          "nan_count": 0,
          "categories": [
           {
            "name": "Coldplay",
            "count": 1
           },
           {
            "name": "Radiohead",
            "count": 1
           },
           {
            "name": "3 others",
            "count": 3
           }
          ]
         }
        },
        {
         "name": "_deepnote_index_column",
         "dtype": "int64"
        }
       ],
       "rows": [
        {
         "Unnamed: 0": 0,
         "artist_mb": "Coldplay",
         "listeners_lastfm": 5381567,
         "artist": "Coldplay",
         "_deepnote_index_column": 0
        },
        {
         "Unnamed: 0": 1,
         "artist_mb": "Radiohead",
         "listeners_lastfm": 4732528,
         "artist": "Radiohead",
         "_deepnote_index_column": 1
        },
        {
         "Unnamed: 0": 2,
         "artist_mb": "Red Hot Chili Peppers",
         "listeners_lastfm": 4620835,
         "artist": "RedHotChiliPeppers",
         "_deepnote_index_column": 2
        },
        {
         "Unnamed: 0": 3,
         "artist_mb": "Rihanna",
         "listeners_lastfm": 4558193,
         "artist": "Rihanna",
         "_deepnote_index_column": 3
        },
        {
         "Unnamed: 0": 4,
         "artist_mb": "Eminem",
         "listeners_lastfm": 4517997,
         "artist": "Eminem",
         "_deepnote_index_column": 4
        }
       ]
      },
      "text/plain": "   Unnamed: 0              artist_mb  listeners_lastfm              artist\n0           0               Coldplay         5381567.0            Coldplay\n1           1              Radiohead         4732528.0           Radiohead\n2           2  Red Hot Chili Peppers         4620835.0  RedHotChiliPeppers\n3           3                Rihanna         4558193.0             Rihanna\n4           4                 Eminem         4517997.0              Eminem",
      "text/html": "<div>\n<style scoped>\n    .dataframe tbody tr th:only-of-type {\n        vertical-align: middle;\n    }\n\n    .dataframe tbody tr th {\n        vertical-align: top;\n    }\n\n    .dataframe thead th {\n        text-align: right;\n    }\n</style>\n<table border=\"1\" class=\"dataframe\">\n  <thead>\n    <tr style=\"text-align: right;\">\n      <th></th>\n      <th>Unnamed: 0</th>\n      <th>artist_mb</th>\n      <th>listeners_lastfm</th>\n      <th>artist</th>\n    </tr>\n  </thead>\n  <tbody>\n    <tr>\n      <th>0</th>\n      <td>0</td>\n      <td>Coldplay</td>\n      <td>5381567.0</td>\n      <td>Coldplay</td>\n    </tr>\n    <tr>\n      <th>1</th>\n      <td>1</td>\n      <td>Radiohead</td>\n      <td>4732528.0</td>\n      <td>Radiohead</td>\n    </tr>\n    <tr>\n      <th>2</th>\n      <td>2</td>\n      <td>Red Hot Chili Peppers</td>\n      <td>4620835.0</td>\n      <td>RedHotChiliPeppers</td>\n    </tr>\n    <tr>\n      <th>3</th>\n      <td>3</td>\n      <td>Rihanna</td>\n      <td>4558193.0</td>\n      <td>Rihanna</td>\n    </tr>\n    <tr>\n      <th>4</th>\n      <td>4</td>\n      <td>Eminem</td>\n      <td>4517997.0</td>\n      <td>Eminem</td>\n    </tr>\n  </tbody>\n</table>\n</div>"
     },
     "metadata": {}
    }
   ]
  },
  {
   "cell_type": "markdown",
   "source": "Notice now we have the original artist name, and the transformed version, now we can merge",
   "metadata": {
    "formattedRanges": [],
    "cell_id": "da161ad6009248b89b9f24e8fb2951bf",
    "tags": [],
    "is_collapsed": false,
    "deepnote_cell_type": "text-cell-p"
   }
  },
  {
   "cell_type": "code",
   "metadata": {
    "cell_id": "292e1805ed9f45659b4b2886bbc47330",
    "tags": [],
    "deepnote_to_be_reexecuted": false,
    "source_hash": "e2b5920",
    "execution_start": 1655837299667,
    "execution_millis": 0,
    "deepnote_cell_type": "code",
    "deepnote_cell_height": 99
   },
   "source": "#do an inner merge so we get the intersection, and there are no inconsistoncies\ninfo = pd.merge(artists, df, on = \"artist\")",
   "execution_count": 22,
   "outputs": []
  },
  {
   "cell_type": "code",
   "metadata": {
    "cell_id": "2e1ee8fcdbe946f492f3cfe4f71ce7de",
    "tags": [],
    "deepnote_to_be_reexecuted": false,
    "source_hash": "8223f0b2",
    "execution_start": 1655837299715,
    "execution_millis": 2,
    "deepnote_cell_type": "code",
    "deepnote_cell_height": 112.1875
   },
   "source": "print(info.shape)",
   "execution_count": 23,
   "outputs": [
    {
     "name": "stdout",
     "text": "(2410, 9)\n",
     "output_type": "stream"
    }
   ]
  },
  {
   "cell_type": "code",
   "metadata": {
    "cell_id": "32a7a454f98446cf8d7dc812fb1f6ec9",
    "tags": [],
    "deepnote_to_be_reexecuted": false,
    "source_hash": "4107fd80",
    "execution_start": 1655837299716,
    "execution_millis": 31,
    "deepnote_cell_type": "code",
    "deepnote_cell_height": 617
   },
   "source": "info.head(20)",
   "execution_count": 24,
   "outputs": [
    {
     "output_type": "execute_result",
     "execution_count": 24,
     "data": {
      "application/vnd.deepnote.dataframe.v3+json": {
       "column_count": 9,
       "row_count": 20,
       "columns": [
        {
         "name": "Unnamed: 0",
         "dtype": "int64",
         "stats": {
          "unique_count": 4,
          "nan_count": 0,
          "min": "0",
          "max": "3",
          "histogram": [
           {
            "bin_start": 0,
            "bin_end": 0.3,
            "count": 5
           },
           {
            "bin_start": 0.3,
            "bin_end": 0.6,
            "count": 0
           },
           {
            "bin_start": 0.6,
            "bin_end": 0.8999999999999999,
            "count": 0
           },
           {
            "bin_start": 0.8999999999999999,
            "bin_end": 1.2,
            "count": 5
           },
           {
            "bin_start": 1.2,
            "bin_end": 1.5,
            "count": 0
           },
           {
            "bin_start": 1.5,
            "bin_end": 1.7999999999999998,
            "count": 0
           },
           {
            "bin_start": 1.7999999999999998,
            "bin_end": 2.1,
            "count": 5
           },
           {
            "bin_start": 2.1,
            "bin_end": 2.4,
            "count": 0
           },
           {
            "bin_start": 2.4,
            "bin_end": 2.6999999999999997,
            "count": 0
           },
           {
            "bin_start": 2.6999999999999997,
            "bin_end": 3,
            "count": 5
           }
          ]
         }
        },
        {
         "name": "artist_mb",
         "dtype": "object",
         "stats": {
          "unique_count": 4,
          "nan_count": 0,
          "categories": [
           {
            "name": "Coldplay",
            "count": 5
           },
           {
            "name": "Radiohead",
            "count": 5
           },
           {
            "name": "2 others",
            "count": 10
           }
          ]
         }
        },
        {
         "name": "listeners_lastfm",
         "dtype": "float64",
         "stats": {
          "unique_count": 4,
          "nan_count": 0,
          "min": "4558193.0",
          "max": "5381567.0",
          "histogram": [
           {
            "bin_start": 4558193,
            "bin_end": 4640530.4,
            "count": 10
           },
           {
            "bin_start": 4640530.4,
            "bin_end": 4722867.8,
            "count": 0
           },
           {
            "bin_start": 4722867.8,
            "bin_end": 4805205.2,
            "count": 5
           },
           {
            "bin_start": 4805205.2,
            "bin_end": 4887542.6,
            "count": 0
           },
           {
            "bin_start": 4887542.6,
            "bin_end": 4969880,
            "count": 0
           },
           {
            "bin_start": 4969880,
            "bin_end": 5052217.4,
            "count": 0
           },
           {
            "bin_start": 5052217.4,
            "bin_end": 5134554.8,
            "count": 0
           },
           {
            "bin_start": 5134554.8,
            "bin_end": 5216892.2,
            "count": 0
           },
           {
            "bin_start": 5216892.2,
            "bin_end": 5299229.6,
            "count": 0
           },
           {
            "bin_start": 5299229.6,
            "bin_end": 5381567,
            "count": 5
           }
          ]
         }
        },
        {
         "name": "artist",
         "dtype": "object",
         "stats": {
          "unique_count": 4,
          "nan_count": 0,
          "categories": [
           {
            "name": "Coldplay",
            "count": 5
           },
           {
            "name": "Radiohead",
            "count": 5
           },
           {
            "name": "2 others",
            "count": 10
           }
          ]
         }
        },
        {
         "name": "song_name",
         "dtype": "object",
         "stats": {
          "unique_count": 20,
          "nan_count": 0,
          "categories": [
           {
            "name": "Viva la Vida ",
            "count": 1
           },
           {
            "name": "Hymn for the Weekend ",
            "count": 1
           },
           {
            "name": "18 others",
            "count": 18
           }
          ]
         }
        },
        {
         "name": "id",
         "dtype": "int64",
         "stats": {
          "unique_count": 20,
          "nan_count": 0,
          "min": "75",
          "max": "2321",
          "histogram": [
           {
            "bin_start": 75,
            "bin_end": 299.6,
            "count": 2
           },
           {
            "bin_start": 299.6,
            "bin_end": 524.2,
            "count": 2
           },
           {
            "bin_start": 524.2,
            "bin_end": 748.8,
            "count": 4
           },
           {
            "bin_start": 748.8,
            "bin_end": 973.4,
            "count": 1
           },
           {
            "bin_start": 973.4,
            "bin_end": 1198,
            "count": 2
           },
           {
            "bin_start": 1198,
            "bin_end": 1422.6,
            "count": 2
           },
           {
            "bin_start": 1422.6,
            "bin_end": 1647.2,
            "count": 2
           },
           {
            "bin_start": 1647.2,
            "bin_end": 1871.8,
            "count": 1
           },
           {
            "bin_start": 1871.8,
            "bin_end": 2096.3999999999996,
            "count": 1
           },
           {
            "bin_start": 2096.3999999999996,
            "bin_end": 2321,
            "count": 3
           }
          ]
         }
        },
        {
         "name": "lyrics_nostop",
         "dtype": "object",
         "stats": {
          "unique_count": 20,
          "nan_count": 0,
          "categories": [
           {
            "name": "i used rule world seas would rise i gave word now morning, i sleep alone sweep streets i used own i used roll dice feel fear enemy's eyes listened crowd would sing \"now old king dead, long live king\" one minute i held key next, walls were closed and i discovered castles stand upon pillars salt pillars sand i hear jerusalem bells a-ringing roman cavalry choirs singing be mirror, sword shield my missionaries foreign field for reason, i can't explain once you'd gone, never never honest word and i ruled world it wicked wild wind blew down doors let shattered windows sound drums people couldn't believe i'd become revolutionaries wait for head silver plate just puppet lonely string (mmm, mmm) oh, would ever want king? i hear jerusalem bells a-ringing roman cavalry choirs singing be mirror, sword shield my missionaries foreign field for reason, i can't explain i know saint peter won't call name never honest word but i ruled world (oh-oh-oh, oh-oh-woah) (oh-oh-oh, oh-oh-woah) (oh-oh-oh, oh-oh-woah) (oh-oh-oh, oh-oh-woah) (oh-oh-oh, oh-oh-woah) hear jerusalem bells a-ringing (oh-oh-oh, oh-oh-woah) roman cavalry choirs singing (oh-oh-oh, oh-oh-woah) be mirror, sword shield (oh-oh-oh, oh-oh-woah) my missionaries foreign field (oh-oh-oh, oh-oh-woah) for reason, i can't explain (oh-oh-oh, oh-oh-woah) i know saint peter won't call name never honest word but i ruled world mmm, mmm, mmm, mmm mmm, mmm, mmm, mmm mmm, mmm227embed",
            "count": 1
           },
           {
            "name": "and said drink me, drink (oh-ah-oh-ah) that we shoot across sky symphony that we shoot across sky pour a... drink me, drink (oh-ah-oh-ah) that we shoot across sky symphony (so high, so high) that we shoot across sky oh, angel sent up above you know make world light up when i down, i hurt you came lift up life drink love's drug oh now i think i must miles up when i river dried up you came rain flood you said drink me, drink when i so thirsty poured symphony now i just can't get enough put wings me, wings when i so heavy poured symphony when i'm low, low, low, low i, oh-i, oh-i got feeling drunk high, so high, so high oh-i, oh-i, oh-i now i’m feeling drunk high, so high, so high (woo) (woo-ooo-ooo-woo) oh, angel sent up above i feel coursing through blood life drink love's about to make stars come out put wings me, wings when i so heavy poured symphony when i'm low, low, low, low i, oh-i, oh-i got feeling drunk high, so high, so high oh-i, oh-i, oh-i i’m feeling drunk high, so high, so high i, oh-i, oh-i la, la, la, la, la, la, la, so high, so high i, oh-i, oh-i now i'm feeling drunk high, so high, so high that i shoot across sky that i shoot across the... that i shoot across sky let shoot across the... (let shoot) let shoot across sky let shoot across the... let shoot across sky that we shoot across the...64embed",
            "count": 1
           },
           {
            "name": "18 others",
            "count": 18
           }
          ]
         }
        },
        {
         "name": "tokens",
         "dtype": "object",
         "stats": {
          "unique_count": 20,
          "nan_count": 0,
          "categories": [
           {
            "name": "['used', 'rule', 'world', 'seas', 'would', 'rise', 'gave', 'word', 'now', 'morning', 'sleep', 'alone', 'sweep', 'streets', 'used', 'own', 'used', 'roll', 'dice', 'feel', 'fear', 'enemy', 'eyes', 'listened', 'crowd', 'would', 'sing', 'now', 'old', 'king', 'dead', 'long', 'live', 'king', 'one', 'minute', 'held', 'key', 'next', 'walls', 'were', 'closed', 'and', 'discovered', 'castles', 'stand', 'upon', 'pillars', 'salt', 'pillars', 'sand', 'hear', 'jerusalem', 'bells', 'ringing', 'roman', 'cavalry', 'choirs', 'singing', 'be', 'mirror', 'sword', 'shield', 'my', 'missionaries', 'foreign', 'field', 'for', 'reason', 'can', 'explain', 'once', 'you', 'gone', 'never', 'never', 'honest', 'word', 'and', 'ruled', 'world', 'it', 'wicked', 'wild', 'wind', 'blew', 'down', 'doors', 'let', 'shattered', 'windows', 'sound', 'drums', 'people', 'couldn', 'believe', 'become', 'revolutionaries', 'wait', 'for', 'head', 'silver', 'plate', 'just', 'puppet', 'lonely', 'string', 'mmm', 'mmm', 'oh', 'would', 'ever', 'want', 'king', 'hear', 'jerusalem', 'bells', 'ringing', 'roman', 'cavalry', 'choirs', 'singing', 'be', 'mirror', 'sword', 'shield', 'my', 'missionaries', 'foreign', 'field', 'for', 'reason', 'can', 'explain', 'know', 'saint', 'peter', 'won', 'call', 'name', 'never', 'honest', 'word', 'but', 'ruled', 'world', 'oh', 'oh', 'oh', 'oh', 'oh', 'woah', 'oh', 'oh', 'oh', 'oh', 'oh', 'woah', 'oh', 'oh', 'oh', 'oh', 'oh', 'woah', 'oh', 'oh', 'oh', 'oh', 'oh', 'woah', 'oh', 'oh', 'oh', 'oh', 'oh', 'woah', 'hear', 'jerusalem', 'bells', 'ringing', 'oh', 'oh', 'oh', 'oh', 'oh', 'woah', 'roman', 'cavalry', 'choirs', 'singing', 'oh', 'oh', 'oh', 'oh', 'oh', 'woah', 'be', 'mirror', 'sword', 'shield', 'oh', 'oh', 'oh', 'oh', 'oh', 'woah', 'my', 'missionaries', 'foreign', 'field', 'oh', 'oh', 'oh', 'oh', 'oh', 'woah', 'for', 'reason', 'can', 'explain', 'oh', 'oh', 'oh', 'oh', 'oh', 'woah', 'know', 'saint', 'peter', 'won', 'call', 'name', 'never', 'honest', 'word', 'but', 'ruled', 'world', 'mmm', 'mmm', 'mmm', 'mmm', 'mmm', 'mmm', 'mmm', 'mmm', 'mmm', 'mmm227embed']",
            "count": 1
           },
           {
            "name": "['and', 'said', 'drink', 'me', 'drink', 'oh', 'ah', 'oh', 'ah', 'that', 'we', 'shoot', 'across', 'sky', 'symphony', 'that', 'we', 'shoot', 'across', 'sky', 'pour', 'drink', 'me', 'drink', 'oh', 'ah', 'oh', 'ah', 'that', 'we', 'shoot', 'across', 'sky', 'symphony', 'so', 'high', 'so', 'high', 'that', 'we', 'shoot', 'across', 'sky', 'oh', 'angel', 'sent', 'up', 'above', 'you', 'know', 'make', 'world', 'light', 'up', 'when', 'down', 'hurt', 'you', 'came', 'lift', 'up', 'life', 'drink', 'love', 'drug', 'oh', 'now', 'think', 'must', 'miles', 'up', 'when', 'river', 'dried', 'up', 'you', 'came', 'rain', 'flood', 'you', 'said', 'drink', 'me', 'drink', 'when', 'so', 'thirsty', 'poured', 'symphony', 'now', 'just', 'can', 'get', 'enough', 'put', 'wings', 'me', 'wings', 'when', 'so', 'heavy', 'poured', 'symphony', 'when', 'low', 'low', 'low', 'low', 'oh', 'oh', 'got', 'feeling', 'drunk', 'high', 'so', 'high', 'so', 'high', 'oh', 'oh', 'oh', 'now', 'feeling', 'drunk', 'high', 'so', 'high', 'so', 'high', 'woo', 'woo', 'ooo', 'ooo', 'woo', 'oh', 'angel', 'sent', 'up', 'above', 'feel', 'coursing', 'through', 'blood', 'life', 'drink', 'love', 'about', 'to', 'make', 'stars', 'come', 'out', 'put', 'wings', 'me', 'wings', 'when', 'so', 'heavy', 'poured', 'symphony', 'when', 'low', 'low', 'low', 'low', 'oh', 'oh', 'got', 'feeling', 'drunk', 'high', 'so', 'high', 'so', 'high', 'oh', 'oh', 'oh', 'feeling', 'drunk', 'high', 'so', 'high', 'so', 'high', 'oh', 'oh', 'la', 'la', 'la', 'la', 'la', 'la', 'la', 'so', 'high', 'so', 'high', 'oh', 'oh', 'now', 'feeling', 'drunk', 'high', 'so', 'high', 'so', 'high', 'that', 'shoot', 'across', 'sky', 'that', 'shoot', 'across', 'the', 'that', 'shoot', 'across', 'sky', 'let', 'shoot', 'across', 'the', 'let', 'shoot', 'let', 'shoot', 'across', 'sky', 'let', 'shoot', 'across', 'the', 'let', 'shoot', 'across', 'sky', 'that', 'we', 'shoot', 'across', 'the', '64embed']",
            "count": 1
           },
           {
            "name": "18 others",
            "count": 18
           }
          ]
         }
        },
        {
         "name": "artist_tokens",
         "dtype": "object",
         "stats": {
          "unique_count": 20,
          "nan_count": 0,
          "categories": [
           {
            "name": "['Coldplay']",
            "count": 5
           },
           {
            "name": "['Radiohead']",
            "count": 5
           },
           {
            "name": "2 others",
            "count": 10
           }
          ]
         }
        },
        {
         "name": "_deepnote_index_column",
         "dtype": "int64"
        }
       ],
       "rows": [
        {
         "Unnamed: 0": 0,
         "artist_mb": "Coldplay",
         "listeners_lastfm": 5381567,
         "artist": "Coldplay",
         "song_name": "Viva la Vida ",
         "id": 399,
         "lyrics_nostop": "i used rule world seas would rise i gave word now morning, i sleep alone sweep streets i used own i used roll dice feel fear enemy's eyes listened crowd would sing \"now old king dead, long live king\" one minute i held key next, walls were closed and i discovered castles stand upon pillars salt pillars sand i hear jerusalem bells a-ringing roman cavalry choirs singing be mirror, sword shield my missionaries foreign field for reason, i can't explain once you'd gone, never never honest word and i ruled world it wicked wild wind blew down doors let shattered windows sound drums people couldn't believe i'd become revolutionaries wait for head silver plate just puppet lonely string (mmm, mmm) oh, would ever want king? i hear jerusalem bells a-ringing roman cavalry choirs singing be mirror, sword shield my missionaries foreign field for reason, i can't explain i know saint peter won't call name never honest word but i ruled world (oh-oh-oh, oh-oh-woah) (oh-oh-oh, oh-oh-woah) (oh-oh-oh, oh-oh…",
         "tokens": "['used', 'rule', 'world', 'seas', 'would', 'rise', 'gave', 'word', 'now', 'morning', 'sleep', 'alone', 'sweep', 'streets', 'used', 'own', 'used', 'roll', 'dice', 'feel', 'fear', 'enemy', 'eyes', 'listened', 'crowd', 'would', 'sing', 'now', 'old', 'king', 'dead', 'long', 'live', 'king', 'one', 'minute', 'held', 'key', 'next', 'walls', 'were', 'closed', 'and', 'discovered', 'castles', 'stand', 'upon', 'pillars', 'salt', 'pillars', 'sand', 'hear', 'jerusalem', 'bells', 'ringing', 'roman', 'cavalry', 'choirs', 'singing', 'be', 'mirror', 'sword', 'shield', 'my', 'missionaries', 'foreign', 'field', 'for', 'reason', 'can', 'explain', 'once', 'you', 'gone', 'never', 'never', 'honest', 'word', 'and', 'ruled', 'world', 'it', 'wicked', 'wild', 'wind', 'blew', 'down', 'doors', 'let', 'shattered', 'windows', 'sound', 'drums', 'people', 'couldn', 'believe', 'become', 'revolutionaries', 'wait', 'for', 'head', 'silver', 'plate', 'just', 'puppet', 'lonely', 'string', 'mmm', 'mmm', 'oh', 'would', 'ever…",
         "artist_tokens": "['Coldplay']",
         "_deepnote_index_column": 0
        },
        {
         "Unnamed: 0": 0,
         "artist_mb": "Coldplay",
         "listeners_lastfm": 5381567,
         "artist": "Coldplay",
         "song_name": "Hymn for the Weekend ",
         "id": 787,
         "lyrics_nostop": "and said drink me, drink (oh-ah-oh-ah) that we shoot across sky symphony that we shoot across sky pour a... drink me, drink (oh-ah-oh-ah) that we shoot across sky symphony (so high, so high) that we shoot across sky oh, angel sent up above you know make world light up when i down, i hurt you came lift up life drink love's drug oh now i think i must miles up when i river dried up you came rain flood you said drink me, drink when i so thirsty poured symphony now i just can't get enough put wings me, wings when i so heavy poured symphony when i'm low, low, low, low i, oh-i, oh-i got feeling drunk high, so high, so high oh-i, oh-i, oh-i now i’m feeling drunk high, so high, so high (woo) (woo-ooo-ooo-woo) oh, angel sent up above i feel coursing through blood life drink love's about to make stars come out put wings me, wings when i so heavy poured symphony when i'm low, low, low, low i, oh-i, oh-i got feeling drunk high, so high, so high oh-i, oh-i, oh-i i’m feeling drunk high, so high, so …",
         "tokens": "['and', 'said', 'drink', 'me', 'drink', 'oh', 'ah', 'oh', 'ah', 'that', 'we', 'shoot', 'across', 'sky', 'symphony', 'that', 'we', 'shoot', 'across', 'sky', 'pour', 'drink', 'me', 'drink', 'oh', 'ah', 'oh', 'ah', 'that', 'we', 'shoot', 'across', 'sky', 'symphony', 'so', 'high', 'so', 'high', 'that', 'we', 'shoot', 'across', 'sky', 'oh', 'angel', 'sent', 'up', 'above', 'you', 'know', 'make', 'world', 'light', 'up', 'when', 'down', 'hurt', 'you', 'came', 'lift', 'up', 'life', 'drink', 'love', 'drug', 'oh', 'now', 'think', 'must', 'miles', 'up', 'when', 'river', 'dried', 'up', 'you', 'came', 'rain', 'flood', 'you', 'said', 'drink', 'me', 'drink', 'when', 'so', 'thirsty', 'poured', 'symphony', 'now', 'just', 'can', 'get', 'enough', 'put', 'wings', 'me', 'wings', 'when', 'so', 'heavy', 'poured', 'symphony', 'when', 'low', 'low', 'low', 'low', 'oh', 'oh', 'got', 'feeling', 'drunk', 'high', 'so', 'high', 'so', 'high', 'oh', 'oh', 'oh', 'now', 'feeling', 'drunk', 'high', 'so', 'high', 'so', 'h…",
         "artist_tokens": "['Coldplay']",
         "_deepnote_index_column": 1
        },
        {
         "Unnamed: 0": 0,
         "artist_mb": "Coldplay",
         "listeners_lastfm": 5381567,
         "artist": "Coldplay",
         "song_name": "The Scientist ",
         "id": 1075,
         "lyrics_nostop": "come up meet you, tell i'm sorry you don't know lovely i had find you, tell i need tell i set apart tell secrets, ask questions oh, let's go back start running circles, coming up tails heads science apart nobody said easy it's such shame part nobody said easy no one ever said would hard oh, take back start i just guessing numbers figures pulling puzzles apart questions science, science progress do not speak loud heart tell love me, come back haunt oh, i rush start running circles, chasing tails coming back we nobody said easy oh, it's such shame part nobody said easy no one ever said would so hard i'm going back start oh-ooh ooh-ooh-ooh-ooh ah-ooh ooh-ooh-ooh-ooh oh-ooh ooh-ooh-ooh-ooh oh-ooh ooh-ooh-ooh-ooh216embed",
         "tokens": "['come', 'up', 'meet', 'you', 'tell', 'sorry', 'you', 'don', 'know', 'lovely', 'had', 'find', 'you', 'tell', 'need', 'tell', 'set', 'apart', 'tell', 'secrets', 'ask', 'questions', 'oh', 'let', 'go', 'back', 'start', 'running', 'circles', 'coming', 'up', 'tails', 'heads', 'science', 'apart', 'nobody', 'said', 'easy', 'it', 'such', 'shame', 'part', 'nobody', 'said', 'easy', 'no', 'one', 'ever', 'said', 'would', 'hard', 'oh', 'take', 'back', 'start', 'just', 'guessing', 'numbers', 'figures', 'pulling', 'puzzles', 'apart', 'questions', 'science', 'science', 'progress', 'do', 'not', 'speak', 'loud', 'heart', 'tell', 'love', 'me', 'come', 'back', 'haunt', 'oh', 'rush', 'start', 'running', 'circles', 'chasing', 'tails', 'coming', 'back', 'we', 'nobody', 'said', 'easy', 'oh', 'it', 'such', 'shame', 'part', 'nobody', 'said', 'easy', 'no', 'one', 'ever', 'said', 'would', 'so', 'hard', 'going', 'back', 'start', 'oh', 'ooh', 'ooh', 'ooh', 'ooh', 'ooh', 'ah', 'ooh', 'ooh', 'ooh', 'ooh', 'ooh', 'oh…",
         "artist_tokens": "['Coldplay']",
         "_deepnote_index_column": 2
        },
        {
         "Unnamed: 0": 0,
         "artist_mb": "Coldplay",
         "listeners_lastfm": 5381567,
         "artist": "Coldplay",
         "song_name": "Yellow ",
         "id": 2120,
         "lyrics_nostop": "look stars, look shine and everything do yeah, were yellow i came along, i wrote song and things do and called \"yellow\" so then i took turn oh, thing done and yellow (aah) your skin, oh, yeah, skin bones (ooh) turn into something beautiful (aah) you know, know i love so you know i love so i swam across, i jumped across oh, thing do 'cause were yellow i drew line, i drew line oh, thing do and yellow (aah) your skin, oh, yeah, skin bones (ooh) turn into something beautiful (aah) and know, you, i'd bleed myself dry for you, i'd bleed myself dry it's true, look shine look shine look shine look shine look shine look shine look stars look shine and things do160embed",
         "tokens": "['look', 'stars', 'look', 'shine', 'and', 'everything', 'do', 'yeah', 'were', 'yellow', 'came', 'along', 'wrote', 'song', 'and', 'things', 'do', 'and', 'called', 'yellow', 'so', 'then', 'took', 'turn', 'oh', 'thing', 'done', 'and', 'yellow', 'aah', 'your', 'skin', 'oh', 'yeah', 'skin', 'bones', 'ooh', 'turn', 'into', 'something', 'beautiful', 'aah', 'you', 'know', 'know', 'love', 'so', 'you', 'know', 'love', 'so', 'swam', 'across', 'jumped', 'across', 'oh', 'thing', 'do', 'cause', 'were', 'yellow', 'drew', 'line', 'drew', 'line', 'oh', 'thing', 'do', 'and', 'yellow', 'aah', 'your', 'skin', 'oh', 'yeah', 'skin', 'bones', 'ooh', 'turn', 'into', 'something', 'beautiful', 'aah', 'and', 'know', 'you', 'bleed', 'myself', 'dry', 'for', 'you', 'bleed', 'myself', 'dry', 'it', 'true', 'look', 'shine', 'look', 'shine', 'look', 'shine', 'look', 'shine', 'look', 'shine', 'look', 'shine', 'look', 'stars', 'look', 'shine', 'and', 'things', 'do160embed']",
         "artist_tokens": "['Coldplay']",
         "_deepnote_index_column": 3
        },
        {
         "Unnamed: 0": 0,
         "artist_mb": "Coldplay",
         "listeners_lastfm": 5381567,
         "artist": "Coldplay",
         "song_name": "Fix You ",
         "id": 2169,
         "lyrics_nostop": "when try best, don't succeed when get want, not need when feel so tired, can't sleep stuck reverse and tears come streaming down face when lose something can't replace when love someone, goes waste could worse? lights guide home and ignite bones and i try fix and high up above down below when you're too love let go but if never try, you'll never know just you're worth lights guide home and ignite bones and i try fix tears stream down face when lose something cannot replace tears stream down face, i tears stream down face i promise i learn mistakes tears stream down face, i lights guide home and ignite bones and i try fix you147embed",
         "tokens": "['when', 'try', 'best', 'don', 'succeed', 'when', 'get', 'want', 'not', 'need', 'when', 'feel', 'so', 'tired', 'can', 'sleep', 'stuck', 'reverse', 'and', 'tears', 'come', 'streaming', 'down', 'face', 'when', 'lose', 'something', 'can', 'replace', 'when', 'love', 'someone', 'goes', 'waste', 'could', 'worse', 'lights', 'guide', 'home', 'and', 'ignite', 'bones', 'and', 'try', 'fix', 'and', 'high', 'up', 'above', 'down', 'below', 'when', 'you', 're', 'too', 'love', 'let', 'go', 'but', 'if', 'never', 'try', 'you', 'll', 'never', 'know', 'just', 'you', 're', 'worth', 'lights', 'guide', 'home', 'and', 'ignite', 'bones', 'and', 'try', 'fix', 'tears', 'stream', 'down', 'face', 'when', 'lose', 'something', 'cannot', 'replace', 'tears', 'stream', 'down', 'face', 'tears', 'stream', 'down', 'face', 'promise', 'learn', 'mistakes', 'tears', 'stream', 'down', 'face', 'lights', 'guide', 'home', 'and', 'ignite', 'bones', 'and', 'try', 'fix', 'you147embed']",
         "artist_tokens": "['Coldplay']",
         "_deepnote_index_column": 4
        },
        {
         "Unnamed: 0": 1,
         "artist_mb": "Radiohead",
         "listeners_lastfm": 4732528,
         "artist": "Radiohead",
         "song_name": "Creep ",
         "id": 558,
         "lyrics_nostop": "when were before couldn't look eye you're just like angel your skin makes cry you float like feather in beautiful world i wish i special you're so fuckin' special but i'm creep i'm weirdo what hell am i doing here? i don't belong i don't care if hurts i wanna control i want perfect body i want perfect soul i want notice when i'm not around you're so fuckin' special i wish i special but i'm creep i'm weirdo what hell am i doing here? i don't belong oh, oh she's running out door she's running out she run, run, run, run run whatever makes happy whatever want you're so fuckin' special i wish i special but i'm creep i'm weirdo what hell am i doing here? i don't belong i don't belong here247embed",
         "tokens": "['when', 'were', 'before', 'couldn', 'look', 'eye', 'you', 're', 'just', 'like', 'angel', 'your', 'skin', 'makes', 'cry', 'you', 'float', 'like', 'feather', 'in', 'beautiful', 'world', 'wish', 'special', 'you', 're', 'so', 'fuckin', 'special', 'but', 'creep', 'weirdo', 'what', 'hell', 'am', 'doing', 'here', 'don', 'belong', 'don', 'care', 'if', 'hurts', 'wanna', 'control', 'want', 'perfect', 'body', 'want', 'perfect', 'soul', 'want', 'notice', 'when', 'not', 'around', 'you', 're', 'so', 'fuckin', 'special', 'wish', 'special', 'but', 'creep', 'weirdo', 'what', 'hell', 'am', 'doing', 'here', 'don', 'belong', 'oh', 'oh', 'she', 'running', 'out', 'door', 'she', 'running', 'out', 'she', 'run', 'run', 'run', 'run', 'run', 'whatever', 'makes', 'happy', 'whatever', 'want', 'you', 're', 'so', 'fuckin', 'special', 'wish', 'special', 'but', 'creep', 'weirdo', 'what', 'hell', 'am', 'doing', 'here', 'don', 'belong', 'don', 'belong', 'here247embed']",
         "artist_tokens": "['Radiohead']",
         "_deepnote_index_column": 5
        },
        {
         "Unnamed: 0": 1,
         "artist_mb": "Radiohead",
         "listeners_lastfm": 4732528,
         "artist": "Radiohead",
         "song_name": "Exit Music (For A Film) ",
         "id": 630,
         "lyrics_nostop": "wake sleep the drying tears today we escape, we escape pack get dressed before father hears before hell breaks loose breathe, keep breathing don't lose nerve breathe, keep breathing i can't do alone sing song a song keep warm there's such chill such chill and can laugh spineless laugh we hope rules wisdom choke now we one everlasting peace we hope choke, choke we hope choke that choke we hope choke that choke83embed",
         "tokens": "['wake', 'sleep', 'the', 'drying', 'tears', 'today', 'we', 'escape', 'we', 'escape', 'pack', 'get', 'dressed', 'before', 'father', 'hears', 'before', 'hell', 'breaks', 'loose', 'breathe', 'keep', 'breathing', 'don', 'lose', 'nerve', 'breathe', 'keep', 'breathing', 'can', 'do', 'alone', 'sing', 'song', 'song', 'keep', 'warm', 'there', 'such', 'chill', 'such', 'chill', 'and', 'can', 'laugh', 'spineless', 'laugh', 'we', 'hope', 'rules', 'wisdom', 'choke', 'now', 'we', 'one', 'everlasting', 'peace', 'we', 'hope', 'choke', 'choke', 'we', 'hope', 'choke', 'that', 'choke', 'we', 'hope', 'choke', 'that', 'choke83embed']",
         "artist_tokens": "['Radiohead']",
         "_deepnote_index_column": 6
        },
        {
         "Unnamed: 0": 1,
         "artist_mb": "Radiohead",
         "listeners_lastfm": 4732528,
         "artist": "Radiohead",
         "song_name": "Karma Police ",
         "id": 1221,
         "lyrics_nostop": "karma police, arrest man he talks maths, buzzes like fridge he's like detuned radio karma police, arrest girl her hitler hairdo making feel ill and we crashed party this you'll get this you'll get this you'll get when mess karma police, i've given i can it's not enough, i've given i can but we're still payroll this you'll get this you'll get this you'll get when mess for minute i lost myself, i lost myself phew, minute i lost myself, i lost myself for minute i lost myself, i lost myself phew, minute i lost myself, i lost myself101embed",
         "tokens": "['karma', 'police', 'arrest', 'man', 'he', 'talks', 'maths', 'buzzes', 'like', 'fridge', 'he', 'like', 'detuned', 'radio', 'karma', 'police', 'arrest', 'girl', 'her', 'hitler', 'hairdo', 'making', 'feel', 'ill', 'and', 'we', 'crashed', 'party', 'this', 'you', 'll', 'get', 'this', 'you', 'll', 'get', 'this', 'you', 'll', 'get', 'when', 'mess', 'karma', 'police', 've', 'given', 'can', 'it', 'not', 'enough', 've', 'given', 'can', 'but', 'we', 're', 'still', 'payroll', 'this', 'you', 'll', 'get', 'this', 'you', 'll', 'get', 'this', 'you', 'll', 'get', 'when', 'mess', 'for', 'minute', 'lost', 'myself', 'lost', 'myself', 'phew', 'minute', 'lost', 'myself', 'lost', 'myself', 'for', 'minute', 'lost', 'myself', 'lost', 'myself', 'phew', 'minute', 'lost', 'myself', 'lost', 'myself101embed']",
         "artist_tokens": "['Radiohead']",
         "_deepnote_index_column": 7
        },
        {
         "Unnamed: 0": 1,
         "artist_mb": "Radiohead",
         "listeners_lastfm": 4732528,
         "artist": "Radiohead",
         "song_name": "No Surprises ",
         "id": 1965,
         "lyrics_nostop": "a heart that's full up like landfill a job slowly kills bruises won't heal you look so tired, unhappy bring down government they don't, don't speak i'll take quiet life a handshake carbon monoxide and no alarms no surprises no alarms no surprises no alarms no surprises silent, silent this final fit my final bellyache no alarms no surprises no alarms no surprises no alarms no surprises, please such pretty house and such pretty garden no alarms no surprises (get out here) no alarms no surprises (get out here) no alarms no surprises, please (get out here)98embed",
         "tokens": "['heart', 'that', 'full', 'up', 'like', 'landfill', 'job', 'slowly', 'kills', 'bruises', 'won', 'heal', 'you', 'look', 'so', 'tired', 'unhappy', 'bring', 'down', 'government', 'they', 'don', 'don', 'speak', 'll', 'take', 'quiet', 'life', 'handshake', 'carbon', 'monoxide', 'and', 'no', 'alarms', 'no', 'surprises', 'no', 'alarms', 'no', 'surprises', 'no', 'alarms', 'no', 'surprises', 'silent', 'silent', 'this', 'final', 'fit', 'my', 'final', 'bellyache', 'no', 'alarms', 'no', 'surprises', 'no', 'alarms', 'no', 'surprises', 'no', 'alarms', 'no', 'surprises', 'please', 'such', 'pretty', 'house', 'and', 'such', 'pretty', 'garden', 'no', 'alarms', 'no', 'surprises', 'get', 'out', 'here', 'no', 'alarms', 'no', 'surprises', 'get', 'out', 'here', 'no', 'alarms', 'no', 'surprises', 'please', 'get', 'out', 'here', '98embed']",
         "artist_tokens": "['Radiohead']",
         "_deepnote_index_column": 8
        },
        {
         "Unnamed: 0": 1,
         "artist_mb": "Radiohead",
         "listeners_lastfm": 4732528,
         "artist": "Radiohead",
         "song_name": "Paranoid Android ",
         "id": 2321,
         "lyrics_nostop": "please, could stop noise? i'm trying get rest from unborn chicken voices in head what's that? (i may paranoid, not android) what's that? (i may paranoid, not android) when i am king you first against wall with opinion which no consequence what's that? (i may paranoid, no android) what's that? (i may paranoid, no android) ambition makes look pretty ugly kicking, squealing, gucci little piggy you don't remember, don't remember why don't remember name? off head, man, off head, man why don't remember name? i guess does rain down, rain down come on, rain down from great height from great height, height rain down, rain down come on, rain down from great height from great height, height that's it, sir, you're leaving (rain down) the crackle pigskin (rain down) the dust screaming (come on, rain down) the yuppies networking (on me) the panic, vomit (from great height) the panic, vomit (from great height) god loves children god loves children, yeah106embed",
         "tokens": "['please', 'could', 'stop', 'noise', 'trying', 'get', 'rest', 'from', 'unborn', 'chicken', 'voices', 'in', 'head', 'what', 'that', 'may', 'paranoid', 'not', 'android', 'what', 'that', 'may', 'paranoid', 'not', 'android', 'when', 'am', 'king', 'you', 'first', 'against', 'wall', 'with', 'opinion', 'which', 'no', 'consequence', 'what', 'that', 'may', 'paranoid', 'no', 'android', 'what', 'that', 'may', 'paranoid', 'no', 'android', 'ambition', 'makes', 'look', 'pretty', 'ugly', 'kicking', 'squealing', 'gucci', 'little', 'piggy', 'you', 'don', 'remember', 'don', 'remember', 'why', 'don', 'remember', 'name', 'off', 'head', 'man', 'off', 'head', 'man', 'why', 'don', 'remember', 'name', 'guess', 'does', 'rain', 'down', 'rain', 'down', 'come', 'on', 'rain', 'down', 'from', 'great', 'height', 'from', 'great', 'height', 'height', 'rain', 'down', 'rain', 'down', 'come', 'on', 'rain', 'down', 'from', 'great', 'height', 'from', 'great', 'height', 'height', 'that', 'it', 'sir', 'you', 're', 'leaving'…",
         "artist_tokens": "['Radiohead']",
         "_deepnote_index_column": 9
        }
       ]
      },
      "text/plain": "    Unnamed: 0              artist_mb  listeners_lastfm              artist  \\\n0            0               Coldplay         5381567.0            Coldplay   \n1            0               Coldplay         5381567.0            Coldplay   \n2            0               Coldplay         5381567.0            Coldplay   \n3            0               Coldplay         5381567.0            Coldplay   \n4            0               Coldplay         5381567.0            Coldplay   \n5            1              Radiohead         4732528.0           Radiohead   \n6            1              Radiohead         4732528.0           Radiohead   \n7            1              Radiohead         4732528.0           Radiohead   \n8            1              Radiohead         4732528.0           Radiohead   \n9            1              Radiohead         4732528.0           Radiohead   \n10           2  Red Hot Chili Peppers         4620835.0  RedHotChiliPeppers   \n11           2  Red Hot Chili Peppers         4620835.0  RedHotChiliPeppers   \n12           2  Red Hot Chili Peppers         4620835.0  RedHotChiliPeppers   \n13           2  Red Hot Chili Peppers         4620835.0  RedHotChiliPeppers   \n14           2  Red Hot Chili Peppers         4620835.0  RedHotChiliPeppers   \n15           3                Rihanna         4558193.0             Rihanna   \n16           3                Rihanna         4558193.0             Rihanna   \n17           3                Rihanna         4558193.0             Rihanna   \n18           3                Rihanna         4558193.0             Rihanna   \n19           3                Rihanna         4558193.0             Rihanna   \n\n                   song_name    id  \\\n0              Viva la Vida    399   \n1      Hymn for the Weekend    787   \n2             The Scientist   1075   \n3                    Yellow   2120   \n4                   Fix You   2169   \n5                     Creep    558   \n6   Exit Music (For A Film)    630   \n7              Karma Police   1221   \n8              No Surprises   1965   \n9          Paranoid Android   2321   \n10                Otherside    161   \n11         Under the Bridge    417   \n12          Californication   1049   \n13               Can’t Stop   1534   \n14              Scar Tissue   1595   \n15        Love on the Brain     75   \n16           Kiss It Better    565   \n17                     Work    629   \n18                     Stay   1319   \n19                Needed Me   1736   \n\n                                        lyrics_nostop  \\\n0   i used rule world seas would rise i gave word ...   \n1   and said drink me, drink (oh-ah-oh-ah) that we...   \n2   come up meet you, tell i'm sorry you don't kno...   \n3   look stars, look shine and everything do yeah,...   \n4   when try best, don't succeed when get want, no...   \n5   when were before couldn't look eye you're just...   \n6   wake sleep the drying tears today we escape, w...   \n7   karma police, arrest man he talks maths, buzze...   \n8   a heart that's full up like landfill a job slo...   \n9   please, could stop noise? i'm trying get rest ...   \n10  how long, long i slide? well, separate side i ...   \n11  sometimes i feel like i don't partner sometime...   \n12  psychic spies china try steal mind's elation a...   \n13  can't stop, addicted shindig chop top, says i'...   \n14  scar tissue i wish saw sarcastic mister know-i...   \n15  and got like, \"oh, want me?\" (what want me?) a...   \n16  kiss it, kiss better, baby kiss it, kiss bette...   \n17  work, work, work, work, work, work he said haf...   \n18  all along fever a cold sweat, hot-headed belie...   \n19  mustard beat, ho! i good own, that's way that'...   \n\n                                               tokens  \\\n0   [used, rule, world, seas, would, rise, gave, w...   \n1   [and, said, drink, me, drink, oh, ah, oh, ah, ...   \n2   [come, up, meet, you, tell, sorry, you, don, k...   \n3   [look, stars, look, shine, and, everything, do...   \n4   [when, try, best, don, succeed, when, get, wan...   \n5   [when, were, before, couldn, look, eye, you, r...   \n6   [wake, sleep, the, drying, tears, today, we, e...   \n7   [karma, police, arrest, man, he, talks, maths,...   \n8   [heart, that, full, up, like, landfill, job, s...   \n9   [please, could, stop, noise, trying, get, rest...   \n10  [how, long, long, slide, well, separate, side,...   \n11  [sometimes, feel, like, don, partner, sometime...   \n12  [psychic, spies, china, try, steal, mind, elat...   \n13  [can, stop, addicted, shindig, chop, top, says...   \n14  [scar, tissue, wish, saw, sarcastic, mister, k...   \n15  [and, got, like, oh, want, me, what, want, me,...   \n16  [kiss, it, kiss, better, baby, kiss, it, kiss,...   \n17  [work, work, work, work, work, work, he, said,...   \n18  [all, along, fever, cold, sweat, hot, headed, ...   \n19  [mustard, beat, ho, good, own, that, way, that...   \n\n                 artist_tokens  \n0                   [Coldplay]  \n1                   [Coldplay]  \n2                   [Coldplay]  \n3                   [Coldplay]  \n4                   [Coldplay]  \n5                  [Radiohead]  \n6                  [Radiohead]  \n7                  [Radiohead]  \n8                  [Radiohead]  \n9                  [Radiohead]  \n10  [Red, Hot, Chili, Peppers]  \n11  [Red, Hot, Chili, Peppers]  \n12  [Red, Hot, Chili, Peppers]  \n13  [Red, Hot, Chili, Peppers]  \n14  [Red, Hot, Chili, Peppers]  \n15                   [Rihanna]  \n16                   [Rihanna]  \n17                   [Rihanna]  \n18                   [Rihanna]  \n19                   [Rihanna]  ",
      "text/html": "<div>\n<style scoped>\n    .dataframe tbody tr th:only-of-type {\n        vertical-align: middle;\n    }\n\n    .dataframe tbody tr th {\n        vertical-align: top;\n    }\n\n    .dataframe thead th {\n        text-align: right;\n    }\n</style>\n<table border=\"1\" class=\"dataframe\">\n  <thead>\n    <tr style=\"text-align: right;\">\n      <th></th>\n      <th>Unnamed: 0</th>\n      <th>artist_mb</th>\n      <th>listeners_lastfm</th>\n      <th>artist</th>\n      <th>song_name</th>\n      <th>id</th>\n      <th>lyrics_nostop</th>\n      <th>tokens</th>\n      <th>artist_tokens</th>\n    </tr>\n  </thead>\n  <tbody>\n    <tr>\n      <th>0</th>\n      <td>0</td>\n      <td>Coldplay</td>\n      <td>5381567.0</td>\n      <td>Coldplay</td>\n      <td>Viva la Vida</td>\n      <td>399</td>\n      <td>i used rule world seas would rise i gave word ...</td>\n      <td>[used, rule, world, seas, would, rise, gave, w...</td>\n      <td>[Coldplay]</td>\n    </tr>\n    <tr>\n      <th>1</th>\n      <td>0</td>\n      <td>Coldplay</td>\n      <td>5381567.0</td>\n      <td>Coldplay</td>\n      <td>Hymn for the Weekend</td>\n      <td>787</td>\n      <td>and said drink me, drink (oh-ah-oh-ah) that we...</td>\n      <td>[and, said, drink, me, drink, oh, ah, oh, ah, ...</td>\n      <td>[Coldplay]</td>\n    </tr>\n    <tr>\n      <th>2</th>\n      <td>0</td>\n      <td>Coldplay</td>\n      <td>5381567.0</td>\n      <td>Coldplay</td>\n      <td>The Scientist</td>\n      <td>1075</td>\n      <td>come up meet you, tell i'm sorry you don't kno...</td>\n      <td>[come, up, meet, you, tell, sorry, you, don, k...</td>\n      <td>[Coldplay]</td>\n    </tr>\n    <tr>\n      <th>3</th>\n      <td>0</td>\n      <td>Coldplay</td>\n      <td>5381567.0</td>\n      <td>Coldplay</td>\n      <td>Yellow</td>\n      <td>2120</td>\n      <td>look stars, look shine and everything do yeah,...</td>\n      <td>[look, stars, look, shine, and, everything, do...</td>\n      <td>[Coldplay]</td>\n    </tr>\n    <tr>\n      <th>4</th>\n      <td>0</td>\n      <td>Coldplay</td>\n      <td>5381567.0</td>\n      <td>Coldplay</td>\n      <td>Fix You</td>\n      <td>2169</td>\n      <td>when try best, don't succeed when get want, no...</td>\n      <td>[when, try, best, don, succeed, when, get, wan...</td>\n      <td>[Coldplay]</td>\n    </tr>\n    <tr>\n      <th>5</th>\n      <td>1</td>\n      <td>Radiohead</td>\n      <td>4732528.0</td>\n      <td>Radiohead</td>\n      <td>Creep</td>\n      <td>558</td>\n      <td>when were before couldn't look eye you're just...</td>\n      <td>[when, were, before, couldn, look, eye, you, r...</td>\n      <td>[Radiohead]</td>\n    </tr>\n    <tr>\n      <th>6</th>\n      <td>1</td>\n      <td>Radiohead</td>\n      <td>4732528.0</td>\n      <td>Radiohead</td>\n      <td>Exit Music (For A Film)</td>\n      <td>630</td>\n      <td>wake sleep the drying tears today we escape, w...</td>\n      <td>[wake, sleep, the, drying, tears, today, we, e...</td>\n      <td>[Radiohead]</td>\n    </tr>\n    <tr>\n      <th>7</th>\n      <td>1</td>\n      <td>Radiohead</td>\n      <td>4732528.0</td>\n      <td>Radiohead</td>\n      <td>Karma Police</td>\n      <td>1221</td>\n      <td>karma police, arrest man he talks maths, buzze...</td>\n      <td>[karma, police, arrest, man, he, talks, maths,...</td>\n      <td>[Radiohead]</td>\n    </tr>\n    <tr>\n      <th>8</th>\n      <td>1</td>\n      <td>Radiohead</td>\n      <td>4732528.0</td>\n      <td>Radiohead</td>\n      <td>No Surprises</td>\n      <td>1965</td>\n      <td>a heart that's full up like landfill a job slo...</td>\n      <td>[heart, that, full, up, like, landfill, job, s...</td>\n      <td>[Radiohead]</td>\n    </tr>\n    <tr>\n      <th>9</th>\n      <td>1</td>\n      <td>Radiohead</td>\n      <td>4732528.0</td>\n      <td>Radiohead</td>\n      <td>Paranoid Android</td>\n      <td>2321</td>\n      <td>please, could stop noise? i'm trying get rest ...</td>\n      <td>[please, could, stop, noise, trying, get, rest...</td>\n      <td>[Radiohead]</td>\n    </tr>\n    <tr>\n      <th>10</th>\n      <td>2</td>\n      <td>Red Hot Chili Peppers</td>\n      <td>4620835.0</td>\n      <td>RedHotChiliPeppers</td>\n      <td>Otherside</td>\n      <td>161</td>\n      <td>how long, long i slide? well, separate side i ...</td>\n      <td>[how, long, long, slide, well, separate, side,...</td>\n      <td>[Red, Hot, Chili, Peppers]</td>\n    </tr>\n    <tr>\n      <th>11</th>\n      <td>2</td>\n      <td>Red Hot Chili Peppers</td>\n      <td>4620835.0</td>\n      <td>RedHotChiliPeppers</td>\n      <td>Under the Bridge</td>\n      <td>417</td>\n      <td>sometimes i feel like i don't partner sometime...</td>\n      <td>[sometimes, feel, like, don, partner, sometime...</td>\n      <td>[Red, Hot, Chili, Peppers]</td>\n    </tr>\n    <tr>\n      <th>12</th>\n      <td>2</td>\n      <td>Red Hot Chili Peppers</td>\n      <td>4620835.0</td>\n      <td>RedHotChiliPeppers</td>\n      <td>Californication</td>\n      <td>1049</td>\n      <td>psychic spies china try steal mind's elation a...</td>\n      <td>[psychic, spies, china, try, steal, mind, elat...</td>\n      <td>[Red, Hot, Chili, Peppers]</td>\n    </tr>\n    <tr>\n      <th>13</th>\n      <td>2</td>\n      <td>Red Hot Chili Peppers</td>\n      <td>4620835.0</td>\n      <td>RedHotChiliPeppers</td>\n      <td>Can’t Stop</td>\n      <td>1534</td>\n      <td>can't stop, addicted shindig chop top, says i'...</td>\n      <td>[can, stop, addicted, shindig, chop, top, says...</td>\n      <td>[Red, Hot, Chili, Peppers]</td>\n    </tr>\n    <tr>\n      <th>14</th>\n      <td>2</td>\n      <td>Red Hot Chili Peppers</td>\n      <td>4620835.0</td>\n      <td>RedHotChiliPeppers</td>\n      <td>Scar Tissue</td>\n      <td>1595</td>\n      <td>scar tissue i wish saw sarcastic mister know-i...</td>\n      <td>[scar, tissue, wish, saw, sarcastic, mister, k...</td>\n      <td>[Red, Hot, Chili, Peppers]</td>\n    </tr>\n    <tr>\n      <th>15</th>\n      <td>3</td>\n      <td>Rihanna</td>\n      <td>4558193.0</td>\n      <td>Rihanna</td>\n      <td>Love on the Brain</td>\n      <td>75</td>\n      <td>and got like, \"oh, want me?\" (what want me?) a...</td>\n      <td>[and, got, like, oh, want, me, what, want, me,...</td>\n      <td>[Rihanna]</td>\n    </tr>\n    <tr>\n      <th>16</th>\n      <td>3</td>\n      <td>Rihanna</td>\n      <td>4558193.0</td>\n      <td>Rihanna</td>\n      <td>Kiss It Better</td>\n      <td>565</td>\n      <td>kiss it, kiss better, baby kiss it, kiss bette...</td>\n      <td>[kiss, it, kiss, better, baby, kiss, it, kiss,...</td>\n      <td>[Rihanna]</td>\n    </tr>\n    <tr>\n      <th>17</th>\n      <td>3</td>\n      <td>Rihanna</td>\n      <td>4558193.0</td>\n      <td>Rihanna</td>\n      <td>Work</td>\n      <td>629</td>\n      <td>work, work, work, work, work, work he said haf...</td>\n      <td>[work, work, work, work, work, work, he, said,...</td>\n      <td>[Rihanna]</td>\n    </tr>\n    <tr>\n      <th>18</th>\n      <td>3</td>\n      <td>Rihanna</td>\n      <td>4558193.0</td>\n      <td>Rihanna</td>\n      <td>Stay</td>\n      <td>1319</td>\n      <td>all along fever a cold sweat, hot-headed belie...</td>\n      <td>[all, along, fever, cold, sweat, hot, headed, ...</td>\n      <td>[Rihanna]</td>\n    </tr>\n    <tr>\n      <th>19</th>\n      <td>3</td>\n      <td>Rihanna</td>\n      <td>4558193.0</td>\n      <td>Rihanna</td>\n      <td>Needed Me</td>\n      <td>1736</td>\n      <td>mustard beat, ho! i good own, that's way that'...</td>\n      <td>[mustard, beat, ho, good, own, that, way, that...</td>\n      <td>[Rihanna]</td>\n    </tr>\n  </tbody>\n</table>\n</div>"
     },
     "metadata": {}
    }
   ]
  },
  {
   "cell_type": "code",
   "metadata": {
    "cell_id": "be468e490cb5400389755909d4ea8429",
    "tags": [],
    "deepnote_to_be_reexecuted": false,
    "source_hash": "f361459a",
    "execution_start": 1655837299749,
    "execution_millis": 41,
    "deepnote_cell_type": "code",
    "deepnote_cell_height": 431
   },
   "source": "drop = ['artist', 'artist_tokens', 'listeners_lastfm']\ninfo = info.drop(drop, axis = 1)\ninfo.head()",
   "execution_count": 25,
   "outputs": [
    {
     "output_type": "execute_result",
     "execution_count": 25,
     "data": {
      "application/vnd.deepnote.dataframe.v3+json": {
       "column_count": 6,
       "row_count": 5,
       "columns": [
        {
         "name": "Unnamed: 0",
         "dtype": "int64",
         "stats": {
          "unique_count": 1,
          "nan_count": 0,
          "min": "0",
          "max": "0",
          "histogram": [
           {
            "bin_start": -0.5,
            "bin_end": -0.4,
            "count": 0
           },
           {
            "bin_start": -0.4,
            "bin_end": -0.3,
            "count": 0
           },
           {
            "bin_start": -0.3,
            "bin_end": -0.19999999999999996,
            "count": 0
           },
           {
            "bin_start": -0.19999999999999996,
            "bin_end": -0.09999999999999998,
            "count": 0
           },
           {
            "bin_start": -0.09999999999999998,
            "bin_end": 0,
            "count": 0
           },
           {
            "bin_start": 0,
            "bin_end": 0.10000000000000009,
            "count": 5
           },
           {
            "bin_start": 0.10000000000000009,
            "bin_end": 0.20000000000000007,
            "count": 0
           },
           {
            "bin_start": 0.20000000000000007,
            "bin_end": 0.30000000000000004,
            "count": 0
           },
           {
            "bin_start": 0.30000000000000004,
            "bin_end": 0.4,
            "count": 0
           },
           {
            "bin_start": 0.4,
            "bin_end": 0.5,
            "count": 0
           }
          ]
         }
        },
        {
         "name": "artist_mb",
         "dtype": "object",
         "stats": {
          "unique_count": 1,
          "nan_count": 0,
          "categories": [
           {
            "name": "Coldplay",
            "count": 5
           }
          ]
         }
        },
        {
         "name": "song_name",
         "dtype": "object",
         "stats": {
          "unique_count": 5,
          "nan_count": 0,
          "categories": [
           {
            "name": "Viva la Vida ",
            "count": 1
           },
           {
            "name": "Hymn for the Weekend ",
            "count": 1
           },
           {
            "name": "3 others",
            "count": 3
           }
          ]
         }
        },
        {
         "name": "id",
         "dtype": "int64",
         "stats": {
          "unique_count": 5,
          "nan_count": 0,
          "min": "399",
          "max": "2169",
          "histogram": [
           {
            "bin_start": 399,
            "bin_end": 576,
            "count": 1
           },
           {
            "bin_start": 576,
            "bin_end": 753,
            "count": 0
           },
           {
            "bin_start": 753,
            "bin_end": 930,
            "count": 1
           },
           {
            "bin_start": 930,
            "bin_end": 1107,
            "count": 1
           },
           {
            "bin_start": 1107,
            "bin_end": 1284,
            "count": 0
           },
           {
            "bin_start": 1284,
            "bin_end": 1461,
            "count": 0
           },
           {
            "bin_start": 1461,
            "bin_end": 1638,
            "count": 0
           },
           {
            "bin_start": 1638,
            "bin_end": 1815,
            "count": 0
           },
           {
            "bin_start": 1815,
            "bin_end": 1992,
            "count": 0
           },
           {
            "bin_start": 1992,
            "bin_end": 2169,
            "count": 2
           }
          ]
         }
        },
        {
         "name": "lyrics_nostop",
         "dtype": "object",
         "stats": {
          "unique_count": 5,
          "nan_count": 0,
          "categories": [
           {
            "name": "i used rule world seas would rise i gave word now morning, i sleep alone sweep streets i used own i used roll dice feel fear enemy's eyes listened crowd would sing \"now old king dead, long live king\" one minute i held key next, walls were closed and i discovered castles stand upon pillars salt pillars sand i hear jerusalem bells a-ringing roman cavalry choirs singing be mirror, sword shield my missionaries foreign field for reason, i can't explain once you'd gone, never never honest word and i ruled world it wicked wild wind blew down doors let shattered windows sound drums people couldn't believe i'd become revolutionaries wait for head silver plate just puppet lonely string (mmm, mmm) oh, would ever want king? i hear jerusalem bells a-ringing roman cavalry choirs singing be mirror, sword shield my missionaries foreign field for reason, i can't explain i know saint peter won't call name never honest word but i ruled world (oh-oh-oh, oh-oh-woah) (oh-oh-oh, oh-oh-woah) (oh-oh-oh, oh-oh-woah) (oh-oh-oh, oh-oh-woah) (oh-oh-oh, oh-oh-woah) hear jerusalem bells a-ringing (oh-oh-oh, oh-oh-woah) roman cavalry choirs singing (oh-oh-oh, oh-oh-woah) be mirror, sword shield (oh-oh-oh, oh-oh-woah) my missionaries foreign field (oh-oh-oh, oh-oh-woah) for reason, i can't explain (oh-oh-oh, oh-oh-woah) i know saint peter won't call name never honest word but i ruled world mmm, mmm, mmm, mmm mmm, mmm, mmm, mmm mmm, mmm227embed",
            "count": 1
           },
           {
            "name": "and said drink me, drink (oh-ah-oh-ah) that we shoot across sky symphony that we shoot across sky pour a... drink me, drink (oh-ah-oh-ah) that we shoot across sky symphony (so high, so high) that we shoot across sky oh, angel sent up above you know make world light up when i down, i hurt you came lift up life drink love's drug oh now i think i must miles up when i river dried up you came rain flood you said drink me, drink when i so thirsty poured symphony now i just can't get enough put wings me, wings when i so heavy poured symphony when i'm low, low, low, low i, oh-i, oh-i got feeling drunk high, so high, so high oh-i, oh-i, oh-i now i’m feeling drunk high, so high, so high (woo) (woo-ooo-ooo-woo) oh, angel sent up above i feel coursing through blood life drink love's about to make stars come out put wings me, wings when i so heavy poured symphony when i'm low, low, low, low i, oh-i, oh-i got feeling drunk high, so high, so high oh-i, oh-i, oh-i i’m feeling drunk high, so high, so high i, oh-i, oh-i la, la, la, la, la, la, la, so high, so high i, oh-i, oh-i now i'm feeling drunk high, so high, so high that i shoot across sky that i shoot across the... that i shoot across sky let shoot across the... (let shoot) let shoot across sky let shoot across the... let shoot across sky that we shoot across the...64embed",
            "count": 1
           },
           {
            "name": "3 others",
            "count": 3
           }
          ]
         }
        },
        {
         "name": "tokens",
         "dtype": "object",
         "stats": {
          "unique_count": 5,
          "nan_count": 0,
          "categories": [
           {
            "name": "['used', 'rule', 'world', 'seas', 'would', 'rise', 'gave', 'word', 'now', 'morning', 'sleep', 'alone', 'sweep', 'streets', 'used', 'own', 'used', 'roll', 'dice', 'feel', 'fear', 'enemy', 'eyes', 'listened', 'crowd', 'would', 'sing', 'now', 'old', 'king', 'dead', 'long', 'live', 'king', 'one', 'minute', 'held', 'key', 'next', 'walls', 'were', 'closed', 'and', 'discovered', 'castles', 'stand', 'upon', 'pillars', 'salt', 'pillars', 'sand', 'hear', 'jerusalem', 'bells', 'ringing', 'roman', 'cavalry', 'choirs', 'singing', 'be', 'mirror', 'sword', 'shield', 'my', 'missionaries', 'foreign', 'field', 'for', 'reason', 'can', 'explain', 'once', 'you', 'gone', 'never', 'never', 'honest', 'word', 'and', 'ruled', 'world', 'it', 'wicked', 'wild', 'wind', 'blew', 'down', 'doors', 'let', 'shattered', 'windows', 'sound', 'drums', 'people', 'couldn', 'believe', 'become', 'revolutionaries', 'wait', 'for', 'head', 'silver', 'plate', 'just', 'puppet', 'lonely', 'string', 'mmm', 'mmm', 'oh', 'would', 'ever', 'want', 'king', 'hear', 'jerusalem', 'bells', 'ringing', 'roman', 'cavalry', 'choirs', 'singing', 'be', 'mirror', 'sword', 'shield', 'my', 'missionaries', 'foreign', 'field', 'for', 'reason', 'can', 'explain', 'know', 'saint', 'peter', 'won', 'call', 'name', 'never', 'honest', 'word', 'but', 'ruled', 'world', 'oh', 'oh', 'oh', 'oh', 'oh', 'woah', 'oh', 'oh', 'oh', 'oh', 'oh', 'woah', 'oh', 'oh', 'oh', 'oh', 'oh', 'woah', 'oh', 'oh', 'oh', 'oh', 'oh', 'woah', 'oh', 'oh', 'oh', 'oh', 'oh', 'woah', 'hear', 'jerusalem', 'bells', 'ringing', 'oh', 'oh', 'oh', 'oh', 'oh', 'woah', 'roman', 'cavalry', 'choirs', 'singing', 'oh', 'oh', 'oh', 'oh', 'oh', 'woah', 'be', 'mirror', 'sword', 'shield', 'oh', 'oh', 'oh', 'oh', 'oh', 'woah', 'my', 'missionaries', 'foreign', 'field', 'oh', 'oh', 'oh', 'oh', 'oh', 'woah', 'for', 'reason', 'can', 'explain', 'oh', 'oh', 'oh', 'oh', 'oh', 'woah', 'know', 'saint', 'peter', 'won', 'call', 'name', 'never', 'honest', 'word', 'but', 'ruled', 'world', 'mmm', 'mmm', 'mmm', 'mmm', 'mmm', 'mmm', 'mmm', 'mmm', 'mmm', 'mmm227embed']",
            "count": 1
           },
           {
            "name": "['and', 'said', 'drink', 'me', 'drink', 'oh', 'ah', 'oh', 'ah', 'that', 'we', 'shoot', 'across', 'sky', 'symphony', 'that', 'we', 'shoot', 'across', 'sky', 'pour', 'drink', 'me', 'drink', 'oh', 'ah', 'oh', 'ah', 'that', 'we', 'shoot', 'across', 'sky', 'symphony', 'so', 'high', 'so', 'high', 'that', 'we', 'shoot', 'across', 'sky', 'oh', 'angel', 'sent', 'up', 'above', 'you', 'know', 'make', 'world', 'light', 'up', 'when', 'down', 'hurt', 'you', 'came', 'lift', 'up', 'life', 'drink', 'love', 'drug', 'oh', 'now', 'think', 'must', 'miles', 'up', 'when', 'river', 'dried', 'up', 'you', 'came', 'rain', 'flood', 'you', 'said', 'drink', 'me', 'drink', 'when', 'so', 'thirsty', 'poured', 'symphony', 'now', 'just', 'can', 'get', 'enough', 'put', 'wings', 'me', 'wings', 'when', 'so', 'heavy', 'poured', 'symphony', 'when', 'low', 'low', 'low', 'low', 'oh', 'oh', 'got', 'feeling', 'drunk', 'high', 'so', 'high', 'so', 'high', 'oh', 'oh', 'oh', 'now', 'feeling', 'drunk', 'high', 'so', 'high', 'so', 'high', 'woo', 'woo', 'ooo', 'ooo', 'woo', 'oh', 'angel', 'sent', 'up', 'above', 'feel', 'coursing', 'through', 'blood', 'life', 'drink', 'love', 'about', 'to', 'make', 'stars', 'come', 'out', 'put', 'wings', 'me', 'wings', 'when', 'so', 'heavy', 'poured', 'symphony', 'when', 'low', 'low', 'low', 'low', 'oh', 'oh', 'got', 'feeling', 'drunk', 'high', 'so', 'high', 'so', 'high', 'oh', 'oh', 'oh', 'feeling', 'drunk', 'high', 'so', 'high', 'so', 'high', 'oh', 'oh', 'la', 'la', 'la', 'la', 'la', 'la', 'la', 'so', 'high', 'so', 'high', 'oh', 'oh', 'now', 'feeling', 'drunk', 'high', 'so', 'high', 'so', 'high', 'that', 'shoot', 'across', 'sky', 'that', 'shoot', 'across', 'the', 'that', 'shoot', 'across', 'sky', 'let', 'shoot', 'across', 'the', 'let', 'shoot', 'let', 'shoot', 'across', 'sky', 'let', 'shoot', 'across', 'the', 'let', 'shoot', 'across', 'sky', 'that', 'we', 'shoot', 'across', 'the', '64embed']",
            "count": 1
           },
           {
            "name": "3 others",
            "count": 3
           }
          ]
         }
        },
        {
         "name": "_deepnote_index_column",
         "dtype": "int64"
        }
       ],
       "rows": [
        {
         "Unnamed: 0": 0,
         "artist_mb": "Coldplay",
         "song_name": "Viva la Vida ",
         "id": 399,
         "lyrics_nostop": "i used rule world seas would rise i gave word now morning, i sleep alone sweep streets i used own i used roll dice feel fear enemy's eyes listened crowd would sing \"now old king dead, long live king\" one minute i held key next, walls were closed and i discovered castles stand upon pillars salt pillars sand i hear jerusalem bells a-ringing roman cavalry choirs singing be mirror, sword shield my missionaries foreign field for reason, i can't explain once you'd gone, never never honest word and i ruled world it wicked wild wind blew down doors let shattered windows sound drums people couldn't believe i'd become revolutionaries wait for head silver plate just puppet lonely string (mmm, mmm) oh, would ever want king? i hear jerusalem bells a-ringing roman cavalry choirs singing be mirror, sword shield my missionaries foreign field for reason, i can't explain i know saint peter won't call name never honest word but i ruled world (oh-oh-oh, oh-oh-woah) (oh-oh-oh, oh-oh-woah) (oh-oh-oh, oh-oh…",
         "tokens": "['used', 'rule', 'world', 'seas', 'would', 'rise', 'gave', 'word', 'now', 'morning', 'sleep', 'alone', 'sweep', 'streets', 'used', 'own', 'used', 'roll', 'dice', 'feel', 'fear', 'enemy', 'eyes', 'listened', 'crowd', 'would', 'sing', 'now', 'old', 'king', 'dead', 'long', 'live', 'king', 'one', 'minute', 'held', 'key', 'next', 'walls', 'were', 'closed', 'and', 'discovered', 'castles', 'stand', 'upon', 'pillars', 'salt', 'pillars', 'sand', 'hear', 'jerusalem', 'bells', 'ringing', 'roman', 'cavalry', 'choirs', 'singing', 'be', 'mirror', 'sword', 'shield', 'my', 'missionaries', 'foreign', 'field', 'for', 'reason', 'can', 'explain', 'once', 'you', 'gone', 'never', 'never', 'honest', 'word', 'and', 'ruled', 'world', 'it', 'wicked', 'wild', 'wind', 'blew', 'down', 'doors', 'let', 'shattered', 'windows', 'sound', 'drums', 'people', 'couldn', 'believe', 'become', 'revolutionaries', 'wait', 'for', 'head', 'silver', 'plate', 'just', 'puppet', 'lonely', 'string', 'mmm', 'mmm', 'oh', 'would', 'ever…",
         "_deepnote_index_column": 0
        },
        {
         "Unnamed: 0": 0,
         "artist_mb": "Coldplay",
         "song_name": "Hymn for the Weekend ",
         "id": 787,
         "lyrics_nostop": "and said drink me, drink (oh-ah-oh-ah) that we shoot across sky symphony that we shoot across sky pour a... drink me, drink (oh-ah-oh-ah) that we shoot across sky symphony (so high, so high) that we shoot across sky oh, angel sent up above you know make world light up when i down, i hurt you came lift up life drink love's drug oh now i think i must miles up when i river dried up you came rain flood you said drink me, drink when i so thirsty poured symphony now i just can't get enough put wings me, wings when i so heavy poured symphony when i'm low, low, low, low i, oh-i, oh-i got feeling drunk high, so high, so high oh-i, oh-i, oh-i now i’m feeling drunk high, so high, so high (woo) (woo-ooo-ooo-woo) oh, angel sent up above i feel coursing through blood life drink love's about to make stars come out put wings me, wings when i so heavy poured symphony when i'm low, low, low, low i, oh-i, oh-i got feeling drunk high, so high, so high oh-i, oh-i, oh-i i’m feeling drunk high, so high, so …",
         "tokens": "['and', 'said', 'drink', 'me', 'drink', 'oh', 'ah', 'oh', 'ah', 'that', 'we', 'shoot', 'across', 'sky', 'symphony', 'that', 'we', 'shoot', 'across', 'sky', 'pour', 'drink', 'me', 'drink', 'oh', 'ah', 'oh', 'ah', 'that', 'we', 'shoot', 'across', 'sky', 'symphony', 'so', 'high', 'so', 'high', 'that', 'we', 'shoot', 'across', 'sky', 'oh', 'angel', 'sent', 'up', 'above', 'you', 'know', 'make', 'world', 'light', 'up', 'when', 'down', 'hurt', 'you', 'came', 'lift', 'up', 'life', 'drink', 'love', 'drug', 'oh', 'now', 'think', 'must', 'miles', 'up', 'when', 'river', 'dried', 'up', 'you', 'came', 'rain', 'flood', 'you', 'said', 'drink', 'me', 'drink', 'when', 'so', 'thirsty', 'poured', 'symphony', 'now', 'just', 'can', 'get', 'enough', 'put', 'wings', 'me', 'wings', 'when', 'so', 'heavy', 'poured', 'symphony', 'when', 'low', 'low', 'low', 'low', 'oh', 'oh', 'got', 'feeling', 'drunk', 'high', 'so', 'high', 'so', 'high', 'oh', 'oh', 'oh', 'now', 'feeling', 'drunk', 'high', 'so', 'high', 'so', 'h…",
         "_deepnote_index_column": 1
        },
        {
         "Unnamed: 0": 0,
         "artist_mb": "Coldplay",
         "song_name": "The Scientist ",
         "id": 1075,
         "lyrics_nostop": "come up meet you, tell i'm sorry you don't know lovely i had find you, tell i need tell i set apart tell secrets, ask questions oh, let's go back start running circles, coming up tails heads science apart nobody said easy it's such shame part nobody said easy no one ever said would hard oh, take back start i just guessing numbers figures pulling puzzles apart questions science, science progress do not speak loud heart tell love me, come back haunt oh, i rush start running circles, chasing tails coming back we nobody said easy oh, it's such shame part nobody said easy no one ever said would so hard i'm going back start oh-ooh ooh-ooh-ooh-ooh ah-ooh ooh-ooh-ooh-ooh oh-ooh ooh-ooh-ooh-ooh oh-ooh ooh-ooh-ooh-ooh216embed",
         "tokens": "['come', 'up', 'meet', 'you', 'tell', 'sorry', 'you', 'don', 'know', 'lovely', 'had', 'find', 'you', 'tell', 'need', 'tell', 'set', 'apart', 'tell', 'secrets', 'ask', 'questions', 'oh', 'let', 'go', 'back', 'start', 'running', 'circles', 'coming', 'up', 'tails', 'heads', 'science', 'apart', 'nobody', 'said', 'easy', 'it', 'such', 'shame', 'part', 'nobody', 'said', 'easy', 'no', 'one', 'ever', 'said', 'would', 'hard', 'oh', 'take', 'back', 'start', 'just', 'guessing', 'numbers', 'figures', 'pulling', 'puzzles', 'apart', 'questions', 'science', 'science', 'progress', 'do', 'not', 'speak', 'loud', 'heart', 'tell', 'love', 'me', 'come', 'back', 'haunt', 'oh', 'rush', 'start', 'running', 'circles', 'chasing', 'tails', 'coming', 'back', 'we', 'nobody', 'said', 'easy', 'oh', 'it', 'such', 'shame', 'part', 'nobody', 'said', 'easy', 'no', 'one', 'ever', 'said', 'would', 'so', 'hard', 'going', 'back', 'start', 'oh', 'ooh', 'ooh', 'ooh', 'ooh', 'ooh', 'ah', 'ooh', 'ooh', 'ooh', 'ooh', 'ooh', 'oh…",
         "_deepnote_index_column": 2
        },
        {
         "Unnamed: 0": 0,
         "artist_mb": "Coldplay",
         "song_name": "Yellow ",
         "id": 2120,
         "lyrics_nostop": "look stars, look shine and everything do yeah, were yellow i came along, i wrote song and things do and called \"yellow\" so then i took turn oh, thing done and yellow (aah) your skin, oh, yeah, skin bones (ooh) turn into something beautiful (aah) you know, know i love so you know i love so i swam across, i jumped across oh, thing do 'cause were yellow i drew line, i drew line oh, thing do and yellow (aah) your skin, oh, yeah, skin bones (ooh) turn into something beautiful (aah) and know, you, i'd bleed myself dry for you, i'd bleed myself dry it's true, look shine look shine look shine look shine look shine look shine look stars look shine and things do160embed",
         "tokens": "['look', 'stars', 'look', 'shine', 'and', 'everything', 'do', 'yeah', 'were', 'yellow', 'came', 'along', 'wrote', 'song', 'and', 'things', 'do', 'and', 'called', 'yellow', 'so', 'then', 'took', 'turn', 'oh', 'thing', 'done', 'and', 'yellow', 'aah', 'your', 'skin', 'oh', 'yeah', 'skin', 'bones', 'ooh', 'turn', 'into', 'something', 'beautiful', 'aah', 'you', 'know', 'know', 'love', 'so', 'you', 'know', 'love', 'so', 'swam', 'across', 'jumped', 'across', 'oh', 'thing', 'do', 'cause', 'were', 'yellow', 'drew', 'line', 'drew', 'line', 'oh', 'thing', 'do', 'and', 'yellow', 'aah', 'your', 'skin', 'oh', 'yeah', 'skin', 'bones', 'ooh', 'turn', 'into', 'something', 'beautiful', 'aah', 'and', 'know', 'you', 'bleed', 'myself', 'dry', 'for', 'you', 'bleed', 'myself', 'dry', 'it', 'true', 'look', 'shine', 'look', 'shine', 'look', 'shine', 'look', 'shine', 'look', 'shine', 'look', 'shine', 'look', 'stars', 'look', 'shine', 'and', 'things', 'do160embed']",
         "_deepnote_index_column": 3
        },
        {
         "Unnamed: 0": 0,
         "artist_mb": "Coldplay",
         "song_name": "Fix You ",
         "id": 2169,
         "lyrics_nostop": "when try best, don't succeed when get want, not need when feel so tired, can't sleep stuck reverse and tears come streaming down face when lose something can't replace when love someone, goes waste could worse? lights guide home and ignite bones and i try fix and high up above down below when you're too love let go but if never try, you'll never know just you're worth lights guide home and ignite bones and i try fix tears stream down face when lose something cannot replace tears stream down face, i tears stream down face i promise i learn mistakes tears stream down face, i lights guide home and ignite bones and i try fix you147embed",
         "tokens": "['when', 'try', 'best', 'don', 'succeed', 'when', 'get', 'want', 'not', 'need', 'when', 'feel', 'so', 'tired', 'can', 'sleep', 'stuck', 'reverse', 'and', 'tears', 'come', 'streaming', 'down', 'face', 'when', 'lose', 'something', 'can', 'replace', 'when', 'love', 'someone', 'goes', 'waste', 'could', 'worse', 'lights', 'guide', 'home', 'and', 'ignite', 'bones', 'and', 'try', 'fix', 'and', 'high', 'up', 'above', 'down', 'below', 'when', 'you', 're', 'too', 'love', 'let', 'go', 'but', 'if', 'never', 'try', 'you', 'll', 'never', 'know', 'just', 'you', 're', 'worth', 'lights', 'guide', 'home', 'and', 'ignite', 'bones', 'and', 'try', 'fix', 'tears', 'stream', 'down', 'face', 'when', 'lose', 'something', 'cannot', 'replace', 'tears', 'stream', 'down', 'face', 'tears', 'stream', 'down', 'face', 'promise', 'learn', 'mistakes', 'tears', 'stream', 'down', 'face', 'lights', 'guide', 'home', 'and', 'ignite', 'bones', 'and', 'try', 'fix', 'you147embed']",
         "_deepnote_index_column": 4
        }
       ]
      },
      "text/plain": "   Unnamed: 0 artist_mb              song_name    id  \\\n0           0  Coldplay          Viva la Vida    399   \n1           0  Coldplay  Hymn for the Weekend    787   \n2           0  Coldplay         The Scientist   1075   \n3           0  Coldplay                Yellow   2120   \n4           0  Coldplay               Fix You   2169   \n\n                                       lyrics_nostop  \\\n0  i used rule world seas would rise i gave word ...   \n1  and said drink me, drink (oh-ah-oh-ah) that we...   \n2  come up meet you, tell i'm sorry you don't kno...   \n3  look stars, look shine and everything do yeah,...   \n4  when try best, don't succeed when get want, no...   \n\n                                              tokens  \n0  [used, rule, world, seas, would, rise, gave, w...  \n1  [and, said, drink, me, drink, oh, ah, oh, ah, ...  \n2  [come, up, meet, you, tell, sorry, you, don, k...  \n3  [look, stars, look, shine, and, everything, do...  \n4  [when, try, best, don, succeed, when, get, wan...  ",
      "text/html": "<div>\n<style scoped>\n    .dataframe tbody tr th:only-of-type {\n        vertical-align: middle;\n    }\n\n    .dataframe tbody tr th {\n        vertical-align: top;\n    }\n\n    .dataframe thead th {\n        text-align: right;\n    }\n</style>\n<table border=\"1\" class=\"dataframe\">\n  <thead>\n    <tr style=\"text-align: right;\">\n      <th></th>\n      <th>Unnamed: 0</th>\n      <th>artist_mb</th>\n      <th>song_name</th>\n      <th>id</th>\n      <th>lyrics_nostop</th>\n      <th>tokens</th>\n    </tr>\n  </thead>\n  <tbody>\n    <tr>\n      <th>0</th>\n      <td>0</td>\n      <td>Coldplay</td>\n      <td>Viva la Vida</td>\n      <td>399</td>\n      <td>i used rule world seas would rise i gave word ...</td>\n      <td>[used, rule, world, seas, would, rise, gave, w...</td>\n    </tr>\n    <tr>\n      <th>1</th>\n      <td>0</td>\n      <td>Coldplay</td>\n      <td>Hymn for the Weekend</td>\n      <td>787</td>\n      <td>and said drink me, drink (oh-ah-oh-ah) that we...</td>\n      <td>[and, said, drink, me, drink, oh, ah, oh, ah, ...</td>\n    </tr>\n    <tr>\n      <th>2</th>\n      <td>0</td>\n      <td>Coldplay</td>\n      <td>The Scientist</td>\n      <td>1075</td>\n      <td>come up meet you, tell i'm sorry you don't kno...</td>\n      <td>[come, up, meet, you, tell, sorry, you, don, k...</td>\n    </tr>\n    <tr>\n      <th>3</th>\n      <td>0</td>\n      <td>Coldplay</td>\n      <td>Yellow</td>\n      <td>2120</td>\n      <td>look stars, look shine and everything do yeah,...</td>\n      <td>[look, stars, look, shine, and, everything, do...</td>\n    </tr>\n    <tr>\n      <th>4</th>\n      <td>0</td>\n      <td>Coldplay</td>\n      <td>Fix You</td>\n      <td>2169</td>\n      <td>when try best, don't succeed when get want, no...</td>\n      <td>[when, try, best, don, succeed, when, get, wan...</td>\n    </tr>\n  </tbody>\n</table>\n</div>"
     },
     "metadata": {}
    }
   ]
  },
  {
   "cell_type": "code",
   "metadata": {
    "cell_id": "dedf338868a04e048679f8a0120164bc",
    "tags": [],
    "deepnote_to_be_reexecuted": false,
    "source_hash": "62f016ab",
    "execution_start": 1655837299795,
    "execution_millis": 2,
    "deepnote_cell_type": "code",
    "deepnote_cell_height": 135
   },
   "source": "# Avoid running this because this is written to a csv\n# all work is done in track_info.py\n# Uncomment if running for the first time\n# inject_song_id(sp, info)",
   "execution_count": 26,
   "outputs": []
  },
  {
   "cell_type": "markdown",
   "source": "See track_info.py to view the process of injecting these ids into the dataframe. The process took about 3 minutes, so I figured it was easier to store in a csv for easy access.",
   "metadata": {
    "formattedRanges": [],
    "cell_id": "ca9eb199779b415c9db240008055d8c7",
    "tags": [],
    "is_collapsed": false,
    "deepnote_cell_type": "text-cell-p"
   }
  },
  {
   "cell_type": "code",
   "metadata": {
    "cell_id": "dd7dd9ff53a443509c5ad13654d227b1",
    "tags": [],
    "deepnote_to_be_reexecuted": false,
    "source_hash": "4ab8d56b",
    "execution_start": 1655837299803,
    "execution_millis": 101,
    "deepnote_cell_type": "code",
    "deepnote_cell_height": 81
   },
   "source": "info = pd.read_csv(\"data/data_with_spotify_ids.csv\")",
   "execution_count": 27,
   "outputs": []
  },
  {
   "cell_type": "code",
   "metadata": {
    "cell_id": "3258507bdb4242609e9ee7571b962bed",
    "tags": [],
    "deepnote_to_be_reexecuted": false,
    "source_hash": "6ff6b90",
    "execution_start": 1655837299910,
    "execution_millis": 18,
    "deepnote_cell_type": "code",
    "deepnote_cell_height": 118.1875,
    "deepnote_output_heights": [
     21.1875
    ]
   },
   "source": "info[\"sp_id\"].isna().sum()",
   "execution_count": 28,
   "outputs": [
    {
     "output_type": "execute_result",
     "execution_count": 28,
     "data": {
      "text/plain": "0"
     },
     "metadata": {}
    }
   ]
  },
  {
   "cell_type": "markdown",
   "source": "That did the trick, we will simply remove these last 79 songs because there are likely errors that would waste a lot of time to fix.",
   "metadata": {
    "formattedRanges": [],
    "cell_id": "7789defea60342508f0ae4e3877dbc40",
    "tags": [],
    "is_collapsed": false,
    "deepnote_cell_type": "text-cell-p"
   }
  },
  {
   "cell_type": "code",
   "metadata": {
    "cell_id": "950e34bee78e4faea0cc05ff55218004",
    "tags": [],
    "deepnote_to_be_reexecuted": false,
    "source_hash": "aeed8988",
    "execution_start": 1655837299931,
    "execution_millis": 5,
    "deepnote_cell_type": "code",
    "deepnote_cell_height": 118.1875,
    "deepnote_output_heights": [
     21.1875
    ]
   },
   "source": "info.shape",
   "execution_count": 29,
   "outputs": [
    {
     "output_type": "execute_result",
     "execution_count": 29,
     "data": {
      "text/plain": "(2331, 8)"
     },
     "metadata": {}
    }
   ]
  },
  {
   "cell_type": "markdown",
   "source": "Now we have 2,331 songs to build our playlists on, and there is always a way to add artists I/you like if I needed to later.",
   "metadata": {
    "formattedRanges": [],
    "cell_id": "736ead0e07194a60a1048470e85b78f9",
    "tags": [],
    "is_collapsed": false,
    "deepnote_cell_type": "text-cell-p"
   }
  },
  {
   "cell_type": "markdown",
   "source": "### Add some song metadata",
   "metadata": {
    "formattedRanges": [],
    "cell_id": "b57081cb965944208446c09bebe63ed2",
    "tags": [],
    "is_collapsed": false,
    "deepnote_cell_type": "text-cell-h3"
   }
  },
  {
   "cell_type": "markdown",
   "source": "I already processed and extracted all of the data into a csv, see track_info.py to see how that was done",
   "metadata": {
    "formattedRanges": [],
    "cell_id": "5cb9150e8e5e4a20952acece19b7a0ba",
    "tags": [],
    "is_collapsed": false,
    "deepnote_cell_type": "text-cell-p"
   }
  },
  {
   "cell_type": "markdown",
   "source": "Now we have some features that will predict song similarity!",
   "metadata": {
    "formattedRanges": [],
    "cell_id": "7aeb4111ad77474da81ab07c07be7f38",
    "tags": [],
    "is_collapsed": false,
    "deepnote_cell_type": "text-cell-p"
   }
  },
  {
   "cell_type": "code",
   "metadata": {
    "cell_id": "4f30b69ac4594aa2866ce802e1dbea97",
    "tags": [],
    "deepnote_to_be_reexecuted": false,
    "source_hash": "cbc66f4b",
    "execution_start": 1655837299983,
    "execution_millis": 51,
    "deepnote_cell_type": "code",
    "deepnote_cell_height": 81
   },
   "source": "track_info = pd.read_csv(\"data/audio_and_lyric_data.csv\")",
   "execution_count": 30,
   "outputs": []
  },
  {
   "cell_type": "code",
   "metadata": {
    "cell_id": "c4e7ba2c6ec940aa9f8b1aedbeb86898",
    "tags": [],
    "deepnote_to_be_reexecuted": false,
    "source_hash": "5be4013c",
    "execution_start": 1655837300088,
    "execution_millis": 694,
    "deepnote_cell_type": "code",
    "deepnote_cell_height": 430
   },
   "source": "track_info = track_info.drop(\"Unnamed: 0\",axis=1)\ntrack_info.head()",
   "execution_count": 31,
   "outputs": [
    {
     "output_type": "execute_result",
     "execution_count": 31,
     "data": {
      "application/vnd.deepnote.dataframe.v3+json": {
       "column_count": 16,
       "row_count": 5,
       "columns": [
        {
         "name": "artist_mb",
         "dtype": "object",
         "stats": {
          "unique_count": 1,
          "nan_count": 0,
          "categories": [
           {
            "name": "Coldplay",
            "count": 5
           }
          ]
         }
        },
        {
         "name": "song_name",
         "dtype": "object",
         "stats": {
          "unique_count": 5,
          "nan_count": 0,
          "categories": [
           {
            "name": "Viva la Vida ",
            "count": 1
           },
           {
            "name": "Hymn for the Weekend ",
            "count": 1
           },
           {
            "name": "3 others",
            "count": 3
           }
          ]
         }
        },
        {
         "name": "id",
         "dtype": "int64",
         "stats": {
          "unique_count": 5,
          "nan_count": 0,
          "min": "399",
          "max": "2169",
          "histogram": [
           {
            "bin_start": 399,
            "bin_end": 576,
            "count": 1
           },
           {
            "bin_start": 576,
            "bin_end": 753,
            "count": 0
           },
           {
            "bin_start": 753,
            "bin_end": 930,
            "count": 1
           },
           {
            "bin_start": 930,
            "bin_end": 1107,
            "count": 1
           },
           {
            "bin_start": 1107,
            "bin_end": 1284,
            "count": 0
           },
           {
            "bin_start": 1284,
            "bin_end": 1461,
            "count": 0
           },
           {
            "bin_start": 1461,
            "bin_end": 1638,
            "count": 0
           },
           {
            "bin_start": 1638,
            "bin_end": 1815,
            "count": 0
           },
           {
            "bin_start": 1815,
            "bin_end": 1992,
            "count": 0
           },
           {
            "bin_start": 1992,
            "bin_end": 2169,
            "count": 2
           }
          ]
         }
        },
        {
         "name": "lyrics_nostop",
         "dtype": "object",
         "stats": {
          "unique_count": 5,
          "nan_count": 0,
          "categories": [
           {
            "name": "i used rule world seas would rise i gave word now morning, i sleep alone sweep streets i used own i used roll dice feel fear enemy's eyes listened crowd would sing \"now old king dead, long live king\" one minute i held key next, walls were closed and i discovered castles stand upon pillars salt pillars sand i hear jerusalem bells a-ringing roman cavalry choirs singing be mirror, sword shield my missionaries foreign field for reason, i can't explain once you'd gone, never never honest word and i ruled world it wicked wild wind blew down doors let shattered windows sound drums people couldn't believe i'd become revolutionaries wait for head silver plate just puppet lonely string (mmm, mmm) oh, would ever want king? i hear jerusalem bells a-ringing roman cavalry choirs singing be mirror, sword shield my missionaries foreign field for reason, i can't explain i know saint peter won't call name never honest word but i ruled world (oh-oh-oh, oh-oh-woah) (oh-oh-oh, oh-oh-woah) (oh-oh-oh, oh-oh-woah) (oh-oh-oh, oh-oh-woah) (oh-oh-oh, oh-oh-woah) hear jerusalem bells a-ringing (oh-oh-oh, oh-oh-woah) roman cavalry choirs singing (oh-oh-oh, oh-oh-woah) be mirror, sword shield (oh-oh-oh, oh-oh-woah) my missionaries foreign field (oh-oh-oh, oh-oh-woah) for reason, i can't explain (oh-oh-oh, oh-oh-woah) i know saint peter won't call name never honest word but i ruled world mmm, mmm, mmm, mmm mmm, mmm, mmm, mmm mmm, mmm227embed",
            "count": 1
           },
           {
            "name": "and said drink me, drink (oh-ah-oh-ah) that we shoot across sky symphony that we shoot across sky pour a... drink me, drink (oh-ah-oh-ah) that we shoot across sky symphony (so high, so high) that we shoot across sky oh, angel sent up above you know make world light up when i down, i hurt you came lift up life drink love's drug oh now i think i must miles up when i river dried up you came rain flood you said drink me, drink when i so thirsty poured symphony now i just can't get enough put wings me, wings when i so heavy poured symphony when i'm low, low, low, low i, oh-i, oh-i got feeling drunk high, so high, so high oh-i, oh-i, oh-i now i’m feeling drunk high, so high, so high (woo) (woo-ooo-ooo-woo) oh, angel sent up above i feel coursing through blood life drink love's about to make stars come out put wings me, wings when i so heavy poured symphony when i'm low, low, low, low i, oh-i, oh-i got feeling drunk high, so high, so high oh-i, oh-i, oh-i i’m feeling drunk high, so high, so high i, oh-i, oh-i la, la, la, la, la, la, la, so high, so high i, oh-i, oh-i now i'm feeling drunk high, so high, so high that i shoot across sky that i shoot across the... that i shoot across sky let shoot across the... (let shoot) let shoot across sky let shoot across the... let shoot across sky that we shoot across the...64embed",
            "count": 1
           },
           {
            "name": "3 others",
            "count": 3
           }
          ]
         }
        },
        {
         "name": "tokens",
         "dtype": "object",
         "stats": {
          "unique_count": 5,
          "nan_count": 0,
          "categories": [
           {
            "name": "['used', 'rule', 'world', 'seas', 'would', 'rise', 'gave', 'word', 'now', 'morning', 'sleep', 'alone', 'sweep', 'streets', 'used', 'own', 'used', 'roll', 'dice', 'feel', 'fear', 'enemy', 'eyes', 'listened', 'crowd', 'would', 'sing', 'now', 'old', 'king', 'dead', 'long', 'live', 'king', 'one', 'minute', 'held', 'key', 'next', 'walls', 'were', 'closed', 'and', 'discovered', 'castles', 'stand', 'upon', 'pillars', 'salt', 'pillars', 'sand', 'hear', 'jerusalem', 'bells', 'ringing', 'roman', 'cavalry', 'choirs', 'singing', 'be', 'mirror', 'sword', 'shield', 'my', 'missionaries', 'foreign', 'field', 'for', 'reason', 'can', 'explain', 'once', 'you', 'gone', 'never', 'never', 'honest', 'word', 'and', 'ruled', 'world', 'it', 'wicked', 'wild', 'wind', 'blew', 'down', 'doors', 'let', 'shattered', 'windows', 'sound', 'drums', 'people', 'couldn', 'believe', 'become', 'revolutionaries', 'wait', 'for', 'head', 'silver', 'plate', 'just', 'puppet', 'lonely', 'string', 'mmm', 'mmm', 'oh', 'would', 'ever', 'want', 'king', 'hear', 'jerusalem', 'bells', 'ringing', 'roman', 'cavalry', 'choirs', 'singing', 'be', 'mirror', 'sword', 'shield', 'my', 'missionaries', 'foreign', 'field', 'for', 'reason', 'can', 'explain', 'know', 'saint', 'peter', 'won', 'call', 'name', 'never', 'honest', 'word', 'but', 'ruled', 'world', 'oh', 'oh', 'oh', 'oh', 'oh', 'woah', 'oh', 'oh', 'oh', 'oh', 'oh', 'woah', 'oh', 'oh', 'oh', 'oh', 'oh', 'woah', 'oh', 'oh', 'oh', 'oh', 'oh', 'woah', 'oh', 'oh', 'oh', 'oh', 'oh', 'woah', 'hear', 'jerusalem', 'bells', 'ringing', 'oh', 'oh', 'oh', 'oh', 'oh', 'woah', 'roman', 'cavalry', 'choirs', 'singing', 'oh', 'oh', 'oh', 'oh', 'oh', 'woah', 'be', 'mirror', 'sword', 'shield', 'oh', 'oh', 'oh', 'oh', 'oh', 'woah', 'my', 'missionaries', 'foreign', 'field', 'oh', 'oh', 'oh', 'oh', 'oh', 'woah', 'for', 'reason', 'can', 'explain', 'oh', 'oh', 'oh', 'oh', 'oh', 'woah', 'know', 'saint', 'peter', 'won', 'call', 'name', 'never', 'honest', 'word', 'but', 'ruled', 'world', 'mmm', 'mmm', 'mmm', 'mmm', 'mmm', 'mmm', 'mmm', 'mmm', 'mmm', 'mmm227embed']",
            "count": 1
           },
           {
            "name": "['and', 'said', 'drink', 'me', 'drink', 'oh', 'ah', 'oh', 'ah', 'that', 'we', 'shoot', 'across', 'sky', 'symphony', 'that', 'we', 'shoot', 'across', 'sky', 'pour', 'drink', 'me', 'drink', 'oh', 'ah', 'oh', 'ah', 'that', 'we', 'shoot', 'across', 'sky', 'symphony', 'so', 'high', 'so', 'high', 'that', 'we', 'shoot', 'across', 'sky', 'oh', 'angel', 'sent', 'up', 'above', 'you', 'know', 'make', 'world', 'light', 'up', 'when', 'down', 'hurt', 'you', 'came', 'lift', 'up', 'life', 'drink', 'love', 'drug', 'oh', 'now', 'think', 'must', 'miles', 'up', 'when', 'river', 'dried', 'up', 'you', 'came', 'rain', 'flood', 'you', 'said', 'drink', 'me', 'drink', 'when', 'so', 'thirsty', 'poured', 'symphony', 'now', 'just', 'can', 'get', 'enough', 'put', 'wings', 'me', 'wings', 'when', 'so', 'heavy', 'poured', 'symphony', 'when', 'low', 'low', 'low', 'low', 'oh', 'oh', 'got', 'feeling', 'drunk', 'high', 'so', 'high', 'so', 'high', 'oh', 'oh', 'oh', 'now', 'feeling', 'drunk', 'high', 'so', 'high', 'so', 'high', 'woo', 'woo', 'ooo', 'ooo', 'woo', 'oh', 'angel', 'sent', 'up', 'above', 'feel', 'coursing', 'through', 'blood', 'life', 'drink', 'love', 'about', 'to', 'make', 'stars', 'come', 'out', 'put', 'wings', 'me', 'wings', 'when', 'so', 'heavy', 'poured', 'symphony', 'when', 'low', 'low', 'low', 'low', 'oh', 'oh', 'got', 'feeling', 'drunk', 'high', 'so', 'high', 'so', 'high', 'oh', 'oh', 'oh', 'feeling', 'drunk', 'high', 'so', 'high', 'so', 'high', 'oh', 'oh', 'la', 'la', 'la', 'la', 'la', 'la', 'la', 'so', 'high', 'so', 'high', 'oh', 'oh', 'now', 'feeling', 'drunk', 'high', 'so', 'high', 'so', 'high', 'that', 'shoot', 'across', 'sky', 'that', 'shoot', 'across', 'the', 'that', 'shoot', 'across', 'sky', 'let', 'shoot', 'across', 'the', 'let', 'shoot', 'let', 'shoot', 'across', 'sky', 'let', 'shoot', 'across', 'the', 'let', 'shoot', 'across', 'sky', 'that', 'we', 'shoot', 'across', 'the', '64embed']",
            "count": 1
           },
           {
            "name": "3 others",
            "count": 3
           }
          ]
         }
        },
        {
         "name": "sp_id",
         "dtype": "object",
         "stats": {
          "unique_count": 5,
          "nan_count": 0,
          "categories": [
           {
            "name": "1mea3bSkSGXuIRvnydlB5b",
            "count": 1
           },
           {
            "name": "3RiPr603aXAoi4GHyXx0uy",
            "count": 1
           },
           {
            "name": "3 others",
            "count": 3
           }
          ]
         }
        },
        {
         "name": "danceability",
         "dtype": "float64",
         "stats": {
          "unique_count": 5,
          "nan_count": 0,
          "min": "0.209",
          "max": "0.557",
          "histogram": [
           {
            "bin_start": 0.209,
            "bin_end": 0.24380000000000002,
            "count": 1
           },
           {
            "bin_start": 0.24380000000000002,
            "bin_end": 0.2786,
            "count": 0
           },
           {
            "bin_start": 0.2786,
            "bin_end": 0.3134,
            "count": 0
           },
           {
            "bin_start": 0.3134,
            "bin_end": 0.34820000000000007,
            "count": 0
           },
           {
            "bin_start": 0.34820000000000007,
            "bin_end": 0.383,
            "count": 0
           },
           {
            "bin_start": 0.383,
            "bin_end": 0.41780000000000006,
            "count": 0
           },
           {
            "bin_start": 0.41780000000000006,
            "bin_end": 0.4526000000000001,
            "count": 1
           },
           {
            "bin_start": 0.4526000000000001,
            "bin_end": 0.48740000000000006,
            "count": 1
           },
           {
            "bin_start": 0.48740000000000006,
            "bin_end": 0.5222000000000001,
            "count": 1
           },
           {
            "bin_start": 0.5222000000000001,
            "bin_end": 0.557,
            "count": 1
           }
          ]
         }
        },
        {
         "name": "energy",
         "dtype": "float64",
         "stats": {
          "unique_count": 5,
          "nan_count": 0,
          "min": "0.417",
          "max": "0.693",
          "histogram": [
           {
            "bin_start": 0.417,
            "bin_end": 0.4446,
            "count": 2
           },
           {
            "bin_start": 0.4446,
            "bin_end": 0.47219999999999995,
            "count": 0
           },
           {
            "bin_start": 0.47219999999999995,
            "bin_end": 0.49979999999999997,
            "count": 0
           },
           {
            "bin_start": 0.49979999999999997,
            "bin_end": 0.5274,
            "count": 0
           },
           {
            "bin_start": 0.5274,
            "bin_end": 0.5549999999999999,
            "count": 0
           },
           {
            "bin_start": 0.5549999999999999,
            "bin_end": 0.5826,
            "count": 0
           },
           {
            "bin_start": 0.5826,
            "bin_end": 0.6102,
            "count": 0
           },
           {
            "bin_start": 0.6102,
            "bin_end": 0.6377999999999999,
            "count": 1
           },
           {
            "bin_start": 0.6377999999999999,
            "bin_end": 0.6654,
            "count": 1
           },
           {
            "bin_start": 0.6654,
            "bin_end": 0.693,
            "count": 1
           }
          ]
         }
        },
        {
         "name": "key",
         "dtype": "float64",
         "stats": {
          "unique_count": 4,
          "nan_count": 0,
          "min": "0.0",
          "max": "11.0",
          "histogram": [
           {
            "bin_start": 0,
            "bin_end": 1.1,
            "count": 1
           },
           {
            "bin_start": 1.1,
            "bin_end": 2.2,
            "count": 0
           },
           {
            "bin_start": 2.2,
            "bin_end": 3.3000000000000003,
            "count": 1
           },
           {
            "bin_start": 3.3000000000000003,
            "bin_end": 4.4,
            "count": 0
           },
           {
            "bin_start": 4.4,
            "bin_end": 5.5,
            "count": 2
           },
           {
            "bin_start": 5.5,
            "bin_end": 6.6000000000000005,
            "count": 0
           },
           {
            "bin_start": 6.6000000000000005,
            "bin_end": 7.700000000000001,
            "count": 0
           },
           {
            "bin_start": 7.700000000000001,
            "bin_end": 8.8,
            "count": 0
           },
           {
            "bin_start": 8.8,
            "bin_end": 9.9,
            "count": 0
           },
           {
            "bin_start": 9.9,
            "bin_end": 11,
            "count": 1
           }
          ]
         }
        },
        {
         "name": "loudness",
         "dtype": "float64",
         "stats": {
          "unique_count": 5,
          "nan_count": 0,
          "min": "-8.74",
          "max": "-6.487",
          "histogram": [
           {
            "bin_start": -8.74,
            "bin_end": -8.5147,
            "count": 1
           },
           {
            "bin_start": -8.5147,
            "bin_end": -8.2894,
            "count": 0
           },
           {
            "bin_start": -8.2894,
            "bin_end": -8.0641,
            "count": 0
           },
           {
            "bin_start": -8.0641,
            "bin_end": -7.8388,
            "count": 0
           },
           {
            "bin_start": -7.8388,
            "bin_end": -7.6135,
            "count": 0
           },
           {
            "bin_start": -7.6135,
            "bin_end": -7.3882,
            "count": 0
           },
           {
            "bin_start": -7.3882,
            "bin_end": -7.1629000000000005,
            "count": 2
           },
           {
            "bin_start": -7.1629000000000005,
            "bin_end": -6.9376,
            "count": 1
           },
           {
            "bin_start": -6.9376,
            "bin_end": -6.712300000000001,
            "count": 0
           },
           {
            "bin_start": -6.712300000000001,
            "bin_end": -6.487,
            "count": 1
           }
          ]
         }
        },
        {
         "name": "speechiness",
         "dtype": "float64",
         "stats": {
          "unique_count": 5,
          "nan_count": 0,
          "min": "0.0243",
          "max": "0.0377",
          "histogram": [
           {
            "bin_start": 0.0243,
            "bin_end": 0.02564,
            "count": 1
           },
           {
            "bin_start": 0.02564,
            "bin_end": 0.026979999999999997,
            "count": 0
           },
           {
            "bin_start": 0.026979999999999997,
            "bin_end": 0.028319999999999998,
            "count": 1
           },
           {
            "bin_start": 0.028319999999999998,
            "bin_end": 0.02966,
            "count": 1
           },
           {
            "bin_start": 0.02966,
            "bin_end": 0.031,
            "count": 0
           },
           {
            "bin_start": 0.031,
            "bin_end": 0.032339999999999994,
            "count": 0
           },
           {
            "bin_start": 0.032339999999999994,
            "bin_end": 0.03368,
            "count": 0
           },
           {
            "bin_start": 0.03368,
            "bin_end": 0.035019999999999996,
            "count": 1
           },
           {
            "bin_start": 0.035019999999999996,
            "bin_end": 0.036359999999999996,
            "count": 0
           },
           {
            "bin_start": 0.036359999999999996,
            "bin_end": 0.0377,
            "count": 1
           }
          ]
         }
        },
        {
         "name": "acousticness",
         "dtype": "float64",
         "stats": {
          "unique_count": 5,
          "nan_count": 0,
          "min": "0.00239",
          "max": "0.731",
          "histogram": [
           {
            "bin_start": 0.00239,
            "bin_end": 0.075251,
            "count": 1
           },
           {
            "bin_start": 0.075251,
            "bin_end": 0.148112,
            "count": 1
           },
           {
            "bin_start": 0.148112,
            "bin_end": 0.22097299999999997,
            "count": 2
           },
           {
            "bin_start": 0.22097299999999997,
            "bin_end": 0.293834,
            "count": 0
           },
           {
            "bin_start": 0.293834,
            "bin_end": 0.366695,
            "count": 0
           },
           {
            "bin_start": 0.366695,
            "bin_end": 0.43955599999999995,
            "count": 0
           },
           {
            "bin_start": 0.43955599999999995,
            "bin_end": 0.512417,
            "count": 0
           },
           {
            "bin_start": 0.512417,
            "bin_end": 0.585278,
            "count": 0
           },
           {
            "bin_start": 0.585278,
            "bin_end": 0.6581389999999999,
            "count": 0
           },
           {
            "bin_start": 0.6581389999999999,
            "bin_end": 0.731,
            "count": 1
           }
          ]
         }
        },
        {
         "name": "instrumentalness",
         "dtype": "float64",
         "stats": {
          "unique_count": 5,
          "nan_count": 0,
          "min": "3.23e-06",
          "max": "0.00196",
          "histogram": [
           {
            "bin_start": 0.00000323,
            "bin_end": 0.000198907,
            "count": 4
           },
           {
            "bin_start": 0.000198907,
            "bin_end": 0.000394584,
            "count": 0
           },
           {
            "bin_start": 0.000394584,
            "bin_end": 0.000590261,
            "count": 0
           },
           {
            "bin_start": 0.000590261,
            "bin_end": 0.000785938,
            "count": 0
           },
           {
            "bin_start": 0.000785938,
            "bin_end": 0.000981615,
            "count": 0
           },
           {
            "bin_start": 0.000981615,
            "bin_end": 0.001177292,
            "count": 0
           },
           {
            "bin_start": 0.001177292,
            "bin_end": 0.001372969,
            "count": 0
           },
           {
            "bin_start": 0.001372969,
            "bin_end": 0.001568646,
            "count": 0
           },
           {
            "bin_start": 0.001568646,
            "bin_end": 0.001764323,
            "count": 0
           },
           {
            "bin_start": 0.001764323,
            "bin_end": 0.00196,
            "count": 1
           }
          ]
         }
        },
        {
         "name": "liveness",
         "dtype": "float64",
         "stats": {
          "unique_count": 5,
          "nan_count": 0,
          "min": "0.109",
          "max": "0.325",
          "histogram": [
           {
            "bin_start": 0.109,
            "bin_end": 0.1306,
            "count": 3
           },
           {
            "bin_start": 0.1306,
            "bin_end": 0.1522,
            "count": 0
           },
           {
            "bin_start": 0.1522,
            "bin_end": 0.1738,
            "count": 0
           },
           {
            "bin_start": 0.1738,
            "bin_end": 0.19540000000000002,
            "count": 0
           },
           {
            "bin_start": 0.19540000000000002,
            "bin_end": 0.21700000000000003,
            "count": 0
           },
           {
            "bin_start": 0.21700000000000003,
            "bin_end": 0.23859999999999998,
            "count": 1
           },
           {
            "bin_start": 0.23859999999999998,
            "bin_end": 0.2602,
            "count": 0
           },
           {
            "bin_start": 0.2602,
            "bin_end": 0.2818,
            "count": 0
           },
           {
            "bin_start": 0.2818,
            "bin_end": 0.3034,
            "count": 0
           },
           {
            "bin_start": 0.3034,
            "bin_end": 0.325,
            "count": 1
           }
          ]
         }
        },
        {
         "name": "valence",
         "dtype": "float64",
         "stats": {
          "unique_count": 5,
          "nan_count": 0,
          "min": "0.124",
          "max": "0.417",
          "histogram": [
           {
            "bin_start": 0.124,
            "bin_end": 0.1533,
            "count": 1
           },
           {
            "bin_start": 0.1533,
            "bin_end": 0.18259999999999998,
            "count": 0
           },
           {
            "bin_start": 0.18259999999999998,
            "bin_end": 0.2119,
            "count": 0
           },
           {
            "bin_start": 0.2119,
            "bin_end": 0.2412,
            "count": 1
           },
           {
            "bin_start": 0.2412,
            "bin_end": 0.27049999999999996,
            "count": 0
           },
           {
            "bin_start": 0.27049999999999996,
            "bin_end": 0.2998,
            "count": 1
           },
           {
            "bin_start": 0.2998,
            "bin_end": 0.3291,
            "count": 0
           },
           {
            "bin_start": 0.3291,
            "bin_end": 0.3584,
            "count": 0
           },
           {
            "bin_start": 0.3584,
            "bin_end": 0.3877,
            "count": 0
           },
           {
            "bin_start": 0.3877,
            "bin_end": 0.417,
            "count": 2
           }
          ]
         }
        },
        {
         "name": "tempo",
         "dtype": "float64",
         "stats": {
          "unique_count": 5,
          "nan_count": 0,
          "min": "90.027",
          "max": "173.372",
          "histogram": [
           {
            "bin_start": 90.027,
            "bin_end": 98.3615,
            "count": 1
           },
           {
            "bin_start": 98.3615,
            "bin_end": 106.696,
            "count": 0
           },
           {
            "bin_start": 106.696,
            "bin_end": 115.0305,
            "count": 0
           },
           {
            "bin_start": 115.0305,
            "bin_end": 123.36500000000001,
            "count": 0
           },
           {
            "bin_start": 123.36500000000001,
            "bin_end": 131.6995,
            "count": 0
           },
           {
            "bin_start": 131.6995,
            "bin_end": 140.03400000000002,
            "count": 2
           },
           {
            "bin_start": 140.03400000000002,
            "bin_end": 148.3685,
            "count": 1
           },
           {
            "bin_start": 148.3685,
            "bin_end": 156.70300000000003,
            "count": 0
           },
           {
            "bin_start": 156.70300000000003,
            "bin_end": 165.03750000000002,
            "count": 0
           },
           {
            "bin_start": 165.03750000000002,
            "bin_end": 173.372,
            "count": 1
           }
          ]
         }
        },
        {
         "name": "_deepnote_index_column",
         "dtype": "int64"
        }
       ],
       "rows": [
        {
         "artist_mb": "Coldplay",
         "song_name": "Viva la Vida ",
         "id": 399,
         "lyrics_nostop": "i used rule world seas would rise i gave word now morning, i sleep alone sweep streets i used own i used roll dice feel fear enemy's eyes listened crowd would sing \"now old king dead, long live king\" one minute i held key next, walls were closed and i discovered castles stand upon pillars salt pillars sand i hear jerusalem bells a-ringing roman cavalry choirs singing be mirror, sword shield my missionaries foreign field for reason, i can't explain once you'd gone, never never honest word and i ruled world it wicked wild wind blew down doors let shattered windows sound drums people couldn't believe i'd become revolutionaries wait for head silver plate just puppet lonely string (mmm, mmm) oh, would ever want king? i hear jerusalem bells a-ringing roman cavalry choirs singing be mirror, sword shield my missionaries foreign field for reason, i can't explain i know saint peter won't call name never honest word but i ruled world (oh-oh-oh, oh-oh-woah) (oh-oh-oh, oh-oh-woah) (oh-oh-oh, oh-oh…",
         "tokens": "['used', 'rule', 'world', 'seas', 'would', 'rise', 'gave', 'word', 'now', 'morning', 'sleep', 'alone', 'sweep', 'streets', 'used', 'own', 'used', 'roll', 'dice', 'feel', 'fear', 'enemy', 'eyes', 'listened', 'crowd', 'would', 'sing', 'now', 'old', 'king', 'dead', 'long', 'live', 'king', 'one', 'minute', 'held', 'key', 'next', 'walls', 'were', 'closed', 'and', 'discovered', 'castles', 'stand', 'upon', 'pillars', 'salt', 'pillars', 'sand', 'hear', 'jerusalem', 'bells', 'ringing', 'roman', 'cavalry', 'choirs', 'singing', 'be', 'mirror', 'sword', 'shield', 'my', 'missionaries', 'foreign', 'field', 'for', 'reason', 'can', 'explain', 'once', 'you', 'gone', 'never', 'never', 'honest', 'word', 'and', 'ruled', 'world', 'it', 'wicked', 'wild', 'wind', 'blew', 'down', 'doors', 'let', 'shattered', 'windows', 'sound', 'drums', 'people', 'couldn', 'believe', 'become', 'revolutionaries', 'wait', 'for', 'head', 'silver', 'plate', 'just', 'puppet', 'lonely', 'string', 'mmm', 'mmm', 'oh', 'would', 'ever…",
         "sp_id": "1mea3bSkSGXuIRvnydlB5b",
         "danceability": 0.486,
         "energy": 0.617,
         "key": 5,
         "loudness": -7.115,
         "speechiness": 0.0287,
         "acousticness": 0.0954,
         "instrumentalness": 0.00000323,
         "liveness": 0.109,
         "valence": 0.417,
         "tempo": 138.015,
         "_deepnote_index_column": 0
        },
        {
         "artist_mb": "Coldplay",
         "song_name": "Hymn for the Weekend ",
         "id": 787,
         "lyrics_nostop": "and said drink me, drink (oh-ah-oh-ah) that we shoot across sky symphony that we shoot across sky pour a... drink me, drink (oh-ah-oh-ah) that we shoot across sky symphony (so high, so high) that we shoot across sky oh, angel sent up above you know make world light up when i down, i hurt you came lift up life drink love's drug oh now i think i must miles up when i river dried up you came rain flood you said drink me, drink when i so thirsty poured symphony now i just can't get enough put wings me, wings when i so heavy poured symphony when i'm low, low, low, low i, oh-i, oh-i got feeling drunk high, so high, so high oh-i, oh-i, oh-i now i’m feeling drunk high, so high, so high (woo) (woo-ooo-ooo-woo) oh, angel sent up above i feel coursing through blood life drink love's about to make stars come out put wings me, wings when i so heavy poured symphony when i'm low, low, low, low i, oh-i, oh-i got feeling drunk high, so high, so high oh-i, oh-i, oh-i i’m feeling drunk high, so high, so …",
         "tokens": "['and', 'said', 'drink', 'me', 'drink', 'oh', 'ah', 'oh', 'ah', 'that', 'we', 'shoot', 'across', 'sky', 'symphony', 'that', 'we', 'shoot', 'across', 'sky', 'pour', 'drink', 'me', 'drink', 'oh', 'ah', 'oh', 'ah', 'that', 'we', 'shoot', 'across', 'sky', 'symphony', 'so', 'high', 'so', 'high', 'that', 'we', 'shoot', 'across', 'sky', 'oh', 'angel', 'sent', 'up', 'above', 'you', 'know', 'make', 'world', 'light', 'up', 'when', 'down', 'hurt', 'you', 'came', 'lift', 'up', 'life', 'drink', 'love', 'drug', 'oh', 'now', 'think', 'must', 'miles', 'up', 'when', 'river', 'dried', 'up', 'you', 'came', 'rain', 'flood', 'you', 'said', 'drink', 'me', 'drink', 'when', 'so', 'thirsty', 'poured', 'symphony', 'now', 'just', 'can', 'get', 'enough', 'put', 'wings', 'me', 'wings', 'when', 'so', 'heavy', 'poured', 'symphony', 'when', 'low', 'low', 'low', 'low', 'oh', 'oh', 'got', 'feeling', 'drunk', 'high', 'so', 'high', 'so', 'high', 'oh', 'oh', 'oh', 'now', 'feeling', 'drunk', 'high', 'so', 'high', 'so', 'h…",
         "sp_id": "3RiPr603aXAoi4GHyXx0uy",
         "danceability": 0.491,
         "energy": 0.693,
         "key": 0,
         "loudness": -6.487,
         "speechiness": 0.0377,
         "acousticness": 0.211,
         "instrumentalness": 0.00000692,
         "liveness": 0.325,
         "valence": 0.412,
         "tempo": 90.027,
         "_deepnote_index_column": 1
        },
        {
         "artist_mb": "Coldplay",
         "song_name": "The Scientist ",
         "id": 1075,
         "lyrics_nostop": "come up meet you, tell i'm sorry you don't know lovely i had find you, tell i need tell i set apart tell secrets, ask questions oh, let's go back start running circles, coming up tails heads science apart nobody said easy it's such shame part nobody said easy no one ever said would hard oh, take back start i just guessing numbers figures pulling puzzles apart questions science, science progress do not speak loud heart tell love me, come back haunt oh, i rush start running circles, chasing tails coming back we nobody said easy oh, it's such shame part nobody said easy no one ever said would so hard i'm going back start oh-ooh ooh-ooh-ooh-ooh ah-ooh ooh-ooh-ooh-ooh oh-ooh ooh-ooh-ooh-ooh oh-ooh ooh-ooh-ooh-ooh216embed",
         "tokens": "['come', 'up', 'meet', 'you', 'tell', 'sorry', 'you', 'don', 'know', 'lovely', 'had', 'find', 'you', 'tell', 'need', 'tell', 'set', 'apart', 'tell', 'secrets', 'ask', 'questions', 'oh', 'let', 'go', 'back', 'start', 'running', 'circles', 'coming', 'up', 'tails', 'heads', 'science', 'apart', 'nobody', 'said', 'easy', 'it', 'such', 'shame', 'part', 'nobody', 'said', 'easy', 'no', 'one', 'ever', 'said', 'would', 'hard', 'oh', 'take', 'back', 'start', 'just', 'guessing', 'numbers', 'figures', 'pulling', 'puzzles', 'apart', 'questions', 'science', 'science', 'progress', 'do', 'not', 'speak', 'loud', 'heart', 'tell', 'love', 'me', 'come', 'back', 'haunt', 'oh', 'rush', 'start', 'running', 'circles', 'chasing', 'tails', 'coming', 'back', 'we', 'nobody', 'said', 'easy', 'oh', 'it', 'such', 'shame', 'part', 'nobody', 'said', 'easy', 'no', 'one', 'ever', 'said', 'would', 'so', 'hard', 'going', 'back', 'start', 'oh', 'ooh', 'ooh', 'ooh', 'ooh', 'ooh', 'ah', 'ooh', 'ooh', 'ooh', 'ooh', 'ooh', 'oh…",
         "sp_id": "75JFxkI2RXiU7L9VXzMkle",
         "danceability": 0.557,
         "energy": 0.442,
         "key": 5,
         "loudness": -7.224,
         "speechiness": 0.0243,
         "acousticness": 0.731,
         "instrumentalness": 0.0000146,
         "liveness": 0.11,
         "valence": 0.213,
         "tempo": 146.277,
         "_deepnote_index_column": 2
        },
        {
         "artist_mb": "Coldplay",
         "song_name": "Yellow ",
         "id": 2120,
         "lyrics_nostop": "look stars, look shine and everything do yeah, were yellow i came along, i wrote song and things do and called \"yellow\" so then i took turn oh, thing done and yellow (aah) your skin, oh, yeah, skin bones (ooh) turn into something beautiful (aah) you know, know i love so you know i love so i swam across, i jumped across oh, thing do 'cause were yellow i drew line, i drew line oh, thing do and yellow (aah) your skin, oh, yeah, skin bones (ooh) turn into something beautiful (aah) and know, you, i'd bleed myself dry for you, i'd bleed myself dry it's true, look shine look shine look shine look shine look shine look shine look stars look shine and things do160embed",
         "tokens": "['look', 'stars', 'look', 'shine', 'and', 'everything', 'do', 'yeah', 'were', 'yellow', 'came', 'along', 'wrote', 'song', 'and', 'things', 'do', 'and', 'called', 'yellow', 'so', 'then', 'took', 'turn', 'oh', 'thing', 'done', 'and', 'yellow', 'aah', 'your', 'skin', 'oh', 'yeah', 'skin', 'bones', 'ooh', 'turn', 'into', 'something', 'beautiful', 'aah', 'you', 'know', 'know', 'love', 'so', 'you', 'know', 'love', 'so', 'swam', 'across', 'jumped', 'across', 'oh', 'thing', 'do', 'cause', 'were', 'yellow', 'drew', 'line', 'drew', 'line', 'oh', 'thing', 'do', 'and', 'yellow', 'aah', 'your', 'skin', 'oh', 'yeah', 'skin', 'bones', 'ooh', 'turn', 'into', 'something', 'beautiful', 'aah', 'and', 'know', 'you', 'bleed', 'myself', 'dry', 'for', 'you', 'bleed', 'myself', 'dry', 'it', 'true', 'look', 'shine', 'look', 'shine', 'look', 'shine', 'look', 'shine', 'look', 'shine', 'look', 'shine', 'look', 'stars', 'look', 'shine', 'and', 'things', 'do160embed']",
         "sp_id": "3AJwUDP919kvQ9QcozQPxg",
         "danceability": 0.429,
         "energy": 0.661,
         "key": 11,
         "loudness": -7.227,
         "speechiness": 0.0281,
         "acousticness": 0.00239,
         "instrumentalness": 0.000121,
         "liveness": 0.234,
         "valence": 0.285,
         "tempo": 173.372,
         "_deepnote_index_column": 3
        },
        {
         "artist_mb": "Coldplay",
         "song_name": "Fix You ",
         "id": 2169,
         "lyrics_nostop": "when try best, don't succeed when get want, not need when feel so tired, can't sleep stuck reverse and tears come streaming down face when lose something can't replace when love someone, goes waste could worse? lights guide home and ignite bones and i try fix and high up above down below when you're too love let go but if never try, you'll never know just you're worth lights guide home and ignite bones and i try fix tears stream down face when lose something cannot replace tears stream down face, i tears stream down face i promise i learn mistakes tears stream down face, i lights guide home and ignite bones and i try fix you147embed",
         "tokens": "['when', 'try', 'best', 'don', 'succeed', 'when', 'get', 'want', 'not', 'need', 'when', 'feel', 'so', 'tired', 'can', 'sleep', 'stuck', 'reverse', 'and', 'tears', 'come', 'streaming', 'down', 'face', 'when', 'lose', 'something', 'can', 'replace', 'when', 'love', 'someone', 'goes', 'waste', 'could', 'worse', 'lights', 'guide', 'home', 'and', 'ignite', 'bones', 'and', 'try', 'fix', 'and', 'high', 'up', 'above', 'down', 'below', 'when', 'you', 're', 'too', 'love', 'let', 'go', 'but', 'if', 'never', 'try', 'you', 'll', 'never', 'know', 'just', 'you', 're', 'worth', 'lights', 'guide', 'home', 'and', 'ignite', 'bones', 'and', 'try', 'fix', 'tears', 'stream', 'down', 'face', 'when', 'lose', 'something', 'cannot', 'replace', 'tears', 'stream', 'down', 'face', 'tears', 'stream', 'down', 'face', 'promise', 'learn', 'mistakes', 'tears', 'stream', 'down', 'face', 'lights', 'guide', 'home', 'and', 'ignite', 'bones', 'and', 'try', 'fix', 'you147embed']",
         "sp_id": "7LVHVU3tWfcxj5aiPFEW4Q",
         "danceability": 0.209,
         "energy": 0.417,
         "key": 3,
         "loudness": -8.74,
         "speechiness": 0.0338,
         "acousticness": 0.164,
         "instrumentalness": 0.00196,
         "liveness": 0.113,
         "valence": 0.124,
         "tempo": 138.178,
         "_deepnote_index_column": 4
        }
       ]
      },
      "text/plain": "  artist_mb              song_name    id  \\\n0  Coldplay          Viva la Vida    399   \n1  Coldplay  Hymn for the Weekend    787   \n2  Coldplay         The Scientist   1075   \n3  Coldplay                Yellow   2120   \n4  Coldplay               Fix You   2169   \n\n                                       lyrics_nostop  \\\n0  i used rule world seas would rise i gave word ...   \n1  and said drink me, drink (oh-ah-oh-ah) that we...   \n2  come up meet you, tell i'm sorry you don't kno...   \n3  look stars, look shine and everything do yeah,...   \n4  when try best, don't succeed when get want, no...   \n\n                                              tokens                   sp_id  \\\n0  ['used', 'rule', 'world', 'seas', 'would', 'ri...  1mea3bSkSGXuIRvnydlB5b   \n1  ['and', 'said', 'drink', 'me', 'drink', 'oh', ...  3RiPr603aXAoi4GHyXx0uy   \n2  ['come', 'up', 'meet', 'you', 'tell', 'sorry',...  75JFxkI2RXiU7L9VXzMkle   \n3  ['look', 'stars', 'look', 'shine', 'and', 'eve...  3AJwUDP919kvQ9QcozQPxg   \n4  ['when', 'try', 'best', 'don', 'succeed', 'whe...  7LVHVU3tWfcxj5aiPFEW4Q   \n\n   danceability  energy   key  loudness  speechiness  acousticness  \\\n0         0.486   0.617   5.0    -7.115       0.0287       0.09540   \n1         0.491   0.693   0.0    -6.487       0.0377       0.21100   \n2         0.557   0.442   5.0    -7.224       0.0243       0.73100   \n3         0.429   0.661  11.0    -7.227       0.0281       0.00239   \n4         0.209   0.417   3.0    -8.740       0.0338       0.16400   \n\n   instrumentalness  liveness  valence    tempo  \n0          0.000003     0.109    0.417  138.015  \n1          0.000007     0.325    0.412   90.027  \n2          0.000015     0.110    0.213  146.277  \n3          0.000121     0.234    0.285  173.372  \n4          0.001960     0.113    0.124  138.178  ",
      "text/html": "<div>\n<style scoped>\n    .dataframe tbody tr th:only-of-type {\n        vertical-align: middle;\n    }\n\n    .dataframe tbody tr th {\n        vertical-align: top;\n    }\n\n    .dataframe thead th {\n        text-align: right;\n    }\n</style>\n<table border=\"1\" class=\"dataframe\">\n  <thead>\n    <tr style=\"text-align: right;\">\n      <th></th>\n      <th>artist_mb</th>\n      <th>song_name</th>\n      <th>id</th>\n      <th>lyrics_nostop</th>\n      <th>tokens</th>\n      <th>sp_id</th>\n      <th>danceability</th>\n      <th>energy</th>\n      <th>key</th>\n      <th>loudness</th>\n      <th>speechiness</th>\n      <th>acousticness</th>\n      <th>instrumentalness</th>\n      <th>liveness</th>\n      <th>valence</th>\n      <th>tempo</th>\n    </tr>\n  </thead>\n  <tbody>\n    <tr>\n      <th>0</th>\n      <td>Coldplay</td>\n      <td>Viva la Vida</td>\n      <td>399</td>\n      <td>i used rule world seas would rise i gave word ...</td>\n      <td>['used', 'rule', 'world', 'seas', 'would', 'ri...</td>\n      <td>1mea3bSkSGXuIRvnydlB5b</td>\n      <td>0.486</td>\n      <td>0.617</td>\n      <td>5.0</td>\n      <td>-7.115</td>\n      <td>0.0287</td>\n      <td>0.09540</td>\n      <td>0.000003</td>\n      <td>0.109</td>\n      <td>0.417</td>\n      <td>138.015</td>\n    </tr>\n    <tr>\n      <th>1</th>\n      <td>Coldplay</td>\n      <td>Hymn for the Weekend</td>\n      <td>787</td>\n      <td>and said drink me, drink (oh-ah-oh-ah) that we...</td>\n      <td>['and', 'said', 'drink', 'me', 'drink', 'oh', ...</td>\n      <td>3RiPr603aXAoi4GHyXx0uy</td>\n      <td>0.491</td>\n      <td>0.693</td>\n      <td>0.0</td>\n      <td>-6.487</td>\n      <td>0.0377</td>\n      <td>0.21100</td>\n      <td>0.000007</td>\n      <td>0.325</td>\n      <td>0.412</td>\n      <td>90.027</td>\n    </tr>\n    <tr>\n      <th>2</th>\n      <td>Coldplay</td>\n      <td>The Scientist</td>\n      <td>1075</td>\n      <td>come up meet you, tell i'm sorry you don't kno...</td>\n      <td>['come', 'up', 'meet', 'you', 'tell', 'sorry',...</td>\n      <td>75JFxkI2RXiU7L9VXzMkle</td>\n      <td>0.557</td>\n      <td>0.442</td>\n      <td>5.0</td>\n      <td>-7.224</td>\n      <td>0.0243</td>\n      <td>0.73100</td>\n      <td>0.000015</td>\n      <td>0.110</td>\n      <td>0.213</td>\n      <td>146.277</td>\n    </tr>\n    <tr>\n      <th>3</th>\n      <td>Coldplay</td>\n      <td>Yellow</td>\n      <td>2120</td>\n      <td>look stars, look shine and everything do yeah,...</td>\n      <td>['look', 'stars', 'look', 'shine', 'and', 'eve...</td>\n      <td>3AJwUDP919kvQ9QcozQPxg</td>\n      <td>0.429</td>\n      <td>0.661</td>\n      <td>11.0</td>\n      <td>-7.227</td>\n      <td>0.0281</td>\n      <td>0.00239</td>\n      <td>0.000121</td>\n      <td>0.234</td>\n      <td>0.285</td>\n      <td>173.372</td>\n    </tr>\n    <tr>\n      <th>4</th>\n      <td>Coldplay</td>\n      <td>Fix You</td>\n      <td>2169</td>\n      <td>when try best, don't succeed when get want, no...</td>\n      <td>['when', 'try', 'best', 'don', 'succeed', 'whe...</td>\n      <td>7LVHVU3tWfcxj5aiPFEW4Q</td>\n      <td>0.209</td>\n      <td>0.417</td>\n      <td>3.0</td>\n      <td>-8.740</td>\n      <td>0.0338</td>\n      <td>0.16400</td>\n      <td>0.001960</td>\n      <td>0.113</td>\n      <td>0.124</td>\n      <td>138.178</td>\n    </tr>\n  </tbody>\n</table>\n</div>"
     },
     "metadata": {}
    }
   ]
  },
  {
   "cell_type": "code",
   "metadata": {
    "cell_id": "61e3124817eb43ef885494c0761d4daa",
    "tags": [],
    "deepnote_to_be_reexecuted": false,
    "source_hash": "c958ccd6",
    "execution_start": 1655837300096,
    "execution_millis": 692,
    "deepnote_cell_type": "code",
    "deepnote_cell_height": 425.1875,
    "deepnote_output_heights": [
     328.1875
    ]
   },
   "source": "track_info.isna().sum()",
   "execution_count": 32,
   "outputs": [
    {
     "output_type": "execute_result",
     "execution_count": 32,
     "data": {
      "text/plain": "artist_mb           0\nsong_name           0\nid                  0\nlyrics_nostop       0\ntokens              0\nsp_id               0\ndanceability        0\nenergy              0\nkey                 0\nloudness            0\nspeechiness         0\nacousticness        0\ninstrumentalness    0\nliveness            0\nvalence             0\ntempo               0\ndtype: int64"
     },
     "metadata": {}
    }
   ]
  },
  {
   "cell_type": "markdown",
   "source": "Now we have a lot of information on the song to work with!",
   "metadata": {
    "formattedRanges": [],
    "cell_id": "3631e4cf0c4d4eb7834d24a1af5eff07",
    "tags": [],
    "is_collapsed": false,
    "deepnote_cell_type": "text-cell-p"
   }
  },
  {
   "cell_type": "markdown",
   "source": "### Jump back to lyrics for a bit",
   "metadata": {
    "formattedRanges": [],
    "cell_id": "667f8cbe03484b6892f5bfc954ad2433",
    "tags": [],
    "is_collapsed": false,
    "deepnote_cell_type": "text-cell-h3"
   }
  },
  {
   "cell_type": "markdown",
   "source": "We can modify a function from above to actually generate a list of spotify song ids, and then we can easily make an actual playlist!",
   "metadata": {
    "formattedRanges": [],
    "cell_id": "30ba859d889a46f2ad31f7bc06cd7eb0",
    "tags": [],
    "is_collapsed": false,
    "deepnote_cell_type": "text-cell-p"
   }
  },
  {
   "cell_type": "code",
   "metadata": {
    "cell_id": "1734d6fd7a6c449f8a9ca1fd059120a7",
    "tags": [],
    "deepnote_to_be_reexecuted": false,
    "source_hash": "b1c667f0",
    "execution_start": 1655837300107,
    "execution_millis": 2,
    "deepnote_cell_type": "code",
    "deepnote_cell_height": 315
   },
   "source": "def get_songs_from_lyrics(query, df, amnt):\n    query = query.lower()\n    q_ser = pd.Series([query])\n    l_ser = pd.Series(df['lyrics_nostop'])\n\n    q_lyrics = q_ser.append(l_ser)\n\n    # the linear kernel is the dot product\n    tf_idf = TfidfVectorizer().fit_transform(q_lyrics)\n    # the query is the first item in the series, so compare it to the other items\n    cosine_sim = cosine_similarity(tf_idf[0:1], tf_idf[1:]).flatten()\n    top_songs_indices = cosine_sim.argsort()[:-amnt:-1]\n\n    return list(df.iloc[top_songs_indices][\"sp_id\"])",
   "execution_count": 33,
   "outputs": []
  },
  {
   "cell_type": "code",
   "metadata": {
    "cell_id": "dbae91658a0a4ae98cd518524c56585b",
    "tags": [],
    "deepnote_to_be_reexecuted": false,
    "source_hash": "14fd8307",
    "execution_start": 1655837300155,
    "execution_millis": 639,
    "deepnote_cell_type": "code",
    "deepnote_cell_height": 134.1875
   },
   "source": "songs = get_songs_from_lyrics(\"Happy Fun Time YAY\", track_info, 15)\nprint(songs)",
   "execution_count": 34,
   "outputs": [
    {
     "name": "stdout",
     "text": "['2jZgzSxNSg1hTCq0ewWHGJ', '5XrfFo0JFOnWD9ZMNXGkQh', '4y1LsJpmMti1PfRQV9AWWe', '3by8IfnW9dZ2t4pZw1WVxz', '60nZcImufyMA1MKQY3dcCH', '3ZpQiJ78LKINrW9SQTgbXd', '5X8kkUaUlAyAUr9TYqDFTH', '60Ih7J2Q1o9shvMC2OAALu', '6kex4EBAj0WHXDKZMEJaaF', '6aPFJ2b6iApBxXHNFzzYAB', '26uDUal1TkjwwOaQQt1Uwy', '7o9uu2GDtVDr9nsR7ZRN73', '1IsGA5ceSC4a5nxgAEYnQd', '7jKsYUxH1F0WWV7nPSReRb']\n",
     "output_type": "stream"
    }
   ]
  },
  {
   "cell_type": "code",
   "metadata": {
    "cell_id": "32b3b49e652c4e3a8878a51a32e0b9f8",
    "tags": [],
    "deepnote_to_be_reexecuted": false,
    "source_hash": "9568c48c",
    "execution_start": 1655837300607,
    "execution_millis": 3,
    "deepnote_cell_type": "code",
    "deepnote_cell_height": 81
   },
   "source": "spa = initialize_auth(cid, secret)",
   "execution_count": 35,
   "outputs": []
  },
  {
   "cell_type": "code",
   "source": "u_id = '6046owg3hsttaxfq2ot19rrea'",
   "metadata": {
    "cell_id": "082ecd046e884b9b9f4dfaf8b2470e73",
    "tags": [],
    "deepnote_to_be_reexecuted": false,
    "source_hash": "38f86dcd",
    "execution_start": 1655837300617,
    "execution_millis": 439149,
    "deepnote_cell_type": "code",
    "deepnote_cell_height": 81
   },
   "outputs": [],
   "execution_count": 36
  },
  {
   "cell_type": "markdown",
   "source": "This is giving me tooo many problems at the moment so we will come back to it...maybe",
   "metadata": {
    "cell_id": "f1ce42a2eba64674a7b9081c92b3f5b1",
    "tags": [],
    "is_collapsed": false,
    "formattedRanges": [],
    "deepnote_cell_type": "text-cell-p"
   }
  },
  {
   "cell_type": "code",
   "source": "\n# name = \"Happy Fun Times\"\n# playlist, playlist_url = make_playlist(spa, u_id, name, songs)",
   "metadata": {
    "cell_id": "0c122d45d43f4d5ea456dc39b4a36176",
    "tags": [],
    "deepnote_to_be_reexecuted": false,
    "source_hash": "939f1531",
    "execution_start": 1655837300625,
    "execution_millis": 439154,
    "deepnote_cell_type": "code",
    "deepnote_cell_height": 117
   },
   "outputs": [],
   "execution_count": 37
  },
  {
   "cell_type": "markdown",
   "source": "## Find songs based on audio features",
   "metadata": {
    "formattedRanges": [],
    "cell_id": "6d124e0bd8e24e45ad5738e3d075fd6b",
    "tags": [],
    "is_collapsed": false,
    "deepnote_cell_type": "text-cell-h2"
   }
  },
  {
   "cell_type": "code",
   "source": "track_info.head()",
   "metadata": {
    "cell_id": "31ea42d76f6f4fb588f9123556901968",
    "tags": [],
    "deepnote_to_be_reexecuted": false,
    "source_hash": "3f014b94",
    "execution_start": 1655837300639,
    "execution_millis": 163,
    "deepnote_cell_type": "code",
    "deepnote_cell_height": 412
   },
   "outputs": [
    {
     "output_type": "execute_result",
     "execution_count": 38,
     "data": {
      "application/vnd.deepnote.dataframe.v3+json": {
       "column_count": 16,
       "row_count": 5,
       "columns": [
        {
         "name": "artist_mb",
         "dtype": "object",
         "stats": {
          "unique_count": 1,
          "nan_count": 0,
          "categories": [
           {
            "name": "Coldplay",
            "count": 5
           }
          ]
         }
        },
        {
         "name": "song_name",
         "dtype": "object",
         "stats": {
          "unique_count": 5,
          "nan_count": 0,
          "categories": [
           {
            "name": "Viva la Vida ",
            "count": 1
           },
           {
            "name": "Hymn for the Weekend ",
            "count": 1
           },
           {
            "name": "3 others",
            "count": 3
           }
          ]
         }
        },
        {
         "name": "id",
         "dtype": "int64",
         "stats": {
          "unique_count": 5,
          "nan_count": 0,
          "min": "399",
          "max": "2169",
          "histogram": [
           {
            "bin_start": 399,
            "bin_end": 576,
            "count": 1
           },
           {
            "bin_start": 576,
            "bin_end": 753,
            "count": 0
           },
           {
            "bin_start": 753,
            "bin_end": 930,
            "count": 1
           },
           {
            "bin_start": 930,
            "bin_end": 1107,
            "count": 1
           },
           {
            "bin_start": 1107,
            "bin_end": 1284,
            "count": 0
           },
           {
            "bin_start": 1284,
            "bin_end": 1461,
            "count": 0
           },
           {
            "bin_start": 1461,
            "bin_end": 1638,
            "count": 0
           },
           {
            "bin_start": 1638,
            "bin_end": 1815,
            "count": 0
           },
           {
            "bin_start": 1815,
            "bin_end": 1992,
            "count": 0
           },
           {
            "bin_start": 1992,
            "bin_end": 2169,
            "count": 2
           }
          ]
         }
        },
        {
         "name": "lyrics_nostop",
         "dtype": "object",
         "stats": {
          "unique_count": 5,
          "nan_count": 0,
          "categories": [
           {
            "name": "i used rule world seas would rise i gave word now morning, i sleep alone sweep streets i used own i used roll dice feel fear enemy's eyes listened crowd would sing \"now old king dead, long live king\" one minute i held key next, walls were closed and i discovered castles stand upon pillars salt pillars sand i hear jerusalem bells a-ringing roman cavalry choirs singing be mirror, sword shield my missionaries foreign field for reason, i can't explain once you'd gone, never never honest word and i ruled world it wicked wild wind blew down doors let shattered windows sound drums people couldn't believe i'd become revolutionaries wait for head silver plate just puppet lonely string (mmm, mmm) oh, would ever want king? i hear jerusalem bells a-ringing roman cavalry choirs singing be mirror, sword shield my missionaries foreign field for reason, i can't explain i know saint peter won't call name never honest word but i ruled world (oh-oh-oh, oh-oh-woah) (oh-oh-oh, oh-oh-woah) (oh-oh-oh, oh-oh-woah) (oh-oh-oh, oh-oh-woah) (oh-oh-oh, oh-oh-woah) hear jerusalem bells a-ringing (oh-oh-oh, oh-oh-woah) roman cavalry choirs singing (oh-oh-oh, oh-oh-woah) be mirror, sword shield (oh-oh-oh, oh-oh-woah) my missionaries foreign field (oh-oh-oh, oh-oh-woah) for reason, i can't explain (oh-oh-oh, oh-oh-woah) i know saint peter won't call name never honest word but i ruled world mmm, mmm, mmm, mmm mmm, mmm, mmm, mmm mmm, mmm227embed",
            "count": 1
           },
           {
            "name": "and said drink me, drink (oh-ah-oh-ah) that we shoot across sky symphony that we shoot across sky pour a... drink me, drink (oh-ah-oh-ah) that we shoot across sky symphony (so high, so high) that we shoot across sky oh, angel sent up above you know make world light up when i down, i hurt you came lift up life drink love's drug oh now i think i must miles up when i river dried up you came rain flood you said drink me, drink when i so thirsty poured symphony now i just can't get enough put wings me, wings when i so heavy poured symphony when i'm low, low, low, low i, oh-i, oh-i got feeling drunk high, so high, so high oh-i, oh-i, oh-i now i’m feeling drunk high, so high, so high (woo) (woo-ooo-ooo-woo) oh, angel sent up above i feel coursing through blood life drink love's about to make stars come out put wings me, wings when i so heavy poured symphony when i'm low, low, low, low i, oh-i, oh-i got feeling drunk high, so high, so high oh-i, oh-i, oh-i i’m feeling drunk high, so high, so high i, oh-i, oh-i la, la, la, la, la, la, la, so high, so high i, oh-i, oh-i now i'm feeling drunk high, so high, so high that i shoot across sky that i shoot across the... that i shoot across sky let shoot across the... (let shoot) let shoot across sky let shoot across the... let shoot across sky that we shoot across the...64embed",
            "count": 1
           },
           {
            "name": "3 others",
            "count": 3
           }
          ]
         }
        },
        {
         "name": "tokens",
         "dtype": "object",
         "stats": {
          "unique_count": 5,
          "nan_count": 0,
          "categories": [
           {
            "name": "['used', 'rule', 'world', 'seas', 'would', 'rise', 'gave', 'word', 'now', 'morning', 'sleep', 'alone', 'sweep', 'streets', 'used', 'own', 'used', 'roll', 'dice', 'feel', 'fear', 'enemy', 'eyes', 'listened', 'crowd', 'would', 'sing', 'now', 'old', 'king', 'dead', 'long', 'live', 'king', 'one', 'minute', 'held', 'key', 'next', 'walls', 'were', 'closed', 'and', 'discovered', 'castles', 'stand', 'upon', 'pillars', 'salt', 'pillars', 'sand', 'hear', 'jerusalem', 'bells', 'ringing', 'roman', 'cavalry', 'choirs', 'singing', 'be', 'mirror', 'sword', 'shield', 'my', 'missionaries', 'foreign', 'field', 'for', 'reason', 'can', 'explain', 'once', 'you', 'gone', 'never', 'never', 'honest', 'word', 'and', 'ruled', 'world', 'it', 'wicked', 'wild', 'wind', 'blew', 'down', 'doors', 'let', 'shattered', 'windows', 'sound', 'drums', 'people', 'couldn', 'believe', 'become', 'revolutionaries', 'wait', 'for', 'head', 'silver', 'plate', 'just', 'puppet', 'lonely', 'string', 'mmm', 'mmm', 'oh', 'would', 'ever', 'want', 'king', 'hear', 'jerusalem', 'bells', 'ringing', 'roman', 'cavalry', 'choirs', 'singing', 'be', 'mirror', 'sword', 'shield', 'my', 'missionaries', 'foreign', 'field', 'for', 'reason', 'can', 'explain', 'know', 'saint', 'peter', 'won', 'call', 'name', 'never', 'honest', 'word', 'but', 'ruled', 'world', 'oh', 'oh', 'oh', 'oh', 'oh', 'woah', 'oh', 'oh', 'oh', 'oh', 'oh', 'woah', 'oh', 'oh', 'oh', 'oh', 'oh', 'woah', 'oh', 'oh', 'oh', 'oh', 'oh', 'woah', 'oh', 'oh', 'oh', 'oh', 'oh', 'woah', 'hear', 'jerusalem', 'bells', 'ringing', 'oh', 'oh', 'oh', 'oh', 'oh', 'woah', 'roman', 'cavalry', 'choirs', 'singing', 'oh', 'oh', 'oh', 'oh', 'oh', 'woah', 'be', 'mirror', 'sword', 'shield', 'oh', 'oh', 'oh', 'oh', 'oh', 'woah', 'my', 'missionaries', 'foreign', 'field', 'oh', 'oh', 'oh', 'oh', 'oh', 'woah', 'for', 'reason', 'can', 'explain', 'oh', 'oh', 'oh', 'oh', 'oh', 'woah', 'know', 'saint', 'peter', 'won', 'call', 'name', 'never', 'honest', 'word', 'but', 'ruled', 'world', 'mmm', 'mmm', 'mmm', 'mmm', 'mmm', 'mmm', 'mmm', 'mmm', 'mmm', 'mmm227embed']",
            "count": 1
           },
           {
            "name": "['and', 'said', 'drink', 'me', 'drink', 'oh', 'ah', 'oh', 'ah', 'that', 'we', 'shoot', 'across', 'sky', 'symphony', 'that', 'we', 'shoot', 'across', 'sky', 'pour', 'drink', 'me', 'drink', 'oh', 'ah', 'oh', 'ah', 'that', 'we', 'shoot', 'across', 'sky', 'symphony', 'so', 'high', 'so', 'high', 'that', 'we', 'shoot', 'across', 'sky', 'oh', 'angel', 'sent', 'up', 'above', 'you', 'know', 'make', 'world', 'light', 'up', 'when', 'down', 'hurt', 'you', 'came', 'lift', 'up', 'life', 'drink', 'love', 'drug', 'oh', 'now', 'think', 'must', 'miles', 'up', 'when', 'river', 'dried', 'up', 'you', 'came', 'rain', 'flood', 'you', 'said', 'drink', 'me', 'drink', 'when', 'so', 'thirsty', 'poured', 'symphony', 'now', 'just', 'can', 'get', 'enough', 'put', 'wings', 'me', 'wings', 'when', 'so', 'heavy', 'poured', 'symphony', 'when', 'low', 'low', 'low', 'low', 'oh', 'oh', 'got', 'feeling', 'drunk', 'high', 'so', 'high', 'so', 'high', 'oh', 'oh', 'oh', 'now', 'feeling', 'drunk', 'high', 'so', 'high', 'so', 'high', 'woo', 'woo', 'ooo', 'ooo', 'woo', 'oh', 'angel', 'sent', 'up', 'above', 'feel', 'coursing', 'through', 'blood', 'life', 'drink', 'love', 'about', 'to', 'make', 'stars', 'come', 'out', 'put', 'wings', 'me', 'wings', 'when', 'so', 'heavy', 'poured', 'symphony', 'when', 'low', 'low', 'low', 'low', 'oh', 'oh', 'got', 'feeling', 'drunk', 'high', 'so', 'high', 'so', 'high', 'oh', 'oh', 'oh', 'feeling', 'drunk', 'high', 'so', 'high', 'so', 'high', 'oh', 'oh', 'la', 'la', 'la', 'la', 'la', 'la', 'la', 'so', 'high', 'so', 'high', 'oh', 'oh', 'now', 'feeling', 'drunk', 'high', 'so', 'high', 'so', 'high', 'that', 'shoot', 'across', 'sky', 'that', 'shoot', 'across', 'the', 'that', 'shoot', 'across', 'sky', 'let', 'shoot', 'across', 'the', 'let', 'shoot', 'let', 'shoot', 'across', 'sky', 'let', 'shoot', 'across', 'the', 'let', 'shoot', 'across', 'sky', 'that', 'we', 'shoot', 'across', 'the', '64embed']",
            "count": 1
           },
           {
            "name": "3 others",
            "count": 3
           }
          ]
         }
        },
        {
         "name": "sp_id",
         "dtype": "object",
         "stats": {
          "unique_count": 5,
          "nan_count": 0,
          "categories": [
           {
            "name": "1mea3bSkSGXuIRvnydlB5b",
            "count": 1
           },
           {
            "name": "3RiPr603aXAoi4GHyXx0uy",
            "count": 1
           },
           {
            "name": "3 others",
            "count": 3
           }
          ]
         }
        },
        {
         "name": "danceability",
         "dtype": "float64",
         "stats": {
          "unique_count": 5,
          "nan_count": 0,
          "min": "0.209",
          "max": "0.557",
          "histogram": [
           {
            "bin_start": 0.209,
            "bin_end": 0.24380000000000002,
            "count": 1
           },
           {
            "bin_start": 0.24380000000000002,
            "bin_end": 0.2786,
            "count": 0
           },
           {
            "bin_start": 0.2786,
            "bin_end": 0.3134,
            "count": 0
           },
           {
            "bin_start": 0.3134,
            "bin_end": 0.34820000000000007,
            "count": 0
           },
           {
            "bin_start": 0.34820000000000007,
            "bin_end": 0.383,
            "count": 0
           },
           {
            "bin_start": 0.383,
            "bin_end": 0.41780000000000006,
            "count": 0
           },
           {
            "bin_start": 0.41780000000000006,
            "bin_end": 0.4526000000000001,
            "count": 1
           },
           {
            "bin_start": 0.4526000000000001,
            "bin_end": 0.48740000000000006,
            "count": 1
           },
           {
            "bin_start": 0.48740000000000006,
            "bin_end": 0.5222000000000001,
            "count": 1
           },
           {
            "bin_start": 0.5222000000000001,
            "bin_end": 0.557,
            "count": 1
           }
          ]
         }
        },
        {
         "name": "energy",
         "dtype": "float64",
         "stats": {
          "unique_count": 5,
          "nan_count": 0,
          "min": "0.417",
          "max": "0.693",
          "histogram": [
           {
            "bin_start": 0.417,
            "bin_end": 0.4446,
            "count": 2
           },
           {
            "bin_start": 0.4446,
            "bin_end": 0.47219999999999995,
            "count": 0
           },
           {
            "bin_start": 0.47219999999999995,
            "bin_end": 0.49979999999999997,
            "count": 0
           },
           {
            "bin_start": 0.49979999999999997,
            "bin_end": 0.5274,
            "count": 0
           },
           {
            "bin_start": 0.5274,
            "bin_end": 0.5549999999999999,
            "count": 0
           },
           {
            "bin_start": 0.5549999999999999,
            "bin_end": 0.5826,
            "count": 0
           },
           {
            "bin_start": 0.5826,
            "bin_end": 0.6102,
            "count": 0
           },
           {
            "bin_start": 0.6102,
            "bin_end": 0.6377999999999999,
            "count": 1
           },
           {
            "bin_start": 0.6377999999999999,
            "bin_end": 0.6654,
            "count": 1
           },
           {
            "bin_start": 0.6654,
            "bin_end": 0.693,
            "count": 1
           }
          ]
         }
        },
        {
         "name": "key",
         "dtype": "float64",
         "stats": {
          "unique_count": 4,
          "nan_count": 0,
          "min": "0.0",
          "max": "11.0",
          "histogram": [
           {
            "bin_start": 0,
            "bin_end": 1.1,
            "count": 1
           },
           {
            "bin_start": 1.1,
            "bin_end": 2.2,
            "count": 0
           },
           {
            "bin_start": 2.2,
            "bin_end": 3.3000000000000003,
            "count": 1
           },
           {
            "bin_start": 3.3000000000000003,
            "bin_end": 4.4,
            "count": 0
           },
           {
            "bin_start": 4.4,
            "bin_end": 5.5,
            "count": 2
           },
           {
            "bin_start": 5.5,
            "bin_end": 6.6000000000000005,
            "count": 0
           },
           {
            "bin_start": 6.6000000000000005,
            "bin_end": 7.700000000000001,
            "count": 0
           },
           {
            "bin_start": 7.700000000000001,
            "bin_end": 8.8,
            "count": 0
           },
           {
            "bin_start": 8.8,
            "bin_end": 9.9,
            "count": 0
           },
           {
            "bin_start": 9.9,
            "bin_end": 11,
            "count": 1
           }
          ]
         }
        },
        {
         "name": "loudness",
         "dtype": "float64",
         "stats": {
          "unique_count": 5,
          "nan_count": 0,
          "min": "-8.74",
          "max": "-6.487",
          "histogram": [
           {
            "bin_start": -8.74,
            "bin_end": -8.5147,
            "count": 1
           },
           {
            "bin_start": -8.5147,
            "bin_end": -8.2894,
            "count": 0
           },
           {
            "bin_start": -8.2894,
            "bin_end": -8.0641,
            "count": 0
           },
           {
            "bin_start": -8.0641,
            "bin_end": -7.8388,
            "count": 0
           },
           {
            "bin_start": -7.8388,
            "bin_end": -7.6135,
            "count": 0
           },
           {
            "bin_start": -7.6135,
            "bin_end": -7.3882,
            "count": 0
           },
           {
            "bin_start": -7.3882,
            "bin_end": -7.1629000000000005,
            "count": 2
           },
           {
            "bin_start": -7.1629000000000005,
            "bin_end": -6.9376,
            "count": 1
           },
           {
            "bin_start": -6.9376,
            "bin_end": -6.712300000000001,
            "count": 0
           },
           {
            "bin_start": -6.712300000000001,
            "bin_end": -6.487,
            "count": 1
           }
          ]
         }
        },
        {
         "name": "speechiness",
         "dtype": "float64",
         "stats": {
          "unique_count": 5,
          "nan_count": 0,
          "min": "0.0243",
          "max": "0.0377",
          "histogram": [
           {
            "bin_start": 0.0243,
            "bin_end": 0.02564,
            "count": 1
           },
           {
            "bin_start": 0.02564,
            "bin_end": 0.026979999999999997,
            "count": 0
           },
           {
            "bin_start": 0.026979999999999997,
            "bin_end": 0.028319999999999998,
            "count": 1
           },
           {
            "bin_start": 0.028319999999999998,
            "bin_end": 0.02966,
            "count": 1
           },
           {
            "bin_start": 0.02966,
            "bin_end": 0.031,
            "count": 0
           },
           {
            "bin_start": 0.031,
            "bin_end": 0.032339999999999994,
            "count": 0
           },
           {
            "bin_start": 0.032339999999999994,
            "bin_end": 0.03368,
            "count": 0
           },
           {
            "bin_start": 0.03368,
            "bin_end": 0.035019999999999996,
            "count": 1
           },
           {
            "bin_start": 0.035019999999999996,
            "bin_end": 0.036359999999999996,
            "count": 0
           },
           {
            "bin_start": 0.036359999999999996,
            "bin_end": 0.0377,
            "count": 1
           }
          ]
         }
        },
        {
         "name": "acousticness",
         "dtype": "float64",
         "stats": {
          "unique_count": 5,
          "nan_count": 0,
          "min": "0.00239",
          "max": "0.731",
          "histogram": [
           {
            "bin_start": 0.00239,
            "bin_end": 0.075251,
            "count": 1
           },
           {
            "bin_start": 0.075251,
            "bin_end": 0.148112,
            "count": 1
           },
           {
            "bin_start": 0.148112,
            "bin_end": 0.22097299999999997,
            "count": 2
           },
           {
            "bin_start": 0.22097299999999997,
            "bin_end": 0.293834,
            "count": 0
           },
           {
            "bin_start": 0.293834,
            "bin_end": 0.366695,
            "count": 0
           },
           {
            "bin_start": 0.366695,
            "bin_end": 0.43955599999999995,
            "count": 0
           },
           {
            "bin_start": 0.43955599999999995,
            "bin_end": 0.512417,
            "count": 0
           },
           {
            "bin_start": 0.512417,
            "bin_end": 0.585278,
            "count": 0
           },
           {
            "bin_start": 0.585278,
            "bin_end": 0.6581389999999999,
            "count": 0
           },
           {
            "bin_start": 0.6581389999999999,
            "bin_end": 0.731,
            "count": 1
           }
          ]
         }
        },
        {
         "name": "instrumentalness",
         "dtype": "float64",
         "stats": {
          "unique_count": 5,
          "nan_count": 0,
          "min": "3.23e-06",
          "max": "0.00196",
          "histogram": [
           {
            "bin_start": 0.00000323,
            "bin_end": 0.000198907,
            "count": 4
           },
           {
            "bin_start": 0.000198907,
            "bin_end": 0.000394584,
            "count": 0
           },
           {
            "bin_start": 0.000394584,
            "bin_end": 0.000590261,
            "count": 0
           },
           {
            "bin_start": 0.000590261,
            "bin_end": 0.000785938,
            "count": 0
           },
           {
            "bin_start": 0.000785938,
            "bin_end": 0.000981615,
            "count": 0
           },
           {
            "bin_start": 0.000981615,
            "bin_end": 0.001177292,
            "count": 0
           },
           {
            "bin_start": 0.001177292,
            "bin_end": 0.001372969,
            "count": 0
           },
           {
            "bin_start": 0.001372969,
            "bin_end": 0.001568646,
            "count": 0
           },
           {
            "bin_start": 0.001568646,
            "bin_end": 0.001764323,
            "count": 0
           },
           {
            "bin_start": 0.001764323,
            "bin_end": 0.00196,
            "count": 1
           }
          ]
         }
        },
        {
         "name": "liveness",
         "dtype": "float64",
         "stats": {
          "unique_count": 5,
          "nan_count": 0,
          "min": "0.109",
          "max": "0.325",
          "histogram": [
           {
            "bin_start": 0.109,
            "bin_end": 0.1306,
            "count": 3
           },
           {
            "bin_start": 0.1306,
            "bin_end": 0.1522,
            "count": 0
           },
           {
            "bin_start": 0.1522,
            "bin_end": 0.1738,
            "count": 0
           },
           {
            "bin_start": 0.1738,
            "bin_end": 0.19540000000000002,
            "count": 0
           },
           {
            "bin_start": 0.19540000000000002,
            "bin_end": 0.21700000000000003,
            "count": 0
           },
           {
            "bin_start": 0.21700000000000003,
            "bin_end": 0.23859999999999998,
            "count": 1
           },
           {
            "bin_start": 0.23859999999999998,
            "bin_end": 0.2602,
            "count": 0
           },
           {
            "bin_start": 0.2602,
            "bin_end": 0.2818,
            "count": 0
           },
           {
            "bin_start": 0.2818,
            "bin_end": 0.3034,
            "count": 0
           },
           {
            "bin_start": 0.3034,
            "bin_end": 0.325,
            "count": 1
           }
          ]
         }
        },
        {
         "name": "valence",
         "dtype": "float64",
         "stats": {
          "unique_count": 5,
          "nan_count": 0,
          "min": "0.124",
          "max": "0.417",
          "histogram": [
           {
            "bin_start": 0.124,
            "bin_end": 0.1533,
            "count": 1
           },
           {
            "bin_start": 0.1533,
            "bin_end": 0.18259999999999998,
            "count": 0
           },
           {
            "bin_start": 0.18259999999999998,
            "bin_end": 0.2119,
            "count": 0
           },
           {
            "bin_start": 0.2119,
            "bin_end": 0.2412,
            "count": 1
           },
           {
            "bin_start": 0.2412,
            "bin_end": 0.27049999999999996,
            "count": 0
           },
           {
            "bin_start": 0.27049999999999996,
            "bin_end": 0.2998,
            "count": 1
           },
           {
            "bin_start": 0.2998,
            "bin_end": 0.3291,
            "count": 0
           },
           {
            "bin_start": 0.3291,
            "bin_end": 0.3584,
            "count": 0
           },
           {
            "bin_start": 0.3584,
            "bin_end": 0.3877,
            "count": 0
           },
           {
            "bin_start": 0.3877,
            "bin_end": 0.417,
            "count": 2
           }
          ]
         }
        },
        {
         "name": "tempo",
         "dtype": "float64",
         "stats": {
          "unique_count": 5,
          "nan_count": 0,
          "min": "90.027",
          "max": "173.372",
          "histogram": [
           {
            "bin_start": 90.027,
            "bin_end": 98.3615,
            "count": 1
           },
           {
            "bin_start": 98.3615,
            "bin_end": 106.696,
            "count": 0
           },
           {
            "bin_start": 106.696,
            "bin_end": 115.0305,
            "count": 0
           },
           {
            "bin_start": 115.0305,
            "bin_end": 123.36500000000001,
            "count": 0
           },
           {
            "bin_start": 123.36500000000001,
            "bin_end": 131.6995,
            "count": 0
           },
           {
            "bin_start": 131.6995,
            "bin_end": 140.03400000000002,
            "count": 2
           },
           {
            "bin_start": 140.03400000000002,
            "bin_end": 148.3685,
            "count": 1
           },
           {
            "bin_start": 148.3685,
            "bin_end": 156.70300000000003,
            "count": 0
           },
           {
            "bin_start": 156.70300000000003,
            "bin_end": 165.03750000000002,
            "count": 0
           },
           {
            "bin_start": 165.03750000000002,
            "bin_end": 173.372,
            "count": 1
           }
          ]
         }
        },
        {
         "name": "_deepnote_index_column",
         "dtype": "int64"
        }
       ],
       "rows": [
        {
         "artist_mb": "Coldplay",
         "song_name": "Viva la Vida ",
         "id": 399,
         "lyrics_nostop": "i used rule world seas would rise i gave word now morning, i sleep alone sweep streets i used own i used roll dice feel fear enemy's eyes listened crowd would sing \"now old king dead, long live king\" one minute i held key next, walls were closed and i discovered castles stand upon pillars salt pillars sand i hear jerusalem bells a-ringing roman cavalry choirs singing be mirror, sword shield my missionaries foreign field for reason, i can't explain once you'd gone, never never honest word and i ruled world it wicked wild wind blew down doors let shattered windows sound drums people couldn't believe i'd become revolutionaries wait for head silver plate just puppet lonely string (mmm, mmm) oh, would ever want king? i hear jerusalem bells a-ringing roman cavalry choirs singing be mirror, sword shield my missionaries foreign field for reason, i can't explain i know saint peter won't call name never honest word but i ruled world (oh-oh-oh, oh-oh-woah) (oh-oh-oh, oh-oh-woah) (oh-oh-oh, oh-oh…",
         "tokens": "['used', 'rule', 'world', 'seas', 'would', 'rise', 'gave', 'word', 'now', 'morning', 'sleep', 'alone', 'sweep', 'streets', 'used', 'own', 'used', 'roll', 'dice', 'feel', 'fear', 'enemy', 'eyes', 'listened', 'crowd', 'would', 'sing', 'now', 'old', 'king', 'dead', 'long', 'live', 'king', 'one', 'minute', 'held', 'key', 'next', 'walls', 'were', 'closed', 'and', 'discovered', 'castles', 'stand', 'upon', 'pillars', 'salt', 'pillars', 'sand', 'hear', 'jerusalem', 'bells', 'ringing', 'roman', 'cavalry', 'choirs', 'singing', 'be', 'mirror', 'sword', 'shield', 'my', 'missionaries', 'foreign', 'field', 'for', 'reason', 'can', 'explain', 'once', 'you', 'gone', 'never', 'never', 'honest', 'word', 'and', 'ruled', 'world', 'it', 'wicked', 'wild', 'wind', 'blew', 'down', 'doors', 'let', 'shattered', 'windows', 'sound', 'drums', 'people', 'couldn', 'believe', 'become', 'revolutionaries', 'wait', 'for', 'head', 'silver', 'plate', 'just', 'puppet', 'lonely', 'string', 'mmm', 'mmm', 'oh', 'would', 'ever…",
         "sp_id": "1mea3bSkSGXuIRvnydlB5b",
         "danceability": 0.486,
         "energy": 0.617,
         "key": 5,
         "loudness": -7.115,
         "speechiness": 0.0287,
         "acousticness": 0.0954,
         "instrumentalness": 0.00000323,
         "liveness": 0.109,
         "valence": 0.417,
         "tempo": 138.015,
         "_deepnote_index_column": 0
        },
        {
         "artist_mb": "Coldplay",
         "song_name": "Hymn for the Weekend ",
         "id": 787,
         "lyrics_nostop": "and said drink me, drink (oh-ah-oh-ah) that we shoot across sky symphony that we shoot across sky pour a... drink me, drink (oh-ah-oh-ah) that we shoot across sky symphony (so high, so high) that we shoot across sky oh, angel sent up above you know make world light up when i down, i hurt you came lift up life drink love's drug oh now i think i must miles up when i river dried up you came rain flood you said drink me, drink when i so thirsty poured symphony now i just can't get enough put wings me, wings when i so heavy poured symphony when i'm low, low, low, low i, oh-i, oh-i got feeling drunk high, so high, so high oh-i, oh-i, oh-i now i’m feeling drunk high, so high, so high (woo) (woo-ooo-ooo-woo) oh, angel sent up above i feel coursing through blood life drink love's about to make stars come out put wings me, wings when i so heavy poured symphony when i'm low, low, low, low i, oh-i, oh-i got feeling drunk high, so high, so high oh-i, oh-i, oh-i i’m feeling drunk high, so high, so …",
         "tokens": "['and', 'said', 'drink', 'me', 'drink', 'oh', 'ah', 'oh', 'ah', 'that', 'we', 'shoot', 'across', 'sky', 'symphony', 'that', 'we', 'shoot', 'across', 'sky', 'pour', 'drink', 'me', 'drink', 'oh', 'ah', 'oh', 'ah', 'that', 'we', 'shoot', 'across', 'sky', 'symphony', 'so', 'high', 'so', 'high', 'that', 'we', 'shoot', 'across', 'sky', 'oh', 'angel', 'sent', 'up', 'above', 'you', 'know', 'make', 'world', 'light', 'up', 'when', 'down', 'hurt', 'you', 'came', 'lift', 'up', 'life', 'drink', 'love', 'drug', 'oh', 'now', 'think', 'must', 'miles', 'up', 'when', 'river', 'dried', 'up', 'you', 'came', 'rain', 'flood', 'you', 'said', 'drink', 'me', 'drink', 'when', 'so', 'thirsty', 'poured', 'symphony', 'now', 'just', 'can', 'get', 'enough', 'put', 'wings', 'me', 'wings', 'when', 'so', 'heavy', 'poured', 'symphony', 'when', 'low', 'low', 'low', 'low', 'oh', 'oh', 'got', 'feeling', 'drunk', 'high', 'so', 'high', 'so', 'high', 'oh', 'oh', 'oh', 'now', 'feeling', 'drunk', 'high', 'so', 'high', 'so', 'h…",
         "sp_id": "3RiPr603aXAoi4GHyXx0uy",
         "danceability": 0.491,
         "energy": 0.693,
         "key": 0,
         "loudness": -6.487,
         "speechiness": 0.0377,
         "acousticness": 0.211,
         "instrumentalness": 0.00000692,
         "liveness": 0.325,
         "valence": 0.412,
         "tempo": 90.027,
         "_deepnote_index_column": 1
        },
        {
         "artist_mb": "Coldplay",
         "song_name": "The Scientist ",
         "id": 1075,
         "lyrics_nostop": "come up meet you, tell i'm sorry you don't know lovely i had find you, tell i need tell i set apart tell secrets, ask questions oh, let's go back start running circles, coming up tails heads science apart nobody said easy it's such shame part nobody said easy no one ever said would hard oh, take back start i just guessing numbers figures pulling puzzles apart questions science, science progress do not speak loud heart tell love me, come back haunt oh, i rush start running circles, chasing tails coming back we nobody said easy oh, it's such shame part nobody said easy no one ever said would so hard i'm going back start oh-ooh ooh-ooh-ooh-ooh ah-ooh ooh-ooh-ooh-ooh oh-ooh ooh-ooh-ooh-ooh oh-ooh ooh-ooh-ooh-ooh216embed",
         "tokens": "['come', 'up', 'meet', 'you', 'tell', 'sorry', 'you', 'don', 'know', 'lovely', 'had', 'find', 'you', 'tell', 'need', 'tell', 'set', 'apart', 'tell', 'secrets', 'ask', 'questions', 'oh', 'let', 'go', 'back', 'start', 'running', 'circles', 'coming', 'up', 'tails', 'heads', 'science', 'apart', 'nobody', 'said', 'easy', 'it', 'such', 'shame', 'part', 'nobody', 'said', 'easy', 'no', 'one', 'ever', 'said', 'would', 'hard', 'oh', 'take', 'back', 'start', 'just', 'guessing', 'numbers', 'figures', 'pulling', 'puzzles', 'apart', 'questions', 'science', 'science', 'progress', 'do', 'not', 'speak', 'loud', 'heart', 'tell', 'love', 'me', 'come', 'back', 'haunt', 'oh', 'rush', 'start', 'running', 'circles', 'chasing', 'tails', 'coming', 'back', 'we', 'nobody', 'said', 'easy', 'oh', 'it', 'such', 'shame', 'part', 'nobody', 'said', 'easy', 'no', 'one', 'ever', 'said', 'would', 'so', 'hard', 'going', 'back', 'start', 'oh', 'ooh', 'ooh', 'ooh', 'ooh', 'ooh', 'ah', 'ooh', 'ooh', 'ooh', 'ooh', 'ooh', 'oh…",
         "sp_id": "75JFxkI2RXiU7L9VXzMkle",
         "danceability": 0.557,
         "energy": 0.442,
         "key": 5,
         "loudness": -7.224,
         "speechiness": 0.0243,
         "acousticness": 0.731,
         "instrumentalness": 0.0000146,
         "liveness": 0.11,
         "valence": 0.213,
         "tempo": 146.277,
         "_deepnote_index_column": 2
        },
        {
         "artist_mb": "Coldplay",
         "song_name": "Yellow ",
         "id": 2120,
         "lyrics_nostop": "look stars, look shine and everything do yeah, were yellow i came along, i wrote song and things do and called \"yellow\" so then i took turn oh, thing done and yellow (aah) your skin, oh, yeah, skin bones (ooh) turn into something beautiful (aah) you know, know i love so you know i love so i swam across, i jumped across oh, thing do 'cause were yellow i drew line, i drew line oh, thing do and yellow (aah) your skin, oh, yeah, skin bones (ooh) turn into something beautiful (aah) and know, you, i'd bleed myself dry for you, i'd bleed myself dry it's true, look shine look shine look shine look shine look shine look shine look stars look shine and things do160embed",
         "tokens": "['look', 'stars', 'look', 'shine', 'and', 'everything', 'do', 'yeah', 'were', 'yellow', 'came', 'along', 'wrote', 'song', 'and', 'things', 'do', 'and', 'called', 'yellow', 'so', 'then', 'took', 'turn', 'oh', 'thing', 'done', 'and', 'yellow', 'aah', 'your', 'skin', 'oh', 'yeah', 'skin', 'bones', 'ooh', 'turn', 'into', 'something', 'beautiful', 'aah', 'you', 'know', 'know', 'love', 'so', 'you', 'know', 'love', 'so', 'swam', 'across', 'jumped', 'across', 'oh', 'thing', 'do', 'cause', 'were', 'yellow', 'drew', 'line', 'drew', 'line', 'oh', 'thing', 'do', 'and', 'yellow', 'aah', 'your', 'skin', 'oh', 'yeah', 'skin', 'bones', 'ooh', 'turn', 'into', 'something', 'beautiful', 'aah', 'and', 'know', 'you', 'bleed', 'myself', 'dry', 'for', 'you', 'bleed', 'myself', 'dry', 'it', 'true', 'look', 'shine', 'look', 'shine', 'look', 'shine', 'look', 'shine', 'look', 'shine', 'look', 'shine', 'look', 'stars', 'look', 'shine', 'and', 'things', 'do160embed']",
         "sp_id": "3AJwUDP919kvQ9QcozQPxg",
         "danceability": 0.429,
         "energy": 0.661,
         "key": 11,
         "loudness": -7.227,
         "speechiness": 0.0281,
         "acousticness": 0.00239,
         "instrumentalness": 0.000121,
         "liveness": 0.234,
         "valence": 0.285,
         "tempo": 173.372,
         "_deepnote_index_column": 3
        },
        {
         "artist_mb": "Coldplay",
         "song_name": "Fix You ",
         "id": 2169,
         "lyrics_nostop": "when try best, don't succeed when get want, not need when feel so tired, can't sleep stuck reverse and tears come streaming down face when lose something can't replace when love someone, goes waste could worse? lights guide home and ignite bones and i try fix and high up above down below when you're too love let go but if never try, you'll never know just you're worth lights guide home and ignite bones and i try fix tears stream down face when lose something cannot replace tears stream down face, i tears stream down face i promise i learn mistakes tears stream down face, i lights guide home and ignite bones and i try fix you147embed",
         "tokens": "['when', 'try', 'best', 'don', 'succeed', 'when', 'get', 'want', 'not', 'need', 'when', 'feel', 'so', 'tired', 'can', 'sleep', 'stuck', 'reverse', 'and', 'tears', 'come', 'streaming', 'down', 'face', 'when', 'lose', 'something', 'can', 'replace', 'when', 'love', 'someone', 'goes', 'waste', 'could', 'worse', 'lights', 'guide', 'home', 'and', 'ignite', 'bones', 'and', 'try', 'fix', 'and', 'high', 'up', 'above', 'down', 'below', 'when', 'you', 're', 'too', 'love', 'let', 'go', 'but', 'if', 'never', 'try', 'you', 'll', 'never', 'know', 'just', 'you', 're', 'worth', 'lights', 'guide', 'home', 'and', 'ignite', 'bones', 'and', 'try', 'fix', 'tears', 'stream', 'down', 'face', 'when', 'lose', 'something', 'cannot', 'replace', 'tears', 'stream', 'down', 'face', 'tears', 'stream', 'down', 'face', 'promise', 'learn', 'mistakes', 'tears', 'stream', 'down', 'face', 'lights', 'guide', 'home', 'and', 'ignite', 'bones', 'and', 'try', 'fix', 'you147embed']",
         "sp_id": "7LVHVU3tWfcxj5aiPFEW4Q",
         "danceability": 0.209,
         "energy": 0.417,
         "key": 3,
         "loudness": -8.74,
         "speechiness": 0.0338,
         "acousticness": 0.164,
         "instrumentalness": 0.00196,
         "liveness": 0.113,
         "valence": 0.124,
         "tempo": 138.178,
         "_deepnote_index_column": 4
        }
       ]
      },
      "text/plain": "  artist_mb              song_name    id  \\\n0  Coldplay          Viva la Vida    399   \n1  Coldplay  Hymn for the Weekend    787   \n2  Coldplay         The Scientist   1075   \n3  Coldplay                Yellow   2120   \n4  Coldplay               Fix You   2169   \n\n                                       lyrics_nostop  \\\n0  i used rule world seas would rise i gave word ...   \n1  and said drink me, drink (oh-ah-oh-ah) that we...   \n2  come up meet you, tell i'm sorry you don't kno...   \n3  look stars, look shine and everything do yeah,...   \n4  when try best, don't succeed when get want, no...   \n\n                                              tokens                   sp_id  \\\n0  ['used', 'rule', 'world', 'seas', 'would', 'ri...  1mea3bSkSGXuIRvnydlB5b   \n1  ['and', 'said', 'drink', 'me', 'drink', 'oh', ...  3RiPr603aXAoi4GHyXx0uy   \n2  ['come', 'up', 'meet', 'you', 'tell', 'sorry',...  75JFxkI2RXiU7L9VXzMkle   \n3  ['look', 'stars', 'look', 'shine', 'and', 'eve...  3AJwUDP919kvQ9QcozQPxg   \n4  ['when', 'try', 'best', 'don', 'succeed', 'whe...  7LVHVU3tWfcxj5aiPFEW4Q   \n\n   danceability  energy   key  loudness  speechiness  acousticness  \\\n0         0.486   0.617   5.0    -7.115       0.0287       0.09540   \n1         0.491   0.693   0.0    -6.487       0.0377       0.21100   \n2         0.557   0.442   5.0    -7.224       0.0243       0.73100   \n3         0.429   0.661  11.0    -7.227       0.0281       0.00239   \n4         0.209   0.417   3.0    -8.740       0.0338       0.16400   \n\n   instrumentalness  liveness  valence    tempo  \n0          0.000003     0.109    0.417  138.015  \n1          0.000007     0.325    0.412   90.027  \n2          0.000015     0.110    0.213  146.277  \n3          0.000121     0.234    0.285  173.372  \n4          0.001960     0.113    0.124  138.178  ",
      "text/html": "<div>\n<style scoped>\n    .dataframe tbody tr th:only-of-type {\n        vertical-align: middle;\n    }\n\n    .dataframe tbody tr th {\n        vertical-align: top;\n    }\n\n    .dataframe thead th {\n        text-align: right;\n    }\n</style>\n<table border=\"1\" class=\"dataframe\">\n  <thead>\n    <tr style=\"text-align: right;\">\n      <th></th>\n      <th>artist_mb</th>\n      <th>song_name</th>\n      <th>id</th>\n      <th>lyrics_nostop</th>\n      <th>tokens</th>\n      <th>sp_id</th>\n      <th>danceability</th>\n      <th>energy</th>\n      <th>key</th>\n      <th>loudness</th>\n      <th>speechiness</th>\n      <th>acousticness</th>\n      <th>instrumentalness</th>\n      <th>liveness</th>\n      <th>valence</th>\n      <th>tempo</th>\n    </tr>\n  </thead>\n  <tbody>\n    <tr>\n      <th>0</th>\n      <td>Coldplay</td>\n      <td>Viva la Vida</td>\n      <td>399</td>\n      <td>i used rule world seas would rise i gave word ...</td>\n      <td>['used', 'rule', 'world', 'seas', 'would', 'ri...</td>\n      <td>1mea3bSkSGXuIRvnydlB5b</td>\n      <td>0.486</td>\n      <td>0.617</td>\n      <td>5.0</td>\n      <td>-7.115</td>\n      <td>0.0287</td>\n      <td>0.09540</td>\n      <td>0.000003</td>\n      <td>0.109</td>\n      <td>0.417</td>\n      <td>138.015</td>\n    </tr>\n    <tr>\n      <th>1</th>\n      <td>Coldplay</td>\n      <td>Hymn for the Weekend</td>\n      <td>787</td>\n      <td>and said drink me, drink (oh-ah-oh-ah) that we...</td>\n      <td>['and', 'said', 'drink', 'me', 'drink', 'oh', ...</td>\n      <td>3RiPr603aXAoi4GHyXx0uy</td>\n      <td>0.491</td>\n      <td>0.693</td>\n      <td>0.0</td>\n      <td>-6.487</td>\n      <td>0.0377</td>\n      <td>0.21100</td>\n      <td>0.000007</td>\n      <td>0.325</td>\n      <td>0.412</td>\n      <td>90.027</td>\n    </tr>\n    <tr>\n      <th>2</th>\n      <td>Coldplay</td>\n      <td>The Scientist</td>\n      <td>1075</td>\n      <td>come up meet you, tell i'm sorry you don't kno...</td>\n      <td>['come', 'up', 'meet', 'you', 'tell', 'sorry',...</td>\n      <td>75JFxkI2RXiU7L9VXzMkle</td>\n      <td>0.557</td>\n      <td>0.442</td>\n      <td>5.0</td>\n      <td>-7.224</td>\n      <td>0.0243</td>\n      <td>0.73100</td>\n      <td>0.000015</td>\n      <td>0.110</td>\n      <td>0.213</td>\n      <td>146.277</td>\n    </tr>\n    <tr>\n      <th>3</th>\n      <td>Coldplay</td>\n      <td>Yellow</td>\n      <td>2120</td>\n      <td>look stars, look shine and everything do yeah,...</td>\n      <td>['look', 'stars', 'look', 'shine', 'and', 'eve...</td>\n      <td>3AJwUDP919kvQ9QcozQPxg</td>\n      <td>0.429</td>\n      <td>0.661</td>\n      <td>11.0</td>\n      <td>-7.227</td>\n      <td>0.0281</td>\n      <td>0.00239</td>\n      <td>0.000121</td>\n      <td>0.234</td>\n      <td>0.285</td>\n      <td>173.372</td>\n    </tr>\n    <tr>\n      <th>4</th>\n      <td>Coldplay</td>\n      <td>Fix You</td>\n      <td>2169</td>\n      <td>when try best, don't succeed when get want, no...</td>\n      <td>['when', 'try', 'best', 'don', 'succeed', 'whe...</td>\n      <td>7LVHVU3tWfcxj5aiPFEW4Q</td>\n      <td>0.209</td>\n      <td>0.417</td>\n      <td>3.0</td>\n      <td>-8.740</td>\n      <td>0.0338</td>\n      <td>0.16400</td>\n      <td>0.001960</td>\n      <td>0.113</td>\n      <td>0.124</td>\n      <td>138.178</td>\n    </tr>\n  </tbody>\n</table>\n</div>"
     },
     "metadata": {}
    }
   ],
   "execution_count": 38
  },
  {
   "cell_type": "code",
   "source": "track_info[\"song_name\"] = track_info[\"song_name\"].apply(lambda x: x.strip())",
   "metadata": {
    "cell_id": "811860b890544c91ae1f47323db2864f",
    "tags": [],
    "deepnote_to_be_reexecuted": false,
    "source_hash": "9aeaf95a",
    "execution_start": 1655837300706,
    "execution_millis": 3,
    "deepnote_cell_type": "code",
    "deepnote_cell_height": 81
   },
   "outputs": [],
   "execution_count": 39
  },
  {
   "cell_type": "code",
   "source": "from scipy.spatial import distance",
   "metadata": {
    "cell_id": "c27c733a31a64f9e8af5a6021144ddae",
    "tags": [],
    "deepnote_to_be_reexecuted": false,
    "source_hash": "87bc4ea0",
    "execution_start": 1655837300756,
    "execution_millis": 439174,
    "deepnote_cell_type": "code",
    "deepnote_cell_height": 81
   },
   "outputs": [],
   "execution_count": 40
  },
  {
   "cell_type": "code",
   "source": "def get_query_song_info(daf, artist, song):\n    artist_songs = daf[daf[\"artist_mb\"] == artist]\n    song_info = daf[daf['song_name'] == song]\n    return pd.merge(artist_songs, song_info)",
   "metadata": {
    "cell_id": "de2ef7c21c74477c8494db4a919e09cb",
    "tags": [],
    "deepnote_to_be_reexecuted": false,
    "source_hash": "e747735",
    "execution_start": 1655837300756,
    "execution_millis": 439160,
    "deepnote_cell_type": "code",
    "deepnote_cell_height": 135
   },
   "outputs": [],
   "execution_count": 41
  },
  {
   "cell_type": "code",
   "source": "artist = \"Coldplay\"\nsong = \"Yellow\"\n\ngood_song = get_query_song_info(track_info, artist, song)\ngood_song",
   "metadata": {
    "cell_id": "1941ac0415254aee902a2bb02b3c6c4a",
    "tags": [],
    "deepnote_to_be_reexecuted": false,
    "source_hash": "b272fc46",
    "execution_start": 1655837300757,
    "execution_millis": 55,
    "deepnote_cell_type": "code",
    "deepnote_cell_height": 320
   },
   "outputs": [
    {
     "output_type": "execute_result",
     "execution_count": 42,
     "data": {
      "application/vnd.deepnote.dataframe.v3+json": {
       "column_count": 16,
       "row_count": 1,
       "columns": [
        {
         "name": "artist_mb",
         "dtype": "object",
         "stats": {
          "unique_count": 1,
          "nan_count": 0,
          "categories": [
           {
            "name": "Coldplay",
            "count": 1
           }
          ]
         }
        },
        {
         "name": "song_name",
         "dtype": "object",
         "stats": {
          "unique_count": 1,
          "nan_count": 0,
          "categories": [
           {
            "name": "Yellow",
            "count": 1
           }
          ]
         }
        },
        {
         "name": "id",
         "dtype": "int64",
         "stats": {
          "unique_count": 1,
          "nan_count": 0,
          "min": "2120",
          "max": "2120",
          "histogram": [
           {
            "bin_start": 2119.5,
            "bin_end": 2119.6,
            "count": 0
           },
           {
            "bin_start": 2119.6,
            "bin_end": 2119.7,
            "count": 0
           },
           {
            "bin_start": 2119.7,
            "bin_end": 2119.8,
            "count": 0
           },
           {
            "bin_start": 2119.8,
            "bin_end": 2119.9,
            "count": 0
           },
           {
            "bin_start": 2119.9,
            "bin_end": 2120,
            "count": 0
           },
           {
            "bin_start": 2120,
            "bin_end": 2120.1,
            "count": 1
           },
           {
            "bin_start": 2120.1,
            "bin_end": 2120.2,
            "count": 0
           },
           {
            "bin_start": 2120.2,
            "bin_end": 2120.3,
            "count": 0
           },
           {
            "bin_start": 2120.3,
            "bin_end": 2120.4,
            "count": 0
           },
           {
            "bin_start": 2120.4,
            "bin_end": 2120.5,
            "count": 0
           }
          ]
         }
        },
        {
         "name": "lyrics_nostop",
         "dtype": "object",
         "stats": {
          "unique_count": 1,
          "nan_count": 0,
          "categories": [
           {
            "name": "look stars, look shine and everything do yeah, were yellow i came along, i wrote song and things do and called \"yellow\" so then i took turn oh, thing done and yellow (aah) your skin, oh, yeah, skin bones (ooh) turn into something beautiful (aah) you know, know i love so you know i love so i swam across, i jumped across oh, thing do 'cause were yellow i drew line, i drew line oh, thing do and yellow (aah) your skin, oh, yeah, skin bones (ooh) turn into something beautiful (aah) and know, you, i'd bleed myself dry for you, i'd bleed myself dry it's true, look shine look shine look shine look shine look shine look shine look stars look shine and things do160embed",
            "count": 1
           }
          ]
         }
        },
        {
         "name": "tokens",
         "dtype": "object",
         "stats": {
          "unique_count": 1,
          "nan_count": 0,
          "categories": [
           {
            "name": "['look', 'stars', 'look', 'shine', 'and', 'everything', 'do', 'yeah', 'were', 'yellow', 'came', 'along', 'wrote', 'song', 'and', 'things', 'do', 'and', 'called', 'yellow', 'so', 'then', 'took', 'turn', 'oh', 'thing', 'done', 'and', 'yellow', 'aah', 'your', 'skin', 'oh', 'yeah', 'skin', 'bones', 'ooh', 'turn', 'into', 'something', 'beautiful', 'aah', 'you', 'know', 'know', 'love', 'so', 'you', 'know', 'love', 'so', 'swam', 'across', 'jumped', 'across', 'oh', 'thing', 'do', 'cause', 'were', 'yellow', 'drew', 'line', 'drew', 'line', 'oh', 'thing', 'do', 'and', 'yellow', 'aah', 'your', 'skin', 'oh', 'yeah', 'skin', 'bones', 'ooh', 'turn', 'into', 'something', 'beautiful', 'aah', 'and', 'know', 'you', 'bleed', 'myself', 'dry', 'for', 'you', 'bleed', 'myself', 'dry', 'it', 'true', 'look', 'shine', 'look', 'shine', 'look', 'shine', 'look', 'shine', 'look', 'shine', 'look', 'shine', 'look', 'stars', 'look', 'shine', 'and', 'things', 'do160embed']",
            "count": 1
           }
          ]
         }
        },
        {
         "name": "sp_id",
         "dtype": "object",
         "stats": {
          "unique_count": 1,
          "nan_count": 0,
          "categories": [
           {
            "name": "3AJwUDP919kvQ9QcozQPxg",
            "count": 1
           }
          ]
         }
        },
        {
         "name": "danceability",
         "dtype": "float64",
         "stats": {
          "unique_count": 1,
          "nan_count": 0,
          "min": "0.429",
          "max": "0.429",
          "histogram": [
           {
            "bin_start": -0.07100000000000001,
            "bin_end": 0.028999999999999998,
            "count": 0
           },
           {
            "bin_start": 0.028999999999999998,
            "bin_end": 0.129,
            "count": 0
           },
           {
            "bin_start": 0.129,
            "bin_end": 0.22900000000000004,
            "count": 0
           },
           {
            "bin_start": 0.22900000000000004,
            "bin_end": 0.329,
            "count": 0
           },
           {
            "bin_start": 0.329,
            "bin_end": 0.429,
            "count": 0
           },
           {
            "bin_start": 0.429,
            "bin_end": 0.5290000000000001,
            "count": 1
           },
           {
            "bin_start": 0.5290000000000001,
            "bin_end": 0.629,
            "count": 0
           },
           {
            "bin_start": 0.629,
            "bin_end": 0.7290000000000001,
            "count": 0
           },
           {
            "bin_start": 0.7290000000000001,
            "bin_end": 0.829,
            "count": 0
           },
           {
            "bin_start": 0.829,
            "bin_end": 0.929,
            "count": 0
           }
          ]
         }
        },
        {
         "name": "energy",
         "dtype": "float64",
         "stats": {
          "unique_count": 1,
          "nan_count": 0,
          "min": "0.661",
          "max": "0.661",
          "histogram": [
           {
            "bin_start": 0.16100000000000003,
            "bin_end": 0.261,
            "count": 0
           },
           {
            "bin_start": 0.261,
            "bin_end": 0.36100000000000004,
            "count": 0
           },
           {
            "bin_start": 0.36100000000000004,
            "bin_end": 0.4610000000000001,
            "count": 0
           },
           {
            "bin_start": 0.4610000000000001,
            "bin_end": 0.561,
            "count": 0
           },
           {
            "bin_start": 0.561,
            "bin_end": 0.661,
            "count": 0
           },
           {
            "bin_start": 0.661,
            "bin_end": 0.7610000000000001,
            "count": 1
           },
           {
            "bin_start": 0.7610000000000001,
            "bin_end": 0.8610000000000001,
            "count": 0
           },
           {
            "bin_start": 0.8610000000000001,
            "bin_end": 0.9610000000000001,
            "count": 0
           },
           {
            "bin_start": 0.9610000000000001,
            "bin_end": 1.061,
            "count": 0
           },
           {
            "bin_start": 1.061,
            "bin_end": 1.161,
            "count": 0
           }
          ]
         }
        },
        {
         "name": "key",
         "dtype": "float64",
         "stats": {
          "unique_count": 1,
          "nan_count": 0,
          "min": "11.0",
          "max": "11.0",
          "histogram": [
           {
            "bin_start": 10.5,
            "bin_end": 10.6,
            "count": 0
           },
           {
            "bin_start": 10.6,
            "bin_end": 10.7,
            "count": 0
           },
           {
            "bin_start": 10.7,
            "bin_end": 10.8,
            "count": 0
           },
           {
            "bin_start": 10.8,
            "bin_end": 10.9,
            "count": 0
           },
           {
            "bin_start": 10.9,
            "bin_end": 11,
            "count": 0
           },
           {
            "bin_start": 11,
            "bin_end": 11.1,
            "count": 1
           },
           {
            "bin_start": 11.1,
            "bin_end": 11.2,
            "count": 0
           },
           {
            "bin_start": 11.2,
            "bin_end": 11.3,
            "count": 0
           },
           {
            "bin_start": 11.3,
            "bin_end": 11.4,
            "count": 0
           },
           {
            "bin_start": 11.4,
            "bin_end": 11.5,
            "count": 0
           }
          ]
         }
        },
        {
         "name": "loudness",
         "dtype": "float64",
         "stats": {
          "unique_count": 1,
          "nan_count": 0,
          "min": "-7.227",
          "max": "-7.227",
          "histogram": [
           {
            "bin_start": -7.727,
            "bin_end": -7.627000000000001,
            "count": 0
           },
           {
            "bin_start": -7.627000000000001,
            "bin_end": -7.527,
            "count": 0
           },
           {
            "bin_start": -7.527,
            "bin_end": -7.4270000000000005,
            "count": 0
           },
           {
            "bin_start": -7.4270000000000005,
            "bin_end": -7.327,
            "count": 0
           },
           {
            "bin_start": -7.327,
            "bin_end": -7.227,
            "count": 0
           },
           {
            "bin_start": -7.227,
            "bin_end": -7.127000000000001,
            "count": 1
           },
           {
            "bin_start": -7.127000000000001,
            "bin_end": -7.027,
            "count": 0
           },
           {
            "bin_start": -7.027,
            "bin_end": -6.9270000000000005,
            "count": 0
           },
           {
            "bin_start": -6.9270000000000005,
            "bin_end": -6.827,
            "count": 0
           },
           {
            "bin_start": -6.827,
            "bin_end": -6.727,
            "count": 0
           }
          ]
         }
        },
        {
         "name": "speechiness",
         "dtype": "float64",
         "stats": {
          "unique_count": 1,
          "nan_count": 0,
          "min": "0.0281",
          "max": "0.0281",
          "histogram": [
           {
            "bin_start": -0.4719,
            "bin_end": -0.3719,
            "count": 0
           },
           {
            "bin_start": -0.3719,
            "bin_end": -0.2719,
            "count": 0
           },
           {
            "bin_start": -0.2719,
            "bin_end": -0.17189999999999994,
            "count": 0
           },
           {
            "bin_start": -0.17189999999999994,
            "bin_end": -0.07189999999999996,
            "count": 0
           },
           {
            "bin_start": -0.07189999999999996,
            "bin_end": 0.028100000000000014,
            "count": 1
           },
           {
            "bin_start": 0.028100000000000014,
            "bin_end": 0.1281000000000001,
            "count": 0
           },
           {
            "bin_start": 0.1281000000000001,
            "bin_end": 0.22810000000000008,
            "count": 0
           },
           {
            "bin_start": 0.22810000000000008,
            "bin_end": 0.32810000000000006,
            "count": 0
           },
           {
            "bin_start": 0.32810000000000006,
            "bin_end": 0.42810000000000004,
            "count": 0
           },
           {
            "bin_start": 0.42810000000000004,
            "bin_end": 0.5281,
            "count": 0
           }
          ]
         }
        },
        {
         "name": "acousticness",
         "dtype": "float64",
         "stats": {
          "unique_count": 1,
          "nan_count": 0,
          "min": "0.00239",
          "max": "0.00239",
          "histogram": [
           {
            "bin_start": -0.49761,
            "bin_end": -0.39761,
            "count": 0
           },
           {
            "bin_start": -0.39761,
            "bin_end": -0.29761,
            "count": 0
           },
           {
            "bin_start": -0.29761,
            "bin_end": -0.19760999999999995,
            "count": 0
           },
           {
            "bin_start": -0.19760999999999995,
            "bin_end": -0.09760999999999997,
            "count": 0
           },
           {
            "bin_start": -0.09760999999999997,
            "bin_end": 0.0023900000000000032,
            "count": 1
           },
           {
            "bin_start": 0.0023900000000000032,
            "bin_end": 0.10239000000000009,
            "count": 0
           },
           {
            "bin_start": 0.10239000000000009,
            "bin_end": 0.20239000000000007,
            "count": 0
           },
           {
            "bin_start": 0.20239000000000007,
            "bin_end": 0.30239000000000005,
            "count": 0
           },
           {
            "bin_start": 0.30239000000000005,
            "bin_end": 0.40239,
            "count": 0
           },
           {
            "bin_start": 0.40239,
            "bin_end": 0.50239,
            "count": 0
           }
          ]
         }
        },
        {
         "name": "instrumentalness",
         "dtype": "float64",
         "stats": {
          "unique_count": 1,
          "nan_count": 0,
          "min": "0.000121",
          "max": "0.000121",
          "histogram": [
           {
            "bin_start": -0.499879,
            "bin_end": -0.399879,
            "count": 0
           },
           {
            "bin_start": -0.399879,
            "bin_end": -0.299879,
            "count": 0
           },
           {
            "bin_start": -0.299879,
            "bin_end": -0.19987899999999997,
            "count": 0
           },
           {
            "bin_start": -0.19987899999999997,
            "bin_end": -0.099879,
            "count": 0
           },
           {
            "bin_start": -0.099879,
            "bin_end": 0.00012099999999998223,
            "count": 0
           },
           {
            "bin_start": 0.00012099999999998223,
            "bin_end": 0.10012100000000007,
            "count": 1
           },
           {
            "bin_start": 0.10012100000000007,
            "bin_end": 0.20012100000000005,
            "count": 0
           },
           {
            "bin_start": 0.20012100000000005,
            "bin_end": 0.300121,
            "count": 0
           },
           {
            "bin_start": 0.300121,
            "bin_end": 0.400121,
            "count": 0
           },
           {
            "bin_start": 0.400121,
            "bin_end": 0.500121,
            "count": 0
           }
          ]
         }
        },
        {
         "name": "liveness",
         "dtype": "float64",
         "stats": {
          "unique_count": 1,
          "nan_count": 0,
          "min": "0.234",
          "max": "0.234",
          "histogram": [
           {
            "bin_start": -0.266,
            "bin_end": -0.166,
            "count": 0
           },
           {
            "bin_start": -0.166,
            "bin_end": -0.066,
            "count": 0
           },
           {
            "bin_start": -0.066,
            "bin_end": 0.03400000000000003,
            "count": 0
           },
           {
            "bin_start": 0.03400000000000003,
            "bin_end": 0.134,
            "count": 0
           },
           {
            "bin_start": 0.134,
            "bin_end": 0.23399999999999999,
            "count": 0
           },
           {
            "bin_start": 0.23399999999999999,
            "bin_end": 0.3340000000000001,
            "count": 1
           },
           {
            "bin_start": 0.3340000000000001,
            "bin_end": 0.43400000000000005,
            "count": 0
           },
           {
            "bin_start": 0.43400000000000005,
            "bin_end": 0.534,
            "count": 0
           },
           {
            "bin_start": 0.534,
            "bin_end": 0.634,
            "count": 0
           },
           {
            "bin_start": 0.634,
            "bin_end": 0.734,
            "count": 0
           }
          ]
         }
        },
        {
         "name": "valence",
         "dtype": "float64",
         "stats": {
          "unique_count": 1,
          "nan_count": 0,
          "min": "0.285",
          "max": "0.285",
          "histogram": [
           {
            "bin_start": -0.21500000000000002,
            "bin_end": -0.11500000000000002,
            "count": 0
           },
           {
            "bin_start": -0.11500000000000002,
            "bin_end": -0.015000000000000013,
            "count": 0
           },
           {
            "bin_start": -0.015000000000000013,
            "bin_end": 0.08500000000000002,
            "count": 0
           },
           {
            "bin_start": 0.08500000000000002,
            "bin_end": 0.185,
            "count": 0
           },
           {
            "bin_start": 0.185,
            "bin_end": 0.285,
            "count": 0
           },
           {
            "bin_start": 0.285,
            "bin_end": 0.38500000000000006,
            "count": 1
           },
           {
            "bin_start": 0.38500000000000006,
            "bin_end": 0.48500000000000004,
            "count": 0
           },
           {
            "bin_start": 0.48500000000000004,
            "bin_end": 0.585,
            "count": 0
           },
           {
            "bin_start": 0.585,
            "bin_end": 0.685,
            "count": 0
           },
           {
            "bin_start": 0.685,
            "bin_end": 0.7849999999999999,
            "count": 0
           }
          ]
         }
        },
        {
         "name": "tempo",
         "dtype": "float64",
         "stats": {
          "unique_count": 1,
          "nan_count": 0,
          "min": "173.372",
          "max": "173.372",
          "histogram": [
           {
            "bin_start": 172.872,
            "bin_end": 172.972,
            "count": 0
           },
           {
            "bin_start": 172.972,
            "bin_end": 173.072,
            "count": 0
           },
           {
            "bin_start": 173.072,
            "bin_end": 173.17200000000003,
            "count": 0
           },
           {
            "bin_start": 173.17200000000003,
            "bin_end": 173.27200000000002,
            "count": 0
           },
           {
            "bin_start": 173.27200000000002,
            "bin_end": 173.372,
            "count": 0
           },
           {
            "bin_start": 173.372,
            "bin_end": 173.472,
            "count": 1
           },
           {
            "bin_start": 173.472,
            "bin_end": 173.572,
            "count": 0
           },
           {
            "bin_start": 173.572,
            "bin_end": 173.67200000000003,
            "count": 0
           },
           {
            "bin_start": 173.67200000000003,
            "bin_end": 173.77200000000002,
            "count": 0
           },
           {
            "bin_start": 173.77200000000002,
            "bin_end": 173.872,
            "count": 0
           }
          ]
         }
        },
        {
         "name": "_deepnote_index_column",
         "dtype": "int64"
        }
       ],
       "rows": [
        {
         "artist_mb": "Coldplay",
         "song_name": "Yellow",
         "id": 2120,
         "lyrics_nostop": "look stars, look shine and everything do yeah, were yellow i came along, i wrote song and things do and called \"yellow\" so then i took turn oh, thing done and yellow (aah) your skin, oh, yeah, skin bones (ooh) turn into something beautiful (aah) you know, know i love so you know i love so i swam across, i jumped across oh, thing do 'cause were yellow i drew line, i drew line oh, thing do and yellow (aah) your skin, oh, yeah, skin bones (ooh) turn into something beautiful (aah) and know, you, i'd bleed myself dry for you, i'd bleed myself dry it's true, look shine look shine look shine look shine look shine look shine look stars look shine and things do160embed",
         "tokens": "['look', 'stars', 'look', 'shine', 'and', 'everything', 'do', 'yeah', 'were', 'yellow', 'came', 'along', 'wrote', 'song', 'and', 'things', 'do', 'and', 'called', 'yellow', 'so', 'then', 'took', 'turn', 'oh', 'thing', 'done', 'and', 'yellow', 'aah', 'your', 'skin', 'oh', 'yeah', 'skin', 'bones', 'ooh', 'turn', 'into', 'something', 'beautiful', 'aah', 'you', 'know', 'know', 'love', 'so', 'you', 'know', 'love', 'so', 'swam', 'across', 'jumped', 'across', 'oh', 'thing', 'do', 'cause', 'were', 'yellow', 'drew', 'line', 'drew', 'line', 'oh', 'thing', 'do', 'and', 'yellow', 'aah', 'your', 'skin', 'oh', 'yeah', 'skin', 'bones', 'ooh', 'turn', 'into', 'something', 'beautiful', 'aah', 'and', 'know', 'you', 'bleed', 'myself', 'dry', 'for', 'you', 'bleed', 'myself', 'dry', 'it', 'true', 'look', 'shine', 'look', 'shine', 'look', 'shine', 'look', 'shine', 'look', 'shine', 'look', 'shine', 'look', 'stars', 'look', 'shine', 'and', 'things', 'do160embed']",
         "sp_id": "3AJwUDP919kvQ9QcozQPxg",
         "danceability": 0.429,
         "energy": 0.661,
         "key": 11,
         "loudness": -7.227,
         "speechiness": 0.0281,
         "acousticness": 0.00239,
         "instrumentalness": 0.000121,
         "liveness": 0.234,
         "valence": 0.285,
         "tempo": 173.372,
         "_deepnote_index_column": 0
        }
       ]
      },
      "text/plain": "  artist_mb song_name    id  \\\n0  Coldplay    Yellow  2120   \n\n                                       lyrics_nostop  \\\n0  look stars, look shine and everything do yeah,...   \n\n                                              tokens                   sp_id  \\\n0  ['look', 'stars', 'look', 'shine', 'and', 'eve...  3AJwUDP919kvQ9QcozQPxg   \n\n   danceability  energy   key  loudness  speechiness  acousticness  \\\n0         0.429   0.661  11.0    -7.227       0.0281       0.00239   \n\n   instrumentalness  liveness  valence    tempo  \n0          0.000121     0.234    0.285  173.372  ",
      "text/html": "<div>\n<style scoped>\n    .dataframe tbody tr th:only-of-type {\n        vertical-align: middle;\n    }\n\n    .dataframe tbody tr th {\n        vertical-align: top;\n    }\n\n    .dataframe thead th {\n        text-align: right;\n    }\n</style>\n<table border=\"1\" class=\"dataframe\">\n  <thead>\n    <tr style=\"text-align: right;\">\n      <th></th>\n      <th>artist_mb</th>\n      <th>song_name</th>\n      <th>id</th>\n      <th>lyrics_nostop</th>\n      <th>tokens</th>\n      <th>sp_id</th>\n      <th>danceability</th>\n      <th>energy</th>\n      <th>key</th>\n      <th>loudness</th>\n      <th>speechiness</th>\n      <th>acousticness</th>\n      <th>instrumentalness</th>\n      <th>liveness</th>\n      <th>valence</th>\n      <th>tempo</th>\n    </tr>\n  </thead>\n  <tbody>\n    <tr>\n      <th>0</th>\n      <td>Coldplay</td>\n      <td>Yellow</td>\n      <td>2120</td>\n      <td>look stars, look shine and everything do yeah,...</td>\n      <td>['look', 'stars', 'look', 'shine', 'and', 'eve...</td>\n      <td>3AJwUDP919kvQ9QcozQPxg</td>\n      <td>0.429</td>\n      <td>0.661</td>\n      <td>11.0</td>\n      <td>-7.227</td>\n      <td>0.0281</td>\n      <td>0.00239</td>\n      <td>0.000121</td>\n      <td>0.234</td>\n      <td>0.285</td>\n      <td>173.372</td>\n    </tr>\n  </tbody>\n</table>\n</div>"
     },
     "metadata": {}
    }
   ],
   "execution_count": 42
  },
  {
   "cell_type": "code",
   "source": "artist = \"CNJEFWK\"\nsong = \"fjke\"\n\nbad_song = get_query_song_info(track_info, artist, song)\nbad_song",
   "metadata": {
    "cell_id": "4d47712d591c4e1fbbc79fe1e77e9809",
    "tags": [],
    "deepnote_to_be_reexecuted": false,
    "source_hash": "a94d87f0",
    "execution_start": 1655837300796,
    "execution_millis": 47,
    "deepnote_cell_type": "code",
    "deepnote_cell_height": 279
   },
   "outputs": [
    {
     "output_type": "execute_result",
     "execution_count": 43,
     "data": {
      "application/vnd.deepnote.dataframe.v3+json": {
       "column_count": 16,
       "row_count": 0,
       "columns": [
        {
         "name": "artist_mb",
         "dtype": "object",
         "stats": {
          "unique_count": 0,
          "nan_count": 0,
          "categories": []
         }
        },
        {
         "name": "song_name",
         "dtype": "object",
         "stats": {
          "unique_count": 0,
          "nan_count": 0,
          "categories": []
         }
        },
        {
         "name": "id",
         "dtype": "int64",
         "stats": {
          "unique_count": 0,
          "nan_count": 0,
          "min": null,
          "max": null,
          "histogram": [
           {
            "bin_start": 0,
            "bin_end": 0.1,
            "count": 0
           },
           {
            "bin_start": 0.1,
            "bin_end": 0.2,
            "count": 0
           },
           {
            "bin_start": 0.2,
            "bin_end": 0.30000000000000004,
            "count": 0
           },
           {
            "bin_start": 0.30000000000000004,
            "bin_end": 0.4,
            "count": 0
           },
           {
            "bin_start": 0.4,
            "bin_end": 0.5,
            "count": 0
           },
           {
            "bin_start": 0.5,
            "bin_end": 0.6000000000000001,
            "count": 0
           },
           {
            "bin_start": 0.6000000000000001,
            "bin_end": 0.7000000000000001,
            "count": 0
           },
           {
            "bin_start": 0.7000000000000001,
            "bin_end": 0.8,
            "count": 0
           },
           {
            "bin_start": 0.8,
            "bin_end": 0.9,
            "count": 0
           },
           {
            "bin_start": 0.9,
            "bin_end": 1,
            "count": 0
           }
          ]
         }
        },
        {
         "name": "lyrics_nostop",
         "dtype": "object",
         "stats": {
          "unique_count": 0,
          "nan_count": 0,
          "categories": []
         }
        },
        {
         "name": "tokens",
         "dtype": "object",
         "stats": {
          "unique_count": 0,
          "nan_count": 0,
          "categories": []
         }
        },
        {
         "name": "sp_id",
         "dtype": "object",
         "stats": {
          "unique_count": 0,
          "nan_count": 0,
          "categories": []
         }
        },
        {
         "name": "danceability",
         "dtype": "float64",
         "stats": {
          "unique_count": 0,
          "nan_count": 0,
          "min": null,
          "max": null,
          "histogram": [
           {
            "bin_start": 0,
            "bin_end": 0.1,
            "count": 0
           },
           {
            "bin_start": 0.1,
            "bin_end": 0.2,
            "count": 0
           },
           {
            "bin_start": 0.2,
            "bin_end": 0.30000000000000004,
            "count": 0
           },
           {
            "bin_start": 0.30000000000000004,
            "bin_end": 0.4,
            "count": 0
           },
           {
            "bin_start": 0.4,
            "bin_end": 0.5,
            "count": 0
           },
           {
            "bin_start": 0.5,
            "bin_end": 0.6000000000000001,
            "count": 0
           },
           {
            "bin_start": 0.6000000000000001,
            "bin_end": 0.7000000000000001,
            "count": 0
           },
           {
            "bin_start": 0.7000000000000001,
            "bin_end": 0.8,
            "count": 0
           },
           {
            "bin_start": 0.8,
            "bin_end": 0.9,
            "count": 0
           },
           {
            "bin_start": 0.9,
            "bin_end": 1,
            "count": 0
           }
          ]
         }
        },
        {
         "name": "energy",
         "dtype": "float64",
         "stats": {
          "unique_count": 0,
          "nan_count": 0,
          "min": null,
          "max": null,
          "histogram": [
           {
            "bin_start": 0,
            "bin_end": 0.1,
            "count": 0
           },
           {
            "bin_start": 0.1,
            "bin_end": 0.2,
            "count": 0
           },
           {
            "bin_start": 0.2,
            "bin_end": 0.30000000000000004,
            "count": 0
           },
           {
            "bin_start": 0.30000000000000004,
            "bin_end": 0.4,
            "count": 0
           },
           {
            "bin_start": 0.4,
            "bin_end": 0.5,
            "count": 0
           },
           {
            "bin_start": 0.5,
            "bin_end": 0.6000000000000001,
            "count": 0
           },
           {
            "bin_start": 0.6000000000000001,
            "bin_end": 0.7000000000000001,
            "count": 0
           },
           {
            "bin_start": 0.7000000000000001,
            "bin_end": 0.8,
            "count": 0
           },
           {
            "bin_start": 0.8,
            "bin_end": 0.9,
            "count": 0
           },
           {
            "bin_start": 0.9,
            "bin_end": 1,
            "count": 0
           }
          ]
         }
        },
        {
         "name": "key",
         "dtype": "float64",
         "stats": {
          "unique_count": 0,
          "nan_count": 0,
          "min": null,
          "max": null,
          "histogram": [
           {
            "bin_start": 0,
            "bin_end": 0.1,
            "count": 0
           },
           {
            "bin_start": 0.1,
            "bin_end": 0.2,
            "count": 0
           },
           {
            "bin_start": 0.2,
            "bin_end": 0.30000000000000004,
            "count": 0
           },
           {
            "bin_start": 0.30000000000000004,
            "bin_end": 0.4,
            "count": 0
           },
           {
            "bin_start": 0.4,
            "bin_end": 0.5,
            "count": 0
           },
           {
            "bin_start": 0.5,
            "bin_end": 0.6000000000000001,
            "count": 0
           },
           {
            "bin_start": 0.6000000000000001,
            "bin_end": 0.7000000000000001,
            "count": 0
           },
           {
            "bin_start": 0.7000000000000001,
            "bin_end": 0.8,
            "count": 0
           },
           {
            "bin_start": 0.8,
            "bin_end": 0.9,
            "count": 0
           },
           {
            "bin_start": 0.9,
            "bin_end": 1,
            "count": 0
           }
          ]
         }
        },
        {
         "name": "loudness",
         "dtype": "float64",
         "stats": {
          "unique_count": 0,
          "nan_count": 0,
          "min": null,
          "max": null,
          "histogram": [
           {
            "bin_start": 0,
            "bin_end": 0.1,
            "count": 0
           },
           {
            "bin_start": 0.1,
            "bin_end": 0.2,
            "count": 0
           },
           {
            "bin_start": 0.2,
            "bin_end": 0.30000000000000004,
            "count": 0
           },
           {
            "bin_start": 0.30000000000000004,
            "bin_end": 0.4,
            "count": 0
           },
           {
            "bin_start": 0.4,
            "bin_end": 0.5,
            "count": 0
           },
           {
            "bin_start": 0.5,
            "bin_end": 0.6000000000000001,
            "count": 0
           },
           {
            "bin_start": 0.6000000000000001,
            "bin_end": 0.7000000000000001,
            "count": 0
           },
           {
            "bin_start": 0.7000000000000001,
            "bin_end": 0.8,
            "count": 0
           },
           {
            "bin_start": 0.8,
            "bin_end": 0.9,
            "count": 0
           },
           {
            "bin_start": 0.9,
            "bin_end": 1,
            "count": 0
           }
          ]
         }
        },
        {
         "name": "speechiness",
         "dtype": "float64",
         "stats": {
          "unique_count": 0,
          "nan_count": 0,
          "min": null,
          "max": null,
          "histogram": [
           {
            "bin_start": 0,
            "bin_end": 0.1,
            "count": 0
           },
           {
            "bin_start": 0.1,
            "bin_end": 0.2,
            "count": 0
           },
           {
            "bin_start": 0.2,
            "bin_end": 0.30000000000000004,
            "count": 0
           },
           {
            "bin_start": 0.30000000000000004,
            "bin_end": 0.4,
            "count": 0
           },
           {
            "bin_start": 0.4,
            "bin_end": 0.5,
            "count": 0
           },
           {
            "bin_start": 0.5,
            "bin_end": 0.6000000000000001,
            "count": 0
           },
           {
            "bin_start": 0.6000000000000001,
            "bin_end": 0.7000000000000001,
            "count": 0
           },
           {
            "bin_start": 0.7000000000000001,
            "bin_end": 0.8,
            "count": 0
           },
           {
            "bin_start": 0.8,
            "bin_end": 0.9,
            "count": 0
           },
           {
            "bin_start": 0.9,
            "bin_end": 1,
            "count": 0
           }
          ]
         }
        },
        {
         "name": "acousticness",
         "dtype": "float64",
         "stats": {
          "unique_count": 0,
          "nan_count": 0,
          "min": null,
          "max": null,
          "histogram": [
           {
            "bin_start": 0,
            "bin_end": 0.1,
            "count": 0
           },
           {
            "bin_start": 0.1,
            "bin_end": 0.2,
            "count": 0
           },
           {
            "bin_start": 0.2,
            "bin_end": 0.30000000000000004,
            "count": 0
           },
           {
            "bin_start": 0.30000000000000004,
            "bin_end": 0.4,
            "count": 0
           },
           {
            "bin_start": 0.4,
            "bin_end": 0.5,
            "count": 0
           },
           {
            "bin_start": 0.5,
            "bin_end": 0.6000000000000001,
            "count": 0
           },
           {
            "bin_start": 0.6000000000000001,
            "bin_end": 0.7000000000000001,
            "count": 0
           },
           {
            "bin_start": 0.7000000000000001,
            "bin_end": 0.8,
            "count": 0
           },
           {
            "bin_start": 0.8,
            "bin_end": 0.9,
            "count": 0
           },
           {
            "bin_start": 0.9,
            "bin_end": 1,
            "count": 0
           }
          ]
         }
        },
        {
         "name": "instrumentalness",
         "dtype": "float64",
         "stats": {
          "unique_count": 0,
          "nan_count": 0,
          "min": null,
          "max": null,
          "histogram": [
           {
            "bin_start": 0,
            "bin_end": 0.1,
            "count": 0
           },
           {
            "bin_start": 0.1,
            "bin_end": 0.2,
            "count": 0
           },
           {
            "bin_start": 0.2,
            "bin_end": 0.30000000000000004,
            "count": 0
           },
           {
            "bin_start": 0.30000000000000004,
            "bin_end": 0.4,
            "count": 0
           },
           {
            "bin_start": 0.4,
            "bin_end": 0.5,
            "count": 0
           },
           {
            "bin_start": 0.5,
            "bin_end": 0.6000000000000001,
            "count": 0
           },
           {
            "bin_start": 0.6000000000000001,
            "bin_end": 0.7000000000000001,
            "count": 0
           },
           {
            "bin_start": 0.7000000000000001,
            "bin_end": 0.8,
            "count": 0
           },
           {
            "bin_start": 0.8,
            "bin_end": 0.9,
            "count": 0
           },
           {
            "bin_start": 0.9,
            "bin_end": 1,
            "count": 0
           }
          ]
         }
        },
        {
         "name": "liveness",
         "dtype": "float64",
         "stats": {
          "unique_count": 0,
          "nan_count": 0,
          "min": null,
          "max": null,
          "histogram": [
           {
            "bin_start": 0,
            "bin_end": 0.1,
            "count": 0
           },
           {
            "bin_start": 0.1,
            "bin_end": 0.2,
            "count": 0
           },
           {
            "bin_start": 0.2,
            "bin_end": 0.30000000000000004,
            "count": 0
           },
           {
            "bin_start": 0.30000000000000004,
            "bin_end": 0.4,
            "count": 0
           },
           {
            "bin_start": 0.4,
            "bin_end": 0.5,
            "count": 0
           },
           {
            "bin_start": 0.5,
            "bin_end": 0.6000000000000001,
            "count": 0
           },
           {
            "bin_start": 0.6000000000000001,
            "bin_end": 0.7000000000000001,
            "count": 0
           },
           {
            "bin_start": 0.7000000000000001,
            "bin_end": 0.8,
            "count": 0
           },
           {
            "bin_start": 0.8,
            "bin_end": 0.9,
            "count": 0
           },
           {
            "bin_start": 0.9,
            "bin_end": 1,
            "count": 0
           }
          ]
         }
        },
        {
         "name": "valence",
         "dtype": "float64",
         "stats": {
          "unique_count": 0,
          "nan_count": 0,
          "min": null,
          "max": null,
          "histogram": [
           {
            "bin_start": 0,
            "bin_end": 0.1,
            "count": 0
           },
           {
            "bin_start": 0.1,
            "bin_end": 0.2,
            "count": 0
           },
           {
            "bin_start": 0.2,
            "bin_end": 0.30000000000000004,
            "count": 0
           },
           {
            "bin_start": 0.30000000000000004,
            "bin_end": 0.4,
            "count": 0
           },
           {
            "bin_start": 0.4,
            "bin_end": 0.5,
            "count": 0
           },
           {
            "bin_start": 0.5,
            "bin_end": 0.6000000000000001,
            "count": 0
           },
           {
            "bin_start": 0.6000000000000001,
            "bin_end": 0.7000000000000001,
            "count": 0
           },
           {
            "bin_start": 0.7000000000000001,
            "bin_end": 0.8,
            "count": 0
           },
           {
            "bin_start": 0.8,
            "bin_end": 0.9,
            "count": 0
           },
           {
            "bin_start": 0.9,
            "bin_end": 1,
            "count": 0
           }
          ]
         }
        },
        {
         "name": "tempo",
         "dtype": "float64",
         "stats": {
          "unique_count": 0,
          "nan_count": 0,
          "min": null,
          "max": null,
          "histogram": [
           {
            "bin_start": 0,
            "bin_end": 0.1,
            "count": 0
           },
           {
            "bin_start": 0.1,
            "bin_end": 0.2,
            "count": 0
           },
           {
            "bin_start": 0.2,
            "bin_end": 0.30000000000000004,
            "count": 0
           },
           {
            "bin_start": 0.30000000000000004,
            "bin_end": 0.4,
            "count": 0
           },
           {
            "bin_start": 0.4,
            "bin_end": 0.5,
            "count": 0
           },
           {
            "bin_start": 0.5,
            "bin_end": 0.6000000000000001,
            "count": 0
           },
           {
            "bin_start": 0.6000000000000001,
            "bin_end": 0.7000000000000001,
            "count": 0
           },
           {
            "bin_start": 0.7000000000000001,
            "bin_end": 0.8,
            "count": 0
           },
           {
            "bin_start": 0.8,
            "bin_end": 0.9,
            "count": 0
           },
           {
            "bin_start": 0.9,
            "bin_end": 1,
            "count": 0
           }
          ]
         }
        },
        {
         "name": "_deepnote_index_column",
         "dtype": "object"
        }
       ],
       "rows": []
      },
      "text/plain": "Empty DataFrame\nColumns: [artist_mb, song_name, id, lyrics_nostop, tokens, sp_id, danceability, energy, key, loudness, speechiness, acousticness, instrumentalness, liveness, valence, tempo]\nIndex: []",
      "text/html": "<div>\n<style scoped>\n    .dataframe tbody tr th:only-of-type {\n        vertical-align: middle;\n    }\n\n    .dataframe tbody tr th {\n        vertical-align: top;\n    }\n\n    .dataframe thead th {\n        text-align: right;\n    }\n</style>\n<table border=\"1\" class=\"dataframe\">\n  <thead>\n    <tr style=\"text-align: right;\">\n      <th></th>\n      <th>artist_mb</th>\n      <th>song_name</th>\n      <th>id</th>\n      <th>lyrics_nostop</th>\n      <th>tokens</th>\n      <th>sp_id</th>\n      <th>danceability</th>\n      <th>energy</th>\n      <th>key</th>\n      <th>loudness</th>\n      <th>speechiness</th>\n      <th>acousticness</th>\n      <th>instrumentalness</th>\n      <th>liveness</th>\n      <th>valence</th>\n      <th>tempo</th>\n    </tr>\n  </thead>\n  <tbody>\n  </tbody>\n</table>\n</div>"
     },
     "metadata": {}
    }
   ],
   "execution_count": 43
  },
  {
   "cell_type": "markdown",
   "source": "Now we have our queries information, we need to compare it to all the other songs, to start we will use Euclidean distance",
   "metadata": {
    "cell_id": "c8cf57a0e2ff40dfaab8e2595d1ef957",
    "tags": [],
    "is_collapsed": false,
    "formattedRanges": [],
    "deepnote_cell_type": "text-cell-p"
   }
  },
  {
   "cell_type": "code",
   "source": "def song_sim(song1, song2):\n    return distance.braycurtis(song1, song2)",
   "metadata": {
    "cell_id": "fcc6bade8241452487b2d756abbaeaef",
    "tags": [],
    "deepnote_to_be_reexecuted": false,
    "source_hash": "9a074292",
    "execution_start": 1655837300844,
    "execution_millis": 3,
    "deepnote_cell_type": "code",
    "deepnote_cell_height": 99
   },
   "outputs": [],
   "execution_count": 44
  },
  {
   "cell_type": "code",
   "source": "track_info.columns",
   "metadata": {
    "cell_id": "5b24a37133c4407092b8e6bbe3b6a956",
    "tags": [],
    "deepnote_to_be_reexecuted": false,
    "source_hash": "84c8764a",
    "execution_start": 1655837300876,
    "execution_millis": 439043,
    "deepnote_cell_type": "code",
    "deepnote_cell_height": 175.75,
    "deepnote_output_heights": [
     78.75
    ]
   },
   "outputs": [
    {
     "output_type": "execute_result",
     "execution_count": 45,
     "data": {
      "text/plain": "Index(['artist_mb', 'song_name', 'id', 'lyrics_nostop', 'tokens', 'sp_id',\n       'danceability', 'energy', 'key', 'loudness', 'speechiness',\n       'acousticness', 'instrumentalness', 'liveness', 'valence', 'tempo'],\n      dtype='object')"
     },
     "metadata": {}
    }
   ],
   "execution_count": 45
  },
  {
   "cell_type": "code",
   "source": "compare = ['danceability', 'energy', 'key', 'loudness', 'speechiness','acousticness', \n            'instrumentalness', 'liveness', 'valence', 'tempo']",
   "metadata": {
    "cell_id": "c14a362f4b894718a819068f1bbaf213",
    "tags": [],
    "deepnote_to_be_reexecuted": false,
    "source_hash": "28b457c",
    "execution_start": 1655837300877,
    "execution_millis": 5,
    "deepnote_cell_type": "code",
    "deepnote_cell_height": 99
   },
   "outputs": [],
   "execution_count": 46
  },
  {
   "cell_type": "code",
   "source": "comp_query = good_song[compare]\n#comp_query = comp_query.apply(pd.to_numeric)\ncomp_query = comp_query.iloc[0]\ncomp_query = comp_query.to_list()\n",
   "metadata": {
    "cell_id": "6d87a7f770f8487a9e0bf67fff6b5494",
    "tags": [],
    "deepnote_to_be_reexecuted": false,
    "source_hash": "74ef94ec",
    "execution_start": 1655838232679,
    "execution_millis": 0,
    "deepnote_cell_type": "code",
    "deepnote_cell_height": 153
   },
   "outputs": [],
   "execution_count": 57
  },
  {
   "cell_type": "code",
   "source": "comp_df = track_info[compare]\ncomp_df = comp_df.apply(pd.to_numeric)\n",
   "metadata": {
    "cell_id": "4780a5f8f53b4ebb9000389b6ab40695",
    "tags": [],
    "deepnote_to_be_reexecuted": false,
    "source_hash": "d9ef45ee",
    "execution_start": 1655837300883,
    "execution_millis": 2,
    "deepnote_cell_type": "code",
    "deepnote_cell_height": 117
   },
   "outputs": [],
   "execution_count": 48
  },
  {
   "cell_type": "code",
   "source": "# distance = comp_df.apply(lambda x : \n#             song_sim(list(x), comp_query.to_list()), axis = 1)",
   "metadata": {
    "cell_id": "74883ce438c74960a9ccb1f9eadceae1",
    "tags": [],
    "deepnote_to_be_reexecuted": false,
    "source_hash": "9501947b",
    "execution_start": 1655837300886,
    "execution_millis": 3,
    "deepnote_cell_type": "code",
    "deepnote_cell_height": 99
   },
   "outputs": [],
   "execution_count": 49
  },
  {
   "cell_type": "code",
   "source": "\ntrack_info[\"distance_from_query\"] = comp_df.apply(lambda x : \n            song_sim(x.to_list(), \n            comp_query), axis = 1)",
   "metadata": {
    "cell_id": "0717ece5b5d64e19887eb6b874935d6e",
    "tags": [],
    "deepnote_to_be_reexecuted": false,
    "source_hash": "6b1552c9",
    "execution_start": 1655837300893,
    "execution_millis": 69,
    "deepnote_cell_type": "code",
    "deepnote_cell_height": 135
   },
   "outputs": [],
   "execution_count": 50
  },
  {
   "cell_type": "code",
   "source": "",
   "metadata": {
    "cell_id": "e8f26dd862e24fee9335fef803e47b9e",
    "tags": [],
    "deepnote_to_be_reexecuted": false,
    "source_hash": "22ce5565",
    "execution_start": 1655837300964,
    "execution_millis": 12,
    "deepnote_cell_type": "code",
    "deepnote_cell_height": 118.1875,
    "deepnote_output_heights": [
     21.1875
    ]
   },
   "outputs": [
    {
     "output_type": "execute_result",
     "execution_count": 51,
     "data": {
      "text/plain": "<module 'scipy.spatial.distance' from '/shared-libs/python3.7/py/lib/python3.7/site-packages/scipy/spatial/distance.py'>"
     },
     "metadata": {}
    }
   ],
   "execution_count": 51
  },
  {
   "cell_type": "code",
   "source": "track_info.head()",
   "metadata": {
    "cell_id": "edafe8175038456d8df67339c93659ac",
    "tags": [],
    "deepnote_to_be_reexecuted": false,
    "source_hash": "3f014b94",
    "execution_start": 1655837321872,
    "execution_millis": 13,
    "deepnote_cell_type": "code",
    "deepnote_cell_height": 412
   },
   "outputs": [
    {
     "output_type": "execute_result",
     "execution_count": 53,
     "data": {
      "application/vnd.deepnote.dataframe.v3+json": {
       "column_count": 17,
       "row_count": 5,
       "columns": [
        {
         "name": "artist_mb",
         "dtype": "object",
         "stats": {
          "unique_count": 1,
          "nan_count": 0,
          "categories": [
           {
            "name": "Coldplay",
            "count": 5
           }
          ]
         }
        },
        {
         "name": "song_name",
         "dtype": "object",
         "stats": {
          "unique_count": 5,
          "nan_count": 0,
          "categories": [
           {
            "name": "Viva la Vida",
            "count": 1
           },
           {
            "name": "Hymn for the Weekend",
            "count": 1
           },
           {
            "name": "3 others",
            "count": 3
           }
          ]
         }
        },
        {
         "name": "id",
         "dtype": "int64",
         "stats": {
          "unique_count": 5,
          "nan_count": 0,
          "min": "399",
          "max": "2169",
          "histogram": [
           {
            "bin_start": 399,
            "bin_end": 576,
            "count": 1
           },
           {
            "bin_start": 576,
            "bin_end": 753,
            "count": 0
           },
           {
            "bin_start": 753,
            "bin_end": 930,
            "count": 1
           },
           {
            "bin_start": 930,
            "bin_end": 1107,
            "count": 1
           },
           {
            "bin_start": 1107,
            "bin_end": 1284,
            "count": 0
           },
           {
            "bin_start": 1284,
            "bin_end": 1461,
            "count": 0
           },
           {
            "bin_start": 1461,
            "bin_end": 1638,
            "count": 0
           },
           {
            "bin_start": 1638,
            "bin_end": 1815,
            "count": 0
           },
           {
            "bin_start": 1815,
            "bin_end": 1992,
            "count": 0
           },
           {
            "bin_start": 1992,
            "bin_end": 2169,
            "count": 2
           }
          ]
         }
        },
        {
         "name": "lyrics_nostop",
         "dtype": "object",
         "stats": {
          "unique_count": 5,
          "nan_count": 0,
          "categories": [
           {
            "name": "i used rule world seas would rise i gave word now morning, i sleep alone sweep streets i used own i used roll dice feel fear enemy's eyes listened crowd would sing \"now old king dead, long live king\" one minute i held key next, walls were closed and i discovered castles stand upon pillars salt pillars sand i hear jerusalem bells a-ringing roman cavalry choirs singing be mirror, sword shield my missionaries foreign field for reason, i can't explain once you'd gone, never never honest word and i ruled world it wicked wild wind blew down doors let shattered windows sound drums people couldn't believe i'd become revolutionaries wait for head silver plate just puppet lonely string (mmm, mmm) oh, would ever want king? i hear jerusalem bells a-ringing roman cavalry choirs singing be mirror, sword shield my missionaries foreign field for reason, i can't explain i know saint peter won't call name never honest word but i ruled world (oh-oh-oh, oh-oh-woah) (oh-oh-oh, oh-oh-woah) (oh-oh-oh, oh-oh-woah) (oh-oh-oh, oh-oh-woah) (oh-oh-oh, oh-oh-woah) hear jerusalem bells a-ringing (oh-oh-oh, oh-oh-woah) roman cavalry choirs singing (oh-oh-oh, oh-oh-woah) be mirror, sword shield (oh-oh-oh, oh-oh-woah) my missionaries foreign field (oh-oh-oh, oh-oh-woah) for reason, i can't explain (oh-oh-oh, oh-oh-woah) i know saint peter won't call name never honest word but i ruled world mmm, mmm, mmm, mmm mmm, mmm, mmm, mmm mmm, mmm227embed",
            "count": 1
           },
           {
            "name": "and said drink me, drink (oh-ah-oh-ah) that we shoot across sky symphony that we shoot across sky pour a... drink me, drink (oh-ah-oh-ah) that we shoot across sky symphony (so high, so high) that we shoot across sky oh, angel sent up above you know make world light up when i down, i hurt you came lift up life drink love's drug oh now i think i must miles up when i river dried up you came rain flood you said drink me, drink when i so thirsty poured symphony now i just can't get enough put wings me, wings when i so heavy poured symphony when i'm low, low, low, low i, oh-i, oh-i got feeling drunk high, so high, so high oh-i, oh-i, oh-i now i’m feeling drunk high, so high, so high (woo) (woo-ooo-ooo-woo) oh, angel sent up above i feel coursing through blood life drink love's about to make stars come out put wings me, wings when i so heavy poured symphony when i'm low, low, low, low i, oh-i, oh-i got feeling drunk high, so high, so high oh-i, oh-i, oh-i i’m feeling drunk high, so high, so high i, oh-i, oh-i la, la, la, la, la, la, la, so high, so high i, oh-i, oh-i now i'm feeling drunk high, so high, so high that i shoot across sky that i shoot across the... that i shoot across sky let shoot across the... (let shoot) let shoot across sky let shoot across the... let shoot across sky that we shoot across the...64embed",
            "count": 1
           },
           {
            "name": "3 others",
            "count": 3
           }
          ]
         }
        },
        {
         "name": "tokens",
         "dtype": "object",
         "stats": {
          "unique_count": 5,
          "nan_count": 0,
          "categories": [
           {
            "name": "['used', 'rule', 'world', 'seas', 'would', 'rise', 'gave', 'word', 'now', 'morning', 'sleep', 'alone', 'sweep', 'streets', 'used', 'own', 'used', 'roll', 'dice', 'feel', 'fear', 'enemy', 'eyes', 'listened', 'crowd', 'would', 'sing', 'now', 'old', 'king', 'dead', 'long', 'live', 'king', 'one', 'minute', 'held', 'key', 'next', 'walls', 'were', 'closed', 'and', 'discovered', 'castles', 'stand', 'upon', 'pillars', 'salt', 'pillars', 'sand', 'hear', 'jerusalem', 'bells', 'ringing', 'roman', 'cavalry', 'choirs', 'singing', 'be', 'mirror', 'sword', 'shield', 'my', 'missionaries', 'foreign', 'field', 'for', 'reason', 'can', 'explain', 'once', 'you', 'gone', 'never', 'never', 'honest', 'word', 'and', 'ruled', 'world', 'it', 'wicked', 'wild', 'wind', 'blew', 'down', 'doors', 'let', 'shattered', 'windows', 'sound', 'drums', 'people', 'couldn', 'believe', 'become', 'revolutionaries', 'wait', 'for', 'head', 'silver', 'plate', 'just', 'puppet', 'lonely', 'string', 'mmm', 'mmm', 'oh', 'would', 'ever', 'want', 'king', 'hear', 'jerusalem', 'bells', 'ringing', 'roman', 'cavalry', 'choirs', 'singing', 'be', 'mirror', 'sword', 'shield', 'my', 'missionaries', 'foreign', 'field', 'for', 'reason', 'can', 'explain', 'know', 'saint', 'peter', 'won', 'call', 'name', 'never', 'honest', 'word', 'but', 'ruled', 'world', 'oh', 'oh', 'oh', 'oh', 'oh', 'woah', 'oh', 'oh', 'oh', 'oh', 'oh', 'woah', 'oh', 'oh', 'oh', 'oh', 'oh', 'woah', 'oh', 'oh', 'oh', 'oh', 'oh', 'woah', 'oh', 'oh', 'oh', 'oh', 'oh', 'woah', 'hear', 'jerusalem', 'bells', 'ringing', 'oh', 'oh', 'oh', 'oh', 'oh', 'woah', 'roman', 'cavalry', 'choirs', 'singing', 'oh', 'oh', 'oh', 'oh', 'oh', 'woah', 'be', 'mirror', 'sword', 'shield', 'oh', 'oh', 'oh', 'oh', 'oh', 'woah', 'my', 'missionaries', 'foreign', 'field', 'oh', 'oh', 'oh', 'oh', 'oh', 'woah', 'for', 'reason', 'can', 'explain', 'oh', 'oh', 'oh', 'oh', 'oh', 'woah', 'know', 'saint', 'peter', 'won', 'call', 'name', 'never', 'honest', 'word', 'but', 'ruled', 'world', 'mmm', 'mmm', 'mmm', 'mmm', 'mmm', 'mmm', 'mmm', 'mmm', 'mmm', 'mmm227embed']",
            "count": 1
           },
           {
            "name": "['and', 'said', 'drink', 'me', 'drink', 'oh', 'ah', 'oh', 'ah', 'that', 'we', 'shoot', 'across', 'sky', 'symphony', 'that', 'we', 'shoot', 'across', 'sky', 'pour', 'drink', 'me', 'drink', 'oh', 'ah', 'oh', 'ah', 'that', 'we', 'shoot', 'across', 'sky', 'symphony', 'so', 'high', 'so', 'high', 'that', 'we', 'shoot', 'across', 'sky', 'oh', 'angel', 'sent', 'up', 'above', 'you', 'know', 'make', 'world', 'light', 'up', 'when', 'down', 'hurt', 'you', 'came', 'lift', 'up', 'life', 'drink', 'love', 'drug', 'oh', 'now', 'think', 'must', 'miles', 'up', 'when', 'river', 'dried', 'up', 'you', 'came', 'rain', 'flood', 'you', 'said', 'drink', 'me', 'drink', 'when', 'so', 'thirsty', 'poured', 'symphony', 'now', 'just', 'can', 'get', 'enough', 'put', 'wings', 'me', 'wings', 'when', 'so', 'heavy', 'poured', 'symphony', 'when', 'low', 'low', 'low', 'low', 'oh', 'oh', 'got', 'feeling', 'drunk', 'high', 'so', 'high', 'so', 'high', 'oh', 'oh', 'oh', 'now', 'feeling', 'drunk', 'high', 'so', 'high', 'so', 'high', 'woo', 'woo', 'ooo', 'ooo', 'woo', 'oh', 'angel', 'sent', 'up', 'above', 'feel', 'coursing', 'through', 'blood', 'life', 'drink', 'love', 'about', 'to', 'make', 'stars', 'come', 'out', 'put', 'wings', 'me', 'wings', 'when', 'so', 'heavy', 'poured', 'symphony', 'when', 'low', 'low', 'low', 'low', 'oh', 'oh', 'got', 'feeling', 'drunk', 'high', 'so', 'high', 'so', 'high', 'oh', 'oh', 'oh', 'feeling', 'drunk', 'high', 'so', 'high', 'so', 'high', 'oh', 'oh', 'la', 'la', 'la', 'la', 'la', 'la', 'la', 'so', 'high', 'so', 'high', 'oh', 'oh', 'now', 'feeling', 'drunk', 'high', 'so', 'high', 'so', 'high', 'that', 'shoot', 'across', 'sky', 'that', 'shoot', 'across', 'the', 'that', 'shoot', 'across', 'sky', 'let', 'shoot', 'across', 'the', 'let', 'shoot', 'let', 'shoot', 'across', 'sky', 'let', 'shoot', 'across', 'the', 'let', 'shoot', 'across', 'sky', 'that', 'we', 'shoot', 'across', 'the', '64embed']",
            "count": 1
           },
           {
            "name": "3 others",
            "count": 3
           }
          ]
         }
        },
        {
         "name": "sp_id",
         "dtype": "object",
         "stats": {
          "unique_count": 5,
          "nan_count": 0,
          "categories": [
           {
            "name": "1mea3bSkSGXuIRvnydlB5b",
            "count": 1
           },
           {
            "name": "3RiPr603aXAoi4GHyXx0uy",
            "count": 1
           },
           {
            "name": "3 others",
            "count": 3
           }
          ]
         }
        },
        {
         "name": "danceability",
         "dtype": "float64",
         "stats": {
          "unique_count": 5,
          "nan_count": 0,
          "min": "0.209",
          "max": "0.557",
          "histogram": [
           {
            "bin_start": 0.209,
            "bin_end": 0.24380000000000002,
            "count": 1
           },
           {
            "bin_start": 0.24380000000000002,
            "bin_end": 0.2786,
            "count": 0
           },
           {
            "bin_start": 0.2786,
            "bin_end": 0.3134,
            "count": 0
           },
           {
            "bin_start": 0.3134,
            "bin_end": 0.34820000000000007,
            "count": 0
           },
           {
            "bin_start": 0.34820000000000007,
            "bin_end": 0.383,
            "count": 0
           },
           {
            "bin_start": 0.383,
            "bin_end": 0.41780000000000006,
            "count": 0
           },
           {
            "bin_start": 0.41780000000000006,
            "bin_end": 0.4526000000000001,
            "count": 1
           },
           {
            "bin_start": 0.4526000000000001,
            "bin_end": 0.48740000000000006,
            "count": 1
           },
           {
            "bin_start": 0.48740000000000006,
            "bin_end": 0.5222000000000001,
            "count": 1
           },
           {
            "bin_start": 0.5222000000000001,
            "bin_end": 0.557,
            "count": 1
           }
          ]
         }
        },
        {
         "name": "energy",
         "dtype": "float64",
         "stats": {
          "unique_count": 5,
          "nan_count": 0,
          "min": "0.417",
          "max": "0.693",
          "histogram": [
           {
            "bin_start": 0.417,
            "bin_end": 0.4446,
            "count": 2
           },
           {
            "bin_start": 0.4446,
            "bin_end": 0.47219999999999995,
            "count": 0
           },
           {
            "bin_start": 0.47219999999999995,
            "bin_end": 0.49979999999999997,
            "count": 0
           },
           {
            "bin_start": 0.49979999999999997,
            "bin_end": 0.5274,
            "count": 0
           },
           {
            "bin_start": 0.5274,
            "bin_end": 0.5549999999999999,
            "count": 0
           },
           {
            "bin_start": 0.5549999999999999,
            "bin_end": 0.5826,
            "count": 0
           },
           {
            "bin_start": 0.5826,
            "bin_end": 0.6102,
            "count": 0
           },
           {
            "bin_start": 0.6102,
            "bin_end": 0.6377999999999999,
            "count": 1
           },
           {
            "bin_start": 0.6377999999999999,
            "bin_end": 0.6654,
            "count": 1
           },
           {
            "bin_start": 0.6654,
            "bin_end": 0.693,
            "count": 1
           }
          ]
         }
        },
        {
         "name": "key",
         "dtype": "float64",
         "stats": {
          "unique_count": 4,
          "nan_count": 0,
          "min": "0.0",
          "max": "11.0",
          "histogram": [
           {
            "bin_start": 0,
            "bin_end": 1.1,
            "count": 1
           },
           {
            "bin_start": 1.1,
            "bin_end": 2.2,
            "count": 0
           },
           {
            "bin_start": 2.2,
            "bin_end": 3.3000000000000003,
            "count": 1
           },
           {
            "bin_start": 3.3000000000000003,
            "bin_end": 4.4,
            "count": 0
           },
           {
            "bin_start": 4.4,
            "bin_end": 5.5,
            "count": 2
           },
           {
            "bin_start": 5.5,
            "bin_end": 6.6000000000000005,
            "count": 0
           },
           {
            "bin_start": 6.6000000000000005,
            "bin_end": 7.700000000000001,
            "count": 0
           },
           {
            "bin_start": 7.700000000000001,
            "bin_end": 8.8,
            "count": 0
           },
           {
            "bin_start": 8.8,
            "bin_end": 9.9,
            "count": 0
           },
           {
            "bin_start": 9.9,
            "bin_end": 11,
            "count": 1
           }
          ]
         }
        },
        {
         "name": "loudness",
         "dtype": "float64",
         "stats": {
          "unique_count": 5,
          "nan_count": 0,
          "min": "-8.74",
          "max": "-6.487",
          "histogram": [
           {
            "bin_start": -8.74,
            "bin_end": -8.5147,
            "count": 1
           },
           {
            "bin_start": -8.5147,
            "bin_end": -8.2894,
            "count": 0
           },
           {
            "bin_start": -8.2894,
            "bin_end": -8.0641,
            "count": 0
           },
           {
            "bin_start": -8.0641,
            "bin_end": -7.8388,
            "count": 0
           },
           {
            "bin_start": -7.8388,
            "bin_end": -7.6135,
            "count": 0
           },
           {
            "bin_start": -7.6135,
            "bin_end": -7.3882,
            "count": 0
           },
           {
            "bin_start": -7.3882,
            "bin_end": -7.1629000000000005,
            "count": 2
           },
           {
            "bin_start": -7.1629000000000005,
            "bin_end": -6.9376,
            "count": 1
           },
           {
            "bin_start": -6.9376,
            "bin_end": -6.712300000000001,
            "count": 0
           },
           {
            "bin_start": -6.712300000000001,
            "bin_end": -6.487,
            "count": 1
           }
          ]
         }
        },
        {
         "name": "speechiness",
         "dtype": "float64",
         "stats": {
          "unique_count": 5,
          "nan_count": 0,
          "min": "0.0243",
          "max": "0.0377",
          "histogram": [
           {
            "bin_start": 0.0243,
            "bin_end": 0.02564,
            "count": 1
           },
           {
            "bin_start": 0.02564,
            "bin_end": 0.026979999999999997,
            "count": 0
           },
           {
            "bin_start": 0.026979999999999997,
            "bin_end": 0.028319999999999998,
            "count": 1
           },
           {
            "bin_start": 0.028319999999999998,
            "bin_end": 0.02966,
            "count": 1
           },
           {
            "bin_start": 0.02966,
            "bin_end": 0.031,
            "count": 0
           },
           {
            "bin_start": 0.031,
            "bin_end": 0.032339999999999994,
            "count": 0
           },
           {
            "bin_start": 0.032339999999999994,
            "bin_end": 0.03368,
            "count": 0
           },
           {
            "bin_start": 0.03368,
            "bin_end": 0.035019999999999996,
            "count": 1
           },
           {
            "bin_start": 0.035019999999999996,
            "bin_end": 0.036359999999999996,
            "count": 0
           },
           {
            "bin_start": 0.036359999999999996,
            "bin_end": 0.0377,
            "count": 1
           }
          ]
         }
        },
        {
         "name": "acousticness",
         "dtype": "float64",
         "stats": {
          "unique_count": 5,
          "nan_count": 0,
          "min": "0.00239",
          "max": "0.731",
          "histogram": [
           {
            "bin_start": 0.00239,
            "bin_end": 0.075251,
            "count": 1
           },
           {
            "bin_start": 0.075251,
            "bin_end": 0.148112,
            "count": 1
           },
           {
            "bin_start": 0.148112,
            "bin_end": 0.22097299999999997,
            "count": 2
           },
           {
            "bin_start": 0.22097299999999997,
            "bin_end": 0.293834,
            "count": 0
           },
           {
            "bin_start": 0.293834,
            "bin_end": 0.366695,
            "count": 0
           },
           {
            "bin_start": 0.366695,
            "bin_end": 0.43955599999999995,
            "count": 0
           },
           {
            "bin_start": 0.43955599999999995,
            "bin_end": 0.512417,
            "count": 0
           },
           {
            "bin_start": 0.512417,
            "bin_end": 0.585278,
            "count": 0
           },
           {
            "bin_start": 0.585278,
            "bin_end": 0.6581389999999999,
            "count": 0
           },
           {
            "bin_start": 0.6581389999999999,
            "bin_end": 0.731,
            "count": 1
           }
          ]
         }
        },
        {
         "name": "instrumentalness",
         "dtype": "float64",
         "stats": {
          "unique_count": 5,
          "nan_count": 0,
          "min": "3.23e-06",
          "max": "0.00196",
          "histogram": [
           {
            "bin_start": 0.00000323,
            "bin_end": 0.000198907,
            "count": 4
           },
           {
            "bin_start": 0.000198907,
            "bin_end": 0.000394584,
            "count": 0
           },
           {
            "bin_start": 0.000394584,
            "bin_end": 0.000590261,
            "count": 0
           },
           {
            "bin_start": 0.000590261,
            "bin_end": 0.000785938,
            "count": 0
           },
           {
            "bin_start": 0.000785938,
            "bin_end": 0.000981615,
            "count": 0
           },
           {
            "bin_start": 0.000981615,
            "bin_end": 0.001177292,
            "count": 0
           },
           {
            "bin_start": 0.001177292,
            "bin_end": 0.001372969,
            "count": 0
           },
           {
            "bin_start": 0.001372969,
            "bin_end": 0.001568646,
            "count": 0
           },
           {
            "bin_start": 0.001568646,
            "bin_end": 0.001764323,
            "count": 0
           },
           {
            "bin_start": 0.001764323,
            "bin_end": 0.00196,
            "count": 1
           }
          ]
         }
        },
        {
         "name": "liveness",
         "dtype": "float64",
         "stats": {
          "unique_count": 5,
          "nan_count": 0,
          "min": "0.109",
          "max": "0.325",
          "histogram": [
           {
            "bin_start": 0.109,
            "bin_end": 0.1306,
            "count": 3
           },
           {
            "bin_start": 0.1306,
            "bin_end": 0.1522,
            "count": 0
           },
           {
            "bin_start": 0.1522,
            "bin_end": 0.1738,
            "count": 0
           },
           {
            "bin_start": 0.1738,
            "bin_end": 0.19540000000000002,
            "count": 0
           },
           {
            "bin_start": 0.19540000000000002,
            "bin_end": 0.21700000000000003,
            "count": 0
           },
           {
            "bin_start": 0.21700000000000003,
            "bin_end": 0.23859999999999998,
            "count": 1
           },
           {
            "bin_start": 0.23859999999999998,
            "bin_end": 0.2602,
            "count": 0
           },
           {
            "bin_start": 0.2602,
            "bin_end": 0.2818,
            "count": 0
           },
           {
            "bin_start": 0.2818,
            "bin_end": 0.3034,
            "count": 0
           },
           {
            "bin_start": 0.3034,
            "bin_end": 0.325,
            "count": 1
           }
          ]
         }
        },
        {
         "name": "valence",
         "dtype": "float64",
         "stats": {
          "unique_count": 5,
          "nan_count": 0,
          "min": "0.124",
          "max": "0.417",
          "histogram": [
           {
            "bin_start": 0.124,
            "bin_end": 0.1533,
            "count": 1
           },
           {
            "bin_start": 0.1533,
            "bin_end": 0.18259999999999998,
            "count": 0
           },
           {
            "bin_start": 0.18259999999999998,
            "bin_end": 0.2119,
            "count": 0
           },
           {
            "bin_start": 0.2119,
            "bin_end": 0.2412,
            "count": 1
           },
           {
            "bin_start": 0.2412,
            "bin_end": 0.27049999999999996,
            "count": 0
           },
           {
            "bin_start": 0.27049999999999996,
            "bin_end": 0.2998,
            "count": 1
           },
           {
            "bin_start": 0.2998,
            "bin_end": 0.3291,
            "count": 0
           },
           {
            "bin_start": 0.3291,
            "bin_end": 0.3584,
            "count": 0
           },
           {
            "bin_start": 0.3584,
            "bin_end": 0.3877,
            "count": 0
           },
           {
            "bin_start": 0.3877,
            "bin_end": 0.417,
            "count": 2
           }
          ]
         }
        },
        {
         "name": "tempo",
         "dtype": "float64",
         "stats": {
          "unique_count": 5,
          "nan_count": 0,
          "min": "90.027",
          "max": "173.372",
          "histogram": [
           {
            "bin_start": 90.027,
            "bin_end": 98.3615,
            "count": 1
           },
           {
            "bin_start": 98.3615,
            "bin_end": 106.696,
            "count": 0
           },
           {
            "bin_start": 106.696,
            "bin_end": 115.0305,
            "count": 0
           },
           {
            "bin_start": 115.0305,
            "bin_end": 123.36500000000001,
            "count": 0
           },
           {
            "bin_start": 123.36500000000001,
            "bin_end": 131.6995,
            "count": 0
           },
           {
            "bin_start": 131.6995,
            "bin_end": 140.03400000000002,
            "count": 2
           },
           {
            "bin_start": 140.03400000000002,
            "bin_end": 148.3685,
            "count": 1
           },
           {
            "bin_start": 148.3685,
            "bin_end": 156.70300000000003,
            "count": 0
           },
           {
            "bin_start": 156.70300000000003,
            "bin_end": 165.03750000000002,
            "count": 0
           },
           {
            "bin_start": 165.03750000000002,
            "bin_end": 173.372,
            "count": 1
           }
          ]
         }
        },
        {
         "name": "distance_from_query",
         "dtype": "float64",
         "stats": {
          "unique_count": 5,
          "nan_count": 0,
          "min": "0.0",
          "max": "0.32753687611579924",
          "histogram": [
           {
            "bin_start": 0,
            "bin_end": 0.03275368761157992,
            "count": 1
           },
           {
            "bin_start": 0.03275368761157992,
            "bin_end": 0.06550737522315984,
            "count": 0
           },
           {
            "bin_start": 0.06550737522315984,
            "bin_end": 0.09826106283473976,
            "count": 1
           },
           {
            "bin_start": 0.09826106283473976,
            "bin_end": 0.1310147504463197,
            "count": 1
           },
           {
            "bin_start": 0.1310147504463197,
            "bin_end": 0.16376843805789962,
            "count": 1
           },
           {
            "bin_start": 0.16376843805789962,
            "bin_end": 0.19652212566947952,
            "count": 0
           },
           {
            "bin_start": 0.19652212566947952,
            "bin_end": 0.22927581328105945,
            "count": 0
           },
           {
            "bin_start": 0.22927581328105945,
            "bin_end": 0.2620295008926394,
            "count": 0
           },
           {
            "bin_start": 0.2620295008926394,
            "bin_end": 0.2947831885042193,
            "count": 0
           },
           {
            "bin_start": 0.2947831885042193,
            "bin_end": 0.32753687611579924,
            "count": 1
           }
          ]
         }
        },
        {
         "name": "_deepnote_index_column",
         "dtype": "int64"
        }
       ],
       "rows": [
        {
         "artist_mb": "Coldplay",
         "song_name": "Viva la Vida",
         "id": 399,
         "lyrics_nostop": "i used rule world seas would rise i gave word now morning, i sleep alone sweep streets i used own i used roll dice feel fear enemy's eyes listened crowd would sing \"now old king dead, long live king\" one minute i held key next, walls were closed and i discovered castles stand upon pillars salt pillars sand i hear jerusalem bells a-ringing roman cavalry choirs singing be mirror, sword shield my missionaries foreign field for reason, i can't explain once you'd gone, never never honest word and i ruled world it wicked wild wind blew down doors let shattered windows sound drums people couldn't believe i'd become revolutionaries wait for head silver plate just puppet lonely string (mmm, mmm) oh, would ever want king? i hear jerusalem bells a-ringing roman cavalry choirs singing be mirror, sword shield my missionaries foreign field for reason, i can't explain i know saint peter won't call name never honest word but i ruled world (oh-oh-oh, oh-oh-woah) (oh-oh-oh, oh-oh-woah) (oh-oh-oh, oh-oh…",
         "tokens": "['used', 'rule', 'world', 'seas', 'would', 'rise', 'gave', 'word', 'now', 'morning', 'sleep', 'alone', 'sweep', 'streets', 'used', 'own', 'used', 'roll', 'dice', 'feel', 'fear', 'enemy', 'eyes', 'listened', 'crowd', 'would', 'sing', 'now', 'old', 'king', 'dead', 'long', 'live', 'king', 'one', 'minute', 'held', 'key', 'next', 'walls', 'were', 'closed', 'and', 'discovered', 'castles', 'stand', 'upon', 'pillars', 'salt', 'pillars', 'sand', 'hear', 'jerusalem', 'bells', 'ringing', 'roman', 'cavalry', 'choirs', 'singing', 'be', 'mirror', 'sword', 'shield', 'my', 'missionaries', 'foreign', 'field', 'for', 'reason', 'can', 'explain', 'once', 'you', 'gone', 'never', 'never', 'honest', 'word', 'and', 'ruled', 'world', 'it', 'wicked', 'wild', 'wind', 'blew', 'down', 'doors', 'let', 'shattered', 'windows', 'sound', 'drums', 'people', 'couldn', 'believe', 'become', 'revolutionaries', 'wait', 'for', 'head', 'silver', 'plate', 'just', 'puppet', 'lonely', 'string', 'mmm', 'mmm', 'oh', 'would', 'ever…",
         "sp_id": "1mea3bSkSGXuIRvnydlB5b",
         "danceability": 0.486,
         "energy": 0.617,
         "key": 5,
         "loudness": -7.115,
         "speechiness": 0.0287,
         "acousticness": 0.0954,
         "instrumentalness": 0.00000323,
         "liveness": 0.109,
         "valence": 0.417,
         "tempo": 138.015,
         "distance_from_query": 0.12146650309595626,
         "_deepnote_index_column": 0
        },
        {
         "artist_mb": "Coldplay",
         "song_name": "Hymn for the Weekend",
         "id": 787,
         "lyrics_nostop": "and said drink me, drink (oh-ah-oh-ah) that we shoot across sky symphony that we shoot across sky pour a... drink me, drink (oh-ah-oh-ah) that we shoot across sky symphony (so high, so high) that we shoot across sky oh, angel sent up above you know make world light up when i down, i hurt you came lift up life drink love's drug oh now i think i must miles up when i river dried up you came rain flood you said drink me, drink when i so thirsty poured symphony now i just can't get enough put wings me, wings when i so heavy poured symphony when i'm low, low, low, low i, oh-i, oh-i got feeling drunk high, so high, so high oh-i, oh-i, oh-i now i’m feeling drunk high, so high, so high (woo) (woo-ooo-ooo-woo) oh, angel sent up above i feel coursing through blood life drink love's about to make stars come out put wings me, wings when i so heavy poured symphony when i'm low, low, low, low i, oh-i, oh-i got feeling drunk high, so high, so high oh-i, oh-i, oh-i i’m feeling drunk high, so high, so …",
         "tokens": "['and', 'said', 'drink', 'me', 'drink', 'oh', 'ah', 'oh', 'ah', 'that', 'we', 'shoot', 'across', 'sky', 'symphony', 'that', 'we', 'shoot', 'across', 'sky', 'pour', 'drink', 'me', 'drink', 'oh', 'ah', 'oh', 'ah', 'that', 'we', 'shoot', 'across', 'sky', 'symphony', 'so', 'high', 'so', 'high', 'that', 'we', 'shoot', 'across', 'sky', 'oh', 'angel', 'sent', 'up', 'above', 'you', 'know', 'make', 'world', 'light', 'up', 'when', 'down', 'hurt', 'you', 'came', 'lift', 'up', 'life', 'drink', 'love', 'drug', 'oh', 'now', 'think', 'must', 'miles', 'up', 'when', 'river', 'dried', 'up', 'you', 'came', 'rain', 'flood', 'you', 'said', 'drink', 'me', 'drink', 'when', 'so', 'thirsty', 'poured', 'symphony', 'now', 'just', 'can', 'get', 'enough', 'put', 'wings', 'me', 'wings', 'when', 'so', 'heavy', 'poured', 'symphony', 'when', 'low', 'low', 'low', 'low', 'oh', 'oh', 'got', 'feeling', 'drunk', 'high', 'so', 'high', 'so', 'high', 'oh', 'oh', 'oh', 'now', 'feeling', 'drunk', 'high', 'so', 'high', 'so', 'h…",
         "sp_id": "3RiPr603aXAoi4GHyXx0uy",
         "danceability": 0.491,
         "energy": 0.693,
         "key": 0,
         "loudness": -6.487,
         "speechiness": 0.0377,
         "acousticness": 0.211,
         "instrumentalness": 0.00000692,
         "liveness": 0.325,
         "valence": 0.412,
         "tempo": 90.027,
         "distance_from_query": 0.32753687611579924,
         "_deepnote_index_column": 1
        },
        {
         "artist_mb": "Coldplay",
         "song_name": "The Scientist",
         "id": 1075,
         "lyrics_nostop": "come up meet you, tell i'm sorry you don't know lovely i had find you, tell i need tell i set apart tell secrets, ask questions oh, let's go back start running circles, coming up tails heads science apart nobody said easy it's such shame part nobody said easy no one ever said would hard oh, take back start i just guessing numbers figures pulling puzzles apart questions science, science progress do not speak loud heart tell love me, come back haunt oh, i rush start running circles, chasing tails coming back we nobody said easy oh, it's such shame part nobody said easy no one ever said would so hard i'm going back start oh-ooh ooh-ooh-ooh-ooh ah-ooh ooh-ooh-ooh-ooh oh-ooh ooh-ooh-ooh-ooh oh-ooh ooh-ooh-ooh-ooh216embed",
         "tokens": "['come', 'up', 'meet', 'you', 'tell', 'sorry', 'you', 'don', 'know', 'lovely', 'had', 'find', 'you', 'tell', 'need', 'tell', 'set', 'apart', 'tell', 'secrets', 'ask', 'questions', 'oh', 'let', 'go', 'back', 'start', 'running', 'circles', 'coming', 'up', 'tails', 'heads', 'science', 'apart', 'nobody', 'said', 'easy', 'it', 'such', 'shame', 'part', 'nobody', 'said', 'easy', 'no', 'one', 'ever', 'said', 'would', 'hard', 'oh', 'take', 'back', 'start', 'just', 'guessing', 'numbers', 'figures', 'pulling', 'puzzles', 'apart', 'questions', 'science', 'science', 'progress', 'do', 'not', 'speak', 'loud', 'heart', 'tell', 'love', 'me', 'come', 'back', 'haunt', 'oh', 'rush', 'start', 'running', 'circles', 'chasing', 'tails', 'coming', 'back', 'we', 'nobody', 'said', 'easy', 'oh', 'it', 'such', 'shame', 'part', 'nobody', 'said', 'easy', 'no', 'one', 'ever', 'said', 'would', 'so', 'hard', 'going', 'back', 'start', 'oh', 'ooh', 'ooh', 'ooh', 'ooh', 'ooh', 'ah', 'ooh', 'ooh', 'ooh', 'ooh', 'ooh', 'oh…",
         "sp_id": "75JFxkI2RXiU7L9VXzMkle",
         "danceability": 0.557,
         "energy": 0.442,
         "key": 5,
         "loudness": -7.224,
         "speechiness": 0.0243,
         "acousticness": 0.731,
         "instrumentalness": 0.0000146,
         "liveness": 0.11,
         "valence": 0.213,
         "tempo": 146.277,
         "distance_from_query": 0.09715057113706385,
         "_deepnote_index_column": 2
        },
        {
         "artist_mb": "Coldplay",
         "song_name": "Yellow",
         "id": 2120,
         "lyrics_nostop": "look stars, look shine and everything do yeah, were yellow i came along, i wrote song and things do and called \"yellow\" so then i took turn oh, thing done and yellow (aah) your skin, oh, yeah, skin bones (ooh) turn into something beautiful (aah) you know, know i love so you know i love so i swam across, i jumped across oh, thing do 'cause were yellow i drew line, i drew line oh, thing do and yellow (aah) your skin, oh, yeah, skin bones (ooh) turn into something beautiful (aah) and know, you, i'd bleed myself dry for you, i'd bleed myself dry it's true, look shine look shine look shine look shine look shine look shine look stars look shine and things do160embed",
         "tokens": "['look', 'stars', 'look', 'shine', 'and', 'everything', 'do', 'yeah', 'were', 'yellow', 'came', 'along', 'wrote', 'song', 'and', 'things', 'do', 'and', 'called', 'yellow', 'so', 'then', 'took', 'turn', 'oh', 'thing', 'done', 'and', 'yellow', 'aah', 'your', 'skin', 'oh', 'yeah', 'skin', 'bones', 'ooh', 'turn', 'into', 'something', 'beautiful', 'aah', 'you', 'know', 'know', 'love', 'so', 'you', 'know', 'love', 'so', 'swam', 'across', 'jumped', 'across', 'oh', 'thing', 'do', 'cause', 'were', 'yellow', 'drew', 'line', 'drew', 'line', 'oh', 'thing', 'do', 'and', 'yellow', 'aah', 'your', 'skin', 'oh', 'yeah', 'skin', 'bones', 'ooh', 'turn', 'into', 'something', 'beautiful', 'aah', 'and', 'know', 'you', 'bleed', 'myself', 'dry', 'for', 'you', 'bleed', 'myself', 'dry', 'it', 'true', 'look', 'shine', 'look', 'shine', 'look', 'shine', 'look', 'shine', 'look', 'shine', 'look', 'shine', 'look', 'stars', 'look', 'shine', 'and', 'things', 'do160embed']",
         "sp_id": "3AJwUDP919kvQ9QcozQPxg",
         "danceability": 0.429,
         "energy": 0.661,
         "key": 11,
         "loudness": -7.227,
         "speechiness": 0.0281,
         "acousticness": 0.00239,
         "instrumentalness": 0.000121,
         "liveness": 0.234,
         "valence": 0.285,
         "tempo": 173.372,
         "distance_from_query": 0,
         "_deepnote_index_column": 3
        },
        {
         "artist_mb": "Coldplay",
         "song_name": "Fix You",
         "id": 2169,
         "lyrics_nostop": "when try best, don't succeed when get want, not need when feel so tired, can't sleep stuck reverse and tears come streaming down face when lose something can't replace when love someone, goes waste could worse? lights guide home and ignite bones and i try fix and high up above down below when you're too love let go but if never try, you'll never know just you're worth lights guide home and ignite bones and i try fix tears stream down face when lose something cannot replace tears stream down face, i tears stream down face i promise i learn mistakes tears stream down face, i lights guide home and ignite bones and i try fix you147embed",
         "tokens": "['when', 'try', 'best', 'don', 'succeed', 'when', 'get', 'want', 'not', 'need', 'when', 'feel', 'so', 'tired', 'can', 'sleep', 'stuck', 'reverse', 'and', 'tears', 'come', 'streaming', 'down', 'face', 'when', 'lose', 'something', 'can', 'replace', 'when', 'love', 'someone', 'goes', 'waste', 'could', 'worse', 'lights', 'guide', 'home', 'and', 'ignite', 'bones', 'and', 'try', 'fix', 'and', 'high', 'up', 'above', 'down', 'below', 'when', 'you', 're', 'too', 'love', 'let', 'go', 'but', 'if', 'never', 'try', 'you', 'll', 'never', 'know', 'just', 'you', 're', 'worth', 'lights', 'guide', 'home', 'and', 'ignite', 'bones', 'and', 'try', 'fix', 'tears', 'stream', 'down', 'face', 'when', 'lose', 'something', 'cannot', 'replace', 'tears', 'stream', 'down', 'face', 'tears', 'stream', 'down', 'face', 'promise', 'learn', 'mistakes', 'tears', 'stream', 'down', 'face', 'lights', 'guide', 'home', 'and', 'ignite', 'bones', 'and', 'try', 'fix', 'you147embed']",
         "sp_id": "7LVHVU3tWfcxj5aiPFEW4Q",
         "danceability": 0.209,
         "energy": 0.417,
         "key": 3,
         "loudness": -8.74,
         "speechiness": 0.0338,
         "acousticness": 0.164,
         "instrumentalness": 0.00196,
         "liveness": 0.113,
         "valence": 0.124,
         "tempo": 138.178,
         "distance_from_query": 0.1325380058288469,
         "_deepnote_index_column": 4
        }
       ]
      },
      "text/plain": "  artist_mb             song_name    id  \\\n0  Coldplay          Viva la Vida   399   \n1  Coldplay  Hymn for the Weekend   787   \n2  Coldplay         The Scientist  1075   \n3  Coldplay                Yellow  2120   \n4  Coldplay               Fix You  2169   \n\n                                       lyrics_nostop  \\\n0  i used rule world seas would rise i gave word ...   \n1  and said drink me, drink (oh-ah-oh-ah) that we...   \n2  come up meet you, tell i'm sorry you don't kno...   \n3  look stars, look shine and everything do yeah,...   \n4  when try best, don't succeed when get want, no...   \n\n                                              tokens                   sp_id  \\\n0  ['used', 'rule', 'world', 'seas', 'would', 'ri...  1mea3bSkSGXuIRvnydlB5b   \n1  ['and', 'said', 'drink', 'me', 'drink', 'oh', ...  3RiPr603aXAoi4GHyXx0uy   \n2  ['come', 'up', 'meet', 'you', 'tell', 'sorry',...  75JFxkI2RXiU7L9VXzMkle   \n3  ['look', 'stars', 'look', 'shine', 'and', 'eve...  3AJwUDP919kvQ9QcozQPxg   \n4  ['when', 'try', 'best', 'don', 'succeed', 'whe...  7LVHVU3tWfcxj5aiPFEW4Q   \n\n   danceability  energy   key  loudness  speechiness  acousticness  \\\n0         0.486   0.617   5.0    -7.115       0.0287       0.09540   \n1         0.491   0.693   0.0    -6.487       0.0377       0.21100   \n2         0.557   0.442   5.0    -7.224       0.0243       0.73100   \n3         0.429   0.661  11.0    -7.227       0.0281       0.00239   \n4         0.209   0.417   3.0    -8.740       0.0338       0.16400   \n\n   instrumentalness  liveness  valence    tempo  distance_from_query  \n0          0.000003     0.109    0.417  138.015             0.121467  \n1          0.000007     0.325    0.412   90.027             0.327537  \n2          0.000015     0.110    0.213  146.277             0.097151  \n3          0.000121     0.234    0.285  173.372             0.000000  \n4          0.001960     0.113    0.124  138.178             0.132538  ",
      "text/html": "<div>\n<style scoped>\n    .dataframe tbody tr th:only-of-type {\n        vertical-align: middle;\n    }\n\n    .dataframe tbody tr th {\n        vertical-align: top;\n    }\n\n    .dataframe thead th {\n        text-align: right;\n    }\n</style>\n<table border=\"1\" class=\"dataframe\">\n  <thead>\n    <tr style=\"text-align: right;\">\n      <th></th>\n      <th>artist_mb</th>\n      <th>song_name</th>\n      <th>id</th>\n      <th>lyrics_nostop</th>\n      <th>tokens</th>\n      <th>sp_id</th>\n      <th>danceability</th>\n      <th>energy</th>\n      <th>key</th>\n      <th>loudness</th>\n      <th>speechiness</th>\n      <th>acousticness</th>\n      <th>instrumentalness</th>\n      <th>liveness</th>\n      <th>valence</th>\n      <th>tempo</th>\n      <th>distance_from_query</th>\n    </tr>\n  </thead>\n  <tbody>\n    <tr>\n      <th>0</th>\n      <td>Coldplay</td>\n      <td>Viva la Vida</td>\n      <td>399</td>\n      <td>i used rule world seas would rise i gave word ...</td>\n      <td>['used', 'rule', 'world', 'seas', 'would', 'ri...</td>\n      <td>1mea3bSkSGXuIRvnydlB5b</td>\n      <td>0.486</td>\n      <td>0.617</td>\n      <td>5.0</td>\n      <td>-7.115</td>\n      <td>0.0287</td>\n      <td>0.09540</td>\n      <td>0.000003</td>\n      <td>0.109</td>\n      <td>0.417</td>\n      <td>138.015</td>\n      <td>0.121467</td>\n    </tr>\n    <tr>\n      <th>1</th>\n      <td>Coldplay</td>\n      <td>Hymn for the Weekend</td>\n      <td>787</td>\n      <td>and said drink me, drink (oh-ah-oh-ah) that we...</td>\n      <td>['and', 'said', 'drink', 'me', 'drink', 'oh', ...</td>\n      <td>3RiPr603aXAoi4GHyXx0uy</td>\n      <td>0.491</td>\n      <td>0.693</td>\n      <td>0.0</td>\n      <td>-6.487</td>\n      <td>0.0377</td>\n      <td>0.21100</td>\n      <td>0.000007</td>\n      <td>0.325</td>\n      <td>0.412</td>\n      <td>90.027</td>\n      <td>0.327537</td>\n    </tr>\n    <tr>\n      <th>2</th>\n      <td>Coldplay</td>\n      <td>The Scientist</td>\n      <td>1075</td>\n      <td>come up meet you, tell i'm sorry you don't kno...</td>\n      <td>['come', 'up', 'meet', 'you', 'tell', 'sorry',...</td>\n      <td>75JFxkI2RXiU7L9VXzMkle</td>\n      <td>0.557</td>\n      <td>0.442</td>\n      <td>5.0</td>\n      <td>-7.224</td>\n      <td>0.0243</td>\n      <td>0.73100</td>\n      <td>0.000015</td>\n      <td>0.110</td>\n      <td>0.213</td>\n      <td>146.277</td>\n      <td>0.097151</td>\n    </tr>\n    <tr>\n      <th>3</th>\n      <td>Coldplay</td>\n      <td>Yellow</td>\n      <td>2120</td>\n      <td>look stars, look shine and everything do yeah,...</td>\n      <td>['look', 'stars', 'look', 'shine', 'and', 'eve...</td>\n      <td>3AJwUDP919kvQ9QcozQPxg</td>\n      <td>0.429</td>\n      <td>0.661</td>\n      <td>11.0</td>\n      <td>-7.227</td>\n      <td>0.0281</td>\n      <td>0.00239</td>\n      <td>0.000121</td>\n      <td>0.234</td>\n      <td>0.285</td>\n      <td>173.372</td>\n      <td>0.000000</td>\n    </tr>\n    <tr>\n      <th>4</th>\n      <td>Coldplay</td>\n      <td>Fix You</td>\n      <td>2169</td>\n      <td>when try best, don't succeed when get want, no...</td>\n      <td>['when', 'try', 'best', 'don', 'succeed', 'whe...</td>\n      <td>7LVHVU3tWfcxj5aiPFEW4Q</td>\n      <td>0.209</td>\n      <td>0.417</td>\n      <td>3.0</td>\n      <td>-8.740</td>\n      <td>0.0338</td>\n      <td>0.16400</td>\n      <td>0.001960</td>\n      <td>0.113</td>\n      <td>0.124</td>\n      <td>138.178</td>\n      <td>0.132538</td>\n    </tr>\n  </tbody>\n</table>\n</div>"
     },
     "metadata": {}
    }
   ],
   "execution_count": 53
  },
  {
   "cell_type": "code",
   "source": "track_info = track_info.sort_values(by = ['distance_from_query'])\ntrack_info.head(20)",
   "metadata": {
    "cell_id": "716fbd19a6b845d28818d10d640f9dde",
    "tags": [],
    "deepnote_to_be_reexecuted": false,
    "source_hash": "1faf3318",
    "execution_start": 1655837682531,
    "execution_millis": 912,
    "deepnote_table_state": {
     "pageSize": 10,
     "pageIndex": 0,
     "filters": [],
     "sortBy": []
    },
    "deepnote_table_loading": false,
    "deepnote_cell_type": "code",
    "deepnote_cell_height": 635
   },
   "outputs": [
    {
     "output_type": "execute_result",
     "execution_count": 56,
     "data": {
      "application/vnd.deepnote.dataframe.v3+json": {
       "column_count": 17,
       "row_count": 20,
       "columns": [
        {
         "name": "artist_mb",
         "dtype": "object",
         "stats": {
          "unique_count": 18,
          "nan_count": 0,
          "categories": [
           {
            "name": "The Cure",
            "count": 2
           },
           {
            "name": "Keane",
            "count": 2
           },
           {
            "name": "16 others",
            "count": 16
           }
          ]
         }
        },
        {
         "name": "song_name",
         "dtype": "object",
         "stats": {
          "unique_count": 20,
          "nan_count": 0,
          "categories": [
           {
            "name": "Yellow",
            "count": 1
           },
           {
            "name": "Beyond the Realms of Death",
            "count": 1
           },
           {
            "name": "18 others",
            "count": 18
           }
          ]
         }
        },
        {
         "name": "id",
         "dtype": "int64",
         "stats": {
          "unique_count": 20,
          "nan_count": 0,
          "min": "76",
          "max": "2356",
          "histogram": [
           {
            "bin_start": 76,
            "bin_end": 304,
            "count": 2
           },
           {
            "bin_start": 304,
            "bin_end": 532,
            "count": 0
           },
           {
            "bin_start": 532,
            "bin_end": 760,
            "count": 2
           },
           {
            "bin_start": 760,
            "bin_end": 988,
            "count": 4
           },
           {
            "bin_start": 988,
            "bin_end": 1216,
            "count": 2
           },
           {
            "bin_start": 1216,
            "bin_end": 1444,
            "count": 1
           },
           {
            "bin_start": 1444,
            "bin_end": 1672,
            "count": 3
           },
           {
            "bin_start": 1672,
            "bin_end": 1900,
            "count": 2
           },
           {
            "bin_start": 1900,
            "bin_end": 2128,
            "count": 2
           },
           {
            "bin_start": 2128,
            "bin_end": 2356,
            "count": 2
           }
          ]
         }
        },
        {
         "name": "lyrics_nostop",
         "dtype": "object",
         "stats": {
          "unique_count": 20,
          "nan_count": 0,
          "categories": [
           {
            "name": "look stars, look shine and everything do yeah, were yellow i came along, i wrote song and things do and called \"yellow\" so then i took turn oh, thing done and yellow (aah) your skin, oh, yeah, skin bones (ooh) turn into something beautiful (aah) you know, know i love so you know i love so i swam across, i jumped across oh, thing do 'cause were yellow i drew line, i drew line oh, thing do and yellow (aah) your skin, oh, yeah, skin bones (ooh) turn into something beautiful (aah) and know, you, i'd bleed myself dry for you, i'd bleed myself dry it's true, look shine look shine look shine look shine look shine look shine look stars look shine and things do160embed",
            "count": 1
           },
           {
            "name": "he had enough, couldn't take anymore he found place mind slammed door no matter tried, couldn't understand they washed dressed him, fed hand yeah, i've left world behind i am safe mind i'm free speak own kind this life, life, i'll decide not withdrawn he'd sit there, stare blank into space no sign life would flicker face until one day smiled, seemed though pride the wind kissed goodbye, then died yeah, i've left world behind i am safe mind i'm free speak own kind this life, life, i'll decide not keep world sin it's not fit living yeah! i start again it can take forever ever ever ever but i shall win how like still? but us, seem lost they lie thousands, plagued lost is nothing worth bitter cost? yeah, i've left world behind i am safe mind i'm free speak own kind this life, life, i'll decide not keep world sin it's not fit living beyond realms death2embed",
            "count": 1
           },
           {
            "name": "18 others",
            "count": 18
           }
          ]
         }
        },
        {
         "name": "tokens",
         "dtype": "object",
         "stats": {
          "unique_count": 20,
          "nan_count": 0,
          "categories": [
           {
            "name": "['look', 'stars', 'look', 'shine', 'and', 'everything', 'do', 'yeah', 'were', 'yellow', 'came', 'along', 'wrote', 'song', 'and', 'things', 'do', 'and', 'called', 'yellow', 'so', 'then', 'took', 'turn', 'oh', 'thing', 'done', 'and', 'yellow', 'aah', 'your', 'skin', 'oh', 'yeah', 'skin', 'bones', 'ooh', 'turn', 'into', 'something', 'beautiful', 'aah', 'you', 'know', 'know', 'love', 'so', 'you', 'know', 'love', 'so', 'swam', 'across', 'jumped', 'across', 'oh', 'thing', 'do', 'cause', 'were', 'yellow', 'drew', 'line', 'drew', 'line', 'oh', 'thing', 'do', 'and', 'yellow', 'aah', 'your', 'skin', 'oh', 'yeah', 'skin', 'bones', 'ooh', 'turn', 'into', 'something', 'beautiful', 'aah', 'and', 'know', 'you', 'bleed', 'myself', 'dry', 'for', 'you', 'bleed', 'myself', 'dry', 'it', 'true', 'look', 'shine', 'look', 'shine', 'look', 'shine', 'look', 'shine', 'look', 'shine', 'look', 'shine', 'look', 'stars', 'look', 'shine', 'and', 'things', 'do160embed']",
            "count": 1
           },
           {
            "name": "['he', 'had', 'enough', 'couldn', 'take', 'anymore', 'he', 'found', 'place', 'mind', 'slammed', 'door', 'no', 'matter', 'tried', 'couldn', 'understand', 'they', 'washed', 'dressed', 'him', 'fed', 'hand', 'yeah', 've', 'left', 'world', 'behind', 'am', 'safe', 'mind', 'free', 'speak', 'own', 'kind', 'this', 'life', 'life', 'll', 'decide', 'not', 'withdrawn', 'he', 'sit', 'there', 'stare', 'blank', 'into', 'space', 'no', 'sign', 'life', 'would', 'flicker', 'face', 'until', 'one', 'day', 'smiled', 'seemed', 'though', 'pride', 'the', 'wind', 'kissed', 'goodbye', 'then', 'died', 'yeah', 've', 'left', 'world', 'behind', 'am', 'safe', 'mind', 'free', 'speak', 'own', 'kind', 'this', 'life', 'life', 'll', 'decide', 'not', 'keep', 'world', 'sin', 'it', 'not', 'fit', 'living', 'yeah', 'start', 'again', 'it', 'can', 'take', 'forever', 'ever', 'ever', 'ever', 'but', 'shall', 'win', 'how', 'like', 'still', 'but', 'us', 'seem', 'lost', 'they', 'lie', 'thousands', 'plagued', 'lost', 'is', 'nothing', 'worth', 'bitter', 'cost', 'yeah', 've', 'left', 'world', 'behind', 'am', 'safe', 'mind', 'free', 'speak', 'own', 'kind', 'this', 'life', 'life', 'll', 'decide', 'not', 'keep', 'world', 'sin', 'it', 'not', 'fit', 'living', 'beyond', 'realms', 'death2embed']",
            "count": 1
           },
           {
            "name": "18 others",
            "count": 18
           }
          ]
         }
        },
        {
         "name": "sp_id",
         "dtype": "object",
         "stats": {
          "unique_count": 20,
          "nan_count": 0,
          "categories": [
           {
            "name": "3AJwUDP919kvQ9QcozQPxg",
            "count": 1
           },
           {
            "name": "3Rtv6zRNKpeSygXoaF9kCm",
            "count": 1
           },
           {
            "name": "18 others",
            "count": 18
           }
          ]
         }
        },
        {
         "name": "danceability",
         "dtype": "float64",
         "stats": {
          "unique_count": 20,
          "nan_count": 0,
          "min": "0.214",
          "max": "0.686",
          "histogram": [
           {
            "bin_start": 0.214,
            "bin_end": 0.2612,
            "count": 3
           },
           {
            "bin_start": 0.2612,
            "bin_end": 0.3084,
            "count": 2
           },
           {
            "bin_start": 0.3084,
            "bin_end": 0.3556,
            "count": 1
           },
           {
            "bin_start": 0.3556,
            "bin_end": 0.40280000000000005,
            "count": 3
           },
           {
            "bin_start": 0.40280000000000005,
            "bin_end": 0.45000000000000007,
            "count": 3
           },
           {
            "bin_start": 0.45000000000000007,
            "bin_end": 0.4972,
            "count": 3
           },
           {
            "bin_start": 0.4972,
            "bin_end": 0.5444,
            "count": 2
           },
           {
            "bin_start": 0.5444,
            "bin_end": 0.5916,
            "count": 0
           },
           {
            "bin_start": 0.5916,
            "bin_end": 0.6388,
            "count": 2
           },
           {
            "bin_start": 0.6388,
            "bin_end": 0.686,
            "count": 1
           }
          ]
         }
        },
        {
         "name": "energy",
         "dtype": "float64",
         "stats": {
          "unique_count": 20,
          "nan_count": 0,
          "min": "0.542",
          "max": "0.959",
          "histogram": [
           {
            "bin_start": 0.542,
            "bin_end": 0.5837,
            "count": 1
           },
           {
            "bin_start": 0.5837,
            "bin_end": 0.6254000000000001,
            "count": 1
           },
           {
            "bin_start": 0.6254000000000001,
            "bin_end": 0.6671,
            "count": 3
           },
           {
            "bin_start": 0.6671,
            "bin_end": 0.7088,
            "count": 1
           },
           {
            "bin_start": 0.7088,
            "bin_end": 0.7505,
            "count": 1
           },
           {
            "bin_start": 0.7505,
            "bin_end": 0.7922,
            "count": 3
           },
           {
            "bin_start": 0.7922,
            "bin_end": 0.8339,
            "count": 1
           },
           {
            "bin_start": 0.8339,
            "bin_end": 0.8755999999999999,
            "count": 4
           },
           {
            "bin_start": 0.8755999999999999,
            "bin_end": 0.9173,
            "count": 3
           },
           {
            "bin_start": 0.9173,
            "bin_end": 0.959,
            "count": 2
           }
          ]
         }
        },
        {
         "name": "key",
         "dtype": "float64",
         "stats": {
          "unique_count": 5,
          "nan_count": 0,
          "min": "7.0",
          "max": "11.0",
          "histogram": [
           {
            "bin_start": 7,
            "bin_end": 7.4,
            "count": 1
           },
           {
            "bin_start": 7.4,
            "bin_end": 7.8,
            "count": 0
           },
           {
            "bin_start": 7.8,
            "bin_end": 8.2,
            "count": 4
           },
           {
            "bin_start": 8.2,
            "bin_end": 8.6,
            "count": 0
           },
           {
            "bin_start": 8.6,
            "bin_end": 9,
            "count": 0
           },
           {
            "bin_start": 9,
            "bin_end": 9.4,
            "count": 8
           },
           {
            "bin_start": 9.4,
            "bin_end": 9.8,
            "count": 0
           },
           {
            "bin_start": 9.8,
            "bin_end": 10.2,
            "count": 2
           },
           {
            "bin_start": 10.2,
            "bin_end": 10.6,
            "count": 0
           },
           {
            "bin_start": 10.6,
            "bin_end": 11,
            "count": 5
           }
          ]
         }
        },
        {
         "name": "loudness",
         "dtype": "float64",
         "stats": {
          "unique_count": 20,
          "nan_count": 0,
          "min": "-9.432",
          "max": "-4.04",
          "histogram": [
           {
            "bin_start": -9.432,
            "bin_end": -8.892800000000001,
            "count": 1
           },
           {
            "bin_start": -8.892800000000001,
            "bin_end": -8.3536,
            "count": 0
           },
           {
            "bin_start": -8.3536,
            "bin_end": -7.814400000000001,
            "count": 1
           },
           {
            "bin_start": -7.814400000000001,
            "bin_end": -7.2752,
            "count": 4
           },
           {
            "bin_start": -7.2752,
            "bin_end": -6.736000000000001,
            "count": 2
           },
           {
            "bin_start": -6.736000000000001,
            "bin_end": -6.1968000000000005,
            "count": 3
           },
           {
            "bin_start": -6.1968000000000005,
            "bin_end": -5.6576,
            "count": 2
           },
           {
            "bin_start": -5.6576,
            "bin_end": -5.1184,
            "count": 1
           },
           {
            "bin_start": -5.1184,
            "bin_end": -4.5792,
            "count": 4
           },
           {
            "bin_start": -4.5792,
            "bin_end": -4.04,
            "count": 2
           }
          ]
         }
        },
        {
         "name": "speechiness",
         "dtype": "float64",
         "stats": {
          "unique_count": 20,
          "nan_count": 0,
          "min": "0.0259",
          "max": "0.653",
          "histogram": [
           {
            "bin_start": 0.0259,
            "bin_end": 0.08861,
            "count": 16
           },
           {
            "bin_start": 0.08861,
            "bin_end": 0.15132,
            "count": 1
           },
           {
            "bin_start": 0.15132,
            "bin_end": 0.21403000000000003,
            "count": 1
           },
           {
            "bin_start": 0.21403000000000003,
            "bin_end": 0.27674,
            "count": 0
           },
           {
            "bin_start": 0.27674,
            "bin_end": 0.33945,
            "count": 0
           },
           {
            "bin_start": 0.33945,
            "bin_end": 0.40216,
            "count": 1
           },
           {
            "bin_start": 0.40216,
            "bin_end": 0.46487,
            "count": 0
           },
           {
            "bin_start": 0.46487,
            "bin_end": 0.52758,
            "count": 0
           },
           {
            "bin_start": 0.52758,
            "bin_end": 0.5902900000000001,
            "count": 0
           },
           {
            "bin_start": 0.5902900000000001,
            "bin_end": 0.653,
            "count": 1
           }
          ]
         }
        },
        {
         "name": "acousticness",
         "dtype": "float64",
         "stats": {
          "unique_count": 20,
          "nan_count": 0,
          "min": "0.000273",
          "max": "0.477",
          "histogram": [
           {
            "bin_start": 0.000273,
            "bin_end": 0.0479457,
            "count": 16
           },
           {
            "bin_start": 0.0479457,
            "bin_end": 0.09561839999999999,
            "count": 1
           },
           {
            "bin_start": 0.09561839999999999,
            "bin_end": 0.14329109999999998,
            "count": 1
           },
           {
            "bin_start": 0.14329109999999998,
            "bin_end": 0.1909638,
            "count": 0
           },
           {
            "bin_start": 0.1909638,
            "bin_end": 0.2386365,
            "count": 0
           },
           {
            "bin_start": 0.2386365,
            "bin_end": 0.2863092,
            "count": 0
           },
           {
            "bin_start": 0.2863092,
            "bin_end": 0.3339819,
            "count": 0
           },
           {
            "bin_start": 0.3339819,
            "bin_end": 0.3816546,
            "count": 1
           },
           {
            "bin_start": 0.3816546,
            "bin_end": 0.4293273,
            "count": 0
           },
           {
            "bin_start": 0.4293273,
            "bin_end": 0.477,
            "count": 1
           }
          ]
         }
        },
        {
         "name": "instrumentalness",
         "dtype": "float64",
         "stats": {
          "unique_count": 13,
          "nan_count": 0,
          "min": "0.0",
          "max": "0.301",
          "histogram": [
           {
            "bin_start": 0,
            "bin_end": 0.0301,
            "count": 18
           },
           {
            "bin_start": 0.0301,
            "bin_end": 0.0602,
            "count": 0
           },
           {
            "bin_start": 0.0602,
            "bin_end": 0.09029999999999999,
            "count": 0
           },
           {
            "bin_start": 0.09029999999999999,
            "bin_end": 0.1204,
            "count": 1
           },
           {
            "bin_start": 0.1204,
            "bin_end": 0.1505,
            "count": 0
           },
           {
            "bin_start": 0.1505,
            "bin_end": 0.18059999999999998,
            "count": 0
           },
           {
            "bin_start": 0.18059999999999998,
            "bin_end": 0.2107,
            "count": 0
           },
           {
            "bin_start": 0.2107,
            "bin_end": 0.2408,
            "count": 0
           },
           {
            "bin_start": 0.2408,
            "bin_end": 0.2709,
            "count": 0
           },
           {
            "bin_start": 0.2709,
            "bin_end": 0.301,
            "count": 1
           }
          ]
         }
        },
        {
         "name": "liveness",
         "dtype": "float64",
         "stats": {
          "unique_count": 20,
          "nan_count": 0,
          "min": "0.028",
          "max": "0.415",
          "histogram": [
           {
            "bin_start": 0.028,
            "bin_end": 0.0667,
            "count": 3
           },
           {
            "bin_start": 0.0667,
            "bin_end": 0.1054,
            "count": 5
           },
           {
            "bin_start": 0.1054,
            "bin_end": 0.1441,
            "count": 5
           },
           {
            "bin_start": 0.1441,
            "bin_end": 0.1828,
            "count": 1
           },
           {
            "bin_start": 0.1828,
            "bin_end": 0.2215,
            "count": 0
           },
           {
            "bin_start": 0.2215,
            "bin_end": 0.2602,
            "count": 3
           },
           {
            "bin_start": 0.2602,
            "bin_end": 0.2989,
            "count": 0
           },
           {
            "bin_start": 0.2989,
            "bin_end": 0.3376,
            "count": 1
           },
           {
            "bin_start": 0.3376,
            "bin_end": 0.3763,
            "count": 0
           },
           {
            "bin_start": 0.3763,
            "bin_end": 0.415,
            "count": 2
           }
          ]
         }
        },
        {
         "name": "valence",
         "dtype": "float64",
         "stats": {
          "unique_count": 18,
          "nan_count": 0,
          "min": "0.2",
          "max": "0.872",
          "histogram": [
           {
            "bin_start": 0.2,
            "bin_end": 0.2672,
            "count": 1
           },
           {
            "bin_start": 0.2672,
            "bin_end": 0.33440000000000003,
            "count": 1
           },
           {
            "bin_start": 0.33440000000000003,
            "bin_end": 0.4016,
            "count": 3
           },
           {
            "bin_start": 0.4016,
            "bin_end": 0.4688,
            "count": 2
           },
           {
            "bin_start": 0.4688,
            "bin_end": 0.536,
            "count": 3
           },
           {
            "bin_start": 0.536,
            "bin_end": 0.6032,
            "count": 3
           },
           {
            "bin_start": 0.6032,
            "bin_end": 0.6704,
            "count": 0
           },
           {
            "bin_start": 0.6704,
            "bin_end": 0.7376,
            "count": 5
           },
           {
            "bin_start": 0.7376,
            "bin_end": 0.8048,
            "count": 1
           },
           {
            "bin_start": 0.8048,
            "bin_end": 0.872,
            "count": 1
           }
          ]
         }
        },
        {
         "name": "tempo",
         "dtype": "float64",
         "stats": {
          "unique_count": 20,
          "nan_count": 0,
          "min": "168.743",
          "max": "176.002",
          "histogram": [
           {
            "bin_start": 168.743,
            "bin_end": 169.4689,
            "count": 1
           },
           {
            "bin_start": 169.4689,
            "bin_end": 170.1948,
            "count": 1
           },
           {
            "bin_start": 170.1948,
            "bin_end": 170.9207,
            "count": 1
           },
           {
            "bin_start": 170.9207,
            "bin_end": 171.6466,
            "count": 1
           },
           {
            "bin_start": 171.6466,
            "bin_end": 172.3725,
            "count": 5
           },
           {
            "bin_start": 172.3725,
            "bin_end": 173.0984,
            "count": 2
           },
           {
            "bin_start": 173.0984,
            "bin_end": 173.8243,
            "count": 2
           },
           {
            "bin_start": 173.8243,
            "bin_end": 174.55020000000002,
            "count": 3
           },
           {
            "bin_start": 174.55020000000002,
            "bin_end": 175.2761,
            "count": 2
           },
           {
            "bin_start": 175.2761,
            "bin_end": 176.002,
            "count": 2
           }
          ]
         }
        },
        {
         "name": "distance_from_query",
         "dtype": "float64",
         "stats": {
          "unique_count": 20,
          "nan_count": 0,
          "min": "0.0",
          "max": "0.019160679362722137",
          "histogram": [
           {
            "bin_start": 0,
            "bin_end": 0.0019160679362722137,
            "count": 1
           },
           {
            "bin_start": 0.0019160679362722137,
            "bin_end": 0.0038321358725444273,
            "count": 0
           },
           {
            "bin_start": 0.0038321358725444273,
            "bin_end": 0.005748203808816641,
            "count": 0
           },
           {
            "bin_start": 0.005748203808816641,
            "bin_end": 0.007664271745088855,
            "count": 0
           },
           {
            "bin_start": 0.007664271745088855,
            "bin_end": 0.009580339681361068,
            "count": 2
           },
           {
            "bin_start": 0.009580339681361068,
            "bin_end": 0.011496407617633281,
            "count": 0
           },
           {
            "bin_start": 0.011496407617633281,
            "bin_end": 0.013412475553905496,
            "count": 5
           },
           {
            "bin_start": 0.013412475553905496,
            "bin_end": 0.01532854349017771,
            "count": 2
           },
           {
            "bin_start": 0.01532854349017771,
            "bin_end": 0.017244611426449924,
            "count": 6
           },
           {
            "bin_start": 0.017244611426449924,
            "bin_end": 0.019160679362722137,
            "count": 4
           }
          ]
         }
        },
        {
         "name": "_deepnote_index_column",
         "dtype": "int64"
        }
       ],
       "rows": [
        {
         "artist_mb": "Coldplay",
         "song_name": "Yellow",
         "id": 2120,
         "lyrics_nostop": "look stars, look shine and everything do yeah, were yellow i came along, i wrote song and things do and called \"yellow\" so then i took turn oh, thing done and yellow (aah) your skin, oh, yeah, skin bones (ooh) turn into something beautiful (aah) you know, know i love so you know i love so i swam across, i jumped across oh, thing do 'cause were yellow i drew line, i drew line oh, thing do and yellow (aah) your skin, oh, yeah, skin bones (ooh) turn into something beautiful (aah) and know, you, i'd bleed myself dry for you, i'd bleed myself dry it's true, look shine look shine look shine look shine look shine look shine look stars look shine and things do160embed",
         "tokens": "['look', 'stars', 'look', 'shine', 'and', 'everything', 'do', 'yeah', 'were', 'yellow', 'came', 'along', 'wrote', 'song', 'and', 'things', 'do', 'and', 'called', 'yellow', 'so', 'then', 'took', 'turn', 'oh', 'thing', 'done', 'and', 'yellow', 'aah', 'your', 'skin', 'oh', 'yeah', 'skin', 'bones', 'ooh', 'turn', 'into', 'something', 'beautiful', 'aah', 'you', 'know', 'know', 'love', 'so', 'you', 'know', 'love', 'so', 'swam', 'across', 'jumped', 'across', 'oh', 'thing', 'do', 'cause', 'were', 'yellow', 'drew', 'line', 'drew', 'line', 'oh', 'thing', 'do', 'and', 'yellow', 'aah', 'your', 'skin', 'oh', 'yeah', 'skin', 'bones', 'ooh', 'turn', 'into', 'something', 'beautiful', 'aah', 'and', 'know', 'you', 'bleed', 'myself', 'dry', 'for', 'you', 'bleed', 'myself', 'dry', 'it', 'true', 'look', 'shine', 'look', 'shine', 'look', 'shine', 'look', 'shine', 'look', 'shine', 'look', 'shine', 'look', 'stars', 'look', 'shine', 'and', 'things', 'do160embed']",
         "sp_id": "3AJwUDP919kvQ9QcozQPxg",
         "danceability": 0.429,
         "energy": 0.661,
         "key": 11,
         "loudness": -7.227,
         "speechiness": 0.0281,
         "acousticness": 0.00239,
         "instrumentalness": 0.000121,
         "liveness": 0.234,
         "valence": 0.285,
         "tempo": 173.372,
         "distance_from_query": 0,
         "_deepnote_index_column": 3
        },
        {
         "artist_mb": "Judas Priest",
         "song_name": "Beyond the Realms of Death",
         "id": 1817,
         "lyrics_nostop": "he had enough, couldn't take anymore he found place mind slammed door no matter tried, couldn't understand they washed dressed him, fed hand yeah, i've left world behind i am safe mind i'm free speak own kind this life, life, i'll decide not withdrawn he'd sit there, stare blank into space no sign life would flicker face until one day smiled, seemed though pride the wind kissed goodbye, then died yeah, i've left world behind i am safe mind i'm free speak own kind this life, life, i'll decide not keep world sin it's not fit living yeah! i start again it can take forever ever ever ever but i shall win how like still? but us, seem lost they lie thousands, plagued lost is nothing worth bitter cost? yeah, i've left world behind i am safe mind i'm free speak own kind this life, life, i'll decide not keep world sin it's not fit living beyond realms death2embed",
         "tokens": "['he', 'had', 'enough', 'couldn', 'take', 'anymore', 'he', 'found', 'place', 'mind', 'slammed', 'door', 'no', 'matter', 'tried', 'couldn', 'understand', 'they', 'washed', 'dressed', 'him', 'fed', 'hand', 'yeah', 've', 'left', 'world', 'behind', 'am', 'safe', 'mind', 'free', 'speak', 'own', 'kind', 'this', 'life', 'life', 'll', 'decide', 'not', 'withdrawn', 'he', 'sit', 'there', 'stare', 'blank', 'into', 'space', 'no', 'sign', 'life', 'would', 'flicker', 'face', 'until', 'one', 'day', 'smiled', 'seemed', 'though', 'pride', 'the', 'wind', 'kissed', 'goodbye', 'then', 'died', 'yeah', 've', 'left', 'world', 'behind', 'am', 'safe', 'mind', 'free', 'speak', 'own', 'kind', 'this', 'life', 'life', 'll', 'decide', 'not', 'keep', 'world', 'sin', 'it', 'not', 'fit', 'living', 'yeah', 'start', 'again', 'it', 'can', 'take', 'forever', 'ever', 'ever', 'ever', 'but', 'shall', 'win', 'how', 'like', 'still', 'but', 'us', 'seem', 'lost', 'they', 'lie', 'thousands', 'plagued', 'lost', 'is', 'nothing', '…",
         "sp_id": "3Rtv6zRNKpeSygXoaF9kCm",
         "danceability": 0.287,
         "energy": 0.716,
         "key": 11,
         "loudness": -5.653,
         "speechiness": 0.0311,
         "acousticness": 0.0381,
         "instrumentalness": 0.0000324,
         "liveness": 0.164,
         "valence": 0.544,
         "tempo": 172.123,
         "distance_from_query": 0.008827108175784377,
         "_deepnote_index_column": 1840
        },
        {
         "artist_mb": "Deep Purple",
         "song_name": "Highway Star",
         "id": 541,
         "lyrics_nostop": "nobody gonna take car i'm gonna race ground nobody gonna beat car it's gonna break speed sound ooh, it's killing machine it's got everything like driving power big fat tires everything i love and i need i bleed yeah, it's wild hurricane alright, hold tight i'm highway star nobody gonna take girl i'm gonna keep end nobody gonna girl she stays close every bend ooh, she's killing machine she's got everything like moving mouth body control everything i love i need i see yeah, turns alright, hold tight i'm highway star nobody gonna take head i got speed inside brain nobody gonna steal head now i'm road again ooh, i'm heaven again i've got everything like moving ground an open road everything i love and i need i seed eight cylinders, mine alright, hold tight i'm highway star nobody gonna take car i'm gonna race ground nobody gonna beat car it's gonna break speed sound ooh, it's killing machine it's got everything like driving power big fat tires everything i love and i need i bleed yeah, it…",
         "tokens": "['nobody', 'gonna', 'take', 'car', 'gonna', 'race', 'ground', 'nobody', 'gonna', 'beat', 'car', 'it', 'gonna', 'break', 'speed', 'sound', 'ooh', 'it', 'killing', 'machine', 'it', 'got', 'everything', 'like', 'driving', 'power', 'big', 'fat', 'tires', 'everything', 'love', 'and', 'need', 'bleed', 'yeah', 'it', 'wild', 'hurricane', 'alright', 'hold', 'tight', 'highway', 'star', 'nobody', 'gonna', 'take', 'girl', 'gonna', 'keep', 'end', 'nobody', 'gonna', 'girl', 'she', 'stays', 'close', 'every', 'bend', 'ooh', 'she', 'killing', 'machine', 'she', 'got', 'everything', 'like', 'moving', 'mouth', 'body', 'control', 'everything', 'love', 'need', 'see', 'yeah', 'turns', 'alright', 'hold', 'tight', 'highway', 'star', 'nobody', 'gonna', 'take', 'head', 'got', 'speed', 'inside', 'brain', 'nobody', 'gonna', 'steal', 'head', 'now', 'road', 'again', 'ooh', 'heaven', 'again', 've', 'got', 'everything', 'like', 'moving', 'ground', 'an', 'open', 'road', 'everything', 'love', 'and', 'need', 'seed', 'ei…",
         "sp_id": "4gVTozEmzwAUXpwj3jEetX",
         "danceability": 0.298,
         "energy": 0.895,
         "key": 9,
         "loudness": -7.647,
         "speechiness": 0.0547,
         "acousticness": 0.0283,
         "instrumentalness": 0.00574,
         "liveness": 0.305,
         "valence": 0.544,
         "tempo": 173.737,
         "distance_from_query": 0.009171998093673021,
         "_deepnote_index_column": 690
        },
        {
         "artist_mb": "Kelis",
         "song_name": "Millionaire",
         "id": 2024,
         "lyrics_nostop": "i said, city so got witty, witty she said, country so got funky, funky mama, i'm millionaire, i feel like bum mama, i'm millionaire, i feel like only one i, i, i, i woke up early morning, i don't think y'all heard i woke up early morning, i don't think y'all heard i woke up early morning, i don't think y'all heard i woke up early morning, i still ain't see sun oh, oh, oh, oh, oh, oh oh, oh, oh, oh, oh, oh oh, oh, oh, oh, oh, oh oh, oh, oh, oh, oh, oh papa, i'm millionaire, saks fifth ave. don't sell affection saks fifth ave. don't sell affection papa, i'm millionaire, i ain't moving right direction something ain't right, i know i ain't rich, 'til rich, rich, then we rich, oh i ain't rich, 'til rich, rich, then we rich i ain't rich, 'til rich, rich, then we rich, oh i ain't rich, 'til rich, rich, then we rich, mm where cheese rats wherever rats cats wherever cats dogs if got dogs, got bitches bitches always out put paws riches if got riches, got glitches if got glitches life computer, …",
         "tokens": "['said', 'city', 'so', 'got', 'witty', 'witty', 'she', 'said', 'country', 'so', 'got', 'funky', 'funky', 'mama', 'millionaire', 'feel', 'like', 'bum', 'mama', 'millionaire', 'feel', 'like', 'only', 'one', 'woke', 'up', 'early', 'morning', 'don', 'think', 'all', 'heard', 'woke', 'up', 'early', 'morning', 'don', 'think', 'all', 'heard', 'woke', 'up', 'early', 'morning', 'don', 'think', 'all', 'heard', 'woke', 'up', 'early', 'morning', 'still', 'ain', 'see', 'sun', 'oh', 'oh', 'oh', 'oh', 'oh', 'oh', 'oh', 'oh', 'oh', 'oh', 'oh', 'oh', 'oh', 'oh', 'oh', 'oh', 'oh', 'oh', 'oh', 'oh', 'oh', 'oh', 'oh', 'oh', 'papa', 'millionaire', 'saks', 'fifth', 'ave', 'don', 'sell', 'affection', 'saks', 'fifth', 'ave', 'don', 'sell', 'affection', 'papa', 'millionaire', 'ain', 'moving', 'right', 'direction', 'something', 'ain', 'right', 'know', 'ain', 'rich', 'til', 'rich', 'rich', 'then', 'we', 'rich', 'oh', 'ain', 'rich', 'til', 'rich', 'rich', 'then', 'we', 'rich', 'ain', 'rich', 'til', 'rich', 'rich'…",
         "sp_id": "1mVTQSGoFchL3VVrIa0MeH",
         "danceability": 0.686,
         "energy": 0.855,
         "key": 11,
         "loudness": -6.6,
         "speechiness": 0.116,
         "acousticness": 0.0252,
         "instrumentalness": 0,
         "liveness": 0.037,
         "valence": 0.763,
         "tempo": 176.002,
         "distance_from_query": 0.011542686102715919,
         "_deepnote_index_column": 2020
        },
        {
         "artist_mb": "Evanescence",
         "song_name": "Going Under",
         "id": 770,
         "lyrics_nostop": "now i tell i've done fifty thousand tears i've cried screaming, deceiving bleeding and still won't hear (going under) don't want hand time, i'll save myself maybe i'll wake up once (wake up once) not tormented, daily defeated just i thought i'd reached bottom i'm dying again i'm going under (going under) drowning (drowning you) i'm falling forever (falling forever) i've got break through i'm going under blurring stirring truth lies (so i don't know what's real) so i don't know what's real what's not (don't know what's real what's not) always confusing thoughts head (oh) so i can't trust myself anymore i'm dying again i'm going under (going under) drowning (drowning you) i'm falling forever (falling forever) i've got break through i'm so go scream scream me, i'm so far away (so far away) i won't broken again (again) i've got breathe, i can't keep going under i'm dying again i'm going under (going under) drowning (drowning you) i'm falling forever (falling forever) i've got break throug…",
         "tokens": "['now', 'tell', 've', 'done', 'fifty', 'thousand', 'tears', 've', 'cried', 'screaming', 'deceiving', 'bleeding', 'and', 'still', 'won', 'hear', 'going', 'under', 'don', 'want', 'hand', 'time', 'll', 'save', 'myself', 'maybe', 'll', 'wake', 'up', 'once', 'wake', 'up', 'once', 'not', 'tormented', 'daily', 'defeated', 'just', 'thought', 'reached', 'bottom', 'dying', 'again', 'going', 'under', 'going', 'under', 'drowning', 'drowning', 'you', 'falling', 'forever', 'falling', 'forever', 've', 'got', 'break', 'through', 'going', 'under', 'blurring', 'stirring', 'truth', 'lies', 'so', 'don', 'know', 'what', 'real', 'so', 'don', 'know', 'what', 'real', 'what', 'not', 'don', 'know', 'what', 'real', 'what', 'not', 'always', 'confusing', 'thoughts', 'head', 'oh', 'so', 'can', 'trust', 'myself', 'anymore', 'dying', 'again', 'going', 'under', 'going', 'under', 'drowning', 'drowning', 'you', 'falling', 'forever', 'falling', 'forever', 've', 'got', 'break', 'through', 'so', 'go', 'scream', 'scream', …",
         "sp_id": "3UygY7qW2cvG9Llkay6i1i",
         "danceability": 0.37,
         "energy": 0.858,
         "key": 11,
         "loudness": -4.885,
         "speechiness": 0.0545,
         "acousticness": 0.00815,
         "instrumentalness": 0.0000212,
         "liveness": 0.229,
         "valence": 0.464,
         "tempo": 175.077,
         "distance_from_query": 0.011702340070017445,
         "_deepnote_index_column": 509
        },
        {
         "artist_mb": "The Cure",
         "song_name": "Pictures of You",
         "id": 828,
         "lyrics_nostop": "i've looking so long these pictures that i almost believe they're real i've living so long pictures that i almost believe pictures i can feel remembering standing quiet rain as i ran heart near and we kissed sky fell in, holding close how i always held close fear remembering running soft through night you were bigger brighter wider than snow and screamed make-believe, screamed sky and finally found courage let go remembering fallen into arms crying death heart you were stone white, so delicate, lost cold you were always so lost dark remembering you, used slow drowned, were angels so much more than everything hold last time then slip away quietly open eyes, i never see anything if only i'd thought right words i could held heart if only i'd thought right words i wouldn't breaking apart all pictures looking so long these pictures but i never hold heart looking so long words true and always just breaking apart my pictures there nothing world that i ever wanted more than feel deep heart th…",
         "tokens": "['ve', 'looking', 'so', 'long', 'these', 'pictures', 'that', 'almost', 'believe', 'they', 're', 'real', 've', 'living', 'so', 'long', 'pictures', 'that', 'almost', 'believe', 'pictures', 'can', 'feel', 'remembering', 'standing', 'quiet', 'rain', 'as', 'ran', 'heart', 'near', 'and', 'we', 'kissed', 'sky', 'fell', 'in', 'holding', 'close', 'how', 'always', 'held', 'close', 'fear', 'remembering', 'running', 'soft', 'through', 'night', 'you', 'were', 'bigger', 'brighter', 'wider', 'than', 'snow', 'and', 'screamed', 'make', 'believe', 'screamed', 'sky', 'and', 'finally', 'found', 'courage', 'let', 'go', 'remembering', 'fallen', 'into', 'arms', 'crying', 'death', 'heart', 'you', 'were', 'stone', 'white', 'so', 'delicate', 'lost', 'cold', 'you', 'were', 'always', 'so', 'lost', 'dark', 'remembering', 'you', 'used', 'slow', 'drowned', 'were', 'angels', 'so', 'much', 'more', 'than', 'everything', 'hold', 'last', 'time', 'then', 'slip', 'away', 'quietly', 'open', 'eyes', 'never', 'see', 'anythin…",
         "sp_id": "1tuwC1Ob5vnYZhvg3zyzJg",
         "danceability": 0.484,
         "energy": 0.776,
         "key": 9,
         "loudness": -6.48,
         "speechiness": 0.0312,
         "acousticness": 0.00371,
         "instrumentalness": 0.109,
         "liveness": 0.131,
         "valence": 0.495,
         "tempo": 171.935,
         "distance_from_query": 0.012491520375657908,
         "_deepnote_index_column": 206
        },
        {
         "artist_mb": "Nickelback",
         "song_name": "How You Remind Me",
         "id": 573,
         "lyrics_nostop": "never made wise man i couldn't cut poor man stealing tired livin' like blind man i'm sick sight without sense feeling and remind this remind i really am this remind i really am it's not like say sorry i waitin' different story this time i'm mistaken for handing heart worth breakin' and i've wrong, i've down been bottom every bottle these five words head scream, \"are we havin' fun yet?\" yet, yet, yet, no, no yet, yet, yet, no, no it's not like didn't know i said, \"i love you,\" i swear i still do and must so bad 'cause livin' must damn near killed and remind i really am this remind i really am it's not like say sorry i waitin' different story this time i'm mistaken for handing heart worth breakin' and i've wrong, i've down been bottom every bottle these five words head scream, \"are we havin' fun yet?\" yet, yet, yet, no, no yet, yet, yet, no, no yet, yet, yet, no, no yet, yet, yet, no, no never made wise man i couldn't cut poor man stealin' and remind this remind this remind i really am …",
         "tokens": "['never', 'made', 'wise', 'man', 'couldn', 'cut', 'poor', 'man', 'stealing', 'tired', 'livin', 'like', 'blind', 'man', 'sick', 'sight', 'without', 'sense', 'feeling', 'and', 'remind', 'this', 'remind', 'really', 'am', 'this', 'remind', 'really', 'am', 'it', 'not', 'like', 'say', 'sorry', 'waitin', 'different', 'story', 'this', 'time', 'mistaken', 'for', 'handing', 'heart', 'worth', 'breakin', 'and', 've', 'wrong', 've', 'down', 'been', 'bottom', 'every', 'bottle', 'these', 'five', 'words', 'head', 'scream', 'are', 'we', 'havin', 'fun', 'yet', 'yet', 'yet', 'yet', 'no', 'no', 'yet', 'yet', 'yet', 'no', 'no', 'it', 'not', 'like', 'didn', 'know', 'said', 'love', 'you', 'swear', 'still', 'do', 'and', 'must', 'so', 'bad', 'cause', 'livin', 'must', 'damn', 'near', 'killed', 'and', 'remind', 'really', 'am', 'this', 'remind', 'really', 'am', 'it', 'not', 'like', 'say', 'sorry', 'waitin', 'different', 'story', 'this', 'time', 'mistaken', 'for', 'handing', 'heart', 'worth', 'breakin', 'and', 'v…",
         "sp_id": "0gmbgwZ8iqyMPmXefof8Yf",
         "danceability": 0.446,
         "energy": 0.764,
         "key": 10,
         "loudness": -5.042,
         "speechiness": 0.033,
         "acousticness": 0.00135,
         "instrumentalness": 0,
         "liveness": 0.099,
         "valence": 0.543,
         "tempo": 172.094,
         "distance_from_query": 0.013033140990821767,
         "_deepnote_index_column": 256
        },
        {
         "artist_mb": "Keane",
         "song_name": "Nothing in My Way",
         "id": 76,
         "lyrics_nostop": "a turning tide lovers great divide why do laugh when i know you're hurt inside? and why'd say it's just another day, nothing way i don't wanna go, i don't wanna stay so there's nothing left say? and why'd lie when wanna die, hurt inside don't know lie anyway now there's nothing left say a tell-tale sign you don't know draw line and why'd say it's just another day, nothing way i don't wanna go, i don't wanna stay so there's nothing left say and why'd lie when wanna die, hurt inside don't know lie anyway now there's nothing left say well, lonely soul you're having such nice time for lonely soul you're having such nice time for lonely soul, seems that you're having such nice time you're having such nice time for lonely soul you're having such nice time for lonely soul you're having such nice time for lonely soul, seems that you're having such nice time you're having such nice time11embed",
         "tokens": "['turning', 'tide', 'lovers', 'great', 'divide', 'why', 'do', 'laugh', 'when', 'know', 'you', 're', 'hurt', 'inside', 'and', 'why', 'say', 'it', 'just', 'another', 'day', 'nothing', 'way', 'don', 'wanna', 'go', 'don', 'wanna', 'stay', 'so', 'there', 'nothing', 'left', 'say', 'and', 'why', 'lie', 'when', 'wanna', 'die', 'hurt', 'inside', 'don', 'know', 'lie', 'anyway', 'now', 'there', 'nothing', 'left', 'say', 'tell', 'tale', 'sign', 'you', 'don', 'know', 'draw', 'line', 'and', 'why', 'say', 'it', 'just', 'another', 'day', 'nothing', 'way', 'don', 'wanna', 'go', 'don', 'wanna', 'stay', 'so', 'there', 'nothing', 'left', 'say', 'and', 'why', 'lie', 'when', 'wanna', 'die', 'hurt', 'inside', 'don', 'know', 'lie', 'anyway', 'now', 'there', 'nothing', 'left', 'say', 'well', 'lonely', 'soul', 'you', 're', 'having', 'such', 'nice', 'time', 'for', 'lonely', 'soul', 'you', 're', 'having', 'such', 'nice', 'time', 'for', 'lonely', 'soul', 'seems', 'that', 'you', 're', 'having', 'such', 'nice', 'ti…",
         "sp_id": "7falOwHJ9MjskdcNehIh79",
         "danceability": 0.399,
         "energy": 0.854,
         "key": 10,
         "loudness": -4.97,
         "speechiness": 0.0294,
         "acousticness": 0.00107,
         "instrumentalness": 0.00000396,
         "liveness": 0.0893,
         "valence": 0.872,
         "tempo": 172.478,
         "distance_from_query": 0.013340345661491336,
         "_deepnote_index_column": 473
        },
        {
         "artist_mb": "Duran Duran",
         "song_name": "Come Undone",
         "id": 1558,
         "lyrics_nostop": "mine, immaculate dream made breath skin, i've waiting signed, home tattoo happy birthday created (can't ever keep falling apart seams) (can not believe you've taken heart pieces) oh, it'll take little time might take little crime to come undone now we'll try stay blind to hope fear outside hey child, stay wilder than wind and blow into crime who do need, do love when come undone? who do need, do love when come undone? words, playing deja vu like radio tune, i swear i've heard before chills, something real or magic i'm feeding off fingers? (can not forgive falling apart seams) (can not believe you're taking heart pieces) lost, snow filled sky we'll make alright to come undone now we'll try stay blind to hope fear outside hey child, stay wilder than wind and blow into crime who do need, do love when come undone? who do need, do love when come undone? (can not forgive falling apart) who do need, do love when come undone? (can not forgive falling apart) who do need, (who do love) do love?…",
         "tokens": "['mine', 'immaculate', 'dream', 'made', 'breath', 'skin', 've', 'waiting', 'signed', 'home', 'tattoo', 'happy', 'birthday', 'created', 'can', 'ever', 'keep', 'falling', 'apart', 'seams', 'can', 'not', 'believe', 'you', 've', 'taken', 'heart', 'pieces', 'oh', 'it', 'll', 'take', 'little', 'time', 'might', 'take', 'little', 'crime', 'to', 'come', 'undone', 'now', 'we', 'll', 'try', 'stay', 'blind', 'to', 'hope', 'fear', 'outside', 'hey', 'child', 'stay', 'wilder', 'than', 'wind', 'and', 'blow', 'into', 'crime', 'who', 'do', 'need', 'do', 'love', 'when', 'come', 'undone', 'who', 'do', 'need', 'do', 'love', 'when', 'come', 'undone', 'words', 'playing', 'deja', 'vu', 'like', 'radio', 'tune', 'swear', 've', 'heard', 'before', 'chills', 'something', 'real', 'or', 'magic', 'feeding', 'off', 'fingers', 'can', 'not', 'forgive', 'falling', 'apart', 'seams', 'can', 'not', 'believe', 'you', 're', 'taking', 'heart', 'pieces', 'lost', 'snow', 'filled', 'sky', 'we', 'll', 'make', 'alright', 'to', 'co…",
         "sp_id": "0yfNXxlyXdmP0ue1iJijx1",
         "danceability": 0.542,
         "energy": 0.793,
         "key": 8,
         "loudness": -8.203,
         "speechiness": 0.053,
         "acousticness": 0.0423,
         "instrumentalness": 0.00000395,
         "liveness": 0.0814,
         "valence": 0.708,
         "tempo": 173.931,
         "distance_from_query": 0.014057663599189937,
         "_deepnote_index_column": 1333
        },
        {
         "artist_mb": "Stone Temple Pilots",
         "song_name": "Interstate Love Song",
         "id": 1678,
         "lyrics_nostop": "waiting sunday afternoon for i've read between lines your lies feeling like hand rusted shame so do laugh does cry reply? leaving southern train only yesterday lied promises i seemed only watched time go all these things said breathing hardest thing do with i've said that's dead you you lied goodbye leaving southern train only yesterday lied promises i seemed only watched time go all these things i said you20embed",
         "tokens": "['waiting', 'sunday', 'afternoon', 'for', 've', 'read', 'between', 'lines', 'your', 'lies', 'feeling', 'like', 'hand', 'rusted', 'shame', 'so', 'do', 'laugh', 'does', 'cry', 'reply', 'leaving', 'southern', 'train', 'only', 'yesterday', 'lied', 'promises', 'seemed', 'only', 'watched', 'time', 'go', 'all', 'these', 'things', 'said', 'breathing', 'hardest', 'thing', 'do', 'with', 've', 'said', 'that', 'dead', 'you', 'you', 'lied', 'goodbye', 'leaving', 'southern', 'train', 'only', 'yesterday', 'lied', 'promises', 'seemed', 'only', 'watched', 'time', 'go', 'all', 'these', 'things', 'said', 'you20embed']",
         "sp_id": "6qLEOZvf5gI7kWE63JE7p3",
         "danceability": 0.215,
         "energy": 0.927,
         "key": 9,
         "loudness": -7.327,
         "speechiness": 0.0452,
         "acousticness": 0.000273,
         "instrumentalness": 0.00661,
         "liveness": 0.126,
         "valence": 0.49,
         "tempo": 170.814,
         "distance_from_query": 0.014329810787624275,
         "_deepnote_index_column": 1419
        }
       ]
      },
      "text/plain": "                 artist_mb                   song_name    id  \\\n3                 Coldplay                      Yellow  2120   \n1840          Judas Priest  Beyond the Realms of Death  1817   \n690            Deep Purple                Highway Star   541   \n2020                 Kelis                 Millionaire  2024   \n509            Evanescence                 Going Under   770   \n206               The Cure             Pictures of You   828   \n256             Nickelback           How You Remind Me   573   \n473                  Keane           Nothing in My Way    76   \n1333           Duran Duran                 Come Undone  1558   \n1419   Stone Temple Pilots        Interstate Love Song  1678   \n1950         Mary J. Blige              I Can Love You  1181   \n603             Audioslave            I Am the Highway  1524   \n1617       Plain White T’s              Rhythm of Love   781   \n51            Foo Fighters               The Pretender   926   \n746              The Verve       Bitter Sweet Symphony   292   \n354                Incubus          Wish You Were Here  1585   \n475                  Keane      Somewhere Only We Know  1212   \n209               The Cure              Boys Don’t Cry  2203   \n740   The Notorious B.I.G.      Ten Crack Commandments  2356   \n298           Jimi Hendrix                Voodoo Child  1328   \n\n                                          lyrics_nostop  \\\n3     look stars, look shine and everything do yeah,...   \n1840  he had enough, couldn't take anymore he found ...   \n690   nobody gonna take car i'm gonna race ground no...   \n2020  i said, city so got witty, witty she said, cou...   \n509   now i tell i've done fifty thousand tears i've...   \n206   i've looking so long these pictures that i alm...   \n256   never made wise man i couldn't cut poor man st...   \n473   a turning tide lovers great divide why do laug...   \n1333  mine, immaculate dream made breath skin, i've ...   \n1419  waiting sunday afternoon for i've read between...   \n1950  i can love (i can love you), i can love (i can...   \n603   pearls swine bereft long weary my road has i l...   \n1617  my head stuck clouds she begs come down says, ...   \n51    keep dark, know pretend keep dark so began sen...   \n746   'cause it's bitter sweet symphony that's life ...   \n354   i dig toes into sand the ocean looks like thou...   \n475   i walked across empty land i knew pathway like...   \n209   i would say i'm sorry if i thought would chang...   \n740   1, 2, 3, 4, 5, 6, 7, 8, 9 it's ten crack comma...   \n298   well, i stand up next mountain and i chop down...   \n\n                                                 tokens  \\\n3     ['look', 'stars', 'look', 'shine', 'and', 'eve...   \n1840  ['he', 'had', 'enough', 'couldn', 'take', 'any...   \n690   ['nobody', 'gonna', 'take', 'car', 'gonna', 'r...   \n2020  ['said', 'city', 'so', 'got', 'witty', 'witty'...   \n509   ['now', 'tell', 've', 'done', 'fifty', 'thousa...   \n206   ['ve', 'looking', 'so', 'long', 'these', 'pict...   \n256   ['never', 'made', 'wise', 'man', 'couldn', 'cu...   \n473   ['turning', 'tide', 'lovers', 'great', 'divide...   \n1333  ['mine', 'immaculate', 'dream', 'made', 'breat...   \n1419  ['waiting', 'sunday', 'afternoon', 'for', 've'...   \n1950  ['can', 'love', 'can', 'love', 'you', 'can', '...   \n603   ['pearls', 'swine', 'bereft', 'long', 'weary',...   \n1617  ['my', 'head', 'stuck', 'clouds', 'she', 'begs...   \n51    ['keep', 'dark', 'know', 'pretend', 'keep', 'd...   \n746   ['cause', 'it', 'bitter', 'sweet', 'symphony',...   \n354   ['dig', 'toes', 'into', 'sand', 'the', 'ocean'...   \n475   ['walked', 'across', 'empty', 'land', 'knew', ...   \n209   ['would', 'say', 'sorry', 'if', 'thought', 'wo...   \n740   ['it', 'ten', 'crack', 'commandments', 'what',...   \n298   ['well', 'stand', 'up', 'next', 'mountain', 'a...   \n\n                       sp_id  danceability  energy   key  loudness  \\\n3     3AJwUDP919kvQ9QcozQPxg         0.429   0.661  11.0    -7.227   \n1840  3Rtv6zRNKpeSygXoaF9kCm         0.287   0.716  11.0    -5.653   \n690   4gVTozEmzwAUXpwj3jEetX         0.298   0.895   9.0    -7.647   \n2020  1mVTQSGoFchL3VVrIa0MeH         0.686   0.855  11.0    -6.600   \n509   3UygY7qW2cvG9Llkay6i1i         0.370   0.858  11.0    -4.885   \n206   1tuwC1Ob5vnYZhvg3zyzJg         0.484   0.776   9.0    -6.480   \n256   0gmbgwZ8iqyMPmXefof8Yf         0.446   0.764  10.0    -5.042   \n473   7falOwHJ9MjskdcNehIh79         0.399   0.854  10.0    -4.970   \n1333  0yfNXxlyXdmP0ue1iJijx1         0.542   0.793   8.0    -8.203   \n1419  6qLEOZvf5gI7kWE63JE7p3         0.215   0.927   9.0    -7.327   \n1950  4MTHIKGWNTBoubzDMkXFfa         0.635   0.614   7.0    -7.165   \n603   3bwAS8cN7Xtzvv5UurJOOX         0.341   0.662   9.0    -5.023   \n1617  6MDTpYxPFL0wtFd0pjfKws         0.531   0.542   8.0    -7.721   \n51    7x8dCjCr0x6x2lXKujYD34         0.433   0.959   9.0    -4.040   \n746   57iDDD9N9tTWe75x6qhStw         0.356   0.917   9.0    -6.006   \n354   6KtLECDztnah63TNmV4Plw         0.246   0.768   9.0    -7.480   \n475   0ll8uFnc0nANY35E0Lfxvg         0.453   0.655   9.0    -4.220   \n209   4dneV7C1yDt9UtyxrQY375         0.465   0.841  11.0    -5.767   \n740   1PASEh9KeFxfYQ5kg8x9TD         0.625   0.699   8.0    -9.432   \n298   2AxCeJ6PSsBYiTckM0HLY7         0.214   0.910   8.0    -6.662   \n\n      speechiness  acousticness  instrumentalness  liveness  valence    tempo  \\\n3          0.0281      0.002390          0.000121    0.2340    0.285  173.372   \n1840       0.0311      0.038100          0.000032    0.1640    0.544  172.123   \n690        0.0547      0.028300          0.005740    0.3050    0.544  173.737   \n2020       0.1160      0.025200          0.000000    0.0370    0.763  176.002   \n509        0.0545      0.008150          0.000021    0.2290    0.464  175.077   \n206        0.0312      0.003710          0.109000    0.1310    0.495  171.935   \n256        0.0330      0.001350          0.000000    0.0990    0.543  172.094   \n473        0.0294      0.001070          0.000004    0.0893    0.872  172.478   \n1333       0.0530      0.042300          0.000004    0.0814    0.708  173.931   \n1419       0.0452      0.000273          0.006610    0.1260    0.490  170.814   \n1950       0.1970      0.017900          0.000201    0.4150    0.736  174.213   \n603        0.0335      0.105000          0.000000    0.1130    0.200  174.875   \n1617       0.0432      0.356000          0.000000    0.1190    0.726  171.878   \n51         0.0431      0.000917          0.000000    0.0280    0.365  172.984   \n746        0.0479      0.033500          0.000000    0.4060    0.518  171.176   \n354        0.0387      0.000631          0.301000    0.1020    0.350  169.873   \n475        0.0259      0.079400          0.000008    0.0849    0.368  172.012   \n209        0.0633      0.004860          0.000000    0.1090    0.689  168.743   \n740        0.6530      0.045700          0.000000    0.2560    0.736  173.896   \n298        0.3890      0.477000          0.008330    0.0517    0.448  175.549   \n\n      distance_from_query  \n3                0.000000  \n1840             0.008827  \n690              0.009172  \n2020             0.011543  \n509              0.011702  \n206              0.012492  \n256              0.013033  \n473              0.013340  \n1333             0.014058  \n1419             0.014330  \n1950             0.015544  \n603              0.015929  \n1617             0.016009  \n51               0.016216  \n746              0.016248  \n354              0.017180  \n475              0.017647  \n209              0.018040  \n740              0.018330  \n298              0.019161  ",
      "text/html": "<div>\n<style scoped>\n    .dataframe tbody tr th:only-of-type {\n        vertical-align: middle;\n    }\n\n    .dataframe tbody tr th {\n        vertical-align: top;\n    }\n\n    .dataframe thead th {\n        text-align: right;\n    }\n</style>\n<table border=\"1\" class=\"dataframe\">\n  <thead>\n    <tr style=\"text-align: right;\">\n      <th></th>\n      <th>artist_mb</th>\n      <th>song_name</th>\n      <th>id</th>\n      <th>lyrics_nostop</th>\n      <th>tokens</th>\n      <th>sp_id</th>\n      <th>danceability</th>\n      <th>energy</th>\n      <th>key</th>\n      <th>loudness</th>\n      <th>speechiness</th>\n      <th>acousticness</th>\n      <th>instrumentalness</th>\n      <th>liveness</th>\n      <th>valence</th>\n      <th>tempo</th>\n      <th>distance_from_query</th>\n    </tr>\n  </thead>\n  <tbody>\n    <tr>\n      <th>3</th>\n      <td>Coldplay</td>\n      <td>Yellow</td>\n      <td>2120</td>\n      <td>look stars, look shine and everything do yeah,...</td>\n      <td>['look', 'stars', 'look', 'shine', 'and', 'eve...</td>\n      <td>3AJwUDP919kvQ9QcozQPxg</td>\n      <td>0.429</td>\n      <td>0.661</td>\n      <td>11.0</td>\n      <td>-7.227</td>\n      <td>0.0281</td>\n      <td>0.002390</td>\n      <td>0.000121</td>\n      <td>0.2340</td>\n      <td>0.285</td>\n      <td>173.372</td>\n      <td>0.000000</td>\n    </tr>\n    <tr>\n      <th>1840</th>\n      <td>Judas Priest</td>\n      <td>Beyond the Realms of Death</td>\n      <td>1817</td>\n      <td>he had enough, couldn't take anymore he found ...</td>\n      <td>['he', 'had', 'enough', 'couldn', 'take', 'any...</td>\n      <td>3Rtv6zRNKpeSygXoaF9kCm</td>\n      <td>0.287</td>\n      <td>0.716</td>\n      <td>11.0</td>\n      <td>-5.653</td>\n      <td>0.0311</td>\n      <td>0.038100</td>\n      <td>0.000032</td>\n      <td>0.1640</td>\n      <td>0.544</td>\n      <td>172.123</td>\n      <td>0.008827</td>\n    </tr>\n    <tr>\n      <th>690</th>\n      <td>Deep Purple</td>\n      <td>Highway Star</td>\n      <td>541</td>\n      <td>nobody gonna take car i'm gonna race ground no...</td>\n      <td>['nobody', 'gonna', 'take', 'car', 'gonna', 'r...</td>\n      <td>4gVTozEmzwAUXpwj3jEetX</td>\n      <td>0.298</td>\n      <td>0.895</td>\n      <td>9.0</td>\n      <td>-7.647</td>\n      <td>0.0547</td>\n      <td>0.028300</td>\n      <td>0.005740</td>\n      <td>0.3050</td>\n      <td>0.544</td>\n      <td>173.737</td>\n      <td>0.009172</td>\n    </tr>\n    <tr>\n      <th>2020</th>\n      <td>Kelis</td>\n      <td>Millionaire</td>\n      <td>2024</td>\n      <td>i said, city so got witty, witty she said, cou...</td>\n      <td>['said', 'city', 'so', 'got', 'witty', 'witty'...</td>\n      <td>1mVTQSGoFchL3VVrIa0MeH</td>\n      <td>0.686</td>\n      <td>0.855</td>\n      <td>11.0</td>\n      <td>-6.600</td>\n      <td>0.1160</td>\n      <td>0.025200</td>\n      <td>0.000000</td>\n      <td>0.0370</td>\n      <td>0.763</td>\n      <td>176.002</td>\n      <td>0.011543</td>\n    </tr>\n    <tr>\n      <th>509</th>\n      <td>Evanescence</td>\n      <td>Going Under</td>\n      <td>770</td>\n      <td>now i tell i've done fifty thousand tears i've...</td>\n      <td>['now', 'tell', 've', 'done', 'fifty', 'thousa...</td>\n      <td>3UygY7qW2cvG9Llkay6i1i</td>\n      <td>0.370</td>\n      <td>0.858</td>\n      <td>11.0</td>\n      <td>-4.885</td>\n      <td>0.0545</td>\n      <td>0.008150</td>\n      <td>0.000021</td>\n      <td>0.2290</td>\n      <td>0.464</td>\n      <td>175.077</td>\n      <td>0.011702</td>\n    </tr>\n    <tr>\n      <th>206</th>\n      <td>The Cure</td>\n      <td>Pictures of You</td>\n      <td>828</td>\n      <td>i've looking so long these pictures that i alm...</td>\n      <td>['ve', 'looking', 'so', 'long', 'these', 'pict...</td>\n      <td>1tuwC1Ob5vnYZhvg3zyzJg</td>\n      <td>0.484</td>\n      <td>0.776</td>\n      <td>9.0</td>\n      <td>-6.480</td>\n      <td>0.0312</td>\n      <td>0.003710</td>\n      <td>0.109000</td>\n      <td>0.1310</td>\n      <td>0.495</td>\n      <td>171.935</td>\n      <td>0.012492</td>\n    </tr>\n    <tr>\n      <th>256</th>\n      <td>Nickelback</td>\n      <td>How You Remind Me</td>\n      <td>573</td>\n      <td>never made wise man i couldn't cut poor man st...</td>\n      <td>['never', 'made', 'wise', 'man', 'couldn', 'cu...</td>\n      <td>0gmbgwZ8iqyMPmXefof8Yf</td>\n      <td>0.446</td>\n      <td>0.764</td>\n      <td>10.0</td>\n      <td>-5.042</td>\n      <td>0.0330</td>\n      <td>0.001350</td>\n      <td>0.000000</td>\n      <td>0.0990</td>\n      <td>0.543</td>\n      <td>172.094</td>\n      <td>0.013033</td>\n    </tr>\n    <tr>\n      <th>473</th>\n      <td>Keane</td>\n      <td>Nothing in My Way</td>\n      <td>76</td>\n      <td>a turning tide lovers great divide why do laug...</td>\n      <td>['turning', 'tide', 'lovers', 'great', 'divide...</td>\n      <td>7falOwHJ9MjskdcNehIh79</td>\n      <td>0.399</td>\n      <td>0.854</td>\n      <td>10.0</td>\n      <td>-4.970</td>\n      <td>0.0294</td>\n      <td>0.001070</td>\n      <td>0.000004</td>\n      <td>0.0893</td>\n      <td>0.872</td>\n      <td>172.478</td>\n      <td>0.013340</td>\n    </tr>\n    <tr>\n      <th>1333</th>\n      <td>Duran Duran</td>\n      <td>Come Undone</td>\n      <td>1558</td>\n      <td>mine, immaculate dream made breath skin, i've ...</td>\n      <td>['mine', 'immaculate', 'dream', 'made', 'breat...</td>\n      <td>0yfNXxlyXdmP0ue1iJijx1</td>\n      <td>0.542</td>\n      <td>0.793</td>\n      <td>8.0</td>\n      <td>-8.203</td>\n      <td>0.0530</td>\n      <td>0.042300</td>\n      <td>0.000004</td>\n      <td>0.0814</td>\n      <td>0.708</td>\n      <td>173.931</td>\n      <td>0.014058</td>\n    </tr>\n    <tr>\n      <th>1419</th>\n      <td>Stone Temple Pilots</td>\n      <td>Interstate Love Song</td>\n      <td>1678</td>\n      <td>waiting sunday afternoon for i've read between...</td>\n      <td>['waiting', 'sunday', 'afternoon', 'for', 've'...</td>\n      <td>6qLEOZvf5gI7kWE63JE7p3</td>\n      <td>0.215</td>\n      <td>0.927</td>\n      <td>9.0</td>\n      <td>-7.327</td>\n      <td>0.0452</td>\n      <td>0.000273</td>\n      <td>0.006610</td>\n      <td>0.1260</td>\n      <td>0.490</td>\n      <td>170.814</td>\n      <td>0.014330</td>\n    </tr>\n    <tr>\n      <th>1950</th>\n      <td>Mary J. Blige</td>\n      <td>I Can Love You</td>\n      <td>1181</td>\n      <td>i can love (i can love you), i can love (i can...</td>\n      <td>['can', 'love', 'can', 'love', 'you', 'can', '...</td>\n      <td>4MTHIKGWNTBoubzDMkXFfa</td>\n      <td>0.635</td>\n      <td>0.614</td>\n      <td>7.0</td>\n      <td>-7.165</td>\n      <td>0.1970</td>\n      <td>0.017900</td>\n      <td>0.000201</td>\n      <td>0.4150</td>\n      <td>0.736</td>\n      <td>174.213</td>\n      <td>0.015544</td>\n    </tr>\n    <tr>\n      <th>603</th>\n      <td>Audioslave</td>\n      <td>I Am the Highway</td>\n      <td>1524</td>\n      <td>pearls swine bereft long weary my road has i l...</td>\n      <td>['pearls', 'swine', 'bereft', 'long', 'weary',...</td>\n      <td>3bwAS8cN7Xtzvv5UurJOOX</td>\n      <td>0.341</td>\n      <td>0.662</td>\n      <td>9.0</td>\n      <td>-5.023</td>\n      <td>0.0335</td>\n      <td>0.105000</td>\n      <td>0.000000</td>\n      <td>0.1130</td>\n      <td>0.200</td>\n      <td>174.875</td>\n      <td>0.015929</td>\n    </tr>\n    <tr>\n      <th>1617</th>\n      <td>Plain White T’s</td>\n      <td>Rhythm of Love</td>\n      <td>781</td>\n      <td>my head stuck clouds she begs come down says, ...</td>\n      <td>['my', 'head', 'stuck', 'clouds', 'she', 'begs...</td>\n      <td>6MDTpYxPFL0wtFd0pjfKws</td>\n      <td>0.531</td>\n      <td>0.542</td>\n      <td>8.0</td>\n      <td>-7.721</td>\n      <td>0.0432</td>\n      <td>0.356000</td>\n      <td>0.000000</td>\n      <td>0.1190</td>\n      <td>0.726</td>\n      <td>171.878</td>\n      <td>0.016009</td>\n    </tr>\n    <tr>\n      <th>51</th>\n      <td>Foo Fighters</td>\n      <td>The Pretender</td>\n      <td>926</td>\n      <td>keep dark, know pretend keep dark so began sen...</td>\n      <td>['keep', 'dark', 'know', 'pretend', 'keep', 'd...</td>\n      <td>7x8dCjCr0x6x2lXKujYD34</td>\n      <td>0.433</td>\n      <td>0.959</td>\n      <td>9.0</td>\n      <td>-4.040</td>\n      <td>0.0431</td>\n      <td>0.000917</td>\n      <td>0.000000</td>\n      <td>0.0280</td>\n      <td>0.365</td>\n      <td>172.984</td>\n      <td>0.016216</td>\n    </tr>\n    <tr>\n      <th>746</th>\n      <td>The Verve</td>\n      <td>Bitter Sweet Symphony</td>\n      <td>292</td>\n      <td>'cause it's bitter sweet symphony that's life ...</td>\n      <td>['cause', 'it', 'bitter', 'sweet', 'symphony',...</td>\n      <td>57iDDD9N9tTWe75x6qhStw</td>\n      <td>0.356</td>\n      <td>0.917</td>\n      <td>9.0</td>\n      <td>-6.006</td>\n      <td>0.0479</td>\n      <td>0.033500</td>\n      <td>0.000000</td>\n      <td>0.4060</td>\n      <td>0.518</td>\n      <td>171.176</td>\n      <td>0.016248</td>\n    </tr>\n    <tr>\n      <th>354</th>\n      <td>Incubus</td>\n      <td>Wish You Were Here</td>\n      <td>1585</td>\n      <td>i dig toes into sand the ocean looks like thou...</td>\n      <td>['dig', 'toes', 'into', 'sand', 'the', 'ocean'...</td>\n      <td>6KtLECDztnah63TNmV4Plw</td>\n      <td>0.246</td>\n      <td>0.768</td>\n      <td>9.0</td>\n      <td>-7.480</td>\n      <td>0.0387</td>\n      <td>0.000631</td>\n      <td>0.301000</td>\n      <td>0.1020</td>\n      <td>0.350</td>\n      <td>169.873</td>\n      <td>0.017180</td>\n    </tr>\n    <tr>\n      <th>475</th>\n      <td>Keane</td>\n      <td>Somewhere Only We Know</td>\n      <td>1212</td>\n      <td>i walked across empty land i knew pathway like...</td>\n      <td>['walked', 'across', 'empty', 'land', 'knew', ...</td>\n      <td>0ll8uFnc0nANY35E0Lfxvg</td>\n      <td>0.453</td>\n      <td>0.655</td>\n      <td>9.0</td>\n      <td>-4.220</td>\n      <td>0.0259</td>\n      <td>0.079400</td>\n      <td>0.000008</td>\n      <td>0.0849</td>\n      <td>0.368</td>\n      <td>172.012</td>\n      <td>0.017647</td>\n    </tr>\n    <tr>\n      <th>209</th>\n      <td>The Cure</td>\n      <td>Boys Don’t Cry</td>\n      <td>2203</td>\n      <td>i would say i'm sorry if i thought would chang...</td>\n      <td>['would', 'say', 'sorry', 'if', 'thought', 'wo...</td>\n      <td>4dneV7C1yDt9UtyxrQY375</td>\n      <td>0.465</td>\n      <td>0.841</td>\n      <td>11.0</td>\n      <td>-5.767</td>\n      <td>0.0633</td>\n      <td>0.004860</td>\n      <td>0.000000</td>\n      <td>0.1090</td>\n      <td>0.689</td>\n      <td>168.743</td>\n      <td>0.018040</td>\n    </tr>\n    <tr>\n      <th>740</th>\n      <td>The Notorious B.I.G.</td>\n      <td>Ten Crack Commandments</td>\n      <td>2356</td>\n      <td>1, 2, 3, 4, 5, 6, 7, 8, 9 it's ten crack comma...</td>\n      <td>['it', 'ten', 'crack', 'commandments', 'what',...</td>\n      <td>1PASEh9KeFxfYQ5kg8x9TD</td>\n      <td>0.625</td>\n      <td>0.699</td>\n      <td>8.0</td>\n      <td>-9.432</td>\n      <td>0.6530</td>\n      <td>0.045700</td>\n      <td>0.000000</td>\n      <td>0.2560</td>\n      <td>0.736</td>\n      <td>173.896</td>\n      <td>0.018330</td>\n    </tr>\n    <tr>\n      <th>298</th>\n      <td>Jimi Hendrix</td>\n      <td>Voodoo Child</td>\n      <td>1328</td>\n      <td>well, i stand up next mountain and i chop down...</td>\n      <td>['well', 'stand', 'up', 'next', 'mountain', 'a...</td>\n      <td>2AxCeJ6PSsBYiTckM0HLY7</td>\n      <td>0.214</td>\n      <td>0.910</td>\n      <td>8.0</td>\n      <td>-6.662</td>\n      <td>0.3890</td>\n      <td>0.477000</td>\n      <td>0.008330</td>\n      <td>0.0517</td>\n      <td>0.448</td>\n      <td>175.549</td>\n      <td>0.019161</td>\n    </tr>\n  </tbody>\n</table>\n</div>"
     },
     "metadata": {}
    }
   ],
   "execution_count": 56
  },
  {
   "cell_type": "markdown",
   "source": "So after picking a random song, \"Yellow\" by Coldplay, we now have the top 20 songs that match the audio features of that song. After listening to \"Yellow\", \"Beyond the Realms of Death\", \"Highway Star\", and \"Millionaire\", I can confirm that they are similar!",
   "metadata": {
    "cell_id": "8ff1fb7d32e34894a11051aacdc4fb87",
    "tags": [],
    "is_collapsed": false,
    "formattedRanges": [],
    "deepnote_cell_type": "text-cell-p"
   }
  },
  {
   "cell_type": "code",
   "source": "def songs_with_similar_audio_features(track_info, amnt):\n    compare = ['danceability', 'energy', 'key', 'loudness', 'speechiness','acousticness', \n            'instrumentalness', 'liveness', 'valence', 'tempo']\n    artist = input(\"Input an artists name: \")\n    if not track_info['artist_mb'].str.contains(artist).any():\n        print(\"That artist isn't in the database, let's try adding it!\")\n        add_new_songs()\n    print(\"We have some songs from them!\")\n    for song in list(track_info[track_info[\"artist_mb\"] == artist][\"song_name\"])\n        print(song)\n    song = input(\"Input one of their songs: \")\n\n    result = get_query_song_info(track_info, artist, song)\n    if result.empty:\n        print(\"Looks like there was a problem, try again\")\n        return\n    comp_query = result[compare]\n    comp_query = comp_query.iloc[0]\n    comp_query = comp_query.to_list()\n\n    comp_df = track_info[compare]\n    comp_df = comp_df.apply(pd.to_numeric)\n\n    \n    track_info[\"distance_from_query\"] = comp_df.apply(lambda x : \n            song_sim(x.to_list(), comp_query), axis = 1)\n    \n    top_tracks = track_info.sort_values(by = ['distance_from_query'])\n\n    return top_tracks[0:amnt+1]\n",
   "metadata": {
    "cell_id": "1388e88ffd0340d387a2596349c32d3d",
    "tags": [],
    "deepnote_to_be_reexecuted": false,
    "source_hash": "8e305d57",
    "execution_start": 1655838984517,
    "execution_millis": 5,
    "deepnote_cell_type": "code",
    "deepnote_cell_height": 621
   },
   "outputs": [],
   "execution_count": 68
  },
  {
   "cell_type": "code",
   "source": "def audio_similarity_spotify_ids(top_songs):\n    return list(top_songs[\"sp_id\"])",
   "metadata": {
    "cell_id": "de89580c37224640bf88199c3f10e1e9",
    "tags": [],
    "deepnote_to_be_reexecuted": false,
    "source_hash": "a9576a5e",
    "execution_start": 1655839028501,
    "execution_millis": 2,
    "deepnote_cell_type": "code",
    "deepnote_cell_height": 99
   },
   "outputs": [],
   "execution_count": 71
  },
  {
   "cell_type": "code",
   "source": "get_query_song_info(track_info, 'Tame Impala', 'The Less I Know the Better')",
   "metadata": {
    "cell_id": "1c40ea9698b141ed80a79c5f7cc3e189",
    "tags": [],
    "deepnote_to_be_reexecuted": false,
    "source_hash": "f2c93f5d",
    "execution_start": 1655838664826,
    "execution_millis": 57,
    "deepnote_cell_type": "code",
    "deepnote_cell_height": 248
   },
   "outputs": [
    {
     "output_type": "execute_result",
     "execution_count": 66,
     "data": {
      "application/vnd.deepnote.dataframe.v3+json": {
       "column_count": 17,
       "row_count": 1,
       "columns": [
        {
         "name": "artist_mb",
         "dtype": "object",
         "stats": {
          "unique_count": 1,
          "nan_count": 0,
          "categories": [
           {
            "name": "Tame Impala",
            "count": 1
           }
          ]
         }
        },
        {
         "name": "song_name",
         "dtype": "object",
         "stats": {
          "unique_count": 1,
          "nan_count": 0,
          "categories": [
           {
            "name": "The Less I Know the Better",
            "count": 1
           }
          ]
         }
        },
        {
         "name": "id",
         "dtype": "int64",
         "stats": {
          "unique_count": 1,
          "nan_count": 0,
          "min": "2429",
          "max": "2429",
          "histogram": [
           {
            "bin_start": 2428.5,
            "bin_end": 2428.6,
            "count": 0
           },
           {
            "bin_start": 2428.6,
            "bin_end": 2428.7,
            "count": 0
           },
           {
            "bin_start": 2428.7,
            "bin_end": 2428.8,
            "count": 0
           },
           {
            "bin_start": 2428.8,
            "bin_end": 2428.9,
            "count": 0
           },
           {
            "bin_start": 2428.9,
            "bin_end": 2429,
            "count": 0
           },
           {
            "bin_start": 2429,
            "bin_end": 2429.1,
            "count": 1
           },
           {
            "bin_start": 2429.1,
            "bin_end": 2429.2,
            "count": 0
           },
           {
            "bin_start": 2429.2,
            "bin_end": 2429.3,
            "count": 0
           },
           {
            "bin_start": 2429.3,
            "bin_end": 2429.4,
            "count": 0
           },
           {
            "bin_start": 2429.4,
            "bin_end": 2429.5,
            "count": 0
           }
          ]
         }
        },
        {
         "name": "lyrics_nostop",
         "dtype": "object",
         "stats": {
          "unique_count": 1,
          "nan_count": 0,
          "categories": [
           {
            "name": "someone said left together i ran out door get she holding hands trevor not greatest feeling ever said, \"pull yourself together you should try luck heather\" then i heard slept together oh, less i know better the less i know better oh, love, can't see yourself side? no surprise you're shoulder like every night oh, love, can't see you're mind? don't suppose we could convince lover change mind? so goodbye she said, \"it's not now never wait ten years, we'll together\" i said, \"better late than never just don't make wait forever\" don't make wait forever don't make wait forever oh, love, can't see yourself side? i don't suppose could convince lover change mind? i doing fine without ya till i saw face, now i can't erase giving bullshit is want? is are? i doing fine without ya till i saw eyes turn away mine oh, sweet darling, wants said, \"come on, superman, say stupid line\" said, \"come on, superman, say stupid line\" said, \"come on, superman, say stupid line\"201embed",
            "count": 1
           }
          ]
         }
        },
        {
         "name": "tokens",
         "dtype": "object",
         "stats": {
          "unique_count": 1,
          "nan_count": 0,
          "categories": [
           {
            "name": "['someone', 'said', 'left', 'together', 'ran', 'out', 'door', 'get', 'she', 'holding', 'hands', 'trevor', 'not', 'greatest', 'feeling', 'ever', 'said', 'pull', 'yourself', 'together', 'you', 'should', 'try', 'luck', 'heather', 'then', 'heard', 'slept', 'together', 'oh', 'less', 'know', 'better', 'the', 'less', 'know', 'better', 'oh', 'love', 'can', 'see', 'yourself', 'side', 'no', 'surprise', 'you', 're', 'shoulder', 'like', 'every', 'night', 'oh', 'love', 'can', 'see', 'you', 're', 'mind', 'don', 'suppose', 'we', 'could', 'convince', 'lover', 'change', 'mind', 'so', 'goodbye', 'she', 'said', 'it', 'not', 'now', 'never', 'wait', 'ten', 'years', 'we', 'll', 'together', 'said', 'better', 'late', 'than', 'never', 'just', 'don', 'make', 'wait', 'forever', 'don', 'make', 'wait', 'forever', 'don', 'make', 'wait', 'forever', 'oh', 'love', 'can', 'see', 'yourself', 'side', 'don', 'suppose', 'could', 'convince', 'lover', 'change', 'mind', 'doing', 'fine', 'without', 'ya', 'till', 'saw', 'face', 'now', 'can', 'erase', 'giving', 'bullshit', 'is', 'want', 'is', 'are', 'doing', 'fine', 'without', 'ya', 'till', 'saw', 'eyes', 'turn', 'away', 'mine', 'oh', 'sweet', 'darling', 'wants', 'said', 'come', 'on', 'superman', 'say', 'stupid', 'line', 'said', 'come', 'on', 'superman', 'say', 'stupid', 'line', 'said', 'come', 'on', 'superman', 'say', 'stupid', 'line', '201embed']",
            "count": 1
           }
          ]
         }
        },
        {
         "name": "sp_id",
         "dtype": "object",
         "stats": {
          "unique_count": 1,
          "nan_count": 0,
          "categories": [
           {
            "name": "6K4t31amVTZDgR3sKmwUJJ",
            "count": 1
           }
          ]
         }
        },
        {
         "name": "danceability",
         "dtype": "float64",
         "stats": {
          "unique_count": 1,
          "nan_count": 0,
          "min": "0.64",
          "max": "0.64",
          "histogram": [
           {
            "bin_start": 0.14,
            "bin_end": 0.24000000000000002,
            "count": 0
           },
           {
            "bin_start": 0.24000000000000002,
            "bin_end": 0.34,
            "count": 0
           },
           {
            "bin_start": 0.34,
            "bin_end": 0.44000000000000006,
            "count": 0
           },
           {
            "bin_start": 0.44000000000000006,
            "bin_end": 0.54,
            "count": 0
           },
           {
            "bin_start": 0.54,
            "bin_end": 0.64,
            "count": 0
           },
           {
            "bin_start": 0.64,
            "bin_end": 0.7400000000000001,
            "count": 1
           },
           {
            "bin_start": 0.7400000000000001,
            "bin_end": 0.8400000000000001,
            "count": 0
           },
           {
            "bin_start": 0.8400000000000001,
            "bin_end": 0.9400000000000001,
            "count": 0
           },
           {
            "bin_start": 0.9400000000000001,
            "bin_end": 1.04,
            "count": 0
           },
           {
            "bin_start": 1.04,
            "bin_end": 1.1400000000000001,
            "count": 0
           }
          ]
         }
        },
        {
         "name": "energy",
         "dtype": "float64",
         "stats": {
          "unique_count": 1,
          "nan_count": 0,
          "min": "0.74",
          "max": "0.74",
          "histogram": [
           {
            "bin_start": 0.24,
            "bin_end": 0.33999999999999997,
            "count": 0
           },
           {
            "bin_start": 0.33999999999999997,
            "bin_end": 0.44,
            "count": 0
           },
           {
            "bin_start": 0.44,
            "bin_end": 0.54,
            "count": 0
           },
           {
            "bin_start": 0.54,
            "bin_end": 0.64,
            "count": 0
           },
           {
            "bin_start": 0.64,
            "bin_end": 0.74,
            "count": 0
           },
           {
            "bin_start": 0.74,
            "bin_end": 0.8400000000000001,
            "count": 1
           },
           {
            "bin_start": 0.8400000000000001,
            "bin_end": 0.9400000000000001,
            "count": 0
           },
           {
            "bin_start": 0.9400000000000001,
            "bin_end": 1.04,
            "count": 0
           },
           {
            "bin_start": 1.04,
            "bin_end": 1.1400000000000001,
            "count": 0
           },
           {
            "bin_start": 1.1400000000000001,
            "bin_end": 1.24,
            "count": 0
           }
          ]
         }
        },
        {
         "name": "key",
         "dtype": "float64",
         "stats": {
          "unique_count": 1,
          "nan_count": 0,
          "min": "4.0",
          "max": "4.0",
          "histogram": [
           {
            "bin_start": 3.5,
            "bin_end": 3.6,
            "count": 0
           },
           {
            "bin_start": 3.6,
            "bin_end": 3.7,
            "count": 0
           },
           {
            "bin_start": 3.7,
            "bin_end": 3.8,
            "count": 0
           },
           {
            "bin_start": 3.8,
            "bin_end": 3.9,
            "count": 0
           },
           {
            "bin_start": 3.9,
            "bin_end": 4,
            "count": 0
           },
           {
            "bin_start": 4,
            "bin_end": 4.1,
            "count": 1
           },
           {
            "bin_start": 4.1,
            "bin_end": 4.2,
            "count": 0
           },
           {
            "bin_start": 4.2,
            "bin_end": 4.3,
            "count": 0
           },
           {
            "bin_start": 4.3,
            "bin_end": 4.4,
            "count": 0
           },
           {
            "bin_start": 4.4,
            "bin_end": 4.5,
            "count": 0
           }
          ]
         }
        },
        {
         "name": "loudness",
         "dtype": "float64",
         "stats": {
          "unique_count": 1,
          "nan_count": 0,
          "min": "-4.083",
          "max": "-4.083",
          "histogram": [
           {
            "bin_start": -4.583,
            "bin_end": -4.4830000000000005,
            "count": 0
           },
           {
            "bin_start": -4.4830000000000005,
            "bin_end": -4.383,
            "count": 0
           },
           {
            "bin_start": -4.383,
            "bin_end": -4.283,
            "count": 0
           },
           {
            "bin_start": -4.283,
            "bin_end": -4.183,
            "count": 0
           },
           {
            "bin_start": -4.183,
            "bin_end": -4.083,
            "count": 0
           },
           {
            "bin_start": -4.083,
            "bin_end": -3.983,
            "count": 1
           },
           {
            "bin_start": -3.983,
            "bin_end": -3.883,
            "count": 0
           },
           {
            "bin_start": -3.883,
            "bin_end": -3.7830000000000004,
            "count": 0
           },
           {
            "bin_start": -3.7830000000000004,
            "bin_end": -3.6830000000000003,
            "count": 0
           },
           {
            "bin_start": -3.6830000000000003,
            "bin_end": -3.583,
            "count": 0
           }
          ]
         }
        },
        {
         "name": "speechiness",
         "dtype": "float64",
         "stats": {
          "unique_count": 1,
          "nan_count": 0,
          "min": "0.0284",
          "max": "0.0284",
          "histogram": [
           {
            "bin_start": -0.4716,
            "bin_end": -0.37160000000000004,
            "count": 0
           },
           {
            "bin_start": -0.37160000000000004,
            "bin_end": -0.2716,
            "count": 0
           },
           {
            "bin_start": -0.2716,
            "bin_end": -0.17159999999999997,
            "count": 0
           },
           {
            "bin_start": -0.17159999999999997,
            "bin_end": -0.0716,
            "count": 0
           },
           {
            "bin_start": -0.0716,
            "bin_end": 0.02839999999999998,
            "count": 0
           },
           {
            "bin_start": 0.02839999999999998,
            "bin_end": 0.12840000000000007,
            "count": 1
           },
           {
            "bin_start": 0.12840000000000007,
            "bin_end": 0.22840000000000005,
            "count": 0
           },
           {
            "bin_start": 0.22840000000000005,
            "bin_end": 0.3284,
            "count": 0
           },
           {
            "bin_start": 0.3284,
            "bin_end": 0.4284,
            "count": 0
           },
           {
            "bin_start": 0.4284,
            "bin_end": 0.5284,
            "count": 0
           }
          ]
         }
        },
        {
         "name": "acousticness",
         "dtype": "float64",
         "stats": {
          "unique_count": 1,
          "nan_count": 0,
          "min": "0.0115",
          "max": "0.0115",
          "histogram": [
           {
            "bin_start": -0.4885,
            "bin_end": -0.38849999999999996,
            "count": 0
           },
           {
            "bin_start": -0.38849999999999996,
            "bin_end": -0.2885,
            "count": 0
           },
           {
            "bin_start": -0.2885,
            "bin_end": -0.18849999999999995,
            "count": 0
           },
           {
            "bin_start": -0.18849999999999995,
            "bin_end": -0.08849999999999997,
            "count": 0
           },
           {
            "bin_start": -0.08849999999999997,
            "bin_end": 0.01150000000000001,
            "count": 1
           },
           {
            "bin_start": 0.01150000000000001,
            "bin_end": 0.1115000000000001,
            "count": 0
           },
           {
            "bin_start": 0.1115000000000001,
            "bin_end": 0.21150000000000008,
            "count": 0
           },
           {
            "bin_start": 0.21150000000000008,
            "bin_end": 0.31150000000000005,
            "count": 0
           },
           {
            "bin_start": 0.31150000000000005,
            "bin_end": 0.41150000000000003,
            "count": 0
           },
           {
            "bin_start": 0.41150000000000003,
            "bin_end": 0.5115,
            "count": 0
           }
          ]
         }
        },
        {
         "name": "instrumentalness",
         "dtype": "float64",
         "stats": {
          "unique_count": 1,
          "nan_count": 0,
          "min": "0.00678",
          "max": "0.00678",
          "histogram": [
           {
            "bin_start": -0.49322,
            "bin_end": -0.39322,
            "count": 0
           },
           {
            "bin_start": -0.39322,
            "bin_end": -0.29322,
            "count": 0
           },
           {
            "bin_start": -0.29322,
            "bin_end": -0.19321999999999995,
            "count": 0
           },
           {
            "bin_start": -0.19321999999999995,
            "bin_end": -0.09321999999999997,
            "count": 0
           },
           {
            "bin_start": -0.09321999999999997,
            "bin_end": 0.006780000000000008,
            "count": 1
           },
           {
            "bin_start": 0.006780000000000008,
            "bin_end": 0.1067800000000001,
            "count": 0
           },
           {
            "bin_start": 0.1067800000000001,
            "bin_end": 0.20678000000000007,
            "count": 0
           },
           {
            "bin_start": 0.20678000000000007,
            "bin_end": 0.30678000000000005,
            "count": 0
           },
           {
            "bin_start": 0.30678000000000005,
            "bin_end": 0.40678000000000003,
            "count": 0
           },
           {
            "bin_start": 0.40678000000000003,
            "bin_end": 0.50678,
            "count": 0
           }
          ]
         }
        },
        {
         "name": "liveness",
         "dtype": "float64",
         "stats": {
          "unique_count": 1,
          "nan_count": 0,
          "min": "0.167",
          "max": "0.167",
          "histogram": [
           {
            "bin_start": -0.33299999999999996,
            "bin_end": -0.23299999999999996,
            "count": 0
           },
           {
            "bin_start": -0.23299999999999996,
            "bin_end": -0.13299999999999995,
            "count": 0
           },
           {
            "bin_start": -0.13299999999999995,
            "bin_end": -0.03299999999999992,
            "count": 0
           },
           {
            "bin_start": -0.03299999999999992,
            "bin_end": 0.06700000000000006,
            "count": 0
           },
           {
            "bin_start": 0.06700000000000006,
            "bin_end": 0.16700000000000004,
            "count": 1
           },
           {
            "bin_start": 0.16700000000000004,
            "bin_end": 0.2670000000000001,
            "count": 0
           },
           {
            "bin_start": 0.2670000000000001,
            "bin_end": 0.3670000000000001,
            "count": 0
           },
           {
            "bin_start": 0.3670000000000001,
            "bin_end": 0.4670000000000001,
            "count": 0
           },
           {
            "bin_start": 0.4670000000000001,
            "bin_end": 0.5670000000000001,
            "count": 0
           },
           {
            "bin_start": 0.5670000000000001,
            "bin_end": 0.667,
            "count": 0
           }
          ]
         }
        },
        {
         "name": "valence",
         "dtype": "float64",
         "stats": {
          "unique_count": 1,
          "nan_count": 0,
          "min": "0.785",
          "max": "0.785",
          "histogram": [
           {
            "bin_start": 0.28500000000000003,
            "bin_end": 0.385,
            "count": 0
           },
           {
            "bin_start": 0.385,
            "bin_end": 0.48500000000000004,
            "count": 0
           },
           {
            "bin_start": 0.48500000000000004,
            "bin_end": 0.5850000000000001,
            "count": 0
           },
           {
            "bin_start": 0.5850000000000001,
            "bin_end": 0.685,
            "count": 0
           },
           {
            "bin_start": 0.685,
            "bin_end": 0.785,
            "count": 0
           },
           {
            "bin_start": 0.785,
            "bin_end": 0.8850000000000001,
            "count": 1
           },
           {
            "bin_start": 0.8850000000000001,
            "bin_end": 0.9850000000000001,
            "count": 0
           },
           {
            "bin_start": 0.9850000000000001,
            "bin_end": 1.085,
            "count": 0
           },
           {
            "bin_start": 1.085,
            "bin_end": 1.185,
            "count": 0
           },
           {
            "bin_start": 1.185,
            "bin_end": 1.2850000000000001,
            "count": 0
           }
          ]
         }
        },
        {
         "name": "tempo",
         "dtype": "float64",
         "stats": {
          "unique_count": 1,
          "nan_count": 0,
          "min": "116.879",
          "max": "116.879",
          "histogram": [
           {
            "bin_start": 116.379,
            "bin_end": 116.479,
            "count": 0
           },
           {
            "bin_start": 116.479,
            "bin_end": 116.57900000000001,
            "count": 0
           },
           {
            "bin_start": 116.57900000000001,
            "bin_end": 116.679,
            "count": 0
           },
           {
            "bin_start": 116.679,
            "bin_end": 116.77900000000001,
            "count": 0
           },
           {
            "bin_start": 116.77900000000001,
            "bin_end": 116.879,
            "count": 0
           },
           {
            "bin_start": 116.879,
            "bin_end": 116.979,
            "count": 1
           },
           {
            "bin_start": 116.979,
            "bin_end": 117.07900000000001,
            "count": 0
           },
           {
            "bin_start": 117.07900000000001,
            "bin_end": 117.179,
            "count": 0
           },
           {
            "bin_start": 117.179,
            "bin_end": 117.27900000000001,
            "count": 0
           },
           {
            "bin_start": 117.27900000000001,
            "bin_end": 117.379,
            "count": 0
           }
          ]
         }
        },
        {
         "name": "distance_from_query",
         "dtype": "float64",
         "stats": {
          "unique_count": 1,
          "nan_count": 0,
          "min": "0.0",
          "max": "0.0",
          "histogram": [
           {
            "bin_start": -0.5,
            "bin_end": -0.4,
            "count": 0
           },
           {
            "bin_start": -0.4,
            "bin_end": -0.3,
            "count": 0
           },
           {
            "bin_start": -0.3,
            "bin_end": -0.19999999999999996,
            "count": 0
           },
           {
            "bin_start": -0.19999999999999996,
            "bin_end": -0.09999999999999998,
            "count": 0
           },
           {
            "bin_start": -0.09999999999999998,
            "bin_end": 0,
            "count": 0
           },
           {
            "bin_start": 0,
            "bin_end": 0.10000000000000009,
            "count": 1
           },
           {
            "bin_start": 0.10000000000000009,
            "bin_end": 0.20000000000000007,
            "count": 0
           },
           {
            "bin_start": 0.20000000000000007,
            "bin_end": 0.30000000000000004,
            "count": 0
           },
           {
            "bin_start": 0.30000000000000004,
            "bin_end": 0.4,
            "count": 0
           },
           {
            "bin_start": 0.4,
            "bin_end": 0.5,
            "count": 0
           }
          ]
         }
        },
        {
         "name": "_deepnote_index_column",
         "dtype": "int64"
        }
       ],
       "rows": [
        {
         "artist_mb": "Tame Impala",
         "song_name": "The Less I Know the Better",
         "id": 2429,
         "lyrics_nostop": "someone said left together i ran out door get she holding hands trevor not greatest feeling ever said, \"pull yourself together you should try luck heather\" then i heard slept together oh, less i know better the less i know better oh, love, can't see yourself side? no surprise you're shoulder like every night oh, love, can't see you're mind? don't suppose we could convince lover change mind? so goodbye she said, \"it's not now never wait ten years, we'll together\" i said, \"better late than never just don't make wait forever\" don't make wait forever don't make wait forever oh, love, can't see yourself side? i don't suppose could convince lover change mind? i doing fine without ya till i saw face, now i can't erase giving bullshit is want? is are? i doing fine without ya till i saw eyes turn away mine oh, sweet darling, wants said, \"come on, superman, say stupid line\" said, \"come on, superman, say stupid line\" said, \"come on, superman, say stupid line\"201embed",
         "tokens": "['someone', 'said', 'left', 'together', 'ran', 'out', 'door', 'get', 'she', 'holding', 'hands', 'trevor', 'not', 'greatest', 'feeling', 'ever', 'said', 'pull', 'yourself', 'together', 'you', 'should', 'try', 'luck', 'heather', 'then', 'heard', 'slept', 'together', 'oh', 'less', 'know', 'better', 'the', 'less', 'know', 'better', 'oh', 'love', 'can', 'see', 'yourself', 'side', 'no', 'surprise', 'you', 're', 'shoulder', 'like', 'every', 'night', 'oh', 'love', 'can', 'see', 'you', 're', 'mind', 'don', 'suppose', 'we', 'could', 'convince', 'lover', 'change', 'mind', 'so', 'goodbye', 'she', 'said', 'it', 'not', 'now', 'never', 'wait', 'ten', 'years', 'we', 'll', 'together', 'said', 'better', 'late', 'than', 'never', 'just', 'don', 'make', 'wait', 'forever', 'don', 'make', 'wait', 'forever', 'don', 'make', 'wait', 'forever', 'oh', 'love', 'can', 'see', 'yourself', 'side', 'don', 'suppose', 'could', 'convince', 'lover', 'change', 'mind', 'doing', 'fine', 'without', 'ya', 'till', 'saw', 'face'…",
         "sp_id": "6K4t31amVTZDgR3sKmwUJJ",
         "danceability": 0.64,
         "energy": 0.74,
         "key": 4,
         "loudness": -4.083,
         "speechiness": 0.0284,
         "acousticness": 0.0115,
         "instrumentalness": 0.00678,
         "liveness": 0.167,
         "valence": 0.785,
         "tempo": 116.879,
         "distance_from_query": 0,
         "_deepnote_index_column": 0
        }
       ]
      },
      "text/plain": "     artist_mb                   song_name    id  \\\n0  Tame Impala  The Less I Know the Better  2429   \n\n                                       lyrics_nostop  \\\n0  someone said left together i ran out door get ...   \n\n                                              tokens                   sp_id  \\\n0  ['someone', 'said', 'left', 'together', 'ran',...  6K4t31amVTZDgR3sKmwUJJ   \n\n   danceability  energy  key  loudness  speechiness  acousticness  \\\n0          0.64    0.74  4.0    -4.083       0.0284        0.0115   \n\n   instrumentalness  liveness  valence    tempo  distance_from_query  \n0           0.00678     0.167    0.785  116.879                  0.0  ",
      "text/html": "<div>\n<style scoped>\n    .dataframe tbody tr th:only-of-type {\n        vertical-align: middle;\n    }\n\n    .dataframe tbody tr th {\n        vertical-align: top;\n    }\n\n    .dataframe thead th {\n        text-align: right;\n    }\n</style>\n<table border=\"1\" class=\"dataframe\">\n  <thead>\n    <tr style=\"text-align: right;\">\n      <th></th>\n      <th>artist_mb</th>\n      <th>song_name</th>\n      <th>id</th>\n      <th>lyrics_nostop</th>\n      <th>tokens</th>\n      <th>sp_id</th>\n      <th>danceability</th>\n      <th>energy</th>\n      <th>key</th>\n      <th>loudness</th>\n      <th>speechiness</th>\n      <th>acousticness</th>\n      <th>instrumentalness</th>\n      <th>liveness</th>\n      <th>valence</th>\n      <th>tempo</th>\n      <th>distance_from_query</th>\n    </tr>\n  </thead>\n  <tbody>\n    <tr>\n      <th>0</th>\n      <td>Tame Impala</td>\n      <td>The Less I Know the Better</td>\n      <td>2429</td>\n      <td>someone said left together i ran out door get ...</td>\n      <td>['someone', 'said', 'left', 'together', 'ran',...</td>\n      <td>6K4t31amVTZDgR3sKmwUJJ</td>\n      <td>0.64</td>\n      <td>0.74</td>\n      <td>4.0</td>\n      <td>-4.083</td>\n      <td>0.0284</td>\n      <td>0.0115</td>\n      <td>0.00678</td>\n      <td>0.167</td>\n      <td>0.785</td>\n      <td>116.879</td>\n      <td>0.0</td>\n    </tr>\n  </tbody>\n</table>\n</div>"
     },
     "metadata": {}
    }
   ],
   "execution_count": 66
  },
  {
   "cell_type": "code",
   "source": "top_songs = songs_with_similar_audio_features(track_info, 20)",
   "metadata": {
    "cell_id": "ae526c029de341f5818df9dd57d33718",
    "tags": [],
    "deepnote_to_be_reexecuted": false,
    "source_hash": "2a12bf58",
    "execution_start": 1655838989565,
    "execution_millis": 17496,
    "deepnote_table_state": {
     "pageSize": 10,
     "pageIndex": 0,
     "filters": [],
     "sortBy": []
    },
    "deepnote_table_loading": false,
    "deepnote_cell_type": "code",
    "deepnote_cell_height": 81
   },
   "outputs": [],
   "execution_count": 69
  },
  {
   "cell_type": "code",
   "source": "audio_similarity_spotify_ids(top_songs)",
   "metadata": {
    "cell_id": "5633392895c44b62b5eed9da0f7a8c74",
    "tags": [],
    "deepnote_to_be_reexecuted": false,
    "source_hash": "6abfa767",
    "execution_start": 1655839032618,
    "execution_millis": 3,
    "deepnote_cell_type": "code",
    "deepnote_cell_height": 501.9375,
    "deepnote_output_heights": [
     404.9375
    ]
   },
   "outputs": [
    {
     "output_type": "execute_result",
     "execution_count": 72,
     "data": {
      "text/plain": "['6K4t31amVTZDgR3sKmwUJJ',\n '3LrKEPhAAkP8tkVqgh3dp0',\n '1XTGyfJeMiZXrZ1W3NolcB',\n '4Rm0V366wsNJovOqCYOu5O',\n '1Jhbr1Ttq14xkPqkhTER33',\n '2WIxwn8LZRI7knO1VbwdaE',\n '1le5KVGTF1xWf2aUj7ruLy',\n '5R8dQOPq8haW94K7mgERlO',\n '25CMmGsl22APKhfuj4Tp7j',\n '60Ih7J2Q1o9shvMC2OAALu',\n '6AdLyvisRKHLAwARaZMGr6',\n '2CEgGE6aESpnmtfiZwYlbV',\n '0cahtHEywK64NSWqm2SDTi',\n '3KAS4vmuvRGP2BUQcxmu5i',\n '5ghIJDpPoe3CfHMGu71E6T',\n '215JYyyUnrJ98NK3KEwu6d',\n '0Qv7xi6uPSqH2k82tOkGSt',\n '1D3YGmST01Ba0WRiT7THPG',\n '0ItD5cgfl9jvzVTOlehFxd',\n '4v2rkl1mC3zVAz0nXMx9r4',\n '1kJtfldK9F7XmsSiSNlbth']"
     },
     "metadata": {}
    }
   ],
   "execution_count": 72
  },
  {
   "cell_type": "code",
   "source": "",
   "metadata": {
    "cell_id": "bf2d090d5ab2461c9a5c8c0ceede8a00",
    "tags": [],
    "deepnote_cell_type": "code",
    "deepnote_cell_height": 66
   },
   "outputs": [],
   "execution_count": null
  },
  {
   "cell_type": "markdown",
   "source": "## Now we have all the features to recommend playlists",
   "metadata": {
    "cell_id": "397ad6b7d70a48f199b35fb92b274e78",
    "tags": [],
    "is_collapsed": false,
    "formattedRanges": [],
    "deepnote_cell_type": "text-cell-h2"
   }
  },
  {
   "cell_type": "code",
   "source": "add_new_songs()\ntrack_info = update_df()",
   "metadata": {
    "cell_id": "d6626aa31183483bb8163f2627d54063",
    "tags": [],
    "deepnote_to_be_reexecuted": false,
    "source_hash": "8bce9d6",
    "execution_start": 1655844430713,
    "execution_millis": 15,
    "deepnote_cell_type": "code",
    "deepnote_cell_height": 313.5,
    "deepnote_output_heights": [
     136.3125,
     404.9375
    ]
   },
   "outputs": [
    {
     "output_type": "error",
     "ename": "NameError",
     "evalue": "name 'add_new_songs' is not defined",
     "traceback": [
      "\u001b[0;31m---------------------------------------------------------------------------\u001b[0m",
      "\u001b[0;31mNameError\u001b[0m                                 Traceback (most recent call last)",
      "\u001b[0;32m<ipython-input-75-49d96eb57ba0>\u001b[0m in \u001b[0;36m<module>\u001b[0;34m\u001b[0m\n\u001b[0;32m----> 1\u001b[0;31m \u001b[0madd_new_songs\u001b[0m\u001b[0;34m(\u001b[0m\u001b[0;34m)\u001b[0m\u001b[0;34m\u001b[0m\u001b[0;34m\u001b[0m\u001b[0m\n\u001b[0m\u001b[1;32m      2\u001b[0m \u001b[0mtrack_info\u001b[0m \u001b[0;34m=\u001b[0m \u001b[0mupdate_df\u001b[0m\u001b[0;34m(\u001b[0m\u001b[0;34m)\u001b[0m\u001b[0;34m\u001b[0m\u001b[0;34m\u001b[0m\u001b[0m\n",
      "\u001b[0;31mNameError\u001b[0m: name 'add_new_songs' is not defined"
     ]
    }
   ],
   "execution_count": 75
  },
  {
   "cell_type": "code",
   "source": "def get_songs_from_lyrics(df, amnt):\n    query = input(\"Input your mood, favorite words, or favorite lyrics!\")\n    query = query.lower()\n    q_ser = pd.Series([query])\n    l_ser = pd.Series(df['lyrics_nostop'])\n\n    q_lyrics = q_ser.append(l_ser)\n\n    # the linear kernel is the dot product\n    tf_idf = TfidfVectorizer().fit_transform(q_lyrics)\n    # the query is the first item in the series, so compare it to the other items\n    cosine_sim = cosine_similarity(tf_idf[0:1], tf_idf[1:]).flatten()\n    top_songs_indices = cosine_sim.argsort()[:-amnt:-1]\n\n    return df.iloc[top_songs_indices]",
   "metadata": {
    "cell_id": "8c542a1ad92e44ae9ca802e2b3ea38ee",
    "tags": [],
    "deepnote_cell_type": "code",
    "deepnote_cell_height": 318
   },
   "outputs": [],
   "execution_count": null
  },
  {
   "cell_type": "code",
   "source": "def recommend(track_info):\n    type_sim = input(\"Would you like to find similar songs based on a query and lyrics (L)\\n \\\n    or would you like to enter a song and find similar songs that way (S)?\")\n    if type_sim == 'S':\n        top_songs = songs_with_similar_audio_features(track_info, 20)\n    elif type_sim == 'L':\n        top_songs = get_songs_from_lyrics(track_info, 20)\n    else:\n        print(\"Not a valid option!\")\n        return\n    print(\"Listen to these: \")\n    top_songs.apply(lambda x : print(f\"{x$song_name} by {x$artist_mb}\"]))",
   "metadata": {
    "cell_id": "e611a11bcd9940d49067225992b88622",
    "tags": [],
    "deepnote_cell_type": "code",
    "deepnote_cell_height": 264
   },
   "outputs": [],
   "execution_count": null
  },
  {
   "cell_type": "markdown",
   "source": "<a style='text-decoration:none;line-height:16px;display:flex;color:#5B5B62;padding:10px;justify-content:end;' href='https://deepnote.com?utm_source=created-in-deepnote-cell&projectId=020269be-b327-479a-994d-3e58f34cfdc4' target=\"_blank\">\n<img alt='Created in deepnote.com' style='display:inline;max-height:16px;margin:0px;margin-right:7.5px;' src='data:image/svg+xml;base64,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' > </img>\nCreated in <span style='font-weight:600;margin-left:4px;'>Deepnote</span></a>",
   "metadata": {
    "tags": [],
    "created_in_deepnote_cell": true,
    "deepnote_cell_type": "markdown"
   }
  }
 ],
 "nbformat": 4,
 "nbformat_minor": 2,
 "metadata": {
  "orig_nbformat": 2,
  "deepnote": {
   "is_reactive": false
  },
  "deepnote_notebook_id": "50c68a69-c321-4e24-b142-cdaa47048c60",
  "deepnote_execution_queue": []
 }
}