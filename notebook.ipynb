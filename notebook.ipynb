{
 "cells": [
  {
   "cell_type": "markdown",
   "source": "## Spotify Playlist Generator",
   "metadata": {
    "formattedRanges": [],
    "cell_id": "f1ed3df4388a4308a6bcbc6198e3b868",
    "tags": [],
    "is_collapsed": false,
    "deepnote_cell_type": "text-cell-h2"
   }
  },
  {
   "cell_type": "markdown",
   "source": "Import/download necessary libraries",
   "metadata": {
    "formattedRanges": [],
    "cell_id": "0c1d907afe3f4bf4806397dbb07984d8",
    "tags": [],
    "is_collapsed": false,
    "deepnote_cell_type": "text-cell-p"
   }
  },
  {
   "cell_type": "code",
   "metadata": {
    "cell_id": "a0cbdbdf90634ecf8e09700bdbfd7677",
    "tags": [],
    "deepnote_to_be_reexecuted": false,
    "source_hash": "2f59421c",
    "execution_start": 1655759438011,
    "execution_millis": 9124,
    "deepnote_cell_type": "code",
    "deepnote_cell_height": 701
   },
   "source": "pip install -r requirements.txt",
   "execution_count": 1,
   "outputs": [
    {
     "name": "stdout",
     "text": "Requirement already satisfied: pandas in /shared-libs/python3.7/py/lib/python3.7/site-packages (from -r requirements.txt (line 1)) (1.2.5)\nRequirement already satisfied: matplotlib in /shared-libs/python3.7/py/lib/python3.7/site-packages (from -r requirements.txt (line 2)) (3.5.2)\nRequirement already satisfied: bs4 in /usr/local/lib/python3.7/site-packages (from -r requirements.txt (line 3)) (0.0.1)\nRequirement already satisfied: requests in /shared-libs/python3.7/py/lib/python3.7/site-packages (from -r requirements.txt (line 4)) (2.27.1)\nRequirement already satisfied: spotipy in /usr/local/lib/python3.7/site-packages (from -r requirements.txt (line 5)) (2.20.0)\nRequirement already satisfied: lyricsgenius in /usr/local/lib/python3.7/site-packages (from -r requirements.txt (line 6)) (3.0.1)\nRequirement already satisfied: pathlib in /usr/local/lib/python3.7/site-packages (from -r requirements.txt (line 7)) (1.0.1)\nRequirement already satisfied: nltk in /shared-libs/python3.7/py/lib/python3.7/site-packages (from -r requirements.txt (line 8)) (3.7)\nRequirement already satisfied: python-dateutil>=2.7.3 in /shared-libs/python3.7/py-core/lib/python3.7/site-packages (from pandas->-r requirements.txt (line 1)) (2.8.2)\nRequirement already satisfied: numpy>=1.16.5 in /shared-libs/python3.7/py/lib/python3.7/site-packages (from pandas->-r requirements.txt (line 1)) (1.21.6)\nRequirement already satisfied: pytz>=2017.3 in /shared-libs/python3.7/py/lib/python3.7/site-packages (from pandas->-r requirements.txt (line 1)) (2022.1)\nRequirement already satisfied: packaging>=20.0 in /shared-libs/python3.7/py/lib/python3.7/site-packages (from matplotlib->-r requirements.txt (line 2)) (21.3)\nRequirement already satisfied: pillow>=6.2.0 in /shared-libs/python3.7/py/lib/python3.7/site-packages (from matplotlib->-r requirements.txt (line 2)) (9.1.1)\nRequirement already satisfied: cycler>=0.10 in /shared-libs/python3.7/py/lib/python3.7/site-packages (from matplotlib->-r requirements.txt (line 2)) (0.11.0)\nRequirement already satisfied: fonttools>=4.22.0 in /shared-libs/python3.7/py/lib/python3.7/site-packages (from matplotlib->-r requirements.txt (line 2)) (4.33.3)\nRequirement already satisfied: kiwisolver>=1.0.1 in /shared-libs/python3.7/py/lib/python3.7/site-packages (from matplotlib->-r requirements.txt (line 2)) (1.4.2)\nRequirement already satisfied: pyparsing>=2.2.1 in /shared-libs/python3.7/py/lib/python3.7/site-packages (from matplotlib->-r requirements.txt (line 2)) (3.0.9)\nRequirement already satisfied: beautifulsoup4 in /usr/local/lib/python3.7/site-packages (from bs4->-r requirements.txt (line 3)) (4.11.1)\nRequirement already satisfied: certifi>=2017.4.17 in /shared-libs/python3.7/py/lib/python3.7/site-packages (from requests->-r requirements.txt (line 4)) (2022.5.18.1)\nRequirement already satisfied: urllib3<1.27,>=1.21.1 in /shared-libs/python3.7/py/lib/python3.7/site-packages (from requests->-r requirements.txt (line 4)) (1.26.9)\nRequirement already satisfied: idna<4,>=2.5 in /shared-libs/python3.7/py-core/lib/python3.7/site-packages (from requests->-r requirements.txt (line 4)) (3.3)\nRequirement already satisfied: charset-normalizer~=2.0.0 in /shared-libs/python3.7/py-core/lib/python3.7/site-packages (from requests->-r requirements.txt (line 4)) (2.0.12)\nRequirement already satisfied: six>=1.15.0 in /shared-libs/python3.7/py-core/lib/python3.7/site-packages (from spotipy->-r requirements.txt (line 5)) (1.16.0)\nRequirement already satisfied: redis>=3.5.3 in /usr/local/lib/python3.7/site-packages (from spotipy->-r requirements.txt (line 5)) (4.3.3)\nRequirement already satisfied: click in /shared-libs/python3.7/py/lib/python3.7/site-packages (from nltk->-r requirements.txt (line 8)) (8.1.3)\nRequirement already satisfied: tqdm in /shared-libs/python3.7/py/lib/python3.7/site-packages (from nltk->-r requirements.txt (line 8)) (4.64.0)\nRequirement already satisfied: joblib in /shared-libs/python3.7/py/lib/python3.7/site-packages (from nltk->-r requirements.txt (line 8)) (1.1.0)\nRequirement already satisfied: regex>=2021.8.3 in /shared-libs/python3.7/py/lib/python3.7/site-packages (from nltk->-r requirements.txt (line 8)) (2022.6.2)\nRequirement already satisfied: soupsieve>1.2 in /usr/local/lib/python3.7/site-packages (from beautifulsoup4->bs4->-r requirements.txt (line 3)) (2.3.2.post1)\nRequirement already satisfied: typing-extensions in /shared-libs/python3.7/py-core/lib/python3.7/site-packages (from kiwisolver>=1.0.1->matplotlib->-r requirements.txt (line 2)) (4.2.0)\nRequirement already satisfied: async-timeout>=4.0.2 in /shared-libs/python3.7/py-core/lib/python3.7/site-packages (from redis>=3.5.3->spotipy->-r requirements.txt (line 5)) (4.0.2)\nRequirement already satisfied: deprecated>=1.2.3 in /usr/local/lib/python3.7/site-packages (from redis>=3.5.3->spotipy->-r requirements.txt (line 5)) (1.2.13)\nRequirement already satisfied: importlib-metadata>=1.0 in /shared-libs/python3.7/py-core/lib/python3.7/site-packages (from redis>=3.5.3->spotipy->-r requirements.txt (line 5)) (4.11.4)\nRequirement already satisfied: wrapt<2,>=1.10 in /shared-libs/python3.7/py/lib/python3.7/site-packages (from deprecated>=1.2.3->redis>=3.5.3->spotipy->-r requirements.txt (line 5)) (1.14.1)\nRequirement already satisfied: zipp>=0.5 in /shared-libs/python3.7/py-core/lib/python3.7/site-packages (from importlib-metadata>=1.0->redis>=3.5.3->spotipy->-r requirements.txt (line 5)) (3.8.0)\n\u001b[33mWARNING: Running pip as the 'root' user can result in broken permissions and conflicting behaviour with the system package manager. It is recommended to use a virtual environment instead: https://pip.pypa.io/warnings/venv\u001b[0m\u001b[33m\n\u001b[0m\u001b[33mWARNING: You are using pip version 22.0.4; however, version 22.1.2 is available.\nYou should consider upgrading via the '/usr/local/bin/python -m pip install --upgrade pip' command.\u001b[0m\u001b[33m\n\u001b[0mNote: you may need to restart the kernel to use updated packages.\n",
     "output_type": "stream"
    }
   ]
  },
  {
   "cell_type": "code",
   "metadata": {
    "cell_id": "86f2b86c7c544016990a4db3f1aea3c4",
    "tags": [],
    "deepnote_to_be_reexecuted": false,
    "source_hash": "9d79fcc7",
    "execution_start": 1655759447127,
    "execution_millis": 380,
    "deepnote_cell_type": "code",
    "deepnote_cell_height": 261
   },
   "source": "import pandas as pd\nimport numpy as np\nimport spotipy\nfrom spotipy.oauth2 import SpotifyClientCredentials\nfrom bs4 import BeautifulSoup\nimport requests\nimport sys\nimport os\nimport re\nfrom track_info import initialize_spotify, inject_song_id, search_for_song\n",
   "execution_count": 2,
   "outputs": []
  },
  {
   "cell_type": "markdown",
   "source": "## Generate data frame to use",
   "metadata": {
    "formattedRanges": [],
    "cell_id": "eb6e6dd14d534ef99fd5678f9534f05d",
    "tags": [],
    "is_collapsed": false,
    "deepnote_cell_type": "text-cell-h2"
   }
  },
  {
   "cell_type": "markdown",
   "source": "The data is in a folder named \"lyrics/\" where there are about 5 songs from the top 500 artists ( you can view the collection process in 'lyric_collector.py'. The name of each file is the artist name, followed by a number, ranging from 1-5 corresponding to their 1st to 5th most popular songs. Each file contains both the song title on the first line, then the song lyrics on the remaining lines.",
   "metadata": {
    "formattedRanges": [],
    "cell_id": "e64ac21c845d44e59aa2d99f8817c56b",
    "tags": [],
    "is_collapsed": false,
    "deepnote_cell_type": "text-cell-p"
   }
  },
  {
   "cell_type": "markdown",
   "source": "The goal is to extract this information into a data frame with columns corresponding to artist name, song name, and lyrics.",
   "metadata": {
    "formattedRanges": [],
    "cell_id": "a2b4ec076344408d89556f406a394406",
    "tags": [],
    "is_collapsed": false,
    "deepnote_cell_type": "text-cell-p"
   }
  },
  {
   "cell_type": "code",
   "metadata": {
    "cell_id": "5c02da3c0bf2431ca501a719c8d50d02",
    "tags": [],
    "deepnote_to_be_reexecuted": false,
    "source_hash": "1f21d38",
    "execution_start": 1655759447523,
    "execution_millis": 6,
    "deepnote_cell_type": "code",
    "deepnote_cell_height": 351
   },
   "source": "def extract_info(text, doc_name, details):\n    # The format for Happy by Pharrell for example would be :\n    # Happy Lyrics\n    # {Song Lyrics}\n    # Hence, we plit on 'Lyrics'\n    try:\n        song_name, lyrics = text.split('Lyrics', maxsplit= 1)\n        #print(song_name)\n    except Exception as e:\n        #print(e)\n        print(f\"{doc_name} has no lyrics or had an error\")\n        return\n    artist, _ = doc_name.rsplit('_', maxsplit = 1)\n    details[\"artist\"].append(artist)\n    details[\"song_name\"].append(song_name)\n    details[\"lyrics\"].append(lyrics)",
   "execution_count": 3,
   "outputs": []
  },
  {
   "cell_type": "code",
   "metadata": {
    "cell_id": "61aa07fe0de942a4939aee70b76c4312",
    "tags": [],
    "deepnote_to_be_reexecuted": false,
    "source_hash": "59d6297f",
    "execution_start": 1655759447556,
    "execution_millis": 650053,
    "deepnote_cell_type": "code",
    "deepnote_cell_height": 333
   },
   "source": "def read_docs(input_dir):\n    details = {\n        \"artist\": [],\n        \"song_name\": [],\n        \"lyrics\": []\n    }\n    docs = os.listdir(input_dir)\n    for doc in docs:\n        #print(f\"{input_dir}{doc}\")\n        with open(f\"{input_dir}/{doc}\") as f:\n            doc_text = f.read()\n            extract_info(doc_text, doc, details)\n    df = pd.DataFrame(details)\n    return df\n",
   "execution_count": 4,
   "outputs": []
  },
  {
   "cell_type": "code",
   "metadata": {
    "cell_id": "33996d94fbf94073ba91122d20447632",
    "tags": [],
    "deepnote_to_be_reexecuted": false,
    "source_hash": "b0bd2414",
    "execution_start": 1655759447567,
    "execution_millis": 2420,
    "deepnote_cell_type": "code",
    "deepnote_cell_height": 81
   },
   "source": "df = read_docs('lyrics/')",
   "execution_count": 5,
   "outputs": []
  },
  {
   "cell_type": "code",
   "metadata": {
    "cell_id": "3bce4b4c848a44699fbfdc66d7e2edb8",
    "tags": [],
    "deepnote_to_be_reexecuted": false,
    "source_hash": "783f8567",
    "execution_start": 1655759450000,
    "execution_millis": 162,
    "deepnote_cell_type": "code",
    "deepnote_cell_height": 413
   },
   "source": "df[\"id\"] = df.index\ndf.head()",
   "execution_count": 6,
   "outputs": [
    {
     "output_type": "execute_result",
     "execution_count": 6,
     "data": {
      "application/vnd.deepnote.dataframe.v3+json": {
       "column_count": 4,
       "row_count": 5,
       "columns": [
        {
         "name": "artist",
         "dtype": "object",
         "stats": {
          "unique_count": 5,
          "nan_count": 0,
          "categories": [
           {
            "name": "MGMT",
            "count": 1
           },
           {
            "name": "AFI",
            "count": 1
           },
           {
            "name": "3 others",
            "count": 3
           }
          ]
         }
        },
        {
         "name": "song_name",
         "dtype": "object",
         "stats": {
          "unique_count": 5,
          "nan_count": 0,
          "categories": [
           {
            "name": "Electric Feel ",
            "count": 1
           },
           {
            "name": "The Days of the Phoenix ",
            "count": 1
           },
           {
            "name": "3 others",
            "count": 3
           }
          ]
         }
        },
        {
         "name": "lyrics",
         "dtype": "object",
         "stats": {
          "unique_count": 5,
          "nan_count": 0,
          "categories": [
           {
            "name": "\nAll along the Western front\nPeople line up to receive\nShe got the power in her hand\nTo shock you like you won't believe\nSaw her in the Amazon\nWith the voltage running through her skin\nI was standing there with nothing on\nShe gonna teach me how to swim\n\nI said, \"Ooh, girl!\nShock me like an electric eel\nBaby girl\nTurn me on with your electric feel\"\nI said, \"Ooh, girl!\nShock me like an electric eel\nBaby girl\nTurn me on with your electric feel\"\n\nAll along the Eastern shore\nPut your circuits in the sea\nThis is what the world is for\nMaking electricity\nYou can feel it in your mind\nOh, you can do it all the time\nPlug it in, change the world\nYou are my electric girl\nI said, \"Ooh, girl!\nShock me like an electric eel\nBaby girl\nTurn me on with your electric feel\"\nI said, \"Ooh, girl!\nShock me like an electric eel\nBaby girl\nTurn me on with your electric feel\"\n\nDo what you feel now!\nElectric feel now\nDo what you feel now!\nElectric feel now\nDo what you feel now!\nElectric feel now\nDo what you feel now!\nElectric feel now\nDo what you feel now!64Embed",
            "count": 1
           },
           {
            "name": "I remember when I was told of story of\nCrushed velvet, candle wax, and dried up flowers\nThe figure on the bed all dressed up in roses, calling\nBeckoning to sleep, offering a dream\nWords were as mystical as purring animals\nThe circle of rage, the ghosts on the stage appeared\nThe time was so tangible, I'll never let it go\nGhost stories handed down reached secret tunnels below\nNo one could see me\nI fell into yesterday\nOur dreams seemed not far away\nI want to, I want to, I want to stay\nI fell into fantasy\nWords were as mystical as purring animals\nThe circle of rage, the ghosts on the stage appeared\nThe time was so tangible, I'll never let it go\nGhost stories handed down reached secret tunnels below\nNo one could see me\nI fell into yesterday\nOur dreams seemed not far away\nI want to, I want to, I want to stay\nI fell into fantasy\nThe girl on the wall always waited for me\nAnd she was always smiling\nThe teenage death boys, the teenage death girls\nAnd everyone was dancing\nNothing could touch us then, no one could change us then\nEveryone was dancing\nNothing could hurt us then, no one could see us then\nEveryone was dancing\nNo one could see me\nI fell into yesterday\nOur dreams seemed not far away\nI want to, I want to, I want to stay\nI fell into fantasy\nOur dreams seemed not far away\nI fell into fantasy1Embed",
            "count": 1
           },
           {
            "name": "3 others",
            "count": 3
           }
          ]
         }
        },
        {
         "name": "id",
         "dtype": "int64",
         "stats": {
          "unique_count": 5,
          "nan_count": 0,
          "min": "0",
          "max": "4",
          "histogram": [
           {
            "bin_start": 0,
            "bin_end": 0.4,
            "count": 1
           },
           {
            "bin_start": 0.4,
            "bin_end": 0.8,
            "count": 0
           },
           {
            "bin_start": 0.8,
            "bin_end": 1.2000000000000002,
            "count": 1
           },
           {
            "bin_start": 1.2000000000000002,
            "bin_end": 1.6,
            "count": 0
           },
           {
            "bin_start": 1.6,
            "bin_end": 2,
            "count": 0
           },
           {
            "bin_start": 2,
            "bin_end": 2.4000000000000004,
            "count": 1
           },
           {
            "bin_start": 2.4000000000000004,
            "bin_end": 2.8000000000000003,
            "count": 0
           },
           {
            "bin_start": 2.8000000000000003,
            "bin_end": 3.2,
            "count": 1
           },
           {
            "bin_start": 3.2,
            "bin_end": 3.6,
            "count": 0
           },
           {
            "bin_start": 3.6,
            "bin_end": 4,
            "count": 1
           }
          ]
         }
        },
        {
         "name": "_deepnote_index_column",
         "dtype": "int64"
        }
       ],
       "rows": [
        {
         "artist": "MGMT",
         "song_name": "Electric Feel ",
         "lyrics": "\nAll along the Western front\nPeople line up to receive\nShe got the power in her hand\nTo shock you like you won't believe\nSaw her in the Amazon\nWith the voltage running through her skin\nI was standing there with nothing on\nShe gonna teach me how to swim\n\nI said, \"Ooh, girl!\nShock me like an electric eel\nBaby girl\nTurn me on with your electric feel\"\nI said, \"Ooh, girl!\nShock me like an electric eel\nBaby girl\nTurn me on with your electric feel\"\n\nAll along the Eastern shore\nPut your circuits in the sea\nThis is what the world is for\nMaking electricity\nYou can feel it in your mind\nOh, you can do it all the time\nPlug it in, change the world\nYou are my electric girl\nI said, \"Ooh, girl!\nShock me like an electric eel\nBaby girl\nTurn me on with your electric feel\"\nI said, \"Ooh, girl!\nShock me like an electric eel\nBaby girl\nTurn me on with your electric feel\"\n\nDo what you feel now!\nElectric feel now\nDo what you feel now!\nElectric feel now\nDo what you feel now!\nElectric feel now\nDo what you feel no…",
         "id": 0,
         "_deepnote_index_column": 0
        },
        {
         "artist": "AFI",
         "song_name": "The Days of the Phoenix ",
         "lyrics": "I remember when I was told of story of\nCrushed velvet, candle wax, and dried up flowers\nThe figure on the bed all dressed up in roses, calling\nBeckoning to sleep, offering a dream\nWords were as mystical as purring animals\nThe circle of rage, the ghosts on the stage appeared\nThe time was so tangible, I'll never let it go\nGhost stories handed down reached secret tunnels below\nNo one could see me\nI fell into yesterday\nOur dreams seemed not far away\nI want to, I want to, I want to stay\nI fell into fantasy\nWords were as mystical as purring animals\nThe circle of rage, the ghosts on the stage appeared\nThe time was so tangible, I'll never let it go\nGhost stories handed down reached secret tunnels below\nNo one could see me\nI fell into yesterday\nOur dreams seemed not far away\nI want to, I want to, I want to stay\nI fell into fantasy\nThe girl on the wall always waited for me\nAnd she was always smiling\nThe teenage death boys, the teenage death girls\nAnd everyone was dancing\nNothing could touch us …",
         "id": 1,
         "_deepnote_index_column": 1
        },
        {
         "artist": "TVontheRadio",
         "song_name": "DLZ ",
         "lyrics": "\nCongratulations on the mess you made of things\nI'm trying to reconstruct the air and all that brings\nAnd oxidation is the compromise you own\nBut this is beginning to feel like the dog wants her bones, say\n\nLa, la, la, la, la, la, la, la\nLa, la, la, la, la, la, la, la, la\nLa, la, la, la, la, la, la, la\nLa, la, la, la, la, la, la, la, la\n\nYou force your fire and then you falsify your deeds\nYour methods dot the disconnect from all your creeds\nAnd fortune strives to fill the vacuum that it feeds\nBut this is beginning to feel like the dog's lost her lead, say\n\nLa, la, la, la, la, la, la, la\nLa, la, la, la, la, la, la, la, la\nLa, la, la, la, la, la, la, la\nLa, la, la, la, la, la, la, la, la\n\nThis is beginning to feel\nLike the long winded blues of the never\nThis is beginning to feel\nLike it's curling up slowly and finding a throat to choke\nThis is beginning to feel\nLike the long winded blues of the never\nBarely controlled locomotive consuming the picture\nAnd blowing the crows to smoke\n\nThis…",
         "id": 2,
         "_deepnote_index_column": 2
        },
        {
         "artist": "SonicYouth",
         "song_name": "Schizophrenia ",
         "lyrics": "\nI went away to see an old friend of mine\nHis sister came over, she was out of her mind\nShe said Jesus had a twin who knew nothing about sin\nShe was laughing like crazy at the trouble I'm in\nHer light eyes were dancing, she is insane\nHer brother says she's just a bitch with a golden chain\nShe keeps coming closer saying, \"I can feel it in my bones\nSchizophrenia is taking me home\"\n\nMy future is static\nIt's already had it\nI could tuck you in\nAnd we can talk about it\nI had a dream\nAnd it split the scene\nBut I got a hunch\nIt's coming back to me9Embed",
         "id": 3,
         "_deepnote_index_column": 3
        },
        {
         "artist": "NickCave&TheBadSeeds",
         "song_name": "O Children ",
         "lyrics": "Pass me that lovely little gun\nMy dear, my darling one\nThe cleaners are coming one by one\nYou don't even want to let them start\nThey are knocking now upon your door\nThey measure the room, they know the score\nThey're mopping up the butcher's floor\nOf your broken little hearts\nOh-Oh-O Children\nForgive us now for what we've done\nIt started out as a bit of fun\nHere, take these before we run away\nThe keys to the gulag\n\nO Children\nLift up your voice, lift up your voice\nChildren\nRejoice, rejoice\nCome on, come on, come on, come on\nHere comes Frank and poor old Jim\nThey're gathering round with all my friends\nWe're older now, the light is dim\nAnd you are only just beginning\nOh-Oh-O Children\nWe have the answer to all your fears\nIt's short, it's simple, it's crystal clear\nIt's round about and it's somewhere here\nLost amongst our winnings\n\nO Children\nLift up your voice, lift up your voice\nChildren\nRejoice, rejoice\nThe cleaners have done their job on you\nThey're hip to it, man, they're in the groov…",
         "id": 4,
         "_deepnote_index_column": 4
        }
       ]
      },
      "text/plain": "                 artist                 song_name  \\\n0                  MGMT            Electric Feel    \n1                   AFI  The Days of the Phoenix    \n2          TVontheRadio                      DLZ    \n3            SonicYouth            Schizophrenia    \n4  NickCave&TheBadSeeds               O Children    \n\n                                              lyrics  id  \n0  \\nAll along the Western front\\nPeople line up ...   0  \n1  I remember when I was told of story of\\nCrushe...   1  \n2  \\nCongratulations on the mess you made of thin...   2  \n3  \\nI went away to see an old friend of mine\\nHi...   3  \n4  Pass me that lovely little gun\\nMy dear, my da...   4  ",
      "text/html": "<div>\n<style scoped>\n    .dataframe tbody tr th:only-of-type {\n        vertical-align: middle;\n    }\n\n    .dataframe tbody tr th {\n        vertical-align: top;\n    }\n\n    .dataframe thead th {\n        text-align: right;\n    }\n</style>\n<table border=\"1\" class=\"dataframe\">\n  <thead>\n    <tr style=\"text-align: right;\">\n      <th></th>\n      <th>artist</th>\n      <th>song_name</th>\n      <th>lyrics</th>\n      <th>id</th>\n    </tr>\n  </thead>\n  <tbody>\n    <tr>\n      <th>0</th>\n      <td>MGMT</td>\n      <td>Electric Feel</td>\n      <td>\\nAll along the Western front\\nPeople line up ...</td>\n      <td>0</td>\n    </tr>\n    <tr>\n      <th>1</th>\n      <td>AFI</td>\n      <td>The Days of the Phoenix</td>\n      <td>I remember when I was told of story of\\nCrushe...</td>\n      <td>1</td>\n    </tr>\n    <tr>\n      <th>2</th>\n      <td>TVontheRadio</td>\n      <td>DLZ</td>\n      <td>\\nCongratulations on the mess you made of thin...</td>\n      <td>2</td>\n    </tr>\n    <tr>\n      <th>3</th>\n      <td>SonicYouth</td>\n      <td>Schizophrenia</td>\n      <td>\\nI went away to see an old friend of mine\\nHi...</td>\n      <td>3</td>\n    </tr>\n    <tr>\n      <th>4</th>\n      <td>NickCave&amp;TheBadSeeds</td>\n      <td>O Children</td>\n      <td>Pass me that lovely little gun\\nMy dear, my da...</td>\n      <td>4</td>\n    </tr>\n  </tbody>\n</table>\n</div>"
     },
     "metadata": {}
    }
   ]
  },
  {
   "cell_type": "markdown",
   "source": "### Remove Stop words and Tokenize",
   "metadata": {
    "formattedRanges": [],
    "cell_id": "41f177e7c37b49d09e454f50393db866",
    "tags": [],
    "is_collapsed": false,
    "deepnote_cell_type": "text-cell-h3"
   }
  },
  {
   "cell_type": "code",
   "metadata": {
    "cell_id": "473c081d36e744e3b3e7460506822758",
    "tags": [],
    "deepnote_to_be_reexecuted": false,
    "source_hash": "62379a35",
    "execution_start": 1655759450123,
    "execution_millis": 568,
    "deepnote_cell_type": "code",
    "deepnote_cell_height": 171
   },
   "source": "stop = set()\nwith open('data/stopwords.txt', 'r') as f:\n    for line in f:\n        stop.add(line.rstrip())\n\ndf['lyrics_nostop'] = df['lyrics'].apply(lambda x: ' '.join([word.lower() for word in x.split() if word not in (stop)]))",
   "execution_count": 7,
   "outputs": []
  },
  {
   "cell_type": "code",
   "metadata": {
    "cell_id": "a3cc421bcec24b1abaeaef233de26b4e",
    "tags": [],
    "deepnote_to_be_reexecuted": false,
    "source_hash": "c085b6ba",
    "execution_start": 1655759450743,
    "execution_millis": 52,
    "deepnote_cell_type": "code",
    "deepnote_cell_height": 395
   },
   "source": "df.head()",
   "execution_count": 8,
   "outputs": [
    {
     "output_type": "execute_result",
     "execution_count": 8,
     "data": {
      "application/vnd.deepnote.dataframe.v3+json": {
       "column_count": 5,
       "row_count": 5,
       "columns": [
        {
         "name": "artist",
         "dtype": "object",
         "stats": {
          "unique_count": 5,
          "nan_count": 0,
          "categories": [
           {
            "name": "MGMT",
            "count": 1
           },
           {
            "name": "AFI",
            "count": 1
           },
           {
            "name": "3 others",
            "count": 3
           }
          ]
         }
        },
        {
         "name": "song_name",
         "dtype": "object",
         "stats": {
          "unique_count": 5,
          "nan_count": 0,
          "categories": [
           {
            "name": "Electric Feel ",
            "count": 1
           },
           {
            "name": "The Days of the Phoenix ",
            "count": 1
           },
           {
            "name": "3 others",
            "count": 3
           }
          ]
         }
        },
        {
         "name": "lyrics",
         "dtype": "object",
         "stats": {
          "unique_count": 5,
          "nan_count": 0,
          "categories": [
           {
            "name": "\nAll along the Western front\nPeople line up to receive\nShe got the power in her hand\nTo shock you like you won't believe\nSaw her in the Amazon\nWith the voltage running through her skin\nI was standing there with nothing on\nShe gonna teach me how to swim\n\nI said, \"Ooh, girl!\nShock me like an electric eel\nBaby girl\nTurn me on with your electric feel\"\nI said, \"Ooh, girl!\nShock me like an electric eel\nBaby girl\nTurn me on with your electric feel\"\n\nAll along the Eastern shore\nPut your circuits in the sea\nThis is what the world is for\nMaking electricity\nYou can feel it in your mind\nOh, you can do it all the time\nPlug it in, change the world\nYou are my electric girl\nI said, \"Ooh, girl!\nShock me like an electric eel\nBaby girl\nTurn me on with your electric feel\"\nI said, \"Ooh, girl!\nShock me like an electric eel\nBaby girl\nTurn me on with your electric feel\"\n\nDo what you feel now!\nElectric feel now\nDo what you feel now!\nElectric feel now\nDo what you feel now!\nElectric feel now\nDo what you feel now!\nElectric feel now\nDo what you feel now!64Embed",
            "count": 1
           },
           {
            "name": "I remember when I was told of story of\nCrushed velvet, candle wax, and dried up flowers\nThe figure on the bed all dressed up in roses, calling\nBeckoning to sleep, offering a dream\nWords were as mystical as purring animals\nThe circle of rage, the ghosts on the stage appeared\nThe time was so tangible, I'll never let it go\nGhost stories handed down reached secret tunnels below\nNo one could see me\nI fell into yesterday\nOur dreams seemed not far away\nI want to, I want to, I want to stay\nI fell into fantasy\nWords were as mystical as purring animals\nThe circle of rage, the ghosts on the stage appeared\nThe time was so tangible, I'll never let it go\nGhost stories handed down reached secret tunnels below\nNo one could see me\nI fell into yesterday\nOur dreams seemed not far away\nI want to, I want to, I want to stay\nI fell into fantasy\nThe girl on the wall always waited for me\nAnd she was always smiling\nThe teenage death boys, the teenage death girls\nAnd everyone was dancing\nNothing could touch us then, no one could change us then\nEveryone was dancing\nNothing could hurt us then, no one could see us then\nEveryone was dancing\nNo one could see me\nI fell into yesterday\nOur dreams seemed not far away\nI want to, I want to, I want to stay\nI fell into fantasy\nOur dreams seemed not far away\nI fell into fantasy1Embed",
            "count": 1
           },
           {
            "name": "3 others",
            "count": 3
           }
          ]
         }
        },
        {
         "name": "id",
         "dtype": "int64",
         "stats": {
          "unique_count": 5,
          "nan_count": 0,
          "min": "0",
          "max": "4",
          "histogram": [
           {
            "bin_start": 0,
            "bin_end": 0.4,
            "count": 1
           },
           {
            "bin_start": 0.4,
            "bin_end": 0.8,
            "count": 0
           },
           {
            "bin_start": 0.8,
            "bin_end": 1.2000000000000002,
            "count": 1
           },
           {
            "bin_start": 1.2000000000000002,
            "bin_end": 1.6,
            "count": 0
           },
           {
            "bin_start": 1.6,
            "bin_end": 2,
            "count": 0
           },
           {
            "bin_start": 2,
            "bin_end": 2.4000000000000004,
            "count": 1
           },
           {
            "bin_start": 2.4000000000000004,
            "bin_end": 2.8000000000000003,
            "count": 0
           },
           {
            "bin_start": 2.8000000000000003,
            "bin_end": 3.2,
            "count": 1
           },
           {
            "bin_start": 3.2,
            "bin_end": 3.6,
            "count": 0
           },
           {
            "bin_start": 3.6,
            "bin_end": 4,
            "count": 1
           }
          ]
         }
        },
        {
         "name": "lyrics_nostop",
         "dtype": "object",
         "stats": {
          "unique_count": 5,
          "nan_count": 0,
          "categories": [
           {
            "name": "all along western front people line up receive she got power hand to shock like won't believe saw amazon with voltage running through skin i standing nothing she gonna teach swim i said, \"ooh, girl! shock like electric eel baby girl turn electric feel\" i said, \"ooh, girl! shock like electric eel baby girl turn electric feel\" all along eastern shore put circuits sea this world making electricity you can feel mind oh, can do time plug in, change world you electric girl i said, \"ooh, girl! shock like electric eel baby girl turn electric feel\" i said, \"ooh, girl! shock like electric eel baby girl turn electric feel\" do feel now! electric feel now do feel now! electric feel now do feel now! electric feel now do feel now! electric feel now do feel now!64embed",
            "count": 1
           },
           {
            "name": "i remember i told story crushed velvet, candle wax, dried up flowers the figure bed dressed up roses, calling beckoning sleep, offering dream words were mystical purring animals the circle rage, ghosts stage appeared the time so tangible, i'll never let go ghost stories handed down reached secret tunnels below no one could see i fell into yesterday our dreams seemed not far away i want to, i want to, i want stay i fell into fantasy words were mystical purring animals the circle rage, ghosts stage appeared the time so tangible, i'll never let go ghost stories handed down reached secret tunnels below no one could see i fell into yesterday our dreams seemed not far away i want to, i want to, i want stay i fell into fantasy the girl wall always waited and always smiling the teenage death boys, teenage death girls and everyone dancing nothing could touch then, no one could change then everyone dancing nothing could hurt then, no one could see then everyone dancing no one could see i fell into yesterday our dreams seemed not far away i want to, i want to, i want stay i fell into fantasy our dreams seemed not far away i fell into fantasy1embed",
            "count": 1
           },
           {
            "name": "3 others",
            "count": 3
           }
          ]
         }
        },
        {
         "name": "_deepnote_index_column",
         "dtype": "int64"
        }
       ],
       "rows": [
        {
         "artist": "MGMT",
         "song_name": "Electric Feel ",
         "lyrics": "\nAll along the Western front\nPeople line up to receive\nShe got the power in her hand\nTo shock you like you won't believe\nSaw her in the Amazon\nWith the voltage running through her skin\nI was standing there with nothing on\nShe gonna teach me how to swim\n\nI said, \"Ooh, girl!\nShock me like an electric eel\nBaby girl\nTurn me on with your electric feel\"\nI said, \"Ooh, girl!\nShock me like an electric eel\nBaby girl\nTurn me on with your electric feel\"\n\nAll along the Eastern shore\nPut your circuits in the sea\nThis is what the world is for\nMaking electricity\nYou can feel it in your mind\nOh, you can do it all the time\nPlug it in, change the world\nYou are my electric girl\nI said, \"Ooh, girl!\nShock me like an electric eel\nBaby girl\nTurn me on with your electric feel\"\nI said, \"Ooh, girl!\nShock me like an electric eel\nBaby girl\nTurn me on with your electric feel\"\n\nDo what you feel now!\nElectric feel now\nDo what you feel now!\nElectric feel now\nDo what you feel now!\nElectric feel now\nDo what you feel no…",
         "id": 0,
         "lyrics_nostop": "all along western front people line up receive she got power hand to shock like won't believe saw amazon with voltage running through skin i standing nothing she gonna teach swim i said, \"ooh, girl! shock like electric eel baby girl turn electric feel\" i said, \"ooh, girl! shock like electric eel baby girl turn electric feel\" all along eastern shore put circuits sea this world making electricity you can feel mind oh, can do time plug in, change world you electric girl i said, \"ooh, girl! shock like electric eel baby girl turn electric feel\" i said, \"ooh, girl! shock like electric eel baby girl turn electric feel\" do feel now! electric feel now do feel now! electric feel now do feel now! electric feel now do feel now! electric feel now do feel now!64embed",
         "_deepnote_index_column": 0
        },
        {
         "artist": "AFI",
         "song_name": "The Days of the Phoenix ",
         "lyrics": "I remember when I was told of story of\nCrushed velvet, candle wax, and dried up flowers\nThe figure on the bed all dressed up in roses, calling\nBeckoning to sleep, offering a dream\nWords were as mystical as purring animals\nThe circle of rage, the ghosts on the stage appeared\nThe time was so tangible, I'll never let it go\nGhost stories handed down reached secret tunnels below\nNo one could see me\nI fell into yesterday\nOur dreams seemed not far away\nI want to, I want to, I want to stay\nI fell into fantasy\nWords were as mystical as purring animals\nThe circle of rage, the ghosts on the stage appeared\nThe time was so tangible, I'll never let it go\nGhost stories handed down reached secret tunnels below\nNo one could see me\nI fell into yesterday\nOur dreams seemed not far away\nI want to, I want to, I want to stay\nI fell into fantasy\nThe girl on the wall always waited for me\nAnd she was always smiling\nThe teenage death boys, the teenage death girls\nAnd everyone was dancing\nNothing could touch us …",
         "id": 1,
         "lyrics_nostop": "i remember i told story crushed velvet, candle wax, dried up flowers the figure bed dressed up roses, calling beckoning sleep, offering dream words were mystical purring animals the circle rage, ghosts stage appeared the time so tangible, i'll never let go ghost stories handed down reached secret tunnels below no one could see i fell into yesterday our dreams seemed not far away i want to, i want to, i want stay i fell into fantasy words were mystical purring animals the circle rage, ghosts stage appeared the time so tangible, i'll never let go ghost stories handed down reached secret tunnels below no one could see i fell into yesterday our dreams seemed not far away i want to, i want to, i want stay i fell into fantasy the girl wall always waited and always smiling the teenage death boys, teenage death girls and everyone dancing nothing could touch then, no one could change then everyone dancing nothing could hurt then, no one could see then everyone dancing no one could see i fell i…",
         "_deepnote_index_column": 1
        },
        {
         "artist": "TVontheRadio",
         "song_name": "DLZ ",
         "lyrics": "\nCongratulations on the mess you made of things\nI'm trying to reconstruct the air and all that brings\nAnd oxidation is the compromise you own\nBut this is beginning to feel like the dog wants her bones, say\n\nLa, la, la, la, la, la, la, la\nLa, la, la, la, la, la, la, la, la\nLa, la, la, la, la, la, la, la\nLa, la, la, la, la, la, la, la, la\n\nYou force your fire and then you falsify your deeds\nYour methods dot the disconnect from all your creeds\nAnd fortune strives to fill the vacuum that it feeds\nBut this is beginning to feel like the dog's lost her lead, say\n\nLa, la, la, la, la, la, la, la\nLa, la, la, la, la, la, la, la, la\nLa, la, la, la, la, la, la, la\nLa, la, la, la, la, la, la, la, la\n\nThis is beginning to feel\nLike the long winded blues of the never\nThis is beginning to feel\nLike it's curling up slowly and finding a throat to choke\nThis is beginning to feel\nLike the long winded blues of the never\nBarely controlled locomotive consuming the picture\nAnd blowing the crows to smoke\n\nThis…",
         "id": 2,
         "lyrics_nostop": "congratulations mess made things i'm trying reconstruct air brings and oxidation compromise own but beginning feel like dog wants bones, say la, la, la, la, la, la, la, la la, la, la, la, la, la, la, la, la la, la, la, la, la, la, la, la la, la, la, la, la, la, la, la, la you force fire then falsify deeds your methods dot disconnect creeds and fortune strives fill vacuum feeds but beginning feel like dog's lost lead, say la, la, la, la, la, la, la, la la, la, la, la, la, la, la, la, la la, la, la, la, la, la, la, la la, la, la, la, la, la, la, la, la this beginning feel like long winded blues never this beginning feel like it's curling up slowly finding throat choke this beginning feel like long winded blues never barely controlled locomotive consuming picture and blowing crows smoke this beginning feel like long winded blues never static explosion devoted crushing broken and shoving souls ghost eternalized, objectified you set sights so high but beginning feel like bolt busted loose …",
         "_deepnote_index_column": 2
        },
        {
         "artist": "SonicYouth",
         "song_name": "Schizophrenia ",
         "lyrics": "\nI went away to see an old friend of mine\nHis sister came over, she was out of her mind\nShe said Jesus had a twin who knew nothing about sin\nShe was laughing like crazy at the trouble I'm in\nHer light eyes were dancing, she is insane\nHer brother says she's just a bitch with a golden chain\nShe keeps coming closer saying, \"I can feel it in my bones\nSchizophrenia is taking me home\"\n\nMy future is static\nIt's already had it\nI could tuck you in\nAnd we can talk about it\nI had a dream\nAnd it split the scene\nBut I got a hunch\nIt's coming back to me9Embed",
         "id": 3,
         "lyrics_nostop": "i went away see old friend mine his sister came over, out mind she said jesus had twin knew nothing about sin she laughing like crazy trouble i'm her light eyes were dancing, insane her brother says she's just bitch golden chain she keeps coming closer saying, \"i can feel bones schizophrenia taking home\" my future static it's already had i could tuck and we can talk about i had dream and split scene but i got hunch it's coming back me9embed",
         "_deepnote_index_column": 3
        },
        {
         "artist": "NickCave&TheBadSeeds",
         "song_name": "O Children ",
         "lyrics": "Pass me that lovely little gun\nMy dear, my darling one\nThe cleaners are coming one by one\nYou don't even want to let them start\nThey are knocking now upon your door\nThey measure the room, they know the score\nThey're mopping up the butcher's floor\nOf your broken little hearts\nOh-Oh-O Children\nForgive us now for what we've done\nIt started out as a bit of fun\nHere, take these before we run away\nThe keys to the gulag\n\nO Children\nLift up your voice, lift up your voice\nChildren\nRejoice, rejoice\nCome on, come on, come on, come on\nHere comes Frank and poor old Jim\nThey're gathering round with all my friends\nWe're older now, the light is dim\nAnd you are only just beginning\nOh-Oh-O Children\nWe have the answer to all your fears\nIt's short, it's simple, it's crystal clear\nIt's round about and it's somewhere here\nLost amongst our winnings\n\nO Children\nLift up your voice, lift up your voice\nChildren\nRejoice, rejoice\nThe cleaners have done their job on you\nThey're hip to it, man, they're in the groov…",
         "id": 4,
         "lyrics_nostop": "pass lovely little gun my dear, darling one the cleaners coming one one you don't even want let start they knocking now upon door they measure room, know score they're mopping up butcher's floor of broken little hearts oh-oh-o children forgive now we've done it started out bit fun here, take these before we run away the keys gulag o children lift up voice, lift up voice children rejoice, rejoice come on, come on, come on, come here comes frank poor old jim they're gathering round friends we're older now, light dim and only just beginning oh-oh-o children we answer fears it's short, it's simple, it's crystal clear it's round about it's somewhere lost amongst winnings o children lift up voice, lift up voice children rejoice, rejoice the cleaners done job they're hip it, man, they're groove they've hosed down, you're good new and they're lining up inspect oh-oh-o children poor old jim's white ghost he's found answer we lost we're weeping now, weeping because there ain't nothing we can do…",
         "_deepnote_index_column": 4
        }
       ]
      },
      "text/plain": "                 artist                 song_name  \\\n0                  MGMT            Electric Feel    \n1                   AFI  The Days of the Phoenix    \n2          TVontheRadio                      DLZ    \n3            SonicYouth            Schizophrenia    \n4  NickCave&TheBadSeeds               O Children    \n\n                                              lyrics  id  \\\n0  \\nAll along the Western front\\nPeople line up ...   0   \n1  I remember when I was told of story of\\nCrushe...   1   \n2  \\nCongratulations on the mess you made of thin...   2   \n3  \\nI went away to see an old friend of mine\\nHi...   3   \n4  Pass me that lovely little gun\\nMy dear, my da...   4   \n\n                                       lyrics_nostop  \n0  all along western front people line up receive...  \n1  i remember i told story crushed velvet, candle...  \n2  congratulations mess made things i'm trying re...  \n3  i went away see old friend mine his sister cam...  \n4  pass lovely little gun my dear, darling one th...  ",
      "text/html": "<div>\n<style scoped>\n    .dataframe tbody tr th:only-of-type {\n        vertical-align: middle;\n    }\n\n    .dataframe tbody tr th {\n        vertical-align: top;\n    }\n\n    .dataframe thead th {\n        text-align: right;\n    }\n</style>\n<table border=\"1\" class=\"dataframe\">\n  <thead>\n    <tr style=\"text-align: right;\">\n      <th></th>\n      <th>artist</th>\n      <th>song_name</th>\n      <th>lyrics</th>\n      <th>id</th>\n      <th>lyrics_nostop</th>\n    </tr>\n  </thead>\n  <tbody>\n    <tr>\n      <th>0</th>\n      <td>MGMT</td>\n      <td>Electric Feel</td>\n      <td>\\nAll along the Western front\\nPeople line up ...</td>\n      <td>0</td>\n      <td>all along western front people line up receive...</td>\n    </tr>\n    <tr>\n      <th>1</th>\n      <td>AFI</td>\n      <td>The Days of the Phoenix</td>\n      <td>I remember when I was told of story of\\nCrushe...</td>\n      <td>1</td>\n      <td>i remember i told story crushed velvet, candle...</td>\n    </tr>\n    <tr>\n      <th>2</th>\n      <td>TVontheRadio</td>\n      <td>DLZ</td>\n      <td>\\nCongratulations on the mess you made of thin...</td>\n      <td>2</td>\n      <td>congratulations mess made things i'm trying re...</td>\n    </tr>\n    <tr>\n      <th>3</th>\n      <td>SonicYouth</td>\n      <td>Schizophrenia</td>\n      <td>\\nI went away to see an old friend of mine\\nHi...</td>\n      <td>3</td>\n      <td>i went away see old friend mine his sister cam...</td>\n    </tr>\n    <tr>\n      <th>4</th>\n      <td>NickCave&amp;TheBadSeeds</td>\n      <td>O Children</td>\n      <td>Pass me that lovely little gun\\nMy dear, my da...</td>\n      <td>4</td>\n      <td>pass lovely little gun my dear, darling one th...</td>\n    </tr>\n  </tbody>\n</table>\n</div>"
     },
     "metadata": {}
    }
   ]
  },
  {
   "cell_type": "code",
   "metadata": {
    "cell_id": "8fd33c62e09f46629f708cf5f5e70dd1",
    "tags": [],
    "deepnote_to_be_reexecuted": false,
    "source_hash": "ff0e68a8",
    "execution_start": 1655759450801,
    "execution_millis": 1559,
    "deepnote_cell_type": "code",
    "deepnote_cell_height": 99
   },
   "source": "from sklearn.feature_extraction.text import TfidfVectorizer\nfrom sklearn.metrics.pairwise import cosine_similarity",
   "execution_count": 9,
   "outputs": []
  },
  {
   "cell_type": "code",
   "metadata": {
    "cell_id": "f138e70ffe0b4f14b990f975c1859ffd",
    "tags": [],
    "deepnote_to_be_reexecuted": false,
    "source_hash": "b921a15e",
    "execution_start": 1655759452389,
    "execution_millis": 783,
    "deepnote_cell_type": "code",
    "deepnote_cell_height": 99
   },
   "source": "analyze = TfidfVectorizer().build_analyzer()\ndf['tokens'] = df['lyrics_nostop'].apply(analyze)",
   "execution_count": 10,
   "outputs": []
  },
  {
   "cell_type": "markdown",
   "source": "Now would be an appropriate time to get rid of some redundant columns",
   "metadata": {
    "formattedRanges": [],
    "cell_id": "3e5efd636a35410e807e7521d097908d",
    "tags": [],
    "is_collapsed": false,
    "deepnote_cell_type": "text-cell-p"
   }
  },
  {
   "cell_type": "code",
   "metadata": {
    "cell_id": "5393d146bb764035baaca685e2603c55",
    "tags": [],
    "deepnote_to_be_reexecuted": false,
    "source_hash": "45dbc950",
    "execution_start": 1655759453231,
    "execution_millis": 83,
    "deepnote_cell_type": "code",
    "deepnote_cell_height": 413
   },
   "source": "df = df.drop(['lyrics'], axis=1)\ndf.head()",
   "execution_count": 11,
   "outputs": [
    {
     "output_type": "execute_result",
     "execution_count": 11,
     "data": {
      "application/vnd.deepnote.dataframe.v3+json": {
       "column_count": 5,
       "row_count": 5,
       "columns": [
        {
         "name": "artist",
         "dtype": "object",
         "stats": {
          "unique_count": 5,
          "nan_count": 0,
          "categories": [
           {
            "name": "MGMT",
            "count": 1
           },
           {
            "name": "AFI",
            "count": 1
           },
           {
            "name": "3 others",
            "count": 3
           }
          ]
         }
        },
        {
         "name": "song_name",
         "dtype": "object",
         "stats": {
          "unique_count": 5,
          "nan_count": 0,
          "categories": [
           {
            "name": "Electric Feel ",
            "count": 1
           },
           {
            "name": "The Days of the Phoenix ",
            "count": 1
           },
           {
            "name": "3 others",
            "count": 3
           }
          ]
         }
        },
        {
         "name": "id",
         "dtype": "int64",
         "stats": {
          "unique_count": 5,
          "nan_count": 0,
          "min": "0",
          "max": "4",
          "histogram": [
           {
            "bin_start": 0,
            "bin_end": 0.4,
            "count": 1
           },
           {
            "bin_start": 0.4,
            "bin_end": 0.8,
            "count": 0
           },
           {
            "bin_start": 0.8,
            "bin_end": 1.2000000000000002,
            "count": 1
           },
           {
            "bin_start": 1.2000000000000002,
            "bin_end": 1.6,
            "count": 0
           },
           {
            "bin_start": 1.6,
            "bin_end": 2,
            "count": 0
           },
           {
            "bin_start": 2,
            "bin_end": 2.4000000000000004,
            "count": 1
           },
           {
            "bin_start": 2.4000000000000004,
            "bin_end": 2.8000000000000003,
            "count": 0
           },
           {
            "bin_start": 2.8000000000000003,
            "bin_end": 3.2,
            "count": 1
           },
           {
            "bin_start": 3.2,
            "bin_end": 3.6,
            "count": 0
           },
           {
            "bin_start": 3.6,
            "bin_end": 4,
            "count": 1
           }
          ]
         }
        },
        {
         "name": "lyrics_nostop",
         "dtype": "object",
         "stats": {
          "unique_count": 5,
          "nan_count": 0,
          "categories": [
           {
            "name": "all along western front people line up receive she got power hand to shock like won't believe saw amazon with voltage running through skin i standing nothing she gonna teach swim i said, \"ooh, girl! shock like electric eel baby girl turn electric feel\" i said, \"ooh, girl! shock like electric eel baby girl turn electric feel\" all along eastern shore put circuits sea this world making electricity you can feel mind oh, can do time plug in, change world you electric girl i said, \"ooh, girl! shock like electric eel baby girl turn electric feel\" i said, \"ooh, girl! shock like electric eel baby girl turn electric feel\" do feel now! electric feel now do feel now! electric feel now do feel now! electric feel now do feel now! electric feel now do feel now!64embed",
            "count": 1
           },
           {
            "name": "i remember i told story crushed velvet, candle wax, dried up flowers the figure bed dressed up roses, calling beckoning sleep, offering dream words were mystical purring animals the circle rage, ghosts stage appeared the time so tangible, i'll never let go ghost stories handed down reached secret tunnels below no one could see i fell into yesterday our dreams seemed not far away i want to, i want to, i want stay i fell into fantasy words were mystical purring animals the circle rage, ghosts stage appeared the time so tangible, i'll never let go ghost stories handed down reached secret tunnels below no one could see i fell into yesterday our dreams seemed not far away i want to, i want to, i want stay i fell into fantasy the girl wall always waited and always smiling the teenage death boys, teenage death girls and everyone dancing nothing could touch then, no one could change then everyone dancing nothing could hurt then, no one could see then everyone dancing no one could see i fell into yesterday our dreams seemed not far away i want to, i want to, i want stay i fell into fantasy our dreams seemed not far away i fell into fantasy1embed",
            "count": 1
           },
           {
            "name": "3 others",
            "count": 3
           }
          ]
         }
        },
        {
         "name": "tokens",
         "dtype": "object",
         "stats": {
          "unique_count": 5,
          "nan_count": 0,
          "categories": [
           {
            "name": "['all', 'along', 'western', 'front', 'people', 'line', 'up', 'receive', 'she', 'got', 'power', 'hand', 'to', 'shock', 'like', 'won', 'believe', 'saw', 'amazon', 'with', 'voltage', 'running', 'through', 'skin', 'standing', 'nothing', 'she', 'gonna', 'teach', 'swim', 'said', 'ooh', 'girl', 'shock', 'like', 'electric', 'eel', 'baby', 'girl', 'turn', 'electric', 'feel', 'said', 'ooh', 'girl', 'shock', 'like', 'electric', 'eel', 'baby', 'girl', 'turn', 'electric', 'feel', 'all', 'along', 'eastern', 'shore', 'put', 'circuits', 'sea', 'this', 'world', 'making', 'electricity', 'you', 'can', 'feel', 'mind', 'oh', 'can', 'do', 'time', 'plug', 'in', 'change', 'world', 'you', 'electric', 'girl', 'said', 'ooh', 'girl', 'shock', 'like', 'electric', 'eel', 'baby', 'girl', 'turn', 'electric', 'feel', 'said', 'ooh', 'girl', 'shock', 'like', 'electric', 'eel', 'baby', 'girl', 'turn', 'electric', 'feel', 'do', 'feel', 'now', 'electric', 'feel', 'now', 'do', 'feel', 'now', 'electric', 'feel', 'now', 'do', 'feel', 'now', 'electric', 'feel', 'now', 'do', 'feel', 'now', 'electric', 'feel', 'now', 'do', 'feel', 'now', '64embed']",
            "count": 1
           },
           {
            "name": "['remember', 'told', 'story', 'crushed', 'velvet', 'candle', 'wax', 'dried', 'up', 'flowers', 'the', 'figure', 'bed', 'dressed', 'up', 'roses', 'calling', 'beckoning', 'sleep', 'offering', 'dream', 'words', 'were', 'mystical', 'purring', 'animals', 'the', 'circle', 'rage', 'ghosts', 'stage', 'appeared', 'the', 'time', 'so', 'tangible', 'll', 'never', 'let', 'go', 'ghost', 'stories', 'handed', 'down', 'reached', 'secret', 'tunnels', 'below', 'no', 'one', 'could', 'see', 'fell', 'into', 'yesterday', 'our', 'dreams', 'seemed', 'not', 'far', 'away', 'want', 'to', 'want', 'to', 'want', 'stay', 'fell', 'into', 'fantasy', 'words', 'were', 'mystical', 'purring', 'animals', 'the', 'circle', 'rage', 'ghosts', 'stage', 'appeared', 'the', 'time', 'so', 'tangible', 'll', 'never', 'let', 'go', 'ghost', 'stories', 'handed', 'down', 'reached', 'secret', 'tunnels', 'below', 'no', 'one', 'could', 'see', 'fell', 'into', 'yesterday', 'our', 'dreams', 'seemed', 'not', 'far', 'away', 'want', 'to', 'want', 'to', 'want', 'stay', 'fell', 'into', 'fantasy', 'the', 'girl', 'wall', 'always', 'waited', 'and', 'always', 'smiling', 'the', 'teenage', 'death', 'boys', 'teenage', 'death', 'girls', 'and', 'everyone', 'dancing', 'nothing', 'could', 'touch', 'then', 'no', 'one', 'could', 'change', 'then', 'everyone', 'dancing', 'nothing', 'could', 'hurt', 'then', 'no', 'one', 'could', 'see', 'then', 'everyone', 'dancing', 'no', 'one', 'could', 'see', 'fell', 'into', 'yesterday', 'our', 'dreams', 'seemed', 'not', 'far', 'away', 'want', 'to', 'want', 'to', 'want', 'stay', 'fell', 'into', 'fantasy', 'our', 'dreams', 'seemed', 'not', 'far', 'away', 'fell', 'into', 'fantasy1embed']",
            "count": 1
           },
           {
            "name": "3 others",
            "count": 3
           }
          ]
         }
        },
        {
         "name": "_deepnote_index_column",
         "dtype": "int64"
        }
       ],
       "rows": [
        {
         "artist": "MGMT",
         "song_name": "Electric Feel ",
         "id": 0,
         "lyrics_nostop": "all along western front people line up receive she got power hand to shock like won't believe saw amazon with voltage running through skin i standing nothing she gonna teach swim i said, \"ooh, girl! shock like electric eel baby girl turn electric feel\" i said, \"ooh, girl! shock like electric eel baby girl turn electric feel\" all along eastern shore put circuits sea this world making electricity you can feel mind oh, can do time plug in, change world you electric girl i said, \"ooh, girl! shock like electric eel baby girl turn electric feel\" i said, \"ooh, girl! shock like electric eel baby girl turn electric feel\" do feel now! electric feel now do feel now! electric feel now do feel now! electric feel now do feel now! electric feel now do feel now!64embed",
         "tokens": "['all', 'along', 'western', 'front', 'people', 'line', 'up', 'receive', 'she', 'got', 'power', 'hand', 'to', 'shock', 'like', 'won', 'believe', 'saw', 'amazon', 'with', 'voltage', 'running', 'through', 'skin', 'standing', 'nothing', 'she', 'gonna', 'teach', 'swim', 'said', 'ooh', 'girl', 'shock', 'like', 'electric', 'eel', 'baby', 'girl', 'turn', 'electric', 'feel', 'said', 'ooh', 'girl', 'shock', 'like', 'electric', 'eel', 'baby', 'girl', 'turn', 'electric', 'feel', 'all', 'along', 'eastern', 'shore', 'put', 'circuits', 'sea', 'this', 'world', 'making', 'electricity', 'you', 'can', 'feel', 'mind', 'oh', 'can', 'do', 'time', 'plug', 'in', 'change', 'world', 'you', 'electric', 'girl', 'said', 'ooh', 'girl', 'shock', 'like', 'electric', 'eel', 'baby', 'girl', 'turn', 'electric', 'feel', 'said', 'ooh', 'girl', 'shock', 'like', 'electric', 'eel', 'baby', 'girl', 'turn', 'electric', 'feel', 'do', 'feel', 'now', 'electric', 'feel', 'now', 'do', 'feel', 'now', 'electric', 'feel', 'now', 'do'…",
         "_deepnote_index_column": 0
        },
        {
         "artist": "AFI",
         "song_name": "The Days of the Phoenix ",
         "id": 1,
         "lyrics_nostop": "i remember i told story crushed velvet, candle wax, dried up flowers the figure bed dressed up roses, calling beckoning sleep, offering dream words were mystical purring animals the circle rage, ghosts stage appeared the time so tangible, i'll never let go ghost stories handed down reached secret tunnels below no one could see i fell into yesterday our dreams seemed not far away i want to, i want to, i want stay i fell into fantasy words were mystical purring animals the circle rage, ghosts stage appeared the time so tangible, i'll never let go ghost stories handed down reached secret tunnels below no one could see i fell into yesterday our dreams seemed not far away i want to, i want to, i want stay i fell into fantasy the girl wall always waited and always smiling the teenage death boys, teenage death girls and everyone dancing nothing could touch then, no one could change then everyone dancing nothing could hurt then, no one could see then everyone dancing no one could see i fell i…",
         "tokens": "['remember', 'told', 'story', 'crushed', 'velvet', 'candle', 'wax', 'dried', 'up', 'flowers', 'the', 'figure', 'bed', 'dressed', 'up', 'roses', 'calling', 'beckoning', 'sleep', 'offering', 'dream', 'words', 'were', 'mystical', 'purring', 'animals', 'the', 'circle', 'rage', 'ghosts', 'stage', 'appeared', 'the', 'time', 'so', 'tangible', 'll', 'never', 'let', 'go', 'ghost', 'stories', 'handed', 'down', 'reached', 'secret', 'tunnels', 'below', 'no', 'one', 'could', 'see', 'fell', 'into', 'yesterday', 'our', 'dreams', 'seemed', 'not', 'far', 'away', 'want', 'to', 'want', 'to', 'want', 'stay', 'fell', 'into', 'fantasy', 'words', 'were', 'mystical', 'purring', 'animals', 'the', 'circle', 'rage', 'ghosts', 'stage', 'appeared', 'the', 'time', 'so', 'tangible', 'll', 'never', 'let', 'go', 'ghost', 'stories', 'handed', 'down', 'reached', 'secret', 'tunnels', 'below', 'no', 'one', 'could', 'see', 'fell', 'into', 'yesterday', 'our', 'dreams', 'seemed', 'not', 'far', 'away', 'want', 'to', 'want', …",
         "_deepnote_index_column": 1
        },
        {
         "artist": "TVontheRadio",
         "song_name": "DLZ ",
         "id": 2,
         "lyrics_nostop": "congratulations mess made things i'm trying reconstruct air brings and oxidation compromise own but beginning feel like dog wants bones, say la, la, la, la, la, la, la, la la, la, la, la, la, la, la, la, la la, la, la, la, la, la, la, la la, la, la, la, la, la, la, la, la you force fire then falsify deeds your methods dot disconnect creeds and fortune strives fill vacuum feeds but beginning feel like dog's lost lead, say la, la, la, la, la, la, la, la la, la, la, la, la, la, la, la, la la, la, la, la, la, la, la, la la, la, la, la, la, la, la, la, la this beginning feel like long winded blues never this beginning feel like it's curling up slowly finding throat choke this beginning feel like long winded blues never barely controlled locomotive consuming picture and blowing crows smoke this beginning feel like long winded blues never static explosion devoted crushing broken and shoving souls ghost eternalized, objectified you set sights so high but beginning feel like bolt busted loose …",
         "tokens": "['congratulations', 'mess', 'made', 'things', 'trying', 'reconstruct', 'air', 'brings', 'and', 'oxidation', 'compromise', 'own', 'but', 'beginning', 'feel', 'like', 'dog', 'wants', 'bones', 'say', 'la', 'la', 'la', 'la', 'la', 'la', 'la', 'la', 'la', 'la', 'la', 'la', 'la', 'la', 'la', 'la', 'la', 'la', 'la', 'la', 'la', 'la', 'la', 'la', 'la', 'la', 'la', 'la', 'la', 'la', 'la', 'la', 'la', 'la', 'you', 'force', 'fire', 'then', 'falsify', 'deeds', 'your', 'methods', 'dot', 'disconnect', 'creeds', 'and', 'fortune', 'strives', 'fill', 'vacuum', 'feeds', 'but', 'beginning', 'feel', 'like', 'dog', 'lost', 'lead', 'say', 'la', 'la', 'la', 'la', 'la', 'la', 'la', 'la', 'la', 'la', 'la', 'la', 'la', 'la', 'la', 'la', 'la', 'la', 'la', 'la', 'la', 'la', 'la', 'la', 'la', 'la', 'la', 'la', 'la', 'la', 'la', 'la', 'la', 'la', 'this', 'beginning', 'feel', 'like', 'long', 'winded', 'blues', 'never', 'this', 'beginning', 'feel', 'like', 'it', 'curling', 'up', 'slowly', 'finding', 'throat', 'choke…",
         "_deepnote_index_column": 2
        },
        {
         "artist": "SonicYouth",
         "song_name": "Schizophrenia ",
         "id": 3,
         "lyrics_nostop": "i went away see old friend mine his sister came over, out mind she said jesus had twin knew nothing about sin she laughing like crazy trouble i'm her light eyes were dancing, insane her brother says she's just bitch golden chain she keeps coming closer saying, \"i can feel bones schizophrenia taking home\" my future static it's already had i could tuck and we can talk about i had dream and split scene but i got hunch it's coming back me9embed",
         "tokens": "['went', 'away', 'see', 'old', 'friend', 'mine', 'his', 'sister', 'came', 'over', 'out', 'mind', 'she', 'said', 'jesus', 'had', 'twin', 'knew', 'nothing', 'about', 'sin', 'she', 'laughing', 'like', 'crazy', 'trouble', 'her', 'light', 'eyes', 'were', 'dancing', 'insane', 'her', 'brother', 'says', 'she', 'just', 'bitch', 'golden', 'chain', 'she', 'keeps', 'coming', 'closer', 'saying', 'can', 'feel', 'bones', 'schizophrenia', 'taking', 'home', 'my', 'future', 'static', 'it', 'already', 'had', 'could', 'tuck', 'and', 'we', 'can', 'talk', 'about', 'had', 'dream', 'and', 'split', 'scene', 'but', 'got', 'hunch', 'it', 'coming', 'back', 'me9embed']",
         "_deepnote_index_column": 3
        },
        {
         "artist": "NickCave&TheBadSeeds",
         "song_name": "O Children ",
         "id": 4,
         "lyrics_nostop": "pass lovely little gun my dear, darling one the cleaners coming one one you don't even want let start they knocking now upon door they measure room, know score they're mopping up butcher's floor of broken little hearts oh-oh-o children forgive now we've done it started out bit fun here, take these before we run away the keys gulag o children lift up voice, lift up voice children rejoice, rejoice come on, come on, come on, come here comes frank poor old jim they're gathering round friends we're older now, light dim and only just beginning oh-oh-o children we answer fears it's short, it's simple, it's crystal clear it's round about it's somewhere lost amongst winnings o children lift up voice, lift up voice children rejoice, rejoice the cleaners done job they're hip it, man, they're groove they've hosed down, you're good new and they're lining up inspect oh-oh-o children poor old jim's white ghost he's found answer we lost we're weeping now, weeping because there ain't nothing we can do…",
         "tokens": "['pass', 'lovely', 'little', 'gun', 'my', 'dear', 'darling', 'one', 'the', 'cleaners', 'coming', 'one', 'one', 'you', 'don', 'even', 'want', 'let', 'start', 'they', 'knocking', 'now', 'upon', 'door', 'they', 'measure', 'room', 'know', 'score', 'they', 're', 'mopping', 'up', 'butcher', 'floor', 'of', 'broken', 'little', 'hearts', 'oh', 'oh', 'children', 'forgive', 'now', 'we', 've', 'done', 'it', 'started', 'out', 'bit', 'fun', 'here', 'take', 'these', 'before', 'we', 'run', 'away', 'the', 'keys', 'gulag', 'children', 'lift', 'up', 'voice', 'lift', 'up', 'voice', 'children', 'rejoice', 'rejoice', 'come', 'on', 'come', 'on', 'come', 'on', 'come', 'here', 'comes', 'frank', 'poor', 'old', 'jim', 'they', 're', 'gathering', 'round', 'friends', 'we', 're', 'older', 'now', 'light', 'dim', 'and', 'only', 'just', 'beginning', 'oh', 'oh', 'children', 'we', 'answer', 'fears', 'it', 'short', 'it', 'simple', 'it', 'crystal', 'clear', 'it', 'round', 'about', 'it', 'somewhere', 'lost', 'amongst', 'wi…",
         "_deepnote_index_column": 4
        }
       ]
      },
      "text/plain": "                 artist                 song_name  id  \\\n0                  MGMT            Electric Feel    0   \n1                   AFI  The Days of the Phoenix    1   \n2          TVontheRadio                      DLZ    2   \n3            SonicYouth            Schizophrenia    3   \n4  NickCave&TheBadSeeds               O Children    4   \n\n                                       lyrics_nostop  \\\n0  all along western front people line up receive...   \n1  i remember i told story crushed velvet, candle...   \n2  congratulations mess made things i'm trying re...   \n3  i went away see old friend mine his sister cam...   \n4  pass lovely little gun my dear, darling one th...   \n\n                                              tokens  \n0  [all, along, western, front, people, line, up,...  \n1  [remember, told, story, crushed, velvet, candl...  \n2  [congratulations, mess, made, things, trying, ...  \n3  [went, away, see, old, friend, mine, his, sist...  \n4  [pass, lovely, little, gun, my, dear, darling,...  ",
      "text/html": "<div>\n<style scoped>\n    .dataframe tbody tr th:only-of-type {\n        vertical-align: middle;\n    }\n\n    .dataframe tbody tr th {\n        vertical-align: top;\n    }\n\n    .dataframe thead th {\n        text-align: right;\n    }\n</style>\n<table border=\"1\" class=\"dataframe\">\n  <thead>\n    <tr style=\"text-align: right;\">\n      <th></th>\n      <th>artist</th>\n      <th>song_name</th>\n      <th>id</th>\n      <th>lyrics_nostop</th>\n      <th>tokens</th>\n    </tr>\n  </thead>\n  <tbody>\n    <tr>\n      <th>0</th>\n      <td>MGMT</td>\n      <td>Electric Feel</td>\n      <td>0</td>\n      <td>all along western front people line up receive...</td>\n      <td>[all, along, western, front, people, line, up,...</td>\n    </tr>\n    <tr>\n      <th>1</th>\n      <td>AFI</td>\n      <td>The Days of the Phoenix</td>\n      <td>1</td>\n      <td>i remember i told story crushed velvet, candle...</td>\n      <td>[remember, told, story, crushed, velvet, candl...</td>\n    </tr>\n    <tr>\n      <th>2</th>\n      <td>TVontheRadio</td>\n      <td>DLZ</td>\n      <td>2</td>\n      <td>congratulations mess made things i'm trying re...</td>\n      <td>[congratulations, mess, made, things, trying, ...</td>\n    </tr>\n    <tr>\n      <th>3</th>\n      <td>SonicYouth</td>\n      <td>Schizophrenia</td>\n      <td>3</td>\n      <td>i went away see old friend mine his sister cam...</td>\n      <td>[went, away, see, old, friend, mine, his, sist...</td>\n    </tr>\n    <tr>\n      <th>4</th>\n      <td>NickCave&amp;TheBadSeeds</td>\n      <td>O Children</td>\n      <td>4</td>\n      <td>pass lovely little gun my dear, darling one th...</td>\n      <td>[pass, lovely, little, gun, my, dear, darling,...</td>\n    </tr>\n  </tbody>\n</table>\n</div>"
     },
     "metadata": {}
    }
   ]
  },
  {
   "cell_type": "markdown",
   "source": "## Find similarities between songs and queries",
   "metadata": {
    "formattedRanges": [],
    "cell_id": "ccb8b27bef304cce8b395e096fa3ad63",
    "tags": [],
    "is_collapsed": false,
    "deepnote_cell_type": "text-cell-h2"
   }
  },
  {
   "cell_type": "markdown",
   "source": "### General cosine similarity based on lyric similarity",
   "metadata": {
    "formattedRanges": [],
    "cell_id": "1e0bfbbdf4974525968266a416f897f1",
    "tags": [],
    "is_collapsed": false,
    "deepnote_cell_type": "text-cell-h3"
   }
  },
  {
   "cell_type": "code",
   "metadata": {
    "cell_id": "1c87e48520ee4771994d41ebfc95edb3",
    "tags": [],
    "deepnote_to_be_reexecuted": false,
    "source_hash": "ec062114",
    "execution_start": 1655759453368,
    "execution_millis": 2075,
    "deepnote_cell_type": "code",
    "deepnote_cell_height": 772.375
   },
   "source": "query = \"I am very happy, give me happy\"\n\nq_ser = pd.Series([query])\nl_ser = pd.Series(df['lyrics_nostop'])\n\nq_lyrics = q_ser.append(l_ser)\n\n# the linear kernel is the dot product\ntf_idf = TfidfVectorizer().fit_transform(q_lyrics)\n# the query is the first item in the series, so compare it to the other items\ncosine_sim = cosine_similarity(tf_idf[0:1], tf_idf[1:]).flatten()\ntop_songs_indices = cosine_sim.argsort()[:-7:-1]\nprint(top_songs_indices)\nprint(cosine_sim[top_songs_indices])\n\ndf.iloc[top_songs_indices]",
   "execution_count": 12,
   "outputs": [
    {
     "name": "stdout",
     "text": "[1286 2174  449 1174   94 2227]\n[0.40734742 0.38548732 0.37506168 0.3115518  0.28000354 0.23671946]\n",
     "output_type": "stream"
    },
    {
     "output_type": "execute_result",
     "execution_count": 12,
     "data": {
      "application/vnd.deepnote.dataframe.v3+json": {
       "column_count": 5,
       "row_count": 6,
       "columns": [
        {
         "name": "artist",
         "dtype": "object",
         "stats": {
          "unique_count": 6,
          "nan_count": 0,
          "categories": [
           {
            "name": "DemiLovato",
            "count": 1
           },
           {
            "name": "TheKooks",
            "count": 1
           },
           {
            "name": "4 others",
            "count": 4
           }
          ]
         }
        },
        {
         "name": "song_name",
         "dtype": "object",
         "stats": {
          "unique_count": 6,
          "nan_count": 0,
          "categories": [
           {
            "name": "Stone Cold ",
            "count": 1
           },
           {
            "name": "Junk of the Heart (Happy) ",
            "count": 1
           },
           {
            "name": "4 others",
            "count": 4
           }
          ]
         }
        },
        {
         "name": "id",
         "dtype": "int64",
         "stats": {
          "unique_count": 6,
          "nan_count": 0,
          "min": "94",
          "max": "2227",
          "histogram": [
           {
            "bin_start": 94,
            "bin_end": 307.3,
            "count": 1
           },
           {
            "bin_start": 307.3,
            "bin_end": 520.6,
            "count": 1
           },
           {
            "bin_start": 520.6,
            "bin_end": 733.9000000000001,
            "count": 0
           },
           {
            "bin_start": 733.9000000000001,
            "bin_end": 947.2,
            "count": 0
           },
           {
            "bin_start": 947.2,
            "bin_end": 1160.5,
            "count": 0
           },
           {
            "bin_start": 1160.5,
            "bin_end": 1373.8000000000002,
            "count": 2
           },
           {
            "bin_start": 1373.8000000000002,
            "bin_end": 1587.1000000000001,
            "count": 0
           },
           {
            "bin_start": 1587.1000000000001,
            "bin_end": 1800.4,
            "count": 0
           },
           {
            "bin_start": 1800.4,
            "bin_end": 2013.7,
            "count": 0
           },
           {
            "bin_start": 2013.7,
            "bin_end": 2227,
            "count": 2
           }
          ]
         }
        },
        {
         "name": "lyrics_nostop",
         "dtype": "object",
         "stats": {
          "unique_count": 6,
          "nan_count": 0,
          "categories": [
           {
            "name": "stone cold, stone cold you see standing, i'm dying floor stone cold, stone cold maybe if i don't cry, i won't feel anymore stone cold, baby god knows i try feel happy know i am, even if i can't understand i'll take pain give truth me heart, we'll make through if happy her, i'm happy hmmm, stone cold, stone cold you're dancing her, while i'm staring phone stone cold, stone cold i amber, now she's shade gold stone cold, baby god knows i try feel happy know i am, even if i can't understand i'll take pain give truth me heart, we'll make through if happy her, i'm happy don't wanna stone cold, stone i wish i could mend this, here's goodbye oh, i'm happy know i am, even if i can't understand if happy if happy i'm happy you33embed",
            "count": 1
           },
           {
            "name": "junk heart junk mind so hard leave alone we get so drunk we can hardly see what use me, baby? see, i notice nothing makes shatter, no, no you're lover wild joker heart but mine? i wanna make happy i wanna make feel alive let make happy i wanna make feel alive night i wanna make happy are good girl through night? we sink sunk, life no race when i'm not happy, i'm disgrace so i spend time a-guessing you, oh you're lover wild joker heart but mine? i wanna make happy i wanna make feel alive let make happy i wanna make feel alive night i wanna make happy are good girl through night? yeah still i notice nothing makes shatter no, no you're lover wild joker heart but mine? i wanna make happy i wanna make feel alive let make happy i wanna make feel alive night i wanna make happy are good girl through night?14embed",
            "count": 1
           },
           {
            "name": "4 others",
            "count": 4
           }
          ]
         }
        },
        {
         "name": "tokens",
         "dtype": "object",
         "stats": {
          "unique_count": 6,
          "nan_count": 0,
          "categories": [
           {
            "name": "['stone', 'cold', 'stone', 'cold', 'you', 'see', 'standing', 'dying', 'floor', 'stone', 'cold', 'stone', 'cold', 'maybe', 'if', 'don', 'cry', 'won', 'feel', 'anymore', 'stone', 'cold', 'baby', 'god', 'knows', 'try', 'feel', 'happy', 'know', 'am', 'even', 'if', 'can', 'understand', 'll', 'take', 'pain', 'give', 'truth', 'me', 'heart', 'we', 'll', 'make', 'through', 'if', 'happy', 'her', 'happy', 'hmmm', 'stone', 'cold', 'stone', 'cold', 'you', 're', 'dancing', 'her', 'while', 'staring', 'phone', 'stone', 'cold', 'stone', 'cold', 'amber', 'now', 'she', 'shade', 'gold', 'stone', 'cold', 'baby', 'god', 'knows', 'try', 'feel', 'happy', 'know', 'am', 'even', 'if', 'can', 'understand', 'll', 'take', 'pain', 'give', 'truth', 'me', 'heart', 'we', 'll', 'make', 'through', 'if', 'happy', 'her', 'happy', 'don', 'wanna', 'stone', 'cold', 'stone', 'wish', 'could', 'mend', 'this', 'here', 'goodbye', 'oh', 'happy', 'know', 'am', 'even', 'if', 'can', 'understand', 'if', 'happy', 'if', 'happy', 'happy', 'you33embed']",
            "count": 1
           },
           {
            "name": "['junk', 'heart', 'junk', 'mind', 'so', 'hard', 'leave', 'alone', 'we', 'get', 'so', 'drunk', 'we', 'can', 'hardly', 'see', 'what', 'use', 'me', 'baby', 'see', 'notice', 'nothing', 'makes', 'shatter', 'no', 'no', 'you', 're', 'lover', 'wild', 'joker', 'heart', 'but', 'mine', 'wanna', 'make', 'happy', 'wanna', 'make', 'feel', 'alive', 'let', 'make', 'happy', 'wanna', 'make', 'feel', 'alive', 'night', 'wanna', 'make', 'happy', 'are', 'good', 'girl', 'through', 'night', 'we', 'sink', 'sunk', 'life', 'no', 'race', 'when', 'not', 'happy', 'disgrace', 'so', 'spend', 'time', 'guessing', 'you', 'oh', 'you', 're', 'lover', 'wild', 'joker', 'heart', 'but', 'mine', 'wanna', 'make', 'happy', 'wanna', 'make', 'feel', 'alive', 'let', 'make', 'happy', 'wanna', 'make', 'feel', 'alive', 'night', 'wanna', 'make', 'happy', 'are', 'good', 'girl', 'through', 'night', 'yeah', 'still', 'notice', 'nothing', 'makes', 'shatter', 'no', 'no', 'you', 're', 'lover', 'wild', 'joker', 'heart', 'but', 'mine', 'wanna', 'make', 'happy', 'wanna', 'make', 'feel', 'alive', 'let', 'make', 'happy', 'wanna', 'make', 'feel', 'alive', 'night', 'wanna', 'make', 'happy', 'are', 'good', 'girl', 'through', 'night', '14embed']",
            "count": 1
           },
           {
            "name": "4 others",
            "count": 4
           }
          ]
         }
        },
        {
         "name": "_deepnote_index_column",
         "dtype": "int64"
        }
       ],
       "rows": [
        {
         "artist": "DemiLovato",
         "song_name": "Stone Cold ",
         "id": 1286,
         "lyrics_nostop": "stone cold, stone cold you see standing, i'm dying floor stone cold, stone cold maybe if i don't cry, i won't feel anymore stone cold, baby god knows i try feel happy know i am, even if i can't understand i'll take pain give truth me heart, we'll make through if happy her, i'm happy hmmm, stone cold, stone cold you're dancing her, while i'm staring phone stone cold, stone cold i amber, now she's shade gold stone cold, baby god knows i try feel happy know i am, even if i can't understand i'll take pain give truth me heart, we'll make through if happy her, i'm happy don't wanna stone cold, stone i wish i could mend this, here's goodbye oh, i'm happy know i am, even if i can't understand if happy if happy i'm happy you33embed",
         "tokens": "['stone', 'cold', 'stone', 'cold', 'you', 'see', 'standing', 'dying', 'floor', 'stone', 'cold', 'stone', 'cold', 'maybe', 'if', 'don', 'cry', 'won', 'feel', 'anymore', 'stone', 'cold', 'baby', 'god', 'knows', 'try', 'feel', 'happy', 'know', 'am', 'even', 'if', 'can', 'understand', 'll', 'take', 'pain', 'give', 'truth', 'me', 'heart', 'we', 'll', 'make', 'through', 'if', 'happy', 'her', 'happy', 'hmmm', 'stone', 'cold', 'stone', 'cold', 'you', 're', 'dancing', 'her', 'while', 'staring', 'phone', 'stone', 'cold', 'stone', 'cold', 'amber', 'now', 'she', 'shade', 'gold', 'stone', 'cold', 'baby', 'god', 'knows', 'try', 'feel', 'happy', 'know', 'am', 'even', 'if', 'can', 'understand', 'll', 'take', 'pain', 'give', 'truth', 'me', 'heart', 'we', 'll', 'make', 'through', 'if', 'happy', 'her', 'happy', 'don', 'wanna', 'stone', 'cold', 'stone', 'wish', 'could', 'mend', 'this', 'here', 'goodbye', 'oh', 'happy', 'know', 'am', 'even', 'if', 'can', 'understand', 'if', 'happy', 'if', 'happy', 'happy'…",
         "_deepnote_index_column": 1286
        },
        {
         "artist": "TheKooks",
         "song_name": "Junk of the Heart (Happy) ",
         "id": 2174,
         "lyrics_nostop": "junk heart junk mind so hard leave alone we get so drunk we can hardly see what use me, baby? see, i notice nothing makes shatter, no, no you're lover wild joker heart but mine? i wanna make happy i wanna make feel alive let make happy i wanna make feel alive night i wanna make happy are good girl through night? we sink sunk, life no race when i'm not happy, i'm disgrace so i spend time a-guessing you, oh you're lover wild joker heart but mine? i wanna make happy i wanna make feel alive let make happy i wanna make feel alive night i wanna make happy are good girl through night? yeah still i notice nothing makes shatter no, no you're lover wild joker heart but mine? i wanna make happy i wanna make feel alive let make happy i wanna make feel alive night i wanna make happy are good girl through night?14embed",
         "tokens": "['junk', 'heart', 'junk', 'mind', 'so', 'hard', 'leave', 'alone', 'we', 'get', 'so', 'drunk', 'we', 'can', 'hardly', 'see', 'what', 'use', 'me', 'baby', 'see', 'notice', 'nothing', 'makes', 'shatter', 'no', 'no', 'you', 're', 'lover', 'wild', 'joker', 'heart', 'but', 'mine', 'wanna', 'make', 'happy', 'wanna', 'make', 'feel', 'alive', 'let', 'make', 'happy', 'wanna', 'make', 'feel', 'alive', 'night', 'wanna', 'make', 'happy', 'are', 'good', 'girl', 'through', 'night', 'we', 'sink', 'sunk', 'life', 'no', 'race', 'when', 'not', 'happy', 'disgrace', 'so', 'spend', 'time', 'guessing', 'you', 'oh', 'you', 're', 'lover', 'wild', 'joker', 'heart', 'but', 'mine', 'wanna', 'make', 'happy', 'wanna', 'make', 'feel', 'alive', 'let', 'make', 'happy', 'wanna', 'make', 'feel', 'alive', 'night', 'wanna', 'make', 'happy', 'are', 'good', 'girl', 'through', 'night', 'yeah', 'still', 'notice', 'nothing', 'makes', 'shatter', 'no', 'no', 'you', 're', 'lover', 'wild', 'joker', 'heart', 'but', 'mine', 'wanna'…",
         "_deepnote_index_column": 2174
        },
        {
         "artist": "SherylCrow",
         "song_name": "If It Makes You Happy ",
         "id": 449,
         "lyrics_nostop": "i've long, long way put poncho, played mosquitoes and drank 'til i thirsty again we went searching through thrift store jungles found geronimo's rifle, marilyn's shampoo and benny goodman's corset pen well, okay, i made up i promised i'd never give up if makes happy it can't bad if makes happy then hell so sad? you get down, real low down you listen coltrane, derail own train well, hasn't before? i come 'round, around hard way bring comics bed, scrape mold off bread and serve french toast again well, okay, i still get stoned i'm not kind girl you'd take home if makes happy it can't bad if makes happy then hell so sad? if makes happy it can't bad if makes happy then hell so sad? we've far, far away put poncho, played mosquitoes and everywhere between well, okay, we get along so if right now everything's wrong? if makes happy it can't bad if makes happy then hell so sad? if makes happy it can't bad if makes happy then hell so sad?9embed",
         "tokens": "['ve', 'long', 'long', 'way', 'put', 'poncho', 'played', 'mosquitoes', 'and', 'drank', 'til', 'thirsty', 'again', 'we', 'went', 'searching', 'through', 'thrift', 'store', 'jungles', 'found', 'geronimo', 'rifle', 'marilyn', 'shampoo', 'and', 'benny', 'goodman', 'corset', 'pen', 'well', 'okay', 'made', 'up', 'promised', 'never', 'give', 'up', 'if', 'makes', 'happy', 'it', 'can', 'bad', 'if', 'makes', 'happy', 'then', 'hell', 'so', 'sad', 'you', 'get', 'down', 'real', 'low', 'down', 'you', 'listen', 'coltrane', 'derail', 'own', 'train', 'well', 'hasn', 'before', 'come', 'round', 'around', 'hard', 'way', 'bring', 'comics', 'bed', 'scrape', 'mold', 'off', 'bread', 'and', 'serve', 'french', 'toast', 'again', 'well', 'okay', 'still', 'get', 'stoned', 'not', 'kind', 'girl', 'you', 'take', 'home', 'if', 'makes', 'happy', 'it', 'can', 'bad', 'if', 'makes', 'happy', 'then', 'hell', 'so', 'sad', 'if', 'makes', 'happy', 'it', 'can', 'bad', 'if', 'makes', 'happy', 'then', 'hell', 'so', 'sad', 'we',…",
         "_deepnote_index_column": 449
        },
        {
         "artist": "PharrellWilliams",
         "song_name": "Happy ",
         "id": 1174,
         "lyrics_nostop": "it might seem crazy i'm 'bout say sunshine she's here, can take break i'm hot air balloon could go space with air, like i don't care, baby, way (because i'm happy) clap along if feel like room without roof (because i'm happy) clap along if feel like happiness truth (because i'm happy) clap along if know happiness (because i'm happy) clap along if feel like that's wanna do here come bad news, talking (yeah!) well, give got, don't hold back (yeah!) well, i should probably warn ya, i'll just fine (yeah!) no offense you, don’t waste time, here's (because i'm happy) clap along if feel like room without roof (because i'm happy) clap along if feel like happiness truth (because i'm happy) clap along if know happiness (because i'm happy) clap along if feel like that's wanna do bring down can't nothing bring down my level's too high bring down can't nothing bring down, i said bring down can't nothing bring down my level's too high bring down can't nothing bring down, i said (because i'm happy) …",
         "tokens": "['it', 'might', 'seem', 'crazy', 'bout', 'say', 'sunshine', 'she', 'here', 'can', 'take', 'break', 'hot', 'air', 'balloon', 'could', 'go', 'space', 'with', 'air', 'like', 'don', 'care', 'baby', 'way', 'because', 'happy', 'clap', 'along', 'if', 'feel', 'like', 'room', 'without', 'roof', 'because', 'happy', 'clap', 'along', 'if', 'feel', 'like', 'happiness', 'truth', 'because', 'happy', 'clap', 'along', 'if', 'know', 'happiness', 'because', 'happy', 'clap', 'along', 'if', 'feel', 'like', 'that', 'wanna', 'do', 'here', 'come', 'bad', 'news', 'talking', 'yeah', 'well', 'give', 'got', 'don', 'hold', 'back', 'yeah', 'well', 'should', 'probably', 'warn', 'ya', 'll', 'just', 'fine', 'yeah', 'no', 'offense', 'you', 'don', 'waste', 'time', 'here', 'because', 'happy', 'clap', 'along', 'if', 'feel', 'like', 'room', 'without', 'roof', 'because', 'happy', 'clap', 'along', 'if', 'feel', 'like', 'happiness', 'truth', 'because', 'happy', 'clap', 'along', 'if', 'know', 'happiness', 'because', 'happy', …",
         "_deepnote_index_column": 1174
        },
        {
         "artist": "TheWombats",
         "song_name": "Let’s Dance to Joy Division ",
         "id": 94,
         "lyrics_nostop": "i'm back liverpool everything seems same but i worked something out last night that changed little boy's brain a small piece advice took twenty-two years make and i break now; please learn mistakes please learn mistakes let's dance joy division celebrate irony everything going wrong, we're so happy let's dance joy division raise glass ceiling 'cause could go so wrong, we're so happy yeah, we're so happy... so if you're ever feeling down, grab purse take taxi to darker side town; that's we'll and we wait lead through dance floor up dj booth, know ask you know ask for... go ask joy division celebrate irony everything going wrong, we're so happy let's dance joy division raise glass ceiling 'cause could go so wrong, we're so happy yeah, we're so happy... let love tear apart; i've found cure broken heart let tear apart let love tear apart; i've found cure broken heart let tear apart (let tear apart) so let love tear apart; i've found cure broken heart let tear apart (let tear apart) so let…",
         "tokens": "['back', 'liverpool', 'everything', 'seems', 'same', 'but', 'worked', 'something', 'out', 'last', 'night', 'that', 'changed', 'little', 'boy', 'brain', 'small', 'piece', 'advice', 'took', 'twenty', 'two', 'years', 'make', 'and', 'break', 'now', 'please', 'learn', 'mistakes', 'please', 'learn', 'mistakes', 'let', 'dance', 'joy', 'division', 'celebrate', 'irony', 'everything', 'going', 'wrong', 'we', 're', 'so', 'happy', 'let', 'dance', 'joy', 'division', 'raise', 'glass', 'ceiling', 'cause', 'could', 'go', 'so', 'wrong', 'we', 're', 'so', 'happy', 'yeah', 'we', 're', 'so', 'happy', 'so', 'if', 'you', 're', 'ever', 'feeling', 'down', 'grab', 'purse', 'take', 'taxi', 'to', 'darker', 'side', 'town', 'that', 'we', 'll', 'and', 'we', 'wait', 'lead', 'through', 'dance', 'floor', 'up', 'dj', 'booth', 'know', 'ask', 'you', 'know', 'ask', 'for', 'go', 'ask', 'joy', 'division', 'celebrate', 'irony', 'everything', 'going', 'wrong', 'we', 're', 'so', 'happy', 'let', 'dance', 'joy', 'division', 'ra…",
         "_deepnote_index_column": 94
        },
        {
         "artist": "CatStevens",
         "song_name": "Tea for the Tillerman ",
         "id": 2227,
         "lyrics_nostop": "bring tea tillerman steak sun wine woman made rain come seagulls sing hearts away ’cause while sinners sin the children play oh lord, play play for happy day for happy dayembed",
         "tokens": "['bring', 'tea', 'tillerman', 'steak', 'sun', 'wine', 'woman', 'made', 'rain', 'come', 'seagulls', 'sing', 'hearts', 'away', 'cause', 'while', 'sinners', 'sin', 'the', 'children', 'play', 'oh', 'lord', 'play', 'play', 'for', 'happy', 'day', 'for', 'happy', 'dayembed']",
         "_deepnote_index_column": 2227
        }
       ]
      },
      "text/plain": "                artist                     song_name    id  \\\n1286        DemiLovato                   Stone Cold   1286   \n2174          TheKooks    Junk of the Heart (Happy)   2174   \n449         SherylCrow        If It Makes You Happy    449   \n1174  PharrellWilliams                        Happy   1174   \n94          TheWombats  Let’s Dance to Joy Division     94   \n2227        CatStevens        Tea for the Tillerman   2227   \n\n                                          lyrics_nostop  \\\n1286  stone cold, stone cold you see standing, i'm d...   \n2174  junk heart junk mind so hard leave alone we ge...   \n449   i've long, long way put poncho, played mosquit...   \n1174  it might seem crazy i'm 'bout say sunshine she...   \n94    i'm back liverpool everything seems same but i...   \n2227  bring tea tillerman steak sun wine woman made ...   \n\n                                                 tokens  \n1286  [stone, cold, stone, cold, you, see, standing,...  \n2174  [junk, heart, junk, mind, so, hard, leave, alo...  \n449   [ve, long, long, way, put, poncho, played, mos...  \n1174  [it, might, seem, crazy, bout, say, sunshine, ...  \n94    [back, liverpool, everything, seems, same, but...  \n2227  [bring, tea, tillerman, steak, sun, wine, woma...  ",
      "text/html": "<div>\n<style scoped>\n    .dataframe tbody tr th:only-of-type {\n        vertical-align: middle;\n    }\n\n    .dataframe tbody tr th {\n        vertical-align: top;\n    }\n\n    .dataframe thead th {\n        text-align: right;\n    }\n</style>\n<table border=\"1\" class=\"dataframe\">\n  <thead>\n    <tr style=\"text-align: right;\">\n      <th></th>\n      <th>artist</th>\n      <th>song_name</th>\n      <th>id</th>\n      <th>lyrics_nostop</th>\n      <th>tokens</th>\n    </tr>\n  </thead>\n  <tbody>\n    <tr>\n      <th>1286</th>\n      <td>DemiLovato</td>\n      <td>Stone Cold</td>\n      <td>1286</td>\n      <td>stone cold, stone cold you see standing, i'm d...</td>\n      <td>[stone, cold, stone, cold, you, see, standing,...</td>\n    </tr>\n    <tr>\n      <th>2174</th>\n      <td>TheKooks</td>\n      <td>Junk of the Heart (Happy)</td>\n      <td>2174</td>\n      <td>junk heart junk mind so hard leave alone we ge...</td>\n      <td>[junk, heart, junk, mind, so, hard, leave, alo...</td>\n    </tr>\n    <tr>\n      <th>449</th>\n      <td>SherylCrow</td>\n      <td>If It Makes You Happy</td>\n      <td>449</td>\n      <td>i've long, long way put poncho, played mosquit...</td>\n      <td>[ve, long, long, way, put, poncho, played, mos...</td>\n    </tr>\n    <tr>\n      <th>1174</th>\n      <td>PharrellWilliams</td>\n      <td>Happy</td>\n      <td>1174</td>\n      <td>it might seem crazy i'm 'bout say sunshine she...</td>\n      <td>[it, might, seem, crazy, bout, say, sunshine, ...</td>\n    </tr>\n    <tr>\n      <th>94</th>\n      <td>TheWombats</td>\n      <td>Let’s Dance to Joy Division</td>\n      <td>94</td>\n      <td>i'm back liverpool everything seems same but i...</td>\n      <td>[back, liverpool, everything, seems, same, but...</td>\n    </tr>\n    <tr>\n      <th>2227</th>\n      <td>CatStevens</td>\n      <td>Tea for the Tillerman</td>\n      <td>2227</td>\n      <td>bring tea tillerman steak sun wine woman made ...</td>\n      <td>[bring, tea, tillerman, steak, sun, wine, woma...</td>\n    </tr>\n  </tbody>\n</table>\n</div>"
     },
     "metadata": {}
    }
   ]
  },
  {
   "cell_type": "markdown",
   "source": "If you look at the lyrics, key words like \"happy\" and \"give\" show up a lot, but the query is only stop words and those two words, and there are no stop words in the lyrics! So we need to look at some other methods.",
   "metadata": {
    "formattedRanges": [],
    "cell_id": "06bd8f2499bf456c9900e029222eac4a",
    "tags": [],
    "is_collapsed": false,
    "deepnote_cell_type": "text-cell-p"
   }
  },
  {
   "cell_type": "markdown",
   "source": "My idea is to incorporate some data from spotify, as they have some nice metrics such as 'danceability', 'energy', 'loudness' etc. If we create a vector for each song, we can use a similar method to the one above, where we measure the 'closeness' of each vector. The query in this case would have to be a song, so we can extract the same metrics and measure closeness.",
   "metadata": {
    "formattedRanges": [],
    "cell_id": "22c4d77534594d72aabb58d06ac89e6c",
    "tags": [],
    "is_collapsed": false,
    "deepnote_cell_type": "text-cell-p"
   }
  },
  {
   "cell_type": "markdown",
   "source": "## Connecting to Spotify",
   "metadata": {
    "cell_id": "d5bd4e3dbdd94b0891aa1de04c2dd0ff",
    "tags": [],
    "is_collapsed": false,
    "formattedRanges": [],
    "deepnote_cell_type": "text-cell-h2"
   }
  },
  {
   "cell_type": "markdown",
   "source": "",
   "metadata": {
    "cell_id": "557ae66015c346338686d15e8eb6bada",
    "tags": [],
    "is_collapsed": false,
    "formattedRanges": [],
    "deepnote_cell_type": "text-cell-p"
   }
  },
  {
   "cell_type": "code",
   "source": "cid = '1d668be1930e487eaacd284df4fa7601'\nsecret = '08ac712c04ba4bffaeb232efe98a7a54'\n\nsp = initialize_spotify(cid,secret)",
   "metadata": {
    "cell_id": "f78e73b55da444fdb8547888b0cd1b4f",
    "tags": [],
    "deepnote_to_be_reexecuted": false,
    "source_hash": "a0c5f7a0",
    "execution_start": 1655759455019,
    "execution_millis": 29,
    "deepnote_cell_type": "code",
    "deepnote_cell_height": 135
   },
   "outputs": [],
   "execution_count": 13
  },
  {
   "cell_type": "code",
   "source": "# test functionality\nsong = search_for_song(sp, \"Pharrell Williams\", \"Happy\")\nprint(song)",
   "metadata": {
    "cell_id": "826a7727f37f495b88dd493904a1284f",
    "tags": [],
    "deepnote_to_be_reexecuted": false,
    "source_hash": "c9f2bdfe",
    "execution_start": 1655759455063,
    "execution_millis": 408,
    "deepnote_cell_type": "code",
    "deepnote_cell_height": 148.1875
   },
   "outputs": [
    {
     "name": "stdout",
     "text": "60nZcImufyMA1MKQY3dcCH\n",
     "output_type": "stream"
    }
   ],
   "execution_count": 14
  },
  {
   "cell_type": "code",
   "source": "# pretty sure this isn't a song\nsong = search_for_song(sp, \"Beep Boop\", \"Bop\")\nprint(song)",
   "metadata": {
    "cell_id": "2e569fd6416f4275b8cfa0a6898741b5",
    "tags": [],
    "deepnote_to_be_reexecuted": false,
    "source_hash": "456917e7",
    "execution_start": 1655759455321,
    "execution_millis": 159,
    "deepnote_cell_type": "code",
    "deepnote_cell_height": 148.1875
   },
   "outputs": [
    {
     "name": "stdout",
     "text": "nan\n",
     "output_type": "stream"
    }
   ],
   "execution_count": 15
  },
  {
   "cell_type": "markdown",
   "source": "We can now use this id to extract certain information, but we want this information for all of the songs in our dataset.",
   "metadata": {
    "cell_id": "4387e8b55b3a4f49a422d26526811463",
    "tags": [],
    "is_collapsed": false,
    "formattedRanges": [],
    "deepnote_cell_type": "text-cell-p"
   }
  },
  {
   "cell_type": "code",
   "source": "df[\"artist_tokens\"] = df[\"artist\"].apply(lambda x: re.findall('([A-Z.!,$\\'][a-z]*)', x))",
   "metadata": {
    "cell_id": "483330a39b5c413cb51b84358c4c8e47",
    "tags": [],
    "deepnote_to_be_reexecuted": false,
    "source_hash": "395fc612",
    "execution_start": 1655759455451,
    "execution_millis": 46,
    "deepnote_cell_type": "code",
    "deepnote_cell_height": 81
   },
   "outputs": [],
   "execution_count": 16
  },
  {
   "cell_type": "code",
   "source": "df.head()",
   "metadata": {
    "cell_id": "ea7738e9c15d4816add5dda3ef6fe7d8",
    "tags": [],
    "deepnote_to_be_reexecuted": false,
    "source_hash": "c085b6ba",
    "execution_start": 1655759455539,
    "execution_millis": 137,
    "deepnote_cell_type": "code",
    "deepnote_cell_height": 395
   },
   "outputs": [
    {
     "output_type": "execute_result",
     "execution_count": 17,
     "data": {
      "application/vnd.deepnote.dataframe.v3+json": {
       "column_count": 6,
       "row_count": 5,
       "columns": [
        {
         "name": "artist",
         "dtype": "object",
         "stats": {
          "unique_count": 5,
          "nan_count": 0,
          "categories": [
           {
            "name": "MGMT",
            "count": 1
           },
           {
            "name": "AFI",
            "count": 1
           },
           {
            "name": "3 others",
            "count": 3
           }
          ]
         }
        },
        {
         "name": "song_name",
         "dtype": "object",
         "stats": {
          "unique_count": 5,
          "nan_count": 0,
          "categories": [
           {
            "name": "Electric Feel ",
            "count": 1
           },
           {
            "name": "The Days of the Phoenix ",
            "count": 1
           },
           {
            "name": "3 others",
            "count": 3
           }
          ]
         }
        },
        {
         "name": "id",
         "dtype": "int64",
         "stats": {
          "unique_count": 5,
          "nan_count": 0,
          "min": "0",
          "max": "4",
          "histogram": [
           {
            "bin_start": 0,
            "bin_end": 0.4,
            "count": 1
           },
           {
            "bin_start": 0.4,
            "bin_end": 0.8,
            "count": 0
           },
           {
            "bin_start": 0.8,
            "bin_end": 1.2000000000000002,
            "count": 1
           },
           {
            "bin_start": 1.2000000000000002,
            "bin_end": 1.6,
            "count": 0
           },
           {
            "bin_start": 1.6,
            "bin_end": 2,
            "count": 0
           },
           {
            "bin_start": 2,
            "bin_end": 2.4000000000000004,
            "count": 1
           },
           {
            "bin_start": 2.4000000000000004,
            "bin_end": 2.8000000000000003,
            "count": 0
           },
           {
            "bin_start": 2.8000000000000003,
            "bin_end": 3.2,
            "count": 1
           },
           {
            "bin_start": 3.2,
            "bin_end": 3.6,
            "count": 0
           },
           {
            "bin_start": 3.6,
            "bin_end": 4,
            "count": 1
           }
          ]
         }
        },
        {
         "name": "lyrics_nostop",
         "dtype": "object",
         "stats": {
          "unique_count": 5,
          "nan_count": 0,
          "categories": [
           {
            "name": "all along western front people line up receive she got power hand to shock like won't believe saw amazon with voltage running through skin i standing nothing she gonna teach swim i said, \"ooh, girl! shock like electric eel baby girl turn electric feel\" i said, \"ooh, girl! shock like electric eel baby girl turn electric feel\" all along eastern shore put circuits sea this world making electricity you can feel mind oh, can do time plug in, change world you electric girl i said, \"ooh, girl! shock like electric eel baby girl turn electric feel\" i said, \"ooh, girl! shock like electric eel baby girl turn electric feel\" do feel now! electric feel now do feel now! electric feel now do feel now! electric feel now do feel now! electric feel now do feel now!64embed",
            "count": 1
           },
           {
            "name": "i remember i told story crushed velvet, candle wax, dried up flowers the figure bed dressed up roses, calling beckoning sleep, offering dream words were mystical purring animals the circle rage, ghosts stage appeared the time so tangible, i'll never let go ghost stories handed down reached secret tunnels below no one could see i fell into yesterday our dreams seemed not far away i want to, i want to, i want stay i fell into fantasy words were mystical purring animals the circle rage, ghosts stage appeared the time so tangible, i'll never let go ghost stories handed down reached secret tunnels below no one could see i fell into yesterday our dreams seemed not far away i want to, i want to, i want stay i fell into fantasy the girl wall always waited and always smiling the teenage death boys, teenage death girls and everyone dancing nothing could touch then, no one could change then everyone dancing nothing could hurt then, no one could see then everyone dancing no one could see i fell into yesterday our dreams seemed not far away i want to, i want to, i want stay i fell into fantasy our dreams seemed not far away i fell into fantasy1embed",
            "count": 1
           },
           {
            "name": "3 others",
            "count": 3
           }
          ]
         }
        },
        {
         "name": "tokens",
         "dtype": "object",
         "stats": {
          "unique_count": 5,
          "nan_count": 0,
          "categories": [
           {
            "name": "['all', 'along', 'western', 'front', 'people', 'line', 'up', 'receive', 'she', 'got', 'power', 'hand', 'to', 'shock', 'like', 'won', 'believe', 'saw', 'amazon', 'with', 'voltage', 'running', 'through', 'skin', 'standing', 'nothing', 'she', 'gonna', 'teach', 'swim', 'said', 'ooh', 'girl', 'shock', 'like', 'electric', 'eel', 'baby', 'girl', 'turn', 'electric', 'feel', 'said', 'ooh', 'girl', 'shock', 'like', 'electric', 'eel', 'baby', 'girl', 'turn', 'electric', 'feel', 'all', 'along', 'eastern', 'shore', 'put', 'circuits', 'sea', 'this', 'world', 'making', 'electricity', 'you', 'can', 'feel', 'mind', 'oh', 'can', 'do', 'time', 'plug', 'in', 'change', 'world', 'you', 'electric', 'girl', 'said', 'ooh', 'girl', 'shock', 'like', 'electric', 'eel', 'baby', 'girl', 'turn', 'electric', 'feel', 'said', 'ooh', 'girl', 'shock', 'like', 'electric', 'eel', 'baby', 'girl', 'turn', 'electric', 'feel', 'do', 'feel', 'now', 'electric', 'feel', 'now', 'do', 'feel', 'now', 'electric', 'feel', 'now', 'do', 'feel', 'now', 'electric', 'feel', 'now', 'do', 'feel', 'now', 'electric', 'feel', 'now', 'do', 'feel', 'now', '64embed']",
            "count": 1
           },
           {
            "name": "['remember', 'told', 'story', 'crushed', 'velvet', 'candle', 'wax', 'dried', 'up', 'flowers', 'the', 'figure', 'bed', 'dressed', 'up', 'roses', 'calling', 'beckoning', 'sleep', 'offering', 'dream', 'words', 'were', 'mystical', 'purring', 'animals', 'the', 'circle', 'rage', 'ghosts', 'stage', 'appeared', 'the', 'time', 'so', 'tangible', 'll', 'never', 'let', 'go', 'ghost', 'stories', 'handed', 'down', 'reached', 'secret', 'tunnels', 'below', 'no', 'one', 'could', 'see', 'fell', 'into', 'yesterday', 'our', 'dreams', 'seemed', 'not', 'far', 'away', 'want', 'to', 'want', 'to', 'want', 'stay', 'fell', 'into', 'fantasy', 'words', 'were', 'mystical', 'purring', 'animals', 'the', 'circle', 'rage', 'ghosts', 'stage', 'appeared', 'the', 'time', 'so', 'tangible', 'll', 'never', 'let', 'go', 'ghost', 'stories', 'handed', 'down', 'reached', 'secret', 'tunnels', 'below', 'no', 'one', 'could', 'see', 'fell', 'into', 'yesterday', 'our', 'dreams', 'seemed', 'not', 'far', 'away', 'want', 'to', 'want', 'to', 'want', 'stay', 'fell', 'into', 'fantasy', 'the', 'girl', 'wall', 'always', 'waited', 'and', 'always', 'smiling', 'the', 'teenage', 'death', 'boys', 'teenage', 'death', 'girls', 'and', 'everyone', 'dancing', 'nothing', 'could', 'touch', 'then', 'no', 'one', 'could', 'change', 'then', 'everyone', 'dancing', 'nothing', 'could', 'hurt', 'then', 'no', 'one', 'could', 'see', 'then', 'everyone', 'dancing', 'no', 'one', 'could', 'see', 'fell', 'into', 'yesterday', 'our', 'dreams', 'seemed', 'not', 'far', 'away', 'want', 'to', 'want', 'to', 'want', 'stay', 'fell', 'into', 'fantasy', 'our', 'dreams', 'seemed', 'not', 'far', 'away', 'fell', 'into', 'fantasy1embed']",
            "count": 1
           },
           {
            "name": "3 others",
            "count": 3
           }
          ]
         }
        },
        {
         "name": "artist_tokens",
         "dtype": "object",
         "stats": {
          "unique_count": 5,
          "nan_count": 0,
          "categories": [
           {
            "name": "['M', 'G', 'M', 'T']",
            "count": 1
           },
           {
            "name": "['A', 'F', 'I']",
            "count": 1
           },
           {
            "name": "3 others",
            "count": 3
           }
          ]
         }
        },
        {
         "name": "_deepnote_index_column",
         "dtype": "int64"
        }
       ],
       "rows": [
        {
         "artist": "MGMT",
         "song_name": "Electric Feel ",
         "id": 0,
         "lyrics_nostop": "all along western front people line up receive she got power hand to shock like won't believe saw amazon with voltage running through skin i standing nothing she gonna teach swim i said, \"ooh, girl! shock like electric eel baby girl turn electric feel\" i said, \"ooh, girl! shock like electric eel baby girl turn electric feel\" all along eastern shore put circuits sea this world making electricity you can feel mind oh, can do time plug in, change world you electric girl i said, \"ooh, girl! shock like electric eel baby girl turn electric feel\" i said, \"ooh, girl! shock like electric eel baby girl turn electric feel\" do feel now! electric feel now do feel now! electric feel now do feel now! electric feel now do feel now! electric feel now do feel now!64embed",
         "tokens": "['all', 'along', 'western', 'front', 'people', 'line', 'up', 'receive', 'she', 'got', 'power', 'hand', 'to', 'shock', 'like', 'won', 'believe', 'saw', 'amazon', 'with', 'voltage', 'running', 'through', 'skin', 'standing', 'nothing', 'she', 'gonna', 'teach', 'swim', 'said', 'ooh', 'girl', 'shock', 'like', 'electric', 'eel', 'baby', 'girl', 'turn', 'electric', 'feel', 'said', 'ooh', 'girl', 'shock', 'like', 'electric', 'eel', 'baby', 'girl', 'turn', 'electric', 'feel', 'all', 'along', 'eastern', 'shore', 'put', 'circuits', 'sea', 'this', 'world', 'making', 'electricity', 'you', 'can', 'feel', 'mind', 'oh', 'can', 'do', 'time', 'plug', 'in', 'change', 'world', 'you', 'electric', 'girl', 'said', 'ooh', 'girl', 'shock', 'like', 'electric', 'eel', 'baby', 'girl', 'turn', 'electric', 'feel', 'said', 'ooh', 'girl', 'shock', 'like', 'electric', 'eel', 'baby', 'girl', 'turn', 'electric', 'feel', 'do', 'feel', 'now', 'electric', 'feel', 'now', 'do', 'feel', 'now', 'electric', 'feel', 'now', 'do'…",
         "artist_tokens": "['M', 'G', 'M', 'T']",
         "_deepnote_index_column": 0
        },
        {
         "artist": "AFI",
         "song_name": "The Days of the Phoenix ",
         "id": 1,
         "lyrics_nostop": "i remember i told story crushed velvet, candle wax, dried up flowers the figure bed dressed up roses, calling beckoning sleep, offering dream words were mystical purring animals the circle rage, ghosts stage appeared the time so tangible, i'll never let go ghost stories handed down reached secret tunnels below no one could see i fell into yesterday our dreams seemed not far away i want to, i want to, i want stay i fell into fantasy words were mystical purring animals the circle rage, ghosts stage appeared the time so tangible, i'll never let go ghost stories handed down reached secret tunnels below no one could see i fell into yesterday our dreams seemed not far away i want to, i want to, i want stay i fell into fantasy the girl wall always waited and always smiling the teenage death boys, teenage death girls and everyone dancing nothing could touch then, no one could change then everyone dancing nothing could hurt then, no one could see then everyone dancing no one could see i fell i…",
         "tokens": "['remember', 'told', 'story', 'crushed', 'velvet', 'candle', 'wax', 'dried', 'up', 'flowers', 'the', 'figure', 'bed', 'dressed', 'up', 'roses', 'calling', 'beckoning', 'sleep', 'offering', 'dream', 'words', 'were', 'mystical', 'purring', 'animals', 'the', 'circle', 'rage', 'ghosts', 'stage', 'appeared', 'the', 'time', 'so', 'tangible', 'll', 'never', 'let', 'go', 'ghost', 'stories', 'handed', 'down', 'reached', 'secret', 'tunnels', 'below', 'no', 'one', 'could', 'see', 'fell', 'into', 'yesterday', 'our', 'dreams', 'seemed', 'not', 'far', 'away', 'want', 'to', 'want', 'to', 'want', 'stay', 'fell', 'into', 'fantasy', 'words', 'were', 'mystical', 'purring', 'animals', 'the', 'circle', 'rage', 'ghosts', 'stage', 'appeared', 'the', 'time', 'so', 'tangible', 'll', 'never', 'let', 'go', 'ghost', 'stories', 'handed', 'down', 'reached', 'secret', 'tunnels', 'below', 'no', 'one', 'could', 'see', 'fell', 'into', 'yesterday', 'our', 'dreams', 'seemed', 'not', 'far', 'away', 'want', 'to', 'want', …",
         "artist_tokens": "['A', 'F', 'I']",
         "_deepnote_index_column": 1
        },
        {
         "artist": "TVontheRadio",
         "song_name": "DLZ ",
         "id": 2,
         "lyrics_nostop": "congratulations mess made things i'm trying reconstruct air brings and oxidation compromise own but beginning feel like dog wants bones, say la, la, la, la, la, la, la, la la, la, la, la, la, la, la, la, la la, la, la, la, la, la, la, la la, la, la, la, la, la, la, la, la you force fire then falsify deeds your methods dot disconnect creeds and fortune strives fill vacuum feeds but beginning feel like dog's lost lead, say la, la, la, la, la, la, la, la la, la, la, la, la, la, la, la, la la, la, la, la, la, la, la, la la, la, la, la, la, la, la, la, la this beginning feel like long winded blues never this beginning feel like it's curling up slowly finding throat choke this beginning feel like long winded blues never barely controlled locomotive consuming picture and blowing crows smoke this beginning feel like long winded blues never static explosion devoted crushing broken and shoving souls ghost eternalized, objectified you set sights so high but beginning feel like bolt busted loose …",
         "tokens": "['congratulations', 'mess', 'made', 'things', 'trying', 'reconstruct', 'air', 'brings', 'and', 'oxidation', 'compromise', 'own', 'but', 'beginning', 'feel', 'like', 'dog', 'wants', 'bones', 'say', 'la', 'la', 'la', 'la', 'la', 'la', 'la', 'la', 'la', 'la', 'la', 'la', 'la', 'la', 'la', 'la', 'la', 'la', 'la', 'la', 'la', 'la', 'la', 'la', 'la', 'la', 'la', 'la', 'la', 'la', 'la', 'la', 'la', 'la', 'you', 'force', 'fire', 'then', 'falsify', 'deeds', 'your', 'methods', 'dot', 'disconnect', 'creeds', 'and', 'fortune', 'strives', 'fill', 'vacuum', 'feeds', 'but', 'beginning', 'feel', 'like', 'dog', 'lost', 'lead', 'say', 'la', 'la', 'la', 'la', 'la', 'la', 'la', 'la', 'la', 'la', 'la', 'la', 'la', 'la', 'la', 'la', 'la', 'la', 'la', 'la', 'la', 'la', 'la', 'la', 'la', 'la', 'la', 'la', 'la', 'la', 'la', 'la', 'la', 'la', 'this', 'beginning', 'feel', 'like', 'long', 'winded', 'blues', 'never', 'this', 'beginning', 'feel', 'like', 'it', 'curling', 'up', 'slowly', 'finding', 'throat', 'choke…",
         "artist_tokens": "['T', 'Vonthe', 'Radio']",
         "_deepnote_index_column": 2
        },
        {
         "artist": "SonicYouth",
         "song_name": "Schizophrenia ",
         "id": 3,
         "lyrics_nostop": "i went away see old friend mine his sister came over, out mind she said jesus had twin knew nothing about sin she laughing like crazy trouble i'm her light eyes were dancing, insane her brother says she's just bitch golden chain she keeps coming closer saying, \"i can feel bones schizophrenia taking home\" my future static it's already had i could tuck and we can talk about i had dream and split scene but i got hunch it's coming back me9embed",
         "tokens": "['went', 'away', 'see', 'old', 'friend', 'mine', 'his', 'sister', 'came', 'over', 'out', 'mind', 'she', 'said', 'jesus', 'had', 'twin', 'knew', 'nothing', 'about', 'sin', 'she', 'laughing', 'like', 'crazy', 'trouble', 'her', 'light', 'eyes', 'were', 'dancing', 'insane', 'her', 'brother', 'says', 'she', 'just', 'bitch', 'golden', 'chain', 'she', 'keeps', 'coming', 'closer', 'saying', 'can', 'feel', 'bones', 'schizophrenia', 'taking', 'home', 'my', 'future', 'static', 'it', 'already', 'had', 'could', 'tuck', 'and', 'we', 'can', 'talk', 'about', 'had', 'dream', 'and', 'split', 'scene', 'but', 'got', 'hunch', 'it', 'coming', 'back', 'me9embed']",
         "artist_tokens": "['Sonic', 'Youth']",
         "_deepnote_index_column": 3
        },
        {
         "artist": "NickCave&TheBadSeeds",
         "song_name": "O Children ",
         "id": 4,
         "lyrics_nostop": "pass lovely little gun my dear, darling one the cleaners coming one one you don't even want let start they knocking now upon door they measure room, know score they're mopping up butcher's floor of broken little hearts oh-oh-o children forgive now we've done it started out bit fun here, take these before we run away the keys gulag o children lift up voice, lift up voice children rejoice, rejoice come on, come on, come on, come here comes frank poor old jim they're gathering round friends we're older now, light dim and only just beginning oh-oh-o children we answer fears it's short, it's simple, it's crystal clear it's round about it's somewhere lost amongst winnings o children lift up voice, lift up voice children rejoice, rejoice the cleaners done job they're hip it, man, they're groove they've hosed down, you're good new and they're lining up inspect oh-oh-o children poor old jim's white ghost he's found answer we lost we're weeping now, weeping because there ain't nothing we can do…",
         "tokens": "['pass', 'lovely', 'little', 'gun', 'my', 'dear', 'darling', 'one', 'the', 'cleaners', 'coming', 'one', 'one', 'you', 'don', 'even', 'want', 'let', 'start', 'they', 'knocking', 'now', 'upon', 'door', 'they', 'measure', 'room', 'know', 'score', 'they', 're', 'mopping', 'up', 'butcher', 'floor', 'of', 'broken', 'little', 'hearts', 'oh', 'oh', 'children', 'forgive', 'now', 'we', 've', 'done', 'it', 'started', 'out', 'bit', 'fun', 'here', 'take', 'these', 'before', 'we', 'run', 'away', 'the', 'keys', 'gulag', 'children', 'lift', 'up', 'voice', 'lift', 'up', 'voice', 'children', 'rejoice', 'rejoice', 'come', 'on', 'come', 'on', 'come', 'on', 'come', 'here', 'comes', 'frank', 'poor', 'old', 'jim', 'they', 're', 'gathering', 'round', 'friends', 'we', 're', 'older', 'now', 'light', 'dim', 'and', 'only', 'just', 'beginning', 'oh', 'oh', 'children', 'we', 'answer', 'fears', 'it', 'short', 'it', 'simple', 'it', 'crystal', 'clear', 'it', 'round', 'about', 'it', 'somewhere', 'lost', 'amongst', 'wi…",
         "artist_tokens": "['Nick', 'Cave', 'The', 'Bad', 'Seeds']",
         "_deepnote_index_column": 4
        }
       ]
      },
      "text/plain": "                 artist                 song_name  id  \\\n0                  MGMT            Electric Feel    0   \n1                   AFI  The Days of the Phoenix    1   \n2          TVontheRadio                      DLZ    2   \n3            SonicYouth            Schizophrenia    3   \n4  NickCave&TheBadSeeds               O Children    4   \n\n                                       lyrics_nostop  \\\n0  all along western front people line up receive...   \n1  i remember i told story crushed velvet, candle...   \n2  congratulations mess made things i'm trying re...   \n3  i went away see old friend mine his sister cam...   \n4  pass lovely little gun my dear, darling one th...   \n\n                                              tokens  \\\n0  [all, along, western, front, people, line, up,...   \n1  [remember, told, story, crushed, velvet, candl...   \n2  [congratulations, mess, made, things, trying, ...   \n3  [went, away, see, old, friend, mine, his, sist...   \n4  [pass, lovely, little, gun, my, dear, darling,...   \n\n                   artist_tokens  \n0                   [M, G, M, T]  \n1                      [A, F, I]  \n2             [T, Vonthe, Radio]  \n3                 [Sonic, Youth]  \n4  [Nick, Cave, The, Bad, Seeds]  ",
      "text/html": "<div>\n<style scoped>\n    .dataframe tbody tr th:only-of-type {\n        vertical-align: middle;\n    }\n\n    .dataframe tbody tr th {\n        vertical-align: top;\n    }\n\n    .dataframe thead th {\n        text-align: right;\n    }\n</style>\n<table border=\"1\" class=\"dataframe\">\n  <thead>\n    <tr style=\"text-align: right;\">\n      <th></th>\n      <th>artist</th>\n      <th>song_name</th>\n      <th>id</th>\n      <th>lyrics_nostop</th>\n      <th>tokens</th>\n      <th>artist_tokens</th>\n    </tr>\n  </thead>\n  <tbody>\n    <tr>\n      <th>0</th>\n      <td>MGMT</td>\n      <td>Electric Feel</td>\n      <td>0</td>\n      <td>all along western front people line up receive...</td>\n      <td>[all, along, western, front, people, line, up,...</td>\n      <td>[M, G, M, T]</td>\n    </tr>\n    <tr>\n      <th>1</th>\n      <td>AFI</td>\n      <td>The Days of the Phoenix</td>\n      <td>1</td>\n      <td>i remember i told story crushed velvet, candle...</td>\n      <td>[remember, told, story, crushed, velvet, candl...</td>\n      <td>[A, F, I]</td>\n    </tr>\n    <tr>\n      <th>2</th>\n      <td>TVontheRadio</td>\n      <td>DLZ</td>\n      <td>2</td>\n      <td>congratulations mess made things i'm trying re...</td>\n      <td>[congratulations, mess, made, things, trying, ...</td>\n      <td>[T, Vonthe, Radio]</td>\n    </tr>\n    <tr>\n      <th>3</th>\n      <td>SonicYouth</td>\n      <td>Schizophrenia</td>\n      <td>3</td>\n      <td>i went away see old friend mine his sister cam...</td>\n      <td>[went, away, see, old, friend, mine, his, sist...</td>\n      <td>[Sonic, Youth]</td>\n    </tr>\n    <tr>\n      <th>4</th>\n      <td>NickCave&amp;TheBadSeeds</td>\n      <td>O Children</td>\n      <td>4</td>\n      <td>pass lovely little gun my dear, darling one th...</td>\n      <td>[pass, lovely, little, gun, my, dear, darling,...</td>\n      <td>[Nick, Cave, The, Bad, Seeds]</td>\n    </tr>\n  </tbody>\n</table>\n</div>"
     },
     "metadata": {}
    }
   ],
   "execution_count": 17
  },
  {
   "cell_type": "markdown",
   "source": "### Cleaning and preprocessing",
   "metadata": {
    "cell_id": "0d3ab16b01c34c80afa6864c26d432c2",
    "tags": [],
    "is_collapsed": false,
    "formattedRanges": [],
    "deepnote_cell_type": "text-cell-h3"
   }
  },
  {
   "cell_type": "markdown",
   "source": "The naming scheme produces some problems, SonicYouth wont turn up any results, but Sonic Youth will, so we need to split somehow, but doing it by capital letters isn't good because bands like MGMT with be M G M T which another problem. So we can get the original name by merging on the same transformation.",
   "metadata": {
    "cell_id": "f88fbc5330d4450e95ed4b4f10e4d1e4",
    "tags": [],
    "is_collapsed": false,
    "formattedRanges": [],
    "deepnote_cell_type": "text-cell-p"
   }
  },
  {
   "cell_type": "code",
   "source": "artists = pd.read_csv(\"data/top_artists.csv\")\nartists = artists[0:600]\nartists.head()",
   "metadata": {
    "cell_id": "9fe404316ee84d3e8b1faf366de3fa90",
    "tags": [],
    "deepnote_to_be_reexecuted": false,
    "source_hash": "55021ada",
    "execution_start": 1655759455680,
    "execution_millis": 2482,
    "deepnote_cell_type": "code",
    "deepnote_cell_height": 431
   },
   "outputs": [
    {
     "output_type": "execute_result",
     "execution_count": 18,
     "data": {
      "application/vnd.deepnote.dataframe.v3+json": {
       "column_count": 3,
       "row_count": 5,
       "columns": [
        {
         "name": "Unnamed: 0",
         "dtype": "int64",
         "stats": {
          "unique_count": 5,
          "nan_count": 0,
          "min": "0",
          "max": "4",
          "histogram": [
           {
            "bin_start": 0,
            "bin_end": 0.4,
            "count": 1
           },
           {
            "bin_start": 0.4,
            "bin_end": 0.8,
            "count": 0
           },
           {
            "bin_start": 0.8,
            "bin_end": 1.2000000000000002,
            "count": 1
           },
           {
            "bin_start": 1.2000000000000002,
            "bin_end": 1.6,
            "count": 0
           },
           {
            "bin_start": 1.6,
            "bin_end": 2,
            "count": 0
           },
           {
            "bin_start": 2,
            "bin_end": 2.4000000000000004,
            "count": 1
           },
           {
            "bin_start": 2.4000000000000004,
            "bin_end": 2.8000000000000003,
            "count": 0
           },
           {
            "bin_start": 2.8000000000000003,
            "bin_end": 3.2,
            "count": 1
           },
           {
            "bin_start": 3.2,
            "bin_end": 3.6,
            "count": 0
           },
           {
            "bin_start": 3.6,
            "bin_end": 4,
            "count": 1
           }
          ]
         }
        },
        {
         "name": "artist_mb",
         "dtype": "object",
         "stats": {
          "unique_count": 5,
          "nan_count": 0,
          "categories": [
           {
            "name": "Coldplay",
            "count": 1
           },
           {
            "name": "Radiohead",
            "count": 1
           },
           {
            "name": "3 others",
            "count": 3
           }
          ]
         }
        },
        {
         "name": "listeners_lastfm",
         "dtype": "float64",
         "stats": {
          "unique_count": 5,
          "nan_count": 0,
          "min": "4517997.0",
          "max": "5381567.0",
          "histogram": [
           {
            "bin_start": 4517997,
            "bin_end": 4604354,
            "count": 2
           },
           {
            "bin_start": 4604354,
            "bin_end": 4690711,
            "count": 1
           },
           {
            "bin_start": 4690711,
            "bin_end": 4777068,
            "count": 1
           },
           {
            "bin_start": 4777068,
            "bin_end": 4863425,
            "count": 0
           },
           {
            "bin_start": 4863425,
            "bin_end": 4949782,
            "count": 0
           },
           {
            "bin_start": 4949782,
            "bin_end": 5036139,
            "count": 0
           },
           {
            "bin_start": 5036139,
            "bin_end": 5122496,
            "count": 0
           },
           {
            "bin_start": 5122496,
            "bin_end": 5208853,
            "count": 0
           },
           {
            "bin_start": 5208853,
            "bin_end": 5295210,
            "count": 0
           },
           {
            "bin_start": 5295210,
            "bin_end": 5381567,
            "count": 1
           }
          ]
         }
        },
        {
         "name": "_deepnote_index_column",
         "dtype": "int64"
        }
       ],
       "rows": [
        {
         "Unnamed: 0": 0,
         "artist_mb": "Coldplay",
         "listeners_lastfm": 5381567,
         "_deepnote_index_column": 0
        },
        {
         "Unnamed: 0": 1,
         "artist_mb": "Radiohead",
         "listeners_lastfm": 4732528,
         "_deepnote_index_column": 1
        },
        {
         "Unnamed: 0": 2,
         "artist_mb": "Red Hot Chili Peppers",
         "listeners_lastfm": 4620835,
         "_deepnote_index_column": 2
        },
        {
         "Unnamed: 0": 3,
         "artist_mb": "Rihanna",
         "listeners_lastfm": 4558193,
         "_deepnote_index_column": 3
        },
        {
         "Unnamed: 0": 4,
         "artist_mb": "Eminem",
         "listeners_lastfm": 4517997,
         "_deepnote_index_column": 4
        }
       ]
      },
      "text/plain": "   Unnamed: 0              artist_mb  listeners_lastfm\n0           0               Coldplay         5381567.0\n1           1              Radiohead         4732528.0\n2           2  Red Hot Chili Peppers         4620835.0\n3           3                Rihanna         4558193.0\n4           4                 Eminem         4517997.0",
      "text/html": "<div>\n<style scoped>\n    .dataframe tbody tr th:only-of-type {\n        vertical-align: middle;\n    }\n\n    .dataframe tbody tr th {\n        vertical-align: top;\n    }\n\n    .dataframe thead th {\n        text-align: right;\n    }\n</style>\n<table border=\"1\" class=\"dataframe\">\n  <thead>\n    <tr style=\"text-align: right;\">\n      <th></th>\n      <th>Unnamed: 0</th>\n      <th>artist_mb</th>\n      <th>listeners_lastfm</th>\n    </tr>\n  </thead>\n  <tbody>\n    <tr>\n      <th>0</th>\n      <td>0</td>\n      <td>Coldplay</td>\n      <td>5381567.0</td>\n    </tr>\n    <tr>\n      <th>1</th>\n      <td>1</td>\n      <td>Radiohead</td>\n      <td>4732528.0</td>\n    </tr>\n    <tr>\n      <th>2</th>\n      <td>2</td>\n      <td>Red Hot Chili Peppers</td>\n      <td>4620835.0</td>\n    </tr>\n    <tr>\n      <th>3</th>\n      <td>3</td>\n      <td>Rihanna</td>\n      <td>4558193.0</td>\n    </tr>\n    <tr>\n      <th>4</th>\n      <td>4</td>\n      <td>Eminem</td>\n      <td>4517997.0</td>\n    </tr>\n  </tbody>\n</table>\n</div>"
     },
     "metadata": {}
    }
   ],
   "execution_count": 18
  },
  {
   "cell_type": "code",
   "source": "# peform same transformation that filenaming used to merge onto other data set\nartists[\"artist\"] = artists[\"artist_mb\"].apply(lambda x: x.replace(' ',''))",
   "metadata": {
    "cell_id": "2a8ff802cca54750a3dbe3628df4676e",
    "tags": [],
    "deepnote_to_be_reexecuted": false,
    "source_hash": "c102313",
    "execution_start": 1655759457653,
    "execution_millis": 22,
    "deepnote_cell_type": "code",
    "deepnote_cell_height": 99
   },
   "outputs": [],
   "execution_count": 19
  },
  {
   "cell_type": "code",
   "source": "artists.head()",
   "metadata": {
    "cell_id": "48be61a832a84968a94b20bc245288c1",
    "tags": [],
    "deepnote_to_be_reexecuted": false,
    "source_hash": "cec7f524",
    "execution_start": 1655759457775,
    "execution_millis": 397,
    "deepnote_cell_type": "code",
    "deepnote_cell_height": 395
   },
   "outputs": [
    {
     "output_type": "execute_result",
     "execution_count": 20,
     "data": {
      "application/vnd.deepnote.dataframe.v3+json": {
       "column_count": 4,
       "row_count": 5,
       "columns": [
        {
         "name": "Unnamed: 0",
         "dtype": "int64",
         "stats": {
          "unique_count": 5,
          "nan_count": 0,
          "min": "0",
          "max": "4",
          "histogram": [
           {
            "bin_start": 0,
            "bin_end": 0.4,
            "count": 1
           },
           {
            "bin_start": 0.4,
            "bin_end": 0.8,
            "count": 0
           },
           {
            "bin_start": 0.8,
            "bin_end": 1.2000000000000002,
            "count": 1
           },
           {
            "bin_start": 1.2000000000000002,
            "bin_end": 1.6,
            "count": 0
           },
           {
            "bin_start": 1.6,
            "bin_end": 2,
            "count": 0
           },
           {
            "bin_start": 2,
            "bin_end": 2.4000000000000004,
            "count": 1
           },
           {
            "bin_start": 2.4000000000000004,
            "bin_end": 2.8000000000000003,
            "count": 0
           },
           {
            "bin_start": 2.8000000000000003,
            "bin_end": 3.2,
            "count": 1
           },
           {
            "bin_start": 3.2,
            "bin_end": 3.6,
            "count": 0
           },
           {
            "bin_start": 3.6,
            "bin_end": 4,
            "count": 1
           }
          ]
         }
        },
        {
         "name": "artist_mb",
         "dtype": "object",
         "stats": {
          "unique_count": 5,
          "nan_count": 0,
          "categories": [
           {
            "name": "Coldplay",
            "count": 1
           },
           {
            "name": "Radiohead",
            "count": 1
           },
           {
            "name": "3 others",
            "count": 3
           }
          ]
         }
        },
        {
         "name": "listeners_lastfm",
         "dtype": "float64",
         "stats": {
          "unique_count": 5,
          "nan_count": 0,
          "min": "4517997.0",
          "max": "5381567.0",
          "histogram": [
           {
            "bin_start": 4517997,
            "bin_end": 4604354,
            "count": 2
           },
           {
            "bin_start": 4604354,
            "bin_end": 4690711,
            "count": 1
           },
           {
            "bin_start": 4690711,
            "bin_end": 4777068,
            "count": 1
           },
           {
            "bin_start": 4777068,
            "bin_end": 4863425,
            "count": 0
           },
           {
            "bin_start": 4863425,
            "bin_end": 4949782,
            "count": 0
           },
           {
            "bin_start": 4949782,
            "bin_end": 5036139,
            "count": 0
           },
           {
            "bin_start": 5036139,
            "bin_end": 5122496,
            "count": 0
           },
           {
            "bin_start": 5122496,
            "bin_end": 5208853,
            "count": 0
           },
           {
            "bin_start": 5208853,
            "bin_end": 5295210,
            "count": 0
           },
           {
            "bin_start": 5295210,
            "bin_end": 5381567,
            "count": 1
           }
          ]
         }
        },
        {
         "name": "artist",
         "dtype": "object",
         "stats": {
          "unique_count": 5,
          "nan_count": 0,
          "categories": [
           {
            "name": "Coldplay",
            "count": 1
           },
           {
            "name": "Radiohead",
            "count": 1
           },
           {
            "name": "3 others",
            "count": 3
           }
          ]
         }
        },
        {
         "name": "_deepnote_index_column",
         "dtype": "int64"
        }
       ],
       "rows": [
        {
         "Unnamed: 0": 0,
         "artist_mb": "Coldplay",
         "listeners_lastfm": 5381567,
         "artist": "Coldplay",
         "_deepnote_index_column": 0
        },
        {
         "Unnamed: 0": 1,
         "artist_mb": "Radiohead",
         "listeners_lastfm": 4732528,
         "artist": "Radiohead",
         "_deepnote_index_column": 1
        },
        {
         "Unnamed: 0": 2,
         "artist_mb": "Red Hot Chili Peppers",
         "listeners_lastfm": 4620835,
         "artist": "RedHotChiliPeppers",
         "_deepnote_index_column": 2
        },
        {
         "Unnamed: 0": 3,
         "artist_mb": "Rihanna",
         "listeners_lastfm": 4558193,
         "artist": "Rihanna",
         "_deepnote_index_column": 3
        },
        {
         "Unnamed: 0": 4,
         "artist_mb": "Eminem",
         "listeners_lastfm": 4517997,
         "artist": "Eminem",
         "_deepnote_index_column": 4
        }
       ]
      },
      "text/plain": "   Unnamed: 0              artist_mb  listeners_lastfm              artist\n0           0               Coldplay         5381567.0            Coldplay\n1           1              Radiohead         4732528.0           Radiohead\n2           2  Red Hot Chili Peppers         4620835.0  RedHotChiliPeppers\n3           3                Rihanna         4558193.0             Rihanna\n4           4                 Eminem         4517997.0              Eminem",
      "text/html": "<div>\n<style scoped>\n    .dataframe tbody tr th:only-of-type {\n        vertical-align: middle;\n    }\n\n    .dataframe tbody tr th {\n        vertical-align: top;\n    }\n\n    .dataframe thead th {\n        text-align: right;\n    }\n</style>\n<table border=\"1\" class=\"dataframe\">\n  <thead>\n    <tr style=\"text-align: right;\">\n      <th></th>\n      <th>Unnamed: 0</th>\n      <th>artist_mb</th>\n      <th>listeners_lastfm</th>\n      <th>artist</th>\n    </tr>\n  </thead>\n  <tbody>\n    <tr>\n      <th>0</th>\n      <td>0</td>\n      <td>Coldplay</td>\n      <td>5381567.0</td>\n      <td>Coldplay</td>\n    </tr>\n    <tr>\n      <th>1</th>\n      <td>1</td>\n      <td>Radiohead</td>\n      <td>4732528.0</td>\n      <td>Radiohead</td>\n    </tr>\n    <tr>\n      <th>2</th>\n      <td>2</td>\n      <td>Red Hot Chili Peppers</td>\n      <td>4620835.0</td>\n      <td>RedHotChiliPeppers</td>\n    </tr>\n    <tr>\n      <th>3</th>\n      <td>3</td>\n      <td>Rihanna</td>\n      <td>4558193.0</td>\n      <td>Rihanna</td>\n    </tr>\n    <tr>\n      <th>4</th>\n      <td>4</td>\n      <td>Eminem</td>\n      <td>4517997.0</td>\n      <td>Eminem</td>\n    </tr>\n  </tbody>\n</table>\n</div>"
     },
     "metadata": {}
    }
   ],
   "execution_count": 20
  },
  {
   "cell_type": "markdown",
   "source": "Notice now we have the original artist name, and the transformed version, now we can merge",
   "metadata": {
    "cell_id": "da161ad6009248b89b9f24e8fb2951bf",
    "tags": [],
    "is_collapsed": false,
    "formattedRanges": [],
    "deepnote_cell_type": "text-cell-p"
   }
  },
  {
   "cell_type": "code",
   "source": "#do an inner merge so we get the intersection, and there are no inconsistoncies\ninfo = pd.merge(artists, df, on = \"artist\")",
   "metadata": {
    "cell_id": "292e1805ed9f45659b4b2886bbc47330",
    "tags": [],
    "deepnote_to_be_reexecuted": false,
    "source_hash": "e2b5920",
    "execution_start": 1655759457816,
    "execution_millis": 16,
    "deepnote_cell_type": "code",
    "deepnote_cell_height": 99
   },
   "outputs": [],
   "execution_count": 21
  },
  {
   "cell_type": "code",
   "source": "print(info.shape)",
   "metadata": {
    "cell_id": "2e1ee8fcdbe946f492f3cfe4f71ce7de",
    "tags": [],
    "deepnote_to_be_reexecuted": false,
    "source_hash": "8223f0b2",
    "execution_start": 1655759457883,
    "execution_millis": 295,
    "deepnote_cell_type": "code",
    "deepnote_cell_height": 112.1875
   },
   "outputs": [
    {
     "name": "stdout",
     "text": "(2410, 9)\n",
     "output_type": "stream"
    }
   ],
   "execution_count": 22
  },
  {
   "cell_type": "code",
   "source": "info.head(20)",
   "metadata": {
    "cell_id": "32a7a454f98446cf8d7dc812fb1f6ec9",
    "tags": [],
    "deepnote_to_be_reexecuted": false,
    "source_hash": "4107fd80",
    "execution_start": 1655759457927,
    "execution_millis": 264,
    "deepnote_cell_type": "code",
    "deepnote_cell_height": 617
   },
   "outputs": [
    {
     "output_type": "execute_result",
     "execution_count": 23,
     "data": {
      "application/vnd.deepnote.dataframe.v3+json": {
       "column_count": 9,
       "row_count": 20,
       "columns": [
        {
         "name": "Unnamed: 0",
         "dtype": "int64",
         "stats": {
          "unique_count": 4,
          "nan_count": 0,
          "min": "0",
          "max": "3",
          "histogram": [
           {
            "bin_start": 0,
            "bin_end": 0.3,
            "count": 5
           },
           {
            "bin_start": 0.3,
            "bin_end": 0.6,
            "count": 0
           },
           {
            "bin_start": 0.6,
            "bin_end": 0.8999999999999999,
            "count": 0
           },
           {
            "bin_start": 0.8999999999999999,
            "bin_end": 1.2,
            "count": 5
           },
           {
            "bin_start": 1.2,
            "bin_end": 1.5,
            "count": 0
           },
           {
            "bin_start": 1.5,
            "bin_end": 1.7999999999999998,
            "count": 0
           },
           {
            "bin_start": 1.7999999999999998,
            "bin_end": 2.1,
            "count": 5
           },
           {
            "bin_start": 2.1,
            "bin_end": 2.4,
            "count": 0
           },
           {
            "bin_start": 2.4,
            "bin_end": 2.6999999999999997,
            "count": 0
           },
           {
            "bin_start": 2.6999999999999997,
            "bin_end": 3,
            "count": 5
           }
          ]
         }
        },
        {
         "name": "artist_mb",
         "dtype": "object",
         "stats": {
          "unique_count": 4,
          "nan_count": 0,
          "categories": [
           {
            "name": "Coldplay",
            "count": 5
           },
           {
            "name": "Radiohead",
            "count": 5
           },
           {
            "name": "2 others",
            "count": 10
           }
          ]
         }
        },
        {
         "name": "listeners_lastfm",
         "dtype": "float64",
         "stats": {
          "unique_count": 4,
          "nan_count": 0,
          "min": "4558193.0",
          "max": "5381567.0",
          "histogram": [
           {
            "bin_start": 4558193,
            "bin_end": 4640530.4,
            "count": 10
           },
           {
            "bin_start": 4640530.4,
            "bin_end": 4722867.8,
            "count": 0
           },
           {
            "bin_start": 4722867.8,
            "bin_end": 4805205.2,
            "count": 5
           },
           {
            "bin_start": 4805205.2,
            "bin_end": 4887542.6,
            "count": 0
           },
           {
            "bin_start": 4887542.6,
            "bin_end": 4969880,
            "count": 0
           },
           {
            "bin_start": 4969880,
            "bin_end": 5052217.4,
            "count": 0
           },
           {
            "bin_start": 5052217.4,
            "bin_end": 5134554.8,
            "count": 0
           },
           {
            "bin_start": 5134554.8,
            "bin_end": 5216892.2,
            "count": 0
           },
           {
            "bin_start": 5216892.2,
            "bin_end": 5299229.6,
            "count": 0
           },
           {
            "bin_start": 5299229.6,
            "bin_end": 5381567,
            "count": 5
           }
          ]
         }
        },
        {
         "name": "artist",
         "dtype": "object",
         "stats": {
          "unique_count": 4,
          "nan_count": 0,
          "categories": [
           {
            "name": "Coldplay",
            "count": 5
           },
           {
            "name": "Radiohead",
            "count": 5
           },
           {
            "name": "2 others",
            "count": 10
           }
          ]
         }
        },
        {
         "name": "song_name",
         "dtype": "object",
         "stats": {
          "unique_count": 20,
          "nan_count": 0,
          "categories": [
           {
            "name": "Viva la Vida ",
            "count": 1
           },
           {
            "name": "Hymn for the Weekend ",
            "count": 1
           },
           {
            "name": "18 others",
            "count": 18
           }
          ]
         }
        },
        {
         "name": "id",
         "dtype": "int64",
         "stats": {
          "unique_count": 20,
          "nan_count": 0,
          "min": "75",
          "max": "2321",
          "histogram": [
           {
            "bin_start": 75,
            "bin_end": 299.6,
            "count": 2
           },
           {
            "bin_start": 299.6,
            "bin_end": 524.2,
            "count": 2
           },
           {
            "bin_start": 524.2,
            "bin_end": 748.8,
            "count": 4
           },
           {
            "bin_start": 748.8,
            "bin_end": 973.4,
            "count": 1
           },
           {
            "bin_start": 973.4,
            "bin_end": 1198,
            "count": 2
           },
           {
            "bin_start": 1198,
            "bin_end": 1422.6,
            "count": 2
           },
           {
            "bin_start": 1422.6,
            "bin_end": 1647.2,
            "count": 2
           },
           {
            "bin_start": 1647.2,
            "bin_end": 1871.8,
            "count": 1
           },
           {
            "bin_start": 1871.8,
            "bin_end": 2096.3999999999996,
            "count": 1
           },
           {
            "bin_start": 2096.3999999999996,
            "bin_end": 2321,
            "count": 3
           }
          ]
         }
        },
        {
         "name": "lyrics_nostop",
         "dtype": "object",
         "stats": {
          "unique_count": 20,
          "nan_count": 0,
          "categories": [
           {
            "name": "i used rule world seas would rise i gave word now morning, i sleep alone sweep streets i used own i used roll dice feel fear enemy's eyes listened crowd would sing \"now old king dead, long live king\" one minute i held key next, walls were closed and i discovered castles stand upon pillars salt pillars sand i hear jerusalem bells a-ringing roman cavalry choirs singing be mirror, sword shield my missionaries foreign field for reason, i can't explain once you'd gone, never never honest word and i ruled world it wicked wild wind blew down doors let shattered windows sound drums people couldn't believe i'd become revolutionaries wait for head silver plate just puppet lonely string (mmm, mmm) oh, would ever want king? i hear jerusalem bells a-ringing roman cavalry choirs singing be mirror, sword shield my missionaries foreign field for reason, i can't explain i know saint peter won't call name never honest word but i ruled world (oh-oh-oh, oh-oh-woah) (oh-oh-oh, oh-oh-woah) (oh-oh-oh, oh-oh-woah) (oh-oh-oh, oh-oh-woah) (oh-oh-oh, oh-oh-woah) hear jerusalem bells a-ringing (oh-oh-oh, oh-oh-woah) roman cavalry choirs singing (oh-oh-oh, oh-oh-woah) be mirror, sword shield (oh-oh-oh, oh-oh-woah) my missionaries foreign field (oh-oh-oh, oh-oh-woah) for reason, i can't explain (oh-oh-oh, oh-oh-woah) i know saint peter won't call name never honest word but i ruled world mmm, mmm, mmm, mmm mmm, mmm, mmm, mmm mmm, mmm227embed",
            "count": 1
           },
           {
            "name": "and said drink me, drink (oh-ah-oh-ah) that we shoot across sky symphony that we shoot across sky pour a... drink me, drink (oh-ah-oh-ah) that we shoot across sky symphony (so high, so high) that we shoot across sky oh, angel sent up above you know make world light up when i down, i hurt you came lift up life drink love's drug oh now i think i must miles up when i river dried up you came rain flood you said drink me, drink when i so thirsty poured symphony now i just can't get enough put wings me, wings when i so heavy poured symphony when i'm low, low, low, low i, oh-i, oh-i got feeling drunk high, so high, so high oh-i, oh-i, oh-i now i’m feeling drunk high, so high, so high (woo) (woo-ooo-ooo-woo) oh, angel sent up above i feel coursing through blood life drink love's about to make stars come out put wings me, wings when i so heavy poured symphony when i'm low, low, low, low i, oh-i, oh-i got feeling drunk high, so high, so high oh-i, oh-i, oh-i i’m feeling drunk high, so high, so high i, oh-i, oh-i la, la, la, la, la, la, la, so high, so high i, oh-i, oh-i now i'm feeling drunk high, so high, so high that i shoot across sky that i shoot across the... that i shoot across sky let shoot across the... (let shoot) let shoot across sky let shoot across the... let shoot across sky that we shoot across the...64embed",
            "count": 1
           },
           {
            "name": "18 others",
            "count": 18
           }
          ]
         }
        },
        {
         "name": "tokens",
         "dtype": "object",
         "stats": {
          "unique_count": 20,
          "nan_count": 0,
          "categories": [
           {
            "name": "['used', 'rule', 'world', 'seas', 'would', 'rise', 'gave', 'word', 'now', 'morning', 'sleep', 'alone', 'sweep', 'streets', 'used', 'own', 'used', 'roll', 'dice', 'feel', 'fear', 'enemy', 'eyes', 'listened', 'crowd', 'would', 'sing', 'now', 'old', 'king', 'dead', 'long', 'live', 'king', 'one', 'minute', 'held', 'key', 'next', 'walls', 'were', 'closed', 'and', 'discovered', 'castles', 'stand', 'upon', 'pillars', 'salt', 'pillars', 'sand', 'hear', 'jerusalem', 'bells', 'ringing', 'roman', 'cavalry', 'choirs', 'singing', 'be', 'mirror', 'sword', 'shield', 'my', 'missionaries', 'foreign', 'field', 'for', 'reason', 'can', 'explain', 'once', 'you', 'gone', 'never', 'never', 'honest', 'word', 'and', 'ruled', 'world', 'it', 'wicked', 'wild', 'wind', 'blew', 'down', 'doors', 'let', 'shattered', 'windows', 'sound', 'drums', 'people', 'couldn', 'believe', 'become', 'revolutionaries', 'wait', 'for', 'head', 'silver', 'plate', 'just', 'puppet', 'lonely', 'string', 'mmm', 'mmm', 'oh', 'would', 'ever', 'want', 'king', 'hear', 'jerusalem', 'bells', 'ringing', 'roman', 'cavalry', 'choirs', 'singing', 'be', 'mirror', 'sword', 'shield', 'my', 'missionaries', 'foreign', 'field', 'for', 'reason', 'can', 'explain', 'know', 'saint', 'peter', 'won', 'call', 'name', 'never', 'honest', 'word', 'but', 'ruled', 'world', 'oh', 'oh', 'oh', 'oh', 'oh', 'woah', 'oh', 'oh', 'oh', 'oh', 'oh', 'woah', 'oh', 'oh', 'oh', 'oh', 'oh', 'woah', 'oh', 'oh', 'oh', 'oh', 'oh', 'woah', 'oh', 'oh', 'oh', 'oh', 'oh', 'woah', 'hear', 'jerusalem', 'bells', 'ringing', 'oh', 'oh', 'oh', 'oh', 'oh', 'woah', 'roman', 'cavalry', 'choirs', 'singing', 'oh', 'oh', 'oh', 'oh', 'oh', 'woah', 'be', 'mirror', 'sword', 'shield', 'oh', 'oh', 'oh', 'oh', 'oh', 'woah', 'my', 'missionaries', 'foreign', 'field', 'oh', 'oh', 'oh', 'oh', 'oh', 'woah', 'for', 'reason', 'can', 'explain', 'oh', 'oh', 'oh', 'oh', 'oh', 'woah', 'know', 'saint', 'peter', 'won', 'call', 'name', 'never', 'honest', 'word', 'but', 'ruled', 'world', 'mmm', 'mmm', 'mmm', 'mmm', 'mmm', 'mmm', 'mmm', 'mmm', 'mmm', 'mmm227embed']",
            "count": 1
           },
           {
            "name": "['and', 'said', 'drink', 'me', 'drink', 'oh', 'ah', 'oh', 'ah', 'that', 'we', 'shoot', 'across', 'sky', 'symphony', 'that', 'we', 'shoot', 'across', 'sky', 'pour', 'drink', 'me', 'drink', 'oh', 'ah', 'oh', 'ah', 'that', 'we', 'shoot', 'across', 'sky', 'symphony', 'so', 'high', 'so', 'high', 'that', 'we', 'shoot', 'across', 'sky', 'oh', 'angel', 'sent', 'up', 'above', 'you', 'know', 'make', 'world', 'light', 'up', 'when', 'down', 'hurt', 'you', 'came', 'lift', 'up', 'life', 'drink', 'love', 'drug', 'oh', 'now', 'think', 'must', 'miles', 'up', 'when', 'river', 'dried', 'up', 'you', 'came', 'rain', 'flood', 'you', 'said', 'drink', 'me', 'drink', 'when', 'so', 'thirsty', 'poured', 'symphony', 'now', 'just', 'can', 'get', 'enough', 'put', 'wings', 'me', 'wings', 'when', 'so', 'heavy', 'poured', 'symphony', 'when', 'low', 'low', 'low', 'low', 'oh', 'oh', 'got', 'feeling', 'drunk', 'high', 'so', 'high', 'so', 'high', 'oh', 'oh', 'oh', 'now', 'feeling', 'drunk', 'high', 'so', 'high', 'so', 'high', 'woo', 'woo', 'ooo', 'ooo', 'woo', 'oh', 'angel', 'sent', 'up', 'above', 'feel', 'coursing', 'through', 'blood', 'life', 'drink', 'love', 'about', 'to', 'make', 'stars', 'come', 'out', 'put', 'wings', 'me', 'wings', 'when', 'so', 'heavy', 'poured', 'symphony', 'when', 'low', 'low', 'low', 'low', 'oh', 'oh', 'got', 'feeling', 'drunk', 'high', 'so', 'high', 'so', 'high', 'oh', 'oh', 'oh', 'feeling', 'drunk', 'high', 'so', 'high', 'so', 'high', 'oh', 'oh', 'la', 'la', 'la', 'la', 'la', 'la', 'la', 'so', 'high', 'so', 'high', 'oh', 'oh', 'now', 'feeling', 'drunk', 'high', 'so', 'high', 'so', 'high', 'that', 'shoot', 'across', 'sky', 'that', 'shoot', 'across', 'the', 'that', 'shoot', 'across', 'sky', 'let', 'shoot', 'across', 'the', 'let', 'shoot', 'let', 'shoot', 'across', 'sky', 'let', 'shoot', 'across', 'the', 'let', 'shoot', 'across', 'sky', 'that', 'we', 'shoot', 'across', 'the', '64embed']",
            "count": 1
           },
           {
            "name": "18 others",
            "count": 18
           }
          ]
         }
        },
        {
         "name": "artist_tokens",
         "dtype": "object",
         "stats": {
          "unique_count": 20,
          "nan_count": 0,
          "categories": [
           {
            "name": "['Coldplay']",
            "count": 5
           },
           {
            "name": "['Radiohead']",
            "count": 5
           },
           {
            "name": "2 others",
            "count": 10
           }
          ]
         }
        },
        {
         "name": "_deepnote_index_column",
         "dtype": "int64"
        }
       ],
       "rows": [
        {
         "Unnamed: 0": 0,
         "artist_mb": "Coldplay",
         "listeners_lastfm": 5381567,
         "artist": "Coldplay",
         "song_name": "Viva la Vida ",
         "id": 399,
         "lyrics_nostop": "i used rule world seas would rise i gave word now morning, i sleep alone sweep streets i used own i used roll dice feel fear enemy's eyes listened crowd would sing \"now old king dead, long live king\" one minute i held key next, walls were closed and i discovered castles stand upon pillars salt pillars sand i hear jerusalem bells a-ringing roman cavalry choirs singing be mirror, sword shield my missionaries foreign field for reason, i can't explain once you'd gone, never never honest word and i ruled world it wicked wild wind blew down doors let shattered windows sound drums people couldn't believe i'd become revolutionaries wait for head silver plate just puppet lonely string (mmm, mmm) oh, would ever want king? i hear jerusalem bells a-ringing roman cavalry choirs singing be mirror, sword shield my missionaries foreign field for reason, i can't explain i know saint peter won't call name never honest word but i ruled world (oh-oh-oh, oh-oh-woah) (oh-oh-oh, oh-oh-woah) (oh-oh-oh, oh-oh…",
         "tokens": "['used', 'rule', 'world', 'seas', 'would', 'rise', 'gave', 'word', 'now', 'morning', 'sleep', 'alone', 'sweep', 'streets', 'used', 'own', 'used', 'roll', 'dice', 'feel', 'fear', 'enemy', 'eyes', 'listened', 'crowd', 'would', 'sing', 'now', 'old', 'king', 'dead', 'long', 'live', 'king', 'one', 'minute', 'held', 'key', 'next', 'walls', 'were', 'closed', 'and', 'discovered', 'castles', 'stand', 'upon', 'pillars', 'salt', 'pillars', 'sand', 'hear', 'jerusalem', 'bells', 'ringing', 'roman', 'cavalry', 'choirs', 'singing', 'be', 'mirror', 'sword', 'shield', 'my', 'missionaries', 'foreign', 'field', 'for', 'reason', 'can', 'explain', 'once', 'you', 'gone', 'never', 'never', 'honest', 'word', 'and', 'ruled', 'world', 'it', 'wicked', 'wild', 'wind', 'blew', 'down', 'doors', 'let', 'shattered', 'windows', 'sound', 'drums', 'people', 'couldn', 'believe', 'become', 'revolutionaries', 'wait', 'for', 'head', 'silver', 'plate', 'just', 'puppet', 'lonely', 'string', 'mmm', 'mmm', 'oh', 'would', 'ever…",
         "artist_tokens": "['Coldplay']",
         "_deepnote_index_column": 0
        },
        {
         "Unnamed: 0": 0,
         "artist_mb": "Coldplay",
         "listeners_lastfm": 5381567,
         "artist": "Coldplay",
         "song_name": "Hymn for the Weekend ",
         "id": 787,
         "lyrics_nostop": "and said drink me, drink (oh-ah-oh-ah) that we shoot across sky symphony that we shoot across sky pour a... drink me, drink (oh-ah-oh-ah) that we shoot across sky symphony (so high, so high) that we shoot across sky oh, angel sent up above you know make world light up when i down, i hurt you came lift up life drink love's drug oh now i think i must miles up when i river dried up you came rain flood you said drink me, drink when i so thirsty poured symphony now i just can't get enough put wings me, wings when i so heavy poured symphony when i'm low, low, low, low i, oh-i, oh-i got feeling drunk high, so high, so high oh-i, oh-i, oh-i now i’m feeling drunk high, so high, so high (woo) (woo-ooo-ooo-woo) oh, angel sent up above i feel coursing through blood life drink love's about to make stars come out put wings me, wings when i so heavy poured symphony when i'm low, low, low, low i, oh-i, oh-i got feeling drunk high, so high, so high oh-i, oh-i, oh-i i’m feeling drunk high, so high, so …",
         "tokens": "['and', 'said', 'drink', 'me', 'drink', 'oh', 'ah', 'oh', 'ah', 'that', 'we', 'shoot', 'across', 'sky', 'symphony', 'that', 'we', 'shoot', 'across', 'sky', 'pour', 'drink', 'me', 'drink', 'oh', 'ah', 'oh', 'ah', 'that', 'we', 'shoot', 'across', 'sky', 'symphony', 'so', 'high', 'so', 'high', 'that', 'we', 'shoot', 'across', 'sky', 'oh', 'angel', 'sent', 'up', 'above', 'you', 'know', 'make', 'world', 'light', 'up', 'when', 'down', 'hurt', 'you', 'came', 'lift', 'up', 'life', 'drink', 'love', 'drug', 'oh', 'now', 'think', 'must', 'miles', 'up', 'when', 'river', 'dried', 'up', 'you', 'came', 'rain', 'flood', 'you', 'said', 'drink', 'me', 'drink', 'when', 'so', 'thirsty', 'poured', 'symphony', 'now', 'just', 'can', 'get', 'enough', 'put', 'wings', 'me', 'wings', 'when', 'so', 'heavy', 'poured', 'symphony', 'when', 'low', 'low', 'low', 'low', 'oh', 'oh', 'got', 'feeling', 'drunk', 'high', 'so', 'high', 'so', 'high', 'oh', 'oh', 'oh', 'now', 'feeling', 'drunk', 'high', 'so', 'high', 'so', 'h…",
         "artist_tokens": "['Coldplay']",
         "_deepnote_index_column": 1
        },
        {
         "Unnamed: 0": 0,
         "artist_mb": "Coldplay",
         "listeners_lastfm": 5381567,
         "artist": "Coldplay",
         "song_name": "The Scientist ",
         "id": 1075,
         "lyrics_nostop": "come up meet you, tell i'm sorry you don't know lovely i had find you, tell i need tell i set apart tell secrets, ask questions oh, let's go back start running circles, coming up tails heads science apart nobody said easy it's such shame part nobody said easy no one ever said would hard oh, take back start i just guessing numbers figures pulling puzzles apart questions science, science progress do not speak loud heart tell love me, come back haunt oh, i rush start running circles, chasing tails coming back we nobody said easy oh, it's such shame part nobody said easy no one ever said would so hard i'm going back start oh-ooh ooh-ooh-ooh-ooh ah-ooh ooh-ooh-ooh-ooh oh-ooh ooh-ooh-ooh-ooh oh-ooh ooh-ooh-ooh-ooh216embed",
         "tokens": "['come', 'up', 'meet', 'you', 'tell', 'sorry', 'you', 'don', 'know', 'lovely', 'had', 'find', 'you', 'tell', 'need', 'tell', 'set', 'apart', 'tell', 'secrets', 'ask', 'questions', 'oh', 'let', 'go', 'back', 'start', 'running', 'circles', 'coming', 'up', 'tails', 'heads', 'science', 'apart', 'nobody', 'said', 'easy', 'it', 'such', 'shame', 'part', 'nobody', 'said', 'easy', 'no', 'one', 'ever', 'said', 'would', 'hard', 'oh', 'take', 'back', 'start', 'just', 'guessing', 'numbers', 'figures', 'pulling', 'puzzles', 'apart', 'questions', 'science', 'science', 'progress', 'do', 'not', 'speak', 'loud', 'heart', 'tell', 'love', 'me', 'come', 'back', 'haunt', 'oh', 'rush', 'start', 'running', 'circles', 'chasing', 'tails', 'coming', 'back', 'we', 'nobody', 'said', 'easy', 'oh', 'it', 'such', 'shame', 'part', 'nobody', 'said', 'easy', 'no', 'one', 'ever', 'said', 'would', 'so', 'hard', 'going', 'back', 'start', 'oh', 'ooh', 'ooh', 'ooh', 'ooh', 'ooh', 'ah', 'ooh', 'ooh', 'ooh', 'ooh', 'ooh', 'oh…",
         "artist_tokens": "['Coldplay']",
         "_deepnote_index_column": 2
        },
        {
         "Unnamed: 0": 0,
         "artist_mb": "Coldplay",
         "listeners_lastfm": 5381567,
         "artist": "Coldplay",
         "song_name": "Yellow ",
         "id": 2120,
         "lyrics_nostop": "look stars, look shine and everything do yeah, were yellow i came along, i wrote song and things do and called \"yellow\" so then i took turn oh, thing done and yellow (aah) your skin, oh, yeah, skin bones (ooh) turn into something beautiful (aah) you know, know i love so you know i love so i swam across, i jumped across oh, thing do 'cause were yellow i drew line, i drew line oh, thing do and yellow (aah) your skin, oh, yeah, skin bones (ooh) turn into something beautiful (aah) and know, you, i'd bleed myself dry for you, i'd bleed myself dry it's true, look shine look shine look shine look shine look shine look shine look stars look shine and things do160embed",
         "tokens": "['look', 'stars', 'look', 'shine', 'and', 'everything', 'do', 'yeah', 'were', 'yellow', 'came', 'along', 'wrote', 'song', 'and', 'things', 'do', 'and', 'called', 'yellow', 'so', 'then', 'took', 'turn', 'oh', 'thing', 'done', 'and', 'yellow', 'aah', 'your', 'skin', 'oh', 'yeah', 'skin', 'bones', 'ooh', 'turn', 'into', 'something', 'beautiful', 'aah', 'you', 'know', 'know', 'love', 'so', 'you', 'know', 'love', 'so', 'swam', 'across', 'jumped', 'across', 'oh', 'thing', 'do', 'cause', 'were', 'yellow', 'drew', 'line', 'drew', 'line', 'oh', 'thing', 'do', 'and', 'yellow', 'aah', 'your', 'skin', 'oh', 'yeah', 'skin', 'bones', 'ooh', 'turn', 'into', 'something', 'beautiful', 'aah', 'and', 'know', 'you', 'bleed', 'myself', 'dry', 'for', 'you', 'bleed', 'myself', 'dry', 'it', 'true', 'look', 'shine', 'look', 'shine', 'look', 'shine', 'look', 'shine', 'look', 'shine', 'look', 'shine', 'look', 'stars', 'look', 'shine', 'and', 'things', 'do160embed']",
         "artist_tokens": "['Coldplay']",
         "_deepnote_index_column": 3
        },
        {
         "Unnamed: 0": 0,
         "artist_mb": "Coldplay",
         "listeners_lastfm": 5381567,
         "artist": "Coldplay",
         "song_name": "Fix You ",
         "id": 2169,
         "lyrics_nostop": "when try best, don't succeed when get want, not need when feel so tired, can't sleep stuck reverse and tears come streaming down face when lose something can't replace when love someone, goes waste could worse? lights guide home and ignite bones and i try fix and high up above down below when you're too love let go but if never try, you'll never know just you're worth lights guide home and ignite bones and i try fix tears stream down face when lose something cannot replace tears stream down face, i tears stream down face i promise i learn mistakes tears stream down face, i lights guide home and ignite bones and i try fix you147embed",
         "tokens": "['when', 'try', 'best', 'don', 'succeed', 'when', 'get', 'want', 'not', 'need', 'when', 'feel', 'so', 'tired', 'can', 'sleep', 'stuck', 'reverse', 'and', 'tears', 'come', 'streaming', 'down', 'face', 'when', 'lose', 'something', 'can', 'replace', 'when', 'love', 'someone', 'goes', 'waste', 'could', 'worse', 'lights', 'guide', 'home', 'and', 'ignite', 'bones', 'and', 'try', 'fix', 'and', 'high', 'up', 'above', 'down', 'below', 'when', 'you', 're', 'too', 'love', 'let', 'go', 'but', 'if', 'never', 'try', 'you', 'll', 'never', 'know', 'just', 'you', 're', 'worth', 'lights', 'guide', 'home', 'and', 'ignite', 'bones', 'and', 'try', 'fix', 'tears', 'stream', 'down', 'face', 'when', 'lose', 'something', 'cannot', 'replace', 'tears', 'stream', 'down', 'face', 'tears', 'stream', 'down', 'face', 'promise', 'learn', 'mistakes', 'tears', 'stream', 'down', 'face', 'lights', 'guide', 'home', 'and', 'ignite', 'bones', 'and', 'try', 'fix', 'you147embed']",
         "artist_tokens": "['Coldplay']",
         "_deepnote_index_column": 4
        },
        {
         "Unnamed: 0": 1,
         "artist_mb": "Radiohead",
         "listeners_lastfm": 4732528,
         "artist": "Radiohead",
         "song_name": "Creep ",
         "id": 558,
         "lyrics_nostop": "when were before couldn't look eye you're just like angel your skin makes cry you float like feather in beautiful world i wish i special you're so fuckin' special but i'm creep i'm weirdo what hell am i doing here? i don't belong i don't care if hurts i wanna control i want perfect body i want perfect soul i want notice when i'm not around you're so fuckin' special i wish i special but i'm creep i'm weirdo what hell am i doing here? i don't belong oh, oh she's running out door she's running out she run, run, run, run run whatever makes happy whatever want you're so fuckin' special i wish i special but i'm creep i'm weirdo what hell am i doing here? i don't belong i don't belong here247embed",
         "tokens": "['when', 'were', 'before', 'couldn', 'look', 'eye', 'you', 're', 'just', 'like', 'angel', 'your', 'skin', 'makes', 'cry', 'you', 'float', 'like', 'feather', 'in', 'beautiful', 'world', 'wish', 'special', 'you', 're', 'so', 'fuckin', 'special', 'but', 'creep', 'weirdo', 'what', 'hell', 'am', 'doing', 'here', 'don', 'belong', 'don', 'care', 'if', 'hurts', 'wanna', 'control', 'want', 'perfect', 'body', 'want', 'perfect', 'soul', 'want', 'notice', 'when', 'not', 'around', 'you', 're', 'so', 'fuckin', 'special', 'wish', 'special', 'but', 'creep', 'weirdo', 'what', 'hell', 'am', 'doing', 'here', 'don', 'belong', 'oh', 'oh', 'she', 'running', 'out', 'door', 'she', 'running', 'out', 'she', 'run', 'run', 'run', 'run', 'run', 'whatever', 'makes', 'happy', 'whatever', 'want', 'you', 're', 'so', 'fuckin', 'special', 'wish', 'special', 'but', 'creep', 'weirdo', 'what', 'hell', 'am', 'doing', 'here', 'don', 'belong', 'don', 'belong', 'here247embed']",
         "artist_tokens": "['Radiohead']",
         "_deepnote_index_column": 5
        },
        {
         "Unnamed: 0": 1,
         "artist_mb": "Radiohead",
         "listeners_lastfm": 4732528,
         "artist": "Radiohead",
         "song_name": "Exit Music (For A Film) ",
         "id": 630,
         "lyrics_nostop": "wake sleep the drying tears today we escape, we escape pack get dressed before father hears before hell breaks loose breathe, keep breathing don't lose nerve breathe, keep breathing i can't do alone sing song a song keep warm there's such chill such chill and can laugh spineless laugh we hope rules wisdom choke now we one everlasting peace we hope choke, choke we hope choke that choke we hope choke that choke83embed",
         "tokens": "['wake', 'sleep', 'the', 'drying', 'tears', 'today', 'we', 'escape', 'we', 'escape', 'pack', 'get', 'dressed', 'before', 'father', 'hears', 'before', 'hell', 'breaks', 'loose', 'breathe', 'keep', 'breathing', 'don', 'lose', 'nerve', 'breathe', 'keep', 'breathing', 'can', 'do', 'alone', 'sing', 'song', 'song', 'keep', 'warm', 'there', 'such', 'chill', 'such', 'chill', 'and', 'can', 'laugh', 'spineless', 'laugh', 'we', 'hope', 'rules', 'wisdom', 'choke', 'now', 'we', 'one', 'everlasting', 'peace', 'we', 'hope', 'choke', 'choke', 'we', 'hope', 'choke', 'that', 'choke', 'we', 'hope', 'choke', 'that', 'choke83embed']",
         "artist_tokens": "['Radiohead']",
         "_deepnote_index_column": 6
        },
        {
         "Unnamed: 0": 1,
         "artist_mb": "Radiohead",
         "listeners_lastfm": 4732528,
         "artist": "Radiohead",
         "song_name": "Karma Police ",
         "id": 1221,
         "lyrics_nostop": "karma police, arrest man he talks maths, buzzes like fridge he's like detuned radio karma police, arrest girl her hitler hairdo making feel ill and we crashed party this you'll get this you'll get this you'll get when mess karma police, i've given i can it's not enough, i've given i can but we're still payroll this you'll get this you'll get this you'll get when mess for minute i lost myself, i lost myself phew, minute i lost myself, i lost myself for minute i lost myself, i lost myself phew, minute i lost myself, i lost myself101embed",
         "tokens": "['karma', 'police', 'arrest', 'man', 'he', 'talks', 'maths', 'buzzes', 'like', 'fridge', 'he', 'like', 'detuned', 'radio', 'karma', 'police', 'arrest', 'girl', 'her', 'hitler', 'hairdo', 'making', 'feel', 'ill', 'and', 'we', 'crashed', 'party', 'this', 'you', 'll', 'get', 'this', 'you', 'll', 'get', 'this', 'you', 'll', 'get', 'when', 'mess', 'karma', 'police', 've', 'given', 'can', 'it', 'not', 'enough', 've', 'given', 'can', 'but', 'we', 're', 'still', 'payroll', 'this', 'you', 'll', 'get', 'this', 'you', 'll', 'get', 'this', 'you', 'll', 'get', 'when', 'mess', 'for', 'minute', 'lost', 'myself', 'lost', 'myself', 'phew', 'minute', 'lost', 'myself', 'lost', 'myself', 'for', 'minute', 'lost', 'myself', 'lost', 'myself', 'phew', 'minute', 'lost', 'myself', 'lost', 'myself101embed']",
         "artist_tokens": "['Radiohead']",
         "_deepnote_index_column": 7
        },
        {
         "Unnamed: 0": 1,
         "artist_mb": "Radiohead",
         "listeners_lastfm": 4732528,
         "artist": "Radiohead",
         "song_name": "No Surprises ",
         "id": 1965,
         "lyrics_nostop": "a heart that's full up like landfill a job slowly kills bruises won't heal you look so tired, unhappy bring down government they don't, don't speak i'll take quiet life a handshake carbon monoxide and no alarms no surprises no alarms no surprises no alarms no surprises silent, silent this final fit my final bellyache no alarms no surprises no alarms no surprises no alarms no surprises, please such pretty house and such pretty garden no alarms no surprises (get out here) no alarms no surprises (get out here) no alarms no surprises, please (get out here)98embed",
         "tokens": "['heart', 'that', 'full', 'up', 'like', 'landfill', 'job', 'slowly', 'kills', 'bruises', 'won', 'heal', 'you', 'look', 'so', 'tired', 'unhappy', 'bring', 'down', 'government', 'they', 'don', 'don', 'speak', 'll', 'take', 'quiet', 'life', 'handshake', 'carbon', 'monoxide', 'and', 'no', 'alarms', 'no', 'surprises', 'no', 'alarms', 'no', 'surprises', 'no', 'alarms', 'no', 'surprises', 'silent', 'silent', 'this', 'final', 'fit', 'my', 'final', 'bellyache', 'no', 'alarms', 'no', 'surprises', 'no', 'alarms', 'no', 'surprises', 'no', 'alarms', 'no', 'surprises', 'please', 'such', 'pretty', 'house', 'and', 'such', 'pretty', 'garden', 'no', 'alarms', 'no', 'surprises', 'get', 'out', 'here', 'no', 'alarms', 'no', 'surprises', 'get', 'out', 'here', 'no', 'alarms', 'no', 'surprises', 'please', 'get', 'out', 'here', '98embed']",
         "artist_tokens": "['Radiohead']",
         "_deepnote_index_column": 8
        },
        {
         "Unnamed: 0": 1,
         "artist_mb": "Radiohead",
         "listeners_lastfm": 4732528,
         "artist": "Radiohead",
         "song_name": "Paranoid Android ",
         "id": 2321,
         "lyrics_nostop": "please, could stop noise? i'm trying get rest from unborn chicken voices in head what's that? (i may paranoid, not android) what's that? (i may paranoid, not android) when i am king you first against wall with opinion which no consequence what's that? (i may paranoid, no android) what's that? (i may paranoid, no android) ambition makes look pretty ugly kicking, squealing, gucci little piggy you don't remember, don't remember why don't remember name? off head, man, off head, man why don't remember name? i guess does rain down, rain down come on, rain down from great height from great height, height rain down, rain down come on, rain down from great height from great height, height that's it, sir, you're leaving (rain down) the crackle pigskin (rain down) the dust screaming (come on, rain down) the yuppies networking (on me) the panic, vomit (from great height) the panic, vomit (from great height) god loves children god loves children, yeah106embed",
         "tokens": "['please', 'could', 'stop', 'noise', 'trying', 'get', 'rest', 'from', 'unborn', 'chicken', 'voices', 'in', 'head', 'what', 'that', 'may', 'paranoid', 'not', 'android', 'what', 'that', 'may', 'paranoid', 'not', 'android', 'when', 'am', 'king', 'you', 'first', 'against', 'wall', 'with', 'opinion', 'which', 'no', 'consequence', 'what', 'that', 'may', 'paranoid', 'no', 'android', 'what', 'that', 'may', 'paranoid', 'no', 'android', 'ambition', 'makes', 'look', 'pretty', 'ugly', 'kicking', 'squealing', 'gucci', 'little', 'piggy', 'you', 'don', 'remember', 'don', 'remember', 'why', 'don', 'remember', 'name', 'off', 'head', 'man', 'off', 'head', 'man', 'why', 'don', 'remember', 'name', 'guess', 'does', 'rain', 'down', 'rain', 'down', 'come', 'on', 'rain', 'down', 'from', 'great', 'height', 'from', 'great', 'height', 'height', 'rain', 'down', 'rain', 'down', 'come', 'on', 'rain', 'down', 'from', 'great', 'height', 'from', 'great', 'height', 'height', 'that', 'it', 'sir', 'you', 're', 'leaving'…",
         "artist_tokens": "['Radiohead']",
         "_deepnote_index_column": 9
        }
       ]
      },
      "text/plain": "    Unnamed: 0              artist_mb  listeners_lastfm              artist  \\\n0            0               Coldplay         5381567.0            Coldplay   \n1            0               Coldplay         5381567.0            Coldplay   \n2            0               Coldplay         5381567.0            Coldplay   \n3            0               Coldplay         5381567.0            Coldplay   \n4            0               Coldplay         5381567.0            Coldplay   \n5            1              Radiohead         4732528.0           Radiohead   \n6            1              Radiohead         4732528.0           Radiohead   \n7            1              Radiohead         4732528.0           Radiohead   \n8            1              Radiohead         4732528.0           Radiohead   \n9            1              Radiohead         4732528.0           Radiohead   \n10           2  Red Hot Chili Peppers         4620835.0  RedHotChiliPeppers   \n11           2  Red Hot Chili Peppers         4620835.0  RedHotChiliPeppers   \n12           2  Red Hot Chili Peppers         4620835.0  RedHotChiliPeppers   \n13           2  Red Hot Chili Peppers         4620835.0  RedHotChiliPeppers   \n14           2  Red Hot Chili Peppers         4620835.0  RedHotChiliPeppers   \n15           3                Rihanna         4558193.0             Rihanna   \n16           3                Rihanna         4558193.0             Rihanna   \n17           3                Rihanna         4558193.0             Rihanna   \n18           3                Rihanna         4558193.0             Rihanna   \n19           3                Rihanna         4558193.0             Rihanna   \n\n                   song_name    id  \\\n0              Viva la Vida    399   \n1      Hymn for the Weekend    787   \n2             The Scientist   1075   \n3                    Yellow   2120   \n4                   Fix You   2169   \n5                     Creep    558   \n6   Exit Music (For A Film)    630   \n7              Karma Police   1221   \n8              No Surprises   1965   \n9          Paranoid Android   2321   \n10                Otherside    161   \n11         Under the Bridge    417   \n12          Californication   1049   \n13               Can’t Stop   1534   \n14              Scar Tissue   1595   \n15        Love on the Brain     75   \n16           Kiss It Better    565   \n17                     Work    629   \n18                     Stay   1319   \n19                Needed Me   1736   \n\n                                        lyrics_nostop  \\\n0   i used rule world seas would rise i gave word ...   \n1   and said drink me, drink (oh-ah-oh-ah) that we...   \n2   come up meet you, tell i'm sorry you don't kno...   \n3   look stars, look shine and everything do yeah,...   \n4   when try best, don't succeed when get want, no...   \n5   when were before couldn't look eye you're just...   \n6   wake sleep the drying tears today we escape, w...   \n7   karma police, arrest man he talks maths, buzze...   \n8   a heart that's full up like landfill a job slo...   \n9   please, could stop noise? i'm trying get rest ...   \n10  how long, long i slide? well, separate side i ...   \n11  sometimes i feel like i don't partner sometime...   \n12  psychic spies china try steal mind's elation a...   \n13  can't stop, addicted shindig chop top, says i'...   \n14  scar tissue i wish saw sarcastic mister know-i...   \n15  and got like, \"oh, want me?\" (what want me?) a...   \n16  kiss it, kiss better, baby kiss it, kiss bette...   \n17  work, work, work, work, work, work he said haf...   \n18  all along fever a cold sweat, hot-headed belie...   \n19  mustard beat, ho! i good own, that's way that'...   \n\n                                               tokens  \\\n0   [used, rule, world, seas, would, rise, gave, w...   \n1   [and, said, drink, me, drink, oh, ah, oh, ah, ...   \n2   [come, up, meet, you, tell, sorry, you, don, k...   \n3   [look, stars, look, shine, and, everything, do...   \n4   [when, try, best, don, succeed, when, get, wan...   \n5   [when, were, before, couldn, look, eye, you, r...   \n6   [wake, sleep, the, drying, tears, today, we, e...   \n7   [karma, police, arrest, man, he, talks, maths,...   \n8   [heart, that, full, up, like, landfill, job, s...   \n9   [please, could, stop, noise, trying, get, rest...   \n10  [how, long, long, slide, well, separate, side,...   \n11  [sometimes, feel, like, don, partner, sometime...   \n12  [psychic, spies, china, try, steal, mind, elat...   \n13  [can, stop, addicted, shindig, chop, top, says...   \n14  [scar, tissue, wish, saw, sarcastic, mister, k...   \n15  [and, got, like, oh, want, me, what, want, me,...   \n16  [kiss, it, kiss, better, baby, kiss, it, kiss,...   \n17  [work, work, work, work, work, work, he, said,...   \n18  [all, along, fever, cold, sweat, hot, headed, ...   \n19  [mustard, beat, ho, good, own, that, way, that...   \n\n                 artist_tokens  \n0                   [Coldplay]  \n1                   [Coldplay]  \n2                   [Coldplay]  \n3                   [Coldplay]  \n4                   [Coldplay]  \n5                  [Radiohead]  \n6                  [Radiohead]  \n7                  [Radiohead]  \n8                  [Radiohead]  \n9                  [Radiohead]  \n10  [Red, Hot, Chili, Peppers]  \n11  [Red, Hot, Chili, Peppers]  \n12  [Red, Hot, Chili, Peppers]  \n13  [Red, Hot, Chili, Peppers]  \n14  [Red, Hot, Chili, Peppers]  \n15                   [Rihanna]  \n16                   [Rihanna]  \n17                   [Rihanna]  \n18                   [Rihanna]  \n19                   [Rihanna]  ",
      "text/html": "<div>\n<style scoped>\n    .dataframe tbody tr th:only-of-type {\n        vertical-align: middle;\n    }\n\n    .dataframe tbody tr th {\n        vertical-align: top;\n    }\n\n    .dataframe thead th {\n        text-align: right;\n    }\n</style>\n<table border=\"1\" class=\"dataframe\">\n  <thead>\n    <tr style=\"text-align: right;\">\n      <th></th>\n      <th>Unnamed: 0</th>\n      <th>artist_mb</th>\n      <th>listeners_lastfm</th>\n      <th>artist</th>\n      <th>song_name</th>\n      <th>id</th>\n      <th>lyrics_nostop</th>\n      <th>tokens</th>\n      <th>artist_tokens</th>\n    </tr>\n  </thead>\n  <tbody>\n    <tr>\n      <th>0</th>\n      <td>0</td>\n      <td>Coldplay</td>\n      <td>5381567.0</td>\n      <td>Coldplay</td>\n      <td>Viva la Vida</td>\n      <td>399</td>\n      <td>i used rule world seas would rise i gave word ...</td>\n      <td>[used, rule, world, seas, would, rise, gave, w...</td>\n      <td>[Coldplay]</td>\n    </tr>\n    <tr>\n      <th>1</th>\n      <td>0</td>\n      <td>Coldplay</td>\n      <td>5381567.0</td>\n      <td>Coldplay</td>\n      <td>Hymn for the Weekend</td>\n      <td>787</td>\n      <td>and said drink me, drink (oh-ah-oh-ah) that we...</td>\n      <td>[and, said, drink, me, drink, oh, ah, oh, ah, ...</td>\n      <td>[Coldplay]</td>\n    </tr>\n    <tr>\n      <th>2</th>\n      <td>0</td>\n      <td>Coldplay</td>\n      <td>5381567.0</td>\n      <td>Coldplay</td>\n      <td>The Scientist</td>\n      <td>1075</td>\n      <td>come up meet you, tell i'm sorry you don't kno...</td>\n      <td>[come, up, meet, you, tell, sorry, you, don, k...</td>\n      <td>[Coldplay]</td>\n    </tr>\n    <tr>\n      <th>3</th>\n      <td>0</td>\n      <td>Coldplay</td>\n      <td>5381567.0</td>\n      <td>Coldplay</td>\n      <td>Yellow</td>\n      <td>2120</td>\n      <td>look stars, look shine and everything do yeah,...</td>\n      <td>[look, stars, look, shine, and, everything, do...</td>\n      <td>[Coldplay]</td>\n    </tr>\n    <tr>\n      <th>4</th>\n      <td>0</td>\n      <td>Coldplay</td>\n      <td>5381567.0</td>\n      <td>Coldplay</td>\n      <td>Fix You</td>\n      <td>2169</td>\n      <td>when try best, don't succeed when get want, no...</td>\n      <td>[when, try, best, don, succeed, when, get, wan...</td>\n      <td>[Coldplay]</td>\n    </tr>\n    <tr>\n      <th>5</th>\n      <td>1</td>\n      <td>Radiohead</td>\n      <td>4732528.0</td>\n      <td>Radiohead</td>\n      <td>Creep</td>\n      <td>558</td>\n      <td>when were before couldn't look eye you're just...</td>\n      <td>[when, were, before, couldn, look, eye, you, r...</td>\n      <td>[Radiohead]</td>\n    </tr>\n    <tr>\n      <th>6</th>\n      <td>1</td>\n      <td>Radiohead</td>\n      <td>4732528.0</td>\n      <td>Radiohead</td>\n      <td>Exit Music (For A Film)</td>\n      <td>630</td>\n      <td>wake sleep the drying tears today we escape, w...</td>\n      <td>[wake, sleep, the, drying, tears, today, we, e...</td>\n      <td>[Radiohead]</td>\n    </tr>\n    <tr>\n      <th>7</th>\n      <td>1</td>\n      <td>Radiohead</td>\n      <td>4732528.0</td>\n      <td>Radiohead</td>\n      <td>Karma Police</td>\n      <td>1221</td>\n      <td>karma police, arrest man he talks maths, buzze...</td>\n      <td>[karma, police, arrest, man, he, talks, maths,...</td>\n      <td>[Radiohead]</td>\n    </tr>\n    <tr>\n      <th>8</th>\n      <td>1</td>\n      <td>Radiohead</td>\n      <td>4732528.0</td>\n      <td>Radiohead</td>\n      <td>No Surprises</td>\n      <td>1965</td>\n      <td>a heart that's full up like landfill a job slo...</td>\n      <td>[heart, that, full, up, like, landfill, job, s...</td>\n      <td>[Radiohead]</td>\n    </tr>\n    <tr>\n      <th>9</th>\n      <td>1</td>\n      <td>Radiohead</td>\n      <td>4732528.0</td>\n      <td>Radiohead</td>\n      <td>Paranoid Android</td>\n      <td>2321</td>\n      <td>please, could stop noise? i'm trying get rest ...</td>\n      <td>[please, could, stop, noise, trying, get, rest...</td>\n      <td>[Radiohead]</td>\n    </tr>\n    <tr>\n      <th>10</th>\n      <td>2</td>\n      <td>Red Hot Chili Peppers</td>\n      <td>4620835.0</td>\n      <td>RedHotChiliPeppers</td>\n      <td>Otherside</td>\n      <td>161</td>\n      <td>how long, long i slide? well, separate side i ...</td>\n      <td>[how, long, long, slide, well, separate, side,...</td>\n      <td>[Red, Hot, Chili, Peppers]</td>\n    </tr>\n    <tr>\n      <th>11</th>\n      <td>2</td>\n      <td>Red Hot Chili Peppers</td>\n      <td>4620835.0</td>\n      <td>RedHotChiliPeppers</td>\n      <td>Under the Bridge</td>\n      <td>417</td>\n      <td>sometimes i feel like i don't partner sometime...</td>\n      <td>[sometimes, feel, like, don, partner, sometime...</td>\n      <td>[Red, Hot, Chili, Peppers]</td>\n    </tr>\n    <tr>\n      <th>12</th>\n      <td>2</td>\n      <td>Red Hot Chili Peppers</td>\n      <td>4620835.0</td>\n      <td>RedHotChiliPeppers</td>\n      <td>Californication</td>\n      <td>1049</td>\n      <td>psychic spies china try steal mind's elation a...</td>\n      <td>[psychic, spies, china, try, steal, mind, elat...</td>\n      <td>[Red, Hot, Chili, Peppers]</td>\n    </tr>\n    <tr>\n      <th>13</th>\n      <td>2</td>\n      <td>Red Hot Chili Peppers</td>\n      <td>4620835.0</td>\n      <td>RedHotChiliPeppers</td>\n      <td>Can’t Stop</td>\n      <td>1534</td>\n      <td>can't stop, addicted shindig chop top, says i'...</td>\n      <td>[can, stop, addicted, shindig, chop, top, says...</td>\n      <td>[Red, Hot, Chili, Peppers]</td>\n    </tr>\n    <tr>\n      <th>14</th>\n      <td>2</td>\n      <td>Red Hot Chili Peppers</td>\n      <td>4620835.0</td>\n      <td>RedHotChiliPeppers</td>\n      <td>Scar Tissue</td>\n      <td>1595</td>\n      <td>scar tissue i wish saw sarcastic mister know-i...</td>\n      <td>[scar, tissue, wish, saw, sarcastic, mister, k...</td>\n      <td>[Red, Hot, Chili, Peppers]</td>\n    </tr>\n    <tr>\n      <th>15</th>\n      <td>3</td>\n      <td>Rihanna</td>\n      <td>4558193.0</td>\n      <td>Rihanna</td>\n      <td>Love on the Brain</td>\n      <td>75</td>\n      <td>and got like, \"oh, want me?\" (what want me?) a...</td>\n      <td>[and, got, like, oh, want, me, what, want, me,...</td>\n      <td>[Rihanna]</td>\n    </tr>\n    <tr>\n      <th>16</th>\n      <td>3</td>\n      <td>Rihanna</td>\n      <td>4558193.0</td>\n      <td>Rihanna</td>\n      <td>Kiss It Better</td>\n      <td>565</td>\n      <td>kiss it, kiss better, baby kiss it, kiss bette...</td>\n      <td>[kiss, it, kiss, better, baby, kiss, it, kiss,...</td>\n      <td>[Rihanna]</td>\n    </tr>\n    <tr>\n      <th>17</th>\n      <td>3</td>\n      <td>Rihanna</td>\n      <td>4558193.0</td>\n      <td>Rihanna</td>\n      <td>Work</td>\n      <td>629</td>\n      <td>work, work, work, work, work, work he said haf...</td>\n      <td>[work, work, work, work, work, work, he, said,...</td>\n      <td>[Rihanna]</td>\n    </tr>\n    <tr>\n      <th>18</th>\n      <td>3</td>\n      <td>Rihanna</td>\n      <td>4558193.0</td>\n      <td>Rihanna</td>\n      <td>Stay</td>\n      <td>1319</td>\n      <td>all along fever a cold sweat, hot-headed belie...</td>\n      <td>[all, along, fever, cold, sweat, hot, headed, ...</td>\n      <td>[Rihanna]</td>\n    </tr>\n    <tr>\n      <th>19</th>\n      <td>3</td>\n      <td>Rihanna</td>\n      <td>4558193.0</td>\n      <td>Rihanna</td>\n      <td>Needed Me</td>\n      <td>1736</td>\n      <td>mustard beat, ho! i good own, that's way that'...</td>\n      <td>[mustard, beat, ho, good, own, that, way, that...</td>\n      <td>[Rihanna]</td>\n    </tr>\n  </tbody>\n</table>\n</div>"
     },
     "metadata": {}
    }
   ],
   "execution_count": 23
  },
  {
   "cell_type": "code",
   "source": "drop = ['artist', 'artist_tokens', 'listeners_lastfm']\ninfo = info.drop(drop, axis = 1)\ninfo.head()",
   "metadata": {
    "cell_id": "be468e490cb5400389755909d4ea8429",
    "tags": [],
    "deepnote_to_be_reexecuted": false,
    "source_hash": "f361459a",
    "execution_start": 1655759458173,
    "execution_millis": 91,
    "deepnote_cell_type": "code",
    "deepnote_cell_height": 431
   },
   "outputs": [
    {
     "output_type": "execute_result",
     "execution_count": 24,
     "data": {
      "application/vnd.deepnote.dataframe.v3+json": {
       "column_count": 6,
       "row_count": 5,
       "columns": [
        {
         "name": "Unnamed: 0",
         "dtype": "int64",
         "stats": {
          "unique_count": 1,
          "nan_count": 0,
          "min": "0",
          "max": "0",
          "histogram": [
           {
            "bin_start": -0.5,
            "bin_end": -0.4,
            "count": 0
           },
           {
            "bin_start": -0.4,
            "bin_end": -0.3,
            "count": 0
           },
           {
            "bin_start": -0.3,
            "bin_end": -0.19999999999999996,
            "count": 0
           },
           {
            "bin_start": -0.19999999999999996,
            "bin_end": -0.09999999999999998,
            "count": 0
           },
           {
            "bin_start": -0.09999999999999998,
            "bin_end": 0,
            "count": 0
           },
           {
            "bin_start": 0,
            "bin_end": 0.10000000000000009,
            "count": 5
           },
           {
            "bin_start": 0.10000000000000009,
            "bin_end": 0.20000000000000007,
            "count": 0
           },
           {
            "bin_start": 0.20000000000000007,
            "bin_end": 0.30000000000000004,
            "count": 0
           },
           {
            "bin_start": 0.30000000000000004,
            "bin_end": 0.4,
            "count": 0
           },
           {
            "bin_start": 0.4,
            "bin_end": 0.5,
            "count": 0
           }
          ]
         }
        },
        {
         "name": "artist_mb",
         "dtype": "object",
         "stats": {
          "unique_count": 1,
          "nan_count": 0,
          "categories": [
           {
            "name": "Coldplay",
            "count": 5
           }
          ]
         }
        },
        {
         "name": "song_name",
         "dtype": "object",
         "stats": {
          "unique_count": 5,
          "nan_count": 0,
          "categories": [
           {
            "name": "Viva la Vida ",
            "count": 1
           },
           {
            "name": "Hymn for the Weekend ",
            "count": 1
           },
           {
            "name": "3 others",
            "count": 3
           }
          ]
         }
        },
        {
         "name": "id",
         "dtype": "int64",
         "stats": {
          "unique_count": 5,
          "nan_count": 0,
          "min": "399",
          "max": "2169",
          "histogram": [
           {
            "bin_start": 399,
            "bin_end": 576,
            "count": 1
           },
           {
            "bin_start": 576,
            "bin_end": 753,
            "count": 0
           },
           {
            "bin_start": 753,
            "bin_end": 930,
            "count": 1
           },
           {
            "bin_start": 930,
            "bin_end": 1107,
            "count": 1
           },
           {
            "bin_start": 1107,
            "bin_end": 1284,
            "count": 0
           },
           {
            "bin_start": 1284,
            "bin_end": 1461,
            "count": 0
           },
           {
            "bin_start": 1461,
            "bin_end": 1638,
            "count": 0
           },
           {
            "bin_start": 1638,
            "bin_end": 1815,
            "count": 0
           },
           {
            "bin_start": 1815,
            "bin_end": 1992,
            "count": 0
           },
           {
            "bin_start": 1992,
            "bin_end": 2169,
            "count": 2
           }
          ]
         }
        },
        {
         "name": "lyrics_nostop",
         "dtype": "object",
         "stats": {
          "unique_count": 5,
          "nan_count": 0,
          "categories": [
           {
            "name": "i used rule world seas would rise i gave word now morning, i sleep alone sweep streets i used own i used roll dice feel fear enemy's eyes listened crowd would sing \"now old king dead, long live king\" one minute i held key next, walls were closed and i discovered castles stand upon pillars salt pillars sand i hear jerusalem bells a-ringing roman cavalry choirs singing be mirror, sword shield my missionaries foreign field for reason, i can't explain once you'd gone, never never honest word and i ruled world it wicked wild wind blew down doors let shattered windows sound drums people couldn't believe i'd become revolutionaries wait for head silver plate just puppet lonely string (mmm, mmm) oh, would ever want king? i hear jerusalem bells a-ringing roman cavalry choirs singing be mirror, sword shield my missionaries foreign field for reason, i can't explain i know saint peter won't call name never honest word but i ruled world (oh-oh-oh, oh-oh-woah) (oh-oh-oh, oh-oh-woah) (oh-oh-oh, oh-oh-woah) (oh-oh-oh, oh-oh-woah) (oh-oh-oh, oh-oh-woah) hear jerusalem bells a-ringing (oh-oh-oh, oh-oh-woah) roman cavalry choirs singing (oh-oh-oh, oh-oh-woah) be mirror, sword shield (oh-oh-oh, oh-oh-woah) my missionaries foreign field (oh-oh-oh, oh-oh-woah) for reason, i can't explain (oh-oh-oh, oh-oh-woah) i know saint peter won't call name never honest word but i ruled world mmm, mmm, mmm, mmm mmm, mmm, mmm, mmm mmm, mmm227embed",
            "count": 1
           },
           {
            "name": "and said drink me, drink (oh-ah-oh-ah) that we shoot across sky symphony that we shoot across sky pour a... drink me, drink (oh-ah-oh-ah) that we shoot across sky symphony (so high, so high) that we shoot across sky oh, angel sent up above you know make world light up when i down, i hurt you came lift up life drink love's drug oh now i think i must miles up when i river dried up you came rain flood you said drink me, drink when i so thirsty poured symphony now i just can't get enough put wings me, wings when i so heavy poured symphony when i'm low, low, low, low i, oh-i, oh-i got feeling drunk high, so high, so high oh-i, oh-i, oh-i now i’m feeling drunk high, so high, so high (woo) (woo-ooo-ooo-woo) oh, angel sent up above i feel coursing through blood life drink love's about to make stars come out put wings me, wings when i so heavy poured symphony when i'm low, low, low, low i, oh-i, oh-i got feeling drunk high, so high, so high oh-i, oh-i, oh-i i’m feeling drunk high, so high, so high i, oh-i, oh-i la, la, la, la, la, la, la, so high, so high i, oh-i, oh-i now i'm feeling drunk high, so high, so high that i shoot across sky that i shoot across the... that i shoot across sky let shoot across the... (let shoot) let shoot across sky let shoot across the... let shoot across sky that we shoot across the...64embed",
            "count": 1
           },
           {
            "name": "3 others",
            "count": 3
           }
          ]
         }
        },
        {
         "name": "tokens",
         "dtype": "object",
         "stats": {
          "unique_count": 5,
          "nan_count": 0,
          "categories": [
           {
            "name": "['used', 'rule', 'world', 'seas', 'would', 'rise', 'gave', 'word', 'now', 'morning', 'sleep', 'alone', 'sweep', 'streets', 'used', 'own', 'used', 'roll', 'dice', 'feel', 'fear', 'enemy', 'eyes', 'listened', 'crowd', 'would', 'sing', 'now', 'old', 'king', 'dead', 'long', 'live', 'king', 'one', 'minute', 'held', 'key', 'next', 'walls', 'were', 'closed', 'and', 'discovered', 'castles', 'stand', 'upon', 'pillars', 'salt', 'pillars', 'sand', 'hear', 'jerusalem', 'bells', 'ringing', 'roman', 'cavalry', 'choirs', 'singing', 'be', 'mirror', 'sword', 'shield', 'my', 'missionaries', 'foreign', 'field', 'for', 'reason', 'can', 'explain', 'once', 'you', 'gone', 'never', 'never', 'honest', 'word', 'and', 'ruled', 'world', 'it', 'wicked', 'wild', 'wind', 'blew', 'down', 'doors', 'let', 'shattered', 'windows', 'sound', 'drums', 'people', 'couldn', 'believe', 'become', 'revolutionaries', 'wait', 'for', 'head', 'silver', 'plate', 'just', 'puppet', 'lonely', 'string', 'mmm', 'mmm', 'oh', 'would', 'ever', 'want', 'king', 'hear', 'jerusalem', 'bells', 'ringing', 'roman', 'cavalry', 'choirs', 'singing', 'be', 'mirror', 'sword', 'shield', 'my', 'missionaries', 'foreign', 'field', 'for', 'reason', 'can', 'explain', 'know', 'saint', 'peter', 'won', 'call', 'name', 'never', 'honest', 'word', 'but', 'ruled', 'world', 'oh', 'oh', 'oh', 'oh', 'oh', 'woah', 'oh', 'oh', 'oh', 'oh', 'oh', 'woah', 'oh', 'oh', 'oh', 'oh', 'oh', 'woah', 'oh', 'oh', 'oh', 'oh', 'oh', 'woah', 'oh', 'oh', 'oh', 'oh', 'oh', 'woah', 'hear', 'jerusalem', 'bells', 'ringing', 'oh', 'oh', 'oh', 'oh', 'oh', 'woah', 'roman', 'cavalry', 'choirs', 'singing', 'oh', 'oh', 'oh', 'oh', 'oh', 'woah', 'be', 'mirror', 'sword', 'shield', 'oh', 'oh', 'oh', 'oh', 'oh', 'woah', 'my', 'missionaries', 'foreign', 'field', 'oh', 'oh', 'oh', 'oh', 'oh', 'woah', 'for', 'reason', 'can', 'explain', 'oh', 'oh', 'oh', 'oh', 'oh', 'woah', 'know', 'saint', 'peter', 'won', 'call', 'name', 'never', 'honest', 'word', 'but', 'ruled', 'world', 'mmm', 'mmm', 'mmm', 'mmm', 'mmm', 'mmm', 'mmm', 'mmm', 'mmm', 'mmm227embed']",
            "count": 1
           },
           {
            "name": "['and', 'said', 'drink', 'me', 'drink', 'oh', 'ah', 'oh', 'ah', 'that', 'we', 'shoot', 'across', 'sky', 'symphony', 'that', 'we', 'shoot', 'across', 'sky', 'pour', 'drink', 'me', 'drink', 'oh', 'ah', 'oh', 'ah', 'that', 'we', 'shoot', 'across', 'sky', 'symphony', 'so', 'high', 'so', 'high', 'that', 'we', 'shoot', 'across', 'sky', 'oh', 'angel', 'sent', 'up', 'above', 'you', 'know', 'make', 'world', 'light', 'up', 'when', 'down', 'hurt', 'you', 'came', 'lift', 'up', 'life', 'drink', 'love', 'drug', 'oh', 'now', 'think', 'must', 'miles', 'up', 'when', 'river', 'dried', 'up', 'you', 'came', 'rain', 'flood', 'you', 'said', 'drink', 'me', 'drink', 'when', 'so', 'thirsty', 'poured', 'symphony', 'now', 'just', 'can', 'get', 'enough', 'put', 'wings', 'me', 'wings', 'when', 'so', 'heavy', 'poured', 'symphony', 'when', 'low', 'low', 'low', 'low', 'oh', 'oh', 'got', 'feeling', 'drunk', 'high', 'so', 'high', 'so', 'high', 'oh', 'oh', 'oh', 'now', 'feeling', 'drunk', 'high', 'so', 'high', 'so', 'high', 'woo', 'woo', 'ooo', 'ooo', 'woo', 'oh', 'angel', 'sent', 'up', 'above', 'feel', 'coursing', 'through', 'blood', 'life', 'drink', 'love', 'about', 'to', 'make', 'stars', 'come', 'out', 'put', 'wings', 'me', 'wings', 'when', 'so', 'heavy', 'poured', 'symphony', 'when', 'low', 'low', 'low', 'low', 'oh', 'oh', 'got', 'feeling', 'drunk', 'high', 'so', 'high', 'so', 'high', 'oh', 'oh', 'oh', 'feeling', 'drunk', 'high', 'so', 'high', 'so', 'high', 'oh', 'oh', 'la', 'la', 'la', 'la', 'la', 'la', 'la', 'so', 'high', 'so', 'high', 'oh', 'oh', 'now', 'feeling', 'drunk', 'high', 'so', 'high', 'so', 'high', 'that', 'shoot', 'across', 'sky', 'that', 'shoot', 'across', 'the', 'that', 'shoot', 'across', 'sky', 'let', 'shoot', 'across', 'the', 'let', 'shoot', 'let', 'shoot', 'across', 'sky', 'let', 'shoot', 'across', 'the', 'let', 'shoot', 'across', 'sky', 'that', 'we', 'shoot', 'across', 'the', '64embed']",
            "count": 1
           },
           {
            "name": "3 others",
            "count": 3
           }
          ]
         }
        },
        {
         "name": "_deepnote_index_column",
         "dtype": "int64"
        }
       ],
       "rows": [
        {
         "Unnamed: 0": 0,
         "artist_mb": "Coldplay",
         "song_name": "Viva la Vida ",
         "id": 399,
         "lyrics_nostop": "i used rule world seas would rise i gave word now morning, i sleep alone sweep streets i used own i used roll dice feel fear enemy's eyes listened crowd would sing \"now old king dead, long live king\" one minute i held key next, walls were closed and i discovered castles stand upon pillars salt pillars sand i hear jerusalem bells a-ringing roman cavalry choirs singing be mirror, sword shield my missionaries foreign field for reason, i can't explain once you'd gone, never never honest word and i ruled world it wicked wild wind blew down doors let shattered windows sound drums people couldn't believe i'd become revolutionaries wait for head silver plate just puppet lonely string (mmm, mmm) oh, would ever want king? i hear jerusalem bells a-ringing roman cavalry choirs singing be mirror, sword shield my missionaries foreign field for reason, i can't explain i know saint peter won't call name never honest word but i ruled world (oh-oh-oh, oh-oh-woah) (oh-oh-oh, oh-oh-woah) (oh-oh-oh, oh-oh…",
         "tokens": "['used', 'rule', 'world', 'seas', 'would', 'rise', 'gave', 'word', 'now', 'morning', 'sleep', 'alone', 'sweep', 'streets', 'used', 'own', 'used', 'roll', 'dice', 'feel', 'fear', 'enemy', 'eyes', 'listened', 'crowd', 'would', 'sing', 'now', 'old', 'king', 'dead', 'long', 'live', 'king', 'one', 'minute', 'held', 'key', 'next', 'walls', 'were', 'closed', 'and', 'discovered', 'castles', 'stand', 'upon', 'pillars', 'salt', 'pillars', 'sand', 'hear', 'jerusalem', 'bells', 'ringing', 'roman', 'cavalry', 'choirs', 'singing', 'be', 'mirror', 'sword', 'shield', 'my', 'missionaries', 'foreign', 'field', 'for', 'reason', 'can', 'explain', 'once', 'you', 'gone', 'never', 'never', 'honest', 'word', 'and', 'ruled', 'world', 'it', 'wicked', 'wild', 'wind', 'blew', 'down', 'doors', 'let', 'shattered', 'windows', 'sound', 'drums', 'people', 'couldn', 'believe', 'become', 'revolutionaries', 'wait', 'for', 'head', 'silver', 'plate', 'just', 'puppet', 'lonely', 'string', 'mmm', 'mmm', 'oh', 'would', 'ever…",
         "_deepnote_index_column": 0
        },
        {
         "Unnamed: 0": 0,
         "artist_mb": "Coldplay",
         "song_name": "Hymn for the Weekend ",
         "id": 787,
         "lyrics_nostop": "and said drink me, drink (oh-ah-oh-ah) that we shoot across sky symphony that we shoot across sky pour a... drink me, drink (oh-ah-oh-ah) that we shoot across sky symphony (so high, so high) that we shoot across sky oh, angel sent up above you know make world light up when i down, i hurt you came lift up life drink love's drug oh now i think i must miles up when i river dried up you came rain flood you said drink me, drink when i so thirsty poured symphony now i just can't get enough put wings me, wings when i so heavy poured symphony when i'm low, low, low, low i, oh-i, oh-i got feeling drunk high, so high, so high oh-i, oh-i, oh-i now i’m feeling drunk high, so high, so high (woo) (woo-ooo-ooo-woo) oh, angel sent up above i feel coursing through blood life drink love's about to make stars come out put wings me, wings when i so heavy poured symphony when i'm low, low, low, low i, oh-i, oh-i got feeling drunk high, so high, so high oh-i, oh-i, oh-i i’m feeling drunk high, so high, so …",
         "tokens": "['and', 'said', 'drink', 'me', 'drink', 'oh', 'ah', 'oh', 'ah', 'that', 'we', 'shoot', 'across', 'sky', 'symphony', 'that', 'we', 'shoot', 'across', 'sky', 'pour', 'drink', 'me', 'drink', 'oh', 'ah', 'oh', 'ah', 'that', 'we', 'shoot', 'across', 'sky', 'symphony', 'so', 'high', 'so', 'high', 'that', 'we', 'shoot', 'across', 'sky', 'oh', 'angel', 'sent', 'up', 'above', 'you', 'know', 'make', 'world', 'light', 'up', 'when', 'down', 'hurt', 'you', 'came', 'lift', 'up', 'life', 'drink', 'love', 'drug', 'oh', 'now', 'think', 'must', 'miles', 'up', 'when', 'river', 'dried', 'up', 'you', 'came', 'rain', 'flood', 'you', 'said', 'drink', 'me', 'drink', 'when', 'so', 'thirsty', 'poured', 'symphony', 'now', 'just', 'can', 'get', 'enough', 'put', 'wings', 'me', 'wings', 'when', 'so', 'heavy', 'poured', 'symphony', 'when', 'low', 'low', 'low', 'low', 'oh', 'oh', 'got', 'feeling', 'drunk', 'high', 'so', 'high', 'so', 'high', 'oh', 'oh', 'oh', 'now', 'feeling', 'drunk', 'high', 'so', 'high', 'so', 'h…",
         "_deepnote_index_column": 1
        },
        {
         "Unnamed: 0": 0,
         "artist_mb": "Coldplay",
         "song_name": "The Scientist ",
         "id": 1075,
         "lyrics_nostop": "come up meet you, tell i'm sorry you don't know lovely i had find you, tell i need tell i set apart tell secrets, ask questions oh, let's go back start running circles, coming up tails heads science apart nobody said easy it's such shame part nobody said easy no one ever said would hard oh, take back start i just guessing numbers figures pulling puzzles apart questions science, science progress do not speak loud heart tell love me, come back haunt oh, i rush start running circles, chasing tails coming back we nobody said easy oh, it's such shame part nobody said easy no one ever said would so hard i'm going back start oh-ooh ooh-ooh-ooh-ooh ah-ooh ooh-ooh-ooh-ooh oh-ooh ooh-ooh-ooh-ooh oh-ooh ooh-ooh-ooh-ooh216embed",
         "tokens": "['come', 'up', 'meet', 'you', 'tell', 'sorry', 'you', 'don', 'know', 'lovely', 'had', 'find', 'you', 'tell', 'need', 'tell', 'set', 'apart', 'tell', 'secrets', 'ask', 'questions', 'oh', 'let', 'go', 'back', 'start', 'running', 'circles', 'coming', 'up', 'tails', 'heads', 'science', 'apart', 'nobody', 'said', 'easy', 'it', 'such', 'shame', 'part', 'nobody', 'said', 'easy', 'no', 'one', 'ever', 'said', 'would', 'hard', 'oh', 'take', 'back', 'start', 'just', 'guessing', 'numbers', 'figures', 'pulling', 'puzzles', 'apart', 'questions', 'science', 'science', 'progress', 'do', 'not', 'speak', 'loud', 'heart', 'tell', 'love', 'me', 'come', 'back', 'haunt', 'oh', 'rush', 'start', 'running', 'circles', 'chasing', 'tails', 'coming', 'back', 'we', 'nobody', 'said', 'easy', 'oh', 'it', 'such', 'shame', 'part', 'nobody', 'said', 'easy', 'no', 'one', 'ever', 'said', 'would', 'so', 'hard', 'going', 'back', 'start', 'oh', 'ooh', 'ooh', 'ooh', 'ooh', 'ooh', 'ah', 'ooh', 'ooh', 'ooh', 'ooh', 'ooh', 'oh…",
         "_deepnote_index_column": 2
        },
        {
         "Unnamed: 0": 0,
         "artist_mb": "Coldplay",
         "song_name": "Yellow ",
         "id": 2120,
         "lyrics_nostop": "look stars, look shine and everything do yeah, were yellow i came along, i wrote song and things do and called \"yellow\" so then i took turn oh, thing done and yellow (aah) your skin, oh, yeah, skin bones (ooh) turn into something beautiful (aah) you know, know i love so you know i love so i swam across, i jumped across oh, thing do 'cause were yellow i drew line, i drew line oh, thing do and yellow (aah) your skin, oh, yeah, skin bones (ooh) turn into something beautiful (aah) and know, you, i'd bleed myself dry for you, i'd bleed myself dry it's true, look shine look shine look shine look shine look shine look shine look stars look shine and things do160embed",
         "tokens": "['look', 'stars', 'look', 'shine', 'and', 'everything', 'do', 'yeah', 'were', 'yellow', 'came', 'along', 'wrote', 'song', 'and', 'things', 'do', 'and', 'called', 'yellow', 'so', 'then', 'took', 'turn', 'oh', 'thing', 'done', 'and', 'yellow', 'aah', 'your', 'skin', 'oh', 'yeah', 'skin', 'bones', 'ooh', 'turn', 'into', 'something', 'beautiful', 'aah', 'you', 'know', 'know', 'love', 'so', 'you', 'know', 'love', 'so', 'swam', 'across', 'jumped', 'across', 'oh', 'thing', 'do', 'cause', 'were', 'yellow', 'drew', 'line', 'drew', 'line', 'oh', 'thing', 'do', 'and', 'yellow', 'aah', 'your', 'skin', 'oh', 'yeah', 'skin', 'bones', 'ooh', 'turn', 'into', 'something', 'beautiful', 'aah', 'and', 'know', 'you', 'bleed', 'myself', 'dry', 'for', 'you', 'bleed', 'myself', 'dry', 'it', 'true', 'look', 'shine', 'look', 'shine', 'look', 'shine', 'look', 'shine', 'look', 'shine', 'look', 'shine', 'look', 'stars', 'look', 'shine', 'and', 'things', 'do160embed']",
         "_deepnote_index_column": 3
        },
        {
         "Unnamed: 0": 0,
         "artist_mb": "Coldplay",
         "song_name": "Fix You ",
         "id": 2169,
         "lyrics_nostop": "when try best, don't succeed when get want, not need when feel so tired, can't sleep stuck reverse and tears come streaming down face when lose something can't replace when love someone, goes waste could worse? lights guide home and ignite bones and i try fix and high up above down below when you're too love let go but if never try, you'll never know just you're worth lights guide home and ignite bones and i try fix tears stream down face when lose something cannot replace tears stream down face, i tears stream down face i promise i learn mistakes tears stream down face, i lights guide home and ignite bones and i try fix you147embed",
         "tokens": "['when', 'try', 'best', 'don', 'succeed', 'when', 'get', 'want', 'not', 'need', 'when', 'feel', 'so', 'tired', 'can', 'sleep', 'stuck', 'reverse', 'and', 'tears', 'come', 'streaming', 'down', 'face', 'when', 'lose', 'something', 'can', 'replace', 'when', 'love', 'someone', 'goes', 'waste', 'could', 'worse', 'lights', 'guide', 'home', 'and', 'ignite', 'bones', 'and', 'try', 'fix', 'and', 'high', 'up', 'above', 'down', 'below', 'when', 'you', 're', 'too', 'love', 'let', 'go', 'but', 'if', 'never', 'try', 'you', 'll', 'never', 'know', 'just', 'you', 're', 'worth', 'lights', 'guide', 'home', 'and', 'ignite', 'bones', 'and', 'try', 'fix', 'tears', 'stream', 'down', 'face', 'when', 'lose', 'something', 'cannot', 'replace', 'tears', 'stream', 'down', 'face', 'tears', 'stream', 'down', 'face', 'promise', 'learn', 'mistakes', 'tears', 'stream', 'down', 'face', 'lights', 'guide', 'home', 'and', 'ignite', 'bones', 'and', 'try', 'fix', 'you147embed']",
         "_deepnote_index_column": 4
        }
       ]
      },
      "text/plain": "   Unnamed: 0 artist_mb              song_name    id  \\\n0           0  Coldplay          Viva la Vida    399   \n1           0  Coldplay  Hymn for the Weekend    787   \n2           0  Coldplay         The Scientist   1075   \n3           0  Coldplay                Yellow   2120   \n4           0  Coldplay               Fix You   2169   \n\n                                       lyrics_nostop  \\\n0  i used rule world seas would rise i gave word ...   \n1  and said drink me, drink (oh-ah-oh-ah) that we...   \n2  come up meet you, tell i'm sorry you don't kno...   \n3  look stars, look shine and everything do yeah,...   \n4  when try best, don't succeed when get want, no...   \n\n                                              tokens  \n0  [used, rule, world, seas, would, rise, gave, w...  \n1  [and, said, drink, me, drink, oh, ah, oh, ah, ...  \n2  [come, up, meet, you, tell, sorry, you, don, k...  \n3  [look, stars, look, shine, and, everything, do...  \n4  [when, try, best, don, succeed, when, get, wan...  ",
      "text/html": "<div>\n<style scoped>\n    .dataframe tbody tr th:only-of-type {\n        vertical-align: middle;\n    }\n\n    .dataframe tbody tr th {\n        vertical-align: top;\n    }\n\n    .dataframe thead th {\n        text-align: right;\n    }\n</style>\n<table border=\"1\" class=\"dataframe\">\n  <thead>\n    <tr style=\"text-align: right;\">\n      <th></th>\n      <th>Unnamed: 0</th>\n      <th>artist_mb</th>\n      <th>song_name</th>\n      <th>id</th>\n      <th>lyrics_nostop</th>\n      <th>tokens</th>\n    </tr>\n  </thead>\n  <tbody>\n    <tr>\n      <th>0</th>\n      <td>0</td>\n      <td>Coldplay</td>\n      <td>Viva la Vida</td>\n      <td>399</td>\n      <td>i used rule world seas would rise i gave word ...</td>\n      <td>[used, rule, world, seas, would, rise, gave, w...</td>\n    </tr>\n    <tr>\n      <th>1</th>\n      <td>0</td>\n      <td>Coldplay</td>\n      <td>Hymn for the Weekend</td>\n      <td>787</td>\n      <td>and said drink me, drink (oh-ah-oh-ah) that we...</td>\n      <td>[and, said, drink, me, drink, oh, ah, oh, ah, ...</td>\n    </tr>\n    <tr>\n      <th>2</th>\n      <td>0</td>\n      <td>Coldplay</td>\n      <td>The Scientist</td>\n      <td>1075</td>\n      <td>come up meet you, tell i'm sorry you don't kno...</td>\n      <td>[come, up, meet, you, tell, sorry, you, don, k...</td>\n    </tr>\n    <tr>\n      <th>3</th>\n      <td>0</td>\n      <td>Coldplay</td>\n      <td>Yellow</td>\n      <td>2120</td>\n      <td>look stars, look shine and everything do yeah,...</td>\n      <td>[look, stars, look, shine, and, everything, do...</td>\n    </tr>\n    <tr>\n      <th>4</th>\n      <td>0</td>\n      <td>Coldplay</td>\n      <td>Fix You</td>\n      <td>2169</td>\n      <td>when try best, don't succeed when get want, no...</td>\n      <td>[when, try, best, don, succeed, when, get, wan...</td>\n    </tr>\n  </tbody>\n</table>\n</div>"
     },
     "metadata": {}
    }
   ],
   "execution_count": 24
  },
  {
   "cell_type": "code",
   "source": "# Avoid running this because this is written to a csv\n# all work is done in track_info.py\n# Uncomment if running for the first time\n# inject_song_id(sp, info)",
   "metadata": {
    "cell_id": "dedf338868a04e048679f8a0120164bc",
    "tags": [],
    "deepnote_to_be_reexecuted": false,
    "source_hash": "62f016ab",
    "execution_start": 1655759458324,
    "execution_millis": 0,
    "owner_user_id": "f4dc0182-7c34-4962-a1d6-446635695a61",
    "deepnote_cell_type": "code",
    "deepnote_cell_height": 820.1875,
    "deepnote_output_heights": [
     607
    ]
   },
   "outputs": [],
   "execution_count": 25
  },
  {
   "cell_type": "markdown",
   "source": "See track_info.py to view the process of injecting these ids into the dataframe. The process took about 3 minutes, so I figured it was easier to store in a csv for easy access.",
   "metadata": {
    "cell_id": "ca9eb199779b415c9db240008055d8c7",
    "tags": [],
    "is_collapsed": false,
    "formattedRanges": [],
    "deepnote_cell_type": "text-cell-p"
   }
  },
  {
   "cell_type": "code",
   "source": "info = pd.read_csv(\"data/data_with_spotify_ids.csv\")",
   "metadata": {
    "cell_id": "dd7dd9ff53a443509c5ad13654d227b1",
    "tags": [],
    "deepnote_to_be_reexecuted": false,
    "source_hash": "4ab8d56b",
    "execution_start": 1655759458325,
    "execution_millis": 289,
    "deepnote_cell_type": "code",
    "deepnote_cell_height": 81
   },
   "outputs": [],
   "execution_count": 26
  },
  {
   "cell_type": "code",
   "source": "info[\"sp_id\"].isna().sum()",
   "metadata": {
    "cell_id": "3258507bdb4242609e9ee7571b962bed",
    "tags": [],
    "deepnote_to_be_reexecuted": false,
    "source_hash": "6ff6b90",
    "execution_start": 1655759458645,
    "execution_millis": 12,
    "deepnote_cell_type": "code",
    "deepnote_cell_height": 118.1875,
    "deepnote_output_heights": [
     21.1875
    ]
   },
   "outputs": [
    {
     "output_type": "execute_result",
     "execution_count": 27,
     "data": {
      "text/plain": "0"
     },
     "metadata": {}
    }
   ],
   "execution_count": 27
  },
  {
   "cell_type": "markdown",
   "source": "That did the trick, we will simply remove these last 79 songs because there are likely errors that would waste a lot of time to fix.",
   "metadata": {
    "cell_id": "7789defea60342508f0ae4e3877dbc40",
    "tags": [],
    "is_collapsed": false,
    "formattedRanges": [],
    "deepnote_cell_type": "text-cell-p"
   }
  },
  {
   "cell_type": "code",
   "source": "info.shape",
   "metadata": {
    "cell_id": "950e34bee78e4faea0cc05ff55218004",
    "tags": [],
    "deepnote_to_be_reexecuted": false,
    "source_hash": "aeed8988",
    "execution_start": 1655759458692,
    "execution_millis": 45,
    "deepnote_cell_type": "code",
    "deepnote_cell_height": 118.1875,
    "deepnote_output_heights": [
     21.1875
    ]
   },
   "outputs": [
    {
     "output_type": "execute_result",
     "execution_count": 28,
     "data": {
      "text/plain": "(2331, 8)"
     },
     "metadata": {}
    }
   ],
   "execution_count": 28
  },
  {
   "cell_type": "markdown",
   "source": "Now we have 2,331 songs to build our playlists on, and there is always a way to add artists I/you like if I needed to later.",
   "metadata": {
    "cell_id": "736ead0e07194a60a1048470e85b78f9",
    "tags": [],
    "is_collapsed": false,
    "formattedRanges": [],
    "deepnote_cell_type": "text-cell-p"
   }
  },
  {
   "cell_type": "markdown",
   "source": "### Add some song metadata",
   "metadata": {
    "cell_id": "b57081cb965944208446c09bebe63ed2",
    "tags": [],
    "is_collapsed": false,
    "formattedRanges": [],
    "deepnote_cell_type": "text-cell-h3"
   }
  },
  {
   "cell_type": "markdown",
   "source": "I already processed and extracted all of the data into a csv, see track_info.py to see how that was done",
   "metadata": {
    "cell_id": "5cb9150e8e5e4a20952acece19b7a0ba",
    "tags": [],
    "is_collapsed": false,
    "formattedRanges": [],
    "deepnote_cell_type": "text-cell-p"
   }
  },
  {
   "cell_type": "markdown",
   "source": "Now we have some features that will predict song similarity!",
   "metadata": {
    "cell_id": "7aeb4111ad77474da81ab07c07be7f38",
    "tags": [],
    "is_collapsed": false,
    "formattedRanges": [],
    "deepnote_cell_type": "text-cell-p"
   }
  },
  {
   "cell_type": "code",
   "source": "track_info = pd.read_csv(\"data/audio_and_lyric_data.csv\")",
   "metadata": {
    "cell_id": "4f30b69ac4594aa2866ce802e1dbea97",
    "tags": [],
    "deepnote_to_be_reexecuted": false,
    "source_hash": "cbc66f4b",
    "execution_start": 1655759458736,
    "execution_millis": 272,
    "deepnote_cell_type": "code",
    "deepnote_cell_height": 81
   },
   "outputs": [],
   "execution_count": 29
  },
  {
   "cell_type": "code",
   "source": "track_info = track_info.drop(\"Unnamed: 0\",axis=1)\ntrack_info.head()",
   "metadata": {
    "cell_id": "c4e7ba2c6ec940aa9f8b1aedbeb86898",
    "tags": [],
    "deepnote_to_be_reexecuted": false,
    "source_hash": "5be4013c",
    "execution_start": 1655759459084,
    "execution_millis": 153,
    "deepnote_cell_type": "code",
    "deepnote_cell_height": 430
   },
   "outputs": [
    {
     "output_type": "execute_result",
     "execution_count": 30,
     "data": {
      "application/vnd.deepnote.dataframe.v3+json": {
       "column_count": 16,
       "row_count": 5,
       "columns": [
        {
         "name": "artist_mb",
         "dtype": "object",
         "stats": {
          "unique_count": 1,
          "nan_count": 0,
          "categories": [
           {
            "name": "Coldplay",
            "count": 5
           }
          ]
         }
        },
        {
         "name": "song_name",
         "dtype": "object",
         "stats": {
          "unique_count": 5,
          "nan_count": 0,
          "categories": [
           {
            "name": "Viva la Vida ",
            "count": 1
           },
           {
            "name": "Hymn for the Weekend ",
            "count": 1
           },
           {
            "name": "3 others",
            "count": 3
           }
          ]
         }
        },
        {
         "name": "id",
         "dtype": "int64",
         "stats": {
          "unique_count": 5,
          "nan_count": 0,
          "min": "399",
          "max": "2169",
          "histogram": [
           {
            "bin_start": 399,
            "bin_end": 576,
            "count": 1
           },
           {
            "bin_start": 576,
            "bin_end": 753,
            "count": 0
           },
           {
            "bin_start": 753,
            "bin_end": 930,
            "count": 1
           },
           {
            "bin_start": 930,
            "bin_end": 1107,
            "count": 1
           },
           {
            "bin_start": 1107,
            "bin_end": 1284,
            "count": 0
           },
           {
            "bin_start": 1284,
            "bin_end": 1461,
            "count": 0
           },
           {
            "bin_start": 1461,
            "bin_end": 1638,
            "count": 0
           },
           {
            "bin_start": 1638,
            "bin_end": 1815,
            "count": 0
           },
           {
            "bin_start": 1815,
            "bin_end": 1992,
            "count": 0
           },
           {
            "bin_start": 1992,
            "bin_end": 2169,
            "count": 2
           }
          ]
         }
        },
        {
         "name": "lyrics_nostop",
         "dtype": "object",
         "stats": {
          "unique_count": 5,
          "nan_count": 0,
          "categories": [
           {
            "name": "i used rule world seas would rise i gave word now morning, i sleep alone sweep streets i used own i used roll dice feel fear enemy's eyes listened crowd would sing \"now old king dead, long live king\" one minute i held key next, walls were closed and i discovered castles stand upon pillars salt pillars sand i hear jerusalem bells a-ringing roman cavalry choirs singing be mirror, sword shield my missionaries foreign field for reason, i can't explain once you'd gone, never never honest word and i ruled world it wicked wild wind blew down doors let shattered windows sound drums people couldn't believe i'd become revolutionaries wait for head silver plate just puppet lonely string (mmm, mmm) oh, would ever want king? i hear jerusalem bells a-ringing roman cavalry choirs singing be mirror, sword shield my missionaries foreign field for reason, i can't explain i know saint peter won't call name never honest word but i ruled world (oh-oh-oh, oh-oh-woah) (oh-oh-oh, oh-oh-woah) (oh-oh-oh, oh-oh-woah) (oh-oh-oh, oh-oh-woah) (oh-oh-oh, oh-oh-woah) hear jerusalem bells a-ringing (oh-oh-oh, oh-oh-woah) roman cavalry choirs singing (oh-oh-oh, oh-oh-woah) be mirror, sword shield (oh-oh-oh, oh-oh-woah) my missionaries foreign field (oh-oh-oh, oh-oh-woah) for reason, i can't explain (oh-oh-oh, oh-oh-woah) i know saint peter won't call name never honest word but i ruled world mmm, mmm, mmm, mmm mmm, mmm, mmm, mmm mmm, mmm227embed",
            "count": 1
           },
           {
            "name": "and said drink me, drink (oh-ah-oh-ah) that we shoot across sky symphony that we shoot across sky pour a... drink me, drink (oh-ah-oh-ah) that we shoot across sky symphony (so high, so high) that we shoot across sky oh, angel sent up above you know make world light up when i down, i hurt you came lift up life drink love's drug oh now i think i must miles up when i river dried up you came rain flood you said drink me, drink when i so thirsty poured symphony now i just can't get enough put wings me, wings when i so heavy poured symphony when i'm low, low, low, low i, oh-i, oh-i got feeling drunk high, so high, so high oh-i, oh-i, oh-i now i’m feeling drunk high, so high, so high (woo) (woo-ooo-ooo-woo) oh, angel sent up above i feel coursing through blood life drink love's about to make stars come out put wings me, wings when i so heavy poured symphony when i'm low, low, low, low i, oh-i, oh-i got feeling drunk high, so high, so high oh-i, oh-i, oh-i i’m feeling drunk high, so high, so high i, oh-i, oh-i la, la, la, la, la, la, la, so high, so high i, oh-i, oh-i now i'm feeling drunk high, so high, so high that i shoot across sky that i shoot across the... that i shoot across sky let shoot across the... (let shoot) let shoot across sky let shoot across the... let shoot across sky that we shoot across the...64embed",
            "count": 1
           },
           {
            "name": "3 others",
            "count": 3
           }
          ]
         }
        },
        {
         "name": "tokens",
         "dtype": "object",
         "stats": {
          "unique_count": 5,
          "nan_count": 0,
          "categories": [
           {
            "name": "['used', 'rule', 'world', 'seas', 'would', 'rise', 'gave', 'word', 'now', 'morning', 'sleep', 'alone', 'sweep', 'streets', 'used', 'own', 'used', 'roll', 'dice', 'feel', 'fear', 'enemy', 'eyes', 'listened', 'crowd', 'would', 'sing', 'now', 'old', 'king', 'dead', 'long', 'live', 'king', 'one', 'minute', 'held', 'key', 'next', 'walls', 'were', 'closed', 'and', 'discovered', 'castles', 'stand', 'upon', 'pillars', 'salt', 'pillars', 'sand', 'hear', 'jerusalem', 'bells', 'ringing', 'roman', 'cavalry', 'choirs', 'singing', 'be', 'mirror', 'sword', 'shield', 'my', 'missionaries', 'foreign', 'field', 'for', 'reason', 'can', 'explain', 'once', 'you', 'gone', 'never', 'never', 'honest', 'word', 'and', 'ruled', 'world', 'it', 'wicked', 'wild', 'wind', 'blew', 'down', 'doors', 'let', 'shattered', 'windows', 'sound', 'drums', 'people', 'couldn', 'believe', 'become', 'revolutionaries', 'wait', 'for', 'head', 'silver', 'plate', 'just', 'puppet', 'lonely', 'string', 'mmm', 'mmm', 'oh', 'would', 'ever', 'want', 'king', 'hear', 'jerusalem', 'bells', 'ringing', 'roman', 'cavalry', 'choirs', 'singing', 'be', 'mirror', 'sword', 'shield', 'my', 'missionaries', 'foreign', 'field', 'for', 'reason', 'can', 'explain', 'know', 'saint', 'peter', 'won', 'call', 'name', 'never', 'honest', 'word', 'but', 'ruled', 'world', 'oh', 'oh', 'oh', 'oh', 'oh', 'woah', 'oh', 'oh', 'oh', 'oh', 'oh', 'woah', 'oh', 'oh', 'oh', 'oh', 'oh', 'woah', 'oh', 'oh', 'oh', 'oh', 'oh', 'woah', 'oh', 'oh', 'oh', 'oh', 'oh', 'woah', 'hear', 'jerusalem', 'bells', 'ringing', 'oh', 'oh', 'oh', 'oh', 'oh', 'woah', 'roman', 'cavalry', 'choirs', 'singing', 'oh', 'oh', 'oh', 'oh', 'oh', 'woah', 'be', 'mirror', 'sword', 'shield', 'oh', 'oh', 'oh', 'oh', 'oh', 'woah', 'my', 'missionaries', 'foreign', 'field', 'oh', 'oh', 'oh', 'oh', 'oh', 'woah', 'for', 'reason', 'can', 'explain', 'oh', 'oh', 'oh', 'oh', 'oh', 'woah', 'know', 'saint', 'peter', 'won', 'call', 'name', 'never', 'honest', 'word', 'but', 'ruled', 'world', 'mmm', 'mmm', 'mmm', 'mmm', 'mmm', 'mmm', 'mmm', 'mmm', 'mmm', 'mmm227embed']",
            "count": 1
           },
           {
            "name": "['and', 'said', 'drink', 'me', 'drink', 'oh', 'ah', 'oh', 'ah', 'that', 'we', 'shoot', 'across', 'sky', 'symphony', 'that', 'we', 'shoot', 'across', 'sky', 'pour', 'drink', 'me', 'drink', 'oh', 'ah', 'oh', 'ah', 'that', 'we', 'shoot', 'across', 'sky', 'symphony', 'so', 'high', 'so', 'high', 'that', 'we', 'shoot', 'across', 'sky', 'oh', 'angel', 'sent', 'up', 'above', 'you', 'know', 'make', 'world', 'light', 'up', 'when', 'down', 'hurt', 'you', 'came', 'lift', 'up', 'life', 'drink', 'love', 'drug', 'oh', 'now', 'think', 'must', 'miles', 'up', 'when', 'river', 'dried', 'up', 'you', 'came', 'rain', 'flood', 'you', 'said', 'drink', 'me', 'drink', 'when', 'so', 'thirsty', 'poured', 'symphony', 'now', 'just', 'can', 'get', 'enough', 'put', 'wings', 'me', 'wings', 'when', 'so', 'heavy', 'poured', 'symphony', 'when', 'low', 'low', 'low', 'low', 'oh', 'oh', 'got', 'feeling', 'drunk', 'high', 'so', 'high', 'so', 'high', 'oh', 'oh', 'oh', 'now', 'feeling', 'drunk', 'high', 'so', 'high', 'so', 'high', 'woo', 'woo', 'ooo', 'ooo', 'woo', 'oh', 'angel', 'sent', 'up', 'above', 'feel', 'coursing', 'through', 'blood', 'life', 'drink', 'love', 'about', 'to', 'make', 'stars', 'come', 'out', 'put', 'wings', 'me', 'wings', 'when', 'so', 'heavy', 'poured', 'symphony', 'when', 'low', 'low', 'low', 'low', 'oh', 'oh', 'got', 'feeling', 'drunk', 'high', 'so', 'high', 'so', 'high', 'oh', 'oh', 'oh', 'feeling', 'drunk', 'high', 'so', 'high', 'so', 'high', 'oh', 'oh', 'la', 'la', 'la', 'la', 'la', 'la', 'la', 'so', 'high', 'so', 'high', 'oh', 'oh', 'now', 'feeling', 'drunk', 'high', 'so', 'high', 'so', 'high', 'that', 'shoot', 'across', 'sky', 'that', 'shoot', 'across', 'the', 'that', 'shoot', 'across', 'sky', 'let', 'shoot', 'across', 'the', 'let', 'shoot', 'let', 'shoot', 'across', 'sky', 'let', 'shoot', 'across', 'the', 'let', 'shoot', 'across', 'sky', 'that', 'we', 'shoot', 'across', 'the', '64embed']",
            "count": 1
           },
           {
            "name": "3 others",
            "count": 3
           }
          ]
         }
        },
        {
         "name": "sp_id",
         "dtype": "object",
         "stats": {
          "unique_count": 5,
          "nan_count": 0,
          "categories": [
           {
            "name": "1mea3bSkSGXuIRvnydlB5b",
            "count": 1
           },
           {
            "name": "3RiPr603aXAoi4GHyXx0uy",
            "count": 1
           },
           {
            "name": "3 others",
            "count": 3
           }
          ]
         }
        },
        {
         "name": "danceability",
         "dtype": "float64",
         "stats": {
          "unique_count": 5,
          "nan_count": 0,
          "min": "0.209",
          "max": "0.557",
          "histogram": [
           {
            "bin_start": 0.209,
            "bin_end": 0.24380000000000002,
            "count": 1
           },
           {
            "bin_start": 0.24380000000000002,
            "bin_end": 0.2786,
            "count": 0
           },
           {
            "bin_start": 0.2786,
            "bin_end": 0.3134,
            "count": 0
           },
           {
            "bin_start": 0.3134,
            "bin_end": 0.34820000000000007,
            "count": 0
           },
           {
            "bin_start": 0.34820000000000007,
            "bin_end": 0.383,
            "count": 0
           },
           {
            "bin_start": 0.383,
            "bin_end": 0.41780000000000006,
            "count": 0
           },
           {
            "bin_start": 0.41780000000000006,
            "bin_end": 0.4526000000000001,
            "count": 1
           },
           {
            "bin_start": 0.4526000000000001,
            "bin_end": 0.48740000000000006,
            "count": 1
           },
           {
            "bin_start": 0.48740000000000006,
            "bin_end": 0.5222000000000001,
            "count": 1
           },
           {
            "bin_start": 0.5222000000000001,
            "bin_end": 0.557,
            "count": 1
           }
          ]
         }
        },
        {
         "name": "energy",
         "dtype": "float64",
         "stats": {
          "unique_count": 5,
          "nan_count": 0,
          "min": "0.417",
          "max": "0.693",
          "histogram": [
           {
            "bin_start": 0.417,
            "bin_end": 0.4446,
            "count": 2
           },
           {
            "bin_start": 0.4446,
            "bin_end": 0.47219999999999995,
            "count": 0
           },
           {
            "bin_start": 0.47219999999999995,
            "bin_end": 0.49979999999999997,
            "count": 0
           },
           {
            "bin_start": 0.49979999999999997,
            "bin_end": 0.5274,
            "count": 0
           },
           {
            "bin_start": 0.5274,
            "bin_end": 0.5549999999999999,
            "count": 0
           },
           {
            "bin_start": 0.5549999999999999,
            "bin_end": 0.5826,
            "count": 0
           },
           {
            "bin_start": 0.5826,
            "bin_end": 0.6102,
            "count": 0
           },
           {
            "bin_start": 0.6102,
            "bin_end": 0.6377999999999999,
            "count": 1
           },
           {
            "bin_start": 0.6377999999999999,
            "bin_end": 0.6654,
            "count": 1
           },
           {
            "bin_start": 0.6654,
            "bin_end": 0.693,
            "count": 1
           }
          ]
         }
        },
        {
         "name": "key",
         "dtype": "float64",
         "stats": {
          "unique_count": 4,
          "nan_count": 0,
          "min": "0.0",
          "max": "11.0",
          "histogram": [
           {
            "bin_start": 0,
            "bin_end": 1.1,
            "count": 1
           },
           {
            "bin_start": 1.1,
            "bin_end": 2.2,
            "count": 0
           },
           {
            "bin_start": 2.2,
            "bin_end": 3.3000000000000003,
            "count": 1
           },
           {
            "bin_start": 3.3000000000000003,
            "bin_end": 4.4,
            "count": 0
           },
           {
            "bin_start": 4.4,
            "bin_end": 5.5,
            "count": 2
           },
           {
            "bin_start": 5.5,
            "bin_end": 6.6000000000000005,
            "count": 0
           },
           {
            "bin_start": 6.6000000000000005,
            "bin_end": 7.700000000000001,
            "count": 0
           },
           {
            "bin_start": 7.700000000000001,
            "bin_end": 8.8,
            "count": 0
           },
           {
            "bin_start": 8.8,
            "bin_end": 9.9,
            "count": 0
           },
           {
            "bin_start": 9.9,
            "bin_end": 11,
            "count": 1
           }
          ]
         }
        },
        {
         "name": "loudness",
         "dtype": "float64",
         "stats": {
          "unique_count": 5,
          "nan_count": 0,
          "min": "-8.74",
          "max": "-6.487",
          "histogram": [
           {
            "bin_start": -8.74,
            "bin_end": -8.5147,
            "count": 1
           },
           {
            "bin_start": -8.5147,
            "bin_end": -8.2894,
            "count": 0
           },
           {
            "bin_start": -8.2894,
            "bin_end": -8.0641,
            "count": 0
           },
           {
            "bin_start": -8.0641,
            "bin_end": -7.8388,
            "count": 0
           },
           {
            "bin_start": -7.8388,
            "bin_end": -7.6135,
            "count": 0
           },
           {
            "bin_start": -7.6135,
            "bin_end": -7.3882,
            "count": 0
           },
           {
            "bin_start": -7.3882,
            "bin_end": -7.1629000000000005,
            "count": 2
           },
           {
            "bin_start": -7.1629000000000005,
            "bin_end": -6.9376,
            "count": 1
           },
           {
            "bin_start": -6.9376,
            "bin_end": -6.712300000000001,
            "count": 0
           },
           {
            "bin_start": -6.712300000000001,
            "bin_end": -6.487,
            "count": 1
           }
          ]
         }
        },
        {
         "name": "speechiness",
         "dtype": "float64",
         "stats": {
          "unique_count": 5,
          "nan_count": 0,
          "min": "0.0243",
          "max": "0.0377",
          "histogram": [
           {
            "bin_start": 0.0243,
            "bin_end": 0.02564,
            "count": 1
           },
           {
            "bin_start": 0.02564,
            "bin_end": 0.026979999999999997,
            "count": 0
           },
           {
            "bin_start": 0.026979999999999997,
            "bin_end": 0.028319999999999998,
            "count": 1
           },
           {
            "bin_start": 0.028319999999999998,
            "bin_end": 0.02966,
            "count": 1
           },
           {
            "bin_start": 0.02966,
            "bin_end": 0.031,
            "count": 0
           },
           {
            "bin_start": 0.031,
            "bin_end": 0.032339999999999994,
            "count": 0
           },
           {
            "bin_start": 0.032339999999999994,
            "bin_end": 0.03368,
            "count": 0
           },
           {
            "bin_start": 0.03368,
            "bin_end": 0.035019999999999996,
            "count": 1
           },
           {
            "bin_start": 0.035019999999999996,
            "bin_end": 0.036359999999999996,
            "count": 0
           },
           {
            "bin_start": 0.036359999999999996,
            "bin_end": 0.0377,
            "count": 1
           }
          ]
         }
        },
        {
         "name": "acousticness",
         "dtype": "float64",
         "stats": {
          "unique_count": 5,
          "nan_count": 0,
          "min": "0.00239",
          "max": "0.731",
          "histogram": [
           {
            "bin_start": 0.00239,
            "bin_end": 0.075251,
            "count": 1
           },
           {
            "bin_start": 0.075251,
            "bin_end": 0.148112,
            "count": 1
           },
           {
            "bin_start": 0.148112,
            "bin_end": 0.22097299999999997,
            "count": 2
           },
           {
            "bin_start": 0.22097299999999997,
            "bin_end": 0.293834,
            "count": 0
           },
           {
            "bin_start": 0.293834,
            "bin_end": 0.366695,
            "count": 0
           },
           {
            "bin_start": 0.366695,
            "bin_end": 0.43955599999999995,
            "count": 0
           },
           {
            "bin_start": 0.43955599999999995,
            "bin_end": 0.512417,
            "count": 0
           },
           {
            "bin_start": 0.512417,
            "bin_end": 0.585278,
            "count": 0
           },
           {
            "bin_start": 0.585278,
            "bin_end": 0.6581389999999999,
            "count": 0
           },
           {
            "bin_start": 0.6581389999999999,
            "bin_end": 0.731,
            "count": 1
           }
          ]
         }
        },
        {
         "name": "instrumentalness",
         "dtype": "float64",
         "stats": {
          "unique_count": 5,
          "nan_count": 0,
          "min": "3.23e-06",
          "max": "0.00196",
          "histogram": [
           {
            "bin_start": 0.00000323,
            "bin_end": 0.000198907,
            "count": 4
           },
           {
            "bin_start": 0.000198907,
            "bin_end": 0.000394584,
            "count": 0
           },
           {
            "bin_start": 0.000394584,
            "bin_end": 0.000590261,
            "count": 0
           },
           {
            "bin_start": 0.000590261,
            "bin_end": 0.000785938,
            "count": 0
           },
           {
            "bin_start": 0.000785938,
            "bin_end": 0.000981615,
            "count": 0
           },
           {
            "bin_start": 0.000981615,
            "bin_end": 0.001177292,
            "count": 0
           },
           {
            "bin_start": 0.001177292,
            "bin_end": 0.001372969,
            "count": 0
           },
           {
            "bin_start": 0.001372969,
            "bin_end": 0.001568646,
            "count": 0
           },
           {
            "bin_start": 0.001568646,
            "bin_end": 0.001764323,
            "count": 0
           },
           {
            "bin_start": 0.001764323,
            "bin_end": 0.00196,
            "count": 1
           }
          ]
         }
        },
        {
         "name": "liveness",
         "dtype": "float64",
         "stats": {
          "unique_count": 5,
          "nan_count": 0,
          "min": "0.109",
          "max": "0.325",
          "histogram": [
           {
            "bin_start": 0.109,
            "bin_end": 0.1306,
            "count": 3
           },
           {
            "bin_start": 0.1306,
            "bin_end": 0.1522,
            "count": 0
           },
           {
            "bin_start": 0.1522,
            "bin_end": 0.1738,
            "count": 0
           },
           {
            "bin_start": 0.1738,
            "bin_end": 0.19540000000000002,
            "count": 0
           },
           {
            "bin_start": 0.19540000000000002,
            "bin_end": 0.21700000000000003,
            "count": 0
           },
           {
            "bin_start": 0.21700000000000003,
            "bin_end": 0.23859999999999998,
            "count": 1
           },
           {
            "bin_start": 0.23859999999999998,
            "bin_end": 0.2602,
            "count": 0
           },
           {
            "bin_start": 0.2602,
            "bin_end": 0.2818,
            "count": 0
           },
           {
            "bin_start": 0.2818,
            "bin_end": 0.3034,
            "count": 0
           },
           {
            "bin_start": 0.3034,
            "bin_end": 0.325,
            "count": 1
           }
          ]
         }
        },
        {
         "name": "valence",
         "dtype": "float64",
         "stats": {
          "unique_count": 5,
          "nan_count": 0,
          "min": "0.124",
          "max": "0.417",
          "histogram": [
           {
            "bin_start": 0.124,
            "bin_end": 0.1533,
            "count": 1
           },
           {
            "bin_start": 0.1533,
            "bin_end": 0.18259999999999998,
            "count": 0
           },
           {
            "bin_start": 0.18259999999999998,
            "bin_end": 0.2119,
            "count": 0
           },
           {
            "bin_start": 0.2119,
            "bin_end": 0.2412,
            "count": 1
           },
           {
            "bin_start": 0.2412,
            "bin_end": 0.27049999999999996,
            "count": 0
           },
           {
            "bin_start": 0.27049999999999996,
            "bin_end": 0.2998,
            "count": 1
           },
           {
            "bin_start": 0.2998,
            "bin_end": 0.3291,
            "count": 0
           },
           {
            "bin_start": 0.3291,
            "bin_end": 0.3584,
            "count": 0
           },
           {
            "bin_start": 0.3584,
            "bin_end": 0.3877,
            "count": 0
           },
           {
            "bin_start": 0.3877,
            "bin_end": 0.417,
            "count": 2
           }
          ]
         }
        },
        {
         "name": "tempo",
         "dtype": "float64",
         "stats": {
          "unique_count": 5,
          "nan_count": 0,
          "min": "90.027",
          "max": "173.372",
          "histogram": [
           {
            "bin_start": 90.027,
            "bin_end": 98.3615,
            "count": 1
           },
           {
            "bin_start": 98.3615,
            "bin_end": 106.696,
            "count": 0
           },
           {
            "bin_start": 106.696,
            "bin_end": 115.0305,
            "count": 0
           },
           {
            "bin_start": 115.0305,
            "bin_end": 123.36500000000001,
            "count": 0
           },
           {
            "bin_start": 123.36500000000001,
            "bin_end": 131.6995,
            "count": 0
           },
           {
            "bin_start": 131.6995,
            "bin_end": 140.03400000000002,
            "count": 2
           },
           {
            "bin_start": 140.03400000000002,
            "bin_end": 148.3685,
            "count": 1
           },
           {
            "bin_start": 148.3685,
            "bin_end": 156.70300000000003,
            "count": 0
           },
           {
            "bin_start": 156.70300000000003,
            "bin_end": 165.03750000000002,
            "count": 0
           },
           {
            "bin_start": 165.03750000000002,
            "bin_end": 173.372,
            "count": 1
           }
          ]
         }
        },
        {
         "name": "_deepnote_index_column",
         "dtype": "int64"
        }
       ],
       "rows": [
        {
         "artist_mb": "Coldplay",
         "song_name": "Viva la Vida ",
         "id": 399,
         "lyrics_nostop": "i used rule world seas would rise i gave word now morning, i sleep alone sweep streets i used own i used roll dice feel fear enemy's eyes listened crowd would sing \"now old king dead, long live king\" one minute i held key next, walls were closed and i discovered castles stand upon pillars salt pillars sand i hear jerusalem bells a-ringing roman cavalry choirs singing be mirror, sword shield my missionaries foreign field for reason, i can't explain once you'd gone, never never honest word and i ruled world it wicked wild wind blew down doors let shattered windows sound drums people couldn't believe i'd become revolutionaries wait for head silver plate just puppet lonely string (mmm, mmm) oh, would ever want king? i hear jerusalem bells a-ringing roman cavalry choirs singing be mirror, sword shield my missionaries foreign field for reason, i can't explain i know saint peter won't call name never honest word but i ruled world (oh-oh-oh, oh-oh-woah) (oh-oh-oh, oh-oh-woah) (oh-oh-oh, oh-oh…",
         "tokens": "['used', 'rule', 'world', 'seas', 'would', 'rise', 'gave', 'word', 'now', 'morning', 'sleep', 'alone', 'sweep', 'streets', 'used', 'own', 'used', 'roll', 'dice', 'feel', 'fear', 'enemy', 'eyes', 'listened', 'crowd', 'would', 'sing', 'now', 'old', 'king', 'dead', 'long', 'live', 'king', 'one', 'minute', 'held', 'key', 'next', 'walls', 'were', 'closed', 'and', 'discovered', 'castles', 'stand', 'upon', 'pillars', 'salt', 'pillars', 'sand', 'hear', 'jerusalem', 'bells', 'ringing', 'roman', 'cavalry', 'choirs', 'singing', 'be', 'mirror', 'sword', 'shield', 'my', 'missionaries', 'foreign', 'field', 'for', 'reason', 'can', 'explain', 'once', 'you', 'gone', 'never', 'never', 'honest', 'word', 'and', 'ruled', 'world', 'it', 'wicked', 'wild', 'wind', 'blew', 'down', 'doors', 'let', 'shattered', 'windows', 'sound', 'drums', 'people', 'couldn', 'believe', 'become', 'revolutionaries', 'wait', 'for', 'head', 'silver', 'plate', 'just', 'puppet', 'lonely', 'string', 'mmm', 'mmm', 'oh', 'would', 'ever…",
         "sp_id": "1mea3bSkSGXuIRvnydlB5b",
         "danceability": 0.486,
         "energy": 0.617,
         "key": 5,
         "loudness": -7.115,
         "speechiness": 0.0287,
         "acousticness": 0.0954,
         "instrumentalness": 0.00000323,
         "liveness": 0.109,
         "valence": 0.417,
         "tempo": 138.015,
         "_deepnote_index_column": 0
        },
        {
         "artist_mb": "Coldplay",
         "song_name": "Hymn for the Weekend ",
         "id": 787,
         "lyrics_nostop": "and said drink me, drink (oh-ah-oh-ah) that we shoot across sky symphony that we shoot across sky pour a... drink me, drink (oh-ah-oh-ah) that we shoot across sky symphony (so high, so high) that we shoot across sky oh, angel sent up above you know make world light up when i down, i hurt you came lift up life drink love's drug oh now i think i must miles up when i river dried up you came rain flood you said drink me, drink when i so thirsty poured symphony now i just can't get enough put wings me, wings when i so heavy poured symphony when i'm low, low, low, low i, oh-i, oh-i got feeling drunk high, so high, so high oh-i, oh-i, oh-i now i’m feeling drunk high, so high, so high (woo) (woo-ooo-ooo-woo) oh, angel sent up above i feel coursing through blood life drink love's about to make stars come out put wings me, wings when i so heavy poured symphony when i'm low, low, low, low i, oh-i, oh-i got feeling drunk high, so high, so high oh-i, oh-i, oh-i i’m feeling drunk high, so high, so …",
         "tokens": "['and', 'said', 'drink', 'me', 'drink', 'oh', 'ah', 'oh', 'ah', 'that', 'we', 'shoot', 'across', 'sky', 'symphony', 'that', 'we', 'shoot', 'across', 'sky', 'pour', 'drink', 'me', 'drink', 'oh', 'ah', 'oh', 'ah', 'that', 'we', 'shoot', 'across', 'sky', 'symphony', 'so', 'high', 'so', 'high', 'that', 'we', 'shoot', 'across', 'sky', 'oh', 'angel', 'sent', 'up', 'above', 'you', 'know', 'make', 'world', 'light', 'up', 'when', 'down', 'hurt', 'you', 'came', 'lift', 'up', 'life', 'drink', 'love', 'drug', 'oh', 'now', 'think', 'must', 'miles', 'up', 'when', 'river', 'dried', 'up', 'you', 'came', 'rain', 'flood', 'you', 'said', 'drink', 'me', 'drink', 'when', 'so', 'thirsty', 'poured', 'symphony', 'now', 'just', 'can', 'get', 'enough', 'put', 'wings', 'me', 'wings', 'when', 'so', 'heavy', 'poured', 'symphony', 'when', 'low', 'low', 'low', 'low', 'oh', 'oh', 'got', 'feeling', 'drunk', 'high', 'so', 'high', 'so', 'high', 'oh', 'oh', 'oh', 'now', 'feeling', 'drunk', 'high', 'so', 'high', 'so', 'h…",
         "sp_id": "3RiPr603aXAoi4GHyXx0uy",
         "danceability": 0.491,
         "energy": 0.693,
         "key": 0,
         "loudness": -6.487,
         "speechiness": 0.0377,
         "acousticness": 0.211,
         "instrumentalness": 0.00000692,
         "liveness": 0.325,
         "valence": 0.412,
         "tempo": 90.027,
         "_deepnote_index_column": 1
        },
        {
         "artist_mb": "Coldplay",
         "song_name": "The Scientist ",
         "id": 1075,
         "lyrics_nostop": "come up meet you, tell i'm sorry you don't know lovely i had find you, tell i need tell i set apart tell secrets, ask questions oh, let's go back start running circles, coming up tails heads science apart nobody said easy it's such shame part nobody said easy no one ever said would hard oh, take back start i just guessing numbers figures pulling puzzles apart questions science, science progress do not speak loud heart tell love me, come back haunt oh, i rush start running circles, chasing tails coming back we nobody said easy oh, it's such shame part nobody said easy no one ever said would so hard i'm going back start oh-ooh ooh-ooh-ooh-ooh ah-ooh ooh-ooh-ooh-ooh oh-ooh ooh-ooh-ooh-ooh oh-ooh ooh-ooh-ooh-ooh216embed",
         "tokens": "['come', 'up', 'meet', 'you', 'tell', 'sorry', 'you', 'don', 'know', 'lovely', 'had', 'find', 'you', 'tell', 'need', 'tell', 'set', 'apart', 'tell', 'secrets', 'ask', 'questions', 'oh', 'let', 'go', 'back', 'start', 'running', 'circles', 'coming', 'up', 'tails', 'heads', 'science', 'apart', 'nobody', 'said', 'easy', 'it', 'such', 'shame', 'part', 'nobody', 'said', 'easy', 'no', 'one', 'ever', 'said', 'would', 'hard', 'oh', 'take', 'back', 'start', 'just', 'guessing', 'numbers', 'figures', 'pulling', 'puzzles', 'apart', 'questions', 'science', 'science', 'progress', 'do', 'not', 'speak', 'loud', 'heart', 'tell', 'love', 'me', 'come', 'back', 'haunt', 'oh', 'rush', 'start', 'running', 'circles', 'chasing', 'tails', 'coming', 'back', 'we', 'nobody', 'said', 'easy', 'oh', 'it', 'such', 'shame', 'part', 'nobody', 'said', 'easy', 'no', 'one', 'ever', 'said', 'would', 'so', 'hard', 'going', 'back', 'start', 'oh', 'ooh', 'ooh', 'ooh', 'ooh', 'ooh', 'ah', 'ooh', 'ooh', 'ooh', 'ooh', 'ooh', 'oh…",
         "sp_id": "75JFxkI2RXiU7L9VXzMkle",
         "danceability": 0.557,
         "energy": 0.442,
         "key": 5,
         "loudness": -7.224,
         "speechiness": 0.0243,
         "acousticness": 0.731,
         "instrumentalness": 0.0000146,
         "liveness": 0.11,
         "valence": 0.213,
         "tempo": 146.277,
         "_deepnote_index_column": 2
        },
        {
         "artist_mb": "Coldplay",
         "song_name": "Yellow ",
         "id": 2120,
         "lyrics_nostop": "look stars, look shine and everything do yeah, were yellow i came along, i wrote song and things do and called \"yellow\" so then i took turn oh, thing done and yellow (aah) your skin, oh, yeah, skin bones (ooh) turn into something beautiful (aah) you know, know i love so you know i love so i swam across, i jumped across oh, thing do 'cause were yellow i drew line, i drew line oh, thing do and yellow (aah) your skin, oh, yeah, skin bones (ooh) turn into something beautiful (aah) and know, you, i'd bleed myself dry for you, i'd bleed myself dry it's true, look shine look shine look shine look shine look shine look shine look stars look shine and things do160embed",
         "tokens": "['look', 'stars', 'look', 'shine', 'and', 'everything', 'do', 'yeah', 'were', 'yellow', 'came', 'along', 'wrote', 'song', 'and', 'things', 'do', 'and', 'called', 'yellow', 'so', 'then', 'took', 'turn', 'oh', 'thing', 'done', 'and', 'yellow', 'aah', 'your', 'skin', 'oh', 'yeah', 'skin', 'bones', 'ooh', 'turn', 'into', 'something', 'beautiful', 'aah', 'you', 'know', 'know', 'love', 'so', 'you', 'know', 'love', 'so', 'swam', 'across', 'jumped', 'across', 'oh', 'thing', 'do', 'cause', 'were', 'yellow', 'drew', 'line', 'drew', 'line', 'oh', 'thing', 'do', 'and', 'yellow', 'aah', 'your', 'skin', 'oh', 'yeah', 'skin', 'bones', 'ooh', 'turn', 'into', 'something', 'beautiful', 'aah', 'and', 'know', 'you', 'bleed', 'myself', 'dry', 'for', 'you', 'bleed', 'myself', 'dry', 'it', 'true', 'look', 'shine', 'look', 'shine', 'look', 'shine', 'look', 'shine', 'look', 'shine', 'look', 'shine', 'look', 'stars', 'look', 'shine', 'and', 'things', 'do160embed']",
         "sp_id": "3AJwUDP919kvQ9QcozQPxg",
         "danceability": 0.429,
         "energy": 0.661,
         "key": 11,
         "loudness": -7.227,
         "speechiness": 0.0281,
         "acousticness": 0.00239,
         "instrumentalness": 0.000121,
         "liveness": 0.234,
         "valence": 0.285,
         "tempo": 173.372,
         "_deepnote_index_column": 3
        },
        {
         "artist_mb": "Coldplay",
         "song_name": "Fix You ",
         "id": 2169,
         "lyrics_nostop": "when try best, don't succeed when get want, not need when feel so tired, can't sleep stuck reverse and tears come streaming down face when lose something can't replace when love someone, goes waste could worse? lights guide home and ignite bones and i try fix and high up above down below when you're too love let go but if never try, you'll never know just you're worth lights guide home and ignite bones and i try fix tears stream down face when lose something cannot replace tears stream down face, i tears stream down face i promise i learn mistakes tears stream down face, i lights guide home and ignite bones and i try fix you147embed",
         "tokens": "['when', 'try', 'best', 'don', 'succeed', 'when', 'get', 'want', 'not', 'need', 'when', 'feel', 'so', 'tired', 'can', 'sleep', 'stuck', 'reverse', 'and', 'tears', 'come', 'streaming', 'down', 'face', 'when', 'lose', 'something', 'can', 'replace', 'when', 'love', 'someone', 'goes', 'waste', 'could', 'worse', 'lights', 'guide', 'home', 'and', 'ignite', 'bones', 'and', 'try', 'fix', 'and', 'high', 'up', 'above', 'down', 'below', 'when', 'you', 're', 'too', 'love', 'let', 'go', 'but', 'if', 'never', 'try', 'you', 'll', 'never', 'know', 'just', 'you', 're', 'worth', 'lights', 'guide', 'home', 'and', 'ignite', 'bones', 'and', 'try', 'fix', 'tears', 'stream', 'down', 'face', 'when', 'lose', 'something', 'cannot', 'replace', 'tears', 'stream', 'down', 'face', 'tears', 'stream', 'down', 'face', 'promise', 'learn', 'mistakes', 'tears', 'stream', 'down', 'face', 'lights', 'guide', 'home', 'and', 'ignite', 'bones', 'and', 'try', 'fix', 'you147embed']",
         "sp_id": "7LVHVU3tWfcxj5aiPFEW4Q",
         "danceability": 0.209,
         "energy": 0.417,
         "key": 3,
         "loudness": -8.74,
         "speechiness": 0.0338,
         "acousticness": 0.164,
         "instrumentalness": 0.00196,
         "liveness": 0.113,
         "valence": 0.124,
         "tempo": 138.178,
         "_deepnote_index_column": 4
        }
       ]
      },
      "text/plain": "  artist_mb              song_name    id  \\\n0  Coldplay          Viva la Vida    399   \n1  Coldplay  Hymn for the Weekend    787   \n2  Coldplay         The Scientist   1075   \n3  Coldplay                Yellow   2120   \n4  Coldplay               Fix You   2169   \n\n                                       lyrics_nostop  \\\n0  i used rule world seas would rise i gave word ...   \n1  and said drink me, drink (oh-ah-oh-ah) that we...   \n2  come up meet you, tell i'm sorry you don't kno...   \n3  look stars, look shine and everything do yeah,...   \n4  when try best, don't succeed when get want, no...   \n\n                                              tokens                   sp_id  \\\n0  ['used', 'rule', 'world', 'seas', 'would', 'ri...  1mea3bSkSGXuIRvnydlB5b   \n1  ['and', 'said', 'drink', 'me', 'drink', 'oh', ...  3RiPr603aXAoi4GHyXx0uy   \n2  ['come', 'up', 'meet', 'you', 'tell', 'sorry',...  75JFxkI2RXiU7L9VXzMkle   \n3  ['look', 'stars', 'look', 'shine', 'and', 'eve...  3AJwUDP919kvQ9QcozQPxg   \n4  ['when', 'try', 'best', 'don', 'succeed', 'whe...  7LVHVU3tWfcxj5aiPFEW4Q   \n\n   danceability  energy   key  loudness  speechiness  acousticness  \\\n0         0.486   0.617   5.0    -7.115       0.0287       0.09540   \n1         0.491   0.693   0.0    -6.487       0.0377       0.21100   \n2         0.557   0.442   5.0    -7.224       0.0243       0.73100   \n3         0.429   0.661  11.0    -7.227       0.0281       0.00239   \n4         0.209   0.417   3.0    -8.740       0.0338       0.16400   \n\n   instrumentalness  liveness  valence    tempo  \n0          0.000003     0.109    0.417  138.015  \n1          0.000007     0.325    0.412   90.027  \n2          0.000015     0.110    0.213  146.277  \n3          0.000121     0.234    0.285  173.372  \n4          0.001960     0.113    0.124  138.178  ",
      "text/html": "<div>\n<style scoped>\n    .dataframe tbody tr th:only-of-type {\n        vertical-align: middle;\n    }\n\n    .dataframe tbody tr th {\n        vertical-align: top;\n    }\n\n    .dataframe thead th {\n        text-align: right;\n    }\n</style>\n<table border=\"1\" class=\"dataframe\">\n  <thead>\n    <tr style=\"text-align: right;\">\n      <th></th>\n      <th>artist_mb</th>\n      <th>song_name</th>\n      <th>id</th>\n      <th>lyrics_nostop</th>\n      <th>tokens</th>\n      <th>sp_id</th>\n      <th>danceability</th>\n      <th>energy</th>\n      <th>key</th>\n      <th>loudness</th>\n      <th>speechiness</th>\n      <th>acousticness</th>\n      <th>instrumentalness</th>\n      <th>liveness</th>\n      <th>valence</th>\n      <th>tempo</th>\n    </tr>\n  </thead>\n  <tbody>\n    <tr>\n      <th>0</th>\n      <td>Coldplay</td>\n      <td>Viva la Vida</td>\n      <td>399</td>\n      <td>i used rule world seas would rise i gave word ...</td>\n      <td>['used', 'rule', 'world', 'seas', 'would', 'ri...</td>\n      <td>1mea3bSkSGXuIRvnydlB5b</td>\n      <td>0.486</td>\n      <td>0.617</td>\n      <td>5.0</td>\n      <td>-7.115</td>\n      <td>0.0287</td>\n      <td>0.09540</td>\n      <td>0.000003</td>\n      <td>0.109</td>\n      <td>0.417</td>\n      <td>138.015</td>\n    </tr>\n    <tr>\n      <th>1</th>\n      <td>Coldplay</td>\n      <td>Hymn for the Weekend</td>\n      <td>787</td>\n      <td>and said drink me, drink (oh-ah-oh-ah) that we...</td>\n      <td>['and', 'said', 'drink', 'me', 'drink', 'oh', ...</td>\n      <td>3RiPr603aXAoi4GHyXx0uy</td>\n      <td>0.491</td>\n      <td>0.693</td>\n      <td>0.0</td>\n      <td>-6.487</td>\n      <td>0.0377</td>\n      <td>0.21100</td>\n      <td>0.000007</td>\n      <td>0.325</td>\n      <td>0.412</td>\n      <td>90.027</td>\n    </tr>\n    <tr>\n      <th>2</th>\n      <td>Coldplay</td>\n      <td>The Scientist</td>\n      <td>1075</td>\n      <td>come up meet you, tell i'm sorry you don't kno...</td>\n      <td>['come', 'up', 'meet', 'you', 'tell', 'sorry',...</td>\n      <td>75JFxkI2RXiU7L9VXzMkle</td>\n      <td>0.557</td>\n      <td>0.442</td>\n      <td>5.0</td>\n      <td>-7.224</td>\n      <td>0.0243</td>\n      <td>0.73100</td>\n      <td>0.000015</td>\n      <td>0.110</td>\n      <td>0.213</td>\n      <td>146.277</td>\n    </tr>\n    <tr>\n      <th>3</th>\n      <td>Coldplay</td>\n      <td>Yellow</td>\n      <td>2120</td>\n      <td>look stars, look shine and everything do yeah,...</td>\n      <td>['look', 'stars', 'look', 'shine', 'and', 'eve...</td>\n      <td>3AJwUDP919kvQ9QcozQPxg</td>\n      <td>0.429</td>\n      <td>0.661</td>\n      <td>11.0</td>\n      <td>-7.227</td>\n      <td>0.0281</td>\n      <td>0.00239</td>\n      <td>0.000121</td>\n      <td>0.234</td>\n      <td>0.285</td>\n      <td>173.372</td>\n    </tr>\n    <tr>\n      <th>4</th>\n      <td>Coldplay</td>\n      <td>Fix You</td>\n      <td>2169</td>\n      <td>when try best, don't succeed when get want, no...</td>\n      <td>['when', 'try', 'best', 'don', 'succeed', 'whe...</td>\n      <td>7LVHVU3tWfcxj5aiPFEW4Q</td>\n      <td>0.209</td>\n      <td>0.417</td>\n      <td>3.0</td>\n      <td>-8.740</td>\n      <td>0.0338</td>\n      <td>0.16400</td>\n      <td>0.001960</td>\n      <td>0.113</td>\n      <td>0.124</td>\n      <td>138.178</td>\n    </tr>\n  </tbody>\n</table>\n</div>"
     },
     "metadata": {}
    }
   ],
   "execution_count": 30
  },
  {
   "cell_type": "code",
   "source": "track_info.isna().sum()",
   "metadata": {
    "cell_id": "61e3124817eb43ef885494c0761d4daa",
    "tags": [],
    "deepnote_to_be_reexecuted": false,
    "source_hash": "c958ccd6",
    "execution_start": 1655759459296,
    "execution_millis": 2,
    "deepnote_cell_type": "code",
    "deepnote_cell_height": 425.1875,
    "deepnote_output_heights": [
     328.1875
    ]
   },
   "outputs": [
    {
     "output_type": "execute_result",
     "execution_count": 31,
     "data": {
      "text/plain": "artist_mb           0\nsong_name           0\nid                  0\nlyrics_nostop       0\ntokens              0\nsp_id               0\ndanceability        0\nenergy              0\nkey                 0\nloudness            0\nspeechiness         0\nacousticness        0\ninstrumentalness    0\nliveness            0\nvalence             0\ntempo               0\ndtype: int64"
     },
     "metadata": {}
    }
   ],
   "execution_count": 31
  },
  {
   "cell_type": "markdown",
   "source": "Now we have a lot of information on the song to work with!",
   "metadata": {
    "cell_id": "3631e4cf0c4d4eb7834d24a1af5eff07",
    "tags": [],
    "is_collapsed": false,
    "formattedRanges": [],
    "deepnote_cell_type": "text-cell-p"
   }
  },
  {
   "cell_type": "markdown",
   "source": "## Find songs based on audio features",
   "metadata": {
    "cell_id": "6d124e0bd8e24e45ad5738e3d075fd6b",
    "tags": [],
    "is_collapsed": false,
    "formattedRanges": [],
    "deepnote_cell_type": "text-cell-h2"
   }
  },
  {
   "cell_type": "code",
   "source": "",
   "metadata": {
    "cell_id": "32b3b49e652c4e3a8878a51a32e0b9f8",
    "tags": [],
    "deepnote_to_be_reexecuted": false,
    "source_hash": "b623e53d",
    "execution_start": 1655759459339,
    "execution_millis": 0,
    "deepnote_cell_type": "code",
    "deepnote_cell_height": 81
   },
   "outputs": [],
   "execution_count": 31
  },
  {
   "cell_type": "markdown",
   "source": "<a style='text-decoration:none;line-height:16px;display:flex;color:#5B5B62;padding:10px;justify-content:end;' href='https://deepnote.com?utm_source=created-in-deepnote-cell&projectId=020269be-b327-479a-994d-3e58f34cfdc4' target=\"_blank\">\n<img alt='Created in deepnote.com' style='display:inline;max-height:16px;margin:0px;margin-right:7.5px;' src='data:image/svg+xml;base64,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' > </img>\nCreated in <span style='font-weight:600;margin-left:4px;'>Deepnote</span></a>",
   "metadata": {
    "tags": [],
    "created_in_deepnote_cell": true,
    "deepnote_cell_type": "markdown"
   }
  }
 ],
 "nbformat": 4,
 "nbformat_minor": 2,
 "metadata": {
  "orig_nbformat": 2,
  "deepnote": {
   "is_reactive": false
  },
  "deepnote_notebook_id": "50c68a69-c321-4e24-b142-cdaa47048c60",
  "deepnote_execution_queue": []
 }
}