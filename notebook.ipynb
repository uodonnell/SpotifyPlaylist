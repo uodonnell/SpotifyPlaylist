{
 "cells": [
  {
   "cell_type": "markdown",
   "source": "## Spotify Playlist Generator",
   "metadata": {
    "formattedRanges": [],
    "cell_id": "f1ed3df4388a4308a6bcbc6198e3b868",
    "tags": [],
    "is_collapsed": false,
    "deepnote_cell_type": "text-cell-h2"
   }
  },
  {
   "cell_type": "markdown",
   "source": "Import/download necessary libraries",
   "metadata": {
    "formattedRanges": [],
    "cell_id": "0c1d907afe3f4bf4806397dbb07984d8",
    "tags": [],
    "is_collapsed": false,
    "deepnote_cell_type": "text-cell-p"
   }
  },
  {
   "cell_type": "code",
   "metadata": {
    "cell_id": "a0cbdbdf90634ecf8e09700bdbfd7677",
    "tags": [],
    "deepnote_to_be_reexecuted": false,
    "source_hash": "2f59421c",
    "execution_start": 1655671944455,
    "execution_millis": 6770,
    "deepnote_cell_type": "code",
    "deepnote_cell_height": 701
   },
   "source": "pip install -r requirements.txt",
   "execution_count": 1,
   "outputs": [
    {
     "name": "stdout",
     "text": "Requirement already satisfied: pandas in /shared-libs/python3.7/py/lib/python3.7/site-packages (from -r requirements.txt (line 1)) (1.2.5)\nRequirement already satisfied: matplotlib in /shared-libs/python3.7/py/lib/python3.7/site-packages (from -r requirements.txt (line 2)) (3.5.2)\nRequirement already satisfied: bs4 in /usr/local/lib/python3.7/site-packages (from -r requirements.txt (line 3)) (0.0.1)\nRequirement already satisfied: requests in /shared-libs/python3.7/py/lib/python3.7/site-packages (from -r requirements.txt (line 4)) (2.27.1)\nRequirement already satisfied: spotipy in /usr/local/lib/python3.7/site-packages (from -r requirements.txt (line 5)) (2.20.0)\nRequirement already satisfied: lyricsgenius in /usr/local/lib/python3.7/site-packages (from -r requirements.txt (line 6)) (3.0.1)\nRequirement already satisfied: pathlib in /usr/local/lib/python3.7/site-packages (from -r requirements.txt (line 7)) (1.0.1)\nRequirement already satisfied: nltk in /shared-libs/python3.7/py/lib/python3.7/site-packages (from -r requirements.txt (line 8)) (3.7)\nRequirement already satisfied: numpy>=1.16.5 in /shared-libs/python3.7/py/lib/python3.7/site-packages (from pandas->-r requirements.txt (line 1)) (1.21.6)\nRequirement already satisfied: python-dateutil>=2.7.3 in /shared-libs/python3.7/py-core/lib/python3.7/site-packages (from pandas->-r requirements.txt (line 1)) (2.8.2)\nRequirement already satisfied: pytz>=2017.3 in /shared-libs/python3.7/py/lib/python3.7/site-packages (from pandas->-r requirements.txt (line 1)) (2022.1)\nRequirement already satisfied: kiwisolver>=1.0.1 in /shared-libs/python3.7/py/lib/python3.7/site-packages (from matplotlib->-r requirements.txt (line 2)) (1.4.2)\nRequirement already satisfied: pyparsing>=2.2.1 in /shared-libs/python3.7/py/lib/python3.7/site-packages (from matplotlib->-r requirements.txt (line 2)) (3.0.9)\nRequirement already satisfied: cycler>=0.10 in /shared-libs/python3.7/py/lib/python3.7/site-packages (from matplotlib->-r requirements.txt (line 2)) (0.11.0)\nRequirement already satisfied: packaging>=20.0 in /shared-libs/python3.7/py/lib/python3.7/site-packages (from matplotlib->-r requirements.txt (line 2)) (21.3)\nRequirement already satisfied: pillow>=6.2.0 in /shared-libs/python3.7/py/lib/python3.7/site-packages (from matplotlib->-r requirements.txt (line 2)) (9.1.1)\nRequirement already satisfied: fonttools>=4.22.0 in /shared-libs/python3.7/py/lib/python3.7/site-packages (from matplotlib->-r requirements.txt (line 2)) (4.33.3)\nRequirement already satisfied: beautifulsoup4 in /usr/local/lib/python3.7/site-packages (from bs4->-r requirements.txt (line 3)) (4.11.1)\nRequirement already satisfied: idna<4,>=2.5 in /shared-libs/python3.7/py-core/lib/python3.7/site-packages (from requests->-r requirements.txt (line 4)) (3.3)\nRequirement already satisfied: certifi>=2017.4.17 in /shared-libs/python3.7/py/lib/python3.7/site-packages (from requests->-r requirements.txt (line 4)) (2022.5.18.1)\nRequirement already satisfied: charset-normalizer~=2.0.0 in /shared-libs/python3.7/py-core/lib/python3.7/site-packages (from requests->-r requirements.txt (line 4)) (2.0.12)\nRequirement already satisfied: urllib3<1.27,>=1.21.1 in /shared-libs/python3.7/py/lib/python3.7/site-packages (from requests->-r requirements.txt (line 4)) (1.26.9)\nRequirement already satisfied: six>=1.15.0 in /shared-libs/python3.7/py-core/lib/python3.7/site-packages (from spotipy->-r requirements.txt (line 5)) (1.16.0)\nRequirement already satisfied: redis>=3.5.3 in /usr/local/lib/python3.7/site-packages (from spotipy->-r requirements.txt (line 5)) (4.3.3)\nRequirement already satisfied: joblib in /shared-libs/python3.7/py/lib/python3.7/site-packages (from nltk->-r requirements.txt (line 8)) (1.1.0)\nRequirement already satisfied: click in /shared-libs/python3.7/py/lib/python3.7/site-packages (from nltk->-r requirements.txt (line 8)) (8.1.3)\nRequirement already satisfied: regex>=2021.8.3 in /shared-libs/python3.7/py/lib/python3.7/site-packages (from nltk->-r requirements.txt (line 8)) (2022.6.2)\nRequirement already satisfied: tqdm in /shared-libs/python3.7/py/lib/python3.7/site-packages (from nltk->-r requirements.txt (line 8)) (4.64.0)\nRequirement already satisfied: soupsieve>1.2 in /usr/local/lib/python3.7/site-packages (from beautifulsoup4->bs4->-r requirements.txt (line 3)) (2.3.2.post1)\nRequirement already satisfied: typing-extensions in /shared-libs/python3.7/py-core/lib/python3.7/site-packages (from kiwisolver>=1.0.1->matplotlib->-r requirements.txt (line 2)) (4.2.0)\nRequirement already satisfied: importlib-metadata>=1.0 in /shared-libs/python3.7/py-core/lib/python3.7/site-packages (from redis>=3.5.3->spotipy->-r requirements.txt (line 5)) (4.11.4)\nRequirement already satisfied: async-timeout>=4.0.2 in /shared-libs/python3.7/py-core/lib/python3.7/site-packages (from redis>=3.5.3->spotipy->-r requirements.txt (line 5)) (4.0.2)\nRequirement already satisfied: deprecated>=1.2.3 in /usr/local/lib/python3.7/site-packages (from redis>=3.5.3->spotipy->-r requirements.txt (line 5)) (1.2.13)\nRequirement already satisfied: wrapt<2,>=1.10 in /shared-libs/python3.7/py/lib/python3.7/site-packages (from deprecated>=1.2.3->redis>=3.5.3->spotipy->-r requirements.txt (line 5)) (1.14.1)\nRequirement already satisfied: zipp>=0.5 in /shared-libs/python3.7/py-core/lib/python3.7/site-packages (from importlib-metadata>=1.0->redis>=3.5.3->spotipy->-r requirements.txt (line 5)) (3.8.0)\n\u001b[33mWARNING: Running pip as the 'root' user can result in broken permissions and conflicting behaviour with the system package manager. It is recommended to use a virtual environment instead: https://pip.pypa.io/warnings/venv\u001b[0m\u001b[33m\n\u001b[0m\u001b[33mWARNING: You are using pip version 22.0.4; however, version 22.1.2 is available.\nYou should consider upgrading via the '/usr/local/bin/python -m pip install --upgrade pip' command.\u001b[0m\u001b[33m\n\u001b[0mNote: you may need to restart the kernel to use updated packages.\n",
     "output_type": "stream"
    }
   ]
  },
  {
   "cell_type": "code",
   "metadata": {
    "cell_id": "86f2b86c7c544016990a4db3f1aea3c4",
    "tags": [],
    "deepnote_to_be_reexecuted": false,
    "source_hash": "dd8d3a61",
    "execution_start": 1655671951265,
    "execution_millis": 294,
    "deepnote_cell_type": "code",
    "deepnote_cell_height": 189,
    "deepnote_output_heights": [
     611
    ]
   },
   "source": "import pandas as pd\nimport spotipy\nfrom spotipy.oauth2 import SpotifyClientCredentials\nfrom bs4 import BeautifulSoup\nimport requests\nimport sys\nimport os",
   "execution_count": 2,
   "outputs": []
  },
  {
   "cell_type": "markdown",
   "source": "## Generate data frame to use",
   "metadata": {
    "formattedRanges": [],
    "cell_id": "eb6e6dd14d534ef99fd5678f9534f05d",
    "tags": [],
    "is_collapsed": false,
    "deepnote_cell_type": "text-cell-h2"
   }
  },
  {
   "cell_type": "markdown",
   "source": "The data is in a folder named \"lyrics/\" where there are about 5 songs from the top 500 artists ( you can view the collection process in 'lyric_collector.py'. The name of each file is the artist name, followed by a number, ranging from 1-5 corresponding to their 1st to 5th most popular songs. Each file contains both the song title on the first line, then the song lyrics on the remaining lines.",
   "metadata": {
    "formattedRanges": [],
    "cell_id": "e64ac21c845d44e59aa2d99f8817c56b",
    "tags": [],
    "is_collapsed": false,
    "deepnote_cell_type": "text-cell-p"
   }
  },
  {
   "cell_type": "markdown",
   "source": "The goal is to extract this information into a data frame with columns corresponding to artist name, song name, and lyrics.",
   "metadata": {
    "formattedRanges": [],
    "cell_id": "a2b4ec076344408d89556f406a394406",
    "tags": [],
    "is_collapsed": false,
    "deepnote_cell_type": "text-cell-p"
   }
  },
  {
   "cell_type": "code",
   "metadata": {
    "cell_id": "5c02da3c0bf2431ca501a719c8d50d02",
    "tags": [],
    "deepnote_to_be_reexecuted": false,
    "source_hash": "1f21d38",
    "execution_start": 1655671951571,
    "execution_millis": 8,
    "deepnote_cell_type": "code",
    "deepnote_cell_height": 351
   },
   "source": "def extract_info(text, doc_name, details):\n    # The format for Happy by Pharrell for example would be :\n    # Happy Lyrics\n    # {Song Lyrics}\n    # Hence, we plit on 'Lyrics'\n    try:\n        song_name, lyrics = text.split('Lyrics', maxsplit= 1)\n        #print(song_name)\n    except Exception as e:\n        #print(e)\n        print(f\"{doc_name} has no lyrics or had an error\")\n        return\n    artist, _ = doc_name.rsplit('_', maxsplit = 1)\n    details[\"artist\"].append(artist)\n    details[\"song_name\"].append(song_name)\n    details[\"lyrics\"].append(lyrics)",
   "execution_count": 3,
   "outputs": []
  },
  {
   "cell_type": "code",
   "metadata": {
    "cell_id": "61aa07fe0de942a4939aee70b76c4312",
    "tags": [],
    "deepnote_to_be_reexecuted": false,
    "source_hash": "59d6297f",
    "execution_start": 1655671951588,
    "execution_millis": 9,
    "deepnote_cell_type": "code",
    "deepnote_cell_height": 333
   },
   "source": "def read_docs(input_dir):\n    details = {\n        \"artist\": [],\n        \"song_name\": [],\n        \"lyrics\": []\n    }\n    docs = os.listdir(input_dir)\n    for doc in docs:\n        #print(f\"{input_dir}{doc}\")\n        with open(f\"{input_dir}/{doc}\") as f:\n            doc_text = f.read()\n            extract_info(doc_text, doc, details)\n    df = pd.DataFrame(details)\n    return df\n",
   "execution_count": 4,
   "outputs": []
  },
  {
   "cell_type": "code",
   "metadata": {
    "cell_id": "33996d94fbf94073ba91122d20447632",
    "tags": [],
    "deepnote_to_be_reexecuted": false,
    "source_hash": "b0bd2414",
    "execution_start": 1655673667652,
    "execution_millis": 132,
    "deepnote_cell_type": "code",
    "deepnote_cell_height": 81
   },
   "source": "df = read_docs('lyrics/')",
   "execution_count": 33,
   "outputs": []
  },
  {
   "cell_type": "code",
   "metadata": {
    "cell_id": "3bce4b4c848a44699fbfdc66d7e2edb8",
    "tags": [],
    "deepnote_to_be_reexecuted": false,
    "source_hash": "783f8567",
    "execution_start": 1655673669295,
    "execution_millis": 48,
    "deepnote_cell_type": "code",
    "deepnote_cell_height": 413
   },
   "source": "df[\"id\"] = df.index\ndf.head()",
   "execution_count": 34,
   "outputs": [
    {
     "output_type": "execute_result",
     "execution_count": 34,
     "data": {
      "application/vnd.deepnote.dataframe.v3+json": {
       "column_count": 4,
       "row_count": 5,
       "columns": [
        {
         "name": "artist",
         "dtype": "object",
         "stats": {
          "unique_count": 5,
          "nan_count": 0,
          "categories": [
           {
            "name": "MGMT",
            "count": 1
           },
           {
            "name": "AFI",
            "count": 1
           },
           {
            "name": "3 others",
            "count": 3
           }
          ]
         }
        },
        {
         "name": "song_name",
         "dtype": "object",
         "stats": {
          "unique_count": 5,
          "nan_count": 0,
          "categories": [
           {
            "name": "Electric Feel ",
            "count": 1
           },
           {
            "name": "The Days of the Phoenix ",
            "count": 1
           },
           {
            "name": "3 others",
            "count": 3
           }
          ]
         }
        },
        {
         "name": "lyrics",
         "dtype": "object",
         "stats": {
          "unique_count": 5,
          "nan_count": 0,
          "categories": [
           {
            "name": "\nAll along the Western front\nPeople line up to receive\nShe got the power in her hand\nTo shock you like you won't believe\nSaw her in the Amazon\nWith the voltage running through her skin\nI was standing there with nothing on\nShe gonna teach me how to swim\n\nI said, \"Ooh, girl!\nShock me like an electric eel\nBaby girl\nTurn me on with your electric feel\"\nI said, \"Ooh, girl!\nShock me like an electric eel\nBaby girl\nTurn me on with your electric feel\"\n\nAll along the Eastern shore\nPut your circuits in the sea\nThis is what the world is for\nMaking electricity\nYou can feel it in your mind\nOh, you can do it all the time\nPlug it in, change the world\nYou are my electric girl\nI said, \"Ooh, girl!\nShock me like an electric eel\nBaby girl\nTurn me on with your electric feel\"\nI said, \"Ooh, girl!\nShock me like an electric eel\nBaby girl\nTurn me on with your electric feel\"\n\nDo what you feel now!\nElectric feel now\nDo what you feel now!\nElectric feel now\nDo what you feel now!\nElectric feel now\nDo what you feel now!\nElectric feel now\nDo what you feel now!64Embed",
            "count": 1
           },
           {
            "name": "I remember when I was told of story of\nCrushed velvet, candle wax, and dried up flowers\nThe figure on the bed all dressed up in roses, calling\nBeckoning to sleep, offering a dream\nWords were as mystical as purring animals\nThe circle of rage, the ghosts on the stage appeared\nThe time was so tangible, I'll never let it go\nGhost stories handed down reached secret tunnels below\nNo one could see me\nI fell into yesterday\nOur dreams seemed not far away\nI want to, I want to, I want to stay\nI fell into fantasy\nWords were as mystical as purring animals\nThe circle of rage, the ghosts on the stage appeared\nThe time was so tangible, I'll never let it go\nGhost stories handed down reached secret tunnels below\nNo one could see me\nI fell into yesterday\nOur dreams seemed not far away\nI want to, I want to, I want to stay\nI fell into fantasy\nThe girl on the wall always waited for me\nAnd she was always smiling\nThe teenage death boys, the teenage death girls\nAnd everyone was dancing\nNothing could touch us then, no one could change us then\nEveryone was dancing\nNothing could hurt us then, no one could see us then\nEveryone was dancing\nNo one could see me\nI fell into yesterday\nOur dreams seemed not far away\nI want to, I want to, I want to stay\nI fell into fantasy\nOur dreams seemed not far away\nI fell into fantasy1Embed",
            "count": 1
           },
           {
            "name": "3 others",
            "count": 3
           }
          ]
         }
        },
        {
         "name": "id",
         "dtype": "int64",
         "stats": {
          "unique_count": 5,
          "nan_count": 0,
          "min": "0",
          "max": "4",
          "histogram": [
           {
            "bin_start": 0,
            "bin_end": 0.4,
            "count": 1
           },
           {
            "bin_start": 0.4,
            "bin_end": 0.8,
            "count": 0
           },
           {
            "bin_start": 0.8,
            "bin_end": 1.2000000000000002,
            "count": 1
           },
           {
            "bin_start": 1.2000000000000002,
            "bin_end": 1.6,
            "count": 0
           },
           {
            "bin_start": 1.6,
            "bin_end": 2,
            "count": 0
           },
           {
            "bin_start": 2,
            "bin_end": 2.4000000000000004,
            "count": 1
           },
           {
            "bin_start": 2.4000000000000004,
            "bin_end": 2.8000000000000003,
            "count": 0
           },
           {
            "bin_start": 2.8000000000000003,
            "bin_end": 3.2,
            "count": 1
           },
           {
            "bin_start": 3.2,
            "bin_end": 3.6,
            "count": 0
           },
           {
            "bin_start": 3.6,
            "bin_end": 4,
            "count": 1
           }
          ]
         }
        },
        {
         "name": "_deepnote_index_column",
         "dtype": "int64"
        }
       ],
       "rows": [
        {
         "artist": "MGMT",
         "song_name": "Electric Feel ",
         "lyrics": "\nAll along the Western front\nPeople line up to receive\nShe got the power in her hand\nTo shock you like you won't believe\nSaw her in the Amazon\nWith the voltage running through her skin\nI was standing there with nothing on\nShe gonna teach me how to swim\n\nI said, \"Ooh, girl!\nShock me like an electric eel\nBaby girl\nTurn me on with your electric feel\"\nI said, \"Ooh, girl!\nShock me like an electric eel\nBaby girl\nTurn me on with your electric feel\"\n\nAll along the Eastern shore\nPut your circuits in the sea\nThis is what the world is for\nMaking electricity\nYou can feel it in your mind\nOh, you can do it all the time\nPlug it in, change the world\nYou are my electric girl\nI said, \"Ooh, girl!\nShock me like an electric eel\nBaby girl\nTurn me on with your electric feel\"\nI said, \"Ooh, girl!\nShock me like an electric eel\nBaby girl\nTurn me on with your electric feel\"\n\nDo what you feel now!\nElectric feel now\nDo what you feel now!\nElectric feel now\nDo what you feel now!\nElectric feel now\nDo what you feel no…",
         "id": 0,
         "_deepnote_index_column": 0
        },
        {
         "artist": "AFI",
         "song_name": "The Days of the Phoenix ",
         "lyrics": "I remember when I was told of story of\nCrushed velvet, candle wax, and dried up flowers\nThe figure on the bed all dressed up in roses, calling\nBeckoning to sleep, offering a dream\nWords were as mystical as purring animals\nThe circle of rage, the ghosts on the stage appeared\nThe time was so tangible, I'll never let it go\nGhost stories handed down reached secret tunnels below\nNo one could see me\nI fell into yesterday\nOur dreams seemed not far away\nI want to, I want to, I want to stay\nI fell into fantasy\nWords were as mystical as purring animals\nThe circle of rage, the ghosts on the stage appeared\nThe time was so tangible, I'll never let it go\nGhost stories handed down reached secret tunnels below\nNo one could see me\nI fell into yesterday\nOur dreams seemed not far away\nI want to, I want to, I want to stay\nI fell into fantasy\nThe girl on the wall always waited for me\nAnd she was always smiling\nThe teenage death boys, the teenage death girls\nAnd everyone was dancing\nNothing could touch us …",
         "id": 1,
         "_deepnote_index_column": 1
        },
        {
         "artist": "TVontheRadio",
         "song_name": "DLZ ",
         "lyrics": "\nCongratulations on the mess you made of things\nI'm trying to reconstruct the air and all that brings\nAnd oxidation is the compromise you own\nBut this is beginning to feel like the dog wants her bones, say\n\nLa, la, la, la, la, la, la, la\nLa, la, la, la, la, la, la, la, la\nLa, la, la, la, la, la, la, la\nLa, la, la, la, la, la, la, la, la\n\nYou force your fire and then you falsify your deeds\nYour methods dot the disconnect from all your creeds\nAnd fortune strives to fill the vacuum that it feeds\nBut this is beginning to feel like the dog's lost her lead, say\n\nLa, la, la, la, la, la, la, la\nLa, la, la, la, la, la, la, la, la\nLa, la, la, la, la, la, la, la\nLa, la, la, la, la, la, la, la, la\n\nThis is beginning to feel\nLike the long winded blues of the never\nThis is beginning to feel\nLike it's curling up slowly and finding a throat to choke\nThis is beginning to feel\nLike the long winded blues of the never\nBarely controlled locomotive consuming the picture\nAnd blowing the crows to smoke\n\nThis…",
         "id": 2,
         "_deepnote_index_column": 2
        },
        {
         "artist": "SonicYouth",
         "song_name": "Schizophrenia ",
         "lyrics": "\nI went away to see an old friend of mine\nHis sister came over, she was out of her mind\nShe said Jesus had a twin who knew nothing about sin\nShe was laughing like crazy at the trouble I'm in\nHer light eyes were dancing, she is insane\nHer brother says she's just a bitch with a golden chain\nShe keeps coming closer saying, \"I can feel it in my bones\nSchizophrenia is taking me home\"\n\nMy future is static\nIt's already had it\nI could tuck you in\nAnd we can talk about it\nI had a dream\nAnd it split the scene\nBut I got a hunch\nIt's coming back to me9Embed",
         "id": 3,
         "_deepnote_index_column": 3
        },
        {
         "artist": "NickCave&TheBadSeeds",
         "song_name": "O Children ",
         "lyrics": "Pass me that lovely little gun\nMy dear, my darling one\nThe cleaners are coming one by one\nYou don't even want to let them start\nThey are knocking now upon your door\nThey measure the room, they know the score\nThey're mopping up the butcher's floor\nOf your broken little hearts\nOh-Oh-O Children\nForgive us now for what we've done\nIt started out as a bit of fun\nHere, take these before we run away\nThe keys to the gulag\n\nO Children\nLift up your voice, lift up your voice\nChildren\nRejoice, rejoice\nCome on, come on, come on, come on\nHere comes Frank and poor old Jim\nThey're gathering round with all my friends\nWe're older now, the light is dim\nAnd you are only just beginning\nOh-Oh-O Children\nWe have the answer to all your fears\nIt's short, it's simple, it's crystal clear\nIt's round about and it's somewhere here\nLost amongst our winnings\n\nO Children\nLift up your voice, lift up your voice\nChildren\nRejoice, rejoice\nThe cleaners have done their job on you\nThey're hip to it, man, they're in the groov…",
         "id": 4,
         "_deepnote_index_column": 4
        }
       ]
      },
      "text/plain": "                 artist                 song_name  \\\n0                  MGMT            Electric Feel    \n1                   AFI  The Days of the Phoenix    \n2          TVontheRadio                      DLZ    \n3            SonicYouth            Schizophrenia    \n4  NickCave&TheBadSeeds               O Children    \n\n                                              lyrics  id  \n0  \\nAll along the Western front\\nPeople line up ...   0  \n1  I remember when I was told of story of\\nCrushe...   1  \n2  \\nCongratulations on the mess you made of thin...   2  \n3  \\nI went away to see an old friend of mine\\nHi...   3  \n4  Pass me that lovely little gun\\nMy dear, my da...   4  ",
      "text/html": "<div>\n<style scoped>\n    .dataframe tbody tr th:only-of-type {\n        vertical-align: middle;\n    }\n\n    .dataframe tbody tr th {\n        vertical-align: top;\n    }\n\n    .dataframe thead th {\n        text-align: right;\n    }\n</style>\n<table border=\"1\" class=\"dataframe\">\n  <thead>\n    <tr style=\"text-align: right;\">\n      <th></th>\n      <th>artist</th>\n      <th>song_name</th>\n      <th>lyrics</th>\n      <th>id</th>\n    </tr>\n  </thead>\n  <tbody>\n    <tr>\n      <th>0</th>\n      <td>MGMT</td>\n      <td>Electric Feel</td>\n      <td>\\nAll along the Western front\\nPeople line up ...</td>\n      <td>0</td>\n    </tr>\n    <tr>\n      <th>1</th>\n      <td>AFI</td>\n      <td>The Days of the Phoenix</td>\n      <td>I remember when I was told of story of\\nCrushe...</td>\n      <td>1</td>\n    </tr>\n    <tr>\n      <th>2</th>\n      <td>TVontheRadio</td>\n      <td>DLZ</td>\n      <td>\\nCongratulations on the mess you made of thin...</td>\n      <td>2</td>\n    </tr>\n    <tr>\n      <th>3</th>\n      <td>SonicYouth</td>\n      <td>Schizophrenia</td>\n      <td>\\nI went away to see an old friend of mine\\nHi...</td>\n      <td>3</td>\n    </tr>\n    <tr>\n      <th>4</th>\n      <td>NickCave&amp;TheBadSeeds</td>\n      <td>O Children</td>\n      <td>Pass me that lovely little gun\\nMy dear, my da...</td>\n      <td>4</td>\n    </tr>\n  </tbody>\n</table>\n</div>"
     },
     "metadata": {}
    }
   ]
  },
  {
   "cell_type": "markdown",
   "source": "### Remove Stop words and Tokenize",
   "metadata": {
    "formattedRanges": [],
    "cell_id": "41f177e7c37b49d09e454f50393db866",
    "tags": [],
    "is_collapsed": false,
    "deepnote_cell_type": "text-cell-h3"
   }
  },
  {
   "cell_type": "code",
   "metadata": {
    "cell_id": "473c081d36e744e3b3e7460506822758",
    "tags": [],
    "deepnote_to_be_reexecuted": false,
    "source_hash": "e155a651",
    "execution_start": 1655673671385,
    "execution_millis": 214,
    "deepnote_cell_type": "code",
    "deepnote_cell_height": 171
   },
   "source": "stop = set()\nwith open('stopwords.txt', 'r') as f:\n    for line in f:\n        stop.add(line.rstrip())\n\ndf['lyrics_nostop'] = df['lyrics'].apply(lambda x: ' '.join([word.lower() for word in x.split() if word not in (stop)]))",
   "execution_count": 35,
   "outputs": []
  },
  {
   "cell_type": "code",
   "metadata": {
    "cell_id": "a3cc421bcec24b1abaeaef233de26b4e",
    "tags": [],
    "deepnote_to_be_reexecuted": false,
    "source_hash": "c085b6ba",
    "execution_start": 1655673673171,
    "execution_millis": 20,
    "deepnote_cell_type": "code",
    "deepnote_cell_height": 395
   },
   "source": "df.head()",
   "execution_count": 36,
   "outputs": [
    {
     "output_type": "execute_result",
     "execution_count": 36,
     "data": {
      "application/vnd.deepnote.dataframe.v3+json": {
       "column_count": 5,
       "row_count": 5,
       "columns": [
        {
         "name": "artist",
         "dtype": "object",
         "stats": {
          "unique_count": 5,
          "nan_count": 0,
          "categories": [
           {
            "name": "MGMT",
            "count": 1
           },
           {
            "name": "AFI",
            "count": 1
           },
           {
            "name": "3 others",
            "count": 3
           }
          ]
         }
        },
        {
         "name": "song_name",
         "dtype": "object",
         "stats": {
          "unique_count": 5,
          "nan_count": 0,
          "categories": [
           {
            "name": "Electric Feel ",
            "count": 1
           },
           {
            "name": "The Days of the Phoenix ",
            "count": 1
           },
           {
            "name": "3 others",
            "count": 3
           }
          ]
         }
        },
        {
         "name": "lyrics",
         "dtype": "object",
         "stats": {
          "unique_count": 5,
          "nan_count": 0,
          "categories": [
           {
            "name": "\nAll along the Western front\nPeople line up to receive\nShe got the power in her hand\nTo shock you like you won't believe\nSaw her in the Amazon\nWith the voltage running through her skin\nI was standing there with nothing on\nShe gonna teach me how to swim\n\nI said, \"Ooh, girl!\nShock me like an electric eel\nBaby girl\nTurn me on with your electric feel\"\nI said, \"Ooh, girl!\nShock me like an electric eel\nBaby girl\nTurn me on with your electric feel\"\n\nAll along the Eastern shore\nPut your circuits in the sea\nThis is what the world is for\nMaking electricity\nYou can feel it in your mind\nOh, you can do it all the time\nPlug it in, change the world\nYou are my electric girl\nI said, \"Ooh, girl!\nShock me like an electric eel\nBaby girl\nTurn me on with your electric feel\"\nI said, \"Ooh, girl!\nShock me like an electric eel\nBaby girl\nTurn me on with your electric feel\"\n\nDo what you feel now!\nElectric feel now\nDo what you feel now!\nElectric feel now\nDo what you feel now!\nElectric feel now\nDo what you feel now!\nElectric feel now\nDo what you feel now!64Embed",
            "count": 1
           },
           {
            "name": "I remember when I was told of story of\nCrushed velvet, candle wax, and dried up flowers\nThe figure on the bed all dressed up in roses, calling\nBeckoning to sleep, offering a dream\nWords were as mystical as purring animals\nThe circle of rage, the ghosts on the stage appeared\nThe time was so tangible, I'll never let it go\nGhost stories handed down reached secret tunnels below\nNo one could see me\nI fell into yesterday\nOur dreams seemed not far away\nI want to, I want to, I want to stay\nI fell into fantasy\nWords were as mystical as purring animals\nThe circle of rage, the ghosts on the stage appeared\nThe time was so tangible, I'll never let it go\nGhost stories handed down reached secret tunnels below\nNo one could see me\nI fell into yesterday\nOur dreams seemed not far away\nI want to, I want to, I want to stay\nI fell into fantasy\nThe girl on the wall always waited for me\nAnd she was always smiling\nThe teenage death boys, the teenage death girls\nAnd everyone was dancing\nNothing could touch us then, no one could change us then\nEveryone was dancing\nNothing could hurt us then, no one could see us then\nEveryone was dancing\nNo one could see me\nI fell into yesterday\nOur dreams seemed not far away\nI want to, I want to, I want to stay\nI fell into fantasy\nOur dreams seemed not far away\nI fell into fantasy1Embed",
            "count": 1
           },
           {
            "name": "3 others",
            "count": 3
           }
          ]
         }
        },
        {
         "name": "id",
         "dtype": "int64",
         "stats": {
          "unique_count": 5,
          "nan_count": 0,
          "min": "0",
          "max": "4",
          "histogram": [
           {
            "bin_start": 0,
            "bin_end": 0.4,
            "count": 1
           },
           {
            "bin_start": 0.4,
            "bin_end": 0.8,
            "count": 0
           },
           {
            "bin_start": 0.8,
            "bin_end": 1.2000000000000002,
            "count": 1
           },
           {
            "bin_start": 1.2000000000000002,
            "bin_end": 1.6,
            "count": 0
           },
           {
            "bin_start": 1.6,
            "bin_end": 2,
            "count": 0
           },
           {
            "bin_start": 2,
            "bin_end": 2.4000000000000004,
            "count": 1
           },
           {
            "bin_start": 2.4000000000000004,
            "bin_end": 2.8000000000000003,
            "count": 0
           },
           {
            "bin_start": 2.8000000000000003,
            "bin_end": 3.2,
            "count": 1
           },
           {
            "bin_start": 3.2,
            "bin_end": 3.6,
            "count": 0
           },
           {
            "bin_start": 3.6,
            "bin_end": 4,
            "count": 1
           }
          ]
         }
        },
        {
         "name": "lyrics_nostop",
         "dtype": "object",
         "stats": {
          "unique_count": 5,
          "nan_count": 0,
          "categories": [
           {
            "name": "all along western front people line up receive she got power hand to shock like won't believe saw amazon with voltage running through skin i standing nothing she gonna teach swim i said, \"ooh, girl! shock like electric eel baby girl turn electric feel\" i said, \"ooh, girl! shock like electric eel baby girl turn electric feel\" all along eastern shore put circuits sea this world making electricity you can feel mind oh, can do time plug in, change world you electric girl i said, \"ooh, girl! shock like electric eel baby girl turn electric feel\" i said, \"ooh, girl! shock like electric eel baby girl turn electric feel\" do feel now! electric feel now do feel now! electric feel now do feel now! electric feel now do feel now! electric feel now do feel now!64embed",
            "count": 1
           },
           {
            "name": "i remember i told story crushed velvet, candle wax, dried up flowers the figure bed dressed up roses, calling beckoning sleep, offering dream words were mystical purring animals the circle rage, ghosts stage appeared the time so tangible, i'll never let go ghost stories handed down reached secret tunnels below no one could see i fell into yesterday our dreams seemed not far away i want to, i want to, i want stay i fell into fantasy words were mystical purring animals the circle rage, ghosts stage appeared the time so tangible, i'll never let go ghost stories handed down reached secret tunnels below no one could see i fell into yesterday our dreams seemed not far away i want to, i want to, i want stay i fell into fantasy the girl wall always waited and always smiling the teenage death boys, teenage death girls and everyone dancing nothing could touch then, no one could change then everyone dancing nothing could hurt then, no one could see then everyone dancing no one could see i fell into yesterday our dreams seemed not far away i want to, i want to, i want stay i fell into fantasy our dreams seemed not far away i fell into fantasy1embed",
            "count": 1
           },
           {
            "name": "3 others",
            "count": 3
           }
          ]
         }
        },
        {
         "name": "_deepnote_index_column",
         "dtype": "int64"
        }
       ],
       "rows": [
        {
         "artist": "MGMT",
         "song_name": "Electric Feel ",
         "lyrics": "\nAll along the Western front\nPeople line up to receive\nShe got the power in her hand\nTo shock you like you won't believe\nSaw her in the Amazon\nWith the voltage running through her skin\nI was standing there with nothing on\nShe gonna teach me how to swim\n\nI said, \"Ooh, girl!\nShock me like an electric eel\nBaby girl\nTurn me on with your electric feel\"\nI said, \"Ooh, girl!\nShock me like an electric eel\nBaby girl\nTurn me on with your electric feel\"\n\nAll along the Eastern shore\nPut your circuits in the sea\nThis is what the world is for\nMaking electricity\nYou can feel it in your mind\nOh, you can do it all the time\nPlug it in, change the world\nYou are my electric girl\nI said, \"Ooh, girl!\nShock me like an electric eel\nBaby girl\nTurn me on with your electric feel\"\nI said, \"Ooh, girl!\nShock me like an electric eel\nBaby girl\nTurn me on with your electric feel\"\n\nDo what you feel now!\nElectric feel now\nDo what you feel now!\nElectric feel now\nDo what you feel now!\nElectric feel now\nDo what you feel no…",
         "id": 0,
         "lyrics_nostop": "all along western front people line up receive she got power hand to shock like won't believe saw amazon with voltage running through skin i standing nothing she gonna teach swim i said, \"ooh, girl! shock like electric eel baby girl turn electric feel\" i said, \"ooh, girl! shock like electric eel baby girl turn electric feel\" all along eastern shore put circuits sea this world making electricity you can feel mind oh, can do time plug in, change world you electric girl i said, \"ooh, girl! shock like electric eel baby girl turn electric feel\" i said, \"ooh, girl! shock like electric eel baby girl turn electric feel\" do feel now! electric feel now do feel now! electric feel now do feel now! electric feel now do feel now! electric feel now do feel now!64embed",
         "_deepnote_index_column": 0
        },
        {
         "artist": "AFI",
         "song_name": "The Days of the Phoenix ",
         "lyrics": "I remember when I was told of story of\nCrushed velvet, candle wax, and dried up flowers\nThe figure on the bed all dressed up in roses, calling\nBeckoning to sleep, offering a dream\nWords were as mystical as purring animals\nThe circle of rage, the ghosts on the stage appeared\nThe time was so tangible, I'll never let it go\nGhost stories handed down reached secret tunnels below\nNo one could see me\nI fell into yesterday\nOur dreams seemed not far away\nI want to, I want to, I want to stay\nI fell into fantasy\nWords were as mystical as purring animals\nThe circle of rage, the ghosts on the stage appeared\nThe time was so tangible, I'll never let it go\nGhost stories handed down reached secret tunnels below\nNo one could see me\nI fell into yesterday\nOur dreams seemed not far away\nI want to, I want to, I want to stay\nI fell into fantasy\nThe girl on the wall always waited for me\nAnd she was always smiling\nThe teenage death boys, the teenage death girls\nAnd everyone was dancing\nNothing could touch us …",
         "id": 1,
         "lyrics_nostop": "i remember i told story crushed velvet, candle wax, dried up flowers the figure bed dressed up roses, calling beckoning sleep, offering dream words were mystical purring animals the circle rage, ghosts stage appeared the time so tangible, i'll never let go ghost stories handed down reached secret tunnels below no one could see i fell into yesterday our dreams seemed not far away i want to, i want to, i want stay i fell into fantasy words were mystical purring animals the circle rage, ghosts stage appeared the time so tangible, i'll never let go ghost stories handed down reached secret tunnels below no one could see i fell into yesterday our dreams seemed not far away i want to, i want to, i want stay i fell into fantasy the girl wall always waited and always smiling the teenage death boys, teenage death girls and everyone dancing nothing could touch then, no one could change then everyone dancing nothing could hurt then, no one could see then everyone dancing no one could see i fell i…",
         "_deepnote_index_column": 1
        },
        {
         "artist": "TVontheRadio",
         "song_name": "DLZ ",
         "lyrics": "\nCongratulations on the mess you made of things\nI'm trying to reconstruct the air and all that brings\nAnd oxidation is the compromise you own\nBut this is beginning to feel like the dog wants her bones, say\n\nLa, la, la, la, la, la, la, la\nLa, la, la, la, la, la, la, la, la\nLa, la, la, la, la, la, la, la\nLa, la, la, la, la, la, la, la, la\n\nYou force your fire and then you falsify your deeds\nYour methods dot the disconnect from all your creeds\nAnd fortune strives to fill the vacuum that it feeds\nBut this is beginning to feel like the dog's lost her lead, say\n\nLa, la, la, la, la, la, la, la\nLa, la, la, la, la, la, la, la, la\nLa, la, la, la, la, la, la, la\nLa, la, la, la, la, la, la, la, la\n\nThis is beginning to feel\nLike the long winded blues of the never\nThis is beginning to feel\nLike it's curling up slowly and finding a throat to choke\nThis is beginning to feel\nLike the long winded blues of the never\nBarely controlled locomotive consuming the picture\nAnd blowing the crows to smoke\n\nThis…",
         "id": 2,
         "lyrics_nostop": "congratulations mess made things i'm trying reconstruct air brings and oxidation compromise own but beginning feel like dog wants bones, say la, la, la, la, la, la, la, la la, la, la, la, la, la, la, la, la la, la, la, la, la, la, la, la la, la, la, la, la, la, la, la, la you force fire then falsify deeds your methods dot disconnect creeds and fortune strives fill vacuum feeds but beginning feel like dog's lost lead, say la, la, la, la, la, la, la, la la, la, la, la, la, la, la, la, la la, la, la, la, la, la, la, la la, la, la, la, la, la, la, la, la this beginning feel like long winded blues never this beginning feel like it's curling up slowly finding throat choke this beginning feel like long winded blues never barely controlled locomotive consuming picture and blowing crows smoke this beginning feel like long winded blues never static explosion devoted crushing broken and shoving souls ghost eternalized, objectified you set sights so high but beginning feel like bolt busted loose …",
         "_deepnote_index_column": 2
        },
        {
         "artist": "SonicYouth",
         "song_name": "Schizophrenia ",
         "lyrics": "\nI went away to see an old friend of mine\nHis sister came over, she was out of her mind\nShe said Jesus had a twin who knew nothing about sin\nShe was laughing like crazy at the trouble I'm in\nHer light eyes were dancing, she is insane\nHer brother says she's just a bitch with a golden chain\nShe keeps coming closer saying, \"I can feel it in my bones\nSchizophrenia is taking me home\"\n\nMy future is static\nIt's already had it\nI could tuck you in\nAnd we can talk about it\nI had a dream\nAnd it split the scene\nBut I got a hunch\nIt's coming back to me9Embed",
         "id": 3,
         "lyrics_nostop": "i went away see old friend mine his sister came over, out mind she said jesus had twin knew nothing about sin she laughing like crazy trouble i'm her light eyes were dancing, insane her brother says she's just bitch golden chain she keeps coming closer saying, \"i can feel bones schizophrenia taking home\" my future static it's already had i could tuck and we can talk about i had dream and split scene but i got hunch it's coming back me9embed",
         "_deepnote_index_column": 3
        },
        {
         "artist": "NickCave&TheBadSeeds",
         "song_name": "O Children ",
         "lyrics": "Pass me that lovely little gun\nMy dear, my darling one\nThe cleaners are coming one by one\nYou don't even want to let them start\nThey are knocking now upon your door\nThey measure the room, they know the score\nThey're mopping up the butcher's floor\nOf your broken little hearts\nOh-Oh-O Children\nForgive us now for what we've done\nIt started out as a bit of fun\nHere, take these before we run away\nThe keys to the gulag\n\nO Children\nLift up your voice, lift up your voice\nChildren\nRejoice, rejoice\nCome on, come on, come on, come on\nHere comes Frank and poor old Jim\nThey're gathering round with all my friends\nWe're older now, the light is dim\nAnd you are only just beginning\nOh-Oh-O Children\nWe have the answer to all your fears\nIt's short, it's simple, it's crystal clear\nIt's round about and it's somewhere here\nLost amongst our winnings\n\nO Children\nLift up your voice, lift up your voice\nChildren\nRejoice, rejoice\nThe cleaners have done their job on you\nThey're hip to it, man, they're in the groov…",
         "id": 4,
         "lyrics_nostop": "pass lovely little gun my dear, darling one the cleaners coming one one you don't even want let start they knocking now upon door they measure room, know score they're mopping up butcher's floor of broken little hearts oh-oh-o children forgive now we've done it started out bit fun here, take these before we run away the keys gulag o children lift up voice, lift up voice children rejoice, rejoice come on, come on, come on, come here comes frank poor old jim they're gathering round friends we're older now, light dim and only just beginning oh-oh-o children we answer fears it's short, it's simple, it's crystal clear it's round about it's somewhere lost amongst winnings o children lift up voice, lift up voice children rejoice, rejoice the cleaners done job they're hip it, man, they're groove they've hosed down, you're good new and they're lining up inspect oh-oh-o children poor old jim's white ghost he's found answer we lost we're weeping now, weeping because there ain't nothing we can do…",
         "_deepnote_index_column": 4
        }
       ]
      },
      "text/plain": "                 artist                 song_name  \\\n0                  MGMT            Electric Feel    \n1                   AFI  The Days of the Phoenix    \n2          TVontheRadio                      DLZ    \n3            SonicYouth            Schizophrenia    \n4  NickCave&TheBadSeeds               O Children    \n\n                                              lyrics  id  \\\n0  \\nAll along the Western front\\nPeople line up ...   0   \n1  I remember when I was told of story of\\nCrushe...   1   \n2  \\nCongratulations on the mess you made of thin...   2   \n3  \\nI went away to see an old friend of mine\\nHi...   3   \n4  Pass me that lovely little gun\\nMy dear, my da...   4   \n\n                                       lyrics_nostop  \n0  all along western front people line up receive...  \n1  i remember i told story crushed velvet, candle...  \n2  congratulations mess made things i'm trying re...  \n3  i went away see old friend mine his sister cam...  \n4  pass lovely little gun my dear, darling one th...  ",
      "text/html": "<div>\n<style scoped>\n    .dataframe tbody tr th:only-of-type {\n        vertical-align: middle;\n    }\n\n    .dataframe tbody tr th {\n        vertical-align: top;\n    }\n\n    .dataframe thead th {\n        text-align: right;\n    }\n</style>\n<table border=\"1\" class=\"dataframe\">\n  <thead>\n    <tr style=\"text-align: right;\">\n      <th></th>\n      <th>artist</th>\n      <th>song_name</th>\n      <th>lyrics</th>\n      <th>id</th>\n      <th>lyrics_nostop</th>\n    </tr>\n  </thead>\n  <tbody>\n    <tr>\n      <th>0</th>\n      <td>MGMT</td>\n      <td>Electric Feel</td>\n      <td>\\nAll along the Western front\\nPeople line up ...</td>\n      <td>0</td>\n      <td>all along western front people line up receive...</td>\n    </tr>\n    <tr>\n      <th>1</th>\n      <td>AFI</td>\n      <td>The Days of the Phoenix</td>\n      <td>I remember when I was told of story of\\nCrushe...</td>\n      <td>1</td>\n      <td>i remember i told story crushed velvet, candle...</td>\n    </tr>\n    <tr>\n      <th>2</th>\n      <td>TVontheRadio</td>\n      <td>DLZ</td>\n      <td>\\nCongratulations on the mess you made of thin...</td>\n      <td>2</td>\n      <td>congratulations mess made things i'm trying re...</td>\n    </tr>\n    <tr>\n      <th>3</th>\n      <td>SonicYouth</td>\n      <td>Schizophrenia</td>\n      <td>\\nI went away to see an old friend of mine\\nHi...</td>\n      <td>3</td>\n      <td>i went away see old friend mine his sister cam...</td>\n    </tr>\n    <tr>\n      <th>4</th>\n      <td>NickCave&amp;TheBadSeeds</td>\n      <td>O Children</td>\n      <td>Pass me that lovely little gun\\nMy dear, my da...</td>\n      <td>4</td>\n      <td>pass lovely little gun my dear, darling one th...</td>\n    </tr>\n  </tbody>\n</table>\n</div>"
     },
     "metadata": {}
    }
   ]
  },
  {
   "cell_type": "code",
   "metadata": {
    "cell_id": "8fd33c62e09f46629f708cf5f5e70dd1",
    "tags": [],
    "deepnote_to_be_reexecuted": false,
    "source_hash": "ff0e68a8",
    "execution_start": 1655674263759,
    "execution_millis": 2,
    "deepnote_cell_type": "code",
    "deepnote_cell_height": 99
   },
   "source": "from sklearn.feature_extraction.text import TfidfVectorizer\nfrom sklearn.metrics.pairwise import cosine_similarity",
   "execution_count": 44,
   "outputs": []
  },
  {
   "cell_type": "code",
   "metadata": {
    "cell_id": "f138e70ffe0b4f14b990f975c1859ffd",
    "tags": [],
    "deepnote_to_be_reexecuted": false,
    "source_hash": "b921a15e",
    "execution_start": 1655674265188,
    "execution_millis": 278,
    "deepnote_cell_type": "code",
    "deepnote_cell_height": 99
   },
   "source": "analyze = TfidfVectorizer().build_analyzer()\ndf['tokens'] = df['lyrics_nostop'].apply(analyze)",
   "execution_count": 45,
   "outputs": []
  },
  {
   "cell_type": "markdown",
   "source": "Now would be an appropriate time to get rid of some redundant columns",
   "metadata": {
    "cell_id": "3e5efd636a35410e807e7521d097908d",
    "tags": [],
    "is_collapsed": false,
    "formattedRanges": [],
    "deepnote_cell_type": "text-cell-p"
   }
  },
  {
   "cell_type": "code",
   "metadata": {
    "cell_id": "5393d146bb764035baaca685e2603c55",
    "tags": [],
    "deepnote_to_be_reexecuted": false,
    "source_hash": "45dbc950",
    "execution_start": 1655674266638,
    "execution_millis": 21,
    "deepnote_cell_type": "code",
    "deepnote_cell_height": 162.1875
   },
   "source": "df = df.drop(['lyrics'], axis=1)\ndf.head()",
   "execution_count": 46,
   "outputs": [
    {
     "output_type": "error",
     "ename": "KeyError",
     "evalue": "\"['lyrics'] not found in axis\"",
     "traceback": [
      "\u001b[0;31m---------------------------------------------------------------------------\u001b[0m",
      "\u001b[0;31mKeyError\u001b[0m                                  Traceback (most recent call last)",
      "\u001b[0;32m<ipython-input-46-630fe3302194>\u001b[0m in \u001b[0;36m<module>\u001b[0;34m\u001b[0m\n\u001b[0;32m----> 1\u001b[0;31m \u001b[0mdf\u001b[0m \u001b[0;34m=\u001b[0m \u001b[0mdf\u001b[0m\u001b[0;34m.\u001b[0m\u001b[0mdrop\u001b[0m\u001b[0;34m(\u001b[0m\u001b[0;34m[\u001b[0m\u001b[0;34m'lyrics'\u001b[0m\u001b[0;34m]\u001b[0m\u001b[0;34m,\u001b[0m \u001b[0maxis\u001b[0m\u001b[0;34m=\u001b[0m\u001b[0;36m1\u001b[0m\u001b[0;34m)\u001b[0m\u001b[0;34m\u001b[0m\u001b[0;34m\u001b[0m\u001b[0m\n\u001b[0m\u001b[1;32m      2\u001b[0m \u001b[0mdf\u001b[0m\u001b[0;34m.\u001b[0m\u001b[0mhead\u001b[0m\u001b[0;34m(\u001b[0m\u001b[0;34m)\u001b[0m\u001b[0;34m\u001b[0m\u001b[0;34m\u001b[0m\u001b[0m\n",
      "\u001b[0;32m/shared-libs/python3.7/py/lib/python3.7/site-packages/pandas/core/frame.py\u001b[0m in \u001b[0;36mdrop\u001b[0;34m(self, labels, axis, index, columns, level, inplace, errors)\u001b[0m\n\u001b[1;32m   4313\u001b[0m             \u001b[0mlevel\u001b[0m\u001b[0;34m=\u001b[0m\u001b[0mlevel\u001b[0m\u001b[0;34m,\u001b[0m\u001b[0;34m\u001b[0m\u001b[0;34m\u001b[0m\u001b[0m\n\u001b[1;32m   4314\u001b[0m             \u001b[0minplace\u001b[0m\u001b[0;34m=\u001b[0m\u001b[0minplace\u001b[0m\u001b[0;34m,\u001b[0m\u001b[0;34m\u001b[0m\u001b[0;34m\u001b[0m\u001b[0m\n\u001b[0;32m-> 4315\u001b[0;31m             \u001b[0merrors\u001b[0m\u001b[0;34m=\u001b[0m\u001b[0merrors\u001b[0m\u001b[0;34m,\u001b[0m\u001b[0;34m\u001b[0m\u001b[0;34m\u001b[0m\u001b[0m\n\u001b[0m\u001b[1;32m   4316\u001b[0m         )\n\u001b[1;32m   4317\u001b[0m \u001b[0;34m\u001b[0m\u001b[0m\n",
      "\u001b[0;32m/shared-libs/python3.7/py/lib/python3.7/site-packages/pandas/core/generic.py\u001b[0m in \u001b[0;36mdrop\u001b[0;34m(self, labels, axis, index, columns, level, inplace, errors)\u001b[0m\n\u001b[1;32m   4151\u001b[0m         \u001b[0;32mfor\u001b[0m \u001b[0maxis\u001b[0m\u001b[0;34m,\u001b[0m \u001b[0mlabels\u001b[0m \u001b[0;32min\u001b[0m \u001b[0maxes\u001b[0m\u001b[0;34m.\u001b[0m\u001b[0mitems\u001b[0m\u001b[0;34m(\u001b[0m\u001b[0;34m)\u001b[0m\u001b[0;34m:\u001b[0m\u001b[0;34m\u001b[0m\u001b[0;34m\u001b[0m\u001b[0m\n\u001b[1;32m   4152\u001b[0m             \u001b[0;32mif\u001b[0m \u001b[0mlabels\u001b[0m \u001b[0;32mis\u001b[0m \u001b[0;32mnot\u001b[0m \u001b[0;32mNone\u001b[0m\u001b[0;34m:\u001b[0m\u001b[0;34m\u001b[0m\u001b[0;34m\u001b[0m\u001b[0m\n\u001b[0;32m-> 4153\u001b[0;31m                 \u001b[0mobj\u001b[0m \u001b[0;34m=\u001b[0m \u001b[0mobj\u001b[0m\u001b[0;34m.\u001b[0m\u001b[0m_drop_axis\u001b[0m\u001b[0;34m(\u001b[0m\u001b[0mlabels\u001b[0m\u001b[0;34m,\u001b[0m \u001b[0maxis\u001b[0m\u001b[0;34m,\u001b[0m \u001b[0mlevel\u001b[0m\u001b[0;34m=\u001b[0m\u001b[0mlevel\u001b[0m\u001b[0;34m,\u001b[0m \u001b[0merrors\u001b[0m\u001b[0;34m=\u001b[0m\u001b[0merrors\u001b[0m\u001b[0;34m)\u001b[0m\u001b[0;34m\u001b[0m\u001b[0;34m\u001b[0m\u001b[0m\n\u001b[0m\u001b[1;32m   4154\u001b[0m \u001b[0;34m\u001b[0m\u001b[0m\n\u001b[1;32m   4155\u001b[0m         \u001b[0;32mif\u001b[0m \u001b[0minplace\u001b[0m\u001b[0;34m:\u001b[0m\u001b[0;34m\u001b[0m\u001b[0;34m\u001b[0m\u001b[0m\n",
      "\u001b[0;32m/shared-libs/python3.7/py/lib/python3.7/site-packages/pandas/core/generic.py\u001b[0m in \u001b[0;36m_drop_axis\u001b[0;34m(self, labels, axis, level, errors)\u001b[0m\n\u001b[1;32m   4186\u001b[0m                 \u001b[0mnew_axis\u001b[0m \u001b[0;34m=\u001b[0m \u001b[0maxis\u001b[0m\u001b[0;34m.\u001b[0m\u001b[0mdrop\u001b[0m\u001b[0;34m(\u001b[0m\u001b[0mlabels\u001b[0m\u001b[0;34m,\u001b[0m \u001b[0mlevel\u001b[0m\u001b[0;34m=\u001b[0m\u001b[0mlevel\u001b[0m\u001b[0;34m,\u001b[0m \u001b[0merrors\u001b[0m\u001b[0;34m=\u001b[0m\u001b[0merrors\u001b[0m\u001b[0;34m)\u001b[0m\u001b[0;34m\u001b[0m\u001b[0;34m\u001b[0m\u001b[0m\n\u001b[1;32m   4187\u001b[0m             \u001b[0;32melse\u001b[0m\u001b[0;34m:\u001b[0m\u001b[0;34m\u001b[0m\u001b[0;34m\u001b[0m\u001b[0m\n\u001b[0;32m-> 4188\u001b[0;31m                 \u001b[0mnew_axis\u001b[0m \u001b[0;34m=\u001b[0m \u001b[0maxis\u001b[0m\u001b[0;34m.\u001b[0m\u001b[0mdrop\u001b[0m\u001b[0;34m(\u001b[0m\u001b[0mlabels\u001b[0m\u001b[0;34m,\u001b[0m \u001b[0merrors\u001b[0m\u001b[0;34m=\u001b[0m\u001b[0merrors\u001b[0m\u001b[0;34m)\u001b[0m\u001b[0;34m\u001b[0m\u001b[0;34m\u001b[0m\u001b[0m\n\u001b[0m\u001b[1;32m   4189\u001b[0m             \u001b[0mresult\u001b[0m \u001b[0;34m=\u001b[0m \u001b[0mself\u001b[0m\u001b[0;34m.\u001b[0m\u001b[0mreindex\u001b[0m\u001b[0;34m(\u001b[0m\u001b[0;34m**\u001b[0m\u001b[0;34m{\u001b[0m\u001b[0maxis_name\u001b[0m\u001b[0;34m:\u001b[0m \u001b[0mnew_axis\u001b[0m\u001b[0;34m}\u001b[0m\u001b[0;34m)\u001b[0m\u001b[0;34m\u001b[0m\u001b[0;34m\u001b[0m\u001b[0m\n\u001b[1;32m   4190\u001b[0m \u001b[0;34m\u001b[0m\u001b[0m\n",
      "\u001b[0;32m/shared-libs/python3.7/py/lib/python3.7/site-packages/pandas/core/indexes/base.py\u001b[0m in \u001b[0;36mdrop\u001b[0;34m(self, labels, errors)\u001b[0m\n\u001b[1;32m   5590\u001b[0m         \u001b[0;32mif\u001b[0m \u001b[0mmask\u001b[0m\u001b[0;34m.\u001b[0m\u001b[0many\u001b[0m\u001b[0;34m(\u001b[0m\u001b[0;34m)\u001b[0m\u001b[0;34m:\u001b[0m\u001b[0;34m\u001b[0m\u001b[0;34m\u001b[0m\u001b[0m\n\u001b[1;32m   5591\u001b[0m             \u001b[0;32mif\u001b[0m \u001b[0merrors\u001b[0m \u001b[0;34m!=\u001b[0m \u001b[0;34m\"ignore\"\u001b[0m\u001b[0;34m:\u001b[0m\u001b[0;34m\u001b[0m\u001b[0;34m\u001b[0m\u001b[0m\n\u001b[0;32m-> 5592\u001b[0;31m                 \u001b[0;32mraise\u001b[0m \u001b[0mKeyError\u001b[0m\u001b[0;34m(\u001b[0m\u001b[0;34mf\"{labels[mask]} not found in axis\"\u001b[0m\u001b[0;34m)\u001b[0m\u001b[0;34m\u001b[0m\u001b[0;34m\u001b[0m\u001b[0m\n\u001b[0m\u001b[1;32m   5593\u001b[0m             \u001b[0mindexer\u001b[0m \u001b[0;34m=\u001b[0m \u001b[0mindexer\u001b[0m\u001b[0;34m[\u001b[0m\u001b[0;34m~\u001b[0m\u001b[0mmask\u001b[0m\u001b[0;34m]\u001b[0m\u001b[0;34m\u001b[0m\u001b[0;34m\u001b[0m\u001b[0m\n\u001b[1;32m   5594\u001b[0m         \u001b[0;32mreturn\u001b[0m \u001b[0mself\u001b[0m\u001b[0;34m.\u001b[0m\u001b[0mdelete\u001b[0m\u001b[0;34m(\u001b[0m\u001b[0mindexer\u001b[0m\u001b[0;34m)\u001b[0m\u001b[0;34m\u001b[0m\u001b[0;34m\u001b[0m\u001b[0m\n",
      "\u001b[0;31mKeyError\u001b[0m: \"['lyrics'] not found in axis\""
     ]
    }
   ]
  },
  {
   "cell_type": "markdown",
   "source": "## Find similarities between songs and queries",
   "metadata": {
    "cell_id": "ccb8b27bef304cce8b395e096fa3ad63",
    "tags": [],
    "is_collapsed": false,
    "formattedRanges": [],
    "deepnote_cell_type": "text-cell-h2"
   }
  },
  {
   "cell_type": "markdown",
   "source": "### General cosine similarity based on lyric similarity",
   "metadata": {
    "cell_id": "1e0bfbbdf4974525968266a416f897f1",
    "tags": [],
    "is_collapsed": false,
    "formattedRanges": [],
    "deepnote_cell_type": "text-cell-h3"
   }
  },
  {
   "cell_type": "code",
   "source": "query = \"I am very happy, give me happy\"\n\nq_ser = pd.Series([query])\nl_ser = pd.Series(df['lyrics_nostop'])\n\nq_lyrics = q_ser.append(l_ser)\n\n# the linear kernel is the dot product\ntf_idf = TfidfVectorizer().fit_transform(q_lyrics)\n# the query is the first item in the series, so compare it to the other items\ncosine_sim = cosine_similarity(tf_idf[0:1], tf_idf[1:]).flatten()\ntop_songs_indices = cosine_sim.argsort()[:-7:-1]\nprint(top_songs_indices)\nprint(cosine_sim[top_songs_indices])\n\ndf.iloc[top_songs_indices]",
   "metadata": {
    "cell_id": "1c87e48520ee4771994d41ebfc95edb3",
    "tags": [],
    "deepnote_to_be_reexecuted": false,
    "source_hash": "ec062114",
    "execution_start": 1655675254274,
    "execution_millis": 458,
    "deepnote_cell_type": "code",
    "deepnote_cell_height": 772.375,
    "deepnote_output_heights": [
     78.75,
     78.75
    ]
   },
   "outputs": [
    {
     "name": "stdout",
     "text": "[1286 2174  449 1174   94 2227]\n[0.40734742 0.38548732 0.37506168 0.3115518  0.28000354 0.23671946]\n",
     "output_type": "stream"
    },
    {
     "output_type": "execute_result",
     "execution_count": 65,
     "data": {
      "application/vnd.deepnote.dataframe.v3+json": {
       "column_count": 5,
       "row_count": 6,
       "columns": [
        {
         "name": "artist",
         "dtype": "object",
         "stats": {
          "unique_count": 6,
          "nan_count": 0,
          "categories": [
           {
            "name": "DemiLovato",
            "count": 1
           },
           {
            "name": "TheKooks",
            "count": 1
           },
           {
            "name": "4 others",
            "count": 4
           }
          ]
         }
        },
        {
         "name": "song_name",
         "dtype": "object",
         "stats": {
          "unique_count": 6,
          "nan_count": 0,
          "categories": [
           {
            "name": "Stone Cold ",
            "count": 1
           },
           {
            "name": "Junk of the Heart (Happy) ",
            "count": 1
           },
           {
            "name": "4 others",
            "count": 4
           }
          ]
         }
        },
        {
         "name": "id",
         "dtype": "int64",
         "stats": {
          "unique_count": 6,
          "nan_count": 0,
          "min": "94",
          "max": "2227",
          "histogram": [
           {
            "bin_start": 94,
            "bin_end": 307.3,
            "count": 1
           },
           {
            "bin_start": 307.3,
            "bin_end": 520.6,
            "count": 1
           },
           {
            "bin_start": 520.6,
            "bin_end": 733.9000000000001,
            "count": 0
           },
           {
            "bin_start": 733.9000000000001,
            "bin_end": 947.2,
            "count": 0
           },
           {
            "bin_start": 947.2,
            "bin_end": 1160.5,
            "count": 0
           },
           {
            "bin_start": 1160.5,
            "bin_end": 1373.8000000000002,
            "count": 2
           },
           {
            "bin_start": 1373.8000000000002,
            "bin_end": 1587.1000000000001,
            "count": 0
           },
           {
            "bin_start": 1587.1000000000001,
            "bin_end": 1800.4,
            "count": 0
           },
           {
            "bin_start": 1800.4,
            "bin_end": 2013.7,
            "count": 0
           },
           {
            "bin_start": 2013.7,
            "bin_end": 2227,
            "count": 2
           }
          ]
         }
        },
        {
         "name": "lyrics_nostop",
         "dtype": "object",
         "stats": {
          "unique_count": 6,
          "nan_count": 0,
          "categories": [
           {
            "name": "stone cold, stone cold you see standing, i'm dying floor stone cold, stone cold maybe if i don't cry, i won't feel anymore stone cold, baby god knows i try feel happy know i am, even if i can't understand i'll take pain give truth me heart, we'll make through if happy her, i'm happy hmmm, stone cold, stone cold you're dancing her, while i'm staring phone stone cold, stone cold i amber, now she's shade gold stone cold, baby god knows i try feel happy know i am, even if i can't understand i'll take pain give truth me heart, we'll make through if happy her, i'm happy don't wanna stone cold, stone i wish i could mend this, here's goodbye oh, i'm happy know i am, even if i can't understand if happy if happy i'm happy you33embed",
            "count": 1
           },
           {
            "name": "junk heart junk mind so hard leave alone we get so drunk we can hardly see what use me, baby? see, i notice nothing makes shatter, no, no you're lover wild joker heart but mine? i wanna make happy i wanna make feel alive let make happy i wanna make feel alive night i wanna make happy are good girl through night? we sink sunk, life no race when i'm not happy, i'm disgrace so i spend time a-guessing you, oh you're lover wild joker heart but mine? i wanna make happy i wanna make feel alive let make happy i wanna make feel alive night i wanna make happy are good girl through night? yeah still i notice nothing makes shatter no, no you're lover wild joker heart but mine? i wanna make happy i wanna make feel alive let make happy i wanna make feel alive night i wanna make happy are good girl through night?14embed",
            "count": 1
           },
           {
            "name": "4 others",
            "count": 4
           }
          ]
         }
        },
        {
         "name": "tokens",
         "dtype": "object",
         "stats": {
          "unique_count": 6,
          "nan_count": 0,
          "categories": [
           {
            "name": "['stone', 'cold', 'stone', 'cold', 'you', 'see', 'standing', 'dying', 'floor', 'stone', 'cold', 'stone', 'cold', 'maybe', 'if', 'don', 'cry', 'won', 'feel', 'anymore', 'stone', 'cold', 'baby', 'god', 'knows', 'try', 'feel', 'happy', 'know', 'am', 'even', 'if', 'can', 'understand', 'll', 'take', 'pain', 'give', 'truth', 'me', 'heart', 'we', 'll', 'make', 'through', 'if', 'happy', 'her', 'happy', 'hmmm', 'stone', 'cold', 'stone', 'cold', 'you', 're', 'dancing', 'her', 'while', 'staring', 'phone', 'stone', 'cold', 'stone', 'cold', 'amber', 'now', 'she', 'shade', 'gold', 'stone', 'cold', 'baby', 'god', 'knows', 'try', 'feel', 'happy', 'know', 'am', 'even', 'if', 'can', 'understand', 'll', 'take', 'pain', 'give', 'truth', 'me', 'heart', 'we', 'll', 'make', 'through', 'if', 'happy', 'her', 'happy', 'don', 'wanna', 'stone', 'cold', 'stone', 'wish', 'could', 'mend', 'this', 'here', 'goodbye', 'oh', 'happy', 'know', 'am', 'even', 'if', 'can', 'understand', 'if', 'happy', 'if', 'happy', 'happy', 'you33embed']",
            "count": 1
           },
           {
            "name": "['junk', 'heart', 'junk', 'mind', 'so', 'hard', 'leave', 'alone', 'we', 'get', 'so', 'drunk', 'we', 'can', 'hardly', 'see', 'what', 'use', 'me', 'baby', 'see', 'notice', 'nothing', 'makes', 'shatter', 'no', 'no', 'you', 're', 'lover', 'wild', 'joker', 'heart', 'but', 'mine', 'wanna', 'make', 'happy', 'wanna', 'make', 'feel', 'alive', 'let', 'make', 'happy', 'wanna', 'make', 'feel', 'alive', 'night', 'wanna', 'make', 'happy', 'are', 'good', 'girl', 'through', 'night', 'we', 'sink', 'sunk', 'life', 'no', 'race', 'when', 'not', 'happy', 'disgrace', 'so', 'spend', 'time', 'guessing', 'you', 'oh', 'you', 're', 'lover', 'wild', 'joker', 'heart', 'but', 'mine', 'wanna', 'make', 'happy', 'wanna', 'make', 'feel', 'alive', 'let', 'make', 'happy', 'wanna', 'make', 'feel', 'alive', 'night', 'wanna', 'make', 'happy', 'are', 'good', 'girl', 'through', 'night', 'yeah', 'still', 'notice', 'nothing', 'makes', 'shatter', 'no', 'no', 'you', 're', 'lover', 'wild', 'joker', 'heart', 'but', 'mine', 'wanna', 'make', 'happy', 'wanna', 'make', 'feel', 'alive', 'let', 'make', 'happy', 'wanna', 'make', 'feel', 'alive', 'night', 'wanna', 'make', 'happy', 'are', 'good', 'girl', 'through', 'night', '14embed']",
            "count": 1
           },
           {
            "name": "4 others",
            "count": 4
           }
          ]
         }
        },
        {
         "name": "_deepnote_index_column",
         "dtype": "int64"
        }
       ],
       "rows": [
        {
         "artist": "DemiLovato",
         "song_name": "Stone Cold ",
         "id": 1286,
         "lyrics_nostop": "stone cold, stone cold you see standing, i'm dying floor stone cold, stone cold maybe if i don't cry, i won't feel anymore stone cold, baby god knows i try feel happy know i am, even if i can't understand i'll take pain give truth me heart, we'll make through if happy her, i'm happy hmmm, stone cold, stone cold you're dancing her, while i'm staring phone stone cold, stone cold i amber, now she's shade gold stone cold, baby god knows i try feel happy know i am, even if i can't understand i'll take pain give truth me heart, we'll make through if happy her, i'm happy don't wanna stone cold, stone i wish i could mend this, here's goodbye oh, i'm happy know i am, even if i can't understand if happy if happy i'm happy you33embed",
         "tokens": "['stone', 'cold', 'stone', 'cold', 'you', 'see', 'standing', 'dying', 'floor', 'stone', 'cold', 'stone', 'cold', 'maybe', 'if', 'don', 'cry', 'won', 'feel', 'anymore', 'stone', 'cold', 'baby', 'god', 'knows', 'try', 'feel', 'happy', 'know', 'am', 'even', 'if', 'can', 'understand', 'll', 'take', 'pain', 'give', 'truth', 'me', 'heart', 'we', 'll', 'make', 'through', 'if', 'happy', 'her', 'happy', 'hmmm', 'stone', 'cold', 'stone', 'cold', 'you', 're', 'dancing', 'her', 'while', 'staring', 'phone', 'stone', 'cold', 'stone', 'cold', 'amber', 'now', 'she', 'shade', 'gold', 'stone', 'cold', 'baby', 'god', 'knows', 'try', 'feel', 'happy', 'know', 'am', 'even', 'if', 'can', 'understand', 'll', 'take', 'pain', 'give', 'truth', 'me', 'heart', 'we', 'll', 'make', 'through', 'if', 'happy', 'her', 'happy', 'don', 'wanna', 'stone', 'cold', 'stone', 'wish', 'could', 'mend', 'this', 'here', 'goodbye', 'oh', 'happy', 'know', 'am', 'even', 'if', 'can', 'understand', 'if', 'happy', 'if', 'happy', 'happy'…",
         "_deepnote_index_column": 1286
        },
        {
         "artist": "TheKooks",
         "song_name": "Junk of the Heart (Happy) ",
         "id": 2174,
         "lyrics_nostop": "junk heart junk mind so hard leave alone we get so drunk we can hardly see what use me, baby? see, i notice nothing makes shatter, no, no you're lover wild joker heart but mine? i wanna make happy i wanna make feel alive let make happy i wanna make feel alive night i wanna make happy are good girl through night? we sink sunk, life no race when i'm not happy, i'm disgrace so i spend time a-guessing you, oh you're lover wild joker heart but mine? i wanna make happy i wanna make feel alive let make happy i wanna make feel alive night i wanna make happy are good girl through night? yeah still i notice nothing makes shatter no, no you're lover wild joker heart but mine? i wanna make happy i wanna make feel alive let make happy i wanna make feel alive night i wanna make happy are good girl through night?14embed",
         "tokens": "['junk', 'heart', 'junk', 'mind', 'so', 'hard', 'leave', 'alone', 'we', 'get', 'so', 'drunk', 'we', 'can', 'hardly', 'see', 'what', 'use', 'me', 'baby', 'see', 'notice', 'nothing', 'makes', 'shatter', 'no', 'no', 'you', 're', 'lover', 'wild', 'joker', 'heart', 'but', 'mine', 'wanna', 'make', 'happy', 'wanna', 'make', 'feel', 'alive', 'let', 'make', 'happy', 'wanna', 'make', 'feel', 'alive', 'night', 'wanna', 'make', 'happy', 'are', 'good', 'girl', 'through', 'night', 'we', 'sink', 'sunk', 'life', 'no', 'race', 'when', 'not', 'happy', 'disgrace', 'so', 'spend', 'time', 'guessing', 'you', 'oh', 'you', 're', 'lover', 'wild', 'joker', 'heart', 'but', 'mine', 'wanna', 'make', 'happy', 'wanna', 'make', 'feel', 'alive', 'let', 'make', 'happy', 'wanna', 'make', 'feel', 'alive', 'night', 'wanna', 'make', 'happy', 'are', 'good', 'girl', 'through', 'night', 'yeah', 'still', 'notice', 'nothing', 'makes', 'shatter', 'no', 'no', 'you', 're', 'lover', 'wild', 'joker', 'heart', 'but', 'mine', 'wanna'…",
         "_deepnote_index_column": 2174
        },
        {
         "artist": "SherylCrow",
         "song_name": "If It Makes You Happy ",
         "id": 449,
         "lyrics_nostop": "i've long, long way put poncho, played mosquitoes and drank 'til i thirsty again we went searching through thrift store jungles found geronimo's rifle, marilyn's shampoo and benny goodman's corset pen well, okay, i made up i promised i'd never give up if makes happy it can't bad if makes happy then hell so sad? you get down, real low down you listen coltrane, derail own train well, hasn't before? i come 'round, around hard way bring comics bed, scrape mold off bread and serve french toast again well, okay, i still get stoned i'm not kind girl you'd take home if makes happy it can't bad if makes happy then hell so sad? if makes happy it can't bad if makes happy then hell so sad? we've far, far away put poncho, played mosquitoes and everywhere between well, okay, we get along so if right now everything's wrong? if makes happy it can't bad if makes happy then hell so sad? if makes happy it can't bad if makes happy then hell so sad?9embed",
         "tokens": "['ve', 'long', 'long', 'way', 'put', 'poncho', 'played', 'mosquitoes', 'and', 'drank', 'til', 'thirsty', 'again', 'we', 'went', 'searching', 'through', 'thrift', 'store', 'jungles', 'found', 'geronimo', 'rifle', 'marilyn', 'shampoo', 'and', 'benny', 'goodman', 'corset', 'pen', 'well', 'okay', 'made', 'up', 'promised', 'never', 'give', 'up', 'if', 'makes', 'happy', 'it', 'can', 'bad', 'if', 'makes', 'happy', 'then', 'hell', 'so', 'sad', 'you', 'get', 'down', 'real', 'low', 'down', 'you', 'listen', 'coltrane', 'derail', 'own', 'train', 'well', 'hasn', 'before', 'come', 'round', 'around', 'hard', 'way', 'bring', 'comics', 'bed', 'scrape', 'mold', 'off', 'bread', 'and', 'serve', 'french', 'toast', 'again', 'well', 'okay', 'still', 'get', 'stoned', 'not', 'kind', 'girl', 'you', 'take', 'home', 'if', 'makes', 'happy', 'it', 'can', 'bad', 'if', 'makes', 'happy', 'then', 'hell', 'so', 'sad', 'if', 'makes', 'happy', 'it', 'can', 'bad', 'if', 'makes', 'happy', 'then', 'hell', 'so', 'sad', 'we',…",
         "_deepnote_index_column": 449
        },
        {
         "artist": "PharrellWilliams",
         "song_name": "Happy ",
         "id": 1174,
         "lyrics_nostop": "it might seem crazy i'm 'bout say sunshine she's here, can take break i'm hot air balloon could go space with air, like i don't care, baby, way (because i'm happy) clap along if feel like room without roof (because i'm happy) clap along if feel like happiness truth (because i'm happy) clap along if know happiness (because i'm happy) clap along if feel like that's wanna do here come bad news, talking (yeah!) well, give got, don't hold back (yeah!) well, i should probably warn ya, i'll just fine (yeah!) no offense you, don’t waste time, here's (because i'm happy) clap along if feel like room without roof (because i'm happy) clap along if feel like happiness truth (because i'm happy) clap along if know happiness (because i'm happy) clap along if feel like that's wanna do bring down can't nothing bring down my level's too high bring down can't nothing bring down, i said bring down can't nothing bring down my level's too high bring down can't nothing bring down, i said (because i'm happy) …",
         "tokens": "['it', 'might', 'seem', 'crazy', 'bout', 'say', 'sunshine', 'she', 'here', 'can', 'take', 'break', 'hot', 'air', 'balloon', 'could', 'go', 'space', 'with', 'air', 'like', 'don', 'care', 'baby', 'way', 'because', 'happy', 'clap', 'along', 'if', 'feel', 'like', 'room', 'without', 'roof', 'because', 'happy', 'clap', 'along', 'if', 'feel', 'like', 'happiness', 'truth', 'because', 'happy', 'clap', 'along', 'if', 'know', 'happiness', 'because', 'happy', 'clap', 'along', 'if', 'feel', 'like', 'that', 'wanna', 'do', 'here', 'come', 'bad', 'news', 'talking', 'yeah', 'well', 'give', 'got', 'don', 'hold', 'back', 'yeah', 'well', 'should', 'probably', 'warn', 'ya', 'll', 'just', 'fine', 'yeah', 'no', 'offense', 'you', 'don', 'waste', 'time', 'here', 'because', 'happy', 'clap', 'along', 'if', 'feel', 'like', 'room', 'without', 'roof', 'because', 'happy', 'clap', 'along', 'if', 'feel', 'like', 'happiness', 'truth', 'because', 'happy', 'clap', 'along', 'if', 'know', 'happiness', 'because', 'happy', …",
         "_deepnote_index_column": 1174
        },
        {
         "artist": "TheWombats",
         "song_name": "Let’s Dance to Joy Division ",
         "id": 94,
         "lyrics_nostop": "i'm back liverpool everything seems same but i worked something out last night that changed little boy's brain a small piece advice took twenty-two years make and i break now; please learn mistakes please learn mistakes let's dance joy division celebrate irony everything going wrong, we're so happy let's dance joy division raise glass ceiling 'cause could go so wrong, we're so happy yeah, we're so happy... so if you're ever feeling down, grab purse take taxi to darker side town; that's we'll and we wait lead through dance floor up dj booth, know ask you know ask for... go ask joy division celebrate irony everything going wrong, we're so happy let's dance joy division raise glass ceiling 'cause could go so wrong, we're so happy yeah, we're so happy... let love tear apart; i've found cure broken heart let tear apart let love tear apart; i've found cure broken heart let tear apart (let tear apart) so let love tear apart; i've found cure broken heart let tear apart (let tear apart) so let…",
         "tokens": "['back', 'liverpool', 'everything', 'seems', 'same', 'but', 'worked', 'something', 'out', 'last', 'night', 'that', 'changed', 'little', 'boy', 'brain', 'small', 'piece', 'advice', 'took', 'twenty', 'two', 'years', 'make', 'and', 'break', 'now', 'please', 'learn', 'mistakes', 'please', 'learn', 'mistakes', 'let', 'dance', 'joy', 'division', 'celebrate', 'irony', 'everything', 'going', 'wrong', 'we', 're', 'so', 'happy', 'let', 'dance', 'joy', 'division', 'raise', 'glass', 'ceiling', 'cause', 'could', 'go', 'so', 'wrong', 'we', 're', 'so', 'happy', 'yeah', 'we', 're', 'so', 'happy', 'so', 'if', 'you', 're', 'ever', 'feeling', 'down', 'grab', 'purse', 'take', 'taxi', 'to', 'darker', 'side', 'town', 'that', 'we', 'll', 'and', 'we', 'wait', 'lead', 'through', 'dance', 'floor', 'up', 'dj', 'booth', 'know', 'ask', 'you', 'know', 'ask', 'for', 'go', 'ask', 'joy', 'division', 'celebrate', 'irony', 'everything', 'going', 'wrong', 'we', 're', 'so', 'happy', 'let', 'dance', 'joy', 'division', 'ra…",
         "_deepnote_index_column": 94
        },
        {
         "artist": "CatStevens",
         "song_name": "Tea for the Tillerman ",
         "id": 2227,
         "lyrics_nostop": "bring tea tillerman steak sun wine woman made rain come seagulls sing hearts away ’cause while sinners sin the children play oh lord, play play for happy day for happy dayembed",
         "tokens": "['bring', 'tea', 'tillerman', 'steak', 'sun', 'wine', 'woman', 'made', 'rain', 'come', 'seagulls', 'sing', 'hearts', 'away', 'cause', 'while', 'sinners', 'sin', 'the', 'children', 'play', 'oh', 'lord', 'play', 'play', 'for', 'happy', 'day', 'for', 'happy', 'dayembed']",
         "_deepnote_index_column": 2227
        }
       ]
      },
      "text/plain": "                artist                     song_name    id  \\\n1286        DemiLovato                   Stone Cold   1286   \n2174          TheKooks    Junk of the Heart (Happy)   2174   \n449         SherylCrow        If It Makes You Happy    449   \n1174  PharrellWilliams                        Happy   1174   \n94          TheWombats  Let’s Dance to Joy Division     94   \n2227        CatStevens        Tea for the Tillerman   2227   \n\n                                          lyrics_nostop  \\\n1286  stone cold, stone cold you see standing, i'm d...   \n2174  junk heart junk mind so hard leave alone we ge...   \n449   i've long, long way put poncho, played mosquit...   \n1174  it might seem crazy i'm 'bout say sunshine she...   \n94    i'm back liverpool everything seems same but i...   \n2227  bring tea tillerman steak sun wine woman made ...   \n\n                                                 tokens  \n1286  [stone, cold, stone, cold, you, see, standing,...  \n2174  [junk, heart, junk, mind, so, hard, leave, alo...  \n449   [ve, long, long, way, put, poncho, played, mos...  \n1174  [it, might, seem, crazy, bout, say, sunshine, ...  \n94    [back, liverpool, everything, seems, same, but...  \n2227  [bring, tea, tillerman, steak, sun, wine, woma...  ",
      "text/html": "<div>\n<style scoped>\n    .dataframe tbody tr th:only-of-type {\n        vertical-align: middle;\n    }\n\n    .dataframe tbody tr th {\n        vertical-align: top;\n    }\n\n    .dataframe thead th {\n        text-align: right;\n    }\n</style>\n<table border=\"1\" class=\"dataframe\">\n  <thead>\n    <tr style=\"text-align: right;\">\n      <th></th>\n      <th>artist</th>\n      <th>song_name</th>\n      <th>id</th>\n      <th>lyrics_nostop</th>\n      <th>tokens</th>\n    </tr>\n  </thead>\n  <tbody>\n    <tr>\n      <th>1286</th>\n      <td>DemiLovato</td>\n      <td>Stone Cold</td>\n      <td>1286</td>\n      <td>stone cold, stone cold you see standing, i'm d...</td>\n      <td>[stone, cold, stone, cold, you, see, standing,...</td>\n    </tr>\n    <tr>\n      <th>2174</th>\n      <td>TheKooks</td>\n      <td>Junk of the Heart (Happy)</td>\n      <td>2174</td>\n      <td>junk heart junk mind so hard leave alone we ge...</td>\n      <td>[junk, heart, junk, mind, so, hard, leave, alo...</td>\n    </tr>\n    <tr>\n      <th>449</th>\n      <td>SherylCrow</td>\n      <td>If It Makes You Happy</td>\n      <td>449</td>\n      <td>i've long, long way put poncho, played mosquit...</td>\n      <td>[ve, long, long, way, put, poncho, played, mos...</td>\n    </tr>\n    <tr>\n      <th>1174</th>\n      <td>PharrellWilliams</td>\n      <td>Happy</td>\n      <td>1174</td>\n      <td>it might seem crazy i'm 'bout say sunshine she...</td>\n      <td>[it, might, seem, crazy, bout, say, sunshine, ...</td>\n    </tr>\n    <tr>\n      <th>94</th>\n      <td>TheWombats</td>\n      <td>Let’s Dance to Joy Division</td>\n      <td>94</td>\n      <td>i'm back liverpool everything seems same but i...</td>\n      <td>[back, liverpool, everything, seems, same, but...</td>\n    </tr>\n    <tr>\n      <th>2227</th>\n      <td>CatStevens</td>\n      <td>Tea for the Tillerman</td>\n      <td>2227</td>\n      <td>bring tea tillerman steak sun wine woman made ...</td>\n      <td>[bring, tea, tillerman, steak, sun, wine, woma...</td>\n    </tr>\n  </tbody>\n</table>\n</div>"
     },
     "metadata": {}
    }
   ],
   "execution_count": 65
  },
  {
   "cell_type": "markdown",
   "source": "If you look at the lyrics, key words like \"happy\" and \"give\" show up a lot, but the query is only stop words and those two words, and there are no stop words in the lyrics! So we need to look at some other methods.",
   "metadata": {
    "cell_id": "06bd8f2499bf456c9900e029222eac4a",
    "tags": [],
    "is_collapsed": false,
    "formattedRanges": [],
    "deepnote_cell_type": "text-cell-p"
   }
  },
  {
   "cell_type": "markdown",
   "source": "My idea is to incorporate some data from spotify, as they have some nice metrics such as 'danceability', 'energy', 'loudness' etc. If we create a vector for each song, we can use a similar method to the one above, where we measure the 'closeness' of each vector. The query in this case would have to be a song, so we can extract the same metrics and measure closeness.",
   "metadata": {
    "cell_id": "22c4d77534594d72aabb58d06ac89e6c",
    "tags": [],
    "is_collapsed": false,
    "formattedRanges": [],
    "owner_user_id": "f4dc0182-7c34-4962-a1d6-446635695a61",
    "deepnote_cell_type": "text-cell-p"
   }
  },
  {
   "cell_type": "markdown",
   "source": "",
   "metadata": {
    "cell_id": "52777205c27c45149725e03c43b365ad",
    "tags": [],
    "is_collapsed": false,
    "formattedRanges": [],
    "deepnote_cell_type": "text-cell-p"
   }
  },
  {
   "cell_type": "markdown",
   "source": "<a style='text-decoration:none;line-height:16px;display:flex;color:#5B5B62;padding:10px;justify-content:end;' href='https://deepnote.com?utm_source=created-in-deepnote-cell&projectId=020269be-b327-479a-994d-3e58f34cfdc4' target=\"_blank\">\n<img alt='Created in deepnote.com' style='display:inline;max-height:16px;margin:0px;margin-right:7.5px;' src='data:image/svg+xml;base64,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' > </img>\nCreated in <span style='font-weight:600;margin-left:4px;'>Deepnote</span></a>",
   "metadata": {
    "tags": [],
    "created_in_deepnote_cell": true,
    "deepnote_cell_type": "markdown"
   }
  }
 ],
 "nbformat": 4,
 "nbformat_minor": 2,
 "metadata": {
  "orig_nbformat": 2,
  "deepnote": {
   "is_reactive": false
  },
  "deepnote_notebook_id": "50c68a69-c321-4e24-b142-cdaa47048c60",
  "deepnote_execution_queue": []
 }
}